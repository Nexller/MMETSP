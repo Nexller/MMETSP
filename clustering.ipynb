{
 "cells": [
  {
   "cell_type": "code",
   "execution_count": 2,
   "metadata": {
    "collapsed": false
   },
   "outputs": [
    {
     "name": "stdout",
     "output_type": "stream",
     "text": [
      "\n",
      "\n",
      "-first extracting base frequencies, we'll need them later.\n",
      "CMD: /usr/lib/transdecoder/util/compute_base_probs.pl Trinity.fasta 0 > Trinity.fasta.transdecoder_dir/base_freqs.dat\n",
      "CMD: touch Trinity.fasta.transdecoder_dir/base_freqs.dat.ok\n",
      "\n",
      "\n",
      "- extracting ORFs from transcripts.\n",
      "-total transcripts to examine: 39259\n",
      "[39200/39259] = 99.85% done    \n",
      "\n",
      "#################################\n",
      "### Done preparing long ORFs.  ###\n",
      "##################################\n",
      "\n",
      "\tUse file: Trinity.fasta.transdecoder_dir/longest_orfs.pep  for Pfam and/or BlastP searches to enable homology-based coding region identification.\n",
      "\n",
      "\tThen, run TransDecoder.Predict for your final coding region predictions.\n",
      "\n",
      "\n",
      "CMD: /usr/lib/transdecoder/util/get_top_longest_fasta_entries.pl Trinity.fasta.transdecoder_dir/longest_orfs.cds 5000 > Trinity.fasta.transdecoder_dir/longest_orfs.cds.top_longest_5000\n",
      "CMD: /usr/lib/cd-hit/cd-hit-est -r 1 -i Trinity.fasta.transdecoder_dir/longest_orfs.cds.top_longest_5000 -c 0.80 -o Trinity.fasta.transdecoder_dir/longest_orfs.cds.top_longest_5000.nr80 -M 0 \n",
      "================================================================\n",
      "Program: CD-HIT, V4.6 (+OpenMP), Oct 21 2013, 16:36:23\n",
      "Command: /usr/lib/cd-hit/cd-hit-est -r 1 -i\n",
      "         Trinity.fasta.transdecoder_dir/longest_orfs.cds.top_longest_5000\n",
      "         -c 0.80 -o\n",
      "         Trinity.fasta.transdecoder_dir/longest_orfs.cds.top_longest_5000.nr80\n",
      "         -M 0\n",
      "\n",
      "Started: Sat Jun 18 22:08:45 2016\n",
      "================================================================\n",
      "                            Output                              \n",
      "----------------------------------------------------------------\n",
      "total seq: 5000\n",
      "longest and shortest : 13599 and 864\n",
      "Total letters: 7281252\n",
      "Sequences have been sorted\n",
      "\n",
      "Approximated minimal memory consumption:\n",
      "Sequence        : 7M\n",
      "Buffer          : 1 X 14M = 14M\n",
      "Table           : 1 X 16M = 16M\n",
      "Miscellaneous   : 4M\n",
      "Total           : 44M\n",
      "\n",
      "Table limit with the given memory limit:\n",
      "Max number of representatives: 4000000\n",
      "Max number of word counting entries: 773799500\n",
      "\n",
      "comparing sequences from          0  to       5000\n",
      "..^CError, cmd: /usr/lib/cd-hit/cd-hit-est -r 1 -i Trinity.fasta.transdecoder_dir/longest_orfs.cds.top_longest_5000 -c 0.80 -o Trinity.fasta.transdecoder_dir/longest_orfs.cds.top_longest_5000.nr80 -M 0  died with ret 2 at /usr/bin/TransDecoder.Predict line 292.\n",
      "\n",
      "sed: can't read Trinity.fasta.transdecoder.pep: No such file or directory\n"
     ]
    }
   ],
   "source": [
    "!TransDecoder.LongOrfs -t Trinity.fasta\n",
    "!TransDecoder.Predict -t Trinity.fasta\n",
    "!sed -i 's/*//g' Trinity.fasta.transdecoder.pep > Trinity.fasta.transdecoder.fixed.pep"
   ]
  },
  {
   "cell_type": "code",
   "execution_count": null,
   "metadata": {
    "collapsed": false
   },
   "outputs": [],
   "source": [
    "!export MMDIR=/home/ljcohen/MMseqs\n",
    "!export PATH=$PATH:$MMDIR/bin\n",
    "!export LD_LIBRARY_PATH=$LD_LIBRARY_PATH:$MMDIR/lib/ffindex/src"
   ]
  },
  {
   "cell_type": "code",
   "execution_count": null,
   "metadata": {
    "collapsed": false
   },
   "outputs": [],
   "source": [
    "!fasta2ffindex Trinity.fasta.transdecoder.fixed.pep db\n",
    "!mmseqs_cluster db db_clu_s9 tmp --cascaded -s 9\n",
    "!ffindex2fasta db_clu_s9 db_clu_s9.fasta"
   ]
  },
  {
   "cell_type": "code",
   "execution_count": null,
   "metadata": {
    "collapsed": true
   },
   "outputs": [],
   "source": [
    "!python /home/ljcohen/peppy/peppy.py -m 100 Trinity.fasta > Trinity.peppy.fasta\n",
    "!fasta2ffindex Trinity.peppy.fasta db_peppy\n",
    "!mmseqs_cluster db_peppy db_peppy_s9 tmp --cascaded -s 9\n",
    "!ffindex2fasta db_peppy_s9 db_peppy_s9.fasta"
   ]
  },
  {
   "cell_type": "code",
   "execution_count": null,
   "metadata": {
    "collapsed": true
   },
   "outputs": [],
   "source": [
    "!grep \">\" db_peppy_s9.fasta | wc -l"
   ]
  }
 ],
 "metadata": {
  "kernelspec": {
   "display_name": "Python 2",
   "language": "python",
   "name": "python2"
  },
  "language_info": {
   "codemirror_mode": {
    "name": "ipython",
    "version": 2
   },
   "file_extension": ".py",
   "mimetype": "text/x-python",
   "name": "python",
   "nbconvert_exporter": "python",
   "pygments_lexer": "ipython2",
   "version": "2.7.11"
  }
 },
 "nbformat": 4,
 "nbformat_minor": 0
}
