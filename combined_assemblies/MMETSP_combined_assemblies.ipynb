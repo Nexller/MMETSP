{
 "cells": [
  {
   "cell_type": "code",
   "execution_count": 1,
   "metadata": {
    "collapsed": true
   },
   "outputs": [],
   "source": [
    "import pickle"
   ]
  },
  {
   "cell_type": "code",
   "execution_count": 3,
   "metadata": {
    "collapsed": true
   },
   "outputs": [],
   "source": [
    "MMETSP_combined = pickle.load(open(\"MMETSP_combined.dict.pickle\", \"rb\" ))"
   ]
  },
  {
   "cell_type": "code",
   "execution_count": 4,
   "metadata": {},
   "outputs": [
    {
     "name": "stdout",
     "output_type": "stream",
     "text": [
      "{'Acanthoeca_like-sp-10tr': ['MMETSP0106', 'MMETSP0105'], 'Alexandrium-fundyense-CCMP1719': ['MMETSP0196C', 'MMETSP0347'], 'Alexandrium-monilatum-CCMP3105': ['MMETSP0096', 'MMETSP0095', 'MMETSP0093', 'MMETSP0097'], 'Alexandrium-temarense-CCMP1771': ['MMETSP0378', 'MMETSP0380', 'MMETSP0384', 'MMETSP0382'], 'Amphidinium-carterae-CCMP1314': ['MMETSP0258', 'MMETSP0398C', 'MMETSP0259'], 'Amphiprora-sp': ['MMETSP0724', 'MMETSP0725', 'MMETSP0726', 'MMETSP0727'], 'Amphora-coffeaeformis-CCMP127': ['MMETSP0316', 'MMETSP0318', 'MMETSP0317'], 'Aplanochytrium-sp-PBS07': ['MMETSP0954', 'MMETSP0955', 'MMETSP0956', 'MMETSP0957'], 'Aplanochytrium-stocchinoi-GSBS06': ['MMETSP1346', 'MMETSP1347', 'MMETSP1348', 'MMETSP1349'], 'Asterionellopsis-glacialis-CCMP134': ['MMETSP0705', 'MMETSP0708', 'MMETSP0707', 'MMETSP0706'], 'Aurantiochytrium-limacinum-ATCCMYA1381': ['MMETSP0961', 'MMETSP0958', 'MMETSP0960', 'MMETSP0959'], 'Aureococcus-anophagefferens-CCMP1850': ['MMETSP0916', 'MMETSP0914', 'MMETSP0917', 'MMETSP0915'], 'Aureoumbra-lagunensis-CCMP1510': ['MMETSP0893', 'MMETSP0892', 'MMETSP0891', 'MMETSP0890'], 'Azadinium-spinosum-3D9': ['MMETSP1036', 'MMETSP1037', 'MMETSP1038'], 'Ceratium-fusus-PA161109': ['MMETSP1075', 'MMETSP1074'], 'Chaetoceros-affinis-CCMP159': ['MMETSP0090', 'MMETSP0088', 'MMETSP0091', 'MMETSP0092'], 'Chaetoceros-curvisetus': ['MMETSP0719', 'MMETSP0716', 'MMETSP0718', 'MMETSP0717'], 'Chaetoceros-debilis-MM31A_1': ['MMETSP0150', 'MMETSP0149'], 'Chaetoceros-neogracile-CCMP1317': ['MMETSP0754', 'MMETSP0752', 'MMETSP0751', 'MMETSP0753'], 'Chattonella-subsalsa-CCMP2191': ['MMETSP0947', 'MMETSP0948', 'MMETSP0950', 'MMETSP0949'], 'Chrysochromulina-polylepis-CCMP1757': ['MMETSP0146', 'MMETSP0147', 'MMETSP0143', 'MMETSP0145'], 'Corethron-pennatum-L29A3': ['MMETSP0171', 'MMETSP0169'], 'Crypthecodinium-cohnii-Seligo': ['MMETSP0325', 'MMETSP0326', 'MMETSP0324', 'MMETSP0323'], 'Debaryomyces-hansenii-J26': ['MMETSP0235', 'MMETSP0232', 'MMETSP0234', 'MMETSP0233'], 'Dinobryon-sp-UTEXLB2267': ['MMETSP0019', 'MMETSP0020', 'MMETSP0812'], 'Ditylum-brightwellii-GSO103': ['MMETSP1002', 'MMETSP1005'], 'Ditylum-brightwellii-GSO104': ['MMETSP1010', 'MMETSP1013', 'MMETSP1012'], 'Ditylum-brightwellii-GSO105': ['MMETSP0998', 'MMETSP1001'], 'Dunaliella-tertiolecta-CCMP1320': ['MMETSP1126', 'MMETSP1128', 'MMETSP1127'], 'Durinskia-baltica-CSIRO_CS-38': ['MMETSP0117', 'MMETSP0116'], 'Emiliania-huxleyi-374': ['MMETSP1007', 'MMETSP1009', 'MMETSP1006', 'MMETSP1008'], 'Emiliania-huxleyi-379': ['MMETSP0994', 'MMETSP0996', 'MMETSP0997', 'MMETSP0995'], 'Emiliania-huxleyi-CCMP370': ['MMETSP1155', 'MMETSP1154', 'MMETSP1156', 'MMETSP1157'], 'Emiliania-huxleyi-PLYM219': ['MMETSP1153', 'MMETSP1151', 'MMETSP1152', 'MMETSP1150'], 'Eutreptiella-gymnastica_like-CCMP1594': ['MMETSP0810', 'MMETSP0809', 'MMETSP0811'], 'Favella_taraikaensis_FeNarragansettBay': ['MMETSP0436', 'MMETSP0434'], 'Fragilariopsis-kerguelensis-L26_C5': ['MMETSP0906', 'MMETSP0909', 'MMETSP0907', 'MMETSP0908'], 'Fragilariopsis-kerguelensis-L2_C3': ['MMETSP0906', 'MMETSP0909', 'MMETSP0907', 'MMETSP0908'], 'Gephyrocapsa-oceanica-RCC1303': ['MMETSP1366', 'MMETSP1363', 'MMETSP1364', 'MMETSP1365'], 'Glenodinium-foliaceum-CCAP1116_3': ['MMETSP0118', 'MMETSP0119'], 'Gloeochaete-witrockiana-SAG46_84': ['MMETSP0308', 'MMETSP1089'], 'Goniomonas-pacifica-CCMP1869': ['MMETSP0108', 'MMETSP0107'], 'Heterosigma-akashiwo-CCMP2393': ['MMETSP0411', 'MMETSP0409', 'MMETSP0410'], 'Heterosigma-akashiwo-CCMP3107': ['MMETSP0411', 'MMETSP0409', 'MMETSP0410'], 'Heterosigma-akashiwo-CCMP452': ['MMETSP0896', 'MMETSP0894', 'MMETSP0897', 'MMETSP0895'], 'Heterosigma-akashiwo-NB': ['MMETSP0414', 'MMETSP0415', 'MMETSP0416'], 'Isochrysis-galbana-CCMP1323': ['MMETSP0944', 'MMETSP0943', 'MMETSP0595'], 'Isochrysis-sp-CCMP1244': ['MMETSP1388', 'MMETSP1090'], 'Isochrysis-sp-CCMP1324': ['MMETSP1131', 'MMETSP1132', 'MMETSP1129', 'MMETSP1130'], 'Karenia-brevis-CCMP2229': ['MMETSP0027', 'MMETSP0031', 'MMETSP0029', 'MMETSP0030'], 'Karenia-brevis-SP1': ['MMETSP0573', 'MMETSP0574'], 'Karenia-brevis-SP3': ['MMETSP0528', 'MMETSP0527'], 'Karenia-brevis-Wilson': ['MMETSP0202', 'MMETSP0201', 'MMETSP0648', 'MMETSP0649'], 'Karlodinium-micrum-CCMP2283': ['MMETSP1016', 'MMETSP1015', 'MMETSP1017'], 'Kryptoperidinium-foliaceum-CCMP1326': ['MMETSP0120', 'MMETSP0121'], 'Lingulodinium-polyedra-CCMP1738': ['MMETSP1034', 'MMETSP1032', 'MMETSP1035', 'MMETSP1033'], 'Lotharella-globosa-CCCM811': ['MMETSP0112', 'MMETSP0111'], 'Micromonas-sp-CCMP2099': ['MMETSP0802', 'MMETSP1390'], 'Micromonas-sp-NEPCC29': ['MMETSP1084', 'MMETSP1387'], 'Micromonas-sp-RCC472': ['MMETSP1084', 'MMETSP1387'], 'Nitzschia-punctata-CCMP561': ['MMETSP0746', 'MMETSP0744', 'MMETSP0745', 'MMETSP0747'], 'Ochromonas-sp-CCMP1393': ['MMETSP0005', 'MMETSP0004'], 'Oxyrrhis-marina': ['MMETSP0471', 'MMETSP0469', 'MMETSP0470', 'MMETSP0468'], 'Oxyrrhis-marina-CCMP1795': ['MMETSP1426', 'MMETSP1424', 'MMETSP1425'], 'Oxyrrhis-marina-LB1974': ['MMETSP1426', 'MMETSP1424', 'MMETSP1425'], 'Paraphysomonas-imperforata-PA2': ['MMETSP0104', 'MMETSP0103'], 'Pavlova-sp-CCMP459': ['MMETSP1139', 'MMETSP1381', 'MMETSP1140'], 'Pelagococcus-subviridis-CCMP1429': ['MMETSP0883', 'MMETSP0885', 'MMETSP0884', 'MMETSP0882'], 'Pelagomonas-calceolata-CCMP1756': ['MMETSP0888', 'MMETSP0887', 'MMETSP0889', 'MMETSP0886'], 'Peridinium-aciculiferum-PAER_2': ['MMETSP0370', 'MMETSP0371'], 'Perkinsus-chesapeaki-ATCC_PRA_65': ['MMETSP0924C'], 'Perkinsus-marinus-ATCC50439': ['MMETSP0922'], 'Picocystis-salinarum-CCMP1897': ['MMETSP0807'], 'Pleurochrysis-carterae-CCMP645': ['MMETSP1137', 'MMETSP1136', 'MMETSP1138'], 'Proboscia-alata-PI_D3': ['MMETSP0174', 'MMETSP0176'], 'Prorocentrum-minimum-CCMP2233': ['MMETSP0269', 'MMETSP0267', 'MMETSP0268'], 'Prymnesium-parvum-Texoma1': ['MMETSP0008', 'MMETSP0006', 'MMETSP0815', 'MMETSP0814', 'MMETSP0007'], 'Pseudo_nitzschia-australis-10249_10_AB': ['MMETSP0139', 'MMETSP0140', 'MMETSP0141', 'MMETSP0142'], 'Pseudo_nitzschia-fradulenta-WWA7': ['MMETSP0852', 'MMETSP0853', 'MMETSP0850', 'MMETSP0851'], 'Pseudopedinella-elastica-CCMP716': ['MMETSP1068', 'MMETSP1097'], 'Pteridomonas-danica-PT': ['MMETSP0101', 'MMETSP0102'], 'Pyramimonas-parkeae-CCMP726': ['MMETSP0059', 'MMETSP0058'], 'Rhodella-maculata-CCMP736': ['MMETSP0167', 'MMETSP0314'], 'Rhodomonas-sp-CCMP768': ['MMETSP1091', 'MMETSP1389'], 'Schizochytrium-aggregatum-ATCC28209': ['MMETSP0965', 'MMETSP0963', 'MMETSP0962', 'MMETSP0964'], 'Scrippsiella-hangoei-SHTV5': ['MMETSP0361', 'MMETSP0359', 'MMETSP0360'], 'Scrippsiella-hangoei_like-SHHI_4': ['MMETSP0368', 'MMETSP0369', 'MMETSP0367'], 'Scrippsiella-trochoidea-CCMP3099': ['MMETSP0272', 'MMETSP0271', 'MMETSP0270'], 'Skeletonema-dohrnii-SkelB': ['MMETSP0563', 'MMETSP0562'], 'Skeletonema-marinoi-SkelA': ['MMETSP0918', 'MMETSP0920'], 'Skeletonema-menzelii-CCMP793': ['MMETSP0603', 'MMETSP0604'], 'Symbiodinium-kawagutii-CCMP2468': ['MMETSP0132_2C'], 'Symbiodinium-sp-C1': ['MMETSP1367', 'MMETSP1369'], 'Symbiodinium-sp-C15': ['MMETSP1370', 'MMETSP1371'], 'Symbiodinium-sp-CCMP2430': ['MMETSP1117', 'MMETSP1115', 'MMETSP1116'], 'Symbiodinium-sp-Mp': ['MMETSP1124', 'MMETSP1123', 'MMETSP1122', 'MMETSP1125'], 'Tetraselmis-striata-LANL1001': ['MMETSP0818', 'MMETSP0820', 'MMETSP0817', 'MMETSP0819'], 'Thalassionema-nitzschioides-L26_B': ['MMETSP0158', 'MMETSP0156'], 'Thalassiosira-antarctica-CCMP982': ['MMETSP0902', 'MMETSP0903', 'MMETSP0905', 'MMETSP0904'], 'Thalassiosira-gravida-GMp14c1': ['MMETSP0494', 'MMETSP0492', 'MMETSP0493'], 'Thalassiosira-miniscula-CCMP1093': ['MMETSP0737', 'MMETSP0740', 'MMETSP0738', 'MMETSP0739'], 'Thalassiosira-oceanica-CCMP1005': ['MMETSP0971', 'MMETSP0972', 'MMETSP0970', 'MMETSP0973'], 'Thalassiosira-rotula-CCMP3096': ['MMETSP0404', 'MMETSP0403'], 'Thalassiosira-rotula-GSO102': ['MMETSP0910', 'MMETSP0911', 'MMETSP0912', 'MMETSP0913'], 'Thalassiosira-weissflogii-CCMP1010': ['MMETSP1414', 'MMETSP1415', 'MMETSP0900', 'MMETSP0899', 'MMETSP0898', 'MMETSP1411', 'MMETSP0901', 'MMETSP1412', 'MMETSP1413', 'MMETSP1406', 'MMETSP1421', 'MMETSP1407', 'MMETSP1422', 'MMETSP1408', 'MMETSP1409', 'MMETSP1410', 'MMETSP1416', 'MMETSP1417', 'MMETSP1418', 'MMETSP1419', 'MMETSP1405', 'MMETSP1420'], 'Thalassiosira-weissflogii-CCMP1336': ['MMETSP0880', 'MMETSP0878', 'MMETSP0879', 'MMETSP0881'], 'Thalassiothrix-antarctica-L6_D1': ['MMETSP0152', 'MMETSP0154'], 'Thraustochytrium-sp-LLF1b': ['MMETSP0198', 'MMETSP0199'], 'Undescribed-sp-CCMP2097': ['MMETSP0975', 'MMETSP0976', 'MMETSP0974', 'MMETSP0977'], 'Undescribed-sp-CCMP2098': ['MMETSP0992', 'MMETSP0990', 'MMETSP0993', 'MMETSP0991'], 'Undescribed-sp-CCMP2293': ['MMETSP0988', 'MMETSP0987', 'MMETSP0986', 'MMETSP0989'], 'Undescribed-sp-CCMP2436': ['MMETSP0984', 'MMETSP0982', 'MMETSP0985', 'MMETSP0983'], 'Undescribed-sp-D1': ['MMETSP0087', 'MMETSP0086'], 'Undescribed-sp-isolateNY0313808BC1': ['MMETSP0099', 'MMETSP0100', 'MMETSP0098'], 'Undescribed-undescribed-CCMP2298': ['MMETSP1144', 'MMETSP1142', 'MMETSP1143', 'MMETSP1141']}\n"
     ]
    }
   ],
   "source": [
    "print(MMETSP_combined)"
   ]
  },
  {
   "cell_type": "code",
   "execution_count": null,
   "metadata": {
    "collapsed": true
   },
   "outputs": [],
   "source": []
  }
 ],
 "metadata": {
  "kernelspec": {
   "display_name": "Python 3",
   "language": "python",
   "name": "python3"
  },
  "language_info": {
   "codemirror_mode": {
    "name": "ipython",
    "version": 3
   },
   "file_extension": ".py",
   "mimetype": "text/x-python",
   "name": "python",
   "nbconvert_exporter": "python",
   "pygments_lexer": "ipython3",
   "version": "3.6.3"
  }
 },
 "nbformat": 4,
 "nbformat_minor": 2
}
