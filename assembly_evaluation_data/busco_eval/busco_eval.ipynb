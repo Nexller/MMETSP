{
 "cells": [
  {
   "cell_type": "code",
   "execution_count": 34,
   "metadata": {},
   "outputs": [],
   "source": [
    "import os\n",
    "import pandas as pd\n",
    "import path\n",
    "import subprocess\n",
    "from subprocess import Popen, PIPE\n",
    "import json"
   ]
  },
  {
   "cell_type": "code",
   "execution_count": 48,
   "metadata": {},
   "outputs": [
    {
     "name": "stdout",
     "output_type": "stream",
     "text": [
      "['missing_busco_list_MMETSP0045.tsv', 'missing_busco_list_MMETSP0121.tsv', 'missing_busco_list_MMETSP0232.tsv', 'missing_busco_list_MMETSP0169.tsv', 'missing_busco_list_MMETSP0439.tsv', 'missing_busco_list_MMETSP0717.tsv', 'missing_busco_list_MMETSP0932.tsv', 'missing_busco_list_MMETSP0329.tsv']\n",
      "['missing_busco_list_MMETSP0045.tsv', 'missing_busco_list_MMETSP0121.tsv', 'missing_busco_list_MMETSP0232.tsv', 'missing_busco_list_MMETSP0169.tsv', 'missing_busco_list_MMETSP0439.tsv', 'missing_busco_list_MMETSP0717.tsv', 'missing_busco_list_MMETSP0932.tsv', 'missing_busco_list_MMETSP0329.tsv']\n"
     ]
    }
   ],
   "source": [
    "DIB_dir = \"DIB/\"\n",
    "NCGR_dir = \"NCGR/\"\n",
    "DIB_files = os.listdir(DIB_dir)\n",
    "print(DIB_files)\n",
    "NCGR_files = os.listdir(NCGR_dir)\n",
    "print(NCGR_files)"
   ]
  },
  {
   "cell_type": "code",
   "execution_count": 53,
   "metadata": {},
   "outputs": [
    {
     "name": "stdout",
     "output_type": "stream",
     "text": [
      "MMETSP0045\n",
      "Missing in DIB: 142\n",
      "Missing in NCGR: 51\n",
      "Missing only in DIB (should be present in NCGR): 91\n",
      "MMETSP0121\n",
      "Missing in DIB: 130\n",
      "Missing in NCGR: 77\n",
      "Missing only in DIB (should be present in NCGR): 53\n",
      "MMETSP0232\n",
      "Missing in DIB: 294\n",
      "Missing in NCGR: 30\n",
      "Missing only in DIB (should be present in NCGR): 264\n",
      "MMETSP0169\n",
      "Missing in DIB: 215\n",
      "Missing in NCGR: 49\n",
      "Missing only in DIB (should be present in NCGR): 171\n",
      "MMETSP0439\n",
      "Missing in DIB: 282\n",
      "Missing in NCGR: 39\n",
      "Missing only in DIB (should be present in NCGR): 243\n",
      "MMETSP0717\n",
      "Missing in DIB: 141\n",
      "Missing in NCGR: 51\n",
      "Missing only in DIB (should be present in NCGR): 91\n",
      "MMETSP0932\n",
      "Missing in DIB: 265\n",
      "Missing in NCGR: 39\n",
      "Missing only in DIB (should be present in NCGR): 226\n",
      "MMETSP0329\n",
      "Missing in DIB: 280\n",
      "Missing in NCGR: 37\n",
      "Missing only in DIB (should be present in NCGR): 243\n"
     ]
    }
   ],
   "source": [
    "# What is in NCGR not in DIB?\n",
    "common_dib = []\n",
    "for missing_file in DIB_files:\n",
    "    MMETSP = missing_file.split(\"_\")[3]\n",
    "    print(MMETSP[:-4])\n",
    "    df_dib = pd.read_csv(DIB_dir+missing_file,skiprows=3)\n",
    "    df_dib.columns = ['orthodb']\n",
    "    print(\"Missing in DIB:\",len(df_dib))\n",
    "    for missing_file2 in NCGR_files:\n",
    "        sample = missing_file2.split(\"_\")[3]\n",
    "        if MMETSP == sample:\n",
    "            df_ncgr = pd.read_csv(NCGR_dir+missing_file2,skiprows=3)\n",
    "            df_ncgr.columns = ['orthodb']\n",
    "            print(\"Missing in NCGR:\",len(df_ncgr))\n",
    "            unique_dib = df_dib[~df_dib.orthodb.isin(df_ncgr.orthodb)].dropna()\n",
    "            print(\"Missing only in DIB (should be present in NCGR):\",len(unique_dib))\n",
    "            dib_list = unique_dib['orthodb'].values.tolist()\n",
    "            for i in dib_list:\n",
    "                common_dib.append(i)"
   ]
  },
  {
   "cell_type": "code",
   "execution_count": 10,
   "metadata": {},
   "outputs": [
    {
     "name": "stdout",
     "output_type": "stream",
     "text": [
      "1382\n"
     ]
    }
   ],
   "source": [
    "print(len(common_dib))"
   ]
  },
  {
   "cell_type": "code",
   "execution_count": 11,
   "metadata": {},
   "outputs": [
    {
     "name": "stdout",
     "output_type": "stream",
     "text": [
      "Unique orthodb: 302\n"
     ]
    }
   ],
   "source": [
    "occurences = {}\n",
    "for i in common_dib:\n",
    "    if i in occurences:\n",
    "        occurences[i]+=1\n",
    "    else:\n",
    "        occurences[i] = 1\n",
    "print('Unique orthodb:',len(occurences))\n",
    "sort = [(k, occurences[k]) for k in sorted(occurences, key=occurences.get, reverse=True)]"
   ]
  },
  {
   "cell_type": "code",
   "execution_count": 54,
   "metadata": {},
   "outputs": [],
   "source": [
    "more_than_one = []\n",
    "for s in sort:\n",
    "    if int(s[1]) >= 8:\n",
    "        more_than_one.append(s[0])"
   ]
  },
  {
   "cell_type": "code",
   "execution_count": 55,
   "metadata": {},
   "outputs": [
    {
     "name": "stdout",
     "output_type": "stream",
     "text": [
      "5\n"
     ]
    }
   ],
   "source": [
    "print(len(more_than_one))"
   ]
  },
  {
   "cell_type": "code",
   "execution_count": 56,
   "metadata": {},
   "outputs": [
    {
     "name": "stdout",
     "output_type": "stream",
     "text": [
      "['EOG0937029K', 'EOG09370F1Q', 'EOG09370KJ3', 'EOG09370OHP', 'EOG09370S0F']\n"
     ]
    }
   ],
   "source": [
    "print(more_than_one)"
   ]
  },
  {
   "cell_type": "code",
   "execution_count": 57,
   "metadata": {
    "collapsed": true
   },
   "outputs": [],
   "source": [
    "# busco API\n",
    "# https://www.orthodb.org/?page=api\n",
    "# format: http://www.orthodb.org/CMD?ARG1=\"value\"&ARG2=\"value&"
   ]
  },
  {
   "cell_type": "code",
   "execution_count": 58,
   "metadata": {},
   "outputs": [
    {
     "name": "stdout",
     "output_type": "stream",
     "text": [
      "Vps54-like\n",
      "apoptosis antagonizing transcription factor \n",
      "Exosome complex RNA-binding protein 1/RRP40/RRP4\n",
      "tRNA (1-methyladenosine) methyltransferase catalytic subunit Gcd14\n",
      "Ribosome biogenesis protein\n"
     ]
    }
   ],
   "source": [
    "for i in more_than_one:\n",
    "    command_parts = ['wget ','http://www.orthodb.org','/group?','id=',i,' -O ',i,'.orthodb']\n",
    "    command = ''.join(command_parts)\n",
    "    #print(command)\n",
    "    #s = subprocess.Popen(command, shell=True)\n",
    "    #s.wait()\n",
    "    eog_filename = i+'.orthodb'\n",
    "    with open(eog_filename) as r:\n",
    "        lines = r.readlines()\n",
    "        j = json.loads(lines[0])\n",
    "        data = j[\"data\"]\n",
    "        name = data[\"name\"]\n",
    "        print(name)"
   ]
  },
  {
   "cell_type": "code",
   "execution_count": null,
   "metadata": {
    "collapsed": true
   },
   "outputs": [],
   "source": []
  }
 ],
 "metadata": {
  "kernelspec": {
   "display_name": "Python 3",
   "language": "python",
   "name": "python3"
  },
  "language_info": {
   "codemirror_mode": {
    "name": "ipython",
    "version": 3
   },
   "file_extension": ".py",
   "mimetype": "text/x-python",
   "name": "python",
   "nbconvert_exporter": "python",
   "pygments_lexer": "ipython3",
   "version": "3.6.3"
  }
 },
 "nbformat": 4,
 "nbformat_minor": 2
}
