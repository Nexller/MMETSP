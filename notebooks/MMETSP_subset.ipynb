{
 "cells": [
  {
   "cell_type": "markdown",
   "metadata": {},
   "source": [
    "# Subsetting MMETSP samples by transcriptome evaluation metrics"
   ]
  },
  {
   "cell_type": "markdown",
   "metadata": {},
   "source": [
    "# Poor"
   ]
  },
  {
   "cell_type": "markdown",
   "metadata": {},
   "source": [
    "* Problems running Trinity\n",
    "* n contigs (large differences between NCGR and DIB)\n",
    "* unique k-mers (k=25)\n",
    "* annotations\n",
    "* Complete BUSCO\n",
    "* % ORF"
   ]
  },
  {
   "cell_type": "code",
   "execution_count": 10,
   "metadata": {},
   "outputs": [
    {
     "name": "stdout",
     "output_type": "stream",
     "text": [
      "Populating the interactive namespace from numpy and matplotlib\n"
     ]
    }
   ],
   "source": [
    "%matplotlib inline\n",
    "%pylab inline\n",
    "import pandas as pd\n",
    "import pylab as pl\n",
    "import matplotlib.pyplot as plt\n",
    "import palettable as pal\n",
    "import matplotlib as mpl\n",
    "import numpy"
   ]
  },
  {
   "cell_type": "code",
   "execution_count": 11,
   "metadata": {
    "collapsed": true
   },
   "outputs": [],
   "source": [
    "special_flowers = ['MMETSP0693', 'MMETSP1019', 'MMETSP0923', 'MMETSP0008', 'MMETSP1002', 'MMETSP1325', 'MMETSP1018', \n",
    "                   'MMETSP1346', 'MMETSP0088', 'MMETSP0092', 'MMETSP0717', 'MMETSP0223', 'MMETSP0115', 'MMETSP0196', \n",
    "                   'MMETSP0197', 'MMETSP0398', 'MMETSP0399', 'MMETSP0922']"
   ]
  },
  {
   "cell_type": "code",
   "execution_count": 3,
   "metadata": {
    "collapsed": true
   },
   "outputs": [],
   "source": [
    "unique_names = pd.read_csv(\"../assembly_evaluation_data/unique_gene_names_ncgr_dib.csv\")"
   ]
  },
  {
   "cell_type": "code",
   "execution_count": 125,
   "metadata": {},
   "outputs": [],
   "source": [
    "giant_matrix = \"../assembly_evaluation_data/MMETSP_all_evaluation_matrix_2.csv\"\n",
    "all_metrics = pd.read_csv(giant_matrix)\n",
    "#all_metrics.columns.values\n",
    "# transrate score metrics\n",
    "all_metrics = all_metrics[~all_metrics['SampleName'].isin(special_flowers)]\n",
    "ncgr_cds_transrate_score = all_metrics[['SampleName', 'score.y','mean_orf_percent.y']]\n",
    "ncgr_nt_transrate_score = all_metrics[['SampleName','score.x']]\n",
    "dib_transrate_score = all_metrics[['SampleName','score']]\n",
    "ncgr_nt_transrate_score.columns = ['SampleName','score']\n",
    "ncgr_cds_transrate_score.columns = ['SampleName','score','mean_orf_percent']\n",
    "#transrate reference metrics\n",
    "ncgr_transrate_nt = all_metrics[['SampleName','p_refs_with_CRBB.y','n_seqs.x','mean_orf_percent.x']]\n",
    "dib_transrate_nt = all_metrics[['SampleName','p_refs_with_CRBB','n_seqs','mean_orf_percent']]\n",
    "ncgr_transrate_nt.columns = ['SampleName','p_refs_with_CRBB','n_seqs','mean_orf_percent']\n",
    "# BUSCO\n",
    "dib_busco_v3_euk = all_metrics[['SampleName','DIB.Complete_BUSCO_perc_euk_v3']]\n",
    "dib_busco_v3_protist = all_metrics[['SampleName','DIB.Complete_BUSCO_perc_protist_v3']]\n",
    "ncgr_busco_v3_euk = all_metrics[['SampleName','NCGR.Complete_BUSCO_perc_euk_v3']]\n",
    "ncgr_busco_v3_protist = all_metrics[['SampleName','NCGR.Complete_BUSCO_perc_protist_v3']]\n",
    "# unique dammit names\n",
    "unique_dammit_names = pd.read_csv(\"../assembly_evaluation_data/normalized_unique_gene_names_ncgr_dib.csv\")\n",
    "unique_dammit_names = unique_dammit_names[~unique_dammit_names['MMETSP_id'].isin(special_flowers)]\n",
    "# kmers\n",
    "ncgr_nt_kmers = pd.read_table(\"../assembly_evaluation_data/unique_kmers_ncgr_nt.txt\",header=0,sep='\\t')\n",
    "ncgr_nt_kmers.columns = ['SampleName','unique_kmers_ncgr_nt']\n",
    "dib_ncgr_kmers = all_metrics[[\"SampleName\",\"Phylum\",\"dib_assembly_unique_kmers\",\"ncgr_assembly_unique_kmers\"]]\n",
    "dib_ncgr_kmers.columns = [\"SampleName\",\"Phylum\",\"unique_kmers_dib\",\"unique_kmers_ncgr_cds\"]\n",
    "dib_ncgr_kmers = pd.merge(ncgr_nt_kmers,dib_ncgr_kmers,on='SampleName')"
   ]
  },
  {
   "cell_type": "code",
   "execution_count": 14,
   "metadata": {
    "collapsed": true
   },
   "outputs": [],
   "source": [
    "#ncgr_cds_transrate_score = ncgr_cds_transrate_score.drop_duplicates()\n",
    "#ncgr_nt_transrate_score = ncgr_nt_transrate_score.drop_duplicates()\n",
    "#dib_transrate_score = dib_transrate_score.drop_duplicates()\n",
    "ncgr_cds_transrate_score = ncgr_cds_transrate_score.dropna()\n",
    "ncgr_nt_transrate_score = ncgr_nt_transrate_score.dropna()\n",
    "dib_transrate_score = dib_transrate_score.dropna()"
   ]
  },
  {
   "cell_type": "code",
   "execution_count": 22,
   "metadata": {
    "collapsed": true
   },
   "outputs": [],
   "source": [
    "# dammit gene names comparison\n",
    "gene_names = unique_names.drop_duplicates()\n",
    "# giant matrix of all metrics, including phyla\n",
    "#all_metrics = all_metrics.drop_duplicates()"
   ]
  },
  {
   "cell_type": "markdown",
   "metadata": {},
   "source": [
    "# n contigs"
   ]
  },
  {
   "cell_type": "code",
   "execution_count": 37,
   "metadata": {},
   "outputs": [
    {
     "name": "stdout",
     "output_type": "stream",
     "text": [
      "['MMETSP0013', 'MMETSP0045', 'MMETSP0121', 'MMETSP0132', 'MMETSP0229', 'MMETSP0268', 'MMETSP0329', 'MMETSP0378', 'MMETSP0380', 'MMETSP0759', 'MMETSP0932', 'MMETSP1148']\n"
     ]
    }
   ],
   "source": [
    "df1==ncgr_transrate_nt\n",
    "df2=dib_transrate_nt\n",
    "combined_df = pd.merge(df1, df2, left_index=True, right_index=True)\n",
    "low_dib_contigs = combined_df.loc[combined_df['n_seqs_x'] > combined_df['n_seqs_y']]['SampleName_x']\n",
    "print(low_dib_contigs.tolist())"
   ]
  },
  {
   "cell_type": "markdown",
   "metadata": {},
   "source": [
    "# % ORF"
   ]
  },
  {
   "cell_type": "code",
   "execution_count": 156,
   "metadata": {},
   "outputs": [
    {
     "name": "stdout",
     "output_type": "stream",
     "text": [
      "['MMETSP0010', 'MMETSP0011', 'MMETSP0013', 'MMETSP0014', 'MMETSP0015', 'MMETSP0017', 'MMETSP0034', 'MMETSP0038', 'MMETSP0040', 'MMETSP0044', 'MMETSP0046', 'MMETSP0098', 'MMETSP0132', 'MMETSP0229', 'MMETSP0347', 'MMETSP0359', 'MMETSP0361', 'MMETSP0451', 'MMETSP0469', 'MMETSP0780', 'MMETSP0807', 'MMETSP0886', 'MMETSP0887', 'MMETSP0888', 'MMETSP0915', 'MMETSP0916', 'MMETSP0917', 'MMETSP0924', 'MMETSP1012', 'MMETSP1055', 'MMETSP1103', 'MMETSP1147', 'MMETSP1148', 'MMETSP1163', 'MMETSP1166', 'MMETSP1329', 'MMETSP1344', 'MMETSP1359', 'MMETSP1397', 'MMETSP1426', 'MMETSP1433', 'MMETSP1435']\n"
     ]
    }
   ],
   "source": [
    "df1=ncgr_transrate_nt\n",
    "df2=dib_transrate_nt\n",
    "combined_df = pd.merge(df1, df2, left_index=True, right_index=True)\n",
    "low_dib_ORF = combined_df.loc[combined_df['mean_orf_percent_x'] > combined_df['mean_orf_percent_y']]['SampleName_x']\n",
    "print(low_dib_ORF.tolist())"
   ]
  },
  {
   "cell_type": "markdown",
   "metadata": {},
   "source": [
    "# BUSCO"
   ]
  },
  {
   "cell_type": "code",
   "execution_count": 106,
   "metadata": {},
   "outputs": [
    {
     "name": "stdout",
     "output_type": "stream",
     "text": [
      "381\n"
     ]
    }
   ],
   "source": [
    "df1=ncgr_busco_v3_euk.dropna()\n",
    "df2=dib_busco_v3_euk.dropna()\n",
    "combined_df = pd.merge(df1, df2,on='SampleName')\n",
    "column='Complete_BUSCO_perc'\n",
    "low_dib_BUSCO = combined_df.loc[combined_df['NCGR.Complete_BUSCO_perc_euk_v3'] > combined_df['DIB.Complete_BUSCO_perc_euk_v3']]['SampleName']\n",
    "#print(low_dib_contigs.tolist())\n",
    "print(len(low_dib_BUSCO.tolist()))"
   ]
  },
  {
   "cell_type": "code",
   "execution_count": 107,
   "metadata": {},
   "outputs": [
    {
     "name": "stdout",
     "output_type": "stream",
     "text": [
      "(660, 3)\n",
      "NCGR: 381\n",
      "DIB: 235\n",
      "DIB = NCGR: 42\n",
      "['MMETSP0045', 'MMETSP0121', 'MMETSP0169', 'MMETSP0232', 'MMETSP0329', 'MMETSP0439', 'MMETSP0932']\n"
     ]
    }
   ],
   "source": [
    "# Where difference is more than 30% between NCGR and DIB\n",
    "df1=ncgr_busco_v3_euk\n",
    "df2=dib_busco_v3_euk\n",
    "df2=dib_busco_v3_euk\n",
    "column='Complete_BUSCO_perc'\n",
    "df1name = 'df1'\n",
    "df2name = 'df2'\n",
    "df1.columns = ['SampleName', 'Complete_BUSCO_perc_NCGR']\n",
    "df2.columns = ['SampleName', 'Complete_BUSCO_perc_DIB']\n",
    "combined_df = pd.merge(df1, df2,on='SampleName')\n",
    "print(combined_df.shape)\n",
    "print('NCGR:',len(combined_df.loc[combined_df['Complete_BUSCO_perc_NCGR'] > combined_df['Complete_BUSCO_perc_DIB']]))\n",
    "print('DIB:',len(combined_df.loc[combined_df['Complete_BUSCO_perc_NCGR'] < combined_df['Complete_BUSCO_perc_DIB']]))\n",
    "print('DIB = NCGR:',len(combined_df.loc[combined_df['Complete_BUSCO_perc_NCGR'] == combined_df['Complete_BUSCO_perc_DIB']]))\n",
    "diff = combined_df.loc[(combined_df['Complete_BUSCO_perc_NCGR'] - combined_df['Complete_BUSCO_perc_DIB']) > 30]\n",
    "low_BUSCO = diff['SampleName'].tolist()\n",
    "print(low_BUSCO)"
   ]
  },
  {
   "cell_type": "markdown",
   "metadata": {},
   "source": [
    "# annotations"
   ]
  },
  {
   "cell_type": "markdown",
   "metadata": {},
   "source": [
    "# Low unique dammit names in DIB"
   ]
  },
  {
   "cell_type": "code",
   "execution_count": 96,
   "metadata": {},
   "outputs": [
    {
     "data": {
      "text/html": [
       "<div>\n",
       "<style scoped>\n",
       "    .dataframe tbody tr th:only-of-type {\n",
       "        vertical-align: middle;\n",
       "    }\n",
       "\n",
       "    .dataframe tbody tr th {\n",
       "        vertical-align: top;\n",
       "    }\n",
       "\n",
       "    .dataframe thead th {\n",
       "        text-align: right;\n",
       "    }\n",
       "</style>\n",
       "<table border=\"1\" class=\"dataframe\">\n",
       "  <thead>\n",
       "    <tr style=\"text-align: right;\">\n",
       "      <th></th>\n",
       "      <th>Unnamed: 0</th>\n",
       "      <th>MMETSP_id</th>\n",
       "      <th>NCGR</th>\n",
       "      <th>DIB</th>\n",
       "    </tr>\n",
       "  </thead>\n",
       "  <tbody>\n",
       "    <tr>\n",
       "      <th>0</th>\n",
       "      <td>0</td>\n",
       "      <td>MMETSP1385</td>\n",
       "      <td>0.207904</td>\n",
       "      <td>0.355840</td>\n",
       "    </tr>\n",
       "    <tr>\n",
       "      <th>1</th>\n",
       "      <td>1</td>\n",
       "      <td>MMETSP1144</td>\n",
       "      <td>0.179560</td>\n",
       "      <td>0.291139</td>\n",
       "    </tr>\n",
       "    <tr>\n",
       "      <th>2</th>\n",
       "      <td>2</td>\n",
       "      <td>MMETSP0471</td>\n",
       "      <td>0.107027</td>\n",
       "      <td>0.270018</td>\n",
       "    </tr>\n",
       "    <tr>\n",
       "      <th>3</th>\n",
       "      <td>3</td>\n",
       "      <td>MMETSP0957</td>\n",
       "      <td>0.134107</td>\n",
       "      <td>0.376607</td>\n",
       "    </tr>\n",
       "    <tr>\n",
       "      <th>4</th>\n",
       "      <td>4</td>\n",
       "      <td>MMETSP1058</td>\n",
       "      <td>0.076528</td>\n",
       "      <td>0.174923</td>\n",
       "    </tr>\n",
       "  </tbody>\n",
       "</table>\n",
       "</div>"
      ],
      "text/plain": [
       "   Unnamed: 0   MMETSP_id      NCGR       DIB\n",
       "0           0  MMETSP1385  0.207904  0.355840\n",
       "1           1  MMETSP1144  0.179560  0.291139\n",
       "2           2  MMETSP0471  0.107027  0.270018\n",
       "3           3  MMETSP0957  0.134107  0.376607\n",
       "4           4  MMETSP1058  0.076528  0.174923"
      ]
     },
     "execution_count": 96,
     "metadata": {},
     "output_type": "execute_result"
    }
   ],
   "source": [
    "unique_dammit_names.head()"
   ]
  },
  {
   "cell_type": "code",
   "execution_count": 97,
   "metadata": {},
   "outputs": [
    {
     "name": "stdout",
     "output_type": "stream",
     "text": [
      "(9, 4)\n",
      "     Unnamed: 0   MMETSP_id      NCGR       DIB\n",
      "17           17  MMETSP1412  0.996745  0.500000\n",
      "99           99  MMETSP0380  0.327761  0.274651\n",
      "101         101  MMETSP0378  0.271208  0.265763\n",
      "141         141  MMETSP0232  0.974898  0.661442\n",
      "190         190  MMETSP1148  0.727273  0.558824\n",
      "240         240  MMETSP0912  0.860795  0.241117\n",
      "258         258  MMETSP0169  0.450119  0.409318\n",
      "261         261  MMETSP0937  0.896324  0.212418\n",
      "272         272  MMETSP1057  0.959008  0.352941\n"
     ]
    }
   ],
   "source": [
    "unique_dammit_names_dib_low = unique_dammit_names.loc[unique_dammit_names['DIB'] - unique_dammit_names['NCGR'] < 0]\n",
    "print(unique_dammit_names_dib_low.shape)\n",
    "print(unique_dammit_names_dib_low)"
   ]
  },
  {
   "cell_type": "code",
   "execution_count": 98,
   "metadata": {},
   "outputs": [
    {
     "name": "stdout",
     "output_type": "stream",
     "text": [
      "['MMETSP1412', 'MMETSP0380', 'MMETSP0378', 'MMETSP0232', 'MMETSP1148', 'MMETSP0912', 'MMETSP0169', 'MMETSP0937', 'MMETSP1057']\n"
     ]
    }
   ],
   "source": [
    "print(unique_dammit_names_dib_low['MMETSP_id'].tolist())"
   ]
  },
  {
   "cell_type": "markdown",
   "metadata": {},
   "source": [
    "# unique k-mers"
   ]
  },
  {
   "cell_type": "code",
   "execution_count": 129,
   "metadata": {},
   "outputs": [
    {
     "data": {
      "text/html": [
       "<div>\n",
       "<style scoped>\n",
       "    .dataframe tbody tr th:only-of-type {\n",
       "        vertical-align: middle;\n",
       "    }\n",
       "\n",
       "    .dataframe tbody tr th {\n",
       "        vertical-align: top;\n",
       "    }\n",
       "\n",
       "    .dataframe thead th {\n",
       "        text-align: right;\n",
       "    }\n",
       "</style>\n",
       "<table border=\"1\" class=\"dataframe\">\n",
       "  <thead>\n",
       "    <tr style=\"text-align: right;\">\n",
       "      <th></th>\n",
       "      <th>SampleName</th>\n",
       "      <th>unique_kmers_ncgr_nt</th>\n",
       "      <th>Phylum</th>\n",
       "      <th>unique_kmers_dib</th>\n",
       "      <th>unique_kmers_ncgr_cds</th>\n",
       "    </tr>\n",
       "  </thead>\n",
       "  <tbody>\n",
       "    <tr>\n",
       "      <th>0</th>\n",
       "      <td>MMETSP1403</td>\n",
       "      <td>14078915</td>\n",
       "      <td>Chlorophyta</td>\n",
       "      <td>14970841</td>\n",
       "      <td>12339926.0</td>\n",
       "    </tr>\n",
       "    <tr>\n",
       "      <th>1</th>\n",
       "      <td>MMETSP0292</td>\n",
       "      <td>10829338</td>\n",
       "      <td>Ochrophyta</td>\n",
       "      <td>22905647</td>\n",
       "      <td>8254399.0</td>\n",
       "    </tr>\n",
       "    <tr>\n",
       "      <th>2</th>\n",
       "      <td>MMETSP1316</td>\n",
       "      <td>10049557</td>\n",
       "      <td>Chlorophyta</td>\n",
       "      <td>11892637</td>\n",
       "      <td>9050349.0</td>\n",
       "    </tr>\n",
       "    <tr>\n",
       "      <th>3</th>\n",
       "      <td>MMETSP1042</td>\n",
       "      <td>20957422</td>\n",
       "      <td>Cryptophyta</td>\n",
       "      <td>28583565</td>\n",
       "      <td>19925214.0</td>\n",
       "    </tr>\n",
       "    <tr>\n",
       "      <th>4</th>\n",
       "      <td>MMETSP0228</td>\n",
       "      <td>49090117</td>\n",
       "      <td>Dinophyta</td>\n",
       "      <td>70670535</td>\n",
       "      <td>45605742.0</td>\n",
       "    </tr>\n",
       "  </tbody>\n",
       "</table>\n",
       "</div>"
      ],
      "text/plain": [
       "   SampleName  unique_kmers_ncgr_nt       Phylum  unique_kmers_dib  \\\n",
       "0  MMETSP1403              14078915  Chlorophyta          14970841   \n",
       "1  MMETSP0292              10829338   Ochrophyta          22905647   \n",
       "2  MMETSP1316              10049557  Chlorophyta          11892637   \n",
       "3  MMETSP1042              20957422  Cryptophyta          28583565   \n",
       "4  MMETSP0228              49090117    Dinophyta          70670535   \n",
       "\n",
       "   unique_kmers_ncgr_cds  \n",
       "0             12339926.0  \n",
       "1              8254399.0  \n",
       "2              9050349.0  \n",
       "3             19925214.0  \n",
       "4             45605742.0  "
      ]
     },
     "execution_count": 129,
     "metadata": {},
     "output_type": "execute_result"
    }
   ],
   "source": [
    "dib_ncgr_kmers.head()"
   ]
  },
  {
   "cell_type": "code",
   "execution_count": 131,
   "metadata": {},
   "outputs": [],
   "source": [
    "dib_low_kmers = dib_ncgr_kmers.loc[dib_ncgr_kmers['unique_kmers_dib'] - dib_ncgr_kmers['unique_kmers_ncgr_nt'] < 0]\n",
    "low_kmers = dib_low_kmers['SampleName'].tolist()"
   ]
  },
  {
   "cell_type": "code",
   "execution_count": 158,
   "metadata": {},
   "outputs": [],
   "source": [
    "low_contigs = low_dib_contigs.tolist()\n",
    "low_unique_annotation_names = unique_dammit_names_dib_low['MMETSP_id'].tolist()\n",
    "#low_BUSCO\n",
    "low_ORF = low_dib_ORF.tolist()\n",
    "#low_kmers"
   ]
  },
  {
   "cell_type": "code",
   "execution_count": 257,
   "metadata": {},
   "outputs": [],
   "source": [
    "low_MMETSP = low_kmers + low_unique_annotation_names + low_BUSCO + low_ORF + low_kmers"
   ]
  },
  {
   "cell_type": "code",
   "execution_count": 263,
   "metadata": {},
   "outputs": [
    {
     "name": "stdout",
     "output_type": "stream",
     "text": [
      "['MMETSP0010', 'MMETSP0011', 'MMETSP0013', 'MMETSP0014', 'MMETSP0015', 'MMETSP0017', 'MMETSP0034', 'MMETSP0038', 'MMETSP0040', 'MMETSP0044', 'MMETSP0045', 'MMETSP0046', 'MMETSP0098', 'MMETSP0113', 'MMETSP0121', 'MMETSP0132', 'MMETSP0152', 'MMETSP0169', 'MMETSP0229', 'MMETSP0232', 'MMETSP0252', 'MMETSP0268', 'MMETSP0315', 'MMETSP0329', 'MMETSP0347', 'MMETSP0359', 'MMETSP0361', 'MMETSP0372', 'MMETSP0378', 'MMETSP0380', 'MMETSP0439', 'MMETSP0451', 'MMETSP0469', 'MMETSP0780', 'MMETSP0807', 'MMETSP0886', 'MMETSP0887', 'MMETSP0888', 'MMETSP0891', 'MMETSP0912', 'MMETSP0915', 'MMETSP0916', 'MMETSP0917', 'MMETSP0924', 'MMETSP0930', 'MMETSP0932', 'MMETSP0937', 'MMETSP1012', 'MMETSP1055', 'MMETSP1057', 'MMETSP1065', 'MMETSP1103', 'MMETSP1147', 'MMETSP1148', 'MMETSP1163', 'MMETSP1166', 'MMETSP1178', 'MMETSP1329', 'MMETSP1344', 'MMETSP1358', 'MMETSP1359', 'MMETSP1397', 'MMETSP1412', 'MMETSP1426', 'MMETSP1433', 'MMETSP1435']\n"
     ]
    }
   ],
   "source": [
    "print(sorted(set(low_MMETSP)))"
   ]
  },
  {
   "cell_type": "code",
   "execution_count": 265,
   "metadata": {},
   "outputs": [
    {
     "name": "stdout",
     "output_type": "stream",
     "text": [
      "66\n"
     ]
    }
   ],
   "source": [
    "print(len(sorted(set(low_MMETSP))))"
   ]
  },
  {
   "cell_type": "markdown",
   "metadata": {},
   "source": [
    "# Good"
   ]
  },
  {
   "cell_type": "markdown",
   "metadata": {},
   "source": [
    "* Complete BUSCO > 80%\n",
    "* % ORF > 90%\n",
    "* length transcripts > 20k\n",
    "* unique annotations > 50%\n",
    "* unique k-mers (k=25) > 50 million more than NCGR"
   ]
  },
  {
   "cell_type": "markdown",
   "metadata": {},
   "source": [
    "# BUSCO > 90%"
   ]
  },
  {
   "cell_type": "code",
   "execution_count": 387,
   "metadata": {},
   "outputs": [
    {
     "name": "stdout",
     "output_type": "stream",
     "text": [
      "8\n"
     ]
    }
   ],
   "source": [
    "# Greater than 80% Complete\n",
    "df2=dib_busco_v3_euk\n",
    "df2.columns = ['SampleName', 'Complete_BUSCO_perc_DIB']\n",
    "high_DIB = df2.loc[df2['Complete_BUSCO_perc_DIB'] > 90]['SampleName']\n",
    "#print(high_DIB.tolist())\n",
    "print(len(high_DIB.tolist()))\n",
    "high_DIB_BUSCO = high_DIB.tolist()"
   ]
  },
  {
   "cell_type": "markdown",
   "metadata": {},
   "source": [
    "# Transrate score"
   ]
  },
  {
   "cell_type": "code",
   "execution_count": 390,
   "metadata": {},
   "outputs": [
    {
     "name": "stdout",
     "output_type": "stream",
     "text": [
      "3\n"
     ]
    }
   ],
   "source": [
    "df2=dib_transrate_score\n",
    "high_dib_transrate = df2.loc[df2['score'] > 0.5]['SampleName']\n",
    "#print(low_dib_contigs.tolist())\n",
    "print(len(high_dib_transrate.tolist()))\n",
    "high_dib_transrate = high_dib_transrate.tolist()"
   ]
  },
  {
   "cell_type": "code",
   "execution_count": 391,
   "metadata": {},
   "outputs": [
    {
     "data": {
      "text/plain": [
       "11"
      ]
     },
     "execution_count": 391,
     "metadata": {},
     "output_type": "execute_result"
    }
   ],
   "source": [
    "BUSCO_transrate = high_dib_transrate + high_DIB_BUSCO\n",
    "BUSCO_transrate = list(set(BUSCO_transrate))\n",
    "len(BUSCO_transrate)"
   ]
  },
  {
   "cell_type": "markdown",
   "metadata": {},
   "source": [
    "# % ORF > 90%"
   ]
  },
  {
   "cell_type": "code",
   "execution_count": 346,
   "metadata": {},
   "outputs": [
    {
     "name": "stdout",
     "output_type": "stream",
     "text": [
      "131\n"
     ]
    }
   ],
   "source": [
    "df2=dib_transrate_nt\n",
    "high_dib_ORF = df2.loc[df2['mean_orf_percent'] > 90]['SampleName']\n",
    "#print(high_dib_ORF.tolist())\n",
    "high_dib_ORF = high_dib_ORF.tolist()\n",
    "print(len(high_dib_ORF))"
   ]
  },
  {
   "cell_type": "code",
   "execution_count": 359,
   "metadata": {},
   "outputs": [
    {
     "data": {
      "text/plain": [
       "139"
      ]
     },
     "execution_count": 359,
     "metadata": {},
     "output_type": "execute_result"
    }
   ],
   "source": [
    "BUSCO_ORF = high_dib_ORF + high_DIB_BUSCO\n",
    "BUSCO_ORF = list(set(BUSCO_ORF))\n",
    "len(BUSCO_ORF)"
   ]
  },
  {
   "cell_type": "markdown",
   "metadata": {},
   "source": [
    "# Length > 30K bases"
   ]
  },
  {
   "cell_type": "code",
   "execution_count": 347,
   "metadata": {},
   "outputs": [
    {
     "name": "stdout",
     "output_type": "stream",
     "text": [
      "6\n"
     ]
    }
   ],
   "source": [
    "DIB_longest = all_metrics[['SampleName','largest.x']]\n",
    "DIB_longest = DIB_longest.loc[DIB_longest['largest.x'] > 30000]['SampleName']\n",
    "print(len(DIB_longest.tolist()))\n",
    "DIB_longest = DIB_longest.tolist()"
   ]
  },
  {
   "cell_type": "markdown",
   "metadata": {},
   "source": [
    "# Unique normalized annotated contigs > 70%"
   ]
  },
  {
   "cell_type": "code",
   "execution_count": 348,
   "metadata": {},
   "outputs": [
    {
     "name": "stdout",
     "output_type": "stream",
     "text": [
      "5\n"
     ]
    }
   ],
   "source": [
    "high_unique_annotation_names = unique_dammit_names.loc[unique_dammit_names['DIB'] > 0.7]['MMETSP_id']\n",
    "print(len(high_unique_annotation_names.tolist()))\n",
    "high_unique_annotation_names = high_unique_annotation_names.tolist()"
   ]
  },
  {
   "cell_type": "markdown",
   "metadata": {},
   "source": [
    "# Unique k-mers, more than 30 million more unique k-mers in DIB vs. NCGR"
   ]
  },
  {
   "cell_type": "code",
   "execution_count": 349,
   "metadata": {},
   "outputs": [
    {
     "name": "stdout",
     "output_type": "stream",
     "text": [
      "34\n"
     ]
    }
   ],
   "source": [
    "dib_high_kmers = dib_ncgr_kmers.loc[dib_ncgr_kmers['unique_kmers_dib'] - dib_ncgr_kmers['unique_kmers_ncgr_nt'] > 30000000]\n",
    "dib_high_kmers = dib_high_kmers['SampleName'].tolist()\n",
    "print(len(dib_high_kmers))"
   ]
  },
  {
   "cell_type": "code",
   "execution_count": 369,
   "metadata": {},
   "outputs": [],
   "source": [
    "high_MMETSP = high_DIB_BUSCO"
   ]
  },
  {
   "cell_type": "code",
   "execution_count": 370,
   "metadata": {},
   "outputs": [
    {
     "name": "stdout",
     "output_type": "stream",
     "text": [
      "8\n"
     ]
    }
   ],
   "source": [
    "print(len(sorted(list(set(high_MMETSP)))))"
   ]
  },
  {
   "cell_type": "code",
   "execution_count": 371,
   "metadata": {},
   "outputs": [
    {
     "data": {
      "text/plain": [
       "70"
      ]
     },
     "execution_count": 371,
     "metadata": {},
     "output_type": "execute_result"
    }
   ],
   "source": [
    "len(list(set(low_MMETSP + high_MMETSP)))"
   ]
  },
  {
   "cell_type": "code",
   "execution_count": null,
   "metadata": {
    "collapsed": true
   },
   "outputs": [],
   "source": []
  },
  {
   "cell_type": "code",
   "execution_count": null,
   "metadata": {
    "collapsed": true
   },
   "outputs": [],
   "source": []
  }
 ],
 "metadata": {
  "anaconda-cloud": {},
  "kernelspec": {
   "display_name": "Python 3",
   "language": "python",
   "name": "python3"
  },
  "language_info": {
   "codemirror_mode": {
    "name": "ipython",
    "version": 3
   },
   "file_extension": ".py",
   "mimetype": "text/x-python",
   "name": "python",
   "nbconvert_exporter": "python",
   "pygments_lexer": "ipython3",
   "version": "3.6.3"
  }
 },
 "nbformat": 4,
 "nbformat_minor": 1
}
