{
 "cells": [
  {
   "cell_type": "markdown",
   "metadata": {},
   "source": [
    "# Subsetting MMETSP samples by transcriptome evaluation metrics"
   ]
  },
  {
   "cell_type": "markdown",
   "metadata": {},
   "source": [
    "Separate issues: absolute metrics and relative metrics compared to the original NCGR assemblies. Must perform \"Poorly\" or \"Well\" from each point of view."
   ]
  },
  {
   "cell_type": "markdown",
   "metadata": {},
   "source": [
    "# Poor"
   ]
  },
  {
   "cell_type": "markdown",
   "metadata": {},
   "source": [
    "* n contigs (large differences between NCGR and DIB)\n",
    "* unique k-mers (k=25)\n",
    "* annotations\n",
    "* Complete BUSCO\n",
    "* % ORF"
   ]
  },
  {
   "cell_type": "code",
   "execution_count": 2,
   "metadata": {},
   "outputs": [
    {
     "name": "stdout",
     "output_type": "stream",
     "text": [
      "Populating the interactive namespace from numpy and matplotlib\n"
     ]
    }
   ],
   "source": [
    "%matplotlib inline\n",
    "%pylab inline\n",
    "import pandas as pd\n",
    "import pylab as pl\n",
    "import matplotlib.pyplot as plt\n",
    "import palettable as pal\n",
    "import matplotlib as mpl\n",
    "import numpy\n",
    "from scipy import stats"
   ]
  },
  {
   "cell_type": "code",
   "execution_count": 3,
   "metadata": {
    "collapsed": true
   },
   "outputs": [],
   "source": [
    "special_flowers = ['MMETSP0693', 'MMETSP1019', 'MMETSP0923', 'MMETSP0008', 'MMETSP1002', 'MMETSP1325', 'MMETSP1018', \n",
    "                   'MMETSP1346', 'MMETSP0088', 'MMETSP0092', 'MMETSP0717', 'MMETSP0223', 'MMETSP0115', 'MMETSP0196', \n",
    "                   'MMETSP0197', 'MMETSP0398', 'MMETSP0399', 'MMETSP0922']"
   ]
  },
  {
   "cell_type": "code",
   "execution_count": 4,
   "metadata": {
    "collapsed": true
   },
   "outputs": [],
   "source": [
    "unique_names = pd.read_csv(\"../assembly_evaluation_data/unique_gene_names_ncgr_dib.csv\")"
   ]
  },
  {
   "cell_type": "code",
   "execution_count": 5,
   "metadata": {
    "collapsed": true
   },
   "outputs": [],
   "source": [
    "giant_matrix = \"../assembly_evaluation_data/MMETSP_all_evaluation_matrix_2.csv\"\n",
    "all_metrics = pd.read_csv(giant_matrix)\n",
    "#all_metrics.columns.values\n",
    "# transrate score metrics\n",
    "all_metrics = all_metrics[~all_metrics['SampleName'].isin(special_flowers)]\n",
    "ncgr_cds_transrate_score = all_metrics[['SampleName', 'score.y','mean_orf_percent.y']]\n",
    "ncgr_nt_transrate_score = all_metrics[['SampleName','score.x']]\n",
    "dib_transrate_score = all_metrics[['SampleName','score']]\n",
    "ncgr_nt_transrate_score.columns = ['SampleName','score']\n",
    "ncgr_cds_transrate_score.columns = ['SampleName','score','mean_orf_percent']\n",
    "#transrate reference metrics\n",
    "ncgr_transrate_nt = all_metrics[['SampleName','p_refs_with_CRBB.y','n_seqs.x','mean_orf_percent.x']]\n",
    "dib_transrate_nt = all_metrics[['SampleName','p_refs_with_CRBB','n_seqs','mean_orf_percent']]\n",
    "ncgr_transrate_nt.columns = ['SampleName','p_refs_with_CRBB','n_seqs','mean_orf_percent']\n",
    "# BUSCO\n",
    "dib_busco_v3_euk = all_metrics[['SampleName','DIB.Complete_BUSCO_perc_euk_v3']]\n",
    "dib_busco_v3_protist = all_metrics[['SampleName','DIB.Complete_BUSCO_perc_protist_v3']]\n",
    "ncgr_busco_v3_euk = all_metrics[['SampleName','NCGR.Complete_BUSCO_perc_euk_v3']]\n",
    "ncgr_busco_v3_protist = all_metrics[['SampleName','NCGR.Complete_BUSCO_perc_protist_v3']]\n",
    "# unique dammit names\n",
    "unique_dammit_names = pd.read_csv(\"../assembly_evaluation_data/normalized_unique_gene_names_ncgr_dib.csv\")\n",
    "unique_dammit_names = unique_dammit_names[~unique_dammit_names['MMETSP_id'].isin(special_flowers)]\n",
    "unique_dammit_names.columns = ['Blank','SampleName','NCGR','DIB']\n",
    "# kmers\n",
    "ncgr_nt_kmers = pd.read_table(\"../assembly_evaluation_data/unique_kmers_ncgr_nt.txt\",header=0,sep='\\t')\n",
    "ncgr_nt_kmers.columns = ['SampleName','unique_kmers_ncgr_nt']\n",
    "dib_ncgr_kmers = all_metrics[[\"SampleName\",\"Phylum\",\"dib_assembly_unique_kmers\",\"ncgr_assembly_unique_kmers\"]]\n",
    "dib_ncgr_kmers.columns = [\"SampleName\",\"Phylum\",\"unique_kmers_dib\",\"unique_kmers_ncgr_cds\"]\n",
    "dib_ncgr_kmers = pd.merge(ncgr_nt_kmers,dib_ncgr_kmers,on='SampleName')"
   ]
  },
  {
   "cell_type": "code",
   "execution_count": 6,
   "metadata": {
    "collapsed": true
   },
   "outputs": [],
   "source": [
    "n_seqs_max = all_metrics['n_seqs'].describe()[['max']][0]\n",
    "score_max = all_metrics['score'].describe()[['max']][0]\n",
    "orf_max = all_metrics['mean_orf_percent.y'].describe()[['max']][0]\n",
    "largest_contig_max = all_metrics['largest.x'].describe()[['max']][0]\n",
    "BUSCO_max = all_metrics['DIB.Complete_BUSCO_perc_euk_v3'].describe()[['max']][0]\n",
    "unique_kmers_max = all_metrics['dib_assembly_unique_kmers'].describe()[['max']][0]"
   ]
  },
  {
   "cell_type": "code",
   "execution_count": 7,
   "metadata": {
    "collapsed": true
   },
   "outputs": [],
   "source": [
    "#ncgr_cds_transrate_score = ncgr_cds_transrate_score.drop_duplicates()\n",
    "#ncgr_nt_transrate_score = ncgr_nt_transrate_score.drop_duplicates()\n",
    "#dib_transrate_score = dib_transrate_score.drop_duplicates()\n",
    "ncgr_cds_transrate_score = ncgr_cds_transrate_score.dropna()\n",
    "ncgr_nt_transrate_score = ncgr_nt_transrate_score.dropna()\n",
    "dib_transrate_score = dib_transrate_score.dropna()"
   ]
  },
  {
   "cell_type": "code",
   "execution_count": 8,
   "metadata": {
    "collapsed": true
   },
   "outputs": [],
   "source": [
    "# dammit gene names comparison\n",
    "gene_names = unique_names.drop_duplicates()\n",
    "# giant matrix of all metrics, including phyla\n",
    "#all_metrics = all_metrics.drop_duplicates()"
   ]
  },
  {
   "cell_type": "markdown",
   "metadata": {},
   "source": [
    "# n contigs"
   ]
  },
  {
   "cell_type": "code",
   "execution_count": 9,
   "metadata": {},
   "outputs": [
    {
     "name": "stdout",
     "output_type": "stream",
     "text": [
      "['MMETSP0013', 'MMETSP0045', 'MMETSP0121', 'MMETSP0132', 'MMETSP0229', 'MMETSP0268', 'MMETSP0329', 'MMETSP0378', 'MMETSP0380', 'MMETSP0759', 'MMETSP0932', 'MMETSP1148']\n",
      "12\n"
     ]
    }
   ],
   "source": [
    "df1=ncgr_transrate_nt\n",
    "df2=dib_transrate_nt\n",
    "combined_df = pd.merge(df1, df2, left_index=True, right_index=True)\n",
    "# Contigs where NCGR had higher contigs than DIB\n",
    "low_dib_contigs = combined_df.loc[combined_df['n_seqs_x'] > combined_df['n_seqs_y']]['SampleName_x']\n",
    "print(low_dib_contigs.tolist())\n",
    "print(len(low_dib_contigs.tolist()))"
   ]
  },
  {
   "cell_type": "markdown",
   "metadata": {},
   "source": [
    "# % ORF"
   ]
  },
  {
   "cell_type": "code",
   "execution_count": 10,
   "metadata": {},
   "outputs": [
    {
     "name": "stdout",
     "output_type": "stream",
     "text": [
      "['MMETSP0010', 'MMETSP0011', 'MMETSP0013', 'MMETSP0014', 'MMETSP0015', 'MMETSP0017', 'MMETSP0034', 'MMETSP0038', 'MMETSP0040', 'MMETSP0044', 'MMETSP0046', 'MMETSP0098', 'MMETSP0132', 'MMETSP0229', 'MMETSP0347', 'MMETSP0359', 'MMETSP0361', 'MMETSP0451', 'MMETSP0469', 'MMETSP0780', 'MMETSP0807', 'MMETSP0886', 'MMETSP0887', 'MMETSP0888', 'MMETSP0915', 'MMETSP0916', 'MMETSP0917', 'MMETSP0924', 'MMETSP1012', 'MMETSP1055', 'MMETSP1103', 'MMETSP1147', 'MMETSP1148', 'MMETSP1163', 'MMETSP1166', 'MMETSP1329', 'MMETSP1344', 'MMETSP1359', 'MMETSP1397', 'MMETSP1426', 'MMETSP1433', 'MMETSP1435']\n",
      "42\n"
     ]
    }
   ],
   "source": [
    "df1=ncgr_transrate_nt\n",
    "df2=dib_transrate_nt\n",
    "combined_df = pd.merge(df1, df2, left_index=True, right_index=True)\n",
    "low_dib_ORF = combined_df.loc[combined_df['mean_orf_percent_x'] > combined_df['mean_orf_percent_y']]['SampleName_x']\n",
    "print(low_dib_ORF.tolist())\n",
    "print(len(low_dib_ORF.tolist()))"
   ]
  },
  {
   "cell_type": "markdown",
   "metadata": {},
   "source": [
    "# BUSCO"
   ]
  },
  {
   "cell_type": "code",
   "execution_count": 11,
   "metadata": {},
   "outputs": [
    {
     "name": "stdout",
     "output_type": "stream",
     "text": [
      "381\n"
     ]
    }
   ],
   "source": [
    "df1=ncgr_busco_v3_euk.dropna()\n",
    "df2=dib_busco_v3_euk.dropna()\n",
    "combined_df = pd.merge(df1, df2,on='SampleName')\n",
    "column='Complete_BUSCO_perc'\n",
    "low_dib_BUSCO = combined_df.loc[combined_df['NCGR.Complete_BUSCO_perc_euk_v3'] > combined_df['DIB.Complete_BUSCO_perc_euk_v3']]['SampleName']\n",
    "#print(low_dib_contigs.tolist())\n",
    "print(len(low_dib_BUSCO.tolist()))"
   ]
  },
  {
   "cell_type": "code",
   "execution_count": 12,
   "metadata": {},
   "outputs": [
    {
     "name": "stdout",
     "output_type": "stream",
     "text": [
      "(660, 3)\n",
      "NCGR: 381\n",
      "DIB: 235\n",
      "DIB = NCGR: 42\n",
      "['MMETSP0045', 'MMETSP0121', 'MMETSP0169', 'MMETSP0232', 'MMETSP0329', 'MMETSP0439', 'MMETSP0932']\n",
      "7\n"
     ]
    }
   ],
   "source": [
    "# Where difference is more than 30% between NCGR and DIB\n",
    "df1=ncgr_busco_v3_euk\n",
    "df2=dib_busco_v3_euk\n",
    "df2=dib_busco_v3_euk\n",
    "column='Complete_BUSCO_perc'\n",
    "df1name = 'df1'\n",
    "df2name = 'df2'\n",
    "df1.columns = ['SampleName', 'Complete_BUSCO_perc_NCGR']\n",
    "df2.columns = ['SampleName', 'Complete_BUSCO_perc_DIB']\n",
    "combined_df = pd.merge(df1, df2,on='SampleName')\n",
    "print(combined_df.shape)\n",
    "print('NCGR:',len(combined_df.loc[combined_df['Complete_BUSCO_perc_NCGR'] > combined_df['Complete_BUSCO_perc_DIB']]))\n",
    "print('DIB:',len(combined_df.loc[combined_df['Complete_BUSCO_perc_NCGR'] < combined_df['Complete_BUSCO_perc_DIB']]))\n",
    "print('DIB = NCGR:',len(combined_df.loc[combined_df['Complete_BUSCO_perc_NCGR'] == combined_df['Complete_BUSCO_perc_DIB']]))\n",
    "diff = combined_df.loc[(combined_df['Complete_BUSCO_perc_NCGR'] - combined_df['Complete_BUSCO_perc_DIB']) > 30]\n",
    "low_BUSCO = diff['SampleName'].tolist()\n",
    "print(low_BUSCO)\n",
    "print(len(low_BUSCO))"
   ]
  },
  {
   "cell_type": "markdown",
   "metadata": {},
   "source": [
    "# annotations"
   ]
  },
  {
   "cell_type": "markdown",
   "metadata": {},
   "source": [
    "# Low unique dammit names in DIB"
   ]
  },
  {
   "cell_type": "code",
   "execution_count": 13,
   "metadata": {
    "collapsed": true
   },
   "outputs": [],
   "source": [
    "unique_dammit_names_dib_low = unique_dammit_names.loc[unique_dammit_names['DIB'] - unique_dammit_names['NCGR'] < 0]"
   ]
  },
  {
   "cell_type": "code",
   "execution_count": 14,
   "metadata": {},
   "outputs": [
    {
     "name": "stdout",
     "output_type": "stream",
     "text": [
      "['MMETSP1412', 'MMETSP0380', 'MMETSP0378', 'MMETSP0232', 'MMETSP1148', 'MMETSP0912', 'MMETSP0169', 'MMETSP0937', 'MMETSP1057']\n",
      "9\n"
     ]
    }
   ],
   "source": [
    "print(unique_dammit_names_dib_low['SampleName'].tolist())\n",
    "print(len(unique_dammit_names_dib_low['SampleName'].tolist()))"
   ]
  },
  {
   "cell_type": "markdown",
   "metadata": {},
   "source": [
    "# unique k-mers"
   ]
  },
  {
   "cell_type": "code",
   "execution_count": 15,
   "metadata": {},
   "outputs": [
    {
     "name": "stdout",
     "output_type": "stream",
     "text": [
      "['MMETSP0372', 'MMETSP0121', 'MMETSP0113', 'MMETSP0891', 'MMETSP0932', 'MMETSP0252', 'MMETSP1065', 'MMETSP0045', 'MMETSP0930', 'MMETSP0380', 'MMETSP0169', 'MMETSP0152', 'MMETSP1358', 'MMETSP1148', 'MMETSP0232', 'MMETSP0439', 'MMETSP0268', 'MMETSP0229', 'MMETSP1178', 'MMETSP0329', 'MMETSP0315']\n",
      "21\n"
     ]
    }
   ],
   "source": [
    "dib_low_kmers = dib_ncgr_kmers.loc[dib_ncgr_kmers['unique_kmers_dib'] - dib_ncgr_kmers['unique_kmers_ncgr_nt'] < 0]\n",
    "low_kmers = dib_low_kmers['SampleName'].tolist()\n",
    "print(low_kmers)\n",
    "print(len(low_kmers))"
   ]
  },
  {
   "cell_type": "code",
   "execution_count": 16,
   "metadata": {
    "collapsed": true
   },
   "outputs": [],
   "source": [
    "low_contigs = low_dib_contigs.tolist()\n",
    "low_unique_annotation_names = unique_dammit_names_dib_low['SampleName'].tolist()\n",
    "low_ORF = low_dib_ORF.tolist()"
   ]
  },
  {
   "cell_type": "code",
   "execution_count": 17,
   "metadata": {
    "collapsed": true
   },
   "outputs": [],
   "source": [
    "low_MMETSP = low_kmers + low_unique_annotation_names + low_BUSCO + low_ORF + low_kmers"
   ]
  },
  {
   "cell_type": "code",
   "execution_count": 18,
   "metadata": {},
   "outputs": [
    {
     "name": "stdout",
     "output_type": "stream",
     "text": [
      "['MMETSP0010', 'MMETSP0011', 'MMETSP0013', 'MMETSP0014', 'MMETSP0015', 'MMETSP0017', 'MMETSP0034', 'MMETSP0038', 'MMETSP0040', 'MMETSP0044', 'MMETSP0045', 'MMETSP0046', 'MMETSP0098', 'MMETSP0113', 'MMETSP0121', 'MMETSP0132', 'MMETSP0152', 'MMETSP0169', 'MMETSP0229', 'MMETSP0232', 'MMETSP0252', 'MMETSP0268', 'MMETSP0315', 'MMETSP0329', 'MMETSP0347', 'MMETSP0359', 'MMETSP0361', 'MMETSP0372', 'MMETSP0378', 'MMETSP0380', 'MMETSP0439', 'MMETSP0451', 'MMETSP0469', 'MMETSP0780', 'MMETSP0807', 'MMETSP0886', 'MMETSP0887', 'MMETSP0888', 'MMETSP0891', 'MMETSP0912', 'MMETSP0915', 'MMETSP0916', 'MMETSP0917', 'MMETSP0924', 'MMETSP0930', 'MMETSP0932', 'MMETSP0937', 'MMETSP1012', 'MMETSP1055', 'MMETSP1057', 'MMETSP1065', 'MMETSP1103', 'MMETSP1147', 'MMETSP1148', 'MMETSP1163', 'MMETSP1166', 'MMETSP1178', 'MMETSP1329', 'MMETSP1344', 'MMETSP1358', 'MMETSP1359', 'MMETSP1397', 'MMETSP1412', 'MMETSP1426', 'MMETSP1433', 'MMETSP1435']\n"
     ]
    }
   ],
   "source": [
    "print(sorted(set(low_MMETSP)))"
   ]
  },
  {
   "cell_type": "code",
   "execution_count": 19,
   "metadata": {},
   "outputs": [
    {
     "name": "stdout",
     "output_type": "stream",
     "text": [
      "66\n"
     ]
    }
   ],
   "source": [
    "print(len(sorted(set(low_MMETSP))))"
   ]
  },
  {
   "cell_type": "code",
   "execution_count": 20,
   "metadata": {},
   "outputs": [
    {
     "name": "stdout",
     "output_type": "stream",
     "text": [
      "    SampleName           Phylum  n_seqs.1    score  mean_orf_percent.y.1  \\\n",
      "7   MMETSP0010  Bacillariophyta   43375.0  0.25090              67.98617   \n",
      "8   MMETSP0011       Rhodophyta   45875.0  0.10862              41.82596   \n",
      "9   MMETSP0013  Bacillariophyta   38251.0  0.27803              77.94483   \n",
      "10  MMETSP0014  Bacillariophyta   63046.0  0.24811              74.16254   \n",
      "11  MMETSP0015  Bacillariophyta   63642.0  0.23404              74.92930   \n",
      "\n",
      "    largest.y.1  DIB.Complete_BUSCO_perc_euk_v3  dib_assembly_unique_kmers  \n",
      "7       13866.0                       73.597360                   24840436  \n",
      "8       18160.0                       92.409241                   19018154  \n",
      "9       17601.0                       83.828383                   33217106  \n",
      "10      18219.0                       82.838284                   42853543  \n",
      "11      14591.0                       79.537954                   48027372  \n"
     ]
    }
   ],
   "source": [
    "low_all_table = all_metrics[all_metrics['SampleName'].isin(low_MMETSP)]\n",
    "low_all_table = low_all_table[['SampleName','Phylum','n_seqs.1','score','mean_orf_percent.y.1','largest.y.1','DIB.Complete_BUSCO_perc_euk_v3','dib_assembly_unique_kmers']]\n",
    "print(low_all_table.head())"
   ]
  },
  {
   "cell_type": "code",
   "execution_count": 21,
   "metadata": {},
   "outputs": [
    {
     "name": "stdout",
     "output_type": "stream",
     "text": [
      "(66, 8)\n"
     ]
    }
   ],
   "source": [
    "print(low_all_table.shape)"
   ]
  },
  {
   "cell_type": "code",
   "execution_count": 22,
   "metadata": {},
   "outputs": [
    {
     "data": {
      "text/html": [
       "<div>\n",
       "<style scoped>\n",
       "    .dataframe tbody tr th:only-of-type {\n",
       "        vertical-align: middle;\n",
       "    }\n",
       "\n",
       "    .dataframe tbody tr th {\n",
       "        vertical-align: top;\n",
       "    }\n",
       "\n",
       "    .dataframe thead th {\n",
       "        text-align: right;\n",
       "    }\n",
       "</style>\n",
       "<table border=\"1\" class=\"dataframe\">\n",
       "  <thead>\n",
       "    <tr style=\"text-align: right;\">\n",
       "      <th></th>\n",
       "      <th>SampleName</th>\n",
       "      <th>Phylum</th>\n",
       "      <th>n_seqs.1</th>\n",
       "      <th>score</th>\n",
       "      <th>mean_orf_percent.y.1</th>\n",
       "      <th>largest.y.1</th>\n",
       "      <th>DIB.Complete_BUSCO_perc_euk_v3</th>\n",
       "      <th>dib_assembly_unique_kmers</th>\n",
       "    </tr>\n",
       "  </thead>\n",
       "  <tbody>\n",
       "    <tr>\n",
       "      <th>7</th>\n",
       "      <td>MMETSP0010</td>\n",
       "      <td>Bacillariophyta</td>\n",
       "      <td>43375.0</td>\n",
       "      <td>0.25090</td>\n",
       "      <td>67.98617</td>\n",
       "      <td>13866.0</td>\n",
       "      <td>73.597360</td>\n",
       "      <td>24840436</td>\n",
       "    </tr>\n",
       "    <tr>\n",
       "      <th>8</th>\n",
       "      <td>MMETSP0011</td>\n",
       "      <td>Rhodophyta</td>\n",
       "      <td>45875.0</td>\n",
       "      <td>0.10862</td>\n",
       "      <td>41.82596</td>\n",
       "      <td>18160.0</td>\n",
       "      <td>92.409241</td>\n",
       "      <td>19018154</td>\n",
       "    </tr>\n",
       "    <tr>\n",
       "      <th>9</th>\n",
       "      <td>MMETSP0013</td>\n",
       "      <td>Bacillariophyta</td>\n",
       "      <td>38251.0</td>\n",
       "      <td>0.27803</td>\n",
       "      <td>77.94483</td>\n",
       "      <td>17601.0</td>\n",
       "      <td>83.828383</td>\n",
       "      <td>33217106</td>\n",
       "    </tr>\n",
       "    <tr>\n",
       "      <th>10</th>\n",
       "      <td>MMETSP0014</td>\n",
       "      <td>Bacillariophyta</td>\n",
       "      <td>63046.0</td>\n",
       "      <td>0.24811</td>\n",
       "      <td>74.16254</td>\n",
       "      <td>18219.0</td>\n",
       "      <td>82.838284</td>\n",
       "      <td>42853543</td>\n",
       "    </tr>\n",
       "    <tr>\n",
       "      <th>11</th>\n",
       "      <td>MMETSP0015</td>\n",
       "      <td>Bacillariophyta</td>\n",
       "      <td>63642.0</td>\n",
       "      <td>0.23404</td>\n",
       "      <td>74.92930</td>\n",
       "      <td>14591.0</td>\n",
       "      <td>79.537954</td>\n",
       "      <td>48027372</td>\n",
       "    </tr>\n",
       "  </tbody>\n",
       "</table>\n",
       "</div>"
      ],
      "text/plain": [
       "    SampleName           Phylum  n_seqs.1    score  mean_orf_percent.y.1  \\\n",
       "7   MMETSP0010  Bacillariophyta   43375.0  0.25090              67.98617   \n",
       "8   MMETSP0011       Rhodophyta   45875.0  0.10862              41.82596   \n",
       "9   MMETSP0013  Bacillariophyta   38251.0  0.27803              77.94483   \n",
       "10  MMETSP0014  Bacillariophyta   63046.0  0.24811              74.16254   \n",
       "11  MMETSP0015  Bacillariophyta   63642.0  0.23404              74.92930   \n",
       "\n",
       "    largest.y.1  DIB.Complete_BUSCO_perc_euk_v3  dib_assembly_unique_kmers  \n",
       "7       13866.0                       73.597360                   24840436  \n",
       "8       18160.0                       92.409241                   19018154  \n",
       "9       17601.0                       83.828383                   33217106  \n",
       "10      18219.0                       82.838284                   42853543  \n",
       "11      14591.0                       79.537954                   48027372  "
      ]
     },
     "execution_count": 22,
     "metadata": {},
     "output_type": "execute_result"
    }
   ],
   "source": [
    "low_all_table.head()"
   ]
  },
  {
   "cell_type": "code",
   "execution_count": 23,
   "metadata": {
    "collapsed": true
   },
   "outputs": [],
   "source": [
    "low_all_table[['DIB.Complete_BUSCO_perc_euk_v3']] = low_all_table[['DIB.Complete_BUSCO_perc_euk_v3']].astype(float)"
   ]
  },
  {
   "cell_type": "markdown",
   "metadata": {},
   "source": [
    "Absolute poor metrics, must comply with one of the following:\n",
    "* trouble running Trinity\n",
    "* low n_seqs, < 1000\n",
    "* largest, < 1000\n",
    "* low BUSCO, < 10%\n",
    "* low unique k-mers, < 1 million\n",
    "* low score, < 0.1\n",
    "\n",
    "Not relevant: % ORF and annotations in absolute numbers. Just relative metrics."
   ]
  },
  {
   "cell_type": "code",
   "execution_count": 24,
   "metadata": {},
   "outputs": [
    {
     "data": {
      "text/plain": [
       "Index(['SampleName', 'Phylum', 'n_seqs.1', 'score', 'mean_orf_percent.y.1',\n",
       "       'largest.y.1', 'DIB.Complete_BUSCO_perc_euk_v3',\n",
       "       'dib_assembly_unique_kmers'],\n",
       "      dtype='object')"
      ]
     },
     "execution_count": 24,
     "metadata": {},
     "output_type": "execute_result"
    }
   ],
   "source": [
    "low_all_table.columns"
   ]
  },
  {
   "cell_type": "code",
   "execution_count": 25,
   "metadata": {},
   "outputs": [
    {
     "name": "stdout",
     "output_type": "stream",
     "text": [
      "<class 'pandas.core.frame.DataFrame'>\n",
      "Int64Index: 66 entries, 7 to 684\n",
      "Data columns (total 8 columns):\n",
      "SampleName                        66 non-null object\n",
      "Phylum                            66 non-null object\n",
      "n_seqs.1                          66 non-null float64\n",
      "score                             62 non-null float64\n",
      "mean_orf_percent.y.1              66 non-null float64\n",
      "largest.y.1                       66 non-null float64\n",
      "DIB.Complete_BUSCO_perc_euk_v3    66 non-null float64\n",
      "dib_assembly_unique_kmers         66 non-null int64\n",
      "dtypes: float64(5), int64(1), object(2)\n",
      "memory usage: 4.6+ KB\n"
     ]
    }
   ],
   "source": [
    "low_all_table.info()"
   ]
  },
  {
   "cell_type": "markdown",
   "metadata": {},
   "source": [
    "# Good"
   ]
  },
  {
   "cell_type": "markdown",
   "metadata": {},
   "source": [
    "* Complete BUSCO > 80%\n",
    "* % ORF > 90%\n",
    "* Transrate score > 50%\n",
    "* length transcripts > 30K bases\n",
    "* unique annotations > 50%\n",
    "* unique k-mers (k=25) > 50 million more than NCGR\n",
    "* Number of contigs ??"
   ]
  },
  {
   "cell_type": "markdown",
   "metadata": {},
   "source": [
    "# BUSCO > 90%"
   ]
  },
  {
   "cell_type": "code",
   "execution_count": 26,
   "metadata": {},
   "outputs": [
    {
     "name": "stdout",
     "output_type": "stream",
     "text": [
      "['MMETSP0011', 'MMETSP0098', 'MMETSP0168', 'MMETSP0308', 'MMETSP0447', 'MMETSP0807', 'MMETSP1089', 'MMETSP1433']\n",
      "8\n"
     ]
    }
   ],
   "source": [
    "# Greater than 80% Complete\n",
    "df2=dib_busco_v3_euk\n",
    "df2.columns = ['SampleName', 'Complete_BUSCO_perc_DIB']\n",
    "\n",
    "high_DIB = df2.loc[df2['Complete_BUSCO_perc_DIB'] > 90]['SampleName']\n",
    "print(high_DIB.tolist())\n",
    "print(len(high_DIB.tolist()))\n",
    "high_DIB_BUSCO = high_DIB.tolist()"
   ]
  },
  {
   "cell_type": "markdown",
   "metadata": {},
   "source": [
    "# Transrate score"
   ]
  },
  {
   "cell_type": "code",
   "execution_count": 27,
   "metadata": {},
   "outputs": [
    {
     "name": "stdout",
     "output_type": "stream",
     "text": [
      "3\n",
      "['MMETSP0233', 'MMETSP0234', 'MMETSP0759']\n"
     ]
    }
   ],
   "source": [
    "df2=dib_transrate_score\n",
    "high_dib_transrate = df2.loc[df2['score'] > 0.5]['SampleName']\n",
    "#print(low_dib_contigs.tolist())\n",
    "print(len(high_dib_transrate.tolist()))\n",
    "high_dib_transrate = high_dib_transrate.tolist()\n",
    "print(high_dib_transrate)"
   ]
  },
  {
   "cell_type": "markdown",
   "metadata": {},
   "source": [
    "# % ORF > 95%"
   ]
  },
  {
   "cell_type": "code",
   "execution_count": 28,
   "metadata": {},
   "outputs": [
    {
     "name": "stdout",
     "output_type": "stream",
     "text": [
      "7\n",
      "['MMETSP0096', 'MMETSP0209', 'MMETSP0228', 'MMETSP0503', 'MMETSP1436', 'MMETSP1452', 'MMETSP1462']\n"
     ]
    }
   ],
   "source": [
    "df2=dib_transrate_nt\n",
    "high_dib_ORF = df2.loc[df2['mean_orf_percent'] > 95]['SampleName']\n",
    "#print(high_dib_ORF.tolist())\n",
    "high_dib_ORF = high_dib_ORF.tolist()\n",
    "print(len(high_dib_ORF))\n",
    "print(high_dib_ORF)"
   ]
  },
  {
   "cell_type": "markdown",
   "metadata": {},
   "source": [
    "# Length > 30K bases"
   ]
  },
  {
   "cell_type": "code",
   "execution_count": 29,
   "metadata": {},
   "outputs": [
    {
     "name": "stdout",
     "output_type": "stream",
     "text": [
      "6\n",
      "['MMETSP0039', 'MMETSP0929', 'MMETSP1060', 'MMETSP1321', 'MMETSP1399', 'MMETSP1433']\n"
     ]
    }
   ],
   "source": [
    "DIB_longest = all_metrics[['SampleName','largest.x']]\n",
    "DIB_longest = DIB_longest.loc[DIB_longest['largest.x'] > 30000]['SampleName']\n",
    "print(len(DIB_longest.tolist()))\n",
    "DIB_longest = DIB_longest.tolist()\n",
    "print(DIB_longest)"
   ]
  },
  {
   "cell_type": "markdown",
   "metadata": {},
   "source": [
    "# Unique normalized annotated contigs > 70%"
   ]
  },
  {
   "cell_type": "code",
   "execution_count": 30,
   "metadata": {
    "collapsed": true
   },
   "outputs": [],
   "source": [
    "unique_dammit_names = pd.read_csv(\"../assembly_evaluation_data/normalized_unique_gene_names_ncgr_dib.csv\")\n",
    "unique_dammit_names = unique_dammit_names[~unique_dammit_names['MMETSP_id'].isin(special_flowers)]\n",
    "unique_dammit_names.columns = ['Blank','SampleName','NCGR','DIB']"
   ]
  },
  {
   "cell_type": "code",
   "execution_count": 31,
   "metadata": {},
   "outputs": [
    {
     "name": "stdout",
     "output_type": "stream",
     "text": [
      "4\n",
      "['MMETSP0225', 'MMETSP0044', 'MMETSP0018', 'MMETSP0347']\n"
     ]
    }
   ],
   "source": [
    "high_unique_annotation_names = unique_dammit_names.loc[unique_dammit_names['DIB'] > 0.8]['SampleName']\n",
    "print(len(high_unique_annotation_names.tolist()))\n",
    "high_unique_annotation_names = high_unique_annotation_names.tolist()\n",
    "print(high_unique_annotation_names)"
   ]
  },
  {
   "cell_type": "markdown",
   "metadata": {},
   "source": [
    "# Unique k-mers, more than 50 million more unique k-mers in DIB vs. NCGR"
   ]
  },
  {
   "cell_type": "code",
   "execution_count": 32,
   "metadata": {},
   "outputs": [
    {
     "name": "stdout",
     "output_type": "stream",
     "text": [
      "3\n",
      "['MMETSP1015', 'MMETSP0574', 'MMETSP0039']\n"
     ]
    }
   ],
   "source": [
    "dib_high_kmers = dib_ncgr_kmers.loc[dib_ncgr_kmers['unique_kmers_dib'] - dib_ncgr_kmers['unique_kmers_ncgr_nt'] > 50000000]\n",
    "dib_high_kmers = dib_high_kmers['SampleName'].tolist()\n",
    "print(len(dib_high_kmers))\n",
    "print(dib_high_kmers)"
   ]
  },
  {
   "cell_type": "code",
   "execution_count": 33,
   "metadata": {
    "collapsed": true
   },
   "outputs": [],
   "source": [
    "high_MMETSP = high_DIB_BUSCO + high_dib_transrate + high_dib_ORF + DIB_longest + high_unique_annotation_names + dib_high_kmers"
   ]
  },
  {
   "cell_type": "code",
   "execution_count": 34,
   "metadata": {},
   "outputs": [
    {
     "name": "stdout",
     "output_type": "stream",
     "text": [
      "['MMETSP0011', 'MMETSP0018', 'MMETSP0039', 'MMETSP0039', 'MMETSP0044', 'MMETSP0096', 'MMETSP0098', 'MMETSP0168', 'MMETSP0209', 'MMETSP0225', 'MMETSP0228', 'MMETSP0233', 'MMETSP0234', 'MMETSP0308', 'MMETSP0347', 'MMETSP0447', 'MMETSP0503', 'MMETSP0574', 'MMETSP0759', 'MMETSP0807', 'MMETSP0929', 'MMETSP1015', 'MMETSP1060', 'MMETSP1089', 'MMETSP1321', 'MMETSP1399', 'MMETSP1433', 'MMETSP1433', 'MMETSP1436', 'MMETSP1452', 'MMETSP1462']\n"
     ]
    }
   ],
   "source": [
    "print(sorted(high_MMETSP))"
   ]
  },
  {
   "cell_type": "code",
   "execution_count": 35,
   "metadata": {},
   "outputs": [
    {
     "data": {
      "text/plain": [
       "29"
      ]
     },
     "execution_count": 35,
     "metadata": {},
     "output_type": "execute_result"
    }
   ],
   "source": [
    "len(list(set(high_MMETSP)))"
   ]
  },
  {
   "cell_type": "markdown",
   "metadata": {},
   "source": [
    "# Subsetting High"
   ]
  },
  {
   "cell_type": "code",
   "execution_count": 36,
   "metadata": {},
   "outputs": [
    {
     "name": "stdout",
     "output_type": "stream",
     "text": [
      "(660, 8)\n"
     ]
    }
   ],
   "source": [
    "high_all_table = all_metrics\n",
    "high_all_table = high_all_table[['SampleName','Phylum','n_seqs','score','mean_orf_percent','largest.x','DIB.Complete_BUSCO_perc_euk_v3','dib_assembly_unique_kmers']]\n",
    "print(high_all_table.shape)"
   ]
  },
  {
   "cell_type": "code",
   "execution_count": 37,
   "metadata": {},
   "outputs": [
    {
     "data": {
      "text/html": [
       "<div>\n",
       "<style scoped>\n",
       "    .dataframe tbody tr th:only-of-type {\n",
       "        vertical-align: middle;\n",
       "    }\n",
       "\n",
       "    .dataframe tbody tr th {\n",
       "        vertical-align: top;\n",
       "    }\n",
       "\n",
       "    .dataframe thead th {\n",
       "        text-align: right;\n",
       "    }\n",
       "</style>\n",
       "<table border=\"1\" class=\"dataframe\">\n",
       "  <thead>\n",
       "    <tr style=\"text-align: right;\">\n",
       "      <th></th>\n",
       "      <th>SampleName</th>\n",
       "      <th>Phylum</th>\n",
       "      <th>n_seqs</th>\n",
       "      <th>score</th>\n",
       "      <th>mean_orf_percent</th>\n",
       "      <th>largest.x</th>\n",
       "      <th>DIB.Complete_BUSCO_perc_euk_v3</th>\n",
       "      <th>dib_assembly_unique_kmers</th>\n",
       "    </tr>\n",
       "  </thead>\n",
       "  <tbody>\n",
       "    <tr>\n",
       "      <th>0</th>\n",
       "      <td>MMETSP0004</td>\n",
       "      <td>Ochrophyta</td>\n",
       "      <td>33559.0</td>\n",
       "      <td>0.38093</td>\n",
       "      <td>81.26381</td>\n",
       "      <td>17276.0</td>\n",
       "      <td>69.636964</td>\n",
       "      <td>19837761</td>\n",
       "    </tr>\n",
       "    <tr>\n",
       "      <th>1</th>\n",
       "      <td>MMETSP0005</td>\n",
       "      <td>Ochrophyta</td>\n",
       "      <td>32824.0</td>\n",
       "      <td>0.38214</td>\n",
       "      <td>80.15649</td>\n",
       "      <td>11058.0</td>\n",
       "      <td>67.326733</td>\n",
       "      <td>20350054</td>\n",
       "    </tr>\n",
       "    <tr>\n",
       "      <th>2</th>\n",
       "      <td>MMETSP0006</td>\n",
       "      <td>Haptophyta</td>\n",
       "      <td>47463.0</td>\n",
       "      <td>0.38143</td>\n",
       "      <td>80.79508</td>\n",
       "      <td>15370.0</td>\n",
       "      <td>55.775578</td>\n",
       "      <td>25286098</td>\n",
       "    </tr>\n",
       "    <tr>\n",
       "      <th>3</th>\n",
       "      <td>MMETSP0007</td>\n",
       "      <td>Haptophyta</td>\n",
       "      <td>30922.0</td>\n",
       "      <td>0.27164</td>\n",
       "      <td>71.01950</td>\n",
       "      <td>6567.0</td>\n",
       "      <td>30.363036</td>\n",
       "      <td>12496793</td>\n",
       "    </tr>\n",
       "    <tr>\n",
       "      <th>6</th>\n",
       "      <td>MMETSP0009</td>\n",
       "      <td>Bacillariophyta</td>\n",
       "      <td>54275.0</td>\n",
       "      <td>0.25534</td>\n",
       "      <td>80.37076</td>\n",
       "      <td>10587.0</td>\n",
       "      <td>46.534653</td>\n",
       "      <td>30074483</td>\n",
       "    </tr>\n",
       "  </tbody>\n",
       "</table>\n",
       "</div>"
      ],
      "text/plain": [
       "   SampleName           Phylum   n_seqs    score  mean_orf_percent  largest.x  \\\n",
       "0  MMETSP0004       Ochrophyta  33559.0  0.38093          81.26381    17276.0   \n",
       "1  MMETSP0005       Ochrophyta  32824.0  0.38214          80.15649    11058.0   \n",
       "2  MMETSP0006       Haptophyta  47463.0  0.38143          80.79508    15370.0   \n",
       "3  MMETSP0007       Haptophyta  30922.0  0.27164          71.01950     6567.0   \n",
       "6  MMETSP0009  Bacillariophyta  54275.0  0.25534          80.37076    10587.0   \n",
       "\n",
       "   DIB.Complete_BUSCO_perc_euk_v3  dib_assembly_unique_kmers  \n",
       "0                       69.636964                   19837761  \n",
       "1                       67.326733                   20350054  \n",
       "2                       55.775578                   25286098  \n",
       "3                       30.363036                   12496793  \n",
       "6                       46.534653                   30074483  "
      ]
     },
     "execution_count": 37,
     "metadata": {},
     "output_type": "execute_result"
    }
   ],
   "source": [
    "high_all_table.head()"
   ]
  },
  {
   "cell_type": "code",
   "execution_count": 38,
   "metadata": {},
   "outputs": [
    {
     "data": {
      "text/plain": [
       "(660, 8)"
      ]
     },
     "execution_count": 38,
     "metadata": {},
     "output_type": "execute_result"
    }
   ],
   "source": [
    "high_all_table.shape"
   ]
  },
  {
   "cell_type": "code",
   "execution_count": 39,
   "metadata": {
    "collapsed": true
   },
   "outputs": [],
   "source": [
    "#high_all_table_filtered = high_all_table_filtered.set_index('SampleName')"
   ]
  },
  {
   "cell_type": "code",
   "execution_count": 40,
   "metadata": {},
   "outputs": [
    {
     "data": {
      "text/plain": [
       "Index(['SampleName', 'Phylum', 'n_seqs', 'score', 'mean_orf_percent',\n",
       "       'largest.x', 'DIB.Complete_BUSCO_perc_euk_v3',\n",
       "       'dib_assembly_unique_kmers'],\n",
       "      dtype='object')"
      ]
     },
     "execution_count": 40,
     "metadata": {},
     "output_type": "execute_result"
    }
   ],
   "source": [
    "high_all_table.columns"
   ]
  },
  {
   "cell_type": "code",
   "execution_count": 41,
   "metadata": {},
   "outputs": [
    {
     "name": "stdout",
     "output_type": "stream",
     "text": [
      "54783.0\n",
      "0.37296\n",
      "88.46954\n",
      "14351.0\n",
      "75.57755776\n",
      "33219562.0\n"
     ]
    }
   ],
   "source": [
    "n_seqs_cutoff = high_all_table['n_seqs'].describe()[['75%']][0]\n",
    "print(n_seqs_cutoff)\n",
    "score_cutoff = high_all_table['score'].describe()[['75%']][0]\n",
    "print(score_cutoff)\n",
    "orf_cutoff = high_all_table['mean_orf_percent'].describe()[['75%']][0]\n",
    "print(orf_cutoff)\n",
    "largest_contig_cutoff = high_all_table['largest.x'].describe()[['75%']][0]\n",
    "print(largest_contig_cutoff)\n",
    "BUSCO_cutoff = high_all_table['DIB.Complete_BUSCO_perc_euk_v3'].describe()[['75%']][0]\n",
    "print(BUSCO_cutoff)\n",
    "unique_kmers_cutoff = high_all_table['dib_assembly_unique_kmers'].describe()[['75%']][0]\n",
    "print(unique_kmers_cutoff)"
   ]
  },
  {
   "cell_type": "code",
   "execution_count": 42,
   "metadata": {},
   "outputs": [
    {
     "name": "stderr",
     "output_type": "stream",
     "text": [
      "/Users/johnsolk/anaconda3/lib/python3.6/site-packages/ipykernel_launcher.py:2: SettingWithCopyWarning: \n",
      "A value is trying to be set on a copy of a slice from a DataFrame.\n",
      "Try using .loc[row_indexer,col_indexer] = value instead\n",
      "\n",
      "See the caveats in the documentation: http://pandas.pydata.org/pandas-docs/stable/indexing.html#indexing-view-versus-copy\n",
      "  \n",
      "/Users/johnsolk/anaconda3/lib/python3.6/site-packages/ipykernel_launcher.py:3: SettingWithCopyWarning: \n",
      "A value is trying to be set on a copy of a slice from a DataFrame.\n",
      "Try using .loc[row_indexer,col_indexer] = value instead\n",
      "\n",
      "See the caveats in the documentation: http://pandas.pydata.org/pandas-docs/stable/indexing.html#indexing-view-versus-copy\n",
      "  This is separate from the ipykernel package so we can avoid doing imports until\n",
      "/Users/johnsolk/anaconda3/lib/python3.6/site-packages/ipykernel_launcher.py:4: SettingWithCopyWarning: \n",
      "A value is trying to be set on a copy of a slice from a DataFrame.\n",
      "Try using .loc[row_indexer,col_indexer] = value instead\n",
      "\n",
      "See the caveats in the documentation: http://pandas.pydata.org/pandas-docs/stable/indexing.html#indexing-view-versus-copy\n",
      "  after removing the cwd from sys.path.\n",
      "/Users/johnsolk/anaconda3/lib/python3.6/site-packages/ipykernel_launcher.py:5: SettingWithCopyWarning: \n",
      "A value is trying to be set on a copy of a slice from a DataFrame.\n",
      "Try using .loc[row_indexer,col_indexer] = value instead\n",
      "\n",
      "See the caveats in the documentation: http://pandas.pydata.org/pandas-docs/stable/indexing.html#indexing-view-versus-copy\n",
      "  \"\"\"\n",
      "/Users/johnsolk/anaconda3/lib/python3.6/site-packages/ipykernel_launcher.py:6: SettingWithCopyWarning: \n",
      "A value is trying to be set on a copy of a slice from a DataFrame.\n",
      "Try using .loc[row_indexer,col_indexer] = value instead\n",
      "\n",
      "See the caveats in the documentation: http://pandas.pydata.org/pandas-docs/stable/indexing.html#indexing-view-versus-copy\n",
      "  \n",
      "/Users/johnsolk/anaconda3/lib/python3.6/site-packages/ipykernel_launcher.py:7: SettingWithCopyWarning: \n",
      "A value is trying to be set on a copy of a slice from a DataFrame.\n",
      "Try using .loc[row_indexer,col_indexer] = value instead\n",
      "\n",
      "See the caveats in the documentation: http://pandas.pydata.org/pandas-docs/stable/indexing.html#indexing-view-versus-copy\n",
      "  import sys\n"
     ]
    }
   ],
   "source": [
    "high_all_table_ranked = high_all_table\n",
    "high_all_table_ranked['n_seqs_ranked'] = (high_all_table_ranked['n_seqs'].rank(ascending=1)/660)*100\n",
    "high_all_table_ranked['largest_ranked'] = (high_all_table_ranked['largest.x'].rank(ascending=1)/660)*100\n",
    "high_all_table_ranked['score_ranked'] = (high_all_table_ranked['score'].rank(ascending=1)/660)*100\n",
    "high_all_table_ranked['unique_kmers_ranked'] = (high_all_table_ranked['dib_assembly_unique_kmers'].rank(ascending=1)/660)*100\n",
    "high_all_table_ranked['BUSCO_ranked'] = (high_all_table_ranked['DIB.Complete_BUSCO_perc_euk_v3'].rank(ascending=1)/660)*100\n",
    "high_all_table_ranked['orf_ranked'] = (high_all_table_ranked['mean_orf_percent'].rank(ascending=1)/660)*100"
   ]
  },
  {
   "cell_type": "code",
   "execution_count": 43,
   "metadata": {},
   "outputs": [
    {
     "data": {
      "text/html": [
       "<div>\n",
       "<style scoped>\n",
       "    .dataframe tbody tr th:only-of-type {\n",
       "        vertical-align: middle;\n",
       "    }\n",
       "\n",
       "    .dataframe tbody tr th {\n",
       "        vertical-align: top;\n",
       "    }\n",
       "\n",
       "    .dataframe thead th {\n",
       "        text-align: right;\n",
       "    }\n",
       "</style>\n",
       "<table border=\"1\" class=\"dataframe\">\n",
       "  <thead>\n",
       "    <tr style=\"text-align: right;\">\n",
       "      <th></th>\n",
       "      <th>SampleName</th>\n",
       "      <th>Phylum</th>\n",
       "      <th>n_seqs</th>\n",
       "      <th>score</th>\n",
       "      <th>mean_orf_percent</th>\n",
       "      <th>largest.x</th>\n",
       "      <th>DIB.Complete_BUSCO_perc_euk_v3</th>\n",
       "      <th>dib_assembly_unique_kmers</th>\n",
       "      <th>n_seqs_ranked</th>\n",
       "      <th>largest_ranked</th>\n",
       "      <th>score_ranked</th>\n",
       "      <th>unique_kmers_ranked</th>\n",
       "      <th>BUSCO_ranked</th>\n",
       "      <th>orf_ranked</th>\n",
       "    </tr>\n",
       "  </thead>\n",
       "  <tbody>\n",
       "    <tr>\n",
       "      <th>0</th>\n",
       "      <td>MMETSP0004</td>\n",
       "      <td>Ochrophyta</td>\n",
       "      <td>33559.0</td>\n",
       "      <td>0.38093</td>\n",
       "      <td>81.26381</td>\n",
       "      <td>17276.0</td>\n",
       "      <td>69.636964</td>\n",
       "      <td>19837761</td>\n",
       "      <td>43.181818</td>\n",
       "      <td>88.030303</td>\n",
       "      <td>76.666667</td>\n",
       "      <td>33.484848</td>\n",
       "      <td>57.121212</td>\n",
       "      <td>40.606061</td>\n",
       "    </tr>\n",
       "    <tr>\n",
       "      <th>1</th>\n",
       "      <td>MMETSP0005</td>\n",
       "      <td>Ochrophyta</td>\n",
       "      <td>32824.0</td>\n",
       "      <td>0.38214</td>\n",
       "      <td>80.15649</td>\n",
       "      <td>11058.0</td>\n",
       "      <td>67.326733</td>\n",
       "      <td>20350054</td>\n",
       "      <td>40.303030</td>\n",
       "      <td>47.575758</td>\n",
       "      <td>77.121212</td>\n",
       "      <td>35.151515</td>\n",
       "      <td>50.454545</td>\n",
       "      <td>35.000000</td>\n",
       "    </tr>\n",
       "    <tr>\n",
       "      <th>2</th>\n",
       "      <td>MMETSP0006</td>\n",
       "      <td>Haptophyta</td>\n",
       "      <td>47463.0</td>\n",
       "      <td>0.38143</td>\n",
       "      <td>80.79508</td>\n",
       "      <td>15370.0</td>\n",
       "      <td>55.775578</td>\n",
       "      <td>25286098</td>\n",
       "      <td>67.121212</td>\n",
       "      <td>80.303030</td>\n",
       "      <td>76.818182</td>\n",
       "      <td>53.030303</td>\n",
       "      <td>24.621212</td>\n",
       "      <td>37.878788</td>\n",
       "    </tr>\n",
       "    <tr>\n",
       "      <th>3</th>\n",
       "      <td>MMETSP0007</td>\n",
       "      <td>Haptophyta</td>\n",
       "      <td>30922.0</td>\n",
       "      <td>0.27164</td>\n",
       "      <td>71.01950</td>\n",
       "      <td>6567.0</td>\n",
       "      <td>30.363036</td>\n",
       "      <td>12496793</td>\n",
       "      <td>33.939394</td>\n",
       "      <td>13.181818</td>\n",
       "      <td>24.469697</td>\n",
       "      <td>12.727273</td>\n",
       "      <td>7.121212</td>\n",
       "      <td>9.242424</td>\n",
       "    </tr>\n",
       "    <tr>\n",
       "      <th>6</th>\n",
       "      <td>MMETSP0009</td>\n",
       "      <td>Bacillariophyta</td>\n",
       "      <td>54275.0</td>\n",
       "      <td>0.25534</td>\n",
       "      <td>80.37076</td>\n",
       "      <td>10587.0</td>\n",
       "      <td>46.534653</td>\n",
       "      <td>30074483</td>\n",
       "      <td>73.787879</td>\n",
       "      <td>45.151515</td>\n",
       "      <td>20.757576</td>\n",
       "      <td>67.272727</td>\n",
       "      <td>15.075758</td>\n",
       "      <td>35.909091</td>\n",
       "    </tr>\n",
       "  </tbody>\n",
       "</table>\n",
       "</div>"
      ],
      "text/plain": [
       "   SampleName           Phylum   n_seqs    score  mean_orf_percent  largest.x  \\\n",
       "0  MMETSP0004       Ochrophyta  33559.0  0.38093          81.26381    17276.0   \n",
       "1  MMETSP0005       Ochrophyta  32824.0  0.38214          80.15649    11058.0   \n",
       "2  MMETSP0006       Haptophyta  47463.0  0.38143          80.79508    15370.0   \n",
       "3  MMETSP0007       Haptophyta  30922.0  0.27164          71.01950     6567.0   \n",
       "6  MMETSP0009  Bacillariophyta  54275.0  0.25534          80.37076    10587.0   \n",
       "\n",
       "   DIB.Complete_BUSCO_perc_euk_v3  dib_assembly_unique_kmers  n_seqs_ranked  \\\n",
       "0                       69.636964                   19837761      43.181818   \n",
       "1                       67.326733                   20350054      40.303030   \n",
       "2                       55.775578                   25286098      67.121212   \n",
       "3                       30.363036                   12496793      33.939394   \n",
       "6                       46.534653                   30074483      73.787879   \n",
       "\n",
       "   largest_ranked  score_ranked  unique_kmers_ranked  BUSCO_ranked  orf_ranked  \n",
       "0       88.030303     76.666667            33.484848     57.121212   40.606061  \n",
       "1       47.575758     77.121212            35.151515     50.454545   35.000000  \n",
       "2       80.303030     76.818182            53.030303     24.621212   37.878788  \n",
       "3       13.181818     24.469697            12.727273      7.121212    9.242424  \n",
       "6       45.151515     20.757576            67.272727     15.075758   35.909091  "
      ]
     },
     "execution_count": 43,
     "metadata": {},
     "output_type": "execute_result"
    }
   ],
   "source": [
    "high_all_table_ranked.head()"
   ]
  },
  {
   "cell_type": "code",
   "execution_count": 44,
   "metadata": {
    "collapsed": true
   },
   "outputs": [],
   "source": [
    "high_heatmap_filtered = high_all_table_ranked[(high_all_table_ranked['DIB.Complete_BUSCO_perc_euk_v3'] > BUSCO_cutoff) &\n",
    "                                         (high_all_table_ranked['dib_assembly_unique_kmers'] > unique_kmers_cutoff) &\n",
    "                                         (high_all_table_ranked['n_seqs'] > n_seqs_cutoff) &\n",
    "                                         (high_all_table_ranked['largest.x'] > largest_contig_cutoff)]\n",
    "                                         #(high_all_table['score'] > score_cutoff)]"
   ]
  },
  {
   "cell_type": "code",
   "execution_count": 45,
   "metadata": {},
   "outputs": [
    {
     "data": {
      "text/plain": [
       "(12, 14)"
      ]
     },
     "execution_count": 45,
     "metadata": {},
     "output_type": "execute_result"
    }
   ],
   "source": [
    "high_heatmap_filtered.shape"
   ]
  },
  {
   "cell_type": "code",
   "execution_count": 46,
   "metadata": {},
   "outputs": [
    {
     "data": {
      "text/html": [
       "<div>\n",
       "<style scoped>\n",
       "    .dataframe tbody tr th:only-of-type {\n",
       "        vertical-align: middle;\n",
       "    }\n",
       "\n",
       "    .dataframe tbody tr th {\n",
       "        vertical-align: top;\n",
       "    }\n",
       "\n",
       "    .dataframe thead th {\n",
       "        text-align: right;\n",
       "    }\n",
       "</style>\n",
       "<table border=\"1\" class=\"dataframe\">\n",
       "  <thead>\n",
       "    <tr style=\"text-align: right;\">\n",
       "      <th></th>\n",
       "      <th>SampleName</th>\n",
       "      <th>Phylum</th>\n",
       "      <th>n_seqs</th>\n",
       "      <th>score</th>\n",
       "      <th>mean_orf_percent</th>\n",
       "      <th>largest.x</th>\n",
       "      <th>DIB.Complete_BUSCO_perc_euk_v3</th>\n",
       "      <th>dib_assembly_unique_kmers</th>\n",
       "      <th>n_seqs_ranked</th>\n",
       "      <th>largest_ranked</th>\n",
       "      <th>score_ranked</th>\n",
       "      <th>unique_kmers_ranked</th>\n",
       "      <th>BUSCO_ranked</th>\n",
       "      <th>orf_ranked</th>\n",
       "    </tr>\n",
       "  </thead>\n",
       "  <tbody>\n",
       "    <tr>\n",
       "      <th>10</th>\n",
       "      <td>MMETSP0014</td>\n",
       "      <td>Bacillariophyta</td>\n",
       "      <td>63046.0</td>\n",
       "      <td>0.24811</td>\n",
       "      <td>74.16254</td>\n",
       "      <td>18219.0</td>\n",
       "      <td>82.838284</td>\n",
       "      <td>42853543</td>\n",
       "      <td>77.121212</td>\n",
       "      <td>90.606061</td>\n",
       "      <td>18.181818</td>\n",
       "      <td>84.545455</td>\n",
       "      <td>92.424242</td>\n",
       "      <td>15.303030</td>\n",
       "    </tr>\n",
       "    <tr>\n",
       "      <th>11</th>\n",
       "      <td>MMETSP0015</td>\n",
       "      <td>Bacillariophyta</td>\n",
       "      <td>63642.0</td>\n",
       "      <td>0.23404</td>\n",
       "      <td>74.92930</td>\n",
       "      <td>14591.0</td>\n",
       "      <td>79.537954</td>\n",
       "      <td>48027372</td>\n",
       "      <td>77.727273</td>\n",
       "      <td>75.606061</td>\n",
       "      <td>14.545455</td>\n",
       "      <td>86.666667</td>\n",
       "      <td>86.893939</td>\n",
       "      <td>16.969697</td>\n",
       "    </tr>\n",
       "    <tr>\n",
       "      <th>21</th>\n",
       "      <td>MMETSP0034</td>\n",
       "      <td>Chlorophyta</td>\n",
       "      <td>73008.0</td>\n",
       "      <td>0.26179</td>\n",
       "      <td>79.09444</td>\n",
       "      <td>28609.0</td>\n",
       "      <td>87.458746</td>\n",
       "      <td>36962364</td>\n",
       "      <td>82.272727</td>\n",
       "      <td>97.727273</td>\n",
       "      <td>22.272727</td>\n",
       "      <td>80.151515</td>\n",
       "      <td>97.424242</td>\n",
       "      <td>29.696970</td>\n",
       "    </tr>\n",
       "    <tr>\n",
       "      <th>23</th>\n",
       "      <td>MMETSP0039</td>\n",
       "      <td>Euglenozoa</td>\n",
       "      <td>154322.0</td>\n",
       "      <td>0.16884</td>\n",
       "      <td>69.99210</td>\n",
       "      <td>36657.0</td>\n",
       "      <td>75.907591</td>\n",
       "      <td>90240760</td>\n",
       "      <td>96.818182</td>\n",
       "      <td>98.787879</td>\n",
       "      <td>5.909091</td>\n",
       "      <td>97.424242</td>\n",
       "      <td>76.893939</td>\n",
       "      <td>7.575758</td>\n",
       "    </tr>\n",
       "    <tr>\n",
       "      <th>31</th>\n",
       "      <td>MMETSP0047</td>\n",
       "      <td>Cryptophyta</td>\n",
       "      <td>68249.0</td>\n",
       "      <td>0.36979</td>\n",
       "      <td>88.09522</td>\n",
       "      <td>15663.0</td>\n",
       "      <td>80.198020</td>\n",
       "      <td>35832341</td>\n",
       "      <td>80.454545</td>\n",
       "      <td>81.515152</td>\n",
       "      <td>72.878788</td>\n",
       "      <td>78.484848</td>\n",
       "      <td>88.030303</td>\n",
       "      <td>71.969697</td>\n",
       "    </tr>\n",
       "    <tr>\n",
       "      <th>82</th>\n",
       "      <td>MMETSP0120</td>\n",
       "      <td>Dinophyta</td>\n",
       "      <td>134492.0</td>\n",
       "      <td>0.34076</td>\n",
       "      <td>92.92111</td>\n",
       "      <td>15571.0</td>\n",
       "      <td>79.537954</td>\n",
       "      <td>84042448</td>\n",
       "      <td>94.545455</td>\n",
       "      <td>80.757576</td>\n",
       "      <td>59.545455</td>\n",
       "      <td>95.606061</td>\n",
       "      <td>86.893939</td>\n",
       "      <td>93.181818</td>\n",
       "    </tr>\n",
       "    <tr>\n",
       "      <th>192</th>\n",
       "      <td>MMETSP0359</td>\n",
       "      <td>Dinophyta</td>\n",
       "      <td>178850.0</td>\n",
       "      <td>0.29286</td>\n",
       "      <td>87.96250</td>\n",
       "      <td>16823.0</td>\n",
       "      <td>80.858086</td>\n",
       "      <td>112607134</td>\n",
       "      <td>98.636364</td>\n",
       "      <td>86.515152</td>\n",
       "      <td>30.757576</td>\n",
       "      <td>99.696970</td>\n",
       "      <td>89.166667</td>\n",
       "      <td>71.515152</td>\n",
       "    </tr>\n",
       "    <tr>\n",
       "      <th>194</th>\n",
       "      <td>MMETSP0361</td>\n",
       "      <td>Dinophyta</td>\n",
       "      <td>184980.0</td>\n",
       "      <td>0.27152</td>\n",
       "      <td>87.42226</td>\n",
       "      <td>15786.0</td>\n",
       "      <td>82.178218</td>\n",
       "      <td>114575790</td>\n",
       "      <td>98.939394</td>\n",
       "      <td>82.424242</td>\n",
       "      <td>24.242424</td>\n",
       "      <td>99.848485</td>\n",
       "      <td>91.287879</td>\n",
       "      <td>69.090909</td>\n",
       "    </tr>\n",
       "    <tr>\n",
       "      <th>240</th>\n",
       "      <td>MMETSP0484</td>\n",
       "      <td>Cryptophyta</td>\n",
       "      <td>64603.0</td>\n",
       "      <td>0.43111</td>\n",
       "      <td>89.53475</td>\n",
       "      <td>16621.0</td>\n",
       "      <td>77.227723</td>\n",
       "      <td>39438755</td>\n",
       "      <td>78.181818</td>\n",
       "      <td>86.060606</td>\n",
       "      <td>90.454545</td>\n",
       "      <td>82.878788</td>\n",
       "      <td>81.212121</td>\n",
       "      <td>77.727273</td>\n",
       "    </tr>\n",
       "    <tr>\n",
       "      <th>426</th>\n",
       "      <td>MMETSP0986</td>\n",
       "      <td>Unknown</td>\n",
       "      <td>69530.0</td>\n",
       "      <td>0.29391</td>\n",
       "      <td>89.83816</td>\n",
       "      <td>20685.0</td>\n",
       "      <td>79.207921</td>\n",
       "      <td>36238096</td>\n",
       "      <td>80.909091</td>\n",
       "      <td>94.090909</td>\n",
       "      <td>31.515152</td>\n",
       "      <td>79.545455</td>\n",
       "      <td>86.363636</td>\n",
       "      <td>78.636364</td>\n",
       "    </tr>\n",
       "    <tr>\n",
       "      <th>427</th>\n",
       "      <td>MMETSP0987</td>\n",
       "      <td>Unknown</td>\n",
       "      <td>70994.0</td>\n",
       "      <td>0.29766</td>\n",
       "      <td>89.58519</td>\n",
       "      <td>22166.0</td>\n",
       "      <td>81.518152</td>\n",
       "      <td>37538846</td>\n",
       "      <td>81.666667</td>\n",
       "      <td>95.000000</td>\n",
       "      <td>34.090909</td>\n",
       "      <td>80.909091</td>\n",
       "      <td>90.378788</td>\n",
       "      <td>77.878788</td>\n",
       "    </tr>\n",
       "    <tr>\n",
       "      <th>429</th>\n",
       "      <td>MMETSP0989</td>\n",
       "      <td>Unknown</td>\n",
       "      <td>70975.0</td>\n",
       "      <td>0.30561</td>\n",
       "      <td>89.84462</td>\n",
       "      <td>15674.0</td>\n",
       "      <td>81.848185</td>\n",
       "      <td>40458797</td>\n",
       "      <td>81.515152</td>\n",
       "      <td>81.666667</td>\n",
       "      <td>38.333333</td>\n",
       "      <td>83.333333</td>\n",
       "      <td>90.984848</td>\n",
       "      <td>78.787879</td>\n",
       "    </tr>\n",
       "  </tbody>\n",
       "</table>\n",
       "</div>"
      ],
      "text/plain": [
       "     SampleName           Phylum    n_seqs    score  mean_orf_percent  \\\n",
       "10   MMETSP0014  Bacillariophyta   63046.0  0.24811          74.16254   \n",
       "11   MMETSP0015  Bacillariophyta   63642.0  0.23404          74.92930   \n",
       "21   MMETSP0034      Chlorophyta   73008.0  0.26179          79.09444   \n",
       "23   MMETSP0039       Euglenozoa  154322.0  0.16884          69.99210   \n",
       "31   MMETSP0047      Cryptophyta   68249.0  0.36979          88.09522   \n",
       "82   MMETSP0120        Dinophyta  134492.0  0.34076          92.92111   \n",
       "192  MMETSP0359        Dinophyta  178850.0  0.29286          87.96250   \n",
       "194  MMETSP0361        Dinophyta  184980.0  0.27152          87.42226   \n",
       "240  MMETSP0484      Cryptophyta   64603.0  0.43111          89.53475   \n",
       "426  MMETSP0986          Unknown   69530.0  0.29391          89.83816   \n",
       "427  MMETSP0987          Unknown   70994.0  0.29766          89.58519   \n",
       "429  MMETSP0989          Unknown   70975.0  0.30561          89.84462   \n",
       "\n",
       "     largest.x  DIB.Complete_BUSCO_perc_euk_v3  dib_assembly_unique_kmers  \\\n",
       "10     18219.0                       82.838284                   42853543   \n",
       "11     14591.0                       79.537954                   48027372   \n",
       "21     28609.0                       87.458746                   36962364   \n",
       "23     36657.0                       75.907591                   90240760   \n",
       "31     15663.0                       80.198020                   35832341   \n",
       "82     15571.0                       79.537954                   84042448   \n",
       "192    16823.0                       80.858086                  112607134   \n",
       "194    15786.0                       82.178218                  114575790   \n",
       "240    16621.0                       77.227723                   39438755   \n",
       "426    20685.0                       79.207921                   36238096   \n",
       "427    22166.0                       81.518152                   37538846   \n",
       "429    15674.0                       81.848185                   40458797   \n",
       "\n",
       "     n_seqs_ranked  largest_ranked  score_ranked  unique_kmers_ranked  \\\n",
       "10       77.121212       90.606061     18.181818            84.545455   \n",
       "11       77.727273       75.606061     14.545455            86.666667   \n",
       "21       82.272727       97.727273     22.272727            80.151515   \n",
       "23       96.818182       98.787879      5.909091            97.424242   \n",
       "31       80.454545       81.515152     72.878788            78.484848   \n",
       "82       94.545455       80.757576     59.545455            95.606061   \n",
       "192      98.636364       86.515152     30.757576            99.696970   \n",
       "194      98.939394       82.424242     24.242424            99.848485   \n",
       "240      78.181818       86.060606     90.454545            82.878788   \n",
       "426      80.909091       94.090909     31.515152            79.545455   \n",
       "427      81.666667       95.000000     34.090909            80.909091   \n",
       "429      81.515152       81.666667     38.333333            83.333333   \n",
       "\n",
       "     BUSCO_ranked  orf_ranked  \n",
       "10      92.424242   15.303030  \n",
       "11      86.893939   16.969697  \n",
       "21      97.424242   29.696970  \n",
       "23      76.893939    7.575758  \n",
       "31      88.030303   71.969697  \n",
       "82      86.893939   93.181818  \n",
       "192     89.166667   71.515152  \n",
       "194     91.287879   69.090909  \n",
       "240     81.212121   77.727273  \n",
       "426     86.363636   78.636364  \n",
       "427     90.378788   77.878788  \n",
       "429     90.984848   78.787879  "
      ]
     },
     "execution_count": 46,
     "metadata": {},
     "output_type": "execute_result"
    }
   ],
   "source": [
    "high_heatmap_filtered"
   ]
  },
  {
   "cell_type": "code",
   "execution_count": 47,
   "metadata": {},
   "outputs": [
    {
     "name": "stdout",
     "output_type": "stream",
     "text": [
      "54783.0\n",
      "0.37296\n",
      "88.46954\n",
      "14351.0\n",
      "75.57755776\n",
      "33219562.0\n"
     ]
    }
   ],
   "source": [
    "print(n_seqs_cutoff)\n",
    "print(score_cutoff)\n",
    "print(orf_cutoff)\n",
    "print(largest_contig_cutoff)\n",
    "print(BUSCO_cutoff)\n",
    "print(unique_kmers_cutoff)"
   ]
  },
  {
   "cell_type": "code",
   "execution_count": 48,
   "metadata": {},
   "outputs": [
    {
     "data": {
      "text/plain": [
       "(12, 14)"
      ]
     },
     "execution_count": 48,
     "metadata": {},
     "output_type": "execute_result"
    }
   ],
   "source": [
    "high_heatmap_filtered.shape"
   ]
  },
  {
   "cell_type": "code",
   "execution_count": 49,
   "metadata": {
    "collapsed": true
   },
   "outputs": [],
   "source": [
    "high_heatmap = pd.DataFrame()"
   ]
  },
  {
   "cell_type": "code",
   "execution_count": 50,
   "metadata": {
    "collapsed": true
   },
   "outputs": [],
   "source": [
    "def str_join(df, sep, *cols):\n",
    "    from functools import reduce\n",
    "    return reduce(lambda x, y: x.astype(str).str.cat(y.astype(str), sep=sep), \n",
    "                  [df[col] for col in cols])"
   ]
  },
  {
   "cell_type": "code",
   "execution_count": 51,
   "metadata": {},
   "outputs": [
    {
     "data": {
      "text/html": [
       "<div>\n",
       "<style scoped>\n",
       "    .dataframe tbody tr th:only-of-type {\n",
       "        vertical-align: middle;\n",
       "    }\n",
       "\n",
       "    .dataframe tbody tr th {\n",
       "        vertical-align: top;\n",
       "    }\n",
       "\n",
       "    .dataframe thead th {\n",
       "        text-align: right;\n",
       "    }\n",
       "</style>\n",
       "<table border=\"1\" class=\"dataframe\">\n",
       "  <thead>\n",
       "    <tr style=\"text-align: right;\">\n",
       "      <th></th>\n",
       "    </tr>\n",
       "  </thead>\n",
       "  <tbody>\n",
       "  </tbody>\n",
       "</table>\n",
       "</div>"
      ],
      "text/plain": [
       "Empty DataFrame\n",
       "Columns: []\n",
       "Index: []"
      ]
     },
     "execution_count": 51,
     "metadata": {},
     "output_type": "execute_result"
    }
   ],
   "source": [
    "high_heatmap.head()"
   ]
  },
  {
   "cell_type": "code",
   "execution_count": 52,
   "metadata": {},
   "outputs": [
    {
     "data": {
      "text/plain": [
       "Index(['SampleName', 'Phylum', 'n_seqs', 'score', 'mean_orf_percent',\n",
       "       'largest.x', 'DIB.Complete_BUSCO_perc_euk_v3',\n",
       "       'dib_assembly_unique_kmers', 'n_seqs_ranked', 'largest_ranked',\n",
       "       'score_ranked', 'unique_kmers_ranked', 'BUSCO_ranked', 'orf_ranked'],\n",
       "      dtype='object')"
      ]
     },
     "execution_count": 52,
     "metadata": {},
     "output_type": "execute_result"
    }
   ],
   "source": [
    "high_heatmap_filtered.columns"
   ]
  },
  {
   "cell_type": "code",
   "execution_count": 53,
   "metadata": {
    "collapsed": true
   },
   "outputs": [],
   "source": [
    "high_heatmap['n_seqs'] = (high_heatmap_filtered['n_seqs']/n_seqs_max)*660\n",
    "high_heatmap['score'] = (high_heatmap_filtered['score']/score_max)\n",
    "high_heatmap['perc_ORF'] = (high_heatmap_filtered['mean_orf_percent']/orf_max)\n",
    "high_heatmap['perc_BUSCO'] = (high_heatmap_filtered['DIB.Complete_BUSCO_perc_euk_v3']/BUSCO_max)\n",
    "high_heatmap['largest_contig'] = (high_heatmap_filtered['largest.x']/largest_contig_max)\n",
    "high_heatmap['unique_kmers'] = (high_heatmap_filtered['dib_assembly_unique_kmers']/unique_kmers_max)"
   ]
  },
  {
   "cell_type": "code",
   "execution_count": 54,
   "metadata": {
    "collapsed": true
   },
   "outputs": [],
   "source": [
    "high_heatmap = high_heatmap_filtered[['n_seqs_ranked','largest_ranked','orf_ranked','score_ranked','BUSCO_ranked','unique_kmers_ranked']]"
   ]
  },
  {
   "cell_type": "code",
   "execution_count": 55,
   "metadata": {},
   "outputs": [
    {
     "name": "stderr",
     "output_type": "stream",
     "text": [
      "/Users/johnsolk/anaconda3/lib/python3.6/site-packages/ipykernel_launcher.py:1: SettingWithCopyWarning: \n",
      "A value is trying to be set on a copy of a slice from a DataFrame.\n",
      "Try using .loc[row_indexer,col_indexer] = value instead\n",
      "\n",
      "See the caveats in the documentation: http://pandas.pydata.org/pandas-docs/stable/indexing.html#indexing-view-versus-copy\n",
      "  \"\"\"Entry point for launching an IPython kernel.\n"
     ]
    }
   ],
   "source": [
    "high_heatmap['SampleName_Phylum'] = str_join(high_heatmap_filtered, ' - ', 'SampleName', 'Phylum')"
   ]
  },
  {
   "cell_type": "code",
   "execution_count": 56,
   "metadata": {},
   "outputs": [
    {
     "data": {
      "text/html": [
       "<div>\n",
       "<style scoped>\n",
       "    .dataframe tbody tr th:only-of-type {\n",
       "        vertical-align: middle;\n",
       "    }\n",
       "\n",
       "    .dataframe tbody tr th {\n",
       "        vertical-align: top;\n",
       "    }\n",
       "\n",
       "    .dataframe thead th {\n",
       "        text-align: right;\n",
       "    }\n",
       "</style>\n",
       "<table border=\"1\" class=\"dataframe\">\n",
       "  <thead>\n",
       "    <tr style=\"text-align: right;\">\n",
       "      <th></th>\n",
       "      <th>n_seqs_ranked</th>\n",
       "      <th>largest_ranked</th>\n",
       "      <th>orf_ranked</th>\n",
       "      <th>score_ranked</th>\n",
       "      <th>BUSCO_ranked</th>\n",
       "      <th>unique_kmers_ranked</th>\n",
       "      <th>SampleName_Phylum</th>\n",
       "    </tr>\n",
       "  </thead>\n",
       "  <tbody>\n",
       "    <tr>\n",
       "      <th>10</th>\n",
       "      <td>77.121212</td>\n",
       "      <td>90.606061</td>\n",
       "      <td>15.303030</td>\n",
       "      <td>18.181818</td>\n",
       "      <td>92.424242</td>\n",
       "      <td>84.545455</td>\n",
       "      <td>MMETSP0014 - Bacillariophyta</td>\n",
       "    </tr>\n",
       "    <tr>\n",
       "      <th>11</th>\n",
       "      <td>77.727273</td>\n",
       "      <td>75.606061</td>\n",
       "      <td>16.969697</td>\n",
       "      <td>14.545455</td>\n",
       "      <td>86.893939</td>\n",
       "      <td>86.666667</td>\n",
       "      <td>MMETSP0015 - Bacillariophyta</td>\n",
       "    </tr>\n",
       "    <tr>\n",
       "      <th>21</th>\n",
       "      <td>82.272727</td>\n",
       "      <td>97.727273</td>\n",
       "      <td>29.696970</td>\n",
       "      <td>22.272727</td>\n",
       "      <td>97.424242</td>\n",
       "      <td>80.151515</td>\n",
       "      <td>MMETSP0034 - Chlorophyta</td>\n",
       "    </tr>\n",
       "    <tr>\n",
       "      <th>23</th>\n",
       "      <td>96.818182</td>\n",
       "      <td>98.787879</td>\n",
       "      <td>7.575758</td>\n",
       "      <td>5.909091</td>\n",
       "      <td>76.893939</td>\n",
       "      <td>97.424242</td>\n",
       "      <td>MMETSP0039 - Euglenozoa</td>\n",
       "    </tr>\n",
       "    <tr>\n",
       "      <th>31</th>\n",
       "      <td>80.454545</td>\n",
       "      <td>81.515152</td>\n",
       "      <td>71.969697</td>\n",
       "      <td>72.878788</td>\n",
       "      <td>88.030303</td>\n",
       "      <td>78.484848</td>\n",
       "      <td>MMETSP0047 - Cryptophyta</td>\n",
       "    </tr>\n",
       "    <tr>\n",
       "      <th>82</th>\n",
       "      <td>94.545455</td>\n",
       "      <td>80.757576</td>\n",
       "      <td>93.181818</td>\n",
       "      <td>59.545455</td>\n",
       "      <td>86.893939</td>\n",
       "      <td>95.606061</td>\n",
       "      <td>MMETSP0120 - Dinophyta</td>\n",
       "    </tr>\n",
       "    <tr>\n",
       "      <th>192</th>\n",
       "      <td>98.636364</td>\n",
       "      <td>86.515152</td>\n",
       "      <td>71.515152</td>\n",
       "      <td>30.757576</td>\n",
       "      <td>89.166667</td>\n",
       "      <td>99.696970</td>\n",
       "      <td>MMETSP0359 - Dinophyta</td>\n",
       "    </tr>\n",
       "    <tr>\n",
       "      <th>194</th>\n",
       "      <td>98.939394</td>\n",
       "      <td>82.424242</td>\n",
       "      <td>69.090909</td>\n",
       "      <td>24.242424</td>\n",
       "      <td>91.287879</td>\n",
       "      <td>99.848485</td>\n",
       "      <td>MMETSP0361 - Dinophyta</td>\n",
       "    </tr>\n",
       "    <tr>\n",
       "      <th>240</th>\n",
       "      <td>78.181818</td>\n",
       "      <td>86.060606</td>\n",
       "      <td>77.727273</td>\n",
       "      <td>90.454545</td>\n",
       "      <td>81.212121</td>\n",
       "      <td>82.878788</td>\n",
       "      <td>MMETSP0484 - Cryptophyta</td>\n",
       "    </tr>\n",
       "    <tr>\n",
       "      <th>426</th>\n",
       "      <td>80.909091</td>\n",
       "      <td>94.090909</td>\n",
       "      <td>78.636364</td>\n",
       "      <td>31.515152</td>\n",
       "      <td>86.363636</td>\n",
       "      <td>79.545455</td>\n",
       "      <td>MMETSP0986 - Unknown</td>\n",
       "    </tr>\n",
       "    <tr>\n",
       "      <th>427</th>\n",
       "      <td>81.666667</td>\n",
       "      <td>95.000000</td>\n",
       "      <td>77.878788</td>\n",
       "      <td>34.090909</td>\n",
       "      <td>90.378788</td>\n",
       "      <td>80.909091</td>\n",
       "      <td>MMETSP0987 - Unknown</td>\n",
       "    </tr>\n",
       "    <tr>\n",
       "      <th>429</th>\n",
       "      <td>81.515152</td>\n",
       "      <td>81.666667</td>\n",
       "      <td>78.787879</td>\n",
       "      <td>38.333333</td>\n",
       "      <td>90.984848</td>\n",
       "      <td>83.333333</td>\n",
       "      <td>MMETSP0989 - Unknown</td>\n",
       "    </tr>\n",
       "  </tbody>\n",
       "</table>\n",
       "</div>"
      ],
      "text/plain": [
       "     n_seqs_ranked  largest_ranked  orf_ranked  score_ranked  BUSCO_ranked  \\\n",
       "10       77.121212       90.606061   15.303030     18.181818     92.424242   \n",
       "11       77.727273       75.606061   16.969697     14.545455     86.893939   \n",
       "21       82.272727       97.727273   29.696970     22.272727     97.424242   \n",
       "23       96.818182       98.787879    7.575758      5.909091     76.893939   \n",
       "31       80.454545       81.515152   71.969697     72.878788     88.030303   \n",
       "82       94.545455       80.757576   93.181818     59.545455     86.893939   \n",
       "192      98.636364       86.515152   71.515152     30.757576     89.166667   \n",
       "194      98.939394       82.424242   69.090909     24.242424     91.287879   \n",
       "240      78.181818       86.060606   77.727273     90.454545     81.212121   \n",
       "426      80.909091       94.090909   78.636364     31.515152     86.363636   \n",
       "427      81.666667       95.000000   77.878788     34.090909     90.378788   \n",
       "429      81.515152       81.666667   78.787879     38.333333     90.984848   \n",
       "\n",
       "     unique_kmers_ranked             SampleName_Phylum  \n",
       "10             84.545455  MMETSP0014 - Bacillariophyta  \n",
       "11             86.666667  MMETSP0015 - Bacillariophyta  \n",
       "21             80.151515      MMETSP0034 - Chlorophyta  \n",
       "23             97.424242       MMETSP0039 - Euglenozoa  \n",
       "31             78.484848      MMETSP0047 - Cryptophyta  \n",
       "82             95.606061        MMETSP0120 - Dinophyta  \n",
       "192            99.696970        MMETSP0359 - Dinophyta  \n",
       "194            99.848485        MMETSP0361 - Dinophyta  \n",
       "240            82.878788      MMETSP0484 - Cryptophyta  \n",
       "426            79.545455          MMETSP0986 - Unknown  \n",
       "427            80.909091          MMETSP0987 - Unknown  \n",
       "429            83.333333          MMETSP0989 - Unknown  "
      ]
     },
     "execution_count": 56,
     "metadata": {},
     "output_type": "execute_result"
    }
   ],
   "source": [
    "high_heatmap"
   ]
  },
  {
   "cell_type": "code",
   "execution_count": 57,
   "metadata": {
    "collapsed": true
   },
   "outputs": [],
   "source": [
    "high_heatmap = high_heatmap.set_index('SampleName_Phylum')"
   ]
  },
  {
   "cell_type": "code",
   "execution_count": 58,
   "metadata": {},
   "outputs": [
    {
     "data": {
      "text/plain": [
       "Index(['n_seqs_ranked', 'largest_ranked', 'orf_ranked', 'score_ranked',\n",
       "       'BUSCO_ranked', 'unique_kmers_ranked'],\n",
       "      dtype='object')"
      ]
     },
     "execution_count": 58,
     "metadata": {},
     "output_type": "execute_result"
    }
   ],
   "source": [
    "high_heatmap.columns"
   ]
  },
  {
   "cell_type": "code",
   "execution_count": 59,
   "metadata": {},
   "outputs": [
    {
     "data": {
      "text/html": [
       "<div>\n",
       "<style scoped>\n",
       "    .dataframe tbody tr th:only-of-type {\n",
       "        vertical-align: middle;\n",
       "    }\n",
       "\n",
       "    .dataframe tbody tr th {\n",
       "        vertical-align: top;\n",
       "    }\n",
       "\n",
       "    .dataframe thead th {\n",
       "        text-align: right;\n",
       "    }\n",
       "</style>\n",
       "<table border=\"1\" class=\"dataframe\">\n",
       "  <thead>\n",
       "    <tr style=\"text-align: right;\">\n",
       "      <th></th>\n",
       "      <th>n_seqs_ranked</th>\n",
       "      <th>largest_ranked</th>\n",
       "      <th>orf_ranked</th>\n",
       "      <th>score_ranked</th>\n",
       "      <th>BUSCO_ranked</th>\n",
       "      <th>unique_kmers_ranked</th>\n",
       "    </tr>\n",
       "    <tr>\n",
       "      <th>SampleName_Phylum</th>\n",
       "      <th></th>\n",
       "      <th></th>\n",
       "      <th></th>\n",
       "      <th></th>\n",
       "      <th></th>\n",
       "      <th></th>\n",
       "    </tr>\n",
       "  </thead>\n",
       "  <tbody>\n",
       "    <tr>\n",
       "      <th>MMETSP0014 - Bacillariophyta</th>\n",
       "      <td>77.121212</td>\n",
       "      <td>90.606061</td>\n",
       "      <td>15.303030</td>\n",
       "      <td>18.181818</td>\n",
       "      <td>92.424242</td>\n",
       "      <td>84.545455</td>\n",
       "    </tr>\n",
       "    <tr>\n",
       "      <th>MMETSP0015 - Bacillariophyta</th>\n",
       "      <td>77.727273</td>\n",
       "      <td>75.606061</td>\n",
       "      <td>16.969697</td>\n",
       "      <td>14.545455</td>\n",
       "      <td>86.893939</td>\n",
       "      <td>86.666667</td>\n",
       "    </tr>\n",
       "    <tr>\n",
       "      <th>MMETSP0034 - Chlorophyta</th>\n",
       "      <td>82.272727</td>\n",
       "      <td>97.727273</td>\n",
       "      <td>29.696970</td>\n",
       "      <td>22.272727</td>\n",
       "      <td>97.424242</td>\n",
       "      <td>80.151515</td>\n",
       "    </tr>\n",
       "    <tr>\n",
       "      <th>MMETSP0039 - Euglenozoa</th>\n",
       "      <td>96.818182</td>\n",
       "      <td>98.787879</td>\n",
       "      <td>7.575758</td>\n",
       "      <td>5.909091</td>\n",
       "      <td>76.893939</td>\n",
       "      <td>97.424242</td>\n",
       "    </tr>\n",
       "    <tr>\n",
       "      <th>MMETSP0047 - Cryptophyta</th>\n",
       "      <td>80.454545</td>\n",
       "      <td>81.515152</td>\n",
       "      <td>71.969697</td>\n",
       "      <td>72.878788</td>\n",
       "      <td>88.030303</td>\n",
       "      <td>78.484848</td>\n",
       "    </tr>\n",
       "  </tbody>\n",
       "</table>\n",
       "</div>"
      ],
      "text/plain": [
       "                              n_seqs_ranked  largest_ranked  orf_ranked  \\\n",
       "SampleName_Phylum                                                         \n",
       "MMETSP0014 - Bacillariophyta      77.121212       90.606061   15.303030   \n",
       "MMETSP0015 - Bacillariophyta      77.727273       75.606061   16.969697   \n",
       "MMETSP0034 - Chlorophyta          82.272727       97.727273   29.696970   \n",
       "MMETSP0039 - Euglenozoa           96.818182       98.787879    7.575758   \n",
       "MMETSP0047 - Cryptophyta          80.454545       81.515152   71.969697   \n",
       "\n",
       "                              score_ranked  BUSCO_ranked  unique_kmers_ranked  \n",
       "SampleName_Phylum                                                              \n",
       "MMETSP0014 - Bacillariophyta     18.181818     92.424242            84.545455  \n",
       "MMETSP0015 - Bacillariophyta     14.545455     86.893939            86.666667  \n",
       "MMETSP0034 - Chlorophyta         22.272727     97.424242            80.151515  \n",
       "MMETSP0039 - Euglenozoa           5.909091     76.893939            97.424242  \n",
       "MMETSP0047 - Cryptophyta         72.878788     88.030303            78.484848  "
      ]
     },
     "execution_count": 59,
     "metadata": {},
     "output_type": "execute_result"
    }
   ],
   "source": [
    "high_heatmap.head()"
   ]
  },
  {
   "cell_type": "code",
   "execution_count": 60,
   "metadata": {},
   "outputs": [
    {
     "data": {
      "text/plain": [
       "(12, 6)"
      ]
     },
     "execution_count": 60,
     "metadata": {},
     "output_type": "execute_result"
    }
   ],
   "source": [
    "high_heatmap.shape"
   ]
  },
  {
   "cell_type": "markdown",
   "metadata": {},
   "source": [
    "# Subsetting Low"
   ]
  },
  {
   "cell_type": "code",
   "execution_count": 61,
   "metadata": {},
   "outputs": [
    {
     "name": "stdout",
     "output_type": "stream",
     "text": [
      "(660, 8)\n"
     ]
    }
   ],
   "source": [
    "low_all_table = all_metrics\n",
    "low_all_table = low_all_table[['SampleName','Phylum','n_seqs','score','mean_orf_percent','largest.x','DIB.Complete_BUSCO_perc_euk_v3','dib_assembly_unique_kmers']]\n",
    "print(low_all_table.shape)"
   ]
  },
  {
   "cell_type": "code",
   "execution_count": 62,
   "metadata": {},
   "outputs": [
    {
     "name": "stdout",
     "output_type": "stream",
     "text": [
      "27381.0\n",
      "0.27368\n",
      "77.94447\n",
      "8059.0\n",
      "56.10561056\n",
      "17382400.75\n"
     ]
    }
   ],
   "source": [
    "n_seqs_cutoff = high_all_table['n_seqs'].describe()[['25%']][0]\n",
    "print(n_seqs_cutoff)\n",
    "score_cutoff = high_all_table['score'].describe()[['25%']][0]\n",
    "print(score_cutoff)\n",
    "orf_cutoff = high_all_table['mean_orf_percent'].describe()[['25%']][0]\n",
    "print(orf_cutoff)\n",
    "largest_contig_cutoff = high_all_table['largest.x'].describe()[['25%']][0]\n",
    "print(largest_contig_cutoff)\n",
    "BUSCO_cutoff = high_all_table['DIB.Complete_BUSCO_perc_euk_v3'].describe()[['25%']][0]\n",
    "print(BUSCO_cutoff)\n",
    "unique_kmers_cutoff = high_all_table['dib_assembly_unique_kmers'].describe()[['25%']][0]\n",
    "print(unique_kmers_cutoff)"
   ]
  },
  {
   "cell_type": "code",
   "execution_count": 63,
   "metadata": {},
   "outputs": [
    {
     "name": "stderr",
     "output_type": "stream",
     "text": [
      "/Users/johnsolk/anaconda3/lib/python3.6/site-packages/ipykernel_launcher.py:2: SettingWithCopyWarning: \n",
      "A value is trying to be set on a copy of a slice from a DataFrame.\n",
      "Try using .loc[row_indexer,col_indexer] = value instead\n",
      "\n",
      "See the caveats in the documentation: http://pandas.pydata.org/pandas-docs/stable/indexing.html#indexing-view-versus-copy\n",
      "  \n",
      "/Users/johnsolk/anaconda3/lib/python3.6/site-packages/ipykernel_launcher.py:3: SettingWithCopyWarning: \n",
      "A value is trying to be set on a copy of a slice from a DataFrame.\n",
      "Try using .loc[row_indexer,col_indexer] = value instead\n",
      "\n",
      "See the caveats in the documentation: http://pandas.pydata.org/pandas-docs/stable/indexing.html#indexing-view-versus-copy\n",
      "  This is separate from the ipykernel package so we can avoid doing imports until\n",
      "/Users/johnsolk/anaconda3/lib/python3.6/site-packages/ipykernel_launcher.py:4: SettingWithCopyWarning: \n",
      "A value is trying to be set on a copy of a slice from a DataFrame.\n",
      "Try using .loc[row_indexer,col_indexer] = value instead\n",
      "\n",
      "See the caveats in the documentation: http://pandas.pydata.org/pandas-docs/stable/indexing.html#indexing-view-versus-copy\n",
      "  after removing the cwd from sys.path.\n",
      "/Users/johnsolk/anaconda3/lib/python3.6/site-packages/ipykernel_launcher.py:5: SettingWithCopyWarning: \n",
      "A value is trying to be set on a copy of a slice from a DataFrame.\n",
      "Try using .loc[row_indexer,col_indexer] = value instead\n",
      "\n",
      "See the caveats in the documentation: http://pandas.pydata.org/pandas-docs/stable/indexing.html#indexing-view-versus-copy\n",
      "  \"\"\"\n",
      "/Users/johnsolk/anaconda3/lib/python3.6/site-packages/ipykernel_launcher.py:6: SettingWithCopyWarning: \n",
      "A value is trying to be set on a copy of a slice from a DataFrame.\n",
      "Try using .loc[row_indexer,col_indexer] = value instead\n",
      "\n",
      "See the caveats in the documentation: http://pandas.pydata.org/pandas-docs/stable/indexing.html#indexing-view-versus-copy\n",
      "  \n",
      "/Users/johnsolk/anaconda3/lib/python3.6/site-packages/ipykernel_launcher.py:7: SettingWithCopyWarning: \n",
      "A value is trying to be set on a copy of a slice from a DataFrame.\n",
      "Try using .loc[row_indexer,col_indexer] = value instead\n",
      "\n",
      "See the caveats in the documentation: http://pandas.pydata.org/pandas-docs/stable/indexing.html#indexing-view-versus-copy\n",
      "  import sys\n"
     ]
    }
   ],
   "source": [
    "low_all_table_ranked = low_all_table\n",
    "low_all_table_ranked['n_seqs_ranked'] = (low_all_table_ranked['n_seqs'].rank(ascending=1)/660)*100\n",
    "low_all_table_ranked['largest_ranked'] = (low_all_table_ranked['largest.x'].rank(ascending=1)/660)*100\n",
    "low_all_table_ranked['score_ranked'] = (low_all_table_ranked['score'].rank(ascending=1)/660)*100\n",
    "low_all_table_ranked['unique_kmers_ranked'] = (low_all_table_ranked['dib_assembly_unique_kmers'].rank(ascending=1)/660)*100\n",
    "low_all_table_ranked['BUSCO_ranked'] = (low_all_table_ranked['DIB.Complete_BUSCO_perc_euk_v3'].rank(ascending=1)/660)*100\n",
    "low_all_table_ranked['orf_ranked'] = (low_all_table_ranked['mean_orf_percent'].rank(ascending=1)/660)*100"
   ]
  },
  {
   "cell_type": "code",
   "execution_count": 64,
   "metadata": {},
   "outputs": [
    {
     "data": {
      "text/plain": [
       "56.105610560000002"
      ]
     },
     "execution_count": 64,
     "metadata": {},
     "output_type": "execute_result"
    }
   ],
   "source": [
    "BUSCO_cutoff"
   ]
  },
  {
   "cell_type": "code",
   "execution_count": 65,
   "metadata": {},
   "outputs": [
    {
     "data": {
      "text/html": [
       "<div>\n",
       "<style scoped>\n",
       "    .dataframe tbody tr th:only-of-type {\n",
       "        vertical-align: middle;\n",
       "    }\n",
       "\n",
       "    .dataframe tbody tr th {\n",
       "        vertical-align: top;\n",
       "    }\n",
       "\n",
       "    .dataframe thead th {\n",
       "        text-align: right;\n",
       "    }\n",
       "</style>\n",
       "<table border=\"1\" class=\"dataframe\">\n",
       "  <thead>\n",
       "    <tr style=\"text-align: right;\">\n",
       "      <th></th>\n",
       "      <th>SampleName</th>\n",
       "      <th>Phylum</th>\n",
       "      <th>n_seqs</th>\n",
       "      <th>score</th>\n",
       "      <th>mean_orf_percent</th>\n",
       "      <th>largest.x</th>\n",
       "      <th>DIB.Complete_BUSCO_perc_euk_v3</th>\n",
       "      <th>dib_assembly_unique_kmers</th>\n",
       "      <th>n_seqs_ranked</th>\n",
       "      <th>largest_ranked</th>\n",
       "      <th>score_ranked</th>\n",
       "      <th>unique_kmers_ranked</th>\n",
       "      <th>BUSCO_ranked</th>\n",
       "      <th>orf_ranked</th>\n",
       "    </tr>\n",
       "  </thead>\n",
       "  <tbody>\n",
       "    <tr>\n",
       "      <th>0</th>\n",
       "      <td>MMETSP0004</td>\n",
       "      <td>Ochrophyta</td>\n",
       "      <td>33559.0</td>\n",
       "      <td>0.38093</td>\n",
       "      <td>81.26381</td>\n",
       "      <td>17276.0</td>\n",
       "      <td>69.636964</td>\n",
       "      <td>19837761</td>\n",
       "      <td>43.181818</td>\n",
       "      <td>88.030303</td>\n",
       "      <td>76.666667</td>\n",
       "      <td>33.484848</td>\n",
       "      <td>57.121212</td>\n",
       "      <td>40.606061</td>\n",
       "    </tr>\n",
       "    <tr>\n",
       "      <th>1</th>\n",
       "      <td>MMETSP0005</td>\n",
       "      <td>Ochrophyta</td>\n",
       "      <td>32824.0</td>\n",
       "      <td>0.38214</td>\n",
       "      <td>80.15649</td>\n",
       "      <td>11058.0</td>\n",
       "      <td>67.326733</td>\n",
       "      <td>20350054</td>\n",
       "      <td>40.303030</td>\n",
       "      <td>47.575758</td>\n",
       "      <td>77.121212</td>\n",
       "      <td>35.151515</td>\n",
       "      <td>50.454545</td>\n",
       "      <td>35.000000</td>\n",
       "    </tr>\n",
       "    <tr>\n",
       "      <th>2</th>\n",
       "      <td>MMETSP0006</td>\n",
       "      <td>Haptophyta</td>\n",
       "      <td>47463.0</td>\n",
       "      <td>0.38143</td>\n",
       "      <td>80.79508</td>\n",
       "      <td>15370.0</td>\n",
       "      <td>55.775578</td>\n",
       "      <td>25286098</td>\n",
       "      <td>67.121212</td>\n",
       "      <td>80.303030</td>\n",
       "      <td>76.818182</td>\n",
       "      <td>53.030303</td>\n",
       "      <td>24.621212</td>\n",
       "      <td>37.878788</td>\n",
       "    </tr>\n",
       "    <tr>\n",
       "      <th>3</th>\n",
       "      <td>MMETSP0007</td>\n",
       "      <td>Haptophyta</td>\n",
       "      <td>30922.0</td>\n",
       "      <td>0.27164</td>\n",
       "      <td>71.01950</td>\n",
       "      <td>6567.0</td>\n",
       "      <td>30.363036</td>\n",
       "      <td>12496793</td>\n",
       "      <td>33.939394</td>\n",
       "      <td>13.181818</td>\n",
       "      <td>24.469697</td>\n",
       "      <td>12.727273</td>\n",
       "      <td>7.121212</td>\n",
       "      <td>9.242424</td>\n",
       "    </tr>\n",
       "    <tr>\n",
       "      <th>6</th>\n",
       "      <td>MMETSP0009</td>\n",
       "      <td>Bacillariophyta</td>\n",
       "      <td>54275.0</td>\n",
       "      <td>0.25534</td>\n",
       "      <td>80.37076</td>\n",
       "      <td>10587.0</td>\n",
       "      <td>46.534653</td>\n",
       "      <td>30074483</td>\n",
       "      <td>73.787879</td>\n",
       "      <td>45.151515</td>\n",
       "      <td>20.757576</td>\n",
       "      <td>67.272727</td>\n",
       "      <td>15.075758</td>\n",
       "      <td>35.909091</td>\n",
       "    </tr>\n",
       "  </tbody>\n",
       "</table>\n",
       "</div>"
      ],
      "text/plain": [
       "   SampleName           Phylum   n_seqs    score  mean_orf_percent  largest.x  \\\n",
       "0  MMETSP0004       Ochrophyta  33559.0  0.38093          81.26381    17276.0   \n",
       "1  MMETSP0005       Ochrophyta  32824.0  0.38214          80.15649    11058.0   \n",
       "2  MMETSP0006       Haptophyta  47463.0  0.38143          80.79508    15370.0   \n",
       "3  MMETSP0007       Haptophyta  30922.0  0.27164          71.01950     6567.0   \n",
       "6  MMETSP0009  Bacillariophyta  54275.0  0.25534          80.37076    10587.0   \n",
       "\n",
       "   DIB.Complete_BUSCO_perc_euk_v3  dib_assembly_unique_kmers  n_seqs_ranked  \\\n",
       "0                       69.636964                   19837761      43.181818   \n",
       "1                       67.326733                   20350054      40.303030   \n",
       "2                       55.775578                   25286098      67.121212   \n",
       "3                       30.363036                   12496793      33.939394   \n",
       "6                       46.534653                   30074483      73.787879   \n",
       "\n",
       "   largest_ranked  score_ranked  unique_kmers_ranked  BUSCO_ranked  orf_ranked  \n",
       "0       88.030303     76.666667            33.484848     57.121212   40.606061  \n",
       "1       47.575758     77.121212            35.151515     50.454545   35.000000  \n",
       "2       80.303030     76.818182            53.030303     24.621212   37.878788  \n",
       "3       13.181818     24.469697            12.727273      7.121212    9.242424  \n",
       "6       45.151515     20.757576            67.272727     15.075758   35.909091  "
      ]
     },
     "execution_count": 65,
     "metadata": {},
     "output_type": "execute_result"
    }
   ],
   "source": [
    "low_all_table_ranked.head()"
   ]
  },
  {
   "cell_type": "code",
   "execution_count": 66,
   "metadata": {},
   "outputs": [
    {
     "data": {
      "text/plain": [
       "(660, 14)"
      ]
     },
     "execution_count": 66,
     "metadata": {},
     "output_type": "execute_result"
    }
   ],
   "source": [
    "low_all_table_ranked.shape"
   ]
  },
  {
   "cell_type": "code",
   "execution_count": 67,
   "metadata": {
    "collapsed": true
   },
   "outputs": [],
   "source": [
    "low_heatmap_filtered = low_all_table_ranked[(low_all_table_ranked['DIB.Complete_BUSCO_perc_euk_v3'] < BUSCO_cutoff) &\n",
    "                                            (low_all_table_ranked['dib_assembly_unique_kmers'] < unique_kmers_cutoff) &\n",
    "                                            (low_all_table_ranked['n_seqs'] < n_seqs_cutoff) &\n",
    "                                            (low_all_table_ranked['largest.x'] < largest_contig_cutoff) &\n",
    "                                            (low_all_table['score'] < score_cutoff)]"
   ]
  },
  {
   "cell_type": "code",
   "execution_count": 68,
   "metadata": {},
   "outputs": [
    {
     "data": {
      "text/plain": [
       "(30, 14)"
      ]
     },
     "execution_count": 68,
     "metadata": {},
     "output_type": "execute_result"
    }
   ],
   "source": [
    "low_heatmap_filtered.shape"
   ]
  },
  {
   "cell_type": "code",
   "execution_count": 69,
   "metadata": {
    "collapsed": true
   },
   "outputs": [],
   "source": [
    "low_heatmap_filtered = low_heatmap_filtered[(low_heatmap_filtered['unique_kmers_ranked'] < 10) & \n",
    "                                            (low_heatmap_filtered['n_seqs_ranked'] < 10) & \n",
    "                                            (low_heatmap_filtered['BUSCO_ranked'] < 10)]"
   ]
  },
  {
   "cell_type": "code",
   "execution_count": 70,
   "metadata": {},
   "outputs": [
    {
     "data": {
      "text/plain": [
       "(15, 14)"
      ]
     },
     "execution_count": 70,
     "metadata": {},
     "output_type": "execute_result"
    }
   ],
   "source": [
    "low_heatmap_filtered.shape"
   ]
  },
  {
   "cell_type": "code",
   "execution_count": 71,
   "metadata": {},
   "outputs": [
    {
     "data": {
      "text/html": [
       "<div>\n",
       "<style scoped>\n",
       "    .dataframe tbody tr th:only-of-type {\n",
       "        vertical-align: middle;\n",
       "    }\n",
       "\n",
       "    .dataframe tbody tr th {\n",
       "        vertical-align: top;\n",
       "    }\n",
       "\n",
       "    .dataframe thead th {\n",
       "        text-align: right;\n",
       "    }\n",
       "</style>\n",
       "<table border=\"1\" class=\"dataframe\">\n",
       "  <thead>\n",
       "    <tr style=\"text-align: right;\">\n",
       "      <th></th>\n",
       "      <th>SampleName</th>\n",
       "      <th>Phylum</th>\n",
       "      <th>n_seqs</th>\n",
       "      <th>score</th>\n",
       "      <th>mean_orf_percent</th>\n",
       "      <th>largest.x</th>\n",
       "      <th>DIB.Complete_BUSCO_perc_euk_v3</th>\n",
       "      <th>dib_assembly_unique_kmers</th>\n",
       "      <th>n_seqs_ranked</th>\n",
       "      <th>largest_ranked</th>\n",
       "      <th>score_ranked</th>\n",
       "      <th>unique_kmers_ranked</th>\n",
       "      <th>BUSCO_ranked</th>\n",
       "      <th>orf_ranked</th>\n",
       "    </tr>\n",
       "  </thead>\n",
       "  <tbody>\n",
       "    <tr>\n",
       "      <th>28</th>\n",
       "      <td>MMETSP0044</td>\n",
       "      <td>Dinophyta</td>\n",
       "      <td>594.0</td>\n",
       "      <td>0.00465</td>\n",
       "      <td>92.68547</td>\n",
       "      <td>697.0</td>\n",
       "      <td>0.990099</td>\n",
       "      <td>135164</td>\n",
       "      <td>0.909091</td>\n",
       "      <td>0.606061</td>\n",
       "      <td>1.969697</td>\n",
       "      <td>1.060606</td>\n",
       "      <td>1.212121</td>\n",
       "      <td>92.575758</td>\n",
       "    </tr>\n",
       "    <tr>\n",
       "      <th>89</th>\n",
       "      <td>MMETSP0133</td>\n",
       "      <td>Dinophyta</td>\n",
       "      <td>15572.0</td>\n",
       "      <td>0.00205</td>\n",
       "      <td>86.28031</td>\n",
       "      <td>2571.0</td>\n",
       "      <td>10.891089</td>\n",
       "      <td>3938227</td>\n",
       "      <td>8.484848</td>\n",
       "      <td>2.272727</td>\n",
       "      <td>1.818182</td>\n",
       "      <td>2.878788</td>\n",
       "      <td>2.878788</td>\n",
       "      <td>66.060606</td>\n",
       "    </tr>\n",
       "    <tr>\n",
       "      <th>118</th>\n",
       "      <td>MMETSP0186</td>\n",
       "      <td>Cercozoa</td>\n",
       "      <td>1669.0</td>\n",
       "      <td>0.02341</td>\n",
       "      <td>92.62782</td>\n",
       "      <td>1956.0</td>\n",
       "      <td>1.650165</td>\n",
       "      <td>554862</td>\n",
       "      <td>1.363636</td>\n",
       "      <td>1.666667</td>\n",
       "      <td>2.272727</td>\n",
       "      <td>1.666667</td>\n",
       "      <td>1.515152</td>\n",
       "      <td>92.121212</td>\n",
       "    </tr>\n",
       "    <tr>\n",
       "      <th>145</th>\n",
       "      <td>MMETSP0225</td>\n",
       "      <td>Dinophyta</td>\n",
       "      <td>849.0</td>\n",
       "      <td>0.00144</td>\n",
       "      <td>84.00110</td>\n",
       "      <td>1118.0</td>\n",
       "      <td>0.330033</td>\n",
       "      <td>151884</td>\n",
       "      <td>1.060606</td>\n",
       "      <td>0.757576</td>\n",
       "      <td>1.666667</td>\n",
       "      <td>1.212121</td>\n",
       "      <td>0.909091</td>\n",
       "      <td>56.212121</td>\n",
       "    </tr>\n",
       "    <tr>\n",
       "      <th>148</th>\n",
       "      <td>MMETSP0229</td>\n",
       "      <td>Dinophyta</td>\n",
       "      <td>321.0</td>\n",
       "      <td>0.00071</td>\n",
       "      <td>85.08741</td>\n",
       "      <td>495.0</td>\n",
       "      <td>0.000000</td>\n",
       "      <td>75019</td>\n",
       "      <td>0.757576</td>\n",
       "      <td>0.303030</td>\n",
       "      <td>0.606061</td>\n",
       "      <td>0.757576</td>\n",
       "      <td>0.454545</td>\n",
       "      <td>61.515152</td>\n",
       "    </tr>\n",
       "    <tr>\n",
       "      <th>154</th>\n",
       "      <td>MMETSP0252</td>\n",
       "      <td>Dinophyta</td>\n",
       "      <td>4.0</td>\n",
       "      <td>0.00002</td>\n",
       "      <td>48.22044</td>\n",
       "      <td>682.0</td>\n",
       "      <td>0.000000</td>\n",
       "      <td>838</td>\n",
       "      <td>0.151515</td>\n",
       "      <td>0.454545</td>\n",
       "      <td>0.303030</td>\n",
       "      <td>0.151515</td>\n",
       "      <td>0.454545</td>\n",
       "      <td>2.121212</td>\n",
       "    </tr>\n",
       "    <tr>\n",
       "      <th>231</th>\n",
       "      <td>MMETSP0451</td>\n",
       "      <td>Dinophyta</td>\n",
       "      <td>4441.0</td>\n",
       "      <td>0.02350</td>\n",
       "      <td>85.64647</td>\n",
       "      <td>1774.0</td>\n",
       "      <td>11.221122</td>\n",
       "      <td>1651813</td>\n",
       "      <td>1.666667</td>\n",
       "      <td>0.909091</td>\n",
       "      <td>2.424242</td>\n",
       "      <td>2.121212</td>\n",
       "      <td>3.106061</td>\n",
       "      <td>64.242424</td>\n",
       "    </tr>\n",
       "    <tr>\n",
       "      <th>232</th>\n",
       "      <td>MMETSP0452</td>\n",
       "      <td>Dinophyta</td>\n",
       "      <td>19.0</td>\n",
       "      <td>0.00000</td>\n",
       "      <td>91.90509</td>\n",
       "      <td>286.0</td>\n",
       "      <td>0.000000</td>\n",
       "      <td>4560</td>\n",
       "      <td>0.303030</td>\n",
       "      <td>0.151515</td>\n",
       "      <td>0.151515</td>\n",
       "      <td>0.303030</td>\n",
       "      <td>0.454545</td>\n",
       "      <td>88.484848</td>\n",
       "    </tr>\n",
       "    <tr>\n",
       "      <th>279</th>\n",
       "      <td>MMETSP0719</td>\n",
       "      <td>Bacillariophyta</td>\n",
       "      <td>7884.0</td>\n",
       "      <td>0.18649</td>\n",
       "      <td>79.20223</td>\n",
       "      <td>5948.0</td>\n",
       "      <td>6.600660</td>\n",
       "      <td>2990388</td>\n",
       "      <td>1.969697</td>\n",
       "      <td>8.030303</td>\n",
       "      <td>6.969697</td>\n",
       "      <td>2.575758</td>\n",
       "      <td>2.575758</td>\n",
       "      <td>30.151515</td>\n",
       "    </tr>\n",
       "    <tr>\n",
       "      <th>386</th>\n",
       "      <td>MMETSP0932</td>\n",
       "      <td>Chlorophyta</td>\n",
       "      <td>4990.0</td>\n",
       "      <td>0.03437</td>\n",
       "      <td>92.64433</td>\n",
       "      <td>4451.0</td>\n",
       "      <td>3.630363</td>\n",
       "      <td>1764127</td>\n",
       "      <td>1.818182</td>\n",
       "      <td>4.393939</td>\n",
       "      <td>2.727273</td>\n",
       "      <td>2.272727</td>\n",
       "      <td>1.969697</td>\n",
       "      <td>92.272727</td>\n",
       "    </tr>\n",
       "    <tr>\n",
       "      <th>410</th>\n",
       "      <td>MMETSP0962</td>\n",
       "      <td>Labyrinthista</td>\n",
       "      <td>10585.0</td>\n",
       "      <td>0.25481</td>\n",
       "      <td>88.79362</td>\n",
       "      <td>4095.0</td>\n",
       "      <td>32.343234</td>\n",
       "      <td>4806435</td>\n",
       "      <td>4.242424</td>\n",
       "      <td>4.090909</td>\n",
       "      <td>20.454545</td>\n",
       "      <td>3.333333</td>\n",
       "      <td>7.878788</td>\n",
       "      <td>75.000000</td>\n",
       "    </tr>\n",
       "    <tr>\n",
       "      <th>534</th>\n",
       "      <td>MMETSP1131</td>\n",
       "      <td>Haptophyta</td>\n",
       "      <td>15320.0</td>\n",
       "      <td>0.21905</td>\n",
       "      <td>65.10619</td>\n",
       "      <td>4116.0</td>\n",
       "      <td>19.471947</td>\n",
       "      <td>7361403</td>\n",
       "      <td>8.333333</td>\n",
       "      <td>4.242424</td>\n",
       "      <td>12.121212</td>\n",
       "      <td>4.545455</td>\n",
       "      <td>4.772727</td>\n",
       "      <td>4.090909</td>\n",
       "    </tr>\n",
       "    <tr>\n",
       "      <th>545</th>\n",
       "      <td>MMETSP1147</td>\n",
       "      <td>Dinophyta</td>\n",
       "      <td>2542.0</td>\n",
       "      <td>0.00128</td>\n",
       "      <td>79.88785</td>\n",
       "      <td>2507.0</td>\n",
       "      <td>1.320132</td>\n",
       "      <td>522704</td>\n",
       "      <td>1.515152</td>\n",
       "      <td>2.121212</td>\n",
       "      <td>1.363636</td>\n",
       "      <td>1.515152</td>\n",
       "      <td>1.363636</td>\n",
       "      <td>33.181818</td>\n",
       "    </tr>\n",
       "    <tr>\n",
       "      <th>546</th>\n",
       "      <td>MMETSP1148</td>\n",
       "      <td>Dinophyta</td>\n",
       "      <td>119.0</td>\n",
       "      <td>0.00122</td>\n",
       "      <td>81.64455</td>\n",
       "      <td>2160.0</td>\n",
       "      <td>0.000000</td>\n",
       "      <td>24642</td>\n",
       "      <td>0.606061</td>\n",
       "      <td>1.969697</td>\n",
       "      <td>1.212121</td>\n",
       "      <td>0.606061</td>\n",
       "      <td>0.454545</td>\n",
       "      <td>43.939394</td>\n",
       "    </tr>\n",
       "    <tr>\n",
       "      <th>684</th>\n",
       "      <td>MMETSP1435</td>\n",
       "      <td>Bacillariophyta</td>\n",
       "      <td>8658.0</td>\n",
       "      <td>0.13799</td>\n",
       "      <td>77.23747</td>\n",
       "      <td>3421.0</td>\n",
       "      <td>15.841584</td>\n",
       "      <td>3055259</td>\n",
       "      <td>2.121212</td>\n",
       "      <td>2.878788</td>\n",
       "      <td>4.090909</td>\n",
       "      <td>2.727273</td>\n",
       "      <td>4.242424</td>\n",
       "      <td>22.727273</td>\n",
       "    </tr>\n",
       "  </tbody>\n",
       "</table>\n",
       "</div>"
      ],
      "text/plain": [
       "     SampleName           Phylum   n_seqs    score  mean_orf_percent  \\\n",
       "28   MMETSP0044        Dinophyta    594.0  0.00465          92.68547   \n",
       "89   MMETSP0133        Dinophyta  15572.0  0.00205          86.28031   \n",
       "118  MMETSP0186         Cercozoa   1669.0  0.02341          92.62782   \n",
       "145  MMETSP0225        Dinophyta    849.0  0.00144          84.00110   \n",
       "148  MMETSP0229        Dinophyta    321.0  0.00071          85.08741   \n",
       "154  MMETSP0252        Dinophyta      4.0  0.00002          48.22044   \n",
       "231  MMETSP0451        Dinophyta   4441.0  0.02350          85.64647   \n",
       "232  MMETSP0452        Dinophyta     19.0  0.00000          91.90509   \n",
       "279  MMETSP0719  Bacillariophyta   7884.0  0.18649          79.20223   \n",
       "386  MMETSP0932      Chlorophyta   4990.0  0.03437          92.64433   \n",
       "410  MMETSP0962    Labyrinthista  10585.0  0.25481          88.79362   \n",
       "534  MMETSP1131       Haptophyta  15320.0  0.21905          65.10619   \n",
       "545  MMETSP1147        Dinophyta   2542.0  0.00128          79.88785   \n",
       "546  MMETSP1148        Dinophyta    119.0  0.00122          81.64455   \n",
       "684  MMETSP1435  Bacillariophyta   8658.0  0.13799          77.23747   \n",
       "\n",
       "     largest.x  DIB.Complete_BUSCO_perc_euk_v3  dib_assembly_unique_kmers  \\\n",
       "28       697.0                        0.990099                     135164   \n",
       "89      2571.0                       10.891089                    3938227   \n",
       "118     1956.0                        1.650165                     554862   \n",
       "145     1118.0                        0.330033                     151884   \n",
       "148      495.0                        0.000000                      75019   \n",
       "154      682.0                        0.000000                        838   \n",
       "231     1774.0                       11.221122                    1651813   \n",
       "232      286.0                        0.000000                       4560   \n",
       "279     5948.0                        6.600660                    2990388   \n",
       "386     4451.0                        3.630363                    1764127   \n",
       "410     4095.0                       32.343234                    4806435   \n",
       "534     4116.0                       19.471947                    7361403   \n",
       "545     2507.0                        1.320132                     522704   \n",
       "546     2160.0                        0.000000                      24642   \n",
       "684     3421.0                       15.841584                    3055259   \n",
       "\n",
       "     n_seqs_ranked  largest_ranked  score_ranked  unique_kmers_ranked  \\\n",
       "28        0.909091        0.606061      1.969697             1.060606   \n",
       "89        8.484848        2.272727      1.818182             2.878788   \n",
       "118       1.363636        1.666667      2.272727             1.666667   \n",
       "145       1.060606        0.757576      1.666667             1.212121   \n",
       "148       0.757576        0.303030      0.606061             0.757576   \n",
       "154       0.151515        0.454545      0.303030             0.151515   \n",
       "231       1.666667        0.909091      2.424242             2.121212   \n",
       "232       0.303030        0.151515      0.151515             0.303030   \n",
       "279       1.969697        8.030303      6.969697             2.575758   \n",
       "386       1.818182        4.393939      2.727273             2.272727   \n",
       "410       4.242424        4.090909     20.454545             3.333333   \n",
       "534       8.333333        4.242424     12.121212             4.545455   \n",
       "545       1.515152        2.121212      1.363636             1.515152   \n",
       "546       0.606061        1.969697      1.212121             0.606061   \n",
       "684       2.121212        2.878788      4.090909             2.727273   \n",
       "\n",
       "     BUSCO_ranked  orf_ranked  \n",
       "28       1.212121   92.575758  \n",
       "89       2.878788   66.060606  \n",
       "118      1.515152   92.121212  \n",
       "145      0.909091   56.212121  \n",
       "148      0.454545   61.515152  \n",
       "154      0.454545    2.121212  \n",
       "231      3.106061   64.242424  \n",
       "232      0.454545   88.484848  \n",
       "279      2.575758   30.151515  \n",
       "386      1.969697   92.272727  \n",
       "410      7.878788   75.000000  \n",
       "534      4.772727    4.090909  \n",
       "545      1.363636   33.181818  \n",
       "546      0.454545   43.939394  \n",
       "684      4.242424   22.727273  "
      ]
     },
     "execution_count": 71,
     "metadata": {},
     "output_type": "execute_result"
    }
   ],
   "source": [
    "low_heatmap_filtered"
   ]
  },
  {
   "cell_type": "code",
   "execution_count": 72,
   "metadata": {
    "collapsed": true
   },
   "outputs": [],
   "source": [
    "low_heatmap = low_heatmap_filtered[['n_seqs_ranked','largest_ranked','orf_ranked','score_ranked','BUSCO_ranked','unique_kmers_ranked']]"
   ]
  },
  {
   "cell_type": "code",
   "execution_count": 73,
   "metadata": {},
   "outputs": [
    {
     "name": "stderr",
     "output_type": "stream",
     "text": [
      "/Users/johnsolk/anaconda3/lib/python3.6/site-packages/ipykernel_launcher.py:1: SettingWithCopyWarning: \n",
      "A value is trying to be set on a copy of a slice from a DataFrame.\n",
      "Try using .loc[row_indexer,col_indexer] = value instead\n",
      "\n",
      "See the caveats in the documentation: http://pandas.pydata.org/pandas-docs/stable/indexing.html#indexing-view-versus-copy\n",
      "  \"\"\"Entry point for launching an IPython kernel.\n"
     ]
    }
   ],
   "source": [
    "low_heatmap['SampleName_Phylum'] = str_join(low_heatmap_filtered, ' - ', 'SampleName', 'Phylum')"
   ]
  },
  {
   "cell_type": "code",
   "execution_count": 74,
   "metadata": {
    "collapsed": true
   },
   "outputs": [],
   "source": [
    "low_heatmap = low_heatmap.set_index(\"SampleName_Phylum\")"
   ]
  },
  {
   "cell_type": "code",
   "execution_count": 75,
   "metadata": {},
   "outputs": [
    {
     "data": {
      "text/html": [
       "<div>\n",
       "<style scoped>\n",
       "    .dataframe tbody tr th:only-of-type {\n",
       "        vertical-align: middle;\n",
       "    }\n",
       "\n",
       "    .dataframe tbody tr th {\n",
       "        vertical-align: top;\n",
       "    }\n",
       "\n",
       "    .dataframe thead th {\n",
       "        text-align: right;\n",
       "    }\n",
       "</style>\n",
       "<table border=\"1\" class=\"dataframe\">\n",
       "  <thead>\n",
       "    <tr style=\"text-align: right;\">\n",
       "      <th></th>\n",
       "      <th>n_seqs_ranked</th>\n",
       "      <th>largest_ranked</th>\n",
       "      <th>orf_ranked</th>\n",
       "      <th>score_ranked</th>\n",
       "      <th>BUSCO_ranked</th>\n",
       "      <th>unique_kmers_ranked</th>\n",
       "    </tr>\n",
       "    <tr>\n",
       "      <th>SampleName_Phylum</th>\n",
       "      <th></th>\n",
       "      <th></th>\n",
       "      <th></th>\n",
       "      <th></th>\n",
       "      <th></th>\n",
       "      <th></th>\n",
       "    </tr>\n",
       "  </thead>\n",
       "  <tbody>\n",
       "    <tr>\n",
       "      <th>MMETSP0044 - Dinophyta</th>\n",
       "      <td>0.909091</td>\n",
       "      <td>0.606061</td>\n",
       "      <td>92.575758</td>\n",
       "      <td>1.969697</td>\n",
       "      <td>1.212121</td>\n",
       "      <td>1.060606</td>\n",
       "    </tr>\n",
       "    <tr>\n",
       "      <th>MMETSP0133 - Dinophyta</th>\n",
       "      <td>8.484848</td>\n",
       "      <td>2.272727</td>\n",
       "      <td>66.060606</td>\n",
       "      <td>1.818182</td>\n",
       "      <td>2.878788</td>\n",
       "      <td>2.878788</td>\n",
       "    </tr>\n",
       "    <tr>\n",
       "      <th>MMETSP0186 - Cercozoa</th>\n",
       "      <td>1.363636</td>\n",
       "      <td>1.666667</td>\n",
       "      <td>92.121212</td>\n",
       "      <td>2.272727</td>\n",
       "      <td>1.515152</td>\n",
       "      <td>1.666667</td>\n",
       "    </tr>\n",
       "    <tr>\n",
       "      <th>MMETSP0225 - Dinophyta</th>\n",
       "      <td>1.060606</td>\n",
       "      <td>0.757576</td>\n",
       "      <td>56.212121</td>\n",
       "      <td>1.666667</td>\n",
       "      <td>0.909091</td>\n",
       "      <td>1.212121</td>\n",
       "    </tr>\n",
       "    <tr>\n",
       "      <th>MMETSP0229 - Dinophyta</th>\n",
       "      <td>0.757576</td>\n",
       "      <td>0.303030</td>\n",
       "      <td>61.515152</td>\n",
       "      <td>0.606061</td>\n",
       "      <td>0.454545</td>\n",
       "      <td>0.757576</td>\n",
       "    </tr>\n",
       "    <tr>\n",
       "      <th>MMETSP0252 - Dinophyta</th>\n",
       "      <td>0.151515</td>\n",
       "      <td>0.454545</td>\n",
       "      <td>2.121212</td>\n",
       "      <td>0.303030</td>\n",
       "      <td>0.454545</td>\n",
       "      <td>0.151515</td>\n",
       "    </tr>\n",
       "    <tr>\n",
       "      <th>MMETSP0451 - Dinophyta</th>\n",
       "      <td>1.666667</td>\n",
       "      <td>0.909091</td>\n",
       "      <td>64.242424</td>\n",
       "      <td>2.424242</td>\n",
       "      <td>3.106061</td>\n",
       "      <td>2.121212</td>\n",
       "    </tr>\n",
       "    <tr>\n",
       "      <th>MMETSP0452 - Dinophyta</th>\n",
       "      <td>0.303030</td>\n",
       "      <td>0.151515</td>\n",
       "      <td>88.484848</td>\n",
       "      <td>0.151515</td>\n",
       "      <td>0.454545</td>\n",
       "      <td>0.303030</td>\n",
       "    </tr>\n",
       "    <tr>\n",
       "      <th>MMETSP0719 - Bacillariophyta</th>\n",
       "      <td>1.969697</td>\n",
       "      <td>8.030303</td>\n",
       "      <td>30.151515</td>\n",
       "      <td>6.969697</td>\n",
       "      <td>2.575758</td>\n",
       "      <td>2.575758</td>\n",
       "    </tr>\n",
       "    <tr>\n",
       "      <th>MMETSP0932 - Chlorophyta</th>\n",
       "      <td>1.818182</td>\n",
       "      <td>4.393939</td>\n",
       "      <td>92.272727</td>\n",
       "      <td>2.727273</td>\n",
       "      <td>1.969697</td>\n",
       "      <td>2.272727</td>\n",
       "    </tr>\n",
       "    <tr>\n",
       "      <th>MMETSP0962 - Labyrinthista</th>\n",
       "      <td>4.242424</td>\n",
       "      <td>4.090909</td>\n",
       "      <td>75.000000</td>\n",
       "      <td>20.454545</td>\n",
       "      <td>7.878788</td>\n",
       "      <td>3.333333</td>\n",
       "    </tr>\n",
       "    <tr>\n",
       "      <th>MMETSP1131 - Haptophyta</th>\n",
       "      <td>8.333333</td>\n",
       "      <td>4.242424</td>\n",
       "      <td>4.090909</td>\n",
       "      <td>12.121212</td>\n",
       "      <td>4.772727</td>\n",
       "      <td>4.545455</td>\n",
       "    </tr>\n",
       "    <tr>\n",
       "      <th>MMETSP1147 - Dinophyta</th>\n",
       "      <td>1.515152</td>\n",
       "      <td>2.121212</td>\n",
       "      <td>33.181818</td>\n",
       "      <td>1.363636</td>\n",
       "      <td>1.363636</td>\n",
       "      <td>1.515152</td>\n",
       "    </tr>\n",
       "    <tr>\n",
       "      <th>MMETSP1148 - Dinophyta</th>\n",
       "      <td>0.606061</td>\n",
       "      <td>1.969697</td>\n",
       "      <td>43.939394</td>\n",
       "      <td>1.212121</td>\n",
       "      <td>0.454545</td>\n",
       "      <td>0.606061</td>\n",
       "    </tr>\n",
       "    <tr>\n",
       "      <th>MMETSP1435 - Bacillariophyta</th>\n",
       "      <td>2.121212</td>\n",
       "      <td>2.878788</td>\n",
       "      <td>22.727273</td>\n",
       "      <td>4.090909</td>\n",
       "      <td>4.242424</td>\n",
       "      <td>2.727273</td>\n",
       "    </tr>\n",
       "  </tbody>\n",
       "</table>\n",
       "</div>"
      ],
      "text/plain": [
       "                              n_seqs_ranked  largest_ranked  orf_ranked  \\\n",
       "SampleName_Phylum                                                         \n",
       "MMETSP0044 - Dinophyta             0.909091        0.606061   92.575758   \n",
       "MMETSP0133 - Dinophyta             8.484848        2.272727   66.060606   \n",
       "MMETSP0186 - Cercozoa              1.363636        1.666667   92.121212   \n",
       "MMETSP0225 - Dinophyta             1.060606        0.757576   56.212121   \n",
       "MMETSP0229 - Dinophyta             0.757576        0.303030   61.515152   \n",
       "MMETSP0252 - Dinophyta             0.151515        0.454545    2.121212   \n",
       "MMETSP0451 - Dinophyta             1.666667        0.909091   64.242424   \n",
       "MMETSP0452 - Dinophyta             0.303030        0.151515   88.484848   \n",
       "MMETSP0719 - Bacillariophyta       1.969697        8.030303   30.151515   \n",
       "MMETSP0932 - Chlorophyta           1.818182        4.393939   92.272727   \n",
       "MMETSP0962 - Labyrinthista         4.242424        4.090909   75.000000   \n",
       "MMETSP1131 - Haptophyta            8.333333        4.242424    4.090909   \n",
       "MMETSP1147 - Dinophyta             1.515152        2.121212   33.181818   \n",
       "MMETSP1148 - Dinophyta             0.606061        1.969697   43.939394   \n",
       "MMETSP1435 - Bacillariophyta       2.121212        2.878788   22.727273   \n",
       "\n",
       "                              score_ranked  BUSCO_ranked  unique_kmers_ranked  \n",
       "SampleName_Phylum                                                              \n",
       "MMETSP0044 - Dinophyta            1.969697      1.212121             1.060606  \n",
       "MMETSP0133 - Dinophyta            1.818182      2.878788             2.878788  \n",
       "MMETSP0186 - Cercozoa             2.272727      1.515152             1.666667  \n",
       "MMETSP0225 - Dinophyta            1.666667      0.909091             1.212121  \n",
       "MMETSP0229 - Dinophyta            0.606061      0.454545             0.757576  \n",
       "MMETSP0252 - Dinophyta            0.303030      0.454545             0.151515  \n",
       "MMETSP0451 - Dinophyta            2.424242      3.106061             2.121212  \n",
       "MMETSP0452 - Dinophyta            0.151515      0.454545             0.303030  \n",
       "MMETSP0719 - Bacillariophyta      6.969697      2.575758             2.575758  \n",
       "MMETSP0932 - Chlorophyta          2.727273      1.969697             2.272727  \n",
       "MMETSP0962 - Labyrinthista       20.454545      7.878788             3.333333  \n",
       "MMETSP1131 - Haptophyta          12.121212      4.772727             4.545455  \n",
       "MMETSP1147 - Dinophyta            1.363636      1.363636             1.515152  \n",
       "MMETSP1148 - Dinophyta            1.212121      0.454545             0.606061  \n",
       "MMETSP1435 - Bacillariophyta      4.090909      4.242424             2.727273  "
      ]
     },
     "execution_count": 75,
     "metadata": {},
     "output_type": "execute_result"
    }
   ],
   "source": [
    "low_heatmap"
   ]
  },
  {
   "cell_type": "markdown",
   "metadata": {},
   "source": [
    "# Heatmap Good"
   ]
  },
  {
   "cell_type": "code",
   "execution_count": 76,
   "metadata": {
    "collapsed": true
   },
   "outputs": [],
   "source": [
    "import numpy as np \n",
    "from pandas import DataFrame\n",
    "import seaborn as sns\n",
    "%matplotlib inline"
   ]
  },
  {
   "cell_type": "code",
   "execution_count": 77,
   "metadata": {},
   "outputs": [
    {
     "data": {
      "text/plain": [
       "(12, 6)"
      ]
     },
     "execution_count": 77,
     "metadata": {},
     "output_type": "execute_result"
    }
   ],
   "source": [
    "high_heatmap.shape"
   ]
  },
  {
   "cell_type": "code",
   "execution_count": 82,
   "metadata": {},
   "outputs": [],
   "source": [
    "high_heatmap.columns = [\"Number of Contigs\",\"Largest Contig\",\"% ORF\",\"Transrate Score\",\"% Complete BUSCO\",\"Unique k-mers\"]"
   ]
  },
  {
   "cell_type": "code",
   "execution_count": 97,
   "metadata": {},
   "outputs": [
    {
     "data": {
      "image/png": "[encoded data removed]",
      "text/plain": [
       "<matplotlib.figure.Figure at 0x1174fd400>"
      ]
     },
     "metadata": {},
     "output_type": "display_data"
    }
   ],
   "source": [
    "ax = sns.heatmap(high_heatmap, annot=True,cmap=\"Blues\",fmt='.1f');\n",
    "ax.set_ylabel(\"\")\n",
    "fig = ax.get_figure()  \n",
    "fig.savefig('../paper/heatmap_high.pdf',bbox_inches=\"tight\",dpi=1000)\n",
    "fig.savefig('../paper/heatmap_high.png',bbox_inches=\"tight\",dpi=1000)"
   ]
  },
  {
   "cell_type": "markdown",
   "metadata": {},
   "source": [
    "# Heatmap Poor"
   ]
  },
  {
   "cell_type": "code",
   "execution_count": 101,
   "metadata": {
    "collapsed": true
   },
   "outputs": [],
   "source": [
    "low_heatmap.columns = [\"Number of Contigs\",\"Largest Contig\",\"% ORF\",\"Transrate Score\",\"% Complete BUSCO\",\"Unique k-mers\"]"
   ]
  },
  {
   "cell_type": "code",
   "execution_count": 102,
   "metadata": {},
   "outputs": [
    {
     "data": {
      "text/plain": [
       "(15, 6)"
      ]
     },
     "execution_count": 102,
     "metadata": {},
     "output_type": "execute_result"
    }
   ],
   "source": [
    "low_heatmap.shape"
   ]
  },
  {
   "cell_type": "code",
   "execution_count": 103,
   "metadata": {},
   "outputs": [
    {
     "data": {
      "image/png": "[encoded data removed]",
      "text/plain": [
       "<matplotlib.figure.Figure at 0x1a2c63b438>"
      ]
     },
     "metadata": {},
     "output_type": "display_data"
    }
   ],
   "source": [
    "ax = sns.heatmap(low_heatmap, annot=True,cmap=\"Blues\");\n",
    "ax.set_ylabel(\"\")\n",
    "fig = ax.get_figure()  \n",
    "fig.savefig('../paper/heatmap_low.pdf',bbox_inches=\"tight\",dpi=1000)\n",
    "fig.savefig('../paper/heatmap_low.png',bbox_inches=\"tight\",dpi=1000)"
   ]
  },
  {
   "cell_type": "code",
   "execution_count": null,
   "metadata": {
    "collapsed": true
   },
   "outputs": [],
   "source": []
  }
 ],
 "metadata": {
  "anaconda-cloud": {},
  "kernelspec": {
   "display_name": "Python 3",
   "language": "python",
   "name": "python3"
  },
  "language_info": {
   "codemirror_mode": {
    "name": "ipython",
    "version": 3
   },
   "file_extension": ".py",
   "mimetype": "text/x-python",
   "name": "python",
   "nbconvert_exporter": "python",
   "pygments_lexer": "ipython3",
   "version": "3.6.3"
  }
 },
 "nbformat": 4,
 "nbformat_minor": 1
}
