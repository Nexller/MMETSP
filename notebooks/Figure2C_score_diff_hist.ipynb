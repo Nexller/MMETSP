{
 "cells": [
  {
   "cell_type": "code",
   "execution_count": 1,
   "metadata": {},
   "outputs": [
    {
     "name": "stdout",
     "output_type": "stream",
     "text": [
      "Populating the interactive namespace from numpy and matplotlib\n"
     ]
    }
   ],
   "source": [
    "%matplotlib inline\n",
    "%pylab inline\n",
    "import pandas as pd\n",
    "import pylab as pl\n",
    "import matplotlib.pyplot as plat\n",
    "import palettable as pal\n",
    "import matplotlib as mpl\n",
    "import numpy"
   ]
  },
  {
   "cell_type": "code",
   "execution_count": 2,
   "metadata": {
    "collapsed": true
   },
   "outputs": [],
   "source": [
    "special_flowers = ['MMETSP0693', 'MMETSP1019', 'MMETSP0923', 'MMETSP0008', 'MMETSP1002', 'MMETSP1325', 'MMETSP1018', \n",
    "                   'MMETSP1346', 'MMETSP0088', 'MMETSP0092', 'MMETSP0717', 'MMETSP0223', 'MMETSP0115', 'MMETSP0196', \n",
    "                   'MMETSP0197', 'MMETSP0398', 'MMETSP0399', 'MMETSP0922']"
   ]
  },
  {
   "cell_type": "code",
   "execution_count": 3,
   "metadata": {
    "collapsed": true
   },
   "outputs": [],
   "source": [
    "giant_matrix = \"../assembly_evaluation_data/MMETSP_all_evaluation_matrix.csv\"\n",
    "all_metrics = pd.read_csv(giant_matrix)\n",
    "# transrate score metrics\n",
    "all_metrics = all_metrics[~all_metrics['SampleName'].isin(special_flowers)]\n",
    "ncgr_cds_transrate_score = all_metrics[['SampleName', 'score.y']]\n",
    "ncgr_nt_transrate_score = all_metrics[['SampleName','score.x']]\n",
    "dib_transrate_score = all_metrics[['SampleName','score']]\n",
    "ncgr_nt_transrate_score.columns = ['SampleName','score']\n",
    "ncgr_cds_transrate_score.columns = ['SampleName','score']\n",
    "#transrate reference metrics\n",
    "ncgr_transrate_nt = all_metrics[['SampleName','p_refs_with_CRBB.y','n_seqs.x','mean_orf_percent.x']]\n",
    "dib_transrate_nt = all_metrics[['SampleName','p_refs_with_CRBB','n_seqs','mean_orf_percent']]\n",
    "ncgr_transrate_nt.columns = ['SampleName','p_refs_with_CRBB','n_seqs','mean_orf_percent']\n",
    "ncgr_cds_transrate_score = ncgr_cds_transrate_score.dropna()\n",
    "ncgr_nt_transrate_score = ncgr_nt_transrate_score.dropna()\n",
    "dib_transrate_score = dib_transrate_score.dropna()"
   ]
  },
  {
   "cell_type": "code",
   "execution_count": 4,
   "metadata": {
    "collapsed": true
   },
   "outputs": [],
   "source": [
    "# Calculates differences between transrate scores\n",
    "# DIB - NCGR\n",
    "# Negative values when NCGR higher score\n",
    "# Positive values when DIB higher score\n",
    "ncgr_tmp = ncgr_nt_transrate_score.set_index(\"SampleName\")\n",
    "dib_tmp = dib_transrate_score.set_index(\"SampleName\")\n",
    "diff_tmp = dib_tmp - ncgr_tmp"
   ]
  },
  {
   "cell_type": "code",
   "execution_count": 5,
   "metadata": {
    "collapsed": true
   },
   "outputs": [],
   "source": [
    "phyl_data = all_metrics[['SampleName', 'Phylum']]\n",
    "phyl_data = phyl_data.set_index(\"SampleName\")\n",
    "diff_tmp = diff_tmp.join(phyl_data)"
   ]
  },
  {
   "cell_type": "code",
   "execution_count": 20,
   "metadata": {},
   "outputs": [
    {
     "name": "stdout",
     "output_type": "stream",
     "text": [
      "Bacillariophyta\n",
      "Dinophyta\n",
      "Ochrophyta\n",
      "Haptophyta\n",
      "Ciliophora\n",
      "Chlorophyta\n",
      "Cryptophyta\n"
     ]
    },
    {
     "data": {
      "image/png": "[encoded data removed]",
      "text/plain": [
       "<matplotlib.figure.Figure at 0x11866bf28>"
      ]
     },
     "metadata": {},
     "output_type": "display_data"
    }
   ],
   "source": [
    "keep = [\"Bacillariophyta\",\"Dinophyta\",\"Ochrophyta\",\"Haptophyta\",\"Ciliophora\",\"Chlorophyta\",\"Cryptophyta\"]\n",
    "hist_val = []\n",
    "for k in keep:\n",
    "    print(k)\n",
    "    df = diff_tmp.loc[diff_tmp['Phylum'] == k]\n",
    "    new = df[['score']].dropna().values\n",
    "    hist_val.append(new)\n",
    "plt.figure()\n",
    "plt.hist(hist_val, bins=30, stacked=True)\n",
    "plt.legend(keep)\n",
    "savefig('../paper/transrate_score_nt_v_dib_diff_histogram_stacked.png',dpi=680, bbox_inches=\"tight\")\n",
    "savefig('../paper/transrate_score_nt_v_dib_diff_histogram_stacked.pdf',dpi=680, bbox_inches=\"tight\")\n",
    "plt.show()"
   ]
  },
  {
   "cell_type": "code",
   "execution_count": null,
   "metadata": {
    "collapsed": true
   },
   "outputs": [],
   "source": [
    "ax = diff_tmp.plot(kind='hist', bins=30,legend=False,color='#018E42')\n",
    "ax.set_xlabel(\"Difference between transrate scores\",fontsize=14)\n",
    "ax.set_ylabel(\"Frequency\",fontsize=14)\n",
    "ax.spines['top'].set_visible(False)\n",
    "ax.spines['right'].set_visible(False)\n",
    "ax.tick_params(axis= 'both',labelsize='x-large')\n",
    "ax.tick_params(axis='x', which='both', top='off')"
   ]
  },
  {
   "cell_type": "code",
   "execution_count": 12,
   "metadata": {},
   "outputs": [
    {
     "name": "stdout",
     "output_type": "stream",
     "text": [
      "score    0.0623\n",
      "dtype: float64\n"
     ]
    }
   ],
   "source": [
    "s = numpy.std(diff_tmp)\n",
    "print(s)"
   ]
  },
  {
   "cell_type": "code",
   "execution_count": 39,
   "metadata": {},
   "outputs": [
    {
     "name": "stdout",
     "output_type": "stream",
     "text": [
      "score   -0.03447\n",
      "dtype: float64\n"
     ]
    }
   ],
   "source": [
    "m = numpy.mean(diff_tmp)\n",
    "print(m)"
   ]
  },
  {
   "cell_type": "code",
   "execution_count": 79,
   "metadata": {
    "collapsed": true
   },
   "outputs": [],
   "source": [
    "x = diff_tmp[diff_tmp.score.abs() > diff_tmp.score.quantile(0.95)]"
   ]
  },
  {
   "cell_type": "code",
   "execution_count": 80,
   "metadata": {},
   "outputs": [
    {
     "data": {
      "text/plain": [
       "(180, 2)"
      ]
     },
     "execution_count": 80,
     "metadata": {},
     "output_type": "execute_result"
    }
   ],
   "source": [
    "x.shape"
   ]
  },
  {
   "cell_type": "code",
   "execution_count": 82,
   "metadata": {
    "collapsed": true
   },
   "outputs": [],
   "source": [
    "x = x[x['Phylum'].isin(keep)]"
   ]
  },
  {
   "cell_type": "code",
   "execution_count": 83,
   "metadata": {},
   "outputs": [
    {
     "data": {
      "text/plain": [
       "(150, 2)"
      ]
     },
     "execution_count": 83,
     "metadata": {},
     "output_type": "execute_result"
    }
   ],
   "source": [
    "x.shape"
   ]
  },
  {
   "cell_type": "code",
   "execution_count": 84,
   "metadata": {
    "collapsed": true
   },
   "outputs": [],
   "source": [
    "pos = x[x['score'] > 0]\n",
    "neg = x[x['score'] < 0]"
   ]
  },
  {
   "cell_type": "code",
   "execution_count": 85,
   "metadata": {},
   "outputs": [
    {
     "data": {
      "text/plain": [
       "(26, 2)"
      ]
     },
     "execution_count": 85,
     "metadata": {},
     "output_type": "execute_result"
    }
   ],
   "source": [
    "pos.shape"
   ]
  },
  {
   "cell_type": "code",
   "execution_count": 86,
   "metadata": {},
   "outputs": [
    {
     "data": {
      "text/plain": [
       "(124, 2)"
      ]
     },
     "execution_count": 86,
     "metadata": {},
     "output_type": "execute_result"
    }
   ],
   "source": [
    "neg.shape"
   ]
  },
  {
   "cell_type": "code",
   "execution_count": 87,
   "metadata": {},
   "outputs": [
    {
     "data": {
      "text/plain": [
       "Phylum\n",
       "Bacillariophyta     3\n",
       "Chlorophyta        10\n",
       "Cryptophyta         1\n",
       "Dinophyta           8\n",
       "Ochrophyta          4\n",
       "dtype: int64"
      ]
     },
     "execution_count": 87,
     "metadata": {},
     "output_type": "execute_result"
    }
   ],
   "source": [
    "pos.groupby(['Phylum']).size()"
   ]
  },
  {
   "cell_type": "code",
   "execution_count": 88,
   "metadata": {},
   "outputs": [
    {
     "data": {
      "text/plain": [
       "Phylum\n",
       "Bacillariophyta    74\n",
       "Chlorophyta        15\n",
       "Ciliophora          7\n",
       "Cryptophyta         5\n",
       "Dinophyta           8\n",
       "Haptophyta          5\n",
       "Ochrophyta         10\n",
       "dtype: int64"
      ]
     },
     "execution_count": 88,
     "metadata": {},
     "output_type": "execute_result"
    }
   ],
   "source": [
    "neg.groupby(['Phylum']).size()"
   ]
  },
  {
   "cell_type": "code",
   "execution_count": 33,
   "metadata": {},
   "outputs": [
    {
     "name": "stdout",
     "output_type": "stream",
     "text": [
      "Phylum\n",
      "Bacillariophyta    173\n",
      "Chlorophyta         61\n",
      "Ciliophora          25\n",
      "Cryptophyta         22\n",
      "Dinophyta          113\n",
      "Haptophyta          61\n",
      "Ochrophyta          73\n",
      "dtype: int64\n"
     ]
    }
   ],
   "source": [
    "#a = diff_tmp[diff_tmp['Phylum'].isin(keep)]\n",
    "#print(a.head())\n",
    "print(diff_tmp[diff_tmp['Phylum'].isin(keep)].groupby(['Phylum']).size())"
   ]
  },
  {
   "cell_type": "code",
   "execution_count": null,
   "metadata": {
    "collapsed": true
   },
   "outputs": [],
   "source": [
    "labels = keep\n",
    "sizes = [38.4, 40.6, 20.7, 10.3]\n",
    "colors = ['yellowgreen', 'gold', 'lightskyblue', 'lightcoral']\n",
    "patches, texts = plt.pie(sizes, colors=colors, shadow=True, startangle=90)\n",
    "plt.legend(patches, labels, loc=\"best\")\n",
    "plt.axis('equal')\n",
    "plt.tight_layout()\n",
    "plt.show()"
   ]
  }
 ],
 "metadata": {
  "kernelspec": {
   "display_name": "Python 3",
   "language": "python",
   "name": "python3"
  },
  "language_info": {
   "codemirror_mode": {
    "name": "ipython",
    "version": 3
   },
   "file_extension": ".py",
   "mimetype": "text/x-python",
   "name": "python",
   "nbconvert_exporter": "python",
   "pygments_lexer": "ipython3",
   "version": "3.6.3"
  }
 },
 "nbformat": 4,
 "nbformat_minor": 2
}
