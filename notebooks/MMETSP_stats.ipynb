{
 "cells": [
  {
   "cell_type": "markdown",
   "metadata": {},
   "source": [
    "# MMETSP stats"
   ]
  },
  {
   "cell_type": "code",
   "execution_count": 192,
   "metadata": {},
   "outputs": [],
   "source": [
    "# metrics files\n",
    "dib_v_ncgr <- read.csv(\"../assembly_evaluation_data/transrate_reference_trinity2.2.0_v_ncgr.cds.csv\")\n",
    "ncgr_v_dib <- read.csv(\"../assembly_evaluation_data/transrate_reverse_ncgr.nt_v_trinity2.2.0.csv\")\n",
    "score_ncgr <- read.csv(\"../assembly_evaluation_data/transrate_scores_imicrobe_cds.csv\")\n",
    "score_dib <- read.csv(\"../assembly_evaluation_data/transrate_scores_trinity-2.2.0.csv\")\n",
    "BUSCO_dib_data <- read.csv(\"../assembly_evaluation_data/busco_scores_MMETSP_protist_trinity2.2.0.csv\")\n",
    "BUSCO_ncgr_data <- read.csv(\"../assembly_evaluation_data/busco_scores_imicrobe_protist.csv\")"
   ]
  },
  {
   "cell_type": "markdown",
   "metadata": {},
   "source": [
    "## 1. Size of table with [Transrate](http://hibberdlab.com/transrate/metrics.html) comparative metrics"
   ]
  },
  {
   "cell_type": "markdown",
   "metadata": {},
   "source": [
    "(comparing DIB re-assemblies to NCGR assemblies and vice versa)"
   ]
  },
  {
   "cell_type": "markdown",
   "metadata": {},
   "source": [
    "### dib_v_ncgr (rows x columns)"
   ]
  },
  {
   "cell_type": "code",
   "execution_count": 193,
   "metadata": {},
   "outputs": [
    {
     "data": {
      "text/html": [
       "<ol class=list-inline>\n",
       "\t<li>635</li>\n",
       "\t<li>45</li>\n",
       "</ol>\n"
      ],
      "text/latex": [
       "\\begin{enumerate*}\n",
       "\\item 635\n",
       "\\item 45\n",
       "\\end{enumerate*}\n"
      ],
      "text/markdown": [
       "1. 635\n",
       "2. 45\n",
       "\n",
       "\n"
      ],
      "text/plain": [
       "[1] 635  45"
      ]
     },
     "metadata": {},
     "output_type": "display_data"
    }
   ],
   "source": [
    "dim(dib_v_ncgr)"
   ]
  },
  {
   "cell_type": "markdown",
   "metadata": {},
   "source": [
    "### ncgr_v_dib (rows x columns)"
   ]
  },
  {
   "cell_type": "code",
   "execution_count": 194,
   "metadata": {},
   "outputs": [
    {
     "data": {
      "text/html": [
       "<ol class=list-inline>\n",
       "\t<li>651</li>\n",
       "\t<li>45</li>\n",
       "</ol>\n"
      ],
      "text/latex": [
       "\\begin{enumerate*}\n",
       "\\item 651\n",
       "\\item 45\n",
       "\\end{enumerate*}\n"
      ],
      "text/markdown": [
       "1. 651\n",
       "2. 45\n",
       "\n",
       "\n"
      ],
      "text/plain": [
       "[1] 651  45"
      ]
     },
     "metadata": {},
     "output_type": "display_data"
    }
   ],
   "source": [
    "\n",
    "dim(ncgr_v_dib)"
   ]
  },
  {
   "cell_type": "markdown",
   "metadata": {},
   "source": [
    "## Size of table with [Transrate](http://hibberdlab.com/transrate/metrics.html) score  metrics  "
   ]
  },
  {
   "cell_type": "markdown",
   "metadata": {},
   "source": [
    "#### NCGR"
   ]
  },
  {
   "cell_type": "code",
   "execution_count": 195,
   "metadata": {},
   "outputs": [
    {
     "data": {
      "text/html": [
       "<ol class=list-inline>\n",
       "\t<li>630</li>\n",
       "\t<li>44</li>\n",
       "</ol>\n"
      ],
      "text/latex": [
       "\\begin{enumerate*}\n",
       "\\item 630\n",
       "\\item 44\n",
       "\\end{enumerate*}\n"
      ],
      "text/markdown": [
       "1. 630\n",
       "2. 44\n",
       "\n",
       "\n"
      ],
      "text/plain": [
       "[1] 630  44"
      ]
     },
     "metadata": {},
     "output_type": "display_data"
    }
   ],
   "source": [
    "dim(score_ncgr)"
   ]
  },
  {
   "cell_type": "markdown",
   "metadata": {},
   "source": [
    "#### DIB\n"
   ]
  },
  {
   "cell_type": "code",
   "execution_count": 196,
   "metadata": {},
   "outputs": [
    {
     "data": {
      "text/html": [
       "<ol class=list-inline>\n",
       "\t<li>653</li>\n",
       "\t<li>44</li>\n",
       "</ol>\n"
      ],
      "text/latex": [
       "\\begin{enumerate*}\n",
       "\\item 653\n",
       "\\item 44\n",
       "\\end{enumerate*}\n"
      ],
      "text/markdown": [
       "1. 653\n",
       "2. 44\n",
       "\n",
       "\n"
      ],
      "text/plain": [
       "[1] 653  44"
      ]
     },
     "metadata": {},
     "output_type": "display_data"
    }
   ],
   "source": [
    "dim(score_dib)"
   ]
  },
  {
   "cell_type": "markdown",
   "metadata": {},
   "source": [
    "## 2. Number of contigs in transcriptome (mean ± std)"
   ]
  },
  {
   "cell_type": "markdown",
   "metadata": {},
   "source": [
    "### DIB re-assemblies"
   ]
  },
  {
   "cell_type": "code",
   "execution_count": 197,
   "metadata": {},
   "outputs": [
    {
     "data": {
      "text/html": [
       "43882.0692913386"
      ],
      "text/latex": [
       "43882.0692913386"
      ],
      "text/markdown": [
       "43882.0692913386"
      ],
      "text/plain": [
       "[1] 43882.07"
      ]
     },
     "metadata": {},
     "output_type": "display_data"
    },
    {
     "data": {
      "text/html": [
       "36116.3143501832"
      ],
      "text/latex": [
       "36116.3143501832"
      ],
      "text/markdown": [
       "36116.3143501832"
      ],
      "text/plain": [
       "[1] 36116.31"
      ]
     },
     "metadata": {},
     "output_type": "display_data"
    }
   ],
   "source": [
    "contigs_dib_v_ncgr <- dib_v_ncgr$n_seqs\n",
    "\n",
    "#length(contigs_dib_v_ncgr)\n",
    "\n",
    "mean(contigs_dib_v_ncgr)\n",
    "\n",
    "sd(contigs_dib_v_ncgr)\n"
   ]
  },
  {
   "cell_type": "markdown",
   "metadata": {},
   "source": [
    "### NCGR assemblies from [imicrobe](https://imicrobe.us/?#/projects/104)"
   ]
  },
  {
   "cell_type": "code",
   "execution_count": 198,
   "metadata": {},
   "outputs": [
    {
     "data": {
      "text/html": [
       "30179.4854070661"
      ],
      "text/latex": [
       "30179.4854070661"
      ],
      "text/markdown": [
       "30179.4854070661"
      ],
      "text/plain": [
       "[1] 30179.49"
      ]
     },
     "metadata": {},
     "output_type": "display_data"
    },
    {
     "data": {
      "text/html": [
       "21341.2341354842"
      ],
      "text/latex": [
       "21341.2341354842"
      ],
      "text/markdown": [
       "21341.2341354842"
      ],
      "text/plain": [
       "[1] 21341.23"
      ]
     },
     "metadata": {},
     "output_type": "display_data"
    }
   ],
   "source": [
    "contigs_ncgr_v_dib <- ncgr_v_dib$n_seqs\n",
    "#length(contigs_ncgr_v_dib)\n",
    "mean(contigs_ncgr_v_dib)\n",
    "sd(contigs_ncgr_v_dib)"
   ]
  },
  {
   "cell_type": "markdown",
   "metadata": {},
   "source": [
    "### Kolmogorov–Smirnov test comparing distributions of DIB vs. NCGR num contigs"
   ]
  },
  {
   "cell_type": "code",
   "execution_count": 199,
   "metadata": {},
   "outputs": [
    {
     "name": "stderr",
     "output_type": "stream",
     "text": [
      "Warning message in ks.test(contigs_dib_v_ncgr, contigs_ncgr_v_dib):\n",
      "“p-value will be approximate in the presence of ties”"
     ]
    },
    {
     "data": {
      "text/plain": [
       "\n",
       "\tTwo-sample Kolmogorov-Smirnov test\n",
       "\n",
       "data:  contigs_dib_v_ncgr and contigs_ncgr_v_dib\n",
       "D = 0.29793, p-value < 2.2e-16\n",
       "alternative hypothesis: two-sided\n"
      ]
     },
     "metadata": {},
     "output_type": "display_data"
    }
   ],
   "source": [
    "ks.test(contigs_dib_v_ncgr,contigs_ncgr_v_dib)"
   ]
  },
  {
   "cell_type": "markdown",
   "metadata": {},
   "source": [
    "## 3. [BUSCO](http://busco.ezlab.org/) v2 content, [Protists database](http://busco.ezlab.org/frame_protists.html)"
   ]
  },
  {
   "cell_type": "markdown",
   "metadata": {},
   "source": [
    "### DIB (mean ± std)"
   ]
  },
  {
   "cell_type": "code",
   "execution_count": 200,
   "metadata": {},
   "outputs": [
    {
     "data": {
      "text/html": [
       "0.613599240265907"
      ],
      "text/latex": [
       "0.613599240265907"
      ],
      "text/markdown": [
       "0.613599240265907"
      ],
      "text/plain": [
       "[1] 0.6135992"
      ]
     },
     "metadata": {},
     "output_type": "display_data"
    },
    {
     "data": {
      "text/html": [
       "0.200954922474009"
      ],
      "text/latex": [
       "0.200954922474009"
      ],
      "text/markdown": [
       "0.200954922474009"
      ],
      "text/plain": [
       "[1] 0.2009549"
      ]
     },
     "metadata": {},
     "output_type": "display_data"
    }
   ],
   "source": [
    "BUSCO_dib <- BUSCO_dib_data$Complete_BUSCO_perc\n",
    "#length(BUSCO_dib)\n",
    "mean(BUSCO_dib)\n",
    "sd(BUSCO_dib)\n"
   ]
  },
  {
   "cell_type": "markdown",
   "metadata": {},
   "source": [
    "### NCGR (mean ± std)"
   ]
  },
  {
   "cell_type": "code",
   "execution_count": 201,
   "metadata": {},
   "outputs": [
    {
     "data": {
      "text/html": [
       "0.604703198130464"
      ],
      "text/latex": [
       "0.604703198130464"
      ],
      "text/markdown": [
       "0.604703198130464"
      ],
      "text/plain": [
       "[1] 0.6047032"
      ]
     },
     "metadata": {},
     "output_type": "display_data"
    },
    {
     "data": {
      "text/html": [
       "0.1907926794747"
      ],
      "text/latex": [
       "0.1907926794747"
      ],
      "text/markdown": [
       "0.1907926794747"
      ],
      "text/plain": [
       "[1] 0.1907927"
      ]
     },
     "metadata": {},
     "output_type": "display_data"
    }
   ],
   "source": [
    "BUSCO_ncgr <- BUSCO_ncgr_data$Complete_BUSCO_perc\n",
    "#length(BUSCO_ncgr)\n",
    "mean(BUSCO_ncgr)\n",
    "sd(BUSCO_ncgr)"
   ]
  },
  {
   "cell_type": "markdown",
   "metadata": {},
   "source": [
    "### Kolmogorov–Smirnov test comparing BUSCO content distributions DIB vs. NCGR"
   ]
  },
  {
   "cell_type": "code",
   "execution_count": 202,
   "metadata": {},
   "outputs": [
    {
     "name": "stderr",
     "output_type": "stream",
     "text": [
      "Warning message in ks.test(BUSCO_dib, BUSCO_ncgr):\n",
      "“p-value will be approximate in the presence of ties”"
     ]
    },
    {
     "data": {
      "text/plain": [
       "\n",
       "\tTwo-sample Kolmogorov-Smirnov test\n",
       "\n",
       "data:  BUSCO_dib and BUSCO_ncgr\n",
       "D = 0.058348, p-value = 0.2096\n",
       "alternative hypothesis: two-sided\n"
      ]
     },
     "metadata": {},
     "output_type": "display_data"
    }
   ],
   "source": [
    "ks.test(BUSCO_dib,BUSCO_ncgr)"
   ]
  },
  {
   "cell_type": "markdown",
   "metadata": {},
   "source": [
    "## 4. [Transrate score](http://hibberdlab.com/transrate/metrics.html)"
   ]
  },
  {
   "cell_type": "markdown",
   "metadata": {},
   "source": [
    "### DIB (mean ± std)"
   ]
  },
  {
   "cell_type": "code",
   "execution_count": 203,
   "metadata": {},
   "outputs": [
    {
     "data": {
      "text/html": [
       "0.311569709035222"
      ],
      "text/latex": [
       "0.311569709035222"
      ],
      "text/markdown": [
       "0.311569709035222"
      ],
      "text/plain": [
       "[1] 0.3115697"
      ]
     },
     "metadata": {},
     "output_type": "display_data"
    },
    {
     "data": {
      "text/html": [
       "0.0994047607567743"
      ],
      "text/latex": [
       "0.0994047607567743"
      ],
      "text/markdown": [
       "0.0994047607567743"
      ],
      "text/plain": [
       "[1] 0.09940476"
      ]
     },
     "metadata": {},
     "output_type": "display_data"
    }
   ],
   "source": [
    "transrate_score_dib <- score_dib$score\n",
    "#length(transrate_score_dib)\n",
    "mean(transrate_score_dib)\n",
    "sd(transrate_score_dib)"
   ]
  },
  {
   "cell_type": "markdown",
   "metadata": {},
   "source": [
    "### NCGR (mean ± std)"
   ]
  },
  {
   "cell_type": "code",
   "execution_count": 204,
   "metadata": {},
   "outputs": [
    {
     "data": {
      "text/html": [
       "0.222366126984127"
      ],
      "text/latex": [
       "0.222366126984127"
      ],
      "text/markdown": [
       "0.222366126984127"
      ],
      "text/plain": [
       "[1] 0.2223661"
      ]
     },
     "metadata": {},
     "output_type": "display_data"
    },
    {
     "data": {
      "text/html": [
       "0.0873353349996833"
      ],
      "text/latex": [
       "0.0873353349996833"
      ],
      "text/markdown": [
       "0.0873353349996833"
      ],
      "text/plain": [
       "[1] 0.08733533"
      ]
     },
     "metadata": {},
     "output_type": "display_data"
    }
   ],
   "source": [
    "transrate_score_ncgr <- score_ncgr$score\n",
    "#length(transrate_score_ncgr)\n",
    "mean(transrate_score_ncgr)\n",
    "sd(transrate_score_ncgr)"
   ]
  },
  {
   "cell_type": "markdown",
   "metadata": {},
   "source": [
    "### Kolmogorov–Smirnov test for Transrate score"
   ]
  },
  {
   "cell_type": "code",
   "execution_count": 205,
   "metadata": {},
   "outputs": [
    {
     "name": "stderr",
     "output_type": "stream",
     "text": [
      "Warning message in ks.test(transrate_score_dib, transrate_score_ncgr):\n",
      "“p-value will be approximate in the presence of ties”"
     ]
    },
    {
     "data": {
      "text/plain": [
       "\n",
       "\tTwo-sample Kolmogorov-Smirnov test\n",
       "\n",
       "data:  transrate_score_dib and transrate_score_ncgr\n",
       "D = 0.48827, p-value < 2.2e-16\n",
       "alternative hypothesis: two-sided\n"
      ]
     },
     "metadata": {},
     "output_type": "display_data"
    }
   ],
   "source": [
    "ks.test(transrate_score_dib,transrate_score_ncgr)"
   ]
  },
  {
   "cell_type": "markdown",
   "metadata": {},
   "source": [
    "## 5. Conditional Recriprocal Best Blast (CRBB) (described in [Aubry et al. 2014](http://journals.plos.org/plosgenetics/article?id=10.1371/journal.pgen.1004365))"
   ]
  },
  {
   "cell_type": "markdown",
   "metadata": {},
   "source": [
    "### DIB (mean ± std)"
   ]
  },
  {
   "cell_type": "code",
   "execution_count": 206,
   "metadata": {},
   "outputs": [
    {
     "data": {
      "text/html": [
       "0.701925244094488"
      ],
      "text/latex": [
       "0.701925244094488"
      ],
      "text/markdown": [
       "0.701925244094488"
      ],
      "text/plain": [
       "[1] 0.7019252"
      ]
     },
     "metadata": {},
     "output_type": "display_data"
    },
    {
     "data": {
      "text/html": [
       "0.275169429574969"
      ],
      "text/latex": [
       "0.275169429574969"
      ],
      "text/markdown": [
       "0.275169429574969"
      ],
      "text/plain": [
       "[1] 0.2751694"
      ]
     },
     "metadata": {},
     "output_type": "display_data"
    }
   ],
   "source": [
    "CRBB_dib_v_ncgr <- dib_v_ncgr$p_refs_with_CRBB\n",
    "#length(CRBB_dib_v_ncgr)\n",
    "mean(CRBB_dib_v_ncgr)\n",
    "sd(CRBB_dib_v_ncgr)"
   ]
  },
  {
   "cell_type": "markdown",
   "metadata": {},
   "source": [
    "### NCGR (mean ± std)"
   ]
  },
  {
   "cell_type": "code",
   "execution_count": 207,
   "metadata": {},
   "outputs": [
    {
     "data": {
      "text/html": [
       "0.487730046082949"
      ],
      "text/latex": [
       "0.487730046082949"
      ],
      "text/markdown": [
       "0.487730046082949"
      ],
      "text/plain": [
       "[1] 0.48773"
      ]
     },
     "metadata": {},
     "output_type": "display_data"
    },
    {
     "data": {
      "text/html": [
       "0.0887760147726904"
      ],
      "text/latex": [
       "0.0887760147726904"
      ],
      "text/markdown": [
       "0.0887760147726904"
      ],
      "text/plain": [
       "[1] 0.08877601"
      ]
     },
     "metadata": {},
     "output_type": "display_data"
    }
   ],
   "source": [
    "CRBB_ncgr_v_dib <- ncgr_v_dib$p_refs_with_CRBB\n",
    "#length(CRBB_ncgr_v_dib)\n",
    "mean(CRBB_ncgr_v_dib)\n",
    "sd(CRBB_ncgr_v_dib)"
   ]
  },
  {
   "cell_type": "markdown",
   "metadata": {},
   "source": [
    "### Kolmogorov–Smirnov test for Transrate score"
   ]
  },
  {
   "cell_type": "code",
   "execution_count": 208,
   "metadata": {},
   "outputs": [
    {
     "name": "stderr",
     "output_type": "stream",
     "text": [
      "Warning message in ks.test(CRBB_dib_v_ncgr, CRBB_ncgr_v_dib):\n",
      "“p-value will be approximate in the presence of ties”"
     ]
    },
    {
     "data": {
      "text/plain": [
       "\n",
       "\tTwo-sample Kolmogorov-Smirnov test\n",
       "\n",
       "data:  CRBB_dib_v_ncgr and CRBB_ncgr_v_dib\n",
       "D = 0.7616, p-value < 2.2e-16\n",
       "alternative hypothesis: two-sided\n"
      ]
     },
     "metadata": {},
     "output_type": "display_data"
    }
   ],
   "source": [
    "ks.test(CRBB_dib_v_ncgr,CRBB_ncgr_v_dib)"
   ]
  },
  {
   "cell_type": "markdown",
   "metadata": {},
   "source": [
    "## 6. Open Reading Frame (ORF) content"
   ]
  },
  {
   "cell_type": "markdown",
   "metadata": {},
   "source": [
    "[According to the Transrate documentation](https://github.com/blahah/transrate/blob/cc873b8247165d1651b60dde5eab51fc55170f02/ext/transrate/transrate.c): An ORF is defined as the number of bases between either the start of the sequence or a start codon and either the end of the sequence or a stop codon"
   ]
  },
  {
   "cell_type": "markdown",
   "metadata": {},
   "source": [
    "### DIB (mean ± std)"
   ]
  },
  {
   "cell_type": "code",
   "execution_count": 209,
   "metadata": {},
   "outputs": [
    {
     "data": {
      "text/html": [
       "81.9049597795276"
      ],
      "text/latex": [
       "81.9049597795276"
      ],
      "text/markdown": [
       "81.9049597795276"
      ],
      "text/plain": [
       "[1] 81.90496"
      ]
     },
     "metadata": {},
     "output_type": "display_data"
    },
    {
     "data": {
      "text/html": [
       "9.67785439567841"
      ],
      "text/latex": [
       "9.67785439567841"
      ],
      "text/markdown": [
       "9.67785439567841"
      ],
      "text/plain": [
       "[1] 9.677854"
      ]
     },
     "metadata": {},
     "output_type": "display_data"
    }
   ],
   "source": [
    "ORF_dib <- dib_v_ncgr$mean_orf_percent\n",
    "#length(ORF_dib)\n",
    "mean(ORF_dib)\n",
    "sd(ORF_dib)"
   ]
  },
  {
   "cell_type": "markdown",
   "metadata": {},
   "source": [
    "### NCGR (mean ± std)"
   ]
  },
  {
   "cell_type": "code",
   "execution_count": 210,
   "metadata": {},
   "outputs": [
    {
     "data": {
      "text/html": [
       "76.7865667741935"
      ],
      "text/latex": [
       "76.7865667741935"
      ],
      "text/markdown": [
       "76.7865667741935"
      ],
      "text/plain": [
       "[1] 76.78657"
      ]
     },
     "metadata": {},
     "output_type": "display_data"
    },
    {
     "data": {
      "text/html": [
       "10.1741926379729"
      ],
      "text/latex": [
       "10.1741926379729"
      ],
      "text/markdown": [
       "10.1741926379729"
      ],
      "text/plain": [
       "[1] 10.17419"
      ]
     },
     "metadata": {},
     "output_type": "display_data"
    }
   ],
   "source": [
    "ORF_ncgr <- ncgr_v_dib$mean_orf_percent\n",
    "#length(ORF_ncgr)\n",
    "mean(ORF_ncgr)\n",
    "sd(ORF_ncgr)"
   ]
  },
  {
   "cell_type": "markdown",
   "metadata": {},
   "source": [
    "### Kolmogorov–Smirnov test for ORF"
   ]
  },
  {
   "cell_type": "code",
   "execution_count": 211,
   "metadata": {},
   "outputs": [
    {
     "name": "stderr",
     "output_type": "stream",
     "text": [
      "Warning message in ks.test(ORF_dib, ORF_ncgr):\n",
      "“p-value will be approximate in the presence of ties”"
     ]
    },
    {
     "data": {
      "text/plain": [
       "\n",
       "\tTwo-sample Kolmogorov-Smirnov test\n",
       "\n",
       "data:  ORF_dib and ORF_ncgr\n",
       "D = 0.27863, p-value < 2.2e-16\n",
       "alternative hypothesis: two-sided\n"
      ]
     },
     "metadata": {},
     "output_type": "display_data"
    }
   ],
   "source": [
    "ks.test(ORF_dib,ORF_ncgr)"
   ]
  }
 ],
 "metadata": {
  "kernelspec": {
   "display_name": "R",
   "language": "R",
   "name": "ir"
  },
  "language_info": {
   "codemirror_mode": "r",
   "file_extension": ".r",
   "mimetype": "text/x-r-source",
   "name": "R",
   "pygments_lexer": "r",
   "version": "3.3.1"
  }
 },
 "nbformat": 4,
 "nbformat_minor": 2
}
