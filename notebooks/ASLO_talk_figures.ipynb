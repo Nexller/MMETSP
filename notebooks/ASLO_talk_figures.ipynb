{
 "cells": [
  {
   "cell_type": "code",
   "execution_count": 1,
   "metadata": {
    "collapsed": false
   },
   "outputs": [
    {
     "name": "stdout",
     "output_type": "stream",
     "text": [
      "Populating the interactive namespace from numpy and matplotlib\n"
     ]
    }
   ],
   "source": [
    "%matplotlib inline\n",
    "%pylab inline\n",
    "import pandas as pd\n",
    "import numpy as np\n",
    "import pylab as pl\n",
    "from matplotlib import pyplot as plt\n",
    "import palettable as pal"
   ]
  },
  {
   "cell_type": "code",
   "execution_count": 2,
   "metadata": {
    "collapsed": true
   },
   "outputs": [],
   "source": [
    "data_table = pd.read_csv(\"../assembly_evaluation_data/merged_annotation_stats.csv\",index_col='SampleName')"
   ]
  },
  {
   "cell_type": "code",
   "execution_count": 3,
   "metadata": {
    "collapsed": true
   },
   "outputs": [],
   "source": [
    "false_crbb = pd.read_csv(\"../assembly_evaluation_data/false_crbb.csv\",index_col=0)"
   ]
  },
  {
   "cell_type": "code",
   "execution_count": 4,
   "metadata": {
    "collapsed": false
   },
   "outputs": [
    {
     "data": {
      "text/html": [
       "<div>\n",
       "<table border=\"1\" class=\"dataframe\">\n",
       "  <thead>\n",
       "    <tr style=\"text-align: right;\">\n",
       "      <th></th>\n",
       "      <th>false_crbb_num_transcripts</th>\n",
       "    </tr>\n",
       "  </thead>\n",
       "  <tbody>\n",
       "    <tr>\n",
       "      <th>MMETSP1347</th>\n",
       "      <td>812</td>\n",
       "    </tr>\n",
       "    <tr>\n",
       "      <th>MMETSP0603</th>\n",
       "      <td>5341</td>\n",
       "    </tr>\n",
       "    <tr>\n",
       "      <th>MMETSP0469</th>\n",
       "      <td>101484</td>\n",
       "    </tr>\n",
       "    <tr>\n",
       "      <th>MMETSP1075</th>\n",
       "      <td>57113</td>\n",
       "    </tr>\n",
       "    <tr>\n",
       "      <th>MMETSP1369</th>\n",
       "      <td>46402</td>\n",
       "    </tr>\n",
       "  </tbody>\n",
       "</table>\n",
       "</div>"
      ],
      "text/plain": [
       "            false_crbb_num_transcripts\n",
       "MMETSP1347                         812\n",
       "MMETSP0603                        5341\n",
       "MMETSP0469                      101484\n",
       "MMETSP1075                       57113\n",
       "MMETSP1369                       46402"
      ]
     },
     "execution_count": 4,
     "metadata": {},
     "output_type": "execute_result"
    }
   ],
   "source": [
    "false_crbb.head()"
   ]
  },
  {
   "cell_type": "code",
   "execution_count": 5,
   "metadata": {
    "collapsed": false
   },
   "outputs": [],
   "source": [
    "crbb_df = pd.merge(data_table[['total_annotated_w_false_crbb']],false_crbb[['false_crbb_num_transcripts']],\n",
    "                   how='outer',left_index=True,right_index=True).dropna()"
   ]
  },
  {
   "cell_type": "code",
   "execution_count": 6,
   "metadata": {
    "collapsed": false
   },
   "outputs": [
    {
     "data": {
      "text/html": [
       "<div>\n",
       "<table border=\"1\" class=\"dataframe\">\n",
       "  <thead>\n",
       "    <tr style=\"text-align: right;\">\n",
       "      <th></th>\n",
       "      <th>total_annotated_w_false_crbb</th>\n",
       "      <th>false_crbb_num_transcripts</th>\n",
       "    </tr>\n",
       "  </thead>\n",
       "  <tbody>\n",
       "    <tr>\n",
       "      <th>MMETSP0004</th>\n",
       "      <td>2352</td>\n",
       "      <td>12265.0</td>\n",
       "    </tr>\n",
       "    <tr>\n",
       "      <th>MMETSP0005</th>\n",
       "      <td>1833</td>\n",
       "      <td>9950.0</td>\n",
       "    </tr>\n",
       "    <tr>\n",
       "      <th>MMETSP0006</th>\n",
       "      <td>4837</td>\n",
       "      <td>22569.0</td>\n",
       "    </tr>\n",
       "    <tr>\n",
       "      <th>MMETSP0007</th>\n",
       "      <td>1448</td>\n",
       "      <td>5599.0</td>\n",
       "    </tr>\n",
       "    <tr>\n",
       "      <th>MMETSP0010</th>\n",
       "      <td>4022</td>\n",
       "      <td>21159.0</td>\n",
       "    </tr>\n",
       "  </tbody>\n",
       "</table>\n",
       "</div>"
      ],
      "text/plain": [
       "            total_annotated_w_false_crbb  false_crbb_num_transcripts\n",
       "MMETSP0004                          2352                     12265.0\n",
       "MMETSP0005                          1833                      9950.0\n",
       "MMETSP0006                          4837                     22569.0\n",
       "MMETSP0007                          1448                      5599.0\n",
       "MMETSP0010                          4022                     21159.0"
      ]
     },
     "execution_count": 6,
     "metadata": {},
     "output_type": "execute_result"
    }
   ],
   "source": [
    "crbb_df.head()"
   ]
  },
  {
   "cell_type": "code",
   "execution_count": 7,
   "metadata": {
    "collapsed": false
   },
   "outputs": [
    {
     "data": {
      "text/plain": [
       "Index(['Unnamed: 0', 'n_seqs', 'total_annotation_names',\n",
       "       'total_annotated_contigs', 'unique_annotations', 'total_false_crbb',\n",
       "       'total_OrthoDB', 'unique_OrthoDB', 'false_crbb_OrthoDB', 'total_Pfam',\n",
       "       'unique_Pfam', 'false_crbb_Pfam', 'total_Rfam', 'unique_Rfam',\n",
       "       'false_crbb_Rfam', 'total_annotated_w_false_crbb'],\n",
       "      dtype='object')"
      ]
     },
     "execution_count": 7,
     "metadata": {},
     "output_type": "execute_result"
    }
   ],
   "source": [
    "data_table.columns"
   ]
  },
  {
   "cell_type": "code",
   "execution_count": 8,
   "metadata": {
    "collapsed": false
   },
   "outputs": [
    {
     "ename": "KeyError",
     "evalue": "\"['SampleName'] not in index\"",
     "output_type": "error",
     "traceback": [
      "\u001b[0;31m---------------------------------------------------------------------------\u001b[0m",
      "\u001b[0;31mKeyError\u001b[0m                                  Traceback (most recent call last)",
      "\u001b[0;32m<ipython-input-8-fa8e5143b47e>\u001b[0m in \u001b[0;36m<module>\u001b[0;34m()\u001b[0m\n\u001b[0;32m----> 1\u001b[0;31m \u001b[0mdata_table_false_crbb\u001b[0m \u001b[0;34m=\u001b[0m \u001b[0mdata_table\u001b[0m\u001b[0;34m[\u001b[0m\u001b[0;34m[\u001b[0m\u001b[0;34m'SampleName'\u001b[0m\u001b[0;34m,\u001b[0m\u001b[0;34m'total_false_crbb'\u001b[0m\u001b[0;34m,\u001b[0m\u001b[0;34m'total_annotated_w_false_crbb'\u001b[0m\u001b[0;34m]\u001b[0m\u001b[0;34m]\u001b[0m\u001b[0;34m.\u001b[0m\u001b[0mdropna\u001b[0m\u001b[0;34m(\u001b[0m\u001b[0;34m)\u001b[0m\u001b[0;34m\u001b[0m\u001b[0m\n\u001b[0m",
      "\u001b[0;32m//anaconda/lib/python3.5/site-packages/pandas/core/frame.py\u001b[0m in \u001b[0;36m__getitem__\u001b[0;34m(self, key)\u001b[0m\n\u001b[1;32m   2051\u001b[0m         \u001b[0;32mif\u001b[0m \u001b[0misinstance\u001b[0m\u001b[0;34m(\u001b[0m\u001b[0mkey\u001b[0m\u001b[0;34m,\u001b[0m \u001b[0;34m(\u001b[0m\u001b[0mSeries\u001b[0m\u001b[0;34m,\u001b[0m \u001b[0mnp\u001b[0m\u001b[0;34m.\u001b[0m\u001b[0mndarray\u001b[0m\u001b[0;34m,\u001b[0m \u001b[0mIndex\u001b[0m\u001b[0;34m,\u001b[0m \u001b[0mlist\u001b[0m\u001b[0;34m)\u001b[0m\u001b[0;34m)\u001b[0m\u001b[0;34m:\u001b[0m\u001b[0;34m\u001b[0m\u001b[0m\n\u001b[1;32m   2052\u001b[0m             \u001b[0;31m# either boolean or fancy integer index\u001b[0m\u001b[0;34m\u001b[0m\u001b[0;34m\u001b[0m\u001b[0m\n\u001b[0;32m-> 2053\u001b[0;31m             \u001b[0;32mreturn\u001b[0m \u001b[0mself\u001b[0m\u001b[0;34m.\u001b[0m\u001b[0m_getitem_array\u001b[0m\u001b[0;34m(\u001b[0m\u001b[0mkey\u001b[0m\u001b[0;34m)\u001b[0m\u001b[0;34m\u001b[0m\u001b[0m\n\u001b[0m\u001b[1;32m   2054\u001b[0m         \u001b[0;32melif\u001b[0m \u001b[0misinstance\u001b[0m\u001b[0;34m(\u001b[0m\u001b[0mkey\u001b[0m\u001b[0;34m,\u001b[0m \u001b[0mDataFrame\u001b[0m\u001b[0;34m)\u001b[0m\u001b[0;34m:\u001b[0m\u001b[0;34m\u001b[0m\u001b[0m\n\u001b[1;32m   2055\u001b[0m             \u001b[0;32mreturn\u001b[0m \u001b[0mself\u001b[0m\u001b[0;34m.\u001b[0m\u001b[0m_getitem_frame\u001b[0m\u001b[0;34m(\u001b[0m\u001b[0mkey\u001b[0m\u001b[0;34m)\u001b[0m\u001b[0;34m\u001b[0m\u001b[0m\n",
      "\u001b[0;32m//anaconda/lib/python3.5/site-packages/pandas/core/frame.py\u001b[0m in \u001b[0;36m_getitem_array\u001b[0;34m(self, key)\u001b[0m\n\u001b[1;32m   2095\u001b[0m             \u001b[0;32mreturn\u001b[0m \u001b[0mself\u001b[0m\u001b[0;34m.\u001b[0m\u001b[0mtake\u001b[0m\u001b[0;34m(\u001b[0m\u001b[0mindexer\u001b[0m\u001b[0;34m,\u001b[0m \u001b[0maxis\u001b[0m\u001b[0;34m=\u001b[0m\u001b[0;36m0\u001b[0m\u001b[0;34m,\u001b[0m \u001b[0mconvert\u001b[0m\u001b[0;34m=\u001b[0m\u001b[0;32mFalse\u001b[0m\u001b[0;34m)\u001b[0m\u001b[0;34m\u001b[0m\u001b[0m\n\u001b[1;32m   2096\u001b[0m         \u001b[0;32melse\u001b[0m\u001b[0;34m:\u001b[0m\u001b[0;34m\u001b[0m\u001b[0m\n\u001b[0;32m-> 2097\u001b[0;31m             \u001b[0mindexer\u001b[0m \u001b[0;34m=\u001b[0m \u001b[0mself\u001b[0m\u001b[0;34m.\u001b[0m\u001b[0mix\u001b[0m\u001b[0;34m.\u001b[0m\u001b[0m_convert_to_indexer\u001b[0m\u001b[0;34m(\u001b[0m\u001b[0mkey\u001b[0m\u001b[0;34m,\u001b[0m \u001b[0maxis\u001b[0m\u001b[0;34m=\u001b[0m\u001b[0;36m1\u001b[0m\u001b[0;34m)\u001b[0m\u001b[0;34m\u001b[0m\u001b[0m\n\u001b[0m\u001b[1;32m   2098\u001b[0m             \u001b[0;32mreturn\u001b[0m \u001b[0mself\u001b[0m\u001b[0;34m.\u001b[0m\u001b[0mtake\u001b[0m\u001b[0;34m(\u001b[0m\u001b[0mindexer\u001b[0m\u001b[0;34m,\u001b[0m \u001b[0maxis\u001b[0m\u001b[0;34m=\u001b[0m\u001b[0;36m1\u001b[0m\u001b[0;34m,\u001b[0m \u001b[0mconvert\u001b[0m\u001b[0;34m=\u001b[0m\u001b[0;32mTrue\u001b[0m\u001b[0;34m)\u001b[0m\u001b[0;34m\u001b[0m\u001b[0m\n\u001b[1;32m   2099\u001b[0m \u001b[0;34m\u001b[0m\u001b[0m\n",
      "\u001b[0;32m//anaconda/lib/python3.5/site-packages/pandas/core/indexing.py\u001b[0m in \u001b[0;36m_convert_to_indexer\u001b[0;34m(self, obj, axis, is_setter)\u001b[0m\n\u001b[1;32m   1228\u001b[0m                 \u001b[0mmask\u001b[0m \u001b[0;34m=\u001b[0m \u001b[0mcheck\u001b[0m \u001b[0;34m==\u001b[0m \u001b[0;34m-\u001b[0m\u001b[0;36m1\u001b[0m\u001b[0;34m\u001b[0m\u001b[0m\n\u001b[1;32m   1229\u001b[0m                 \u001b[0;32mif\u001b[0m \u001b[0mmask\u001b[0m\u001b[0;34m.\u001b[0m\u001b[0many\u001b[0m\u001b[0;34m(\u001b[0m\u001b[0;34m)\u001b[0m\u001b[0;34m:\u001b[0m\u001b[0;34m\u001b[0m\u001b[0m\n\u001b[0;32m-> 1230\u001b[0;31m                     \u001b[0;32mraise\u001b[0m \u001b[0mKeyError\u001b[0m\u001b[0;34m(\u001b[0m\u001b[0;34m'%s not in index'\u001b[0m \u001b[0;34m%\u001b[0m \u001b[0mobjarr\u001b[0m\u001b[0;34m[\u001b[0m\u001b[0mmask\u001b[0m\u001b[0;34m]\u001b[0m\u001b[0;34m)\u001b[0m\u001b[0;34m\u001b[0m\u001b[0m\n\u001b[0m\u001b[1;32m   1231\u001b[0m \u001b[0;34m\u001b[0m\u001b[0m\n\u001b[1;32m   1232\u001b[0m                 \u001b[0;32mreturn\u001b[0m \u001b[0m_values_from_object\u001b[0m\u001b[0;34m(\u001b[0m\u001b[0mindexer\u001b[0m\u001b[0;34m)\u001b[0m\u001b[0;34m\u001b[0m\u001b[0m\n",
      "\u001b[0;31mKeyError\u001b[0m: \"['SampleName'] not in index\""
     ]
    }
   ],
   "source": [
    "data_table_false_crbb = data_table[['SampleName','total_false_crbb','total_annotated_w_false_crbb']].dropna()"
   ]
  },
  {
   "cell_type": "code",
   "execution_count": 9,
   "metadata": {
    "collapsed": false
   },
   "outputs": [
    {
     "ename": "NameError",
     "evalue": "name 'data_table_false_crbb' is not defined",
     "output_type": "error",
     "traceback": [
      "\u001b[0;31m---------------------------------------------------------------------------\u001b[0m",
      "\u001b[0;31mNameError\u001b[0m                                 Traceback (most recent call last)",
      "\u001b[0;32m<ipython-input-9-df21f9e53e50>\u001b[0m in \u001b[0;36m<module>\u001b[0;34m()\u001b[0m\n\u001b[0;32m----> 1\u001b[0;31m \u001b[0mdata_table_false_crbb\u001b[0m\u001b[0;34m.\u001b[0m\u001b[0mhead\u001b[0m\u001b[0;34m(\u001b[0m\u001b[0;34m)\u001b[0m\u001b[0;34m\u001b[0m\u001b[0m\n\u001b[0m",
      "\u001b[0;31mNameError\u001b[0m: name 'data_table_false_crbb' is not defined"
     ]
    }
   ],
   "source": [
    "data_table_false_crbb.head()"
   ]
  },
  {
   "cell_type": "code",
   "execution_count": 105,
   "metadata": {
    "collapsed": false
   },
   "outputs": [
    {
     "data": {
      "text/plain": [
       "(0, 30000)"
      ]
     },
     "execution_count": 105,
     "metadata": {},
     "output_type": "execute_result"
    },
    {
     "data": {
      "image/png": "[encoded data removed]",
      "text/plain": [
       "<matplotlib.figure.Figure at 0x12854d518>"
      ]
     },
     "metadata": {},
     "output_type": "display_data"
    }
   ],
   "source": [
    "fig, ax = plt.subplots(1)\n",
    "X = range(len(crbb_df))\n",
    "Y1 = crbb_df[['false_crbb_num_transcripts']]\n",
    "Y2 = crbb_df[['total_annotated_w_false_crbb']]\n",
    "\n",
    "ax.scatter(X,Y1,color=\"red\")\n",
    "ax.scatter(X,Y2,color=\"blue\")\n",
    "ax.set_xticks([])\n",
    "ax.set_ylim([0,30000])"
   ]
  },
  {
   "cell_type": "code",
   "execution_count": 13,
   "metadata": {
    "collapsed": false
   },
   "outputs": [],
   "source": [
    "crbb_df['difference']=crbb_df.false_crbb_num_transcripts-crbb_df.total_annotated_w_false_crbb"
   ]
  },
  {
   "cell_type": "code",
   "execution_count": 21,
   "metadata": {
    "collapsed": false
   },
   "outputs": [
    {
     "data": {
      "image/png": "[encoded data removed]",
      "text/plain": [
       "<matplotlib.figure.Figure at 0x116d801d0>"
      ]
     },
     "metadata": {},
     "output_type": "display_data"
    }
   ],
   "source": [
    "import matplotlib.gridspec as gridspec\n",
    "def simpleaxis(ax):\n",
    "    ax.spines['top'].set_visible(False)\n",
    "    ax.spines['right'].set_visible(False)\n",
    "    ax.get_xaxis().tick_bottom()\n",
    "    ax.get_yaxis().tick_left()\n",
    "\n",
    "gs = gridspec.GridSpec(3, 3)\n",
    "ax = plt.subplot(gs[0,:])\n",
    "ax2 = plt.subplot(gs[1:,:])\n",
    "\n",
    "crbb_df.sort_values(by='false_crbb_num_transcripts', \n",
    "                    ascending=False)[[\"total_annotated_w_false_crbb\",\"difference\"]].plot(kind='area', \n",
    "                    color=[ '#68ad00','lightgrey'], lw=0, ax=ax)\n",
    "# alternative legend labels:\n",
    "# transcripts absent from NCGR\n",
    "# anntoated absent transcripts\n",
    "crbb_df.sort_values(by='false_crbb_num_transcripts', \n",
    "                    ascending=False)[['total_annotated_w_false_crbb','difference']].plot(kind='area', \n",
    "                    color=[ '#68ad00','lightgrey'], lw=0, ax=ax2, legend=False)\n",
    "ax.set_ylim([20000,130000])\n",
    "ax2.set_ylim([0,20000])\n",
    "simpleaxis(ax)\n",
    "simpleaxis(ax2)\n",
    "ax.spines['bottom'].set_visible(False)\n",
    "ax2.set_xticks([])\n",
    "ax.set_xticks([])\n",
    "ax.set_yticks(np.arange(40000,120001,40000))\n",
    "savefig('false_crbb.png')"
   ]
  },
  {
   "cell_type": "code",
   "execution_count": 18,
   "metadata": {
    "collapsed": false
   },
   "outputs": [
    {
     "data": {
      "text/html": [
       "<div>\n",
       "<table border=\"1\" class=\"dataframe\">\n",
       "  <thead>\n",
       "    <tr style=\"text-align: right;\">\n",
       "      <th></th>\n",
       "      <th>total_annotated_w_false_crbb</th>\n",
       "      <th>false_crbb_num_transcripts</th>\n",
       "      <th>difference</th>\n",
       "    </tr>\n",
       "  </thead>\n",
       "  <tbody>\n",
       "    <tr>\n",
       "      <th>MMETSP0384</th>\n",
       "      <td>27882</td>\n",
       "      <td>124330.0</td>\n",
       "      <td>96448.0</td>\n",
       "    </tr>\n",
       "    <tr>\n",
       "      <th>MMETSP0039</th>\n",
       "      <td>19581</td>\n",
       "      <td>117665.0</td>\n",
       "      <td>98084.0</td>\n",
       "    </tr>\n",
       "    <tr>\n",
       "      <th>MMETSP1377</th>\n",
       "      <td>25096</td>\n",
       "      <td>110954.0</td>\n",
       "      <td>85858.0</td>\n",
       "    </tr>\n",
       "    <tr>\n",
       "      <th>MMETSP0469</th>\n",
       "      <td>18359</td>\n",
       "      <td>101484.0</td>\n",
       "      <td>83125.0</td>\n",
       "    </tr>\n",
       "    <tr>\n",
       "      <th>MMETSP0201</th>\n",
       "      <td>15014</td>\n",
       "      <td>99473.0</td>\n",
       "      <td>84459.0</td>\n",
       "    </tr>\n",
       "    <tr>\n",
       "      <th>MMETSP0527</th>\n",
       "      <td>14826</td>\n",
       "      <td>96257.0</td>\n",
       "      <td>81431.0</td>\n",
       "    </tr>\n",
       "    <tr>\n",
       "      <th>MMETSP0472</th>\n",
       "      <td>21085</td>\n",
       "      <td>95901.0</td>\n",
       "      <td>74816.0</td>\n",
       "    </tr>\n",
       "    <tr>\n",
       "      <th>MMETSP0528</th>\n",
       "      <td>14473</td>\n",
       "      <td>94671.0</td>\n",
       "      <td>80198.0</td>\n",
       "    </tr>\n",
       "    <tr>\n",
       "      <th>MMETSP1436</th>\n",
       "      <td>17035</td>\n",
       "      <td>91310.0</td>\n",
       "      <td>74275.0</td>\n",
       "    </tr>\n",
       "    <tr>\n",
       "      <th>MMETSP0027</th>\n",
       "      <td>13055</td>\n",
       "      <td>86357.0</td>\n",
       "      <td>73302.0</td>\n",
       "    </tr>\n",
       "    <tr>\n",
       "      <th>MMETSP0117</th>\n",
       "      <td>18558</td>\n",
       "      <td>85814.0</td>\n",
       "      <td>67256.0</td>\n",
       "    </tr>\n",
       "    <tr>\n",
       "      <th>MMETSP0029</th>\n",
       "      <td>12650</td>\n",
       "      <td>83722.0</td>\n",
       "      <td>71072.0</td>\n",
       "    </tr>\n",
       "    <tr>\n",
       "      <th>MMETSP0031</th>\n",
       "      <td>12845</td>\n",
       "      <td>83289.0</td>\n",
       "      <td>70444.0</td>\n",
       "    </tr>\n",
       "    <tr>\n",
       "      <th>MMETSP0202</th>\n",
       "      <td>12959</td>\n",
       "      <td>80420.0</td>\n",
       "      <td>67461.0</td>\n",
       "    </tr>\n",
       "    <tr>\n",
       "      <th>MMETSP1037</th>\n",
       "      <td>12882</td>\n",
       "      <td>80304.0</td>\n",
       "      <td>67422.0</td>\n",
       "    </tr>\n",
       "    <tr>\n",
       "      <th>MMETSP1110</th>\n",
       "      <td>12732</td>\n",
       "      <td>79062.0</td>\n",
       "      <td>66330.0</td>\n",
       "    </tr>\n",
       "    <tr>\n",
       "      <th>MMETSP0467</th>\n",
       "      <td>16473</td>\n",
       "      <td>74893.0</td>\n",
       "      <td>58420.0</td>\n",
       "    </tr>\n",
       "    <tr>\n",
       "      <th>MMETSP0648</th>\n",
       "      <td>11493</td>\n",
       "      <td>74890.0</td>\n",
       "      <td>63397.0</td>\n",
       "    </tr>\n",
       "    <tr>\n",
       "      <th>MMETSP1036</th>\n",
       "      <td>11971</td>\n",
       "      <td>74682.0</td>\n",
       "      <td>62711.0</td>\n",
       "    </tr>\n",
       "    <tr>\n",
       "      <th>MMETSP0118</th>\n",
       "      <td>14366</td>\n",
       "      <td>74195.0</td>\n",
       "      <td>59829.0</td>\n",
       "    </tr>\n",
       "    <tr>\n",
       "      <th>MMETSP0790</th>\n",
       "      <td>13302</td>\n",
       "      <td>73682.0</td>\n",
       "      <td>60380.0</td>\n",
       "    </tr>\n",
       "    <tr>\n",
       "      <th>MMETSP0649</th>\n",
       "      <td>10706</td>\n",
       "      <td>70728.0</td>\n",
       "      <td>60022.0</td>\n",
       "    </tr>\n",
       "    <tr>\n",
       "      <th>MMETSP0271</th>\n",
       "      <td>11119</td>\n",
       "      <td>68567.0</td>\n",
       "      <td>57448.0</td>\n",
       "    </tr>\n",
       "    <tr>\n",
       "      <th>MMETSP0126</th>\n",
       "      <td>15108</td>\n",
       "      <td>67899.0</td>\n",
       "      <td>52791.0</td>\n",
       "    </tr>\n",
       "    <tr>\n",
       "      <th>MMETSP1015</th>\n",
       "      <td>10447</td>\n",
       "      <td>67129.0</td>\n",
       "      <td>56682.0</td>\n",
       "    </tr>\n",
       "    <tr>\n",
       "      <th>MMETSP1017</th>\n",
       "      <td>10530</td>\n",
       "      <td>67019.0</td>\n",
       "      <td>56489.0</td>\n",
       "    </tr>\n",
       "    <tr>\n",
       "      <th>MMETSP0272</th>\n",
       "      <td>10885</td>\n",
       "      <td>65673.0</td>\n",
       "      <td>54788.0</td>\n",
       "    </tr>\n",
       "    <tr>\n",
       "      <th>MMETSP1016</th>\n",
       "      <td>10127</td>\n",
       "      <td>64958.0</td>\n",
       "      <td>54831.0</td>\n",
       "    </tr>\n",
       "    <tr>\n",
       "      <th>MMETSP0057</th>\n",
       "      <td>13080</td>\n",
       "      <td>64893.0</td>\n",
       "      <td>51813.0</td>\n",
       "    </tr>\n",
       "    <tr>\n",
       "      <th>MMETSP0328</th>\n",
       "      <td>13080</td>\n",
       "      <td>62790.0</td>\n",
       "      <td>49710.0</td>\n",
       "    </tr>\n",
       "    <tr>\n",
       "      <th>...</th>\n",
       "      <td>...</td>\n",
       "      <td>...</td>\n",
       "      <td>...</td>\n",
       "    </tr>\n",
       "    <tr>\n",
       "      <th>MMETSP0975</th>\n",
       "      <td>41</td>\n",
       "      <td>290.0</td>\n",
       "      <td>249.0</td>\n",
       "    </tr>\n",
       "    <tr>\n",
       "      <th>MMETSP0044</th>\n",
       "      <td>72</td>\n",
       "      <td>277.0</td>\n",
       "      <td>205.0</td>\n",
       "    </tr>\n",
       "    <tr>\n",
       "      <th>MMETSP0972</th>\n",
       "      <td>41</td>\n",
       "      <td>261.0</td>\n",
       "      <td>220.0</td>\n",
       "    </tr>\n",
       "    <tr>\n",
       "      <th>MMETSP0802</th>\n",
       "      <td>50</td>\n",
       "      <td>252.0</td>\n",
       "      <td>202.0</td>\n",
       "    </tr>\n",
       "    <tr>\n",
       "      <th>MMETSP1386</th>\n",
       "      <td>54</td>\n",
       "      <td>246.0</td>\n",
       "      <td>192.0</td>\n",
       "    </tr>\n",
       "    <tr>\n",
       "      <th>MMETSP0878</th>\n",
       "      <td>47</td>\n",
       "      <td>239.0</td>\n",
       "      <td>192.0</td>\n",
       "    </tr>\n",
       "    <tr>\n",
       "      <th>MMETSP1010</th>\n",
       "      <td>32</td>\n",
       "      <td>227.0</td>\n",
       "      <td>195.0</td>\n",
       "    </tr>\n",
       "    <tr>\n",
       "      <th>MMETSP0142</th>\n",
       "      <td>30</td>\n",
       "      <td>216.0</td>\n",
       "      <td>186.0</td>\n",
       "    </tr>\n",
       "    <tr>\n",
       "      <th>MMETSP0912</th>\n",
       "      <td>49</td>\n",
       "      <td>213.0</td>\n",
       "      <td>164.0</td>\n",
       "    </tr>\n",
       "    <tr>\n",
       "      <th>MMETSP0880</th>\n",
       "      <td>29</td>\n",
       "      <td>211.0</td>\n",
       "      <td>182.0</td>\n",
       "    </tr>\n",
       "    <tr>\n",
       "      <th>MMETSP0113</th>\n",
       "      <td>45</td>\n",
       "      <td>191.0</td>\n",
       "      <td>146.0</td>\n",
       "    </tr>\n",
       "    <tr>\n",
       "      <th>MMETSP0789</th>\n",
       "      <td>38</td>\n",
       "      <td>188.0</td>\n",
       "      <td>150.0</td>\n",
       "    </tr>\n",
       "    <tr>\n",
       "      <th>MMETSP0329</th>\n",
       "      <td>33</td>\n",
       "      <td>167.0</td>\n",
       "      <td>134.0</td>\n",
       "    </tr>\n",
       "    <tr>\n",
       "      <th>MMETSP0785</th>\n",
       "      <td>18</td>\n",
       "      <td>163.0</td>\n",
       "      <td>145.0</td>\n",
       "    </tr>\n",
       "    <tr>\n",
       "      <th>MMETSP0139</th>\n",
       "      <td>20</td>\n",
       "      <td>160.0</td>\n",
       "      <td>140.0</td>\n",
       "    </tr>\n",
       "    <tr>\n",
       "      <th>MMETSP1130</th>\n",
       "      <td>34</td>\n",
       "      <td>154.0</td>\n",
       "      <td>120.0</td>\n",
       "    </tr>\n",
       "    <tr>\n",
       "      <th>MMETSP0439</th>\n",
       "      <td>59</td>\n",
       "      <td>145.0</td>\n",
       "      <td>86.0</td>\n",
       "    </tr>\n",
       "    <tr>\n",
       "      <th>MMETSP0229</th>\n",
       "      <td>22</td>\n",
       "      <td>144.0</td>\n",
       "      <td>122.0</td>\n",
       "    </tr>\n",
       "    <tr>\n",
       "      <th>MMETSP1418</th>\n",
       "      <td>31</td>\n",
       "      <td>140.0</td>\n",
       "      <td>109.0</td>\n",
       "    </tr>\n",
       "    <tr>\n",
       "      <th>MMETSP0937</th>\n",
       "      <td>26</td>\n",
       "      <td>124.0</td>\n",
       "      <td>98.0</td>\n",
       "    </tr>\n",
       "    <tr>\n",
       "      <th>MMETSP0200</th>\n",
       "      <td>23</td>\n",
       "      <td>103.0</td>\n",
       "      <td>80.0</td>\n",
       "    </tr>\n",
       "    <tr>\n",
       "      <th>MMETSP0232</th>\n",
       "      <td>52</td>\n",
       "      <td>90.0</td>\n",
       "      <td>38.0</td>\n",
       "    </tr>\n",
       "    <tr>\n",
       "      <th>MMETSP0961</th>\n",
       "      <td>18</td>\n",
       "      <td>83.0</td>\n",
       "      <td>65.0</td>\n",
       "    </tr>\n",
       "    <tr>\n",
       "      <th>MMETSP0319</th>\n",
       "      <td>8</td>\n",
       "      <td>82.0</td>\n",
       "      <td>74.0</td>\n",
       "    </tr>\n",
       "    <tr>\n",
       "      <th>MMETSP0751</th>\n",
       "      <td>20</td>\n",
       "      <td>79.0</td>\n",
       "      <td>59.0</td>\n",
       "    </tr>\n",
       "    <tr>\n",
       "      <th>MMETSP1057</th>\n",
       "      <td>12</td>\n",
       "      <td>63.0</td>\n",
       "      <td>51.0</td>\n",
       "    </tr>\n",
       "    <tr>\n",
       "      <th>MMETSP0933</th>\n",
       "      <td>11</td>\n",
       "      <td>37.0</td>\n",
       "      <td>26.0</td>\n",
       "    </tr>\n",
       "    <tr>\n",
       "      <th>MMETSP1126</th>\n",
       "      <td>3</td>\n",
       "      <td>30.0</td>\n",
       "      <td>27.0</td>\n",
       "    </tr>\n",
       "    <tr>\n",
       "      <th>MMETSP1390</th>\n",
       "      <td>1</td>\n",
       "      <td>10.0</td>\n",
       "      <td>9.0</td>\n",
       "    </tr>\n",
       "    <tr>\n",
       "      <th>MMETSP1412</th>\n",
       "      <td>2</td>\n",
       "      <td>8.0</td>\n",
       "      <td>6.0</td>\n",
       "    </tr>\n",
       "  </tbody>\n",
       "</table>\n",
       "<p>554 rows × 3 columns</p>\n",
       "</div>"
      ],
      "text/plain": [
       "            total_annotated_w_false_crbb  false_crbb_num_transcripts  \\\n",
       "MMETSP0384                         27882                    124330.0   \n",
       "MMETSP0039                         19581                    117665.0   \n",
       "MMETSP1377                         25096                    110954.0   \n",
       "MMETSP0469                         18359                    101484.0   \n",
       "MMETSP0201                         15014                     99473.0   \n",
       "MMETSP0527                         14826                     96257.0   \n",
       "MMETSP0472                         21085                     95901.0   \n",
       "MMETSP0528                         14473                     94671.0   \n",
       "MMETSP1436                         17035                     91310.0   \n",
       "MMETSP0027                         13055                     86357.0   \n",
       "MMETSP0117                         18558                     85814.0   \n",
       "MMETSP0029                         12650                     83722.0   \n",
       "MMETSP0031                         12845                     83289.0   \n",
       "MMETSP0202                         12959                     80420.0   \n",
       "MMETSP1037                         12882                     80304.0   \n",
       "MMETSP1110                         12732                     79062.0   \n",
       "MMETSP0467                         16473                     74893.0   \n",
       "MMETSP0648                         11493                     74890.0   \n",
       "MMETSP1036                         11971                     74682.0   \n",
       "MMETSP0118                         14366                     74195.0   \n",
       "MMETSP0790                         13302                     73682.0   \n",
       "MMETSP0649                         10706                     70728.0   \n",
       "MMETSP0271                         11119                     68567.0   \n",
       "MMETSP0126                         15108                     67899.0   \n",
       "MMETSP1015                         10447                     67129.0   \n",
       "MMETSP1017                         10530                     67019.0   \n",
       "MMETSP0272                         10885                     65673.0   \n",
       "MMETSP1016                         10127                     64958.0   \n",
       "MMETSP0057                         13080                     64893.0   \n",
       "MMETSP0328                         13080                     62790.0   \n",
       "...                                  ...                         ...   \n",
       "MMETSP0975                            41                       290.0   \n",
       "MMETSP0044                            72                       277.0   \n",
       "MMETSP0972                            41                       261.0   \n",
       "MMETSP0802                            50                       252.0   \n",
       "MMETSP1386                            54                       246.0   \n",
       "MMETSP0878                            47                       239.0   \n",
       "MMETSP1010                            32                       227.0   \n",
       "MMETSP0142                            30                       216.0   \n",
       "MMETSP0912                            49                       213.0   \n",
       "MMETSP0880                            29                       211.0   \n",
       "MMETSP0113                            45                       191.0   \n",
       "MMETSP0789                            38                       188.0   \n",
       "MMETSP0329                            33                       167.0   \n",
       "MMETSP0785                            18                       163.0   \n",
       "MMETSP0139                            20                       160.0   \n",
       "MMETSP1130                            34                       154.0   \n",
       "MMETSP0439                            59                       145.0   \n",
       "MMETSP0229                            22                       144.0   \n",
       "MMETSP1418                            31                       140.0   \n",
       "MMETSP0937                            26                       124.0   \n",
       "MMETSP0200                            23                       103.0   \n",
       "MMETSP0232                            52                        90.0   \n",
       "MMETSP0961                            18                        83.0   \n",
       "MMETSP0319                             8                        82.0   \n",
       "MMETSP0751                            20                        79.0   \n",
       "MMETSP1057                            12                        63.0   \n",
       "MMETSP0933                            11                        37.0   \n",
       "MMETSP1126                             3                        30.0   \n",
       "MMETSP1390                             1                        10.0   \n",
       "MMETSP1412                             2                         8.0   \n",
       "\n",
       "            difference  \n",
       "MMETSP0384     96448.0  \n",
       "MMETSP0039     98084.0  \n",
       "MMETSP1377     85858.0  \n",
       "MMETSP0469     83125.0  \n",
       "MMETSP0201     84459.0  \n",
       "MMETSP0527     81431.0  \n",
       "MMETSP0472     74816.0  \n",
       "MMETSP0528     80198.0  \n",
       "MMETSP1436     74275.0  \n",
       "MMETSP0027     73302.0  \n",
       "MMETSP0117     67256.0  \n",
       "MMETSP0029     71072.0  \n",
       "MMETSP0031     70444.0  \n",
       "MMETSP0202     67461.0  \n",
       "MMETSP1037     67422.0  \n",
       "MMETSP1110     66330.0  \n",
       "MMETSP0467     58420.0  \n",
       "MMETSP0648     63397.0  \n",
       "MMETSP1036     62711.0  \n",
       "MMETSP0118     59829.0  \n",
       "MMETSP0790     60380.0  \n",
       "MMETSP0649     60022.0  \n",
       "MMETSP0271     57448.0  \n",
       "MMETSP0126     52791.0  \n",
       "MMETSP1015     56682.0  \n",
       "MMETSP1017     56489.0  \n",
       "MMETSP0272     54788.0  \n",
       "MMETSP1016     54831.0  \n",
       "MMETSP0057     51813.0  \n",
       "MMETSP0328     49710.0  \n",
       "...                ...  \n",
       "MMETSP0975       249.0  \n",
       "MMETSP0044       205.0  \n",
       "MMETSP0972       220.0  \n",
       "MMETSP0802       202.0  \n",
       "MMETSP1386       192.0  \n",
       "MMETSP0878       192.0  \n",
       "MMETSP1010       195.0  \n",
       "MMETSP0142       186.0  \n",
       "MMETSP0912       164.0  \n",
       "MMETSP0880       182.0  \n",
       "MMETSP0113       146.0  \n",
       "MMETSP0789       150.0  \n",
       "MMETSP0329       134.0  \n",
       "MMETSP0785       145.0  \n",
       "MMETSP0139       140.0  \n",
       "MMETSP1130       120.0  \n",
       "MMETSP0439        86.0  \n",
       "MMETSP0229       122.0  \n",
       "MMETSP1418       109.0  \n",
       "MMETSP0937        98.0  \n",
       "MMETSP0200        80.0  \n",
       "MMETSP0232        38.0  \n",
       "MMETSP0961        65.0  \n",
       "MMETSP0319        74.0  \n",
       "MMETSP0751        59.0  \n",
       "MMETSP1057        51.0  \n",
       "MMETSP0933        26.0  \n",
       "MMETSP1126        27.0  \n",
       "MMETSP1390         9.0  \n",
       "MMETSP1412         6.0  \n",
       "\n",
       "[554 rows x 3 columns]"
      ]
     },
     "execution_count": 18,
     "metadata": {},
     "output_type": "execute_result"
    }
   ],
   "source": [
    "crbb_df.sort_values(by='false_crbb_num_transcripts', \n",
    "                    ascending=False)"
   ]
  },
  {
   "cell_type": "code",
   "execution_count": 91,
   "metadata": {
    "collapsed": false
   },
   "outputs": [
    {
     "data": {
      "text/plain": [
       "<matplotlib.axes._subplots.AxesSubplot at 0x124bd3048>"
      ]
     },
     "execution_count": 91,
     "metadata": {},
     "output_type": "execute_result"
    },
    {
     "data": {
      "image/png": "[encoded data removed]",
      "text/plain": [
       "<matplotlib.figure.Figure at 0x124bee4e0>"
      ]
     },
     "metadata": {},
     "output_type": "display_data"
    }
   ],
   "source": [
    "crbb_norm=crbb_df.T/crbb_df.false_crbb_num_transcripts\n",
    "crbb_norm=crbb_norm.T\n",
    "crbb_norm.total_annotated_w_false_crbb.sort_values(ascending=False).plot(kind='area', )"
   ]
  },
  {
   "cell_type": "code",
   "execution_count": 40,
   "metadata": {
    "collapsed": false
   },
   "outputs": [
    {
     "data": {
      "text/plain": [
       "[<matplotlib.lines.Line2D at 0x119ae2208>]"
      ]
     },
     "execution_count": 40,
     "metadata": {},
     "output_type": "execute_result"
    },
    {
     "data": {
      "image/png": "[encoded data removed]",
      "text/plain": [
       "<matplotlib.figure.Figure at 0x118ab4e48>"
      ]
     },
     "metadata": {},
     "output_type": "display_data"
    }
   ],
   "source": [
    "fig, axs= plt.subplots(1)\n",
    "fig.set_size_inches(8,8)\n",
    "axs.plot([1,2,3],[4,5,6])"
   ]
  },
  {
   "cell_type": "code",
   "execution_count": null,
   "metadata": {
    "collapsed": true
   },
   "outputs": [],
   "source": []
  }
 ],
 "metadata": {
  "anaconda-cloud": {},
  "kernelspec": {
   "display_name": "Python 3",
   "language": "python",
   "name": "python3"
  },
  "language_info": {
   "codemirror_mode": {
    "name": "ipython",
    "version": 3
   },
   "file_extension": ".py",
   "mimetype": "text/x-python",
   "name": "python",
   "nbconvert_exporter": "python",
   "pygments_lexer": "ipython3",
   "version": "3.5.1"
  }
 },
 "nbformat": 4,
 "nbformat_minor": 1
}
