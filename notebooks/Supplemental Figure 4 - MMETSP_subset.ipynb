{
 "cells": [
  {
   "cell_type": "markdown",
   "metadata": {},
   "source": [
    "# Subsetting MMETSP samples by transcriptome evaluation metrics"
   ]
  },
  {
   "cell_type": "markdown",
   "metadata": {},
   "source": [
    "Separate issues? Absolute metrics and relative metrics compared to the original NCGR assemblies. Must perform \"Poorly\" or \"Well\" from each point of view."
   ]
  },
  {
   "cell_type": "code",
   "execution_count": 11,
   "metadata": {},
   "outputs": [
    {
     "name": "stdout",
     "output_type": "stream",
     "text": [
      "Populating the interactive namespace from numpy and matplotlib\n"
     ]
    }
   ],
   "source": [
    "%pylab inline\n",
    "import pandas as pd\n",
    "import pylab as pl\n",
    "import matplotlib.pyplot as plt\n",
    "import palettable as pal\n",
    "from scipy import stats\n",
    "import numpy as np \n",
    "import seaborn as sns\n",
    "%matplotlib inline"
   ]
  },
  {
   "cell_type": "code",
   "execution_count": 12,
   "metadata": {
    "collapsed": true
   },
   "outputs": [],
   "source": [
    "special_flowers = ['MMETSP0693', 'MMETSP1019', 'MMETSP0923', 'MMETSP0008', 'MMETSP1002', 'MMETSP1325', 'MMETSP1018', \n",
    "                   'MMETSP1346', 'MMETSP0088', 'MMETSP0092', 'MMETSP0717', 'MMETSP0223', 'MMETSP0115', 'MMETSP0196', \n",
    "                   'MMETSP0197', 'MMETSP0398', 'MMETSP0399', 'MMETSP0922']"
   ]
  },
  {
   "cell_type": "code",
   "execution_count": 13,
   "metadata": {
    "collapsed": true
   },
   "outputs": [],
   "source": [
    "giant_matrix = \"../assembly_evaluation_data/MMETSP_all_evaluation_matrix_2.csv\"\n",
    "all_metrics = pd.read_csv(giant_matrix)\n",
    "#all_metrics.columns.values\n",
    "# transrate score metrics\n",
    "all_metrics = all_metrics[~all_metrics['SampleName'].isin(special_flowers)]"
   ]
  },
  {
   "cell_type": "code",
   "execution_count": 14,
   "metadata": {
    "collapsed": true
   },
   "outputs": [],
   "source": [
    "n_seqs_max = all_metrics['n_seqs'].describe()[['max']][0]\n",
    "score_max = all_metrics['score'].describe()[['max']][0]\n",
    "orf_max = all_metrics['mean_orf_percent.y'].describe()[['max']][0]\n",
    "largest_contig_max = all_metrics['largest.x'].describe()[['max']][0]\n",
    "BUSCO_max = all_metrics['DIB.Complete_BUSCO_perc_euk_v3'].describe()[['max']][0]\n",
    "unique_kmers_max = all_metrics['dib_assembly_unique_kmers'].describe()[['max']][0]"
   ]
  },
  {
   "cell_type": "markdown",
   "metadata": {},
   "source": [
    "# Subsetting High Performing ID"
   ]
  },
  {
   "cell_type": "markdown",
   "metadata": {},
   "source": [
    "Metrics used:\n",
    "* 'n_seqs'\n",
    "* 'largest.x'\n",
    "* 'DIB.Complete_BUSCO_perc_euk_v3'\n",
    "* 'dib_assembly_unique_kmers'\n",
    "\n",
    "Final list, > 75 percentile in all four metrics\n",
    "ranked among 660 transcriptomes (excluding duplicates)"
   ]
  },
  {
   "cell_type": "code",
   "execution_count": 15,
   "metadata": {},
   "outputs": [
    {
     "name": "stdout",
     "output_type": "stream",
     "text": [
      "(660, 8)\n"
     ]
    }
   ],
   "source": [
    "high_all_table = all_metrics\n",
    "high_all_table = high_all_table[['SampleName','Phylum','n_seqs','score','mean_orf_percent','largest.x','DIB.Complete_BUSCO_perc_euk_v3','dib_assembly_unique_kmers']]\n",
    "print(high_all_table.shape)"
   ]
  },
  {
   "cell_type": "code",
   "execution_count": 16,
   "metadata": {},
   "outputs": [
    {
     "data": {
      "text/html": [
       "<div>\n",
       "<style scoped>\n",
       "    .dataframe tbody tr th:only-of-type {\n",
       "        vertical-align: middle;\n",
       "    }\n",
       "\n",
       "    .dataframe tbody tr th {\n",
       "        vertical-align: top;\n",
       "    }\n",
       "\n",
       "    .dataframe thead th {\n",
       "        text-align: right;\n",
       "    }\n",
       "</style>\n",
       "<table border=\"1\" class=\"dataframe\">\n",
       "  <thead>\n",
       "    <tr style=\"text-align: right;\">\n",
       "      <th></th>\n",
       "      <th>SampleName</th>\n",
       "      <th>Phylum</th>\n",
       "      <th>n_seqs</th>\n",
       "      <th>score</th>\n",
       "      <th>mean_orf_percent</th>\n",
       "      <th>largest.x</th>\n",
       "      <th>DIB.Complete_BUSCO_perc_euk_v3</th>\n",
       "      <th>dib_assembly_unique_kmers</th>\n",
       "    </tr>\n",
       "  </thead>\n",
       "  <tbody>\n",
       "    <tr>\n",
       "      <th>0</th>\n",
       "      <td>MMETSP0004</td>\n",
       "      <td>Ochrophyta</td>\n",
       "      <td>33559.0</td>\n",
       "      <td>0.38093</td>\n",
       "      <td>81.26381</td>\n",
       "      <td>17276.0</td>\n",
       "      <td>69.636964</td>\n",
       "      <td>19837761</td>\n",
       "    </tr>\n",
       "    <tr>\n",
       "      <th>1</th>\n",
       "      <td>MMETSP0005</td>\n",
       "      <td>Ochrophyta</td>\n",
       "      <td>32824.0</td>\n",
       "      <td>0.38214</td>\n",
       "      <td>80.15649</td>\n",
       "      <td>11058.0</td>\n",
       "      <td>67.326733</td>\n",
       "      <td>20350054</td>\n",
       "    </tr>\n",
       "    <tr>\n",
       "      <th>2</th>\n",
       "      <td>MMETSP0006</td>\n",
       "      <td>Haptophyta</td>\n",
       "      <td>47463.0</td>\n",
       "      <td>0.38143</td>\n",
       "      <td>80.79508</td>\n",
       "      <td>15370.0</td>\n",
       "      <td>55.775578</td>\n",
       "      <td>25286098</td>\n",
       "    </tr>\n",
       "    <tr>\n",
       "      <th>3</th>\n",
       "      <td>MMETSP0007</td>\n",
       "      <td>Haptophyta</td>\n",
       "      <td>30922.0</td>\n",
       "      <td>0.27164</td>\n",
       "      <td>71.01950</td>\n",
       "      <td>6567.0</td>\n",
       "      <td>30.363036</td>\n",
       "      <td>12496793</td>\n",
       "    </tr>\n",
       "    <tr>\n",
       "      <th>6</th>\n",
       "      <td>MMETSP0009</td>\n",
       "      <td>Bacillariophyta</td>\n",
       "      <td>54275.0</td>\n",
       "      <td>0.25534</td>\n",
       "      <td>80.37076</td>\n",
       "      <td>10587.0</td>\n",
       "      <td>46.534653</td>\n",
       "      <td>30074483</td>\n",
       "    </tr>\n",
       "  </tbody>\n",
       "</table>\n",
       "</div>"
      ],
      "text/plain": [
       "   SampleName           Phylum   n_seqs    score  mean_orf_percent  largest.x  \\\n",
       "0  MMETSP0004       Ochrophyta  33559.0  0.38093          81.26381    17276.0   \n",
       "1  MMETSP0005       Ochrophyta  32824.0  0.38214          80.15649    11058.0   \n",
       "2  MMETSP0006       Haptophyta  47463.0  0.38143          80.79508    15370.0   \n",
       "3  MMETSP0007       Haptophyta  30922.0  0.27164          71.01950     6567.0   \n",
       "6  MMETSP0009  Bacillariophyta  54275.0  0.25534          80.37076    10587.0   \n",
       "\n",
       "   DIB.Complete_BUSCO_perc_euk_v3  dib_assembly_unique_kmers  \n",
       "0                       69.636964                   19837761  \n",
       "1                       67.326733                   20350054  \n",
       "2                       55.775578                   25286098  \n",
       "3                       30.363036                   12496793  \n",
       "6                       46.534653                   30074483  "
      ]
     },
     "execution_count": 16,
     "metadata": {},
     "output_type": "execute_result"
    }
   ],
   "source": [
    "high_all_table.head()"
   ]
  },
  {
   "cell_type": "code",
   "execution_count": 17,
   "metadata": {},
   "outputs": [
    {
     "data": {
      "text/plain": [
       "(660, 8)"
      ]
     },
     "execution_count": 17,
     "metadata": {},
     "output_type": "execute_result"
    }
   ],
   "source": [
    "high_all_table.shape"
   ]
  },
  {
   "cell_type": "code",
   "execution_count": 18,
   "metadata": {
    "collapsed": true
   },
   "outputs": [],
   "source": [
    "#high_all_table_filtered = high_all_table_filtered.set_index('SampleName')"
   ]
  },
  {
   "cell_type": "code",
   "execution_count": 19,
   "metadata": {},
   "outputs": [
    {
     "data": {
      "text/plain": [
       "Index(['SampleName', 'Phylum', 'n_seqs', 'score', 'mean_orf_percent',\n",
       "       'largest.x', 'DIB.Complete_BUSCO_perc_euk_v3',\n",
       "       'dib_assembly_unique_kmers'],\n",
       "      dtype='object')"
      ]
     },
     "execution_count": 19,
     "metadata": {},
     "output_type": "execute_result"
    }
   ],
   "source": [
    "high_all_table.columns"
   ]
  },
  {
   "cell_type": "code",
   "execution_count": 20,
   "metadata": {},
   "outputs": [
    {
     "name": "stdout",
     "output_type": "stream",
     "text": [
      "54783.0\n",
      "0.37296\n",
      "88.46954\n",
      "14351.0\n",
      "75.57755776\n",
      "33219562.0\n"
     ]
    }
   ],
   "source": [
    "n_seqs_cutoff = high_all_table['n_seqs'].describe()[['75%']][0]\n",
    "print(n_seqs_cutoff)\n",
    "score_cutoff = high_all_table['score'].describe()[['75%']][0]\n",
    "print(score_cutoff)\n",
    "orf_cutoff = high_all_table['mean_orf_percent'].describe()[['75%']][0]\n",
    "print(orf_cutoff)\n",
    "largest_contig_cutoff = high_all_table['largest.x'].describe()[['75%']][0]\n",
    "print(largest_contig_cutoff)\n",
    "BUSCO_cutoff = high_all_table['DIB.Complete_BUSCO_perc_euk_v3'].describe()[['75%']][0]\n",
    "print(BUSCO_cutoff)\n",
    "unique_kmers_cutoff = high_all_table['dib_assembly_unique_kmers'].describe()[['75%']][0]\n",
    "print(unique_kmers_cutoff)"
   ]
  },
  {
   "cell_type": "code",
   "execution_count": 21,
   "metadata": {},
   "outputs": [
    {
     "name": "stderr",
     "output_type": "stream",
     "text": [
      "/Users/johnsolk/anaconda3/lib/python3.6/site-packages/ipykernel_launcher.py:2: SettingWithCopyWarning: \n",
      "A value is trying to be set on a copy of a slice from a DataFrame.\n",
      "Try using .loc[row_indexer,col_indexer] = value instead\n",
      "\n",
      "See the caveats in the documentation: http://pandas.pydata.org/pandas-docs/stable/indexing.html#indexing-view-versus-copy\n",
      "  \n",
      "/Users/johnsolk/anaconda3/lib/python3.6/site-packages/ipykernel_launcher.py:3: SettingWithCopyWarning: \n",
      "A value is trying to be set on a copy of a slice from a DataFrame.\n",
      "Try using .loc[row_indexer,col_indexer] = value instead\n",
      "\n",
      "See the caveats in the documentation: http://pandas.pydata.org/pandas-docs/stable/indexing.html#indexing-view-versus-copy\n",
      "  This is separate from the ipykernel package so we can avoid doing imports until\n",
      "/Users/johnsolk/anaconda3/lib/python3.6/site-packages/ipykernel_launcher.py:4: SettingWithCopyWarning: \n",
      "A value is trying to be set on a copy of a slice from a DataFrame.\n",
      "Try using .loc[row_indexer,col_indexer] = value instead\n",
      "\n",
      "See the caveats in the documentation: http://pandas.pydata.org/pandas-docs/stable/indexing.html#indexing-view-versus-copy\n",
      "  after removing the cwd from sys.path.\n",
      "/Users/johnsolk/anaconda3/lib/python3.6/site-packages/ipykernel_launcher.py:5: SettingWithCopyWarning: \n",
      "A value is trying to be set on a copy of a slice from a DataFrame.\n",
      "Try using .loc[row_indexer,col_indexer] = value instead\n",
      "\n",
      "See the caveats in the documentation: http://pandas.pydata.org/pandas-docs/stable/indexing.html#indexing-view-versus-copy\n",
      "  \"\"\"\n",
      "/Users/johnsolk/anaconda3/lib/python3.6/site-packages/ipykernel_launcher.py:6: SettingWithCopyWarning: \n",
      "A value is trying to be set on a copy of a slice from a DataFrame.\n",
      "Try using .loc[row_indexer,col_indexer] = value instead\n",
      "\n",
      "See the caveats in the documentation: http://pandas.pydata.org/pandas-docs/stable/indexing.html#indexing-view-versus-copy\n",
      "  \n",
      "/Users/johnsolk/anaconda3/lib/python3.6/site-packages/ipykernel_launcher.py:7: SettingWithCopyWarning: \n",
      "A value is trying to be set on a copy of a slice from a DataFrame.\n",
      "Try using .loc[row_indexer,col_indexer] = value instead\n",
      "\n",
      "See the caveats in the documentation: http://pandas.pydata.org/pandas-docs/stable/indexing.html#indexing-view-versus-copy\n",
      "  import sys\n"
     ]
    }
   ],
   "source": [
    "high_all_table_ranked = high_all_table\n",
    "high_all_table_ranked['n_seqs_ranked'] = (high_all_table_ranked['n_seqs'].rank(ascending=1)/660)*100\n",
    "high_all_table_ranked['largest_ranked'] = (high_all_table_ranked['largest.x'].rank(ascending=1)/660)*100\n",
    "high_all_table_ranked['score_ranked'] = (high_all_table_ranked['score'].rank(ascending=1)/660)*100\n",
    "high_all_table_ranked['unique_kmers_ranked'] = (high_all_table_ranked['dib_assembly_unique_kmers'].rank(ascending=1)/660)*100\n",
    "high_all_table_ranked['BUSCO_ranked'] = (high_all_table_ranked['DIB.Complete_BUSCO_perc_euk_v3'].rank(ascending=1)/660)*100\n",
    "high_all_table_ranked['orf_ranked'] = (high_all_table_ranked['mean_orf_percent'].rank(ascending=1)/660)*100"
   ]
  },
  {
   "cell_type": "code",
   "execution_count": 22,
   "metadata": {},
   "outputs": [
    {
     "data": {
      "text/html": [
       "<div>\n",
       "<style scoped>\n",
       "    .dataframe tbody tr th:only-of-type {\n",
       "        vertical-align: middle;\n",
       "    }\n",
       "\n",
       "    .dataframe tbody tr th {\n",
       "        vertical-align: top;\n",
       "    }\n",
       "\n",
       "    .dataframe thead th {\n",
       "        text-align: right;\n",
       "    }\n",
       "</style>\n",
       "<table border=\"1\" class=\"dataframe\">\n",
       "  <thead>\n",
       "    <tr style=\"text-align: right;\">\n",
       "      <th></th>\n",
       "      <th>SampleName</th>\n",
       "      <th>Phylum</th>\n",
       "      <th>n_seqs</th>\n",
       "      <th>score</th>\n",
       "      <th>mean_orf_percent</th>\n",
       "      <th>largest.x</th>\n",
       "      <th>DIB.Complete_BUSCO_perc_euk_v3</th>\n",
       "      <th>dib_assembly_unique_kmers</th>\n",
       "      <th>n_seqs_ranked</th>\n",
       "      <th>largest_ranked</th>\n",
       "      <th>score_ranked</th>\n",
       "      <th>unique_kmers_ranked</th>\n",
       "      <th>BUSCO_ranked</th>\n",
       "      <th>orf_ranked</th>\n",
       "    </tr>\n",
       "  </thead>\n",
       "  <tbody>\n",
       "    <tr>\n",
       "      <th>0</th>\n",
       "      <td>MMETSP0004</td>\n",
       "      <td>Ochrophyta</td>\n",
       "      <td>33559.0</td>\n",
       "      <td>0.38093</td>\n",
       "      <td>81.26381</td>\n",
       "      <td>17276.0</td>\n",
       "      <td>69.636964</td>\n",
       "      <td>19837761</td>\n",
       "      <td>43.181818</td>\n",
       "      <td>88.030303</td>\n",
       "      <td>76.666667</td>\n",
       "      <td>33.484848</td>\n",
       "      <td>57.121212</td>\n",
       "      <td>40.606061</td>\n",
       "    </tr>\n",
       "    <tr>\n",
       "      <th>1</th>\n",
       "      <td>MMETSP0005</td>\n",
       "      <td>Ochrophyta</td>\n",
       "      <td>32824.0</td>\n",
       "      <td>0.38214</td>\n",
       "      <td>80.15649</td>\n",
       "      <td>11058.0</td>\n",
       "      <td>67.326733</td>\n",
       "      <td>20350054</td>\n",
       "      <td>40.303030</td>\n",
       "      <td>47.575758</td>\n",
       "      <td>77.121212</td>\n",
       "      <td>35.151515</td>\n",
       "      <td>50.454545</td>\n",
       "      <td>35.000000</td>\n",
       "    </tr>\n",
       "    <tr>\n",
       "      <th>2</th>\n",
       "      <td>MMETSP0006</td>\n",
       "      <td>Haptophyta</td>\n",
       "      <td>47463.0</td>\n",
       "      <td>0.38143</td>\n",
       "      <td>80.79508</td>\n",
       "      <td>15370.0</td>\n",
       "      <td>55.775578</td>\n",
       "      <td>25286098</td>\n",
       "      <td>67.121212</td>\n",
       "      <td>80.303030</td>\n",
       "      <td>76.818182</td>\n",
       "      <td>53.030303</td>\n",
       "      <td>24.621212</td>\n",
       "      <td>37.878788</td>\n",
       "    </tr>\n",
       "    <tr>\n",
       "      <th>3</th>\n",
       "      <td>MMETSP0007</td>\n",
       "      <td>Haptophyta</td>\n",
       "      <td>30922.0</td>\n",
       "      <td>0.27164</td>\n",
       "      <td>71.01950</td>\n",
       "      <td>6567.0</td>\n",
       "      <td>30.363036</td>\n",
       "      <td>12496793</td>\n",
       "      <td>33.939394</td>\n",
       "      <td>13.181818</td>\n",
       "      <td>24.469697</td>\n",
       "      <td>12.727273</td>\n",
       "      <td>7.121212</td>\n",
       "      <td>9.242424</td>\n",
       "    </tr>\n",
       "    <tr>\n",
       "      <th>6</th>\n",
       "      <td>MMETSP0009</td>\n",
       "      <td>Bacillariophyta</td>\n",
       "      <td>54275.0</td>\n",
       "      <td>0.25534</td>\n",
       "      <td>80.37076</td>\n",
       "      <td>10587.0</td>\n",
       "      <td>46.534653</td>\n",
       "      <td>30074483</td>\n",
       "      <td>73.787879</td>\n",
       "      <td>45.151515</td>\n",
       "      <td>20.757576</td>\n",
       "      <td>67.272727</td>\n",
       "      <td>15.075758</td>\n",
       "      <td>35.909091</td>\n",
       "    </tr>\n",
       "  </tbody>\n",
       "</table>\n",
       "</div>"
      ],
      "text/plain": [
       "   SampleName           Phylum   n_seqs    score  mean_orf_percent  largest.x  \\\n",
       "0  MMETSP0004       Ochrophyta  33559.0  0.38093          81.26381    17276.0   \n",
       "1  MMETSP0005       Ochrophyta  32824.0  0.38214          80.15649    11058.0   \n",
       "2  MMETSP0006       Haptophyta  47463.0  0.38143          80.79508    15370.0   \n",
       "3  MMETSP0007       Haptophyta  30922.0  0.27164          71.01950     6567.0   \n",
       "6  MMETSP0009  Bacillariophyta  54275.0  0.25534          80.37076    10587.0   \n",
       "\n",
       "   DIB.Complete_BUSCO_perc_euk_v3  dib_assembly_unique_kmers  n_seqs_ranked  \\\n",
       "0                       69.636964                   19837761      43.181818   \n",
       "1                       67.326733                   20350054      40.303030   \n",
       "2                       55.775578                   25286098      67.121212   \n",
       "3                       30.363036                   12496793      33.939394   \n",
       "6                       46.534653                   30074483      73.787879   \n",
       "\n",
       "   largest_ranked  score_ranked  unique_kmers_ranked  BUSCO_ranked  orf_ranked  \n",
       "0       88.030303     76.666667            33.484848     57.121212   40.606061  \n",
       "1       47.575758     77.121212            35.151515     50.454545   35.000000  \n",
       "2       80.303030     76.818182            53.030303     24.621212   37.878788  \n",
       "3       13.181818     24.469697            12.727273      7.121212    9.242424  \n",
       "6       45.151515     20.757576            67.272727     15.075758   35.909091  "
      ]
     },
     "execution_count": 22,
     "metadata": {},
     "output_type": "execute_result"
    }
   ],
   "source": [
    "high_all_table_ranked.head()"
   ]
  },
  {
   "cell_type": "code",
   "execution_count": 23,
   "metadata": {
    "collapsed": true
   },
   "outputs": [],
   "source": [
    "high_heatmap_filtered = high_all_table_ranked[(high_all_table_ranked['DIB.Complete_BUSCO_perc_euk_v3'] > BUSCO_cutoff) &\n",
    "                                         (high_all_table_ranked['dib_assembly_unique_kmers'] > unique_kmers_cutoff) &\n",
    "                                         (high_all_table_ranked['n_seqs'] > n_seqs_cutoff) &\n",
    "                                         (high_all_table_ranked['largest.x'] > largest_contig_cutoff)]"
   ]
  },
  {
   "cell_type": "code",
   "execution_count": 24,
   "metadata": {},
   "outputs": [
    {
     "data": {
      "text/plain": [
       "(12, 14)"
      ]
     },
     "execution_count": 24,
     "metadata": {},
     "output_type": "execute_result"
    }
   ],
   "source": [
    "high_heatmap_filtered.shape"
   ]
  },
  {
   "cell_type": "code",
   "execution_count": 25,
   "metadata": {},
   "outputs": [
    {
     "data": {
      "text/html": [
       "<div>\n",
       "<style scoped>\n",
       "    .dataframe tbody tr th:only-of-type {\n",
       "        vertical-align: middle;\n",
       "    }\n",
       "\n",
       "    .dataframe tbody tr th {\n",
       "        vertical-align: top;\n",
       "    }\n",
       "\n",
       "    .dataframe thead th {\n",
       "        text-align: right;\n",
       "    }\n",
       "</style>\n",
       "<table border=\"1\" class=\"dataframe\">\n",
       "  <thead>\n",
       "    <tr style=\"text-align: right;\">\n",
       "      <th></th>\n",
       "      <th>SampleName</th>\n",
       "      <th>Phylum</th>\n",
       "      <th>n_seqs</th>\n",
       "      <th>score</th>\n",
       "      <th>mean_orf_percent</th>\n",
       "      <th>largest.x</th>\n",
       "      <th>DIB.Complete_BUSCO_perc_euk_v3</th>\n",
       "      <th>dib_assembly_unique_kmers</th>\n",
       "      <th>n_seqs_ranked</th>\n",
       "      <th>largest_ranked</th>\n",
       "      <th>score_ranked</th>\n",
       "      <th>unique_kmers_ranked</th>\n",
       "      <th>BUSCO_ranked</th>\n",
       "      <th>orf_ranked</th>\n",
       "    </tr>\n",
       "  </thead>\n",
       "  <tbody>\n",
       "    <tr>\n",
       "      <th>10</th>\n",
       "      <td>MMETSP0014</td>\n",
       "      <td>Bacillariophyta</td>\n",
       "      <td>63046.0</td>\n",
       "      <td>0.24811</td>\n",
       "      <td>74.16254</td>\n",
       "      <td>18219.0</td>\n",
       "      <td>82.838284</td>\n",
       "      <td>42853543</td>\n",
       "      <td>77.121212</td>\n",
       "      <td>90.606061</td>\n",
       "      <td>18.181818</td>\n",
       "      <td>84.545455</td>\n",
       "      <td>92.424242</td>\n",
       "      <td>15.303030</td>\n",
       "    </tr>\n",
       "    <tr>\n",
       "      <th>11</th>\n",
       "      <td>MMETSP0015</td>\n",
       "      <td>Bacillariophyta</td>\n",
       "      <td>63642.0</td>\n",
       "      <td>0.23404</td>\n",
       "      <td>74.92930</td>\n",
       "      <td>14591.0</td>\n",
       "      <td>79.537954</td>\n",
       "      <td>48027372</td>\n",
       "      <td>77.727273</td>\n",
       "      <td>75.606061</td>\n",
       "      <td>14.545455</td>\n",
       "      <td>86.666667</td>\n",
       "      <td>86.893939</td>\n",
       "      <td>16.969697</td>\n",
       "    </tr>\n",
       "    <tr>\n",
       "      <th>21</th>\n",
       "      <td>MMETSP0034</td>\n",
       "      <td>Chlorophyta</td>\n",
       "      <td>73008.0</td>\n",
       "      <td>0.26179</td>\n",
       "      <td>79.09444</td>\n",
       "      <td>28609.0</td>\n",
       "      <td>87.458746</td>\n",
       "      <td>36962364</td>\n",
       "      <td>82.272727</td>\n",
       "      <td>97.727273</td>\n",
       "      <td>22.272727</td>\n",
       "      <td>80.151515</td>\n",
       "      <td>97.424242</td>\n",
       "      <td>29.696970</td>\n",
       "    </tr>\n",
       "    <tr>\n",
       "      <th>23</th>\n",
       "      <td>MMETSP0039</td>\n",
       "      <td>Euglenozoa</td>\n",
       "      <td>154322.0</td>\n",
       "      <td>0.16884</td>\n",
       "      <td>69.99210</td>\n",
       "      <td>36657.0</td>\n",
       "      <td>75.907591</td>\n",
       "      <td>90240760</td>\n",
       "      <td>96.818182</td>\n",
       "      <td>98.787879</td>\n",
       "      <td>5.909091</td>\n",
       "      <td>97.424242</td>\n",
       "      <td>76.893939</td>\n",
       "      <td>7.575758</td>\n",
       "    </tr>\n",
       "    <tr>\n",
       "      <th>31</th>\n",
       "      <td>MMETSP0047</td>\n",
       "      <td>Cryptophyta</td>\n",
       "      <td>68249.0</td>\n",
       "      <td>0.36979</td>\n",
       "      <td>88.09522</td>\n",
       "      <td>15663.0</td>\n",
       "      <td>80.198020</td>\n",
       "      <td>35832341</td>\n",
       "      <td>80.454545</td>\n",
       "      <td>81.515152</td>\n",
       "      <td>72.878788</td>\n",
       "      <td>78.484848</td>\n",
       "      <td>88.030303</td>\n",
       "      <td>71.969697</td>\n",
       "    </tr>\n",
       "    <tr>\n",
       "      <th>82</th>\n",
       "      <td>MMETSP0120</td>\n",
       "      <td>Dinophyta</td>\n",
       "      <td>134492.0</td>\n",
       "      <td>0.34076</td>\n",
       "      <td>92.92111</td>\n",
       "      <td>15571.0</td>\n",
       "      <td>79.537954</td>\n",
       "      <td>84042448</td>\n",
       "      <td>94.545455</td>\n",
       "      <td>80.757576</td>\n",
       "      <td>59.545455</td>\n",
       "      <td>95.606061</td>\n",
       "      <td>86.893939</td>\n",
       "      <td>93.181818</td>\n",
       "    </tr>\n",
       "    <tr>\n",
       "      <th>192</th>\n",
       "      <td>MMETSP0359</td>\n",
       "      <td>Dinophyta</td>\n",
       "      <td>178850.0</td>\n",
       "      <td>0.29286</td>\n",
       "      <td>87.96250</td>\n",
       "      <td>16823.0</td>\n",
       "      <td>80.858086</td>\n",
       "      <td>112607134</td>\n",
       "      <td>98.636364</td>\n",
       "      <td>86.515152</td>\n",
       "      <td>30.757576</td>\n",
       "      <td>99.696970</td>\n",
       "      <td>89.166667</td>\n",
       "      <td>71.515152</td>\n",
       "    </tr>\n",
       "    <tr>\n",
       "      <th>194</th>\n",
       "      <td>MMETSP0361</td>\n",
       "      <td>Dinophyta</td>\n",
       "      <td>184980.0</td>\n",
       "      <td>0.27152</td>\n",
       "      <td>87.42226</td>\n",
       "      <td>15786.0</td>\n",
       "      <td>82.178218</td>\n",
       "      <td>114575790</td>\n",
       "      <td>98.939394</td>\n",
       "      <td>82.424242</td>\n",
       "      <td>24.242424</td>\n",
       "      <td>99.848485</td>\n",
       "      <td>91.287879</td>\n",
       "      <td>69.090909</td>\n",
       "    </tr>\n",
       "    <tr>\n",
       "      <th>240</th>\n",
       "      <td>MMETSP0484</td>\n",
       "      <td>Cryptophyta</td>\n",
       "      <td>64603.0</td>\n",
       "      <td>0.43111</td>\n",
       "      <td>89.53475</td>\n",
       "      <td>16621.0</td>\n",
       "      <td>77.227723</td>\n",
       "      <td>39438755</td>\n",
       "      <td>78.181818</td>\n",
       "      <td>86.060606</td>\n",
       "      <td>90.454545</td>\n",
       "      <td>82.878788</td>\n",
       "      <td>81.212121</td>\n",
       "      <td>77.727273</td>\n",
       "    </tr>\n",
       "    <tr>\n",
       "      <th>426</th>\n",
       "      <td>MMETSP0986</td>\n",
       "      <td>Unknown</td>\n",
       "      <td>69530.0</td>\n",
       "      <td>0.29391</td>\n",
       "      <td>89.83816</td>\n",
       "      <td>20685.0</td>\n",
       "      <td>79.207921</td>\n",
       "      <td>36238096</td>\n",
       "      <td>80.909091</td>\n",
       "      <td>94.090909</td>\n",
       "      <td>31.515152</td>\n",
       "      <td>79.545455</td>\n",
       "      <td>86.363636</td>\n",
       "      <td>78.636364</td>\n",
       "    </tr>\n",
       "    <tr>\n",
       "      <th>427</th>\n",
       "      <td>MMETSP0987</td>\n",
       "      <td>Unknown</td>\n",
       "      <td>70994.0</td>\n",
       "      <td>0.29766</td>\n",
       "      <td>89.58519</td>\n",
       "      <td>22166.0</td>\n",
       "      <td>81.518152</td>\n",
       "      <td>37538846</td>\n",
       "      <td>81.666667</td>\n",
       "      <td>95.000000</td>\n",
       "      <td>34.090909</td>\n",
       "      <td>80.909091</td>\n",
       "      <td>90.378788</td>\n",
       "      <td>77.878788</td>\n",
       "    </tr>\n",
       "    <tr>\n",
       "      <th>429</th>\n",
       "      <td>MMETSP0989</td>\n",
       "      <td>Unknown</td>\n",
       "      <td>70975.0</td>\n",
       "      <td>0.30561</td>\n",
       "      <td>89.84462</td>\n",
       "      <td>15674.0</td>\n",
       "      <td>81.848185</td>\n",
       "      <td>40458797</td>\n",
       "      <td>81.515152</td>\n",
       "      <td>81.666667</td>\n",
       "      <td>38.333333</td>\n",
       "      <td>83.333333</td>\n",
       "      <td>90.984848</td>\n",
       "      <td>78.787879</td>\n",
       "    </tr>\n",
       "  </tbody>\n",
       "</table>\n",
       "</div>"
      ],
      "text/plain": [
       "     SampleName           Phylum    n_seqs    score  mean_orf_percent  \\\n",
       "10   MMETSP0014  Bacillariophyta   63046.0  0.24811          74.16254   \n",
       "11   MMETSP0015  Bacillariophyta   63642.0  0.23404          74.92930   \n",
       "21   MMETSP0034      Chlorophyta   73008.0  0.26179          79.09444   \n",
       "23   MMETSP0039       Euglenozoa  154322.0  0.16884          69.99210   \n",
       "31   MMETSP0047      Cryptophyta   68249.0  0.36979          88.09522   \n",
       "82   MMETSP0120        Dinophyta  134492.0  0.34076          92.92111   \n",
       "192  MMETSP0359        Dinophyta  178850.0  0.29286          87.96250   \n",
       "194  MMETSP0361        Dinophyta  184980.0  0.27152          87.42226   \n",
       "240  MMETSP0484      Cryptophyta   64603.0  0.43111          89.53475   \n",
       "426  MMETSP0986          Unknown   69530.0  0.29391          89.83816   \n",
       "427  MMETSP0987          Unknown   70994.0  0.29766          89.58519   \n",
       "429  MMETSP0989          Unknown   70975.0  0.30561          89.84462   \n",
       "\n",
       "     largest.x  DIB.Complete_BUSCO_perc_euk_v3  dib_assembly_unique_kmers  \\\n",
       "10     18219.0                       82.838284                   42853543   \n",
       "11     14591.0                       79.537954                   48027372   \n",
       "21     28609.0                       87.458746                   36962364   \n",
       "23     36657.0                       75.907591                   90240760   \n",
       "31     15663.0                       80.198020                   35832341   \n",
       "82     15571.0                       79.537954                   84042448   \n",
       "192    16823.0                       80.858086                  112607134   \n",
       "194    15786.0                       82.178218                  114575790   \n",
       "240    16621.0                       77.227723                   39438755   \n",
       "426    20685.0                       79.207921                   36238096   \n",
       "427    22166.0                       81.518152                   37538846   \n",
       "429    15674.0                       81.848185                   40458797   \n",
       "\n",
       "     n_seqs_ranked  largest_ranked  score_ranked  unique_kmers_ranked  \\\n",
       "10       77.121212       90.606061     18.181818            84.545455   \n",
       "11       77.727273       75.606061     14.545455            86.666667   \n",
       "21       82.272727       97.727273     22.272727            80.151515   \n",
       "23       96.818182       98.787879      5.909091            97.424242   \n",
       "31       80.454545       81.515152     72.878788            78.484848   \n",
       "82       94.545455       80.757576     59.545455            95.606061   \n",
       "192      98.636364       86.515152     30.757576            99.696970   \n",
       "194      98.939394       82.424242     24.242424            99.848485   \n",
       "240      78.181818       86.060606     90.454545            82.878788   \n",
       "426      80.909091       94.090909     31.515152            79.545455   \n",
       "427      81.666667       95.000000     34.090909            80.909091   \n",
       "429      81.515152       81.666667     38.333333            83.333333   \n",
       "\n",
       "     BUSCO_ranked  orf_ranked  \n",
       "10      92.424242   15.303030  \n",
       "11      86.893939   16.969697  \n",
       "21      97.424242   29.696970  \n",
       "23      76.893939    7.575758  \n",
       "31      88.030303   71.969697  \n",
       "82      86.893939   93.181818  \n",
       "192     89.166667   71.515152  \n",
       "194     91.287879   69.090909  \n",
       "240     81.212121   77.727273  \n",
       "426     86.363636   78.636364  \n",
       "427     90.378788   77.878788  \n",
       "429     90.984848   78.787879  "
      ]
     },
     "execution_count": 25,
     "metadata": {},
     "output_type": "execute_result"
    }
   ],
   "source": [
    "high_heatmap_filtered"
   ]
  },
  {
   "cell_type": "code",
   "execution_count": 26,
   "metadata": {},
   "outputs": [
    {
     "data": {
      "text/plain": [
       "['MMETSP0014',\n",
       " 'MMETSP0015',\n",
       " 'MMETSP0034',\n",
       " 'MMETSP0039',\n",
       " 'MMETSP0047',\n",
       " 'MMETSP0120',\n",
       " 'MMETSP0359',\n",
       " 'MMETSP0361',\n",
       " 'MMETSP0484',\n",
       " 'MMETSP0986',\n",
       " 'MMETSP0987',\n",
       " 'MMETSP0989']"
      ]
     },
     "execution_count": 26,
     "metadata": {},
     "output_type": "execute_result"
    }
   ],
   "source": [
    "high_ID = high_heatmap_filtered['SampleName'].tolist()\n",
    "high_ID"
   ]
  },
  {
   "cell_type": "code",
   "execution_count": 27,
   "metadata": {},
   "outputs": [
    {
     "name": "stdout",
     "output_type": "stream",
     "text": [
      "54783.0\n",
      "0.37296\n",
      "88.46954\n",
      "14351.0\n",
      "75.57755776\n",
      "33219562.0\n"
     ]
    }
   ],
   "source": [
    "print(n_seqs_cutoff)\n",
    "print(score_cutoff)\n",
    "print(orf_cutoff)\n",
    "print(largest_contig_cutoff)\n",
    "print(BUSCO_cutoff)\n",
    "print(unique_kmers_cutoff)"
   ]
  },
  {
   "cell_type": "code",
   "execution_count": 28,
   "metadata": {},
   "outputs": [
    {
     "data": {
      "text/plain": [
       "(12, 14)"
      ]
     },
     "execution_count": 28,
     "metadata": {},
     "output_type": "execute_result"
    }
   ],
   "source": [
    "high_heatmap_filtered.shape"
   ]
  },
  {
   "cell_type": "code",
   "execution_count": 29,
   "metadata": {
    "collapsed": true
   },
   "outputs": [],
   "source": [
    "high_heatmap = pd.DataFrame()"
   ]
  },
  {
   "cell_type": "code",
   "execution_count": 30,
   "metadata": {
    "collapsed": true
   },
   "outputs": [],
   "source": [
    "def str_join(df, sep, *cols):\n",
    "    from functools import reduce\n",
    "    return reduce(lambda x, y: x.astype(str).str.cat(y.astype(str), sep=sep), \n",
    "                  [df[col] for col in cols])"
   ]
  },
  {
   "cell_type": "code",
   "execution_count": 31,
   "metadata": {},
   "outputs": [
    {
     "data": {
      "text/plain": [
       "Index(['SampleName', 'Phylum', 'n_seqs', 'score', 'mean_orf_percent',\n",
       "       'largest.x', 'DIB.Complete_BUSCO_perc_euk_v3',\n",
       "       'dib_assembly_unique_kmers', 'n_seqs_ranked', 'largest_ranked',\n",
       "       'score_ranked', 'unique_kmers_ranked', 'BUSCO_ranked', 'orf_ranked'],\n",
       "      dtype='object')"
      ]
     },
     "execution_count": 31,
     "metadata": {},
     "output_type": "execute_result"
    }
   ],
   "source": [
    "high_heatmap_filtered.columns"
   ]
  },
  {
   "cell_type": "code",
   "execution_count": 32,
   "metadata": {
    "collapsed": true
   },
   "outputs": [],
   "source": [
    "high_heatmap = high_heatmap_filtered[['n_seqs_ranked','largest_ranked','orf_ranked','score_ranked','BUSCO_ranked','unique_kmers_ranked']]"
   ]
  },
  {
   "cell_type": "code",
   "execution_count": 33,
   "metadata": {},
   "outputs": [
    {
     "name": "stderr",
     "output_type": "stream",
     "text": [
      "/Users/johnsolk/anaconda3/lib/python3.6/site-packages/ipykernel_launcher.py:1: SettingWithCopyWarning: \n",
      "A value is trying to be set on a copy of a slice from a DataFrame.\n",
      "Try using .loc[row_indexer,col_indexer] = value instead\n",
      "\n",
      "See the caveats in the documentation: http://pandas.pydata.org/pandas-docs/stable/indexing.html#indexing-view-versus-copy\n",
      "  \"\"\"Entry point for launching an IPython kernel.\n"
     ]
    }
   ],
   "source": [
    "high_heatmap['SampleName_Phylum'] = str_join(high_heatmap_filtered, ' - ', 'SampleName', 'Phylum')"
   ]
  },
  {
   "cell_type": "code",
   "execution_count": 34,
   "metadata": {},
   "outputs": [
    {
     "data": {
      "text/html": [
       "<div>\n",
       "<style scoped>\n",
       "    .dataframe tbody tr th:only-of-type {\n",
       "        vertical-align: middle;\n",
       "    }\n",
       "\n",
       "    .dataframe tbody tr th {\n",
       "        vertical-align: top;\n",
       "    }\n",
       "\n",
       "    .dataframe thead th {\n",
       "        text-align: right;\n",
       "    }\n",
       "</style>\n",
       "<table border=\"1\" class=\"dataframe\">\n",
       "  <thead>\n",
       "    <tr style=\"text-align: right;\">\n",
       "      <th></th>\n",
       "      <th>n_seqs_ranked</th>\n",
       "      <th>largest_ranked</th>\n",
       "      <th>orf_ranked</th>\n",
       "      <th>score_ranked</th>\n",
       "      <th>BUSCO_ranked</th>\n",
       "      <th>unique_kmers_ranked</th>\n",
       "      <th>SampleName_Phylum</th>\n",
       "    </tr>\n",
       "  </thead>\n",
       "  <tbody>\n",
       "    <tr>\n",
       "      <th>10</th>\n",
       "      <td>77.121212</td>\n",
       "      <td>90.606061</td>\n",
       "      <td>15.303030</td>\n",
       "      <td>18.181818</td>\n",
       "      <td>92.424242</td>\n",
       "      <td>84.545455</td>\n",
       "      <td>MMETSP0014 - Bacillariophyta</td>\n",
       "    </tr>\n",
       "    <tr>\n",
       "      <th>11</th>\n",
       "      <td>77.727273</td>\n",
       "      <td>75.606061</td>\n",
       "      <td>16.969697</td>\n",
       "      <td>14.545455</td>\n",
       "      <td>86.893939</td>\n",
       "      <td>86.666667</td>\n",
       "      <td>MMETSP0015 - Bacillariophyta</td>\n",
       "    </tr>\n",
       "    <tr>\n",
       "      <th>21</th>\n",
       "      <td>82.272727</td>\n",
       "      <td>97.727273</td>\n",
       "      <td>29.696970</td>\n",
       "      <td>22.272727</td>\n",
       "      <td>97.424242</td>\n",
       "      <td>80.151515</td>\n",
       "      <td>MMETSP0034 - Chlorophyta</td>\n",
       "    </tr>\n",
       "    <tr>\n",
       "      <th>23</th>\n",
       "      <td>96.818182</td>\n",
       "      <td>98.787879</td>\n",
       "      <td>7.575758</td>\n",
       "      <td>5.909091</td>\n",
       "      <td>76.893939</td>\n",
       "      <td>97.424242</td>\n",
       "      <td>MMETSP0039 - Euglenozoa</td>\n",
       "    </tr>\n",
       "    <tr>\n",
       "      <th>31</th>\n",
       "      <td>80.454545</td>\n",
       "      <td>81.515152</td>\n",
       "      <td>71.969697</td>\n",
       "      <td>72.878788</td>\n",
       "      <td>88.030303</td>\n",
       "      <td>78.484848</td>\n",
       "      <td>MMETSP0047 - Cryptophyta</td>\n",
       "    </tr>\n",
       "    <tr>\n",
       "      <th>82</th>\n",
       "      <td>94.545455</td>\n",
       "      <td>80.757576</td>\n",
       "      <td>93.181818</td>\n",
       "      <td>59.545455</td>\n",
       "      <td>86.893939</td>\n",
       "      <td>95.606061</td>\n",
       "      <td>MMETSP0120 - Dinophyta</td>\n",
       "    </tr>\n",
       "    <tr>\n",
       "      <th>192</th>\n",
       "      <td>98.636364</td>\n",
       "      <td>86.515152</td>\n",
       "      <td>71.515152</td>\n",
       "      <td>30.757576</td>\n",
       "      <td>89.166667</td>\n",
       "      <td>99.696970</td>\n",
       "      <td>MMETSP0359 - Dinophyta</td>\n",
       "    </tr>\n",
       "    <tr>\n",
       "      <th>194</th>\n",
       "      <td>98.939394</td>\n",
       "      <td>82.424242</td>\n",
       "      <td>69.090909</td>\n",
       "      <td>24.242424</td>\n",
       "      <td>91.287879</td>\n",
       "      <td>99.848485</td>\n",
       "      <td>MMETSP0361 - Dinophyta</td>\n",
       "    </tr>\n",
       "    <tr>\n",
       "      <th>240</th>\n",
       "      <td>78.181818</td>\n",
       "      <td>86.060606</td>\n",
       "      <td>77.727273</td>\n",
       "      <td>90.454545</td>\n",
       "      <td>81.212121</td>\n",
       "      <td>82.878788</td>\n",
       "      <td>MMETSP0484 - Cryptophyta</td>\n",
       "    </tr>\n",
       "    <tr>\n",
       "      <th>426</th>\n",
       "      <td>80.909091</td>\n",
       "      <td>94.090909</td>\n",
       "      <td>78.636364</td>\n",
       "      <td>31.515152</td>\n",
       "      <td>86.363636</td>\n",
       "      <td>79.545455</td>\n",
       "      <td>MMETSP0986 - Unknown</td>\n",
       "    </tr>\n",
       "    <tr>\n",
       "      <th>427</th>\n",
       "      <td>81.666667</td>\n",
       "      <td>95.000000</td>\n",
       "      <td>77.878788</td>\n",
       "      <td>34.090909</td>\n",
       "      <td>90.378788</td>\n",
       "      <td>80.909091</td>\n",
       "      <td>MMETSP0987 - Unknown</td>\n",
       "    </tr>\n",
       "    <tr>\n",
       "      <th>429</th>\n",
       "      <td>81.515152</td>\n",
       "      <td>81.666667</td>\n",
       "      <td>78.787879</td>\n",
       "      <td>38.333333</td>\n",
       "      <td>90.984848</td>\n",
       "      <td>83.333333</td>\n",
       "      <td>MMETSP0989 - Unknown</td>\n",
       "    </tr>\n",
       "  </tbody>\n",
       "</table>\n",
       "</div>"
      ],
      "text/plain": [
       "     n_seqs_ranked  largest_ranked  orf_ranked  score_ranked  BUSCO_ranked  \\\n",
       "10       77.121212       90.606061   15.303030     18.181818     92.424242   \n",
       "11       77.727273       75.606061   16.969697     14.545455     86.893939   \n",
       "21       82.272727       97.727273   29.696970     22.272727     97.424242   \n",
       "23       96.818182       98.787879    7.575758      5.909091     76.893939   \n",
       "31       80.454545       81.515152   71.969697     72.878788     88.030303   \n",
       "82       94.545455       80.757576   93.181818     59.545455     86.893939   \n",
       "192      98.636364       86.515152   71.515152     30.757576     89.166667   \n",
       "194      98.939394       82.424242   69.090909     24.242424     91.287879   \n",
       "240      78.181818       86.060606   77.727273     90.454545     81.212121   \n",
       "426      80.909091       94.090909   78.636364     31.515152     86.363636   \n",
       "427      81.666667       95.000000   77.878788     34.090909     90.378788   \n",
       "429      81.515152       81.666667   78.787879     38.333333     90.984848   \n",
       "\n",
       "     unique_kmers_ranked             SampleName_Phylum  \n",
       "10             84.545455  MMETSP0014 - Bacillariophyta  \n",
       "11             86.666667  MMETSP0015 - Bacillariophyta  \n",
       "21             80.151515      MMETSP0034 - Chlorophyta  \n",
       "23             97.424242       MMETSP0039 - Euglenozoa  \n",
       "31             78.484848      MMETSP0047 - Cryptophyta  \n",
       "82             95.606061        MMETSP0120 - Dinophyta  \n",
       "192            99.696970        MMETSP0359 - Dinophyta  \n",
       "194            99.848485        MMETSP0361 - Dinophyta  \n",
       "240            82.878788      MMETSP0484 - Cryptophyta  \n",
       "426            79.545455          MMETSP0986 - Unknown  \n",
       "427            80.909091          MMETSP0987 - Unknown  \n",
       "429            83.333333          MMETSP0989 - Unknown  "
      ]
     },
     "execution_count": 34,
     "metadata": {},
     "output_type": "execute_result"
    }
   ],
   "source": [
    "high_heatmap"
   ]
  },
  {
   "cell_type": "code",
   "execution_count": 35,
   "metadata": {
    "collapsed": true
   },
   "outputs": [],
   "source": [
    "high_heatmap = high_heatmap.set_index('SampleName_Phylum')"
   ]
  },
  {
   "cell_type": "code",
   "execution_count": 36,
   "metadata": {},
   "outputs": [
    {
     "data": {
      "text/plain": [
       "Index(['n_seqs_ranked', 'largest_ranked', 'orf_ranked', 'score_ranked',\n",
       "       'BUSCO_ranked', 'unique_kmers_ranked'],\n",
       "      dtype='object')"
      ]
     },
     "execution_count": 36,
     "metadata": {},
     "output_type": "execute_result"
    }
   ],
   "source": [
    "high_heatmap.columns"
   ]
  },
  {
   "cell_type": "code",
   "execution_count": 37,
   "metadata": {},
   "outputs": [
    {
     "data": {
      "text/html": [
       "<div>\n",
       "<style scoped>\n",
       "    .dataframe tbody tr th:only-of-type {\n",
       "        vertical-align: middle;\n",
       "    }\n",
       "\n",
       "    .dataframe tbody tr th {\n",
       "        vertical-align: top;\n",
       "    }\n",
       "\n",
       "    .dataframe thead th {\n",
       "        text-align: right;\n",
       "    }\n",
       "</style>\n",
       "<table border=\"1\" class=\"dataframe\">\n",
       "  <thead>\n",
       "    <tr style=\"text-align: right;\">\n",
       "      <th></th>\n",
       "      <th>n_seqs_ranked</th>\n",
       "      <th>largest_ranked</th>\n",
       "      <th>orf_ranked</th>\n",
       "      <th>score_ranked</th>\n",
       "      <th>BUSCO_ranked</th>\n",
       "      <th>unique_kmers_ranked</th>\n",
       "    </tr>\n",
       "    <tr>\n",
       "      <th>SampleName_Phylum</th>\n",
       "      <th></th>\n",
       "      <th></th>\n",
       "      <th></th>\n",
       "      <th></th>\n",
       "      <th></th>\n",
       "      <th></th>\n",
       "    </tr>\n",
       "  </thead>\n",
       "  <tbody>\n",
       "    <tr>\n",
       "      <th>MMETSP0014 - Bacillariophyta</th>\n",
       "      <td>77.121212</td>\n",
       "      <td>90.606061</td>\n",
       "      <td>15.303030</td>\n",
       "      <td>18.181818</td>\n",
       "      <td>92.424242</td>\n",
       "      <td>84.545455</td>\n",
       "    </tr>\n",
       "    <tr>\n",
       "      <th>MMETSP0015 - Bacillariophyta</th>\n",
       "      <td>77.727273</td>\n",
       "      <td>75.606061</td>\n",
       "      <td>16.969697</td>\n",
       "      <td>14.545455</td>\n",
       "      <td>86.893939</td>\n",
       "      <td>86.666667</td>\n",
       "    </tr>\n",
       "    <tr>\n",
       "      <th>MMETSP0034 - Chlorophyta</th>\n",
       "      <td>82.272727</td>\n",
       "      <td>97.727273</td>\n",
       "      <td>29.696970</td>\n",
       "      <td>22.272727</td>\n",
       "      <td>97.424242</td>\n",
       "      <td>80.151515</td>\n",
       "    </tr>\n",
       "    <tr>\n",
       "      <th>MMETSP0039 - Euglenozoa</th>\n",
       "      <td>96.818182</td>\n",
       "      <td>98.787879</td>\n",
       "      <td>7.575758</td>\n",
       "      <td>5.909091</td>\n",
       "      <td>76.893939</td>\n",
       "      <td>97.424242</td>\n",
       "    </tr>\n",
       "    <tr>\n",
       "      <th>MMETSP0047 - Cryptophyta</th>\n",
       "      <td>80.454545</td>\n",
       "      <td>81.515152</td>\n",
       "      <td>71.969697</td>\n",
       "      <td>72.878788</td>\n",
       "      <td>88.030303</td>\n",
       "      <td>78.484848</td>\n",
       "    </tr>\n",
       "    <tr>\n",
       "      <th>MMETSP0120 - Dinophyta</th>\n",
       "      <td>94.545455</td>\n",
       "      <td>80.757576</td>\n",
       "      <td>93.181818</td>\n",
       "      <td>59.545455</td>\n",
       "      <td>86.893939</td>\n",
       "      <td>95.606061</td>\n",
       "    </tr>\n",
       "    <tr>\n",
       "      <th>MMETSP0359 - Dinophyta</th>\n",
       "      <td>98.636364</td>\n",
       "      <td>86.515152</td>\n",
       "      <td>71.515152</td>\n",
       "      <td>30.757576</td>\n",
       "      <td>89.166667</td>\n",
       "      <td>99.696970</td>\n",
       "    </tr>\n",
       "    <tr>\n",
       "      <th>MMETSP0361 - Dinophyta</th>\n",
       "      <td>98.939394</td>\n",
       "      <td>82.424242</td>\n",
       "      <td>69.090909</td>\n",
       "      <td>24.242424</td>\n",
       "      <td>91.287879</td>\n",
       "      <td>99.848485</td>\n",
       "    </tr>\n",
       "    <tr>\n",
       "      <th>MMETSP0484 - Cryptophyta</th>\n",
       "      <td>78.181818</td>\n",
       "      <td>86.060606</td>\n",
       "      <td>77.727273</td>\n",
       "      <td>90.454545</td>\n",
       "      <td>81.212121</td>\n",
       "      <td>82.878788</td>\n",
       "    </tr>\n",
       "    <tr>\n",
       "      <th>MMETSP0986 - Unknown</th>\n",
       "      <td>80.909091</td>\n",
       "      <td>94.090909</td>\n",
       "      <td>78.636364</td>\n",
       "      <td>31.515152</td>\n",
       "      <td>86.363636</td>\n",
       "      <td>79.545455</td>\n",
       "    </tr>\n",
       "    <tr>\n",
       "      <th>MMETSP0987 - Unknown</th>\n",
       "      <td>81.666667</td>\n",
       "      <td>95.000000</td>\n",
       "      <td>77.878788</td>\n",
       "      <td>34.090909</td>\n",
       "      <td>90.378788</td>\n",
       "      <td>80.909091</td>\n",
       "    </tr>\n",
       "    <tr>\n",
       "      <th>MMETSP0989 - Unknown</th>\n",
       "      <td>81.515152</td>\n",
       "      <td>81.666667</td>\n",
       "      <td>78.787879</td>\n",
       "      <td>38.333333</td>\n",
       "      <td>90.984848</td>\n",
       "      <td>83.333333</td>\n",
       "    </tr>\n",
       "  </tbody>\n",
       "</table>\n",
       "</div>"
      ],
      "text/plain": [
       "                              n_seqs_ranked  largest_ranked  orf_ranked  \\\n",
       "SampleName_Phylum                                                         \n",
       "MMETSP0014 - Bacillariophyta      77.121212       90.606061   15.303030   \n",
       "MMETSP0015 - Bacillariophyta      77.727273       75.606061   16.969697   \n",
       "MMETSP0034 - Chlorophyta          82.272727       97.727273   29.696970   \n",
       "MMETSP0039 - Euglenozoa           96.818182       98.787879    7.575758   \n",
       "MMETSP0047 - Cryptophyta          80.454545       81.515152   71.969697   \n",
       "MMETSP0120 - Dinophyta            94.545455       80.757576   93.181818   \n",
       "MMETSP0359 - Dinophyta            98.636364       86.515152   71.515152   \n",
       "MMETSP0361 - Dinophyta            98.939394       82.424242   69.090909   \n",
       "MMETSP0484 - Cryptophyta          78.181818       86.060606   77.727273   \n",
       "MMETSP0986 - Unknown              80.909091       94.090909   78.636364   \n",
       "MMETSP0987 - Unknown              81.666667       95.000000   77.878788   \n",
       "MMETSP0989 - Unknown              81.515152       81.666667   78.787879   \n",
       "\n",
       "                              score_ranked  BUSCO_ranked  unique_kmers_ranked  \n",
       "SampleName_Phylum                                                              \n",
       "MMETSP0014 - Bacillariophyta     18.181818     92.424242            84.545455  \n",
       "MMETSP0015 - Bacillariophyta     14.545455     86.893939            86.666667  \n",
       "MMETSP0034 - Chlorophyta         22.272727     97.424242            80.151515  \n",
       "MMETSP0039 - Euglenozoa           5.909091     76.893939            97.424242  \n",
       "MMETSP0047 - Cryptophyta         72.878788     88.030303            78.484848  \n",
       "MMETSP0120 - Dinophyta           59.545455     86.893939            95.606061  \n",
       "MMETSP0359 - Dinophyta           30.757576     89.166667            99.696970  \n",
       "MMETSP0361 - Dinophyta           24.242424     91.287879            99.848485  \n",
       "MMETSP0484 - Cryptophyta         90.454545     81.212121            82.878788  \n",
       "MMETSP0986 - Unknown             31.515152     86.363636            79.545455  \n",
       "MMETSP0987 - Unknown             34.090909     90.378788            80.909091  \n",
       "MMETSP0989 - Unknown             38.333333     90.984848            83.333333  "
      ]
     },
     "execution_count": 37,
     "metadata": {},
     "output_type": "execute_result"
    }
   ],
   "source": [
    "high_heatmap"
   ]
  },
  {
   "cell_type": "code",
   "execution_count": 38,
   "metadata": {},
   "outputs": [
    {
     "data": {
      "text/plain": [
       "(12, 6)"
      ]
     },
     "execution_count": 38,
     "metadata": {},
     "output_type": "execute_result"
    }
   ],
   "source": [
    "high_heatmap.shape"
   ]
  },
  {
   "cell_type": "markdown",
   "metadata": {},
   "source": [
    "# Subsetting Low"
   ]
  },
  {
   "cell_type": "markdown",
   "metadata": {},
   "source": [
    "Metrics used:\n",
    "* 'n_seqs'\n",
    "* 'largest.x'\n",
    "* 'DIB.Complete_BUSCO_perc_euk_v3'\n",
    "* 'dib_assembly_unique_kmers'\n",
    "\n",
    "Final list, < 25 percentile in all four metrics\n",
    "ranked among 660 transcriptomes (excluding duplicates)"
   ]
  },
  {
   "cell_type": "code",
   "execution_count": 39,
   "metadata": {},
   "outputs": [
    {
     "name": "stdout",
     "output_type": "stream",
     "text": [
      "(660, 8)\n"
     ]
    }
   ],
   "source": [
    "low_all_table = all_metrics\n",
    "low_all_table = low_all_table[['SampleName','Phylum','n_seqs','score','mean_orf_percent','largest.x','DIB.Complete_BUSCO_perc_euk_v3','dib_assembly_unique_kmers']]\n",
    "print(low_all_table.shape)"
   ]
  },
  {
   "cell_type": "code",
   "execution_count": 40,
   "metadata": {},
   "outputs": [
    {
     "name": "stdout",
     "output_type": "stream",
     "text": [
      "27381.0\n",
      "0.27368\n",
      "77.94447\n",
      "8059.0\n",
      "56.10561056\n",
      "17382400.75\n"
     ]
    }
   ],
   "source": [
    "n_seqs_cutoff = high_all_table['n_seqs'].describe()[['25%']][0]\n",
    "print(n_seqs_cutoff)\n",
    "score_cutoff = high_all_table['score'].describe()[['25%']][0]\n",
    "print(score_cutoff)\n",
    "orf_cutoff = high_all_table['mean_orf_percent'].describe()[['25%']][0]\n",
    "print(orf_cutoff)\n",
    "largest_contig_cutoff = high_all_table['largest.x'].describe()[['25%']][0]\n",
    "print(largest_contig_cutoff)\n",
    "BUSCO_cutoff = high_all_table['DIB.Complete_BUSCO_perc_euk_v3'].describe()[['25%']][0]\n",
    "print(BUSCO_cutoff)\n",
    "unique_kmers_cutoff = high_all_table['dib_assembly_unique_kmers'].describe()[['25%']][0]\n",
    "print(unique_kmers_cutoff)"
   ]
  },
  {
   "cell_type": "code",
   "execution_count": 41,
   "metadata": {},
   "outputs": [
    {
     "name": "stderr",
     "output_type": "stream",
     "text": [
      "/Users/johnsolk/anaconda3/lib/python3.6/site-packages/ipykernel_launcher.py:2: SettingWithCopyWarning: \n",
      "A value is trying to be set on a copy of a slice from a DataFrame.\n",
      "Try using .loc[row_indexer,col_indexer] = value instead\n",
      "\n",
      "See the caveats in the documentation: http://pandas.pydata.org/pandas-docs/stable/indexing.html#indexing-view-versus-copy\n",
      "  \n",
      "/Users/johnsolk/anaconda3/lib/python3.6/site-packages/ipykernel_launcher.py:3: SettingWithCopyWarning: \n",
      "A value is trying to be set on a copy of a slice from a DataFrame.\n",
      "Try using .loc[row_indexer,col_indexer] = value instead\n",
      "\n",
      "See the caveats in the documentation: http://pandas.pydata.org/pandas-docs/stable/indexing.html#indexing-view-versus-copy\n",
      "  This is separate from the ipykernel package so we can avoid doing imports until\n",
      "/Users/johnsolk/anaconda3/lib/python3.6/site-packages/ipykernel_launcher.py:4: SettingWithCopyWarning: \n",
      "A value is trying to be set on a copy of a slice from a DataFrame.\n",
      "Try using .loc[row_indexer,col_indexer] = value instead\n",
      "\n",
      "See the caveats in the documentation: http://pandas.pydata.org/pandas-docs/stable/indexing.html#indexing-view-versus-copy\n",
      "  after removing the cwd from sys.path.\n",
      "/Users/johnsolk/anaconda3/lib/python3.6/site-packages/ipykernel_launcher.py:5: SettingWithCopyWarning: \n",
      "A value is trying to be set on a copy of a slice from a DataFrame.\n",
      "Try using .loc[row_indexer,col_indexer] = value instead\n",
      "\n",
      "See the caveats in the documentation: http://pandas.pydata.org/pandas-docs/stable/indexing.html#indexing-view-versus-copy\n",
      "  \"\"\"\n",
      "/Users/johnsolk/anaconda3/lib/python3.6/site-packages/ipykernel_launcher.py:6: SettingWithCopyWarning: \n",
      "A value is trying to be set on a copy of a slice from a DataFrame.\n",
      "Try using .loc[row_indexer,col_indexer] = value instead\n",
      "\n",
      "See the caveats in the documentation: http://pandas.pydata.org/pandas-docs/stable/indexing.html#indexing-view-versus-copy\n",
      "  \n",
      "/Users/johnsolk/anaconda3/lib/python3.6/site-packages/ipykernel_launcher.py:7: SettingWithCopyWarning: \n",
      "A value is trying to be set on a copy of a slice from a DataFrame.\n",
      "Try using .loc[row_indexer,col_indexer] = value instead\n",
      "\n",
      "See the caveats in the documentation: http://pandas.pydata.org/pandas-docs/stable/indexing.html#indexing-view-versus-copy\n",
      "  import sys\n"
     ]
    }
   ],
   "source": [
    "low_all_table_ranked = low_all_table\n",
    "low_all_table_ranked['n_seqs_ranked'] = (low_all_table_ranked['n_seqs'].rank(ascending=1)/660)*100\n",
    "low_all_table_ranked['largest_ranked'] = (low_all_table_ranked['largest.x'].rank(ascending=1)/660)*100\n",
    "low_all_table_ranked['score_ranked'] = (low_all_table_ranked['score'].rank(ascending=1)/660)*100\n",
    "low_all_table_ranked['unique_kmers_ranked'] = (low_all_table_ranked['dib_assembly_unique_kmers'].rank(ascending=1)/660)*100\n",
    "low_all_table_ranked['BUSCO_ranked'] = (low_all_table_ranked['DIB.Complete_BUSCO_perc_euk_v3'].rank(ascending=1)/660)*100\n",
    "low_all_table_ranked['orf_ranked'] = (low_all_table_ranked['mean_orf_percent'].rank(ascending=1)/660)*100"
   ]
  },
  {
   "cell_type": "code",
   "execution_count": 42,
   "metadata": {},
   "outputs": [
    {
     "data": {
      "text/plain": [
       "56.105610560000002"
      ]
     },
     "execution_count": 42,
     "metadata": {},
     "output_type": "execute_result"
    }
   ],
   "source": [
    "BUSCO_cutoff"
   ]
  },
  {
   "cell_type": "code",
   "execution_count": 43,
   "metadata": {},
   "outputs": [
    {
     "data": {
      "text/html": [
       "<div>\n",
       "<style scoped>\n",
       "    .dataframe tbody tr th:only-of-type {\n",
       "        vertical-align: middle;\n",
       "    }\n",
       "\n",
       "    .dataframe tbody tr th {\n",
       "        vertical-align: top;\n",
       "    }\n",
       "\n",
       "    .dataframe thead th {\n",
       "        text-align: right;\n",
       "    }\n",
       "</style>\n",
       "<table border=\"1\" class=\"dataframe\">\n",
       "  <thead>\n",
       "    <tr style=\"text-align: right;\">\n",
       "      <th></th>\n",
       "      <th>SampleName</th>\n",
       "      <th>Phylum</th>\n",
       "      <th>n_seqs</th>\n",
       "      <th>score</th>\n",
       "      <th>mean_orf_percent</th>\n",
       "      <th>largest.x</th>\n",
       "      <th>DIB.Complete_BUSCO_perc_euk_v3</th>\n",
       "      <th>dib_assembly_unique_kmers</th>\n",
       "      <th>n_seqs_ranked</th>\n",
       "      <th>largest_ranked</th>\n",
       "      <th>score_ranked</th>\n",
       "      <th>unique_kmers_ranked</th>\n",
       "      <th>BUSCO_ranked</th>\n",
       "      <th>orf_ranked</th>\n",
       "    </tr>\n",
       "  </thead>\n",
       "  <tbody>\n",
       "    <tr>\n",
       "      <th>0</th>\n",
       "      <td>MMETSP0004</td>\n",
       "      <td>Ochrophyta</td>\n",
       "      <td>33559.0</td>\n",
       "      <td>0.38093</td>\n",
       "      <td>81.26381</td>\n",
       "      <td>17276.0</td>\n",
       "      <td>69.636964</td>\n",
       "      <td>19837761</td>\n",
       "      <td>43.181818</td>\n",
       "      <td>88.030303</td>\n",
       "      <td>76.666667</td>\n",
       "      <td>33.484848</td>\n",
       "      <td>57.121212</td>\n",
       "      <td>40.606061</td>\n",
       "    </tr>\n",
       "    <tr>\n",
       "      <th>1</th>\n",
       "      <td>MMETSP0005</td>\n",
       "      <td>Ochrophyta</td>\n",
       "      <td>32824.0</td>\n",
       "      <td>0.38214</td>\n",
       "      <td>80.15649</td>\n",
       "      <td>11058.0</td>\n",
       "      <td>67.326733</td>\n",
       "      <td>20350054</td>\n",
       "      <td>40.303030</td>\n",
       "      <td>47.575758</td>\n",
       "      <td>77.121212</td>\n",
       "      <td>35.151515</td>\n",
       "      <td>50.454545</td>\n",
       "      <td>35.000000</td>\n",
       "    </tr>\n",
       "    <tr>\n",
       "      <th>2</th>\n",
       "      <td>MMETSP0006</td>\n",
       "      <td>Haptophyta</td>\n",
       "      <td>47463.0</td>\n",
       "      <td>0.38143</td>\n",
       "      <td>80.79508</td>\n",
       "      <td>15370.0</td>\n",
       "      <td>55.775578</td>\n",
       "      <td>25286098</td>\n",
       "      <td>67.121212</td>\n",
       "      <td>80.303030</td>\n",
       "      <td>76.818182</td>\n",
       "      <td>53.030303</td>\n",
       "      <td>24.621212</td>\n",
       "      <td>37.878788</td>\n",
       "    </tr>\n",
       "    <tr>\n",
       "      <th>3</th>\n",
       "      <td>MMETSP0007</td>\n",
       "      <td>Haptophyta</td>\n",
       "      <td>30922.0</td>\n",
       "      <td>0.27164</td>\n",
       "      <td>71.01950</td>\n",
       "      <td>6567.0</td>\n",
       "      <td>30.363036</td>\n",
       "      <td>12496793</td>\n",
       "      <td>33.939394</td>\n",
       "      <td>13.181818</td>\n",
       "      <td>24.469697</td>\n",
       "      <td>12.727273</td>\n",
       "      <td>7.121212</td>\n",
       "      <td>9.242424</td>\n",
       "    </tr>\n",
       "    <tr>\n",
       "      <th>6</th>\n",
       "      <td>MMETSP0009</td>\n",
       "      <td>Bacillariophyta</td>\n",
       "      <td>54275.0</td>\n",
       "      <td>0.25534</td>\n",
       "      <td>80.37076</td>\n",
       "      <td>10587.0</td>\n",
       "      <td>46.534653</td>\n",
       "      <td>30074483</td>\n",
       "      <td>73.787879</td>\n",
       "      <td>45.151515</td>\n",
       "      <td>20.757576</td>\n",
       "      <td>67.272727</td>\n",
       "      <td>15.075758</td>\n",
       "      <td>35.909091</td>\n",
       "    </tr>\n",
       "  </tbody>\n",
       "</table>\n",
       "</div>"
      ],
      "text/plain": [
       "   SampleName           Phylum   n_seqs    score  mean_orf_percent  largest.x  \\\n",
       "0  MMETSP0004       Ochrophyta  33559.0  0.38093          81.26381    17276.0   \n",
       "1  MMETSP0005       Ochrophyta  32824.0  0.38214          80.15649    11058.0   \n",
       "2  MMETSP0006       Haptophyta  47463.0  0.38143          80.79508    15370.0   \n",
       "3  MMETSP0007       Haptophyta  30922.0  0.27164          71.01950     6567.0   \n",
       "6  MMETSP0009  Bacillariophyta  54275.0  0.25534          80.37076    10587.0   \n",
       "\n",
       "   DIB.Complete_BUSCO_perc_euk_v3  dib_assembly_unique_kmers  n_seqs_ranked  \\\n",
       "0                       69.636964                   19837761      43.181818   \n",
       "1                       67.326733                   20350054      40.303030   \n",
       "2                       55.775578                   25286098      67.121212   \n",
       "3                       30.363036                   12496793      33.939394   \n",
       "6                       46.534653                   30074483      73.787879   \n",
       "\n",
       "   largest_ranked  score_ranked  unique_kmers_ranked  BUSCO_ranked  orf_ranked  \n",
       "0       88.030303     76.666667            33.484848     57.121212   40.606061  \n",
       "1       47.575758     77.121212            35.151515     50.454545   35.000000  \n",
       "2       80.303030     76.818182            53.030303     24.621212   37.878788  \n",
       "3       13.181818     24.469697            12.727273      7.121212    9.242424  \n",
       "6       45.151515     20.757576            67.272727     15.075758   35.909091  "
      ]
     },
     "execution_count": 43,
     "metadata": {},
     "output_type": "execute_result"
    }
   ],
   "source": [
    "low_all_table_ranked.head()"
   ]
  },
  {
   "cell_type": "code",
   "execution_count": 44,
   "metadata": {},
   "outputs": [
    {
     "data": {
      "text/plain": [
       "(660, 14)"
      ]
     },
     "execution_count": 44,
     "metadata": {},
     "output_type": "execute_result"
    }
   ],
   "source": [
    "low_all_table_ranked.shape"
   ]
  },
  {
   "cell_type": "code",
   "execution_count": 45,
   "metadata": {
    "collapsed": true
   },
   "outputs": [],
   "source": [
    "low_heatmap_filtered = low_all_table_ranked[(low_all_table_ranked['DIB.Complete_BUSCO_perc_euk_v3'] < BUSCO_cutoff) &\n",
    "                                            (low_all_table_ranked['dib_assembly_unique_kmers'] < unique_kmers_cutoff) &\n",
    "                                            (low_all_table_ranked['n_seqs'] < n_seqs_cutoff) &\n",
    "                                            (low_all_table_ranked['largest.x'] < largest_contig_cutoff) &\n",
    "                                            (low_all_table['score'] < score_cutoff)]"
   ]
  },
  {
   "cell_type": "code",
   "execution_count": 46,
   "metadata": {},
   "outputs": [
    {
     "data": {
      "text/plain": [
       "(30, 14)"
      ]
     },
     "execution_count": 46,
     "metadata": {},
     "output_type": "execute_result"
    }
   ],
   "source": [
    "low_heatmap_filtered.shape"
   ]
  },
  {
   "cell_type": "code",
   "execution_count": 47,
   "metadata": {
    "collapsed": true
   },
   "outputs": [],
   "source": [
    "low_heatmap_filtered = low_heatmap_filtered[(low_heatmap_filtered['unique_kmers_ranked'] < 10) & \n",
    "                                            (low_heatmap_filtered['n_seqs_ranked'] < 10) & \n",
    "                                            (low_heatmap_filtered['BUSCO_ranked'] < 10)]"
   ]
  },
  {
   "cell_type": "code",
   "execution_count": 48,
   "metadata": {},
   "outputs": [
    {
     "data": {
      "text/plain": [
       "(15, 14)"
      ]
     },
     "execution_count": 48,
     "metadata": {},
     "output_type": "execute_result"
    }
   ],
   "source": [
    "low_heatmap_filtered.shape"
   ]
  },
  {
   "cell_type": "code",
   "execution_count": 49,
   "metadata": {},
   "outputs": [
    {
     "data": {
      "text/html": [
       "<div>\n",
       "<style scoped>\n",
       "    .dataframe tbody tr th:only-of-type {\n",
       "        vertical-align: middle;\n",
       "    }\n",
       "\n",
       "    .dataframe tbody tr th {\n",
       "        vertical-align: top;\n",
       "    }\n",
       "\n",
       "    .dataframe thead th {\n",
       "        text-align: right;\n",
       "    }\n",
       "</style>\n",
       "<table border=\"1\" class=\"dataframe\">\n",
       "  <thead>\n",
       "    <tr style=\"text-align: right;\">\n",
       "      <th></th>\n",
       "      <th>SampleName</th>\n",
       "      <th>Phylum</th>\n",
       "      <th>n_seqs</th>\n",
       "      <th>score</th>\n",
       "      <th>mean_orf_percent</th>\n",
       "      <th>largest.x</th>\n",
       "      <th>DIB.Complete_BUSCO_perc_euk_v3</th>\n",
       "      <th>dib_assembly_unique_kmers</th>\n",
       "      <th>n_seqs_ranked</th>\n",
       "      <th>largest_ranked</th>\n",
       "      <th>score_ranked</th>\n",
       "      <th>unique_kmers_ranked</th>\n",
       "      <th>BUSCO_ranked</th>\n",
       "      <th>orf_ranked</th>\n",
       "    </tr>\n",
       "  </thead>\n",
       "  <tbody>\n",
       "    <tr>\n",
       "      <th>28</th>\n",
       "      <td>MMETSP0044</td>\n",
       "      <td>Dinophyta</td>\n",
       "      <td>594.0</td>\n",
       "      <td>0.00465</td>\n",
       "      <td>92.68547</td>\n",
       "      <td>697.0</td>\n",
       "      <td>0.990099</td>\n",
       "      <td>135164</td>\n",
       "      <td>0.909091</td>\n",
       "      <td>0.606061</td>\n",
       "      <td>1.969697</td>\n",
       "      <td>1.060606</td>\n",
       "      <td>1.212121</td>\n",
       "      <td>92.575758</td>\n",
       "    </tr>\n",
       "    <tr>\n",
       "      <th>89</th>\n",
       "      <td>MMETSP0133</td>\n",
       "      <td>Dinophyta</td>\n",
       "      <td>15572.0</td>\n",
       "      <td>0.00205</td>\n",
       "      <td>86.28031</td>\n",
       "      <td>2571.0</td>\n",
       "      <td>10.891089</td>\n",
       "      <td>3938227</td>\n",
       "      <td>8.484848</td>\n",
       "      <td>2.272727</td>\n",
       "      <td>1.818182</td>\n",
       "      <td>2.878788</td>\n",
       "      <td>2.878788</td>\n",
       "      <td>66.060606</td>\n",
       "    </tr>\n",
       "    <tr>\n",
       "      <th>118</th>\n",
       "      <td>MMETSP0186</td>\n",
       "      <td>Cercozoa</td>\n",
       "      <td>1669.0</td>\n",
       "      <td>0.02341</td>\n",
       "      <td>92.62782</td>\n",
       "      <td>1956.0</td>\n",
       "      <td>1.650165</td>\n",
       "      <td>554862</td>\n",
       "      <td>1.363636</td>\n",
       "      <td>1.666667</td>\n",
       "      <td>2.272727</td>\n",
       "      <td>1.666667</td>\n",
       "      <td>1.515152</td>\n",
       "      <td>92.121212</td>\n",
       "    </tr>\n",
       "    <tr>\n",
       "      <th>145</th>\n",
       "      <td>MMETSP0225</td>\n",
       "      <td>Dinophyta</td>\n",
       "      <td>849.0</td>\n",
       "      <td>0.00144</td>\n",
       "      <td>84.00110</td>\n",
       "      <td>1118.0</td>\n",
       "      <td>0.330033</td>\n",
       "      <td>151884</td>\n",
       "      <td>1.060606</td>\n",
       "      <td>0.757576</td>\n",
       "      <td>1.666667</td>\n",
       "      <td>1.212121</td>\n",
       "      <td>0.909091</td>\n",
       "      <td>56.212121</td>\n",
       "    </tr>\n",
       "    <tr>\n",
       "      <th>148</th>\n",
       "      <td>MMETSP0229</td>\n",
       "      <td>Dinophyta</td>\n",
       "      <td>321.0</td>\n",
       "      <td>0.00071</td>\n",
       "      <td>85.08741</td>\n",
       "      <td>495.0</td>\n",
       "      <td>0.000000</td>\n",
       "      <td>75019</td>\n",
       "      <td>0.757576</td>\n",
       "      <td>0.303030</td>\n",
       "      <td>0.606061</td>\n",
       "      <td>0.757576</td>\n",
       "      <td>0.454545</td>\n",
       "      <td>61.515152</td>\n",
       "    </tr>\n",
       "    <tr>\n",
       "      <th>154</th>\n",
       "      <td>MMETSP0252</td>\n",
       "      <td>Dinophyta</td>\n",
       "      <td>4.0</td>\n",
       "      <td>0.00002</td>\n",
       "      <td>48.22044</td>\n",
       "      <td>682.0</td>\n",
       "      <td>0.000000</td>\n",
       "      <td>838</td>\n",
       "      <td>0.151515</td>\n",
       "      <td>0.454545</td>\n",
       "      <td>0.303030</td>\n",
       "      <td>0.151515</td>\n",
       "      <td>0.454545</td>\n",
       "      <td>2.121212</td>\n",
       "    </tr>\n",
       "    <tr>\n",
       "      <th>231</th>\n",
       "      <td>MMETSP0451</td>\n",
       "      <td>Dinophyta</td>\n",
       "      <td>4441.0</td>\n",
       "      <td>0.02350</td>\n",
       "      <td>85.64647</td>\n",
       "      <td>1774.0</td>\n",
       "      <td>11.221122</td>\n",
       "      <td>1651813</td>\n",
       "      <td>1.666667</td>\n",
       "      <td>0.909091</td>\n",
       "      <td>2.424242</td>\n",
       "      <td>2.121212</td>\n",
       "      <td>3.106061</td>\n",
       "      <td>64.242424</td>\n",
       "    </tr>\n",
       "    <tr>\n",
       "      <th>232</th>\n",
       "      <td>MMETSP0452</td>\n",
       "      <td>Dinophyta</td>\n",
       "      <td>19.0</td>\n",
       "      <td>0.00000</td>\n",
       "      <td>91.90509</td>\n",
       "      <td>286.0</td>\n",
       "      <td>0.000000</td>\n",
       "      <td>4560</td>\n",
       "      <td>0.303030</td>\n",
       "      <td>0.151515</td>\n",
       "      <td>0.151515</td>\n",
       "      <td>0.303030</td>\n",
       "      <td>0.454545</td>\n",
       "      <td>88.484848</td>\n",
       "    </tr>\n",
       "    <tr>\n",
       "      <th>279</th>\n",
       "      <td>MMETSP0719</td>\n",
       "      <td>Bacillariophyta</td>\n",
       "      <td>7884.0</td>\n",
       "      <td>0.18649</td>\n",
       "      <td>79.20223</td>\n",
       "      <td>5948.0</td>\n",
       "      <td>6.600660</td>\n",
       "      <td>2990388</td>\n",
       "      <td>1.969697</td>\n",
       "      <td>8.030303</td>\n",
       "      <td>6.969697</td>\n",
       "      <td>2.575758</td>\n",
       "      <td>2.575758</td>\n",
       "      <td>30.151515</td>\n",
       "    </tr>\n",
       "    <tr>\n",
       "      <th>386</th>\n",
       "      <td>MMETSP0932</td>\n",
       "      <td>Chlorophyta</td>\n",
       "      <td>4990.0</td>\n",
       "      <td>0.03437</td>\n",
       "      <td>92.64433</td>\n",
       "      <td>4451.0</td>\n",
       "      <td>3.630363</td>\n",
       "      <td>1764127</td>\n",
       "      <td>1.818182</td>\n",
       "      <td>4.393939</td>\n",
       "      <td>2.727273</td>\n",
       "      <td>2.272727</td>\n",
       "      <td>1.969697</td>\n",
       "      <td>92.272727</td>\n",
       "    </tr>\n",
       "    <tr>\n",
       "      <th>410</th>\n",
       "      <td>MMETSP0962</td>\n",
       "      <td>Labyrinthista</td>\n",
       "      <td>10585.0</td>\n",
       "      <td>0.25481</td>\n",
       "      <td>88.79362</td>\n",
       "      <td>4095.0</td>\n",
       "      <td>32.343234</td>\n",
       "      <td>4806435</td>\n",
       "      <td>4.242424</td>\n",
       "      <td>4.090909</td>\n",
       "      <td>20.454545</td>\n",
       "      <td>3.333333</td>\n",
       "      <td>7.878788</td>\n",
       "      <td>75.000000</td>\n",
       "    </tr>\n",
       "    <tr>\n",
       "      <th>534</th>\n",
       "      <td>MMETSP1131</td>\n",
       "      <td>Haptophyta</td>\n",
       "      <td>15320.0</td>\n",
       "      <td>0.21905</td>\n",
       "      <td>65.10619</td>\n",
       "      <td>4116.0</td>\n",
       "      <td>19.471947</td>\n",
       "      <td>7361403</td>\n",
       "      <td>8.333333</td>\n",
       "      <td>4.242424</td>\n",
       "      <td>12.121212</td>\n",
       "      <td>4.545455</td>\n",
       "      <td>4.772727</td>\n",
       "      <td>4.090909</td>\n",
       "    </tr>\n",
       "    <tr>\n",
       "      <th>545</th>\n",
       "      <td>MMETSP1147</td>\n",
       "      <td>Dinophyta</td>\n",
       "      <td>2542.0</td>\n",
       "      <td>0.00128</td>\n",
       "      <td>79.88785</td>\n",
       "      <td>2507.0</td>\n",
       "      <td>1.320132</td>\n",
       "      <td>522704</td>\n",
       "      <td>1.515152</td>\n",
       "      <td>2.121212</td>\n",
       "      <td>1.363636</td>\n",
       "      <td>1.515152</td>\n",
       "      <td>1.363636</td>\n",
       "      <td>33.181818</td>\n",
       "    </tr>\n",
       "    <tr>\n",
       "      <th>546</th>\n",
       "      <td>MMETSP1148</td>\n",
       "      <td>Dinophyta</td>\n",
       "      <td>119.0</td>\n",
       "      <td>0.00122</td>\n",
       "      <td>81.64455</td>\n",
       "      <td>2160.0</td>\n",
       "      <td>0.000000</td>\n",
       "      <td>24642</td>\n",
       "      <td>0.606061</td>\n",
       "      <td>1.969697</td>\n",
       "      <td>1.212121</td>\n",
       "      <td>0.606061</td>\n",
       "      <td>0.454545</td>\n",
       "      <td>43.939394</td>\n",
       "    </tr>\n",
       "    <tr>\n",
       "      <th>684</th>\n",
       "      <td>MMETSP1435</td>\n",
       "      <td>Bacillariophyta</td>\n",
       "      <td>8658.0</td>\n",
       "      <td>0.13799</td>\n",
       "      <td>77.23747</td>\n",
       "      <td>3421.0</td>\n",
       "      <td>15.841584</td>\n",
       "      <td>3055259</td>\n",
       "      <td>2.121212</td>\n",
       "      <td>2.878788</td>\n",
       "      <td>4.090909</td>\n",
       "      <td>2.727273</td>\n",
       "      <td>4.242424</td>\n",
       "      <td>22.727273</td>\n",
       "    </tr>\n",
       "  </tbody>\n",
       "</table>\n",
       "</div>"
      ],
      "text/plain": [
       "     SampleName           Phylum   n_seqs    score  mean_orf_percent  \\\n",
       "28   MMETSP0044        Dinophyta    594.0  0.00465          92.68547   \n",
       "89   MMETSP0133        Dinophyta  15572.0  0.00205          86.28031   \n",
       "118  MMETSP0186         Cercozoa   1669.0  0.02341          92.62782   \n",
       "145  MMETSP0225        Dinophyta    849.0  0.00144          84.00110   \n",
       "148  MMETSP0229        Dinophyta    321.0  0.00071          85.08741   \n",
       "154  MMETSP0252        Dinophyta      4.0  0.00002          48.22044   \n",
       "231  MMETSP0451        Dinophyta   4441.0  0.02350          85.64647   \n",
       "232  MMETSP0452        Dinophyta     19.0  0.00000          91.90509   \n",
       "279  MMETSP0719  Bacillariophyta   7884.0  0.18649          79.20223   \n",
       "386  MMETSP0932      Chlorophyta   4990.0  0.03437          92.64433   \n",
       "410  MMETSP0962    Labyrinthista  10585.0  0.25481          88.79362   \n",
       "534  MMETSP1131       Haptophyta  15320.0  0.21905          65.10619   \n",
       "545  MMETSP1147        Dinophyta   2542.0  0.00128          79.88785   \n",
       "546  MMETSP1148        Dinophyta    119.0  0.00122          81.64455   \n",
       "684  MMETSP1435  Bacillariophyta   8658.0  0.13799          77.23747   \n",
       "\n",
       "     largest.x  DIB.Complete_BUSCO_perc_euk_v3  dib_assembly_unique_kmers  \\\n",
       "28       697.0                        0.990099                     135164   \n",
       "89      2571.0                       10.891089                    3938227   \n",
       "118     1956.0                        1.650165                     554862   \n",
       "145     1118.0                        0.330033                     151884   \n",
       "148      495.0                        0.000000                      75019   \n",
       "154      682.0                        0.000000                        838   \n",
       "231     1774.0                       11.221122                    1651813   \n",
       "232      286.0                        0.000000                       4560   \n",
       "279     5948.0                        6.600660                    2990388   \n",
       "386     4451.0                        3.630363                    1764127   \n",
       "410     4095.0                       32.343234                    4806435   \n",
       "534     4116.0                       19.471947                    7361403   \n",
       "545     2507.0                        1.320132                     522704   \n",
       "546     2160.0                        0.000000                      24642   \n",
       "684     3421.0                       15.841584                    3055259   \n",
       "\n",
       "     n_seqs_ranked  largest_ranked  score_ranked  unique_kmers_ranked  \\\n",
       "28        0.909091        0.606061      1.969697             1.060606   \n",
       "89        8.484848        2.272727      1.818182             2.878788   \n",
       "118       1.363636        1.666667      2.272727             1.666667   \n",
       "145       1.060606        0.757576      1.666667             1.212121   \n",
       "148       0.757576        0.303030      0.606061             0.757576   \n",
       "154       0.151515        0.454545      0.303030             0.151515   \n",
       "231       1.666667        0.909091      2.424242             2.121212   \n",
       "232       0.303030        0.151515      0.151515             0.303030   \n",
       "279       1.969697        8.030303      6.969697             2.575758   \n",
       "386       1.818182        4.393939      2.727273             2.272727   \n",
       "410       4.242424        4.090909     20.454545             3.333333   \n",
       "534       8.333333        4.242424     12.121212             4.545455   \n",
       "545       1.515152        2.121212      1.363636             1.515152   \n",
       "546       0.606061        1.969697      1.212121             0.606061   \n",
       "684       2.121212        2.878788      4.090909             2.727273   \n",
       "\n",
       "     BUSCO_ranked  orf_ranked  \n",
       "28       1.212121   92.575758  \n",
       "89       2.878788   66.060606  \n",
       "118      1.515152   92.121212  \n",
       "145      0.909091   56.212121  \n",
       "148      0.454545   61.515152  \n",
       "154      0.454545    2.121212  \n",
       "231      3.106061   64.242424  \n",
       "232      0.454545   88.484848  \n",
       "279      2.575758   30.151515  \n",
       "386      1.969697   92.272727  \n",
       "410      7.878788   75.000000  \n",
       "534      4.772727    4.090909  \n",
       "545      1.363636   33.181818  \n",
       "546      0.454545   43.939394  \n",
       "684      4.242424   22.727273  "
      ]
     },
     "execution_count": 49,
     "metadata": {},
     "output_type": "execute_result"
    }
   ],
   "source": [
    "low_heatmap_filtered"
   ]
  },
  {
   "cell_type": "code",
   "execution_count": 50,
   "metadata": {},
   "outputs": [
    {
     "data": {
      "text/plain": [
       "['MMETSP0044',\n",
       " 'MMETSP0133',\n",
       " 'MMETSP0186',\n",
       " 'MMETSP0225',\n",
       " 'MMETSP0229',\n",
       " 'MMETSP0252',\n",
       " 'MMETSP0451',\n",
       " 'MMETSP0452',\n",
       " 'MMETSP0719',\n",
       " 'MMETSP0932',\n",
       " 'MMETSP0962',\n",
       " 'MMETSP1131',\n",
       " 'MMETSP1147',\n",
       " 'MMETSP1148',\n",
       " 'MMETSP1435']"
      ]
     },
     "execution_count": 50,
     "metadata": {},
     "output_type": "execute_result"
    }
   ],
   "source": [
    "low_ID = low_heatmap_filtered['SampleName'].tolist()\n",
    "low_ID"
   ]
  },
  {
   "cell_type": "code",
   "execution_count": 51,
   "metadata": {
    "collapsed": true
   },
   "outputs": [],
   "source": [
    "low_heatmap = low_heatmap_filtered[['n_seqs_ranked','largest_ranked','orf_ranked','score_ranked','BUSCO_ranked','unique_kmers_ranked']]"
   ]
  },
  {
   "cell_type": "code",
   "execution_count": 52,
   "metadata": {},
   "outputs": [
    {
     "name": "stderr",
     "output_type": "stream",
     "text": [
      "/Users/johnsolk/anaconda3/lib/python3.6/site-packages/ipykernel_launcher.py:1: SettingWithCopyWarning: \n",
      "A value is trying to be set on a copy of a slice from a DataFrame.\n",
      "Try using .loc[row_indexer,col_indexer] = value instead\n",
      "\n",
      "See the caveats in the documentation: http://pandas.pydata.org/pandas-docs/stable/indexing.html#indexing-view-versus-copy\n",
      "  \"\"\"Entry point for launching an IPython kernel.\n"
     ]
    }
   ],
   "source": [
    "low_heatmap['SampleName_Phylum'] = str_join(low_heatmap_filtered, ' - ', 'SampleName', 'Phylum')"
   ]
  },
  {
   "cell_type": "code",
   "execution_count": 53,
   "metadata": {
    "collapsed": true
   },
   "outputs": [],
   "source": [
    "low_heatmap = low_heatmap.set_index(\"SampleName_Phylum\")"
   ]
  },
  {
   "cell_type": "code",
   "execution_count": 54,
   "metadata": {},
   "outputs": [
    {
     "data": {
      "text/html": [
       "<div>\n",
       "<style scoped>\n",
       "    .dataframe tbody tr th:only-of-type {\n",
       "        vertical-align: middle;\n",
       "    }\n",
       "\n",
       "    .dataframe tbody tr th {\n",
       "        vertical-align: top;\n",
       "    }\n",
       "\n",
       "    .dataframe thead th {\n",
       "        text-align: right;\n",
       "    }\n",
       "</style>\n",
       "<table border=\"1\" class=\"dataframe\">\n",
       "  <thead>\n",
       "    <tr style=\"text-align: right;\">\n",
       "      <th></th>\n",
       "      <th>n_seqs_ranked</th>\n",
       "      <th>largest_ranked</th>\n",
       "      <th>orf_ranked</th>\n",
       "      <th>score_ranked</th>\n",
       "      <th>BUSCO_ranked</th>\n",
       "      <th>unique_kmers_ranked</th>\n",
       "    </tr>\n",
       "    <tr>\n",
       "      <th>SampleName_Phylum</th>\n",
       "      <th></th>\n",
       "      <th></th>\n",
       "      <th></th>\n",
       "      <th></th>\n",
       "      <th></th>\n",
       "      <th></th>\n",
       "    </tr>\n",
       "  </thead>\n",
       "  <tbody>\n",
       "    <tr>\n",
       "      <th>MMETSP0044 - Dinophyta</th>\n",
       "      <td>0.909091</td>\n",
       "      <td>0.606061</td>\n",
       "      <td>92.575758</td>\n",
       "      <td>1.969697</td>\n",
       "      <td>1.212121</td>\n",
       "      <td>1.060606</td>\n",
       "    </tr>\n",
       "    <tr>\n",
       "      <th>MMETSP0133 - Dinophyta</th>\n",
       "      <td>8.484848</td>\n",
       "      <td>2.272727</td>\n",
       "      <td>66.060606</td>\n",
       "      <td>1.818182</td>\n",
       "      <td>2.878788</td>\n",
       "      <td>2.878788</td>\n",
       "    </tr>\n",
       "    <tr>\n",
       "      <th>MMETSP0186 - Cercozoa</th>\n",
       "      <td>1.363636</td>\n",
       "      <td>1.666667</td>\n",
       "      <td>92.121212</td>\n",
       "      <td>2.272727</td>\n",
       "      <td>1.515152</td>\n",
       "      <td>1.666667</td>\n",
       "    </tr>\n",
       "    <tr>\n",
       "      <th>MMETSP0225 - Dinophyta</th>\n",
       "      <td>1.060606</td>\n",
       "      <td>0.757576</td>\n",
       "      <td>56.212121</td>\n",
       "      <td>1.666667</td>\n",
       "      <td>0.909091</td>\n",
       "      <td>1.212121</td>\n",
       "    </tr>\n",
       "    <tr>\n",
       "      <th>MMETSP0229 - Dinophyta</th>\n",
       "      <td>0.757576</td>\n",
       "      <td>0.303030</td>\n",
       "      <td>61.515152</td>\n",
       "      <td>0.606061</td>\n",
       "      <td>0.454545</td>\n",
       "      <td>0.757576</td>\n",
       "    </tr>\n",
       "    <tr>\n",
       "      <th>MMETSP0252 - Dinophyta</th>\n",
       "      <td>0.151515</td>\n",
       "      <td>0.454545</td>\n",
       "      <td>2.121212</td>\n",
       "      <td>0.303030</td>\n",
       "      <td>0.454545</td>\n",
       "      <td>0.151515</td>\n",
       "    </tr>\n",
       "    <tr>\n",
       "      <th>MMETSP0451 - Dinophyta</th>\n",
       "      <td>1.666667</td>\n",
       "      <td>0.909091</td>\n",
       "      <td>64.242424</td>\n",
       "      <td>2.424242</td>\n",
       "      <td>3.106061</td>\n",
       "      <td>2.121212</td>\n",
       "    </tr>\n",
       "    <tr>\n",
       "      <th>MMETSP0452 - Dinophyta</th>\n",
       "      <td>0.303030</td>\n",
       "      <td>0.151515</td>\n",
       "      <td>88.484848</td>\n",
       "      <td>0.151515</td>\n",
       "      <td>0.454545</td>\n",
       "      <td>0.303030</td>\n",
       "    </tr>\n",
       "    <tr>\n",
       "      <th>MMETSP0719 - Bacillariophyta</th>\n",
       "      <td>1.969697</td>\n",
       "      <td>8.030303</td>\n",
       "      <td>30.151515</td>\n",
       "      <td>6.969697</td>\n",
       "      <td>2.575758</td>\n",
       "      <td>2.575758</td>\n",
       "    </tr>\n",
       "    <tr>\n",
       "      <th>MMETSP0932 - Chlorophyta</th>\n",
       "      <td>1.818182</td>\n",
       "      <td>4.393939</td>\n",
       "      <td>92.272727</td>\n",
       "      <td>2.727273</td>\n",
       "      <td>1.969697</td>\n",
       "      <td>2.272727</td>\n",
       "    </tr>\n",
       "    <tr>\n",
       "      <th>MMETSP0962 - Labyrinthista</th>\n",
       "      <td>4.242424</td>\n",
       "      <td>4.090909</td>\n",
       "      <td>75.000000</td>\n",
       "      <td>20.454545</td>\n",
       "      <td>7.878788</td>\n",
       "      <td>3.333333</td>\n",
       "    </tr>\n",
       "    <tr>\n",
       "      <th>MMETSP1131 - Haptophyta</th>\n",
       "      <td>8.333333</td>\n",
       "      <td>4.242424</td>\n",
       "      <td>4.090909</td>\n",
       "      <td>12.121212</td>\n",
       "      <td>4.772727</td>\n",
       "      <td>4.545455</td>\n",
       "    </tr>\n",
       "    <tr>\n",
       "      <th>MMETSP1147 - Dinophyta</th>\n",
       "      <td>1.515152</td>\n",
       "      <td>2.121212</td>\n",
       "      <td>33.181818</td>\n",
       "      <td>1.363636</td>\n",
       "      <td>1.363636</td>\n",
       "      <td>1.515152</td>\n",
       "    </tr>\n",
       "    <tr>\n",
       "      <th>MMETSP1148 - Dinophyta</th>\n",
       "      <td>0.606061</td>\n",
       "      <td>1.969697</td>\n",
       "      <td>43.939394</td>\n",
       "      <td>1.212121</td>\n",
       "      <td>0.454545</td>\n",
       "      <td>0.606061</td>\n",
       "    </tr>\n",
       "    <tr>\n",
       "      <th>MMETSP1435 - Bacillariophyta</th>\n",
       "      <td>2.121212</td>\n",
       "      <td>2.878788</td>\n",
       "      <td>22.727273</td>\n",
       "      <td>4.090909</td>\n",
       "      <td>4.242424</td>\n",
       "      <td>2.727273</td>\n",
       "    </tr>\n",
       "  </tbody>\n",
       "</table>\n",
       "</div>"
      ],
      "text/plain": [
       "                              n_seqs_ranked  largest_ranked  orf_ranked  \\\n",
       "SampleName_Phylum                                                         \n",
       "MMETSP0044 - Dinophyta             0.909091        0.606061   92.575758   \n",
       "MMETSP0133 - Dinophyta             8.484848        2.272727   66.060606   \n",
       "MMETSP0186 - Cercozoa              1.363636        1.666667   92.121212   \n",
       "MMETSP0225 - Dinophyta             1.060606        0.757576   56.212121   \n",
       "MMETSP0229 - Dinophyta             0.757576        0.303030   61.515152   \n",
       "MMETSP0252 - Dinophyta             0.151515        0.454545    2.121212   \n",
       "MMETSP0451 - Dinophyta             1.666667        0.909091   64.242424   \n",
       "MMETSP0452 - Dinophyta             0.303030        0.151515   88.484848   \n",
       "MMETSP0719 - Bacillariophyta       1.969697        8.030303   30.151515   \n",
       "MMETSP0932 - Chlorophyta           1.818182        4.393939   92.272727   \n",
       "MMETSP0962 - Labyrinthista         4.242424        4.090909   75.000000   \n",
       "MMETSP1131 - Haptophyta            8.333333        4.242424    4.090909   \n",
       "MMETSP1147 - Dinophyta             1.515152        2.121212   33.181818   \n",
       "MMETSP1148 - Dinophyta             0.606061        1.969697   43.939394   \n",
       "MMETSP1435 - Bacillariophyta       2.121212        2.878788   22.727273   \n",
       "\n",
       "                              score_ranked  BUSCO_ranked  unique_kmers_ranked  \n",
       "SampleName_Phylum                                                              \n",
       "MMETSP0044 - Dinophyta            1.969697      1.212121             1.060606  \n",
       "MMETSP0133 - Dinophyta            1.818182      2.878788             2.878788  \n",
       "MMETSP0186 - Cercozoa             2.272727      1.515152             1.666667  \n",
       "MMETSP0225 - Dinophyta            1.666667      0.909091             1.212121  \n",
       "MMETSP0229 - Dinophyta            0.606061      0.454545             0.757576  \n",
       "MMETSP0252 - Dinophyta            0.303030      0.454545             0.151515  \n",
       "MMETSP0451 - Dinophyta            2.424242      3.106061             2.121212  \n",
       "MMETSP0452 - Dinophyta            0.151515      0.454545             0.303030  \n",
       "MMETSP0719 - Bacillariophyta      6.969697      2.575758             2.575758  \n",
       "MMETSP0932 - Chlorophyta          2.727273      1.969697             2.272727  \n",
       "MMETSP0962 - Labyrinthista       20.454545      7.878788             3.333333  \n",
       "MMETSP1131 - Haptophyta          12.121212      4.772727             4.545455  \n",
       "MMETSP1147 - Dinophyta            1.363636      1.363636             1.515152  \n",
       "MMETSP1148 - Dinophyta            1.212121      0.454545             0.606061  \n",
       "MMETSP1435 - Bacillariophyta      4.090909      4.242424             2.727273  "
      ]
     },
     "execution_count": 54,
     "metadata": {},
     "output_type": "execute_result"
    }
   ],
   "source": [
    "low_heatmap"
   ]
  },
  {
   "cell_type": "markdown",
   "metadata": {},
   "source": [
    "# Heatmap Good"
   ]
  },
  {
   "cell_type": "code",
   "execution_count": 55,
   "metadata": {},
   "outputs": [
    {
     "data": {
      "text/plain": [
       "(12, 6)"
      ]
     },
     "execution_count": 55,
     "metadata": {},
     "output_type": "execute_result"
    }
   ],
   "source": [
    "high_heatmap.shape"
   ]
  },
  {
   "cell_type": "code",
   "execution_count": 56,
   "metadata": {
    "collapsed": true
   },
   "outputs": [],
   "source": [
    "high_heatmap.columns = [\"Number of Contigs\",\"Largest Contig\",\"% ORF\",\"Transrate Score\",\"% Complete BUSCO\",\"Unique k-mers\"]"
   ]
  },
  {
   "cell_type": "code",
   "execution_count": 57,
   "metadata": {},
   "outputs": [
    {
     "data": {
      "image/png": "[encoded data removed]",
      "text/plain": [
       "<matplotlib.figure.Figure at 0x1026802b0>"
      ]
     },
     "metadata": {},
     "output_type": "display_data"
    }
   ],
   "source": [
    "ax = sns.heatmap(high_heatmap, annot=True,cmap=\"Blues\",fmt='.1f', vmin=0.1, vmax=99);\n",
    "ax.set_ylabel(\"\")\n",
    "fig = ax.get_figure()  \n",
    "fig.savefig('../paper/heatmap_high.pdf',bbox_inches=\"tight\",dpi=1000)\n",
    "fig.savefig('../paper/heatmap_high.png',bbox_inches=\"tight\",dpi=1000)"
   ]
  },
  {
   "cell_type": "markdown",
   "metadata": {},
   "source": [
    "# Heatmap Poor"
   ]
  },
  {
   "cell_type": "code",
   "execution_count": 58,
   "metadata": {
    "collapsed": true
   },
   "outputs": [],
   "source": [
    "low_heatmap.columns = [\"Number of Contigs\",\"Largest Contig\",\"% ORF\",\"Transrate Score\",\"% Complete BUSCO\",\"Unique k-mers\"]"
   ]
  },
  {
   "cell_type": "code",
   "execution_count": 59,
   "metadata": {},
   "outputs": [
    {
     "data": {
      "text/plain": [
       "(15, 6)"
      ]
     },
     "execution_count": 59,
     "metadata": {},
     "output_type": "execute_result"
    }
   ],
   "source": [
    "low_heatmap.shape"
   ]
  },
  {
   "cell_type": "code",
   "execution_count": 60,
   "metadata": {},
   "outputs": [
    {
     "data": {
      "image/png": "[encoded data removed]",
      "text/plain": [
       "<matplotlib.figure.Figure at 0x10a5407b8>"
      ]
     },
     "metadata": {},
     "output_type": "display_data"
    }
   ],
   "source": [
    "ax = sns.heatmap(low_heatmap, annot=True,cmap=\"Blues\", vmin=0.1, vmax=99);\n",
    "ax.set_ylabel(\"\")\n",
    "fig = ax.get_figure()  \n",
    "fig.savefig('../paper/heatmap_low.pdf',bbox_inches=\"tight\",dpi=1000)\n",
    "fig.savefig('../paper/heatmap_low.png',bbox_inches=\"tight\",dpi=1000)"
   ]
  },
  {
   "cell_type": "markdown",
   "metadata": {
    "collapsed": true
   },
   "source": [
    "# Version Info"
   ]
  },
  {
   "cell_type": "code",
   "execution_count": 64,
   "metadata": {},
   "outputs": [
    {
     "name": "stdout",
     "output_type": "stream",
     "text": [
      "{'commit_hash': 'd86648c5d',\n",
      " 'commit_source': 'installation',\n",
      " 'default_encoding': 'UTF-8',\n",
      " 'ipython_path': '/Users/johnsolk/anaconda3/lib/python3.6/site-packages/IPython',\n",
      " 'ipython_version': '6.1.0',\n",
      " 'os_name': 'posix',\n",
      " 'platform': 'Darwin-17.4.0-x86_64-i386-64bit',\n",
      " 'sys_executable': '/Users/johnsolk/anaconda3/bin/python',\n",
      " 'sys_platform': 'darwin',\n",
      " 'sys_version': '3.6.3 |Anaconda custom (64-bit)| (default, Oct  6 2017, '\n",
      "                '12:04:38) \\n'\n",
      "                '[GCC 4.2.1 Compatible Clang 4.0.1 (tags/RELEASE_401/final)]'}\n"
     ]
    }
   ],
   "source": [
    "import IPython\n",
    "print(IPython.sys_info())"
   ]
  },
  {
   "cell_type": "code",
   "execution_count": 66,
   "metadata": {},
   "outputs": [
    {
     "data": {
      "application/json": {
       "Software versions": [
        {
         "module": "Python",
         "version": "3.6.3 64bit [GCC 4.2.1 Compatible Clang 4.0.1 (tags/RELEASE_401/final)]"
        },
        {
         "module": "IPython",
         "version": "6.1.0"
        },
        {
         "module": "OS",
         "version": "Darwin 17.4.0 x86_64 i386 64bit"
        },
        {
         "module": "pandas",
         "version": "0.22.0"
        },
        {
         "module": "numpy",
         "version": "1.13.3"
        },
        {
         "module": "seaborn",
         "version": "0.8.0"
        },
        {
         "module": "pylab",
         "version": "The 'pylab' distribution was not found and is required by the application"
        },
        {
         "module": "matplotlib",
         "version": "2.1.2"
        },
        {
         "module": "scipy",
         "version": "0.19.1"
        }
       ]
      },
      "text/html": [
       "<table><tr><th>Software</th><th>Version</th></tr><tr><td>Python</td><td>3.6.3 64bit [GCC 4.2.1 Compatible Clang 4.0.1 (tags/RELEASE_401/final)]</td></tr><tr><td>IPython</td><td>6.1.0</td></tr><tr><td>OS</td><td>Darwin 17.4.0 x86_64 i386 64bit</td></tr><tr><td>pandas</td><td>0.22.0</td></tr><tr><td>numpy</td><td>1.13.3</td></tr><tr><td>seaborn</td><td>0.8.0</td></tr><tr><td>pylab</td><td>The 'pylab' distribution was not found and is required by the application</td></tr><tr><td>matplotlib</td><td>2.1.2</td></tr><tr><td>scipy</td><td>0.19.1</td></tr><tr><td colspan='2'>Fri Sep 14 13:33:07 2018 PDT</td></tr></table>"
      ],
      "text/latex": [
       "\\begin{tabular}{|l|l|}\\hline\n",
       "{\\bf Software} & {\\bf Version} \\\\ \\hline\\hline\n",
       "Python & 3.6.3 64bit [GCC 4.2.1 Compatible Clang 4.0.1 (tags/RELEASE\\_401/final)] \\\\ \\hline\n",
       "IPython & 6.1.0 \\\\ \\hline\n",
       "OS & Darwin 17.4.0 x86\\_64 i386 64bit \\\\ \\hline\n",
       "pandas & 0.22.0 \\\\ \\hline\n",
       "numpy & 1.13.3 \\\\ \\hline\n",
       "seaborn & 0.8.0 \\\\ \\hline\n",
       "pylab & The 'pylab' distribution was not found and is required by the application \\\\ \\hline\n",
       "matplotlib & 2.1.2 \\\\ \\hline\n",
       "scipy & 0.19.1 \\\\ \\hline\n",
       "\\hline \\multicolumn{2}{|l|}{Fri Sep 14 13:33:07 2018 PDT} \\\\ \\hline\n",
       "\\end{tabular}\n"
      ],
      "text/plain": [
       "Software versions\n",
       "Python 3.6.3 64bit [GCC 4.2.1 Compatible Clang 4.0.1 (tags/RELEASE_401/final)]\n",
       "IPython 6.1.0\n",
       "OS Darwin 17.4.0 x86_64 i386 64bit\n",
       "pandas 0.22.0\n",
       "numpy 1.13.3\n",
       "seaborn 0.8.0\n",
       "pylab The 'pylab' distribution was not found and is required by the application\n",
       "matplotlib 2.1.2\n",
       "scipy 0.19.1\n",
       "Fri Sep 14 13:33:07 2018 PDT"
      ]
     },
     "execution_count": 66,
     "metadata": {},
     "output_type": "execute_result"
    }
   ],
   "source": [
    "%load_ext version_information\n",
    "%version_information pandas, numpy, seaborn, pylab, matplotlib, scipy"
   ]
  },
  {
   "cell_type": "code",
   "execution_count": null,
   "metadata": {
    "collapsed": true
   },
   "outputs": [],
   "source": []
  }
 ],
 "metadata": {
  "anaconda-cloud": {},
  "kernelspec": {
   "display_name": "Python 3",
   "language": "python",
   "name": "python3"
  },
  "language_info": {
   "codemirror_mode": {
    "name": "ipython",
    "version": 3
   },
   "file_extension": ".py",
   "mimetype": "text/x-python",
   "name": "python",
   "nbconvert_exporter": "python",
   "pygments_lexer": "ipython3",
   "version": "3.6.3"
  }
 },
 "nbformat": 4,
 "nbformat_minor": 1
}
