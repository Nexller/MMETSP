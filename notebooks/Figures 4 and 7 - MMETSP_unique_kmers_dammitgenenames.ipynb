{
 "cells": [
  {
   "cell_type": "code",
   "execution_count": 1,
   "metadata": {},
   "outputs": [],
   "source": [
    "library(RColorBrewer)"
   ]
  },
  {
   "cell_type": "code",
   "execution_count": 2,
   "metadata": {},
   "outputs": [
    {
     "data": {
      "text/html": [
       "<table>\n",
       "<thead><tr><th scope=col>SampleName</th><th scope=col>nt_unique_kmers</th></tr></thead>\n",
       "<tbody>\n",
       "\t<tr><td>MMETSP1403</td><td>14078915  </td></tr>\n",
       "\t<tr><td>MMETSP0292</td><td>10829338  </td></tr>\n",
       "\t<tr><td>MMETSP1316</td><td>10049557  </td></tr>\n",
       "\t<tr><td>MMETSP1042</td><td>20957422  </td></tr>\n",
       "\t<tr><td>MMETSP0228</td><td>49090117  </td></tr>\n",
       "\t<tr><td>MMETSP0944</td><td>23943500  </td></tr>\n",
       "</tbody>\n",
       "</table>\n"
      ],
      "text/latex": [
       "\\begin{tabular}{r|ll}\n",
       " SampleName & nt\\_unique\\_kmers\\\\\n",
       "\\hline\n",
       "\t MMETSP1403 & 14078915  \\\\\n",
       "\t MMETSP0292 & 10829338  \\\\\n",
       "\t MMETSP1316 & 10049557  \\\\\n",
       "\t MMETSP1042 & 20957422  \\\\\n",
       "\t MMETSP0228 & 49090117  \\\\\n",
       "\t MMETSP0944 & 23943500  \\\\\n",
       "\\end{tabular}\n"
      ],
      "text/markdown": [
       "\n",
       "SampleName | nt_unique_kmers | \n",
       "|---|---|---|---|---|---|\n",
       "| MMETSP1403 | 14078915   | \n",
       "| MMETSP0292 | 10829338   | \n",
       "| MMETSP1316 | 10049557   | \n",
       "| MMETSP1042 | 20957422   | \n",
       "| MMETSP0228 | 49090117   | \n",
       "| MMETSP0944 | 23943500   | \n",
       "\n",
       "\n"
      ],
      "text/plain": [
       "  SampleName nt_unique_kmers\n",
       "1 MMETSP1403 14078915       \n",
       "2 MMETSP0292 10829338       \n",
       "3 MMETSP1316 10049557       \n",
       "4 MMETSP1042 20957422       \n",
       "5 MMETSP0228 49090117       \n",
       "6 MMETSP0944 23943500       "
      ]
     },
     "metadata": {},
     "output_type": "display_data"
    }
   ],
   "source": [
    "ncgr_nt_kmers <- read.table(\"../assembly_evaluation_data/unique_kmers_ncgr_nt.txt\",header=TRUE,sep=\"\\t\")\n",
    "colnames(ncgr_nt_kmers)<-c(\"SampleName\",\"nt_unique_kmers\")\n",
    "head(ncgr_nt_kmers)"
   ]
  },
  {
   "cell_type": "code",
   "execution_count": 3,
   "metadata": {},
   "outputs": [
    {
     "data": {
      "text/html": [
       "<table>\n",
       "<thead><tr><th scope=col>SampleName</th><th scope=col>Phylum</th><th scope=col>dib_assembly_unique_kmers</th><th scope=col>ncgr_assembly_unique_kmers</th><th scope=col>nt_unique_kmers</th><th scope=col>NCGR_norm_unique_gene_names</th><th scope=col>DIB_norm_unique_gene_names</th></tr></thead>\n",
       "<tbody>\n",
       "\t<tr><td>MMETSP0007     </td><td>Haptophyta     </td><td>12496793       </td><td> 6672958       </td><td>10776806       </td><td>0.1553238      </td><td>0.3038187      </td></tr>\n",
       "\t<tr><td>MMETSP0009     </td><td>Bacillariophyta</td><td>30074483       </td><td>17983358       </td><td>24244646       </td><td>0.1250278      </td><td>0.2619097      </td></tr>\n",
       "\t<tr><td>MMETSP0011     </td><td>Rhodophyta     </td><td>19018154       </td><td> 8659798       </td><td>13483086       </td><td>0.1282602      </td><td>0.3395015      </td></tr>\n",
       "\t<tr><td>MMETSP0018     </td><td>Ciliophora     </td><td> 9666691       </td><td>   26864       </td><td> 7817848       </td><td>0.5238095      </td><td>0.9876067      </td></tr>\n",
       "\t<tr><td>MMETSP0040     </td><td>Cercozoa       </td><td>23878073       </td><td>14826337       </td><td>19815768       </td><td>0.1054775      </td><td>0.3242380      </td></tr>\n",
       "\t<tr><td>MMETSP0041     </td><td>Cercozoa       </td><td>22194734       </td><td> 8846735       </td><td> 9560866       </td><td>0.1685256      </td><td>0.3280542      </td></tr>\n",
       "</tbody>\n",
       "</table>\n"
      ],
      "text/latex": [
       "\\begin{tabular}{r|lllllll}\n",
       " SampleName & Phylum & dib\\_assembly\\_unique\\_kmers & ncgr\\_assembly\\_unique\\_kmers & nt\\_unique\\_kmers & NCGR\\_norm\\_unique\\_gene\\_names & DIB\\_norm\\_unique\\_gene\\_names\\\\\n",
       "\\hline\n",
       "\t MMETSP0007      & Haptophyta      & 12496793        &  6672958        & 10776806        & 0.1553238       & 0.3038187      \\\\\n",
       "\t MMETSP0009      & Bacillariophyta & 30074483        & 17983358        & 24244646        & 0.1250278       & 0.2619097      \\\\\n",
       "\t MMETSP0011      & Rhodophyta      & 19018154        &  8659798        & 13483086        & 0.1282602       & 0.3395015      \\\\\n",
       "\t MMETSP0018      & Ciliophora      &  9666691        &    26864        &  7817848        & 0.5238095       & 0.9876067      \\\\\n",
       "\t MMETSP0040      & Cercozoa        & 23878073        & 14826337        & 19815768        & 0.1054775       & 0.3242380      \\\\\n",
       "\t MMETSP0041      & Cercozoa        & 22194734        &  8846735        &  9560866        & 0.1685256       & 0.3280542      \\\\\n",
       "\\end{tabular}\n"
      ],
      "text/markdown": [
       "\n",
       "SampleName | Phylum | dib_assembly_unique_kmers | ncgr_assembly_unique_kmers | nt_unique_kmers | NCGR_norm_unique_gene_names | DIB_norm_unique_gene_names | \n",
       "|---|---|---|---|---|---|\n",
       "| MMETSP0007      | Haptophyta      | 12496793        |  6672958        | 10776806        | 0.1553238       | 0.3038187       | \n",
       "| MMETSP0009      | Bacillariophyta | 30074483        | 17983358        | 24244646        | 0.1250278       | 0.2619097       | \n",
       "| MMETSP0011      | Rhodophyta      | 19018154        |  8659798        | 13483086        | 0.1282602       | 0.3395015       | \n",
       "| MMETSP0018      | Ciliophora      |  9666691        |    26864        |  7817848        | 0.5238095       | 0.9876067       | \n",
       "| MMETSP0040      | Cercozoa        | 23878073        | 14826337        | 19815768        | 0.1054775       | 0.3242380       | \n",
       "| MMETSP0041      | Cercozoa        | 22194734        |  8846735        |  9560866        | 0.1685256       | 0.3280542       | \n",
       "\n",
       "\n"
      ],
      "text/plain": [
       "  SampleName Phylum          dib_assembly_unique_kmers\n",
       "1 MMETSP0007 Haptophyta      12496793                 \n",
       "2 MMETSP0009 Bacillariophyta 30074483                 \n",
       "3 MMETSP0011 Rhodophyta      19018154                 \n",
       "4 MMETSP0018 Ciliophora       9666691                 \n",
       "5 MMETSP0040 Cercozoa        23878073                 \n",
       "6 MMETSP0041 Cercozoa        22194734                 \n",
       "  ncgr_assembly_unique_kmers nt_unique_kmers NCGR_norm_unique_gene_names\n",
       "1  6672958                   10776806        0.1553238                  \n",
       "2 17983358                   24244646        0.1250278                  \n",
       "3  8659798                   13483086        0.1282602                  \n",
       "4    26864                    7817848        0.5238095                  \n",
       "5 14826337                   19815768        0.1054775                  \n",
       "6  8846735                    9560866        0.1685256                  \n",
       "  DIB_norm_unique_gene_names\n",
       "1 0.3038187                 \n",
       "2 0.2619097                 \n",
       "3 0.3395015                 \n",
       "4 0.9876067                 \n",
       "5 0.3242380                 \n",
       "6 0.3280542                 "
      ]
     },
     "metadata": {},
     "output_type": "display_data"
    }
   ],
   "source": [
    "dib_ncgr_kmers <- read.csv(\"../assembly_evaluation_data/MMETSP_all_evaluation_matrix.csv\")\n",
    "dib_ncgr_kmers <- dib_ncgr_kmers[,c(\"SampleName\",\"Phylum\",\"dib_assembly_unique_kmers\",\"ncgr_assembly_unique_kmers\")]\n",
    "dib_ncgr_kmers <- merge(dib_ncgr_kmers,ncgr_nt_kmers,by=\"SampleName\")\n",
    "unique_dammit_names <- read.csv(\"../assembly_evaluation_data/normalized_unique_gene_names_ncgr_dib.csv\")\n",
    "unique_dammit_names <- unique_dammit_names[,2:4]\n",
    "colnames(unique_dammit_names) <- c(\"SampleName\",\"NCGR_norm_unique_gene_names\",\"DIB_norm_unique_gene_names\")\n",
    "unique_dammit_names <- merge(dib_ncgr_kmers,unique_dammit_names,by=\"SampleName\")\n",
    "head(unique_dammit_names)\n",
    "special_flowers = c(\"MMETSP0693\",\"MMETSP1019\",\"MMETSP0923\",\"MMETSP0008\",\"MMETSP1002\",\"MMETSP1325\",\"MMETSP1018\",\n",
    "                    \"MMETSP1346\",\"MMETSP0088\",\"MMETSP0092\",\"MMETSP0717\",\"MMETSP0223\",\"MMETSP0115\",\"MMETSP0196\",\n",
    "                    \"MMETSP0197\",\"MMETSP0398\",\"MMETSP0399\",\"MMETSP0922\")\n",
    "unique_dammit_names <- unique_dammit_names[!unique_dammit_names$SampleName %in% special_flowers,]"
   ]
  },
  {
   "cell_type": "code",
   "execution_count": 4,
   "metadata": {},
   "outputs": [],
   "source": [
    "# Only use 7 most common phyla\n",
    "sub_phy<-c(\"Bacillariophyta\",\"Dinophyta\",\"Ochrophyta\",\"Haptophyta\",\"Ciliophora\",\"Chlorophyta\",\"Cryptophyta\")"
   ]
  },
  {
   "cell_type": "code",
   "execution_count": 5,
   "metadata": {},
   "outputs": [],
   "source": [
    "#dib_ncgr_kmers <- dib_ncgr_kmers[!dib_ncgr_kmers$SampleName %in% special_flowers,]\n",
    "dib_ncgr_kmers$sub_Phylum <- ifelse(dib_ncgr_kmers$Phylum %in% sub_phy, as.character(dib_ncgr_kmers$Phylum),\"Others\")"
   ]
  },
  {
   "cell_type": "code",
   "execution_count": 6,
   "metadata": {},
   "outputs": [
    {
     "data": {
      "text/html": [
       "<table>\n",
       "<thead><tr><th scope=col>SampleName</th><th scope=col>Phylum</th><th scope=col>dib_assembly_unique_kmers</th><th scope=col>ncgr_assembly_unique_kmers</th><th scope=col>nt_unique_kmers</th><th scope=col>sub_Phylum</th></tr></thead>\n",
       "<tbody>\n",
       "\t<tr><td>MMETSP0004</td><td>Ochrophyta</td><td>19837761  </td><td> 9187479  </td><td>10472571  </td><td>Ochrophyta</td></tr>\n",
       "\t<tr><td>MMETSP0005</td><td>Ochrophyta</td><td>20350054  </td><td> 8874387  </td><td>10581349  </td><td>Ochrophyta</td></tr>\n",
       "\t<tr><td>MMETSP0006</td><td>Haptophyta</td><td>25286098  </td><td> 9558658  </td><td> 9945473  </td><td>Haptophyta</td></tr>\n",
       "\t<tr><td>MMETSP0007</td><td>Haptophyta</td><td>12496793  </td><td> 6672958  </td><td>10776806  </td><td>Haptophyta</td></tr>\n",
       "\t<tr><td>MMETSP0008</td><td>Haptophyta</td><td>24682952  </td><td>11925639  </td><td>13046153  </td><td>Haptophyta</td></tr>\n",
       "\t<tr><td>MMETSP0008</td><td>Haptophyta</td><td>24682952  </td><td>11925639  </td><td>13046153  </td><td>Haptophyta</td></tr>\n",
       "</tbody>\n",
       "</table>\n"
      ],
      "text/latex": [
       "\\begin{tabular}{r|llllll}\n",
       " SampleName & Phylum & dib\\_assembly\\_unique\\_kmers & ncgr\\_assembly\\_unique\\_kmers & nt\\_unique\\_kmers & sub\\_Phylum\\\\\n",
       "\\hline\n",
       "\t MMETSP0004 & Ochrophyta & 19837761   &  9187479   & 10472571   & Ochrophyta\\\\\n",
       "\t MMETSP0005 & Ochrophyta & 20350054   &  8874387   & 10581349   & Ochrophyta\\\\\n",
       "\t MMETSP0006 & Haptophyta & 25286098   &  9558658   &  9945473   & Haptophyta\\\\\n",
       "\t MMETSP0007 & Haptophyta & 12496793   &  6672958   & 10776806   & Haptophyta\\\\\n",
       "\t MMETSP0008 & Haptophyta & 24682952   & 11925639   & 13046153   & Haptophyta\\\\\n",
       "\t MMETSP0008 & Haptophyta & 24682952   & 11925639   & 13046153   & Haptophyta\\\\\n",
       "\\end{tabular}\n"
      ],
      "text/markdown": [
       "\n",
       "SampleName | Phylum | dib_assembly_unique_kmers | ncgr_assembly_unique_kmers | nt_unique_kmers | sub_Phylum | \n",
       "|---|---|---|---|---|---|\n",
       "| MMETSP0004 | Ochrophyta | 19837761   |  9187479   | 10472571   | Ochrophyta | \n",
       "| MMETSP0005 | Ochrophyta | 20350054   |  8874387   | 10581349   | Ochrophyta | \n",
       "| MMETSP0006 | Haptophyta | 25286098   |  9558658   |  9945473   | Haptophyta | \n",
       "| MMETSP0007 | Haptophyta | 12496793   |  6672958   | 10776806   | Haptophyta | \n",
       "| MMETSP0008 | Haptophyta | 24682952   | 11925639   | 13046153   | Haptophyta | \n",
       "| MMETSP0008 | Haptophyta | 24682952   | 11925639   | 13046153   | Haptophyta | \n",
       "\n",
       "\n"
      ],
      "text/plain": [
       "  SampleName Phylum     dib_assembly_unique_kmers ncgr_assembly_unique_kmers\n",
       "1 MMETSP0004 Ochrophyta 19837761                   9187479                  \n",
       "2 MMETSP0005 Ochrophyta 20350054                   8874387                  \n",
       "3 MMETSP0006 Haptophyta 25286098                   9558658                  \n",
       "4 MMETSP0007 Haptophyta 12496793                   6672958                  \n",
       "5 MMETSP0008 Haptophyta 24682952                  11925639                  \n",
       "6 MMETSP0008 Haptophyta 24682952                  11925639                  \n",
       "  nt_unique_kmers sub_Phylum\n",
       "1 10472571        Ochrophyta\n",
       "2 10581349        Ochrophyta\n",
       "3  9945473        Haptophyta\n",
       "4 10776806        Haptophyta\n",
       "5 13046153        Haptophyta\n",
       "6 13046153        Haptophyta"
      ]
     },
     "metadata": {},
     "output_type": "display_data"
    },
    {
     "data": {
      "text/html": [
       "<ol class=list-inline>\n",
       "\t<li>703</li>\n",
       "\t<li>6</li>\n",
       "</ol>\n"
      ],
      "text/latex": [
       "\\begin{enumerate*}\n",
       "\\item 703\n",
       "\\item 6\n",
       "\\end{enumerate*}\n"
      ],
      "text/markdown": [
       "1. 703\n",
       "2. 6\n",
       "\n",
       "\n"
      ],
      "text/plain": [
       "[1] 703   6"
      ]
     },
     "metadata": {},
     "output_type": "display_data"
    },
    {
     "data": {
      "text/html": [
       "'factor'"
      ],
      "text/latex": [
       "'factor'"
      ],
      "text/markdown": [
       "'factor'"
      ],
      "text/plain": [
       "[1] \"factor\""
      ]
     },
     "metadata": {},
     "output_type": "display_data"
    }
   ],
   "source": [
    "head(dib_ncgr_kmers)\n",
    "dim(dib_ncgr_kmers)\n",
    "dib_ncgr_kmers$sub_Phylum <- as.factor(dib_ncgr_kmers$sub_Phylum)\n",
    "class(dib_ncgr_kmers$sub_Phylum)"
   ]
  },
  {
   "cell_type": "code",
   "execution_count": 7,
   "metadata": {},
   "outputs": [
    {
     "data": {
      "text/html": [
       "<dl class=dl-horizontal>\n",
       "\t<dt>Bacillariophyta</dt>\n",
       "\t\t<dd>190</dd>\n",
       "\t<dt>Chlorophyta</dt>\n",
       "\t\t<dd>61</dd>\n",
       "\t<dt>Ciliophora</dt>\n",
       "\t\t<dd>31</dd>\n",
       "\t<dt>Cryptophyta</dt>\n",
       "\t\t<dd>22</dd>\n",
       "\t<dt>Dinophyta</dt>\n",
       "\t\t<dd>119</dd>\n",
       "\t<dt>Haptophyta</dt>\n",
       "\t\t<dd>63</dd>\n",
       "\t<dt>Ochrophyta</dt>\n",
       "\t\t<dd>78</dd>\n",
       "\t<dt>Others</dt>\n",
       "\t\t<dd>139</dd>\n",
       "</dl>\n"
      ],
      "text/latex": [
       "\\begin{description*}\n",
       "\\item[Bacillariophyta] 190\n",
       "\\item[Chlorophyta] 61\n",
       "\\item[Ciliophora] 31\n",
       "\\item[Cryptophyta] 22\n",
       "\\item[Dinophyta] 119\n",
       "\\item[Haptophyta] 63\n",
       "\\item[Ochrophyta] 78\n",
       "\\item[Others] 139\n",
       "\\end{description*}\n"
      ],
      "text/markdown": [
       "Bacillariophyta\n",
       ":   190Chlorophyta\n",
       ":   61Ciliophora\n",
       ":   31Cryptophyta\n",
       ":   22Dinophyta\n",
       ":   119Haptophyta\n",
       ":   63Ochrophyta\n",
       ":   78Others\n",
       ":   139\n",
       "\n"
      ],
      "text/plain": [
       "Bacillariophyta     Chlorophyta      Ciliophora     Cryptophyta       Dinophyta \n",
       "            190              61              31              22             119 \n",
       "     Haptophyta      Ochrophyta          Others \n",
       "             63              78             139 "
      ]
     },
     "metadata": {},
     "output_type": "display_data"
    },
    {
     "data": {
      "text/html": [
       "<ol class=list-inline>\n",
       "\t<li>'SampleName'</li>\n",
       "\t<li>'Phylum'</li>\n",
       "\t<li>'dib_assembly_unique_kmers'</li>\n",
       "\t<li>'ncgr_assembly_unique_kmers'</li>\n",
       "\t<li>'nt_unique_kmers'</li>\n",
       "\t<li>'sub_Phylum'</li>\n",
       "</ol>\n"
      ],
      "text/latex": [
       "\\begin{enumerate*}\n",
       "\\item 'SampleName'\n",
       "\\item 'Phylum'\n",
       "\\item 'dib\\_assembly\\_unique\\_kmers'\n",
       "\\item 'ncgr\\_assembly\\_unique\\_kmers'\n",
       "\\item 'nt\\_unique\\_kmers'\n",
       "\\item 'sub\\_Phylum'\n",
       "\\end{enumerate*}\n"
      ],
      "text/markdown": [
       "1. 'SampleName'\n",
       "2. 'Phylum'\n",
       "3. 'dib_assembly_unique_kmers'\n",
       "4. 'ncgr_assembly_unique_kmers'\n",
       "5. 'nt_unique_kmers'\n",
       "6. 'sub_Phylum'\n",
       "\n",
       "\n"
      ],
      "text/plain": [
       "[1] \"SampleName\"                 \"Phylum\"                    \n",
       "[3] \"dib_assembly_unique_kmers\"  \"ncgr_assembly_unique_kmers\"\n",
       "[5] \"nt_unique_kmers\"            \"sub_Phylum\"                "
      ]
     },
     "metadata": {},
     "output_type": "display_data"
    },
    {
     "data": {
      "text/html": [
       "6"
      ],
      "text/latex": [
       "6"
      ],
      "text/markdown": [
       "6"
      ],
      "text/plain": [
       "[1] 6"
      ]
     },
     "metadata": {},
     "output_type": "display_data"
    }
   ],
   "source": [
    "summary(dib_ncgr_kmers$sub_Phylum)\n",
    "colnames(dib_ncgr_kmers)\n",
    "length(colnames(dib_ncgr_kmers))"
   ]
  },
  {
   "cell_type": "code",
   "execution_count": 8,
   "metadata": {},
   "outputs": [],
   "source": [
    "dib_ncgr_kmers <- dib_ncgr_kmers[,c(1,3:6)]\n",
    "dib_ncgr_kmers$Phylum <- dib_ncgr_kmers$sub_Phylum"
   ]
  },
  {
   "cell_type": "code",
   "execution_count": 9,
   "metadata": {},
   "outputs": [
    {
     "data": {
      "text/html": [
       "<ol class=list-inline>\n",
       "\t<li>'Bacillariophyta'</li>\n",
       "\t<li>'Chlorophyta'</li>\n",
       "\t<li>'Ciliophora'</li>\n",
       "\t<li>'Cryptophyta'</li>\n",
       "\t<li>'Dinophyta'</li>\n",
       "\t<li>'Haptophyta'</li>\n",
       "\t<li>'Ochrophyta'</li>\n",
       "\t<li>'Others'</li>\n",
       "</ol>\n"
      ],
      "text/latex": [
       "\\begin{enumerate*}\n",
       "\\item 'Bacillariophyta'\n",
       "\\item 'Chlorophyta'\n",
       "\\item 'Ciliophora'\n",
       "\\item 'Cryptophyta'\n",
       "\\item 'Dinophyta'\n",
       "\\item 'Haptophyta'\n",
       "\\item 'Ochrophyta'\n",
       "\\item 'Others'\n",
       "\\end{enumerate*}\n"
      ],
      "text/markdown": [
       "1. 'Bacillariophyta'\n",
       "2. 'Chlorophyta'\n",
       "3. 'Ciliophora'\n",
       "4. 'Cryptophyta'\n",
       "5. 'Dinophyta'\n",
       "6. 'Haptophyta'\n",
       "7. 'Ochrophyta'\n",
       "8. 'Others'\n",
       "\n",
       "\n"
      ],
      "text/plain": [
       "[1] \"Bacillariophyta\" \"Chlorophyta\"     \"Ciliophora\"      \"Cryptophyta\"    \n",
       "[5] \"Dinophyta\"       \"Haptophyta\"      \"Ochrophyta\"      \"Others\"         "
      ]
     },
     "metadata": {},
     "output_type": "display_data"
    },
    {
     "data": {
      "text/html": [
       "<ol class=list-inline>\n",
       "\t<li>666</li>\n",
       "\t<li>6</li>\n",
       "</ol>\n"
      ],
      "text/latex": [
       "\\begin{enumerate*}\n",
       "\\item 666\n",
       "\\item 6\n",
       "\\end{enumerate*}\n"
      ],
      "text/markdown": [
       "1. 666\n",
       "2. 6\n",
       "\n",
       "\n"
      ],
      "text/plain": [
       "[1] 666   6"
      ]
     },
     "metadata": {},
     "output_type": "display_data"
    }
   ],
   "source": [
    "sort(unique(as.character(dib_ncgr_kmers$Phylum)))\n",
    "dib_ncgr_kmers <- dib_ncgr_kmers[!duplicated(dib_ncgr_kmers$SampleName),]\n",
    "dim(dib_ncgr_kmers)"
   ]
  },
  {
   "cell_type": "code",
   "execution_count": 10,
   "metadata": {},
   "outputs": [
    {
     "ename": "ERROR",
     "evalue": "Error in parse(text = x, srcfile = src): <text>:33:0: unexpected end of input\n31: abline(0,1)\n32: legend(20,125000000,legend=sort(unique(as.character(dib_ncgr_kmers$Phylum))),col=Cols(sort(unique(as.character(dib_ncgr_kmers$Phylum))),cex=0.8, pch=19,bty=\"n\")\n   ^\n",
     "output_type": "error",
     "traceback": [
      "Error in parse(text = x, srcfile = src): <text>:33:0: unexpected end of input\n31: abline(0,1)\n32: legend(20,125000000,legend=sort(unique(as.character(dib_ncgr_kmers$Phylum))),col=Cols(sort(unique(as.character(dib_ncgr_kmers$Phylum))),cex=0.8, pch=19,bty=\"n\")\n   ^\nTraceback:\n"
     ]
    }
   ],
   "source": [
    "Cols = function(vec){\n",
    "  #cols=cols=palette(brewer.pal(n=7,name=\"Dark2\"))\n",
    "  #cols=rainbow(length(unique(vec)))\n",
    "  #cols = c('#ffffd9','#edf8b1','#c7e9b4','#7fcdbb','#41b6c4','#1d91c0','#225ea8','#253494','#081d58')\n",
    "  cols = palette(brewer.pal(n=8,name=\"Dark2\"))\n",
    "  return(cols[as.numeric(as.factor(vec))])}\n",
    "\n",
    "pdf(\"../paper/figures/Figure6_unique_kmers.pdf\",width=6.41,height=6.41)\n",
    "png(\"../paper/figures/Figure6_unique_kmers.png\",width=6.41,height=6.41,units=\"in\",res=1200)\n",
    "plot(dib_ncgr_kmers$ncgr_assembly_unique_kmers,dib_ncgr_kmers$dib_assembly_unique_kmers, \n",
    "     ylim=c(-1,120000000),\n",
    "     xlim=c(-1,120000000),\n",
    "     ylab = \"DIB unique kmers\",\n",
    "     xlab=\"NCGR 'cds' unique kmers\",\n",
    "     col=Cols(as.character(dib_ncgr_kmers$Phylum)),\n",
    "     pch=19,\n",
    "     frame.plot = FALSE)\n",
    "abline(0,1)\n",
    "legend(20,125000000,legend=sort(unique(as.character(dib_ncgr_kmers$Phylum))),\n",
    "       col=Cols(unique(as.character(dib_ncgr_kmers$Phylum))),\n",
    "       cex=0.8, \n",
    "       pch=19,bty=\"n\")\n",
    "dev.off()\n",
    "plot(dib_ncgr_kmers$ncgr_assembly_unique_kmers,dib_ncgr_kmers$dib_assembly_unique_kmers, \n",
    "     ylim=c(-1,120000000),\n",
    "     xlim=c(-1,120000000),\n",
    "     ylab = \"DIB unique kmers\",\n",
    "     xlab=\"NCGR 'cds' unique kmers\",\n",
    "     col=Cols(as.character(dib_ncgr_kmers$Phylum)),\n",
    "     pch=19,frame.plot = FALSE)\n",
    "abline(0,1)\n",
    "legend(20,125000000,legend=sort(unique(as.character(dib_ncgr_kmers$Phylum))),col=Cols(sort(unique(as.character(dib_ncgr_kmers$Phylum))),cex=0.8, pch=19,bty=\"n\")"
   ]
  },
  {
   "cell_type": "code",
   "execution_count": 13,
   "metadata": {},
   "outputs": [
    {
     "data": {
      "text/html": [
       "<strong>pdf:</strong> 2"
      ],
      "text/latex": [
       "\\textbf{pdf:} 2"
      ],
      "text/markdown": [
       "**pdf:** 2"
      ],
      "text/plain": [
       "pdf \n",
       "  2 "
      ]
     },
     "metadata": {},
     "output_type": "display_data"
    },
    {
     "data": {
      "image/png": "[encoded data removed]",
      "text/plain": [
       "plot without title"
      ]
     },
     "metadata": {},
     "output_type": "display_data"
    }
   ],
   "source": [
    "Cols = function(vec){\n",
    "  #cols=cols=palette(brewer.pal(n=7,name=\"Dark2\"))\n",
    "  cols = palette(brewer.pal(n=8,name=\"Dark2\"))\n",
    "  #cols=rainbow(length(unique(vec)))\n",
    "  return(cols[as.numeric(as.factor(vec))])}\n",
    "pdf(\"../paper/Figure4_unique_kmers.pdf\",width=6.41,height=6.41)\n",
    "#png(\"../paper/Figure4_unique_kmers.png\",width=6.41,height=6.41,units=\"in\",res=1200)\n",
    "plot(dib_ncgr_kmers$nt_unique_kmers,dib_ncgr_kmers$dib_assembly_unique_kmers, \n",
    "     ylim=c(-1,120000000),xlim=c(-1,120000000),\n",
    "     ylab = \"DIB unique kmers\",\n",
    "     xlab=\"NCGR 'nt' unique kmers\",\n",
    "     col=Cols(as.character(dib_ncgr_kmers$Phylum)),pch=19,frame.plot = FALSE)\n",
    "abline(0,1)\n",
    "legend(20,125000000,\n",
    "       legend=sort(unique(as.character(dib_ncgr_kmers$Phylum))),\n",
    "       col=Cols(sort(unique(as.character(dib_ncgr_kmers$Phylum)))),\n",
    "       cex=0.8, \n",
    "       pch=19,bty=\"n\")\n",
    "dev.off()\n",
    "plot(dib_ncgr_kmers$nt_unique_kmers,dib_ncgr_kmers$dib_assembly_unique_kmers, \n",
    "     ylim=c(-1,120000000),xlim=c(-1,120000000),\n",
    "     ylab = \"DIB unique kmers\",\n",
    "     xlab=\"NCGR 'nt' unique kmers\",\n",
    "     col=Cols(as.character(dib_ncgr_kmers$Phylum)),\n",
    "     pch=19,frame.plot = FALSE)\n",
    "abline(0,1)\n",
    "legend(20,125000000,legend=sort(unique(as.character(dib_ncgr_kmers$Phylum))),col=Cols(sort(unique(as.character(dib_ncgr_kmers$Phylum)))),cex=0.8, pch=19,bty=\"n\")\n"
   ]
  },
  {
   "cell_type": "code",
   "execution_count": 14,
   "metadata": {},
   "outputs": [
    {
     "data": {
      "text/html": [
       "<ol class=list-inline>\n",
       "\t<li>30</li>\n",
       "\t<li>6</li>\n",
       "</ol>\n"
      ],
      "text/latex": [
       "\\begin{enumerate*}\n",
       "\\item 30\n",
       "\\item 6\n",
       "\\end{enumerate*}\n"
      ],
      "text/markdown": [
       "1. 30\n",
       "2. 6\n",
       "\n",
       "\n"
      ],
      "text/plain": [
       "[1] 30  6"
      ]
     },
     "metadata": {},
     "output_type": "display_data"
    },
    {
     "data": {
      "text/html": [
       "<table>\n",
       "<thead><tr><th></th><th scope=col>SampleName</th><th scope=col>dib_assembly_unique_kmers</th><th scope=col>ncgr_assembly_unique_kmers</th><th scope=col>nt_unique_kmers</th><th scope=col>sub_Phylum</th><th scope=col>Phylum</th></tr></thead>\n",
       "<tbody>\n",
       "\t<tr><th scope=row>30</th><td>MMETSP0045     </td><td> 8599174       </td><td>16588847       </td><td>20258710       </td><td>Others         </td><td>Others         </td></tr>\n",
       "\t<tr><th scope=row>43</th><td>MMETSP0088     </td><td> 3048248       </td><td> 7228650       </td><td> 9819310       </td><td>Bacillariophyta</td><td>Bacillariophyta</td></tr>\n",
       "\t<tr><th scope=row>49</th><td>MMETSP0092     </td><td> 3740431       </td><td> 7123883       </td><td>10579641       </td><td>Bacillariophyta</td><td>Bacillariophyta</td></tr>\n",
       "\t<tr><th scope=row>73</th><td>MMETSP0113     </td><td>17792090       </td><td>13458714       </td><td>21411239       </td><td>Others         </td><td>Others         </td></tr>\n",
       "\t<tr><th scope=row>75</th><td>MMETSP0115     </td><td>10846327       </td><td>16593047       </td><td>16717201       </td><td>Others         </td><td>Others         </td></tr>\n",
       "\t<tr><th scope=row>84</th><td>MMETSP0121     </td><td>20949606       </td><td>31922723       </td><td>33149899       </td><td>Dinophyta      </td><td>Dinophyta      </td></tr>\n",
       "\t<tr><th scope=row>101</th><td>MMETSP0152     </td><td>19871282       </td><td>14645491       </td><td>19985406       </td><td>Bacillariophyta</td><td>Bacillariophyta</td></tr>\n",
       "\t<tr><th scope=row>111</th><td>MMETSP0169     </td><td>13326017       </td><td>19044174       </td><td>24068069       </td><td>Bacillariophyta</td><td>Bacillariophyta</td></tr>\n",
       "\t<tr><th scope=row>119</th><td>MMETSP0196     </td><td>  896691       </td><td> 1430197       </td><td> 1896042       </td><td>Dinophyta      </td><td>Dinophyta      </td></tr>\n",
       "\t<tr><th scope=row>143</th><td>MMETSP0229     </td><td>   75019       </td><td>   35307       </td><td>   98008       </td><td>Dinophyta      </td><td>Dinophyta      </td></tr>\n",
       "\t<tr><th scope=row>144</th><td>MMETSP0232     </td><td>  132393       </td><td> 2860061       </td><td> 8976079       </td><td>Others         </td><td>Others         </td></tr>\n",
       "\t<tr><th scope=row>149</th><td>MMETSP0252     </td><td>     838       </td><td>   77421       </td><td>  210754       </td><td>Dinophyta      </td><td>Dinophyta      </td></tr>\n",
       "\t<tr><th scope=row>154</th><td>MMETSP0268     </td><td>28049369       </td><td>39665517       </td><td>40498904       </td><td>Dinophyta      </td><td>Dinophyta      </td></tr>\n",
       "\t<tr><th scope=row>171</th><td>MMETSP0315     </td><td>13142517       </td><td> 8487095       </td><td>13836175       </td><td>Others         </td><td>Others         </td></tr>\n",
       "\t<tr><th scope=row>185</th><td>MMETSP0329     </td><td> 1116295       </td><td>10487339       </td><td>11073265       </td><td>Bacillariophyta</td><td>Bacillariophyta</td></tr>\n",
       "\t<tr><th scope=row>195</th><td>MMETSP0372     </td><td>  705086       </td><td> 2065426       </td><td> 3521241       </td><td>Others         </td><td>Others         </td></tr>\n",
       "\t<tr><th scope=row>197</th><td>MMETSP0380     </td><td>11119805       </td><td>11445573       </td><td>13278318       </td><td>Dinophyta      </td><td>Dinophyta      </td></tr>\n",
       "\t<tr><th scope=row>219</th><td>MMETSP0439     </td><td>  409922       </td><td>      NA       </td><td>22041710       </td><td>Others         </td><td>Others         </td></tr>\n",
       "\t<tr><th scope=row>253</th><td>MMETSP0693     </td><td> 2716761       </td><td> 2102353       </td><td> 3410857       </td><td>Bacillariophyta</td><td>Bacillariophyta</td></tr>\n",
       "\t<tr><th scope=row>263</th><td>MMETSP0717     </td><td> 5652045       </td><td>10389286       </td><td>12352719       </td><td>Bacillariophyta</td><td>Bacillariophyta</td></tr>\n",
       "\t<tr><th scope=row>337</th><td>MMETSP0891     </td><td>21495878       </td><td>13987767       </td><td>21552431       </td><td>Ochrophyta     </td><td>Ochrophyta     </td></tr>\n",
       "\t<tr><th scope=row>370</th><td>MMETSP0930     </td><td> 6963662       </td><td> 6805540       </td><td> 7848158       </td><td>Chlorophyta    </td><td>Chlorophyta    </td></tr>\n",
       "\t<tr><th scope=row>371</th><td>MMETSP0932     </td><td> 1764127       </td><td> 8763240       </td><td>10080601       </td><td>Chlorophyta    </td><td>Chlorophyta    </td></tr>\n",
       "\t<tr><th scope=row>441</th><td>MMETSP1018     </td><td> 6145651       </td><td>   69591       </td><td> 6901574       </td><td>Ciliophora     </td><td>Ciliophora     </td></tr>\n",
       "\t<tr><th scope=row>445</th><td>MMETSP1019     </td><td> 8392899       </td><td>  123291       </td><td> 8689267       </td><td>Ciliophora     </td><td>Ciliophora     </td></tr>\n",
       "\t<tr><th scope=row>474</th><td>MMETSP1065     </td><td>21507636       </td><td>16472879       </td><td>22262589       </td><td>Bacillariophyta</td><td>Bacillariophyta</td></tr>\n",
       "\t<tr><th scope=row>531</th><td>MMETSP1148     </td><td>   24642       </td><td>   15928       </td><td>   57287       </td><td>Dinophyta      </td><td>Dinophyta      </td></tr>\n",
       "\t<tr><th scope=row>558</th><td>MMETSP1178     </td><td>10308802       </td><td>10712947       </td><td>12433767       </td><td>Haptophyta     </td><td>Haptophyta     </td></tr>\n",
       "\t<tr><th scope=row>574</th><td>MMETSP1325     </td><td> 2927168       </td><td> 9117606       </td><td>10939909       </td><td>Ochrophyta     </td><td>Ochrophyta     </td></tr>\n",
       "\t<tr><th scope=row>605</th><td>MMETSP1358     </td><td>20851707       </td><td>19936200       </td><td>24840240       </td><td>Others         </td><td>Others         </td></tr>\n",
       "</tbody>\n",
       "</table>\n"
      ],
      "text/latex": [
       "\\begin{tabular}{r|llllll}\n",
       "  & SampleName & dib\\_assembly\\_unique\\_kmers & ncgr\\_assembly\\_unique\\_kmers & nt\\_unique\\_kmers & sub\\_Phylum & Phylum\\\\\n",
       "\\hline\n",
       "\t30 & MMETSP0045      &  8599174        & 16588847        & 20258710        & Others          & Others         \\\\\n",
       "\t43 & MMETSP0088      &  3048248        &  7228650        &  9819310        & Bacillariophyta & Bacillariophyta\\\\\n",
       "\t49 & MMETSP0092      &  3740431        &  7123883        & 10579641        & Bacillariophyta & Bacillariophyta\\\\\n",
       "\t73 & MMETSP0113      & 17792090        & 13458714        & 21411239        & Others          & Others         \\\\\n",
       "\t75 & MMETSP0115      & 10846327        & 16593047        & 16717201        & Others          & Others         \\\\\n",
       "\t84 & MMETSP0121      & 20949606        & 31922723        & 33149899        & Dinophyta       & Dinophyta      \\\\\n",
       "\t101 & MMETSP0152      & 19871282        & 14645491        & 19985406        & Bacillariophyta & Bacillariophyta\\\\\n",
       "\t111 & MMETSP0169      & 13326017        & 19044174        & 24068069        & Bacillariophyta & Bacillariophyta\\\\\n",
       "\t119 & MMETSP0196      &   896691        &  1430197        &  1896042        & Dinophyta       & Dinophyta      \\\\\n",
       "\t143 & MMETSP0229      &    75019        &    35307        &    98008        & Dinophyta       & Dinophyta      \\\\\n",
       "\t144 & MMETSP0232      &   132393        &  2860061        &  8976079        & Others          & Others         \\\\\n",
       "\t149 & MMETSP0252      &      838        &    77421        &   210754        & Dinophyta       & Dinophyta      \\\\\n",
       "\t154 & MMETSP0268      & 28049369        & 39665517        & 40498904        & Dinophyta       & Dinophyta      \\\\\n",
       "\t171 & MMETSP0315      & 13142517        &  8487095        & 13836175        & Others          & Others         \\\\\n",
       "\t185 & MMETSP0329      &  1116295        & 10487339        & 11073265        & Bacillariophyta & Bacillariophyta\\\\\n",
       "\t195 & MMETSP0372      &   705086        &  2065426        &  3521241        & Others          & Others         \\\\\n",
       "\t197 & MMETSP0380      & 11119805        & 11445573        & 13278318        & Dinophyta       & Dinophyta      \\\\\n",
       "\t219 & MMETSP0439      &   409922        &       NA        & 22041710        & Others          & Others         \\\\\n",
       "\t253 & MMETSP0693      &  2716761        &  2102353        &  3410857        & Bacillariophyta & Bacillariophyta\\\\\n",
       "\t263 & MMETSP0717      &  5652045        & 10389286        & 12352719        & Bacillariophyta & Bacillariophyta\\\\\n",
       "\t337 & MMETSP0891      & 21495878        & 13987767        & 21552431        & Ochrophyta      & Ochrophyta     \\\\\n",
       "\t370 & MMETSP0930      &  6963662        &  6805540        &  7848158        & Chlorophyta     & Chlorophyta    \\\\\n",
       "\t371 & MMETSP0932      &  1764127        &  8763240        & 10080601        & Chlorophyta     & Chlorophyta    \\\\\n",
       "\t441 & MMETSP1018      &  6145651        &    69591        &  6901574        & Ciliophora      & Ciliophora     \\\\\n",
       "\t445 & MMETSP1019      &  8392899        &   123291        &  8689267        & Ciliophora      & Ciliophora     \\\\\n",
       "\t474 & MMETSP1065      & 21507636        & 16472879        & 22262589        & Bacillariophyta & Bacillariophyta\\\\\n",
       "\t531 & MMETSP1148      &    24642        &    15928        &    57287        & Dinophyta       & Dinophyta      \\\\\n",
       "\t558 & MMETSP1178      & 10308802        & 10712947        & 12433767        & Haptophyta      & Haptophyta     \\\\\n",
       "\t574 & MMETSP1325      &  2927168        &  9117606        & 10939909        & Ochrophyta      & Ochrophyta     \\\\\n",
       "\t605 & MMETSP1358      & 20851707        & 19936200        & 24840240        & Others          & Others         \\\\\n",
       "\\end{tabular}\n"
      ],
      "text/markdown": [
       "\n",
       "| <!--/--> | SampleName | dib_assembly_unique_kmers | ncgr_assembly_unique_kmers | nt_unique_kmers | sub_Phylum | Phylum | \n",
       "|---|---|---|---|---|---|---|---|---|---|---|---|---|---|---|---|---|---|---|---|---|---|---|---|---|---|---|---|---|---|\n",
       "| 30 | MMETSP0045      |  8599174        | 16588847        | 20258710        | Others          | Others          | \n",
       "| 43 | MMETSP0088      |  3048248        |  7228650        |  9819310        | Bacillariophyta | Bacillariophyta | \n",
       "| 49 | MMETSP0092      |  3740431        |  7123883        | 10579641        | Bacillariophyta | Bacillariophyta | \n",
       "| 73 | MMETSP0113      | 17792090        | 13458714        | 21411239        | Others          | Others          | \n",
       "| 75 | MMETSP0115      | 10846327        | 16593047        | 16717201        | Others          | Others          | \n",
       "| 84 | MMETSP0121      | 20949606        | 31922723        | 33149899        | Dinophyta       | Dinophyta       | \n",
       "| 101 | MMETSP0152      | 19871282        | 14645491        | 19985406        | Bacillariophyta | Bacillariophyta | \n",
       "| 111 | MMETSP0169      | 13326017        | 19044174        | 24068069        | Bacillariophyta | Bacillariophyta | \n",
       "| 119 | MMETSP0196      |   896691        |  1430197        |  1896042        | Dinophyta       | Dinophyta       | \n",
       "| 143 | MMETSP0229      |    75019        |    35307        |    98008        | Dinophyta       | Dinophyta       | \n",
       "| 144 | MMETSP0232      |   132393        |  2860061        |  8976079        | Others          | Others          | \n",
       "| 149 | MMETSP0252      |      838        |    77421        |   210754        | Dinophyta       | Dinophyta       | \n",
       "| 154 | MMETSP0268      | 28049369        | 39665517        | 40498904        | Dinophyta       | Dinophyta       | \n",
       "| 171 | MMETSP0315      | 13142517        |  8487095        | 13836175        | Others          | Others          | \n",
       "| 185 | MMETSP0329      |  1116295        | 10487339        | 11073265        | Bacillariophyta | Bacillariophyta | \n",
       "| 195 | MMETSP0372      |   705086        |  2065426        |  3521241        | Others          | Others          | \n",
       "| 197 | MMETSP0380      | 11119805        | 11445573        | 13278318        | Dinophyta       | Dinophyta       | \n",
       "| 219 | MMETSP0439      |   409922        |       NA        | 22041710        | Others          | Others          | \n",
       "| 253 | MMETSP0693      |  2716761        |  2102353        |  3410857        | Bacillariophyta | Bacillariophyta | \n",
       "| 263 | MMETSP0717      |  5652045        | 10389286        | 12352719        | Bacillariophyta | Bacillariophyta | \n",
       "| 337 | MMETSP0891      | 21495878        | 13987767        | 21552431        | Ochrophyta      | Ochrophyta      | \n",
       "| 370 | MMETSP0930      |  6963662        |  6805540        |  7848158        | Chlorophyta     | Chlorophyta     | \n",
       "| 371 | MMETSP0932      |  1764127        |  8763240        | 10080601        | Chlorophyta     | Chlorophyta     | \n",
       "| 441 | MMETSP1018      |  6145651        |    69591        |  6901574        | Ciliophora      | Ciliophora      | \n",
       "| 445 | MMETSP1019      |  8392899        |   123291        |  8689267        | Ciliophora      | Ciliophora      | \n",
       "| 474 | MMETSP1065      | 21507636        | 16472879        | 22262589        | Bacillariophyta | Bacillariophyta | \n",
       "| 531 | MMETSP1148      |    24642        |    15928        |    57287        | Dinophyta       | Dinophyta       | \n",
       "| 558 | MMETSP1178      | 10308802        | 10712947        | 12433767        | Haptophyta      | Haptophyta      | \n",
       "| 574 | MMETSP1325      |  2927168        |  9117606        | 10939909        | Ochrophyta      | Ochrophyta      | \n",
       "| 605 | MMETSP1358      | 20851707        | 19936200        | 24840240        | Others          | Others          | \n",
       "\n",
       "\n"
      ],
      "text/plain": [
       "    SampleName dib_assembly_unique_kmers ncgr_assembly_unique_kmers\n",
       "30  MMETSP0045  8599174                  16588847                  \n",
       "43  MMETSP0088  3048248                   7228650                  \n",
       "49  MMETSP0092  3740431                   7123883                  \n",
       "73  MMETSP0113 17792090                  13458714                  \n",
       "75  MMETSP0115 10846327                  16593047                  \n",
       "84  MMETSP0121 20949606                  31922723                  \n",
       "101 MMETSP0152 19871282                  14645491                  \n",
       "111 MMETSP0169 13326017                  19044174                  \n",
       "119 MMETSP0196   896691                   1430197                  \n",
       "143 MMETSP0229    75019                     35307                  \n",
       "144 MMETSP0232   132393                   2860061                  \n",
       "149 MMETSP0252      838                     77421                  \n",
       "154 MMETSP0268 28049369                  39665517                  \n",
       "171 MMETSP0315 13142517                   8487095                  \n",
       "185 MMETSP0329  1116295                  10487339                  \n",
       "195 MMETSP0372   705086                   2065426                  \n",
       "197 MMETSP0380 11119805                  11445573                  \n",
       "219 MMETSP0439   409922                        NA                  \n",
       "253 MMETSP0693  2716761                   2102353                  \n",
       "263 MMETSP0717  5652045                  10389286                  \n",
       "337 MMETSP0891 21495878                  13987767                  \n",
       "370 MMETSP0930  6963662                   6805540                  \n",
       "371 MMETSP0932  1764127                   8763240                  \n",
       "441 MMETSP1018  6145651                     69591                  \n",
       "445 MMETSP1019  8392899                    123291                  \n",
       "474 MMETSP1065 21507636                  16472879                  \n",
       "531 MMETSP1148    24642                     15928                  \n",
       "558 MMETSP1178 10308802                  10712947                  \n",
       "574 MMETSP1325  2927168                   9117606                  \n",
       "605 MMETSP1358 20851707                  19936200                  \n",
       "    nt_unique_kmers sub_Phylum      Phylum         \n",
       "30  20258710        Others          Others         \n",
       "43   9819310        Bacillariophyta Bacillariophyta\n",
       "49  10579641        Bacillariophyta Bacillariophyta\n",
       "73  21411239        Others          Others         \n",
       "75  16717201        Others          Others         \n",
       "84  33149899        Dinophyta       Dinophyta      \n",
       "101 19985406        Bacillariophyta Bacillariophyta\n",
       "111 24068069        Bacillariophyta Bacillariophyta\n",
       "119  1896042        Dinophyta       Dinophyta      \n",
       "143    98008        Dinophyta       Dinophyta      \n",
       "144  8976079        Others          Others         \n",
       "149   210754        Dinophyta       Dinophyta      \n",
       "154 40498904        Dinophyta       Dinophyta      \n",
       "171 13836175        Others          Others         \n",
       "185 11073265        Bacillariophyta Bacillariophyta\n",
       "195  3521241        Others          Others         \n",
       "197 13278318        Dinophyta       Dinophyta      \n",
       "219 22041710        Others          Others         \n",
       "253  3410857        Bacillariophyta Bacillariophyta\n",
       "263 12352719        Bacillariophyta Bacillariophyta\n",
       "337 21552431        Ochrophyta      Ochrophyta     \n",
       "370  7848158        Chlorophyta     Chlorophyta    \n",
       "371 10080601        Chlorophyta     Chlorophyta    \n",
       "441  6901574        Ciliophora      Ciliophora     \n",
       "445  8689267        Ciliophora      Ciliophora     \n",
       "474 22262589        Bacillariophyta Bacillariophyta\n",
       "531    57287        Dinophyta       Dinophyta      \n",
       "558 12433767        Haptophyta      Haptophyta     \n",
       "574 10939909        Ochrophyta      Ochrophyta     \n",
       "605 24840240        Others          Others         "
      ]
     },
     "metadata": {},
     "output_type": "display_data"
    }
   ],
   "source": [
    "dib_low<-dib_ncgr_kmers[which(dib_ncgr_kmers$dib_assembly_unique_kmers - dib_ncgr_kmers$nt_unique_kmers < 0),]\n",
    "dib_low_unique<-dib_low[!duplicated(dib_low$SampleName),]\n",
    "dim(dib_low_unique)\n",
    "dib_low_unique"
   ]
  },
  {
   "cell_type": "code",
   "execution_count": 15,
   "metadata": {},
   "outputs": [
    {
     "data": {
      "text/html": [
       "<ol class=list-inline>\n",
       "\t<li>666</li>\n",
       "\t<li>6</li>\n",
       "</ol>\n"
      ],
      "text/latex": [
       "\\begin{enumerate*}\n",
       "\\item 666\n",
       "\\item 6\n",
       "\\end{enumerate*}\n"
      ],
      "text/markdown": [
       "1. 666\n",
       "2. 6\n",
       "\n",
       "\n"
      ],
      "text/plain": [
       "[1] 666   6"
      ]
     },
     "metadata": {},
     "output_type": "display_data"
    },
    {
     "data": {
      "text/html": [
       "<ol class=list-inline>\n",
       "\t<li>666</li>\n",
       "\t<li>6</li>\n",
       "</ol>\n"
      ],
      "text/latex": [
       "\\begin{enumerate*}\n",
       "\\item 666\n",
       "\\item 6\n",
       "\\end{enumerate*}\n"
      ],
      "text/markdown": [
       "1. 666\n",
       "2. 6\n",
       "\n",
       "\n"
      ],
      "text/plain": [
       "[1] 666   6"
      ]
     },
     "metadata": {},
     "output_type": "display_data"
    }
   ],
   "source": [
    "dim(dib_ncgr_kmers)\n",
    "test<-dib_ncgr_kmers[!duplicated(dib_ncgr_kmers$SampleName),]\n",
    "dim(test)"
   ]
  },
  {
   "cell_type": "markdown",
   "metadata": {},
   "source": [
    "# Figure 7"
   ]
  },
  {
   "cell_type": "code",
   "execution_count": 16,
   "metadata": {},
   "outputs": [
    {
     "data": {
      "text/html": [
       "<table>\n",
       "<thead><tr><th scope=col>SampleName</th><th scope=col>Phylum</th><th scope=col>dib_assembly_unique_kmers</th><th scope=col>ncgr_assembly_unique_kmers</th><th scope=col>nt_unique_kmers</th><th scope=col>NCGR_norm_unique_gene_names</th><th scope=col>DIB_norm_unique_gene_names</th></tr></thead>\n",
       "<tbody>\n",
       "\t<tr><td>MMETSP0007     </td><td>Haptophyta     </td><td>12496793       </td><td> 6672958       </td><td>10776806       </td><td>0.1553238      </td><td>0.3038187      </td></tr>\n",
       "\t<tr><td>MMETSP0009     </td><td>Bacillariophyta</td><td>30074483       </td><td>17983358       </td><td>24244646       </td><td>0.1250278      </td><td>0.2619097      </td></tr>\n",
       "\t<tr><td>MMETSP0011     </td><td>Rhodophyta     </td><td>19018154       </td><td> 8659798       </td><td>13483086       </td><td>0.1282602      </td><td>0.3395015      </td></tr>\n",
       "\t<tr><td>MMETSP0018     </td><td>Ciliophora     </td><td> 9666691       </td><td>   26864       </td><td> 7817848       </td><td>0.5238095      </td><td>0.9876067      </td></tr>\n",
       "\t<tr><td>MMETSP0040     </td><td>Cercozoa       </td><td>23878073       </td><td>14826337       </td><td>19815768       </td><td>0.1054775      </td><td>0.3242380      </td></tr>\n",
       "\t<tr><td>MMETSP0041     </td><td>Cercozoa       </td><td>22194734       </td><td> 8846735       </td><td> 9560866       </td><td>0.1685256      </td><td>0.3280542      </td></tr>\n",
       "</tbody>\n",
       "</table>\n"
      ],
      "text/latex": [
       "\\begin{tabular}{r|lllllll}\n",
       " SampleName & Phylum & dib\\_assembly\\_unique\\_kmers & ncgr\\_assembly\\_unique\\_kmers & nt\\_unique\\_kmers & NCGR\\_norm\\_unique\\_gene\\_names & DIB\\_norm\\_unique\\_gene\\_names\\\\\n",
       "\\hline\n",
       "\t MMETSP0007      & Haptophyta      & 12496793        &  6672958        & 10776806        & 0.1553238       & 0.3038187      \\\\\n",
       "\t MMETSP0009      & Bacillariophyta & 30074483        & 17983358        & 24244646        & 0.1250278       & 0.2619097      \\\\\n",
       "\t MMETSP0011      & Rhodophyta      & 19018154        &  8659798        & 13483086        & 0.1282602       & 0.3395015      \\\\\n",
       "\t MMETSP0018      & Ciliophora      &  9666691        &    26864        &  7817848        & 0.5238095       & 0.9876067      \\\\\n",
       "\t MMETSP0040      & Cercozoa        & 23878073        & 14826337        & 19815768        & 0.1054775       & 0.3242380      \\\\\n",
       "\t MMETSP0041      & Cercozoa        & 22194734        &  8846735        &  9560866        & 0.1685256       & 0.3280542      \\\\\n",
       "\\end{tabular}\n"
      ],
      "text/markdown": [
       "\n",
       "SampleName | Phylum | dib_assembly_unique_kmers | ncgr_assembly_unique_kmers | nt_unique_kmers | NCGR_norm_unique_gene_names | DIB_norm_unique_gene_names | \n",
       "|---|---|---|---|---|---|\n",
       "| MMETSP0007      | Haptophyta      | 12496793        |  6672958        | 10776806        | 0.1553238       | 0.3038187       | \n",
       "| MMETSP0009      | Bacillariophyta | 30074483        | 17983358        | 24244646        | 0.1250278       | 0.2619097       | \n",
       "| MMETSP0011      | Rhodophyta      | 19018154        |  8659798        | 13483086        | 0.1282602       | 0.3395015       | \n",
       "| MMETSP0018      | Ciliophora      |  9666691        |    26864        |  7817848        | 0.5238095       | 0.9876067       | \n",
       "| MMETSP0040      | Cercozoa        | 23878073        | 14826337        | 19815768        | 0.1054775       | 0.3242380       | \n",
       "| MMETSP0041      | Cercozoa        | 22194734        |  8846735        |  9560866        | 0.1685256       | 0.3280542       | \n",
       "\n",
       "\n"
      ],
      "text/plain": [
       "  SampleName Phylum          dib_assembly_unique_kmers\n",
       "1 MMETSP0007 Haptophyta      12496793                 \n",
       "2 MMETSP0009 Bacillariophyta 30074483                 \n",
       "3 MMETSP0011 Rhodophyta      19018154                 \n",
       "4 MMETSP0018 Ciliophora       9666691                 \n",
       "5 MMETSP0040 Cercozoa        23878073                 \n",
       "6 MMETSP0041 Cercozoa        22194734                 \n",
       "  ncgr_assembly_unique_kmers nt_unique_kmers NCGR_norm_unique_gene_names\n",
       "1  6672958                   10776806        0.1553238                  \n",
       "2 17983358                   24244646        0.1250278                  \n",
       "3  8659798                   13483086        0.1282602                  \n",
       "4    26864                    7817848        0.5238095                  \n",
       "5 14826337                   19815768        0.1054775                  \n",
       "6  8846735                    9560866        0.1685256                  \n",
       "  DIB_norm_unique_gene_names\n",
       "1 0.3038187                 \n",
       "2 0.2619097                 \n",
       "3 0.3395015                 \n",
       "4 0.9876067                 \n",
       "5 0.3242380                 \n",
       "6 0.3280542                 "
      ]
     },
     "metadata": {},
     "output_type": "display_data"
    },
    {
     "data": {
      "text/html": [
       "<ol class=list-inline>\n",
       "\t<li>286</li>\n",
       "\t<li>7</li>\n",
       "</ol>\n"
      ],
      "text/latex": [
       "\\begin{enumerate*}\n",
       "\\item 286\n",
       "\\item 7\n",
       "\\end{enumerate*}\n"
      ],
      "text/markdown": [
       "1. 286\n",
       "2. 7\n",
       "\n",
       "\n"
      ],
      "text/plain": [
       "[1] 286   7"
      ]
     },
     "metadata": {},
     "output_type": "display_data"
    }
   ],
   "source": [
    "head(unique_dammit_names)\n",
    "dim(unique_dammit_names)"
   ]
  },
  {
   "cell_type": "code",
   "execution_count": 17,
   "metadata": {},
   "outputs": [],
   "source": [
    "unique_dammit_names$sub_Phylum <- ifelse(unique_dammit_names$Phylum %in% sub_phy, as.character(unique_dammit_names$Phylum),\"Others\")"
   ]
  },
  {
   "cell_type": "code",
   "execution_count": 18,
   "metadata": {},
   "outputs": [
    {
     "data": {
      "text/html": [
       "<table>\n",
       "<thead><tr><th scope=col>SampleName</th><th scope=col>Phylum</th><th scope=col>dib_assembly_unique_kmers</th><th scope=col>ncgr_assembly_unique_kmers</th><th scope=col>nt_unique_kmers</th><th scope=col>NCGR_norm_unique_gene_names</th><th scope=col>DIB_norm_unique_gene_names</th><th scope=col>sub_Phylum</th></tr></thead>\n",
       "<tbody>\n",
       "\t<tr><td>MMETSP0007     </td><td>Haptophyta     </td><td>12496793       </td><td> 6672958       </td><td>10776806       </td><td>0.1553238      </td><td>0.3038187      </td><td>Haptophyta     </td></tr>\n",
       "\t<tr><td>MMETSP0009     </td><td>Bacillariophyta</td><td>30074483       </td><td>17983358       </td><td>24244646       </td><td>0.1250278      </td><td>0.2619097      </td><td>Bacillariophyta</td></tr>\n",
       "\t<tr><td>MMETSP0011     </td><td>Rhodophyta     </td><td>19018154       </td><td> 8659798       </td><td>13483086       </td><td>0.1282602      </td><td>0.3395015      </td><td>Others         </td></tr>\n",
       "\t<tr><td>MMETSP0018     </td><td>Ciliophora     </td><td> 9666691       </td><td>   26864       </td><td> 7817848       </td><td>0.5238095      </td><td>0.9876067      </td><td>Ciliophora     </td></tr>\n",
       "\t<tr><td>MMETSP0040     </td><td>Cercozoa       </td><td>23878073       </td><td>14826337       </td><td>19815768       </td><td>0.1054775      </td><td>0.3242380      </td><td>Others         </td></tr>\n",
       "\t<tr><td>MMETSP0041     </td><td>Cercozoa       </td><td>22194734       </td><td> 8846735       </td><td> 9560866       </td><td>0.1685256      </td><td>0.3280542      </td><td>Others         </td></tr>\n",
       "</tbody>\n",
       "</table>\n"
      ],
      "text/latex": [
       "\\begin{tabular}{r|llllllll}\n",
       " SampleName & Phylum & dib\\_assembly\\_unique\\_kmers & ncgr\\_assembly\\_unique\\_kmers & nt\\_unique\\_kmers & NCGR\\_norm\\_unique\\_gene\\_names & DIB\\_norm\\_unique\\_gene\\_names & sub\\_Phylum\\\\\n",
       "\\hline\n",
       "\t MMETSP0007      & Haptophyta      & 12496793        &  6672958        & 10776806        & 0.1553238       & 0.3038187       & Haptophyta     \\\\\n",
       "\t MMETSP0009      & Bacillariophyta & 30074483        & 17983358        & 24244646        & 0.1250278       & 0.2619097       & Bacillariophyta\\\\\n",
       "\t MMETSP0011      & Rhodophyta      & 19018154        &  8659798        & 13483086        & 0.1282602       & 0.3395015       & Others         \\\\\n",
       "\t MMETSP0018      & Ciliophora      &  9666691        &    26864        &  7817848        & 0.5238095       & 0.9876067       & Ciliophora     \\\\\n",
       "\t MMETSP0040      & Cercozoa        & 23878073        & 14826337        & 19815768        & 0.1054775       & 0.3242380       & Others         \\\\\n",
       "\t MMETSP0041      & Cercozoa        & 22194734        &  8846735        &  9560866        & 0.1685256       & 0.3280542       & Others         \\\\\n",
       "\\end{tabular}\n"
      ],
      "text/markdown": [
       "\n",
       "SampleName | Phylum | dib_assembly_unique_kmers | ncgr_assembly_unique_kmers | nt_unique_kmers | NCGR_norm_unique_gene_names | DIB_norm_unique_gene_names | sub_Phylum | \n",
       "|---|---|---|---|---|---|\n",
       "| MMETSP0007      | Haptophyta      | 12496793        |  6672958        | 10776806        | 0.1553238       | 0.3038187       | Haptophyta      | \n",
       "| MMETSP0009      | Bacillariophyta | 30074483        | 17983358        | 24244646        | 0.1250278       | 0.2619097       | Bacillariophyta | \n",
       "| MMETSP0011      | Rhodophyta      | 19018154        |  8659798        | 13483086        | 0.1282602       | 0.3395015       | Others          | \n",
       "| MMETSP0018      | Ciliophora      |  9666691        |    26864        |  7817848        | 0.5238095       | 0.9876067       | Ciliophora      | \n",
       "| MMETSP0040      | Cercozoa        | 23878073        | 14826337        | 19815768        | 0.1054775       | 0.3242380       | Others          | \n",
       "| MMETSP0041      | Cercozoa        | 22194734        |  8846735        |  9560866        | 0.1685256       | 0.3280542       | Others          | \n",
       "\n",
       "\n"
      ],
      "text/plain": [
       "  SampleName Phylum          dib_assembly_unique_kmers\n",
       "1 MMETSP0007 Haptophyta      12496793                 \n",
       "2 MMETSP0009 Bacillariophyta 30074483                 \n",
       "3 MMETSP0011 Rhodophyta      19018154                 \n",
       "4 MMETSP0018 Ciliophora       9666691                 \n",
       "5 MMETSP0040 Cercozoa        23878073                 \n",
       "6 MMETSP0041 Cercozoa        22194734                 \n",
       "  ncgr_assembly_unique_kmers nt_unique_kmers NCGR_norm_unique_gene_names\n",
       "1  6672958                   10776806        0.1553238                  \n",
       "2 17983358                   24244646        0.1250278                  \n",
       "3  8659798                   13483086        0.1282602                  \n",
       "4    26864                    7817848        0.5238095                  \n",
       "5 14826337                   19815768        0.1054775                  \n",
       "6  8846735                    9560866        0.1685256                  \n",
       "  DIB_norm_unique_gene_names sub_Phylum     \n",
       "1 0.3038187                  Haptophyta     \n",
       "2 0.2619097                  Bacillariophyta\n",
       "3 0.3395015                  Others         \n",
       "4 0.9876067                  Ciliophora     \n",
       "5 0.3242380                  Others         \n",
       "6 0.3280542                  Others         "
      ]
     },
     "metadata": {},
     "output_type": "display_data"
    },
    {
     "data": {
      "text/html": [
       "<ol class=list-inline>\n",
       "\t<li>286</li>\n",
       "\t<li>8</li>\n",
       "</ol>\n"
      ],
      "text/latex": [
       "\\begin{enumerate*}\n",
       "\\item 286\n",
       "\\item 8\n",
       "\\end{enumerate*}\n"
      ],
      "text/markdown": [
       "1. 286\n",
       "2. 8\n",
       "\n",
       "\n"
      ],
      "text/plain": [
       "[1] 286   8"
      ]
     },
     "metadata": {},
     "output_type": "display_data"
    },
    {
     "data": {
      "text/html": [
       "'factor'"
      ],
      "text/latex": [
       "'factor'"
      ],
      "text/markdown": [
       "'factor'"
      ],
      "text/plain": [
       "[1] \"factor\""
      ]
     },
     "metadata": {},
     "output_type": "display_data"
    }
   ],
   "source": [
    "head(unique_dammit_names)\n",
    "dim(unique_dammit_names)\n",
    "unique_dammit_names$sub_Phylum <- as.factor(unique_dammit_names$sub_Phylum)\n",
    "class(unique_dammit_names$sub_Phylum)"
   ]
  },
  {
   "cell_type": "code",
   "execution_count": 19,
   "metadata": {},
   "outputs": [
    {
     "data": {
      "text/html": [
       "<dl class=dl-horizontal>\n",
       "\t<dt>Bacillariophyta</dt>\n",
       "\t\t<dd>83</dd>\n",
       "\t<dt>Chlorophyta</dt>\n",
       "\t\t<dd>38</dd>\n",
       "\t<dt>Ciliophora</dt>\n",
       "\t\t<dd>11</dd>\n",
       "\t<dt>Cryptophyta</dt>\n",
       "\t\t<dd>6</dd>\n",
       "\t<dt>Dinophyta</dt>\n",
       "\t\t<dd>25</dd>\n",
       "\t<dt>Haptophyta</dt>\n",
       "\t\t<dd>24</dd>\n",
       "\t<dt>Ochrophyta</dt>\n",
       "\t\t<dd>34</dd>\n",
       "\t<dt>Others</dt>\n",
       "\t\t<dd>65</dd>\n",
       "</dl>\n"
      ],
      "text/latex": [
       "\\begin{description*}\n",
       "\\item[Bacillariophyta] 83\n",
       "\\item[Chlorophyta] 38\n",
       "\\item[Ciliophora] 11\n",
       "\\item[Cryptophyta] 6\n",
       "\\item[Dinophyta] 25\n",
       "\\item[Haptophyta] 24\n",
       "\\item[Ochrophyta] 34\n",
       "\\item[Others] 65\n",
       "\\end{description*}\n"
      ],
      "text/markdown": [
       "Bacillariophyta\n",
       ":   83Chlorophyta\n",
       ":   38Ciliophora\n",
       ":   11Cryptophyta\n",
       ":   6Dinophyta\n",
       ":   25Haptophyta\n",
       ":   24Ochrophyta\n",
       ":   34Others\n",
       ":   65\n",
       "\n"
      ],
      "text/plain": [
       "Bacillariophyta     Chlorophyta      Ciliophora     Cryptophyta       Dinophyta \n",
       "             83              38              11               6              25 \n",
       "     Haptophyta      Ochrophyta          Others \n",
       "             24              34              65 "
      ]
     },
     "metadata": {},
     "output_type": "display_data"
    },
    {
     "data": {
      "text/html": [
       "<ol class=list-inline>\n",
       "\t<li>'SampleName'</li>\n",
       "\t<li>'Phylum'</li>\n",
       "\t<li>'dib_assembly_unique_kmers'</li>\n",
       "\t<li>'ncgr_assembly_unique_kmers'</li>\n",
       "\t<li>'nt_unique_kmers'</li>\n",
       "\t<li>'NCGR_norm_unique_gene_names'</li>\n",
       "\t<li>'DIB_norm_unique_gene_names'</li>\n",
       "\t<li>'sub_Phylum'</li>\n",
       "</ol>\n"
      ],
      "text/latex": [
       "\\begin{enumerate*}\n",
       "\\item 'SampleName'\n",
       "\\item 'Phylum'\n",
       "\\item 'dib\\_assembly\\_unique\\_kmers'\n",
       "\\item 'ncgr\\_assembly\\_unique\\_kmers'\n",
       "\\item 'nt\\_unique\\_kmers'\n",
       "\\item 'NCGR\\_norm\\_unique\\_gene\\_names'\n",
       "\\item 'DIB\\_norm\\_unique\\_gene\\_names'\n",
       "\\item 'sub\\_Phylum'\n",
       "\\end{enumerate*}\n"
      ],
      "text/markdown": [
       "1. 'SampleName'\n",
       "2. 'Phylum'\n",
       "3. 'dib_assembly_unique_kmers'\n",
       "4. 'ncgr_assembly_unique_kmers'\n",
       "5. 'nt_unique_kmers'\n",
       "6. 'NCGR_norm_unique_gene_names'\n",
       "7. 'DIB_norm_unique_gene_names'\n",
       "8. 'sub_Phylum'\n",
       "\n",
       "\n"
      ],
      "text/plain": [
       "[1] \"SampleName\"                  \"Phylum\"                     \n",
       "[3] \"dib_assembly_unique_kmers\"   \"ncgr_assembly_unique_kmers\" \n",
       "[5] \"nt_unique_kmers\"             \"NCGR_norm_unique_gene_names\"\n",
       "[7] \"DIB_norm_unique_gene_names\"  \"sub_Phylum\"                 "
      ]
     },
     "metadata": {},
     "output_type": "display_data"
    },
    {
     "data": {
      "text/html": [
       "8"
      ],
      "text/latex": [
       "8"
      ],
      "text/markdown": [
       "8"
      ],
      "text/plain": [
       "[1] 8"
      ]
     },
     "metadata": {},
     "output_type": "display_data"
    }
   ],
   "source": [
    "summary(unique_dammit_names$sub_Phylum)\n",
    "colnames(unique_dammit_names)\n",
    "length(colnames(unique_dammit_names))"
   ]
  },
  {
   "cell_type": "code",
   "execution_count": 20,
   "metadata": {},
   "outputs": [],
   "source": [
    "unique_dammit_names <- unique_dammit_names[,c(1,3:8)]\n",
    "unique_dammit_names$Phylum <- unique_dammit_names$sub_Phylum"
   ]
  },
  {
   "cell_type": "code",
   "execution_count": 21,
   "metadata": {},
   "outputs": [
    {
     "data": {
      "text/html": [
       "<strong>pdf:</strong> 2"
      ],
      "text/latex": [
       "\\textbf{pdf:} 2"
      ],
      "text/markdown": [
       "**pdf:** 2"
      ],
      "text/plain": [
       "pdf \n",
       "  2 "
      ]
     },
     "metadata": {},
     "output_type": "display_data"
    },
    {
     "data": {
      "image/png": "[encoded data removed]",
      "text/plain": [
       "plot without title"
      ]
     },
     "metadata": {},
     "output_type": "display_data"
    }
   ],
   "source": [
    "Cols = function(vec){\n",
    "  #cols=palette(brewer.pal(n=7,name=\"Dark2\"))\n",
    "  #cols=rainbow(length(unique(vec)))\n",
    "  cols = palette(brewer.pal(n=8,name=\"Dark2\"))\n",
    "  return(cols[as.numeric(as.factor(vec))])}\n",
    "\n",
    "pdf(\"../paper/Figure7_unique_gene_names.pdf\")\n",
    "#png(\"../paper/Figure7_unique_gene_names.png\",width=6.41,height=6.41,units=\"in\",res=1200)\n",
    "plot(unique_dammit_names$NCGR_norm_unique_gene_names,unique_dammit_names$DIB_norm_unique_gene_names,ylim=c(-0.01,1.1),xlim=c(-0.01,1.1),\n",
    "     col=Cols(as.character(unique_dammit_names$Phylum)),pch=19,\n",
    "     ylab = \"Unique names in DIB re-assemblies\",\n",
    "     xlab=\"Unique names in NCGR assemblies\",\n",
    "     frame.plot = FALSE)\n",
    "abline(0,1)\n",
    "legend(0,1.1,legend=sort(unique(as.character(unique_dammit_names$Phylum))),\n",
    "       col=Cols(sort(unique(as.character(unique_dammit_names$Phylum)))),\n",
    "       cex=0.8, pch=19,bty=\"n\")\n",
    "dev.off()\n",
    "plot(unique_dammit_names$NCGR_norm_unique_gene_names,unique_dammit_names$DIB_norm_unique_gene_names,ylim=c(-0.01,1.1),xlim=c(-0.01,1.1),\n",
    "     col=Cols(as.character(unique_dammit_names$Phylum)),pch=19,\n",
    "     ylab = \"Unique names in DIB re-assemblies\",\n",
    "     xlab=\"Unique names in NCGR assemblies\",\n",
    "     frame.plot = FALSE)\n",
    "abline(0,1)\n",
    "legend(0,1.1,legend=sort(unique(as.character(unique_dammit_names$Phylum))),col=Cols(sort(unique(as.character(unique_dammit_names$Phylum)))),cex=0.8, pch=19,bty=\"n\")"
   ]
  },
  {
   "cell_type": "code",
   "execution_count": 32,
   "metadata": {},
   "outputs": [
    {
     "data": {
      "text/html": [
       "<table>\n",
       "<thead><tr><th scope=col>SampleName</th><th scope=col>dib_assembly_unique_kmers</th><th scope=col>ncgr_assembly_unique_kmers</th><th scope=col>nt_unique_kmers</th><th scope=col>NCGR_norm_unique_gene_names</th><th scope=col>DIB_norm_unique_gene_names</th><th scope=col>sub_Phylum</th><th scope=col>Phylum</th></tr></thead>\n",
       "<tbody>\n",
       "\t<tr><td>MMETSP0007     </td><td>12496793       </td><td> 6672958       </td><td>10776806       </td><td>0.1553238      </td><td>0.3038187      </td><td>Haptophyta     </td><td>Haptophyta     </td></tr>\n",
       "\t<tr><td>MMETSP0009     </td><td>30074483       </td><td>17983358       </td><td>24244646       </td><td>0.1250278      </td><td>0.2619097      </td><td>Bacillariophyta</td><td>Bacillariophyta</td></tr>\n",
       "\t<tr><td>MMETSP0011     </td><td>19018154       </td><td> 8659798       </td><td>13483086       </td><td>0.1282602      </td><td>0.3395015      </td><td>Others         </td><td>Others         </td></tr>\n",
       "\t<tr><td>MMETSP0018     </td><td> 9666691       </td><td>   26864       </td><td> 7817848       </td><td>0.5238095      </td><td>0.9876067      </td><td>Ciliophora     </td><td>Ciliophora     </td></tr>\n",
       "\t<tr><td>MMETSP0040     </td><td>23878073       </td><td>14826337       </td><td>19815768       </td><td>0.1054775      </td><td>0.3242380      </td><td>Others         </td><td>Others         </td></tr>\n",
       "\t<tr><td>MMETSP0041     </td><td>22194734       </td><td> 8846735       </td><td> 9560866       </td><td>0.1685256      </td><td>0.3280542      </td><td>Others         </td><td>Others         </td></tr>\n",
       "</tbody>\n",
       "</table>\n"
      ],
      "text/latex": [
       "\\begin{tabular}{r|llllllll}\n",
       " SampleName & dib\\_assembly\\_unique\\_kmers & ncgr\\_assembly\\_unique\\_kmers & nt\\_unique\\_kmers & NCGR\\_norm\\_unique\\_gene\\_names & DIB\\_norm\\_unique\\_gene\\_names & sub\\_Phylum & Phylum\\\\\n",
       "\\hline\n",
       "\t MMETSP0007      & 12496793        &  6672958        & 10776806        & 0.1553238       & 0.3038187       & Haptophyta      & Haptophyta     \\\\\n",
       "\t MMETSP0009      & 30074483        & 17983358        & 24244646        & 0.1250278       & 0.2619097       & Bacillariophyta & Bacillariophyta\\\\\n",
       "\t MMETSP0011      & 19018154        &  8659798        & 13483086        & 0.1282602       & 0.3395015       & Others          & Others         \\\\\n",
       "\t MMETSP0018      &  9666691        &    26864        &  7817848        & 0.5238095       & 0.9876067       & Ciliophora      & Ciliophora     \\\\\n",
       "\t MMETSP0040      & 23878073        & 14826337        & 19815768        & 0.1054775       & 0.3242380       & Others          & Others         \\\\\n",
       "\t MMETSP0041      & 22194734        &  8846735        &  9560866        & 0.1685256       & 0.3280542       & Others          & Others         \\\\\n",
       "\\end{tabular}\n"
      ],
      "text/markdown": [
       "\n",
       "SampleName | dib_assembly_unique_kmers | ncgr_assembly_unique_kmers | nt_unique_kmers | NCGR_norm_unique_gene_names | DIB_norm_unique_gene_names | sub_Phylum | Phylum | \n",
       "|---|---|---|---|---|---|\n",
       "| MMETSP0007      | 12496793        |  6672958        | 10776806        | 0.1553238       | 0.3038187       | Haptophyta      | Haptophyta      | \n",
       "| MMETSP0009      | 30074483        | 17983358        | 24244646        | 0.1250278       | 0.2619097       | Bacillariophyta | Bacillariophyta | \n",
       "| MMETSP0011      | 19018154        |  8659798        | 13483086        | 0.1282602       | 0.3395015       | Others          | Others          | \n",
       "| MMETSP0018      |  9666691        |    26864        |  7817848        | 0.5238095       | 0.9876067       | Ciliophora      | Ciliophora      | \n",
       "| MMETSP0040      | 23878073        | 14826337        | 19815768        | 0.1054775       | 0.3242380       | Others          | Others          | \n",
       "| MMETSP0041      | 22194734        |  8846735        |  9560866        | 0.1685256       | 0.3280542       | Others          | Others          | \n",
       "\n",
       "\n"
      ],
      "text/plain": [
       "  SampleName dib_assembly_unique_kmers ncgr_assembly_unique_kmers\n",
       "1 MMETSP0007 12496793                   6672958                  \n",
       "2 MMETSP0009 30074483                  17983358                  \n",
       "3 MMETSP0011 19018154                   8659798                  \n",
       "4 MMETSP0018  9666691                     26864                  \n",
       "5 MMETSP0040 23878073                  14826337                  \n",
       "6 MMETSP0041 22194734                   8846735                  \n",
       "  nt_unique_kmers NCGR_norm_unique_gene_names DIB_norm_unique_gene_names\n",
       "1 10776806        0.1553238                   0.3038187                 \n",
       "2 24244646        0.1250278                   0.2619097                 \n",
       "3 13483086        0.1282602                   0.3395015                 \n",
       "4  7817848        0.5238095                   0.9876067                 \n",
       "5 19815768        0.1054775                   0.3242380                 \n",
       "6  9560866        0.1685256                   0.3280542                 \n",
       "  sub_Phylum      Phylum         \n",
       "1 Haptophyta      Haptophyta     \n",
       "2 Bacillariophyta Bacillariophyta\n",
       "3 Others          Others         \n",
       "4 Ciliophora      Ciliophora     \n",
       "5 Others          Others         \n",
       "6 Others          Others         "
      ]
     },
     "metadata": {},
     "output_type": "display_data"
    },
    {
     "data": {
      "text/html": [
       "<ol class=list-inline>\n",
       "\t<li>286</li>\n",
       "\t<li>8</li>\n",
       "</ol>\n"
      ],
      "text/latex": [
       "\\begin{enumerate*}\n",
       "\\item 286\n",
       "\\item 8\n",
       "\\end{enumerate*}\n"
      ],
      "text/markdown": [
       "1. 286\n",
       "2. 8\n",
       "\n",
       "\n"
      ],
      "text/plain": [
       "[1] 286   8"
      ]
     },
     "metadata": {},
     "output_type": "display_data"
    }
   ],
   "source": [
    "head(unique_dammit_names)\n",
    "dim(unique_dammit_names)"
   ]
  },
  {
   "cell_type": "markdown",
   "metadata": {},
   "source": [
    "## NCGR annotations higher (outliers)"
   ]
  },
  {
   "cell_type": "code",
   "execution_count": 33,
   "metadata": {},
   "outputs": [
    {
     "data": {
      "text/html": [
       "<ol class=list-inline>\n",
       "\t<li>9</li>\n",
       "\t<li>8</li>\n",
       "</ol>\n"
      ],
      "text/latex": [
       "\\begin{enumerate*}\n",
       "\\item 9\n",
       "\\item 8\n",
       "\\end{enumerate*}\n"
      ],
      "text/markdown": [
       "1. 9\n",
       "2. 8\n",
       "\n",
       "\n"
      ],
      "text/plain": [
       "[1] 9 8"
      ]
     },
     "metadata": {},
     "output_type": "display_data"
    },
    {
     "data": {
      "text/html": [
       "<table>\n",
       "<thead><tr><th></th><th scope=col>SampleName</th><th scope=col>dib_assembly_unique_kmers</th><th scope=col>ncgr_assembly_unique_kmers</th><th scope=col>nt_unique_kmers</th><th scope=col>NCGR_norm_unique_gene_names</th><th scope=col>DIB_norm_unique_gene_names</th><th scope=col>sub_Phylum</th><th scope=col>Phylum</th></tr></thead>\n",
       "<tbody>\n",
       "\t<tr><th scope=row>38</th><td>MMETSP0169     </td><td>13326017       </td><td>19044174       </td><td>24068069       </td><td>0.4501192      </td><td>0.4093184      </td><td>Bacillariophyta</td><td>Bacillariophyta</td></tr>\n",
       "\t<tr><th scope=row>56</th><td>MMETSP0232     </td><td>  132393       </td><td> 2860061       </td><td> 8976079       </td><td>0.9748985      </td><td>0.6614420      </td><td>Others         </td><td>Others         </td></tr>\n",
       "\t<tr><th scope=row>70</th><td>MMETSP0378     </td><td>14605780       </td><td>11445573       </td><td>13278318       </td><td>0.2712076      </td><td>0.2657631      </td><td>Dinophyta      </td><td>Dinophyta      </td></tr>\n",
       "\t<tr><th scope=row>71</th><td>MMETSP0380     </td><td>11119805       </td><td>11445573       </td><td>13278318       </td><td>0.3277611      </td><td>0.2746512      </td><td>Dinophyta      </td><td>Dinophyta      </td></tr>\n",
       "\t<tr><th scope=row>134</th><td>MMETSP0912     </td><td>19404580       </td><td>11804455       </td><td>16943837       </td><td>0.8607947      </td><td>0.2411168      </td><td>Bacillariophyta</td><td>Bacillariophyta</td></tr>\n",
       "\t<tr><th scope=row>143</th><td>MMETSP0937     </td><td>10191377       </td><td> 7305196       </td><td> 7833149       </td><td>0.8963239      </td><td>0.2124183      </td><td>Chlorophyta    </td><td>Chlorophyta    </td></tr>\n",
       "\t<tr><th scope=row>178</th><td>MMETSP1057     </td><td>32859038       </td><td>21832441       </td><td>30329665       </td><td>0.9590082      </td><td>0.3529412      </td><td>Bacillariophyta</td><td>Bacillariophyta</td></tr>\n",
       "\t<tr><th scope=row>214</th><td>MMETSP1148     </td><td>   24642       </td><td>   15928       </td><td>   57287       </td><td>0.7272727      </td><td>0.5588235      </td><td>Dinophyta      </td><td>Dinophyta      </td></tr>\n",
       "\t<tr><th scope=row>276</th><td>MMETSP1412     </td><td>29732268       </td><td>21154160       </td><td>24989616       </td><td>0.9967450      </td><td>0.5000000      </td><td>Bacillariophyta</td><td>Bacillariophyta</td></tr>\n",
       "</tbody>\n",
       "</table>\n"
      ],
      "text/latex": [
       "\\begin{tabular}{r|llllllll}\n",
       "  & SampleName & dib\\_assembly\\_unique\\_kmers & ncgr\\_assembly\\_unique\\_kmers & nt\\_unique\\_kmers & NCGR\\_norm\\_unique\\_gene\\_names & DIB\\_norm\\_unique\\_gene\\_names & sub\\_Phylum & Phylum\\\\\n",
       "\\hline\n",
       "\t38 & MMETSP0169      & 13326017        & 19044174        & 24068069        & 0.4501192       & 0.4093184       & Bacillariophyta & Bacillariophyta\\\\\n",
       "\t56 & MMETSP0232      &   132393        &  2860061        &  8976079        & 0.9748985       & 0.6614420       & Others          & Others         \\\\\n",
       "\t70 & MMETSP0378      & 14605780        & 11445573        & 13278318        & 0.2712076       & 0.2657631       & Dinophyta       & Dinophyta      \\\\\n",
       "\t71 & MMETSP0380      & 11119805        & 11445573        & 13278318        & 0.3277611       & 0.2746512       & Dinophyta       & Dinophyta      \\\\\n",
       "\t134 & MMETSP0912      & 19404580        & 11804455        & 16943837        & 0.8607947       & 0.2411168       & Bacillariophyta & Bacillariophyta\\\\\n",
       "\t143 & MMETSP0937      & 10191377        &  7305196        &  7833149        & 0.8963239       & 0.2124183       & Chlorophyta     & Chlorophyta    \\\\\n",
       "\t178 & MMETSP1057      & 32859038        & 21832441        & 30329665        & 0.9590082       & 0.3529412       & Bacillariophyta & Bacillariophyta\\\\\n",
       "\t214 & MMETSP1148      &    24642        &    15928        &    57287        & 0.7272727       & 0.5588235       & Dinophyta       & Dinophyta      \\\\\n",
       "\t276 & MMETSP1412      & 29732268        & 21154160        & 24989616        & 0.9967450       & 0.5000000       & Bacillariophyta & Bacillariophyta\\\\\n",
       "\\end{tabular}\n"
      ],
      "text/markdown": [
       "\n",
       "| <!--/--> | SampleName | dib_assembly_unique_kmers | ncgr_assembly_unique_kmers | nt_unique_kmers | NCGR_norm_unique_gene_names | DIB_norm_unique_gene_names | sub_Phylum | Phylum | \n",
       "|---|---|---|---|---|---|---|---|---|\n",
       "| 38 | MMETSP0169      | 13326017        | 19044174        | 24068069        | 0.4501192       | 0.4093184       | Bacillariophyta | Bacillariophyta | \n",
       "| 56 | MMETSP0232      |   132393        |  2860061        |  8976079        | 0.9748985       | 0.6614420       | Others          | Others          | \n",
       "| 70 | MMETSP0378      | 14605780        | 11445573        | 13278318        | 0.2712076       | 0.2657631       | Dinophyta       | Dinophyta       | \n",
       "| 71 | MMETSP0380      | 11119805        | 11445573        | 13278318        | 0.3277611       | 0.2746512       | Dinophyta       | Dinophyta       | \n",
       "| 134 | MMETSP0912      | 19404580        | 11804455        | 16943837        | 0.8607947       | 0.2411168       | Bacillariophyta | Bacillariophyta | \n",
       "| 143 | MMETSP0937      | 10191377        |  7305196        |  7833149        | 0.8963239       | 0.2124183       | Chlorophyta     | Chlorophyta     | \n",
       "| 178 | MMETSP1057      | 32859038        | 21832441        | 30329665        | 0.9590082       | 0.3529412       | Bacillariophyta | Bacillariophyta | \n",
       "| 214 | MMETSP1148      |    24642        |    15928        |    57287        | 0.7272727       | 0.5588235       | Dinophyta       | Dinophyta       | \n",
       "| 276 | MMETSP1412      | 29732268        | 21154160        | 24989616        | 0.9967450       | 0.5000000       | Bacillariophyta | Bacillariophyta | \n",
       "\n",
       "\n"
      ],
      "text/plain": [
       "    SampleName dib_assembly_unique_kmers ncgr_assembly_unique_kmers\n",
       "38  MMETSP0169 13326017                  19044174                  \n",
       "56  MMETSP0232   132393                   2860061                  \n",
       "70  MMETSP0378 14605780                  11445573                  \n",
       "71  MMETSP0380 11119805                  11445573                  \n",
       "134 MMETSP0912 19404580                  11804455                  \n",
       "143 MMETSP0937 10191377                   7305196                  \n",
       "178 MMETSP1057 32859038                  21832441                  \n",
       "214 MMETSP1148    24642                     15928                  \n",
       "276 MMETSP1412 29732268                  21154160                  \n",
       "    nt_unique_kmers NCGR_norm_unique_gene_names DIB_norm_unique_gene_names\n",
       "38  24068069        0.4501192                   0.4093184                 \n",
       "56   8976079        0.9748985                   0.6614420                 \n",
       "70  13278318        0.2712076                   0.2657631                 \n",
       "71  13278318        0.3277611                   0.2746512                 \n",
       "134 16943837        0.8607947                   0.2411168                 \n",
       "143  7833149        0.8963239                   0.2124183                 \n",
       "178 30329665        0.9590082                   0.3529412                 \n",
       "214    57287        0.7272727                   0.5588235                 \n",
       "276 24989616        0.9967450                   0.5000000                 \n",
       "    sub_Phylum      Phylum         \n",
       "38  Bacillariophyta Bacillariophyta\n",
       "56  Others          Others         \n",
       "70  Dinophyta       Dinophyta      \n",
       "71  Dinophyta       Dinophyta      \n",
       "134 Bacillariophyta Bacillariophyta\n",
       "143 Chlorophyta     Chlorophyta    \n",
       "178 Bacillariophyta Bacillariophyta\n",
       "214 Dinophyta       Dinophyta      \n",
       "276 Bacillariophyta Bacillariophyta"
      ]
     },
     "metadata": {},
     "output_type": "display_data"
    }
   ],
   "source": [
    "low <- unique_dammit_names$DIB_norm_unique_gene_names - unique_dammit_names$NCGR_norm_unique_gene_names\n",
    "unique_dammit_names_dib_low <-unique_dammit_names[which(unique_dammit_names$DIB_norm_unique_gene_names - unique_dammit_names$NCGR_norm_unique_gene_names < 0),]\n",
    "dim(unique_dammit_names_dib_low)\n",
    "unique_dammit_names_dib_low"
   ]
  },
  {
   "cell_type": "markdown",
   "metadata": {
    "collapsed": true
   },
   "source": [
    "# What is the average percentage (± stdev) of newly-assembled contigs that annotated to a database (Pfam, Rfam, and OrthoDB)"
   ]
  },
  {
   "cell_type": "code",
   "execution_count": 34,
   "metadata": {
    "collapsed": true
   },
   "outputs": [],
   "source": [
    "num_contigs = read.csv(\"../assembly_evaluation_data/annotation_stats.csv\")\n",
    "dib_contig_nums = read.csv(\"../assembly_evaluation_data/transrate_reference_scores_cds.csv\")\n",
    "ncgr_contig_nums = read.csv(\"../assembly_evaluation_data/transrate_imicrobe_scores.csv\")"
   ]
  },
  {
   "cell_type": "code",
   "execution_count": 35,
   "metadata": {
    "collapsed": true
   },
   "outputs": [],
   "source": [
    "num_contigs_sub = num_contigs[,c(1,2,3)]\n",
    "contigs = dib_contig_nums[,c(2,44)]\n",
    "colnames(num_contigs_sub) <- c(\"MMETSP\",\"total_annotated_contigs\",\"unique_anotations\")\n",
    "colnames(contigs)<-c(\"n_contigs\",\"MMETSP\")"
   ]
  },
  {
   "cell_type": "code",
   "execution_count": 36,
   "metadata": {
    "collapsed": true
   },
   "outputs": [],
   "source": [
    "num_contigs_new <- merge(num_contigs_sub,contigs,by=\"MMETSP\")\n",
    "num_contigs_new <- num_contigs_new[!num_contigs_new$MMETSP %in% special_flowers,]"
   ]
  },
  {
   "cell_type": "code",
   "execution_count": 37,
   "metadata": {},
   "outputs": [
    {
     "data": {
      "text/html": [
       "<table>\n",
       "<thead><tr><th></th><th scope=col>MMETSP</th><th scope=col>total_annotated_contigs</th><th scope=col>unique_anotations</th><th scope=col>n_contigs</th></tr></thead>\n",
       "<tbody>\n",
       "\t<tr><th scope=row>1</th><td>MMETSP0004</td><td>26851     </td><td>12707     </td><td>31798     </td></tr>\n",
       "\t<tr><th scope=row>2</th><td>MMETSP0005</td><td>26252     </td><td>12246     </td><td>30447     </td></tr>\n",
       "\t<tr><th scope=row>3</th><td>MMETSP0006</td><td>36795     </td><td>17810     </td><td>42819     </td></tr>\n",
       "\t<tr><th scope=row>4</th><td>MMETSP0007</td><td>17308     </td><td> 7773     </td><td>26600     </td></tr>\n",
       "\t<tr><th scope=row>7</th><td>MMETSP0009</td><td>36990     </td><td>12576     </td><td>47658     </td></tr>\n",
       "\t<tr><th scope=row>8</th><td>MMETSP0010</td><td>35765     </td><td>14801     </td><td>35648     </td></tr>\n",
       "</tbody>\n",
       "</table>\n"
      ],
      "text/latex": [
       "\\begin{tabular}{r|llll}\n",
       "  & MMETSP & total\\_annotated\\_contigs & unique\\_anotations & n\\_contigs\\\\\n",
       "\\hline\n",
       "\t1 & MMETSP0004 & 26851      & 12707      & 31798     \\\\\n",
       "\t2 & MMETSP0005 & 26252      & 12246      & 30447     \\\\\n",
       "\t3 & MMETSP0006 & 36795      & 17810      & 42819     \\\\\n",
       "\t4 & MMETSP0007 & 17308      &  7773      & 26600     \\\\\n",
       "\t7 & MMETSP0009 & 36990      & 12576      & 47658     \\\\\n",
       "\t8 & MMETSP0010 & 35765      & 14801      & 35648     \\\\\n",
       "\\end{tabular}\n"
      ],
      "text/markdown": [
       "\n",
       "| <!--/--> | MMETSP | total_annotated_contigs | unique_anotations | n_contigs | \n",
       "|---|---|---|---|---|---|\n",
       "| 1 | MMETSP0004 | 26851      | 12707      | 31798      | \n",
       "| 2 | MMETSP0005 | 26252      | 12246      | 30447      | \n",
       "| 3 | MMETSP0006 | 36795      | 17810      | 42819      | \n",
       "| 4 | MMETSP0007 | 17308      |  7773      | 26600      | \n",
       "| 7 | MMETSP0009 | 36990      | 12576      | 47658      | \n",
       "| 8 | MMETSP0010 | 35765      | 14801      | 35648      | \n",
       "\n",
       "\n"
      ],
      "text/plain": [
       "  MMETSP     total_annotated_contigs unique_anotations n_contigs\n",
       "1 MMETSP0004 26851                   12707             31798    \n",
       "2 MMETSP0005 26252                   12246             30447    \n",
       "3 MMETSP0006 36795                   17810             42819    \n",
       "4 MMETSP0007 17308                    7773             26600    \n",
       "7 MMETSP0009 36990                   12576             47658    \n",
       "8 MMETSP0010 35765                   14801             35648    "
      ]
     },
     "metadata": {},
     "output_type": "display_data"
    }
   ],
   "source": [
    "head(num_contigs_new)"
   ]
  },
  {
   "cell_type": "code",
   "execution_count": 38,
   "metadata": {
    "collapsed": true
   },
   "outputs": [],
   "source": [
    "average_perc_annotated = mean(num_contigs_new$total_annotated_contigs/num_contigs_new$n_contigs)\n",
    "average_perc_unique_annotated = mean(num_contigs_new$unique_anotations/num_contigs_new$n_contigs)"
   ]
  },
  {
   "cell_type": "code",
   "execution_count": 39,
   "metadata": {},
   "outputs": [
    {
     "data": {
      "text/html": [
       "0.910602587336427"
      ],
      "text/latex": [
       "0.910602587336427"
      ],
      "text/markdown": [
       "0.910602587336427"
      ],
      "text/plain": [
       "[1] 0.9106026"
      ]
     },
     "metadata": {},
     "output_type": "display_data"
    }
   ],
   "source": [
    "mean(num_contigs_new$total_annotated_contigs/num_contigs_new$n_contigs)"
   ]
  },
  {
   "cell_type": "code",
   "execution_count": 40,
   "metadata": {},
   "outputs": [
    {
     "data": {
      "text/html": [
       "1.5814369174232"
      ],
      "text/latex": [
       "1.5814369174232"
      ],
      "text/markdown": [
       "1.5814369174232"
      ],
      "text/plain": [
       "[1] 1.581437"
      ]
     },
     "metadata": {},
     "output_type": "display_data"
    }
   ],
   "source": [
    "sd(num_contigs_new$total_annotated_contigs/num_contigs_new$n_contigs)"
   ]
  },
  {
   "cell_type": "code",
   "execution_count": 41,
   "metadata": {},
   "outputs": [
    {
     "data": {
      "text/html": [
       "0.452613670818709"
      ],
      "text/latex": [
       "0.452613670818709"
      ],
      "text/markdown": [
       "0.452613670818709"
      ],
      "text/plain": [
       "[1] 0.4526137"
      ]
     },
     "metadata": {},
     "output_type": "display_data"
    }
   ],
   "source": [
    "mean(num_contigs_new$unique_anotations/num_contigs_new$n_contigs, na.rm=TRUE)"
   ]
  },
  {
   "cell_type": "code",
   "execution_count": 42,
   "metadata": {},
   "outputs": [
    {
     "data": {
      "text/html": [
       "0.873277199503328"
      ],
      "text/latex": [
       "0.873277199503328"
      ],
      "text/markdown": [
       "0.873277199503328"
      ],
      "text/plain": [
       "[1] 0.8732772"
      ]
     },
     "metadata": {},
     "output_type": "display_data"
    }
   ],
   "source": [
    "sd(num_contigs_new$unique_anotations/num_contigs_new$n_contigs, na.rm=TRUE)"
   ]
  },
  {
   "cell_type": "code",
   "execution_count": 43,
   "metadata": {},
   "outputs": [
    {
     "data": {
      "text/html": [
       "<table>\n",
       "<thead><tr><th scope=col>assembly</th><th scope=col>SampleName</th><th scope=col>n_seqs</th><th scope=col>smallest</th><th scope=col>largest</th><th scope=col>n_bases</th><th scope=col>mean_len</th><th scope=col>n_under_200</th><th scope=col>n_over_1k</th><th scope=col>n_over_10k</th><th scope=col>⋯</th><th scope=col>p_contigs_uncovbase</th><th scope=col>contigs_uncovered</th><th scope=col>p_contigs_uncovered</th><th scope=col>contigs_lowcovered</th><th scope=col>p_contigs_lowcovered</th><th scope=col>contigs_segmented</th><th scope=col>p_contigs_segmented</th><th scope=col>score</th><th scope=col>optimal_score</th><th scope=col>cutoff</th></tr></thead>\n",
       "<tbody>\n",
       "\t<tr><td>/mnt/research/ged/lisa/mmetsp/imicrobe/cds/MMETSP0909.cds.fa.fixed.fa</td><td>MMETSP0909                                                           </td><td>17793                                                                </td><td>150                                                                  </td><td> 5295                                                                </td><td>13335459                                                             </td><td> 726.3241                                                            </td><td>2371                                                                 </td><td> 4918                                                                </td><td> 0                                                                   </td><td>⋯                                                                    </td><td>0.62997                                                              </td><td>  73                                                                 </td><td>0.00410                                                              </td><td> 2864                                                                </td><td>0.16096                                                              </td><td>5822                                                                 </td><td>0.32721                                                              </td><td>0.08002                                                              </td><td>0.08486                                                              </td><td>0.02586                                                              </td></tr>\n",
       "\t<tr><td>/mnt/research/ged/lisa/mmetsp/imicrobe/cds/MMETSP1138.cds.fa.fixed.fa</td><td>MMETSP1138                                                           </td><td>21907                                                                </td><td>150                                                                  </td><td>13716                                                                </td><td>22494042                                                             </td><td>1016.9273                                                            </td><td>1248                                                                 </td><td> 8959                                                                </td><td> 4                                                                   </td><td>⋯                                                                    </td><td>0.75834                                                              </td><td>3558                                                                 </td><td>0.16241                                                              </td><td>11314                                                                </td><td>0.51646                                                              </td><td> 621                                                                 </td><td>0.02835                                                              </td><td>0.15532                                                              </td><td>0.29205                                                              </td><td>0.46644                                                              </td></tr>\n",
       "\t<tr><td>/mnt/research/ged/lisa/mmetsp/imicrobe/cds/MMETSP0317.cds.fa.fixed.fa</td><td>MMETSP0317                                                           </td><td>10424                                                                </td><td>150                                                                  </td><td>14124                                                                </td><td>12824577                                                             </td><td>1225.5069                                                            </td><td> 287                                                                 </td><td> 5182                                                                </td><td> 5                                                                   </td><td>⋯                                                                    </td><td>0.68314                                                              </td><td>1624                                                                 </td><td>0.15579                                                              </td><td> 4927                                                                </td><td>0.47266                                                              </td><td> 142                                                                 </td><td>0.01362                                                              </td><td>0.29773                                                              </td><td>0.48681                                                              </td><td>0.45753                                                              </td></tr>\n",
       "\t<tr><td>/mnt/research/ged/lisa/mmetsp/imicrobe/cds/MMETSP0370.cds.fa.fixed.fa</td><td>MMETSP0370                                                           </td><td>54971                                                                </td><td>150                                                                  </td><td> 7545                                                                </td><td>41366781                                                             </td><td> 725.2256                                                            </td><td>8621                                                                 </td><td>15861                                                                </td><td> 0                                                                   </td><td>⋯                                                                    </td><td>0.67985                                                              </td><td> 291                                                                 </td><td>0.00529                                                              </td><td>21782                                                                </td><td>0.39625                                                              </td><td>2127                                                                 </td><td>0.03869                                                              </td><td>0.17398                                                              </td><td>0.24414                                                              </td><td>0.41163                                                              </td></tr>\n",
       "\t<tr><td>/mnt/research/ged/lisa/mmetsp/imicrobe/cds/MMETSP1412.cds.fa.fixed.fa</td><td>MMETSP1412                                                           </td><td>14977                                                                </td><td>150                                                                  </td><td>11460                                                                </td><td>19276146                                                             </td><td>1275.2630                                                            </td><td>1015                                                                 </td><td> 7611                                                                </td><td> 2                                                                   </td><td>⋯                                                                    </td><td>0.66075                                                              </td><td>  43                                                                 </td><td>0.00287                                                              </td><td> 3505                                                                </td><td>0.23403                                                              </td><td>1752                                                                 </td><td>0.11698                                                              </td><td>0.22650                                                              </td><td>0.25427                                                              </td><td>0.32807                                                              </td></tr>\n",
       "\t<tr><td>/mnt/research/ged/lisa/mmetsp/imicrobe/cds/MMETSP0527.cds.fa.fixed.fa</td><td>MMETSP0527                                                           </td><td>69295                                                                </td><td>150                                                                  </td><td>14601                                                                </td><td>78969480                                                             </td><td>1126.2404                                                            </td><td>5335                                                                 </td><td>30963                                                                </td><td>43                                                                   </td><td>⋯                                                                    </td><td>0.76190                                                              </td><td>8868                                                                 </td><td>0.12797                                                              </td><td>40461                                                                </td><td>0.58389                                                              </td><td>1478                                                                 </td><td>0.02133                                                              </td><td>0.22165                                                              </td><td>0.39974                                                              </td><td>0.52570                                                              </td></tr>\n",
       "</tbody>\n",
       "</table>\n"
      ],
      "text/latex": [
       "\\begin{tabular}{r|llllllllllllllllllllllllllllllllllllllllllll}\n",
       " assembly & SampleName & n\\_seqs & smallest & largest & n\\_bases & mean\\_len & n\\_under\\_200 & n\\_over\\_1k & n\\_over\\_10k & ⋯ & p\\_contigs\\_uncovbase & contigs\\_uncovered & p\\_contigs\\_uncovered & contigs\\_lowcovered & p\\_contigs\\_lowcovered & contigs\\_segmented & p\\_contigs\\_segmented & score & optimal\\_score & cutoff\\\\\n",
       "\\hline\n",
       "\t /mnt/research/ged/lisa/mmetsp/imicrobe/cds/MMETSP0909.cds.fa.fixed.fa & MMETSP0909                                                            & 17793                                                                 & 150                                                                   &  5295                                                                 & 13335459                                                              &  726.3241                                                             & 2371                                                                  &  4918                                                                 &  0                                                                    & ⋯                                                                     & 0.62997                                                               &   73                                                                  & 0.00410                                                               &  2864                                                                 & 0.16096                                                               & 5822                                                                  & 0.32721                                                               & 0.08002                                                               & 0.08486                                                               & 0.02586                                                              \\\\\n",
       "\t /mnt/research/ged/lisa/mmetsp/imicrobe/cds/MMETSP1138.cds.fa.fixed.fa & MMETSP1138                                                            & 21907                                                                 & 150                                                                   & 13716                                                                 & 22494042                                                              & 1016.9273                                                             & 1248                                                                  &  8959                                                                 &  4                                                                    & ⋯                                                                     & 0.75834                                                               & 3558                                                                  & 0.16241                                                               & 11314                                                                 & 0.51646                                                               &  621                                                                  & 0.02835                                                               & 0.15532                                                               & 0.29205                                                               & 0.46644                                                              \\\\\n",
       "\t /mnt/research/ged/lisa/mmetsp/imicrobe/cds/MMETSP0317.cds.fa.fixed.fa & MMETSP0317                                                            & 10424                                                                 & 150                                                                   & 14124                                                                 & 12824577                                                              & 1225.5069                                                             &  287                                                                  &  5182                                                                 &  5                                                                    & ⋯                                                                     & 0.68314                                                               & 1624                                                                  & 0.15579                                                               &  4927                                                                 & 0.47266                                                               &  142                                                                  & 0.01362                                                               & 0.29773                                                               & 0.48681                                                               & 0.45753                                                              \\\\\n",
       "\t /mnt/research/ged/lisa/mmetsp/imicrobe/cds/MMETSP0370.cds.fa.fixed.fa & MMETSP0370                                                            & 54971                                                                 & 150                                                                   &  7545                                                                 & 41366781                                                              &  725.2256                                                             & 8621                                                                  & 15861                                                                 &  0                                                                    & ⋯                                                                     & 0.67985                                                               &  291                                                                  & 0.00529                                                               & 21782                                                                 & 0.39625                                                               & 2127                                                                  & 0.03869                                                               & 0.17398                                                               & 0.24414                                                               & 0.41163                                                              \\\\\n",
       "\t /mnt/research/ged/lisa/mmetsp/imicrobe/cds/MMETSP1412.cds.fa.fixed.fa & MMETSP1412                                                            & 14977                                                                 & 150                                                                   & 11460                                                                 & 19276146                                                              & 1275.2630                                                             & 1015                                                                  &  7611                                                                 &  2                                                                    & ⋯                                                                     & 0.66075                                                               &   43                                                                  & 0.00287                                                               &  3505                                                                 & 0.23403                                                               & 1752                                                                  & 0.11698                                                               & 0.22650                                                               & 0.25427                                                               & 0.32807                                                              \\\\\n",
       "\t /mnt/research/ged/lisa/mmetsp/imicrobe/cds/MMETSP0527.cds.fa.fixed.fa & MMETSP0527                                                            & 69295                                                                 & 150                                                                   & 14601                                                                 & 78969480                                                              & 1126.2404                                                             & 5335                                                                  & 30963                                                                 & 43                                                                    & ⋯                                                                     & 0.76190                                                               & 8868                                                                  & 0.12797                                                               & 40461                                                                 & 0.58389                                                               & 1478                                                                  & 0.02133                                                               & 0.22165                                                               & 0.39974                                                               & 0.52570                                                              \\\\\n",
       "\\end{tabular}\n"
      ],
      "text/markdown": [
       "\n",
       "assembly | SampleName | n_seqs | smallest | largest | n_bases | mean_len | n_under_200 | n_over_1k | n_over_10k | ⋯ | p_contigs_uncovbase | contigs_uncovered | p_contigs_uncovered | contigs_lowcovered | p_contigs_lowcovered | contigs_segmented | p_contigs_segmented | score | optimal_score | cutoff | \n",
       "|---|---|---|---|---|---|\n",
       "| /mnt/research/ged/lisa/mmetsp/imicrobe/cds/MMETSP0909.cds.fa.fixed.fa | MMETSP0909                                                            | 17793                                                                 | 150                                                                   |  5295                                                                 | 13335459                                                              |  726.3241                                                             | 2371                                                                  |  4918                                                                 |  0                                                                    | ⋯                                                                     | 0.62997                                                               |   73                                                                  | 0.00410                                                               |  2864                                                                 | 0.16096                                                               | 5822                                                                  | 0.32721                                                               | 0.08002                                                               | 0.08486                                                               | 0.02586                                                               | \n",
       "| /mnt/research/ged/lisa/mmetsp/imicrobe/cds/MMETSP1138.cds.fa.fixed.fa | MMETSP1138                                                            | 21907                                                                 | 150                                                                   | 13716                                                                 | 22494042                                                              | 1016.9273                                                             | 1248                                                                  |  8959                                                                 |  4                                                                    | ⋯                                                                     | 0.75834                                                               | 3558                                                                  | 0.16241                                                               | 11314                                                                 | 0.51646                                                               |  621                                                                  | 0.02835                                                               | 0.15532                                                               | 0.29205                                                               | 0.46644                                                               | \n",
       "| /mnt/research/ged/lisa/mmetsp/imicrobe/cds/MMETSP0317.cds.fa.fixed.fa | MMETSP0317                                                            | 10424                                                                 | 150                                                                   | 14124                                                                 | 12824577                                                              | 1225.5069                                                             |  287                                                                  |  5182                                                                 |  5                                                                    | ⋯                                                                     | 0.68314                                                               | 1624                                                                  | 0.15579                                                               |  4927                                                                 | 0.47266                                                               |  142                                                                  | 0.01362                                                               | 0.29773                                                               | 0.48681                                                               | 0.45753                                                               | \n",
       "| /mnt/research/ged/lisa/mmetsp/imicrobe/cds/MMETSP0370.cds.fa.fixed.fa | MMETSP0370                                                            | 54971                                                                 | 150                                                                   |  7545                                                                 | 41366781                                                              |  725.2256                                                             | 8621                                                                  | 15861                                                                 |  0                                                                    | ⋯                                                                     | 0.67985                                                               |  291                                                                  | 0.00529                                                               | 21782                                                                 | 0.39625                                                               | 2127                                                                  | 0.03869                                                               | 0.17398                                                               | 0.24414                                                               | 0.41163                                                               | \n",
       "| /mnt/research/ged/lisa/mmetsp/imicrobe/cds/MMETSP1412.cds.fa.fixed.fa | MMETSP1412                                                            | 14977                                                                 | 150                                                                   | 11460                                                                 | 19276146                                                              | 1275.2630                                                             | 1015                                                                  |  7611                                                                 |  2                                                                    | ⋯                                                                     | 0.66075                                                               |   43                                                                  | 0.00287                                                               |  3505                                                                 | 0.23403                                                               | 1752                                                                  | 0.11698                                                               | 0.22650                                                               | 0.25427                                                               | 0.32807                                                               | \n",
       "| /mnt/research/ged/lisa/mmetsp/imicrobe/cds/MMETSP0527.cds.fa.fixed.fa | MMETSP0527                                                            | 69295                                                                 | 150                                                                   | 14601                                                                 | 78969480                                                              | 1126.2404                                                             | 5335                                                                  | 30963                                                                 | 43                                                                    | ⋯                                                                     | 0.76190                                                               | 8868                                                                  | 0.12797                                                               | 40461                                                                 | 0.58389                                                               | 1478                                                                  | 0.02133                                                               | 0.22165                                                               | 0.39974                                                               | 0.52570                                                               | \n",
       "\n",
       "\n"
      ],
      "text/plain": [
       "  assembly                                                             \n",
       "1 /mnt/research/ged/lisa/mmetsp/imicrobe/cds/MMETSP0909.cds.fa.fixed.fa\n",
       "2 /mnt/research/ged/lisa/mmetsp/imicrobe/cds/MMETSP1138.cds.fa.fixed.fa\n",
       "3 /mnt/research/ged/lisa/mmetsp/imicrobe/cds/MMETSP0317.cds.fa.fixed.fa\n",
       "4 /mnt/research/ged/lisa/mmetsp/imicrobe/cds/MMETSP0370.cds.fa.fixed.fa\n",
       "5 /mnt/research/ged/lisa/mmetsp/imicrobe/cds/MMETSP1412.cds.fa.fixed.fa\n",
       "6 /mnt/research/ged/lisa/mmetsp/imicrobe/cds/MMETSP0527.cds.fa.fixed.fa\n",
       "  SampleName n_seqs smallest largest n_bases  mean_len  n_under_200 n_over_1k\n",
       "1 MMETSP0909 17793  150       5295   13335459  726.3241 2371         4918    \n",
       "2 MMETSP1138 21907  150      13716   22494042 1016.9273 1248         8959    \n",
       "3 MMETSP0317 10424  150      14124   12824577 1225.5069  287         5182    \n",
       "4 MMETSP0370 54971  150       7545   41366781  725.2256 8621        15861    \n",
       "5 MMETSP1412 14977  150      11460   19276146 1275.2630 1015         7611    \n",
       "6 MMETSP0527 69295  150      14601   78969480 1126.2404 5335        30963    \n",
       "  n_over_10k ⋯ p_contigs_uncovbase contigs_uncovered p_contigs_uncovered\n",
       "1  0         ⋯ 0.62997               73              0.00410            \n",
       "2  4         ⋯ 0.75834             3558              0.16241            \n",
       "3  5         ⋯ 0.68314             1624              0.15579            \n",
       "4  0         ⋯ 0.67985              291              0.00529            \n",
       "5  2         ⋯ 0.66075               43              0.00287            \n",
       "6 43         ⋯ 0.76190             8868              0.12797            \n",
       "  contigs_lowcovered p_contigs_lowcovered contigs_segmented p_contigs_segmented\n",
       "1  2864              0.16096              5822              0.32721            \n",
       "2 11314              0.51646               621              0.02835            \n",
       "3  4927              0.47266               142              0.01362            \n",
       "4 21782              0.39625              2127              0.03869            \n",
       "5  3505              0.23403              1752              0.11698            \n",
       "6 40461              0.58389              1478              0.02133            \n",
       "  score   optimal_score cutoff \n",
       "1 0.08002 0.08486       0.02586\n",
       "2 0.15532 0.29205       0.46644\n",
       "3 0.29773 0.48681       0.45753\n",
       "4 0.17398 0.24414       0.41163\n",
       "5 0.22650 0.25427       0.32807\n",
       "6 0.22165 0.39974       0.52570"
      ]
     },
     "metadata": {},
     "output_type": "display_data"
    }
   ],
   "source": [
    "head(ncgr_contig_nums)"
   ]
  },
  {
   "cell_type": "code",
   "execution_count": 44,
   "metadata": {
    "collapsed": true
   },
   "outputs": [],
   "source": [
    "false_crbb <- num_contigs[,c(1,4)]\n",
    "colnames(false_crbb)<-c(\"MMETSP\",\"annotations_w_false_crbb\")\n",
    "false_crbb <- false_crbb[!false_crbb$MMETSP %in% special_flowers,]\n",
    "num_contigs_new <- merge(num_contigs_new,false_crbb,by=\"MMETSP\")"
   ]
  },
  {
   "cell_type": "code",
   "execution_count": 45,
   "metadata": {},
   "outputs": [
    {
     "data": {
      "text/html": [
       "<table>\n",
       "<thead><tr><th scope=col>MMETSP</th><th scope=col>total_annotated_contigs</th><th scope=col>unique_anotations</th><th scope=col>n_contigs</th><th scope=col>annotations_w_false_crbb</th></tr></thead>\n",
       "<tbody>\n",
       "\t<tr><td>MMETSP0004</td><td>26851     </td><td>12707     </td><td>31798     </td><td>2246      </td></tr>\n",
       "\t<tr><td>MMETSP0005</td><td>26252     </td><td>12246     </td><td>30447     </td><td>1748      </td></tr>\n",
       "\t<tr><td>MMETSP0006</td><td>36795     </td><td>17810     </td><td>42819     </td><td>4691      </td></tr>\n",
       "\t<tr><td>MMETSP0007</td><td>17308     </td><td> 7773     </td><td>26600     </td><td>1368      </td></tr>\n",
       "\t<tr><td>MMETSP0009</td><td>36990     </td><td>12576     </td><td>47658     </td><td>  NA      </td></tr>\n",
       "\t<tr><td>MMETSP0010</td><td>35765     </td><td>14801     </td><td>35648     </td><td>3675      </td></tr>\n",
       "</tbody>\n",
       "</table>\n"
      ],
      "text/latex": [
       "\\begin{tabular}{r|lllll}\n",
       " MMETSP & total\\_annotated\\_contigs & unique\\_anotations & n\\_contigs & annotations\\_w\\_false\\_crbb\\\\\n",
       "\\hline\n",
       "\t MMETSP0004 & 26851      & 12707      & 31798      & 2246      \\\\\n",
       "\t MMETSP0005 & 26252      & 12246      & 30447      & 1748      \\\\\n",
       "\t MMETSP0006 & 36795      & 17810      & 42819      & 4691      \\\\\n",
       "\t MMETSP0007 & 17308      &  7773      & 26600      & 1368      \\\\\n",
       "\t MMETSP0009 & 36990      & 12576      & 47658      &   NA      \\\\\n",
       "\t MMETSP0010 & 35765      & 14801      & 35648      & 3675      \\\\\n",
       "\\end{tabular}\n"
      ],
      "text/markdown": [
       "\n",
       "MMETSP | total_annotated_contigs | unique_anotations | n_contigs | annotations_w_false_crbb | \n",
       "|---|---|---|---|---|---|\n",
       "| MMETSP0004 | 26851      | 12707      | 31798      | 2246       | \n",
       "| MMETSP0005 | 26252      | 12246      | 30447      | 1748       | \n",
       "| MMETSP0006 | 36795      | 17810      | 42819      | 4691       | \n",
       "| MMETSP0007 | 17308      |  7773      | 26600      | 1368       | \n",
       "| MMETSP0009 | 36990      | 12576      | 47658      |   NA       | \n",
       "| MMETSP0010 | 35765      | 14801      | 35648      | 3675       | \n",
       "\n",
       "\n"
      ],
      "text/plain": [
       "  MMETSP     total_annotated_contigs unique_anotations n_contigs\n",
       "1 MMETSP0004 26851                   12707             31798    \n",
       "2 MMETSP0005 26252                   12246             30447    \n",
       "3 MMETSP0006 36795                   17810             42819    \n",
       "4 MMETSP0007 17308                    7773             26600    \n",
       "5 MMETSP0009 36990                   12576             47658    \n",
       "6 MMETSP0010 35765                   14801             35648    \n",
       "  annotations_w_false_crbb\n",
       "1 2246                    \n",
       "2 1748                    \n",
       "3 4691                    \n",
       "4 1368                    \n",
       "5   NA                    \n",
       "6 3675                    "
      ]
     },
     "metadata": {},
     "output_type": "display_data"
    }
   ],
   "source": [
    "head(num_contigs_new)"
   ]
  },
  {
   "cell_type": "code",
   "execution_count": 46,
   "metadata": {},
   "outputs": [
    {
     "data": {
      "text/html": [
       "0.0788478913916498"
      ],
      "text/latex": [
       "0.0788478913916498"
      ],
      "text/markdown": [
       "0.0788478913916498"
      ],
      "text/plain": [
       "[1] 0.07884789"
      ]
     },
     "metadata": {},
     "output_type": "display_data"
    }
   ],
   "source": [
    "mean(num_contigs_new$annotations_w_false_crbb/num_contigs_new$n_contigs, na.rm=TRUE)"
   ]
  },
  {
   "cell_type": "code",
   "execution_count": 47,
   "metadata": {},
   "outputs": [
    {
     "data": {
      "text/html": [
       "0.194238531252217"
      ],
      "text/latex": [
       "0.194238531252217"
      ],
      "text/markdown": [
       "0.194238531252217"
      ],
      "text/plain": [
       "[1] 0.1942385"
      ]
     },
     "metadata": {},
     "output_type": "display_data"
    }
   ],
   "source": [
    "sd(num_contigs_new$annotations_w_false_crbb/num_contigs_new$n_contigs, na.rm=TRUE)"
   ]
  },
  {
   "cell_type": "markdown",
   "metadata": {
    "collapsed": true
   },
   "source": [
    "# What happened to the low unique *k*-mers in Figure 6?"
   ]
  },
  {
   "cell_type": "code",
   "execution_count": 48,
   "metadata": {},
   "outputs": [
    {
     "data": {
      "text/html": [
       "<ol class=list-inline>\n",
       "\t<li>0</li>\n",
       "\t<li>6</li>\n",
       "</ol>\n"
      ],
      "text/latex": [
       "\\begin{enumerate*}\n",
       "\\item 0\n",
       "\\item 6\n",
       "\\end{enumerate*}\n"
      ],
      "text/markdown": [
       "1. 0\n",
       "2. 6\n",
       "\n",
       "\n"
      ],
      "text/plain": [
       "[1] 0 6"
      ]
     },
     "metadata": {},
     "output_type": "display_data"
    },
    {
     "data": {
      "text/html": [
       "<table>\n",
       "<thead><tr><th scope=col>SampleName</th><th scope=col>dib_assembly_unique_kmers</th><th scope=col>ncgr_assembly_unique_kmers</th><th scope=col>nt_unique_kmers</th><th scope=col>sub_Phylum</th><th scope=col>Phylum</th></tr></thead>\n",
       "<tbody>\n",
       "</tbody>\n",
       "</table>\n"
      ],
      "text/latex": [
       "\\begin{tabular}{r|llllll}\n",
       " SampleName & dib\\_assembly\\_unique\\_kmers & ncgr\\_assembly\\_unique\\_kmers & nt\\_unique\\_kmers & sub\\_Phylum & Phylum\\\\\n",
       "\\hline\n",
       "\\end{tabular}\n"
      ],
      "text/markdown": [
       "\n",
       "SampleName | dib_assembly_unique_kmers | ncgr_assembly_unique_kmers | nt_unique_kmers | sub_Phylum | Phylum | \n",
       "||\n",
       "\n",
       "\n"
      ],
      "text/plain": [
       "     SampleName dib_assembly_unique_kmers ncgr_assembly_unique_kmers\n",
       "     nt_unique_kmers sub_Phylum Phylum"
      ]
     },
     "metadata": {},
     "output_type": "display_data"
    }
   ],
   "source": [
    "dib_low<-dib_ncgr_kmers[which(dib_ncgr_kmers$Unique_kmers_assembly < 1000000),]\n",
    "dim(dib_low)\n",
    "head(dib_low)"
   ]
  },
  {
   "cell_type": "code",
   "execution_count": 49,
   "metadata": {},
   "outputs": [
    {
     "data": {
      "text/html": [
       "<ol class=list-inline>\n",
       "\t<li>0</li>\n",
       "\t<li>6</li>\n",
       "</ol>\n"
      ],
      "text/latex": [
       "\\begin{enumerate*}\n",
       "\\item 0\n",
       "\\item 6\n",
       "\\end{enumerate*}\n"
      ],
      "text/markdown": [
       "1. 0\n",
       "2. 6\n",
       "\n",
       "\n"
      ],
      "text/plain": [
       "[1] 0 6"
      ]
     },
     "metadata": {},
     "output_type": "display_data"
    },
    {
     "data": {
      "text/html": [
       "<table>\n",
       "<thead><tr><th scope=col>SampleName</th><th scope=col>dib_assembly_unique_kmers</th><th scope=col>ncgr_assembly_unique_kmers</th><th scope=col>nt_unique_kmers</th><th scope=col>sub_Phylum</th><th scope=col>Phylum</th></tr></thead>\n",
       "<tbody>\n",
       "</tbody>\n",
       "</table>\n"
      ],
      "text/latex": [
       "\\begin{tabular}{r|llllll}\n",
       " SampleName & dib\\_assembly\\_unique\\_kmers & ncgr\\_assembly\\_unique\\_kmers & nt\\_unique\\_kmers & sub\\_Phylum & Phylum\\\\\n",
       "\\hline\n",
       "\\end{tabular}\n"
      ],
      "text/markdown": [
       "\n",
       "SampleName | dib_assembly_unique_kmers | ncgr_assembly_unique_kmers | nt_unique_kmers | sub_Phylum | Phylum | \n",
       "||\n",
       "\n",
       "\n"
      ],
      "text/plain": [
       "     SampleName dib_assembly_unique_kmers ncgr_assembly_unique_kmers\n",
       "     nt_unique_kmers sub_Phylum Phylum"
      ]
     },
     "metadata": {},
     "output_type": "display_data"
    }
   ],
   "source": [
    "ncgr_greater<-dib_low[which(dib_low$Unique_kmers_assembly<dib_low$Unique_kmers),]\n",
    "dim(ncgr_greater)\n",
    "ncgr_greater"
   ]
  },
  {
   "cell_type": "code",
   "execution_count": null,
   "metadata": {
    "collapsed": true
   },
   "outputs": [],
   "source": []
  }
 ],
 "metadata": {
  "anaconda-cloud": {},
  "kernelspec": {
   "display_name": "R",
   "language": "R",
   "name": "ir"
  },
  "language_info": {
   "codemirror_mode": "r",
   "file_extension": ".r",
   "mimetype": "text/x-r-source",
   "name": "R",
   "pygments_lexer": "r",
   "version": "3.4.1"
  }
 },
 "nbformat": 4,
 "nbformat_minor": 2
}
