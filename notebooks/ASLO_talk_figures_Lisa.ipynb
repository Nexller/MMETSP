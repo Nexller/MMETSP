{
 "cells": [
  {
   "cell_type": "code",
<<<<<<< HEAD:notebooks/ASLO_talk_figures_Lisa.ipynb
   "execution_count": 2,
=======
   "execution_count": 1,
>>>>>>> e72529b23f716898b5d303b3d10eee8028fd6877:notebooks/ASLO_talk_figures.ipynb
   "metadata": {
    "collapsed": false
   },
   "outputs": [
    {
     "name": "stdout",
     "output_type": "stream",
     "text": [
      "Populating the interactive namespace from numpy and matplotlib\n"
     ]
    }
   ],
   "source": [
    "%matplotlib inline\n",
    "%pylab inline\n",
    "import pandas as pd\n",
    "import numpy as np\n",
    "import pylab as pl\n",
    "from matplotlib import pyplot as plt\n",
    "import palettable as pal"
   ]
  },
  {
   "cell_type": "code",
<<<<<<< HEAD:notebooks/ASLO_talk_figures_Lisa.ipynb
   "execution_count": 18,
=======
   "execution_count": 2,
>>>>>>> e72529b23f716898b5d303b3d10eee8028fd6877:notebooks/ASLO_talk_figures.ipynb
   "metadata": {
    "collapsed": false
   },
   "outputs": [],
   "source": [
    "evaluation_frame = pd.read_csv(\"../assembly_evaluation_data/merged_annotation_stats.csv\",index_col='SampleName')\n",
    "reads_table = pd.read_csv(\"../assembly_evaluation_data/MMETSP_plotting_data.csv\",index_col='SampleName')\n",
    "reads_frame2 = reads_table[['Phylum','Input.Reads','Unique_kmers_assembly','mean_orf_percent.x','score.x','Complete_eukaryotic_BUSCO_perc']].dropna()"
   ]
  },
  {
   "cell_type": "code",
<<<<<<< HEAD:notebooks/ASLO_talk_figures_Lisa.ipynb
   "execution_count": 21,
=======
   "execution_count": 3,
>>>>>>> e72529b23f716898b5d303b3d10eee8028fd6877:notebooks/ASLO_talk_figures.ipynb
   "metadata": {
    "collapsed": false
   },
   "outputs": [
    {
     "data": {
      "text/plain": [
       "Index(['Bacillariophyta', 'Dinophyta', 'Ochrophyta', 'Haptophyta',\n",
       "       'Chlorophyta', 'Ciliophora', 'Cryptophyta'],\n",
       "      dtype='object', name='Phylum')"
      ]
     },
     "execution_count": 21,
     "metadata": {},
     "output_type": "execute_result"
    }
   ],
   "source": [
    "groups_of_interest=reads_frame2.groupby('Phylum').count().sort_values(by='Input.Reads', \n",
    "                                                                      ascending=False).iloc[0:8].drop(['Unknown']).index\n",
    "groups_of_interest"
   ]
  },
  {
   "cell_type": "code",
<<<<<<< HEAD:notebooks/ASLO_talk_figures_Lisa.ipynb
   "execution_count": 26,
=======
   "execution_count": 4,
>>>>>>> e72529b23f716898b5d303b3d10eee8028fd6877:notebooks/ASLO_talk_figures.ipynb
   "metadata": {
    "collapsed": false
   },
   "outputs": [
    {
     "data": {
      "text/html": [
       "<div>\n",
       "<table border=\"1\" class=\"dataframe\">\n",
       "  <thead>\n",
       "    <tr style=\"text-align: right;\">\n",
       "      <th></th>\n",
       "      <th>Input.Reads</th>\n",
       "      <th>Unique_kmers_assembly</th>\n",
       "      <th>mean_orf_percent.x</th>\n",
       "      <th>score.x</th>\n",
       "      <th>Complete_eukaryotic_BUSCO_perc</th>\n",
       "    </tr>\n",
       "    <tr>\n",
       "      <th>Phylum</th>\n",
       "      <th></th>\n",
       "      <th></th>\n",
       "      <th></th>\n",
       "      <th></th>\n",
       "      <th></th>\n",
       "    </tr>\n",
       "  </thead>\n",
       "  <tbody>\n",
       "    <tr>\n",
       "      <th>Bacillariophyta</th>\n",
       "      <td>173</td>\n",
       "      <td>173</td>\n",
       "      <td>173</td>\n",
       "      <td>173</td>\n",
       "      <td>173</td>\n",
       "    </tr>\n",
       "    <tr>\n",
       "      <th>Dinophyta</th>\n",
       "      <td>111</td>\n",
       "      <td>111</td>\n",
       "      <td>111</td>\n",
       "      <td>111</td>\n",
       "      <td>111</td>\n",
       "    </tr>\n",
       "    <tr>\n",
       "      <th>Ochrophyta</th>\n",
       "      <td>73</td>\n",
       "      <td>73</td>\n",
       "      <td>73</td>\n",
       "      <td>73</td>\n",
       "      <td>73</td>\n",
       "    </tr>\n",
       "    <tr>\n",
       "      <th>Haptophyta</th>\n",
       "      <td>61</td>\n",
       "      <td>61</td>\n",
       "      <td>61</td>\n",
       "      <td>61</td>\n",
       "      <td>61</td>\n",
       "    </tr>\n",
       "    <tr>\n",
       "      <th>Unknown</th>\n",
       "      <td>60</td>\n",
       "      <td>60</td>\n",
       "      <td>60</td>\n",
       "      <td>60</td>\n",
       "      <td>60</td>\n",
       "    </tr>\n",
       "    <tr>\n",
       "      <th>Chlorophyta</th>\n",
       "      <td>60</td>\n",
       "      <td>60</td>\n",
       "      <td>60</td>\n",
       "      <td>60</td>\n",
       "      <td>60</td>\n",
       "    </tr>\n",
       "    <tr>\n",
       "      <th>Ciliophora</th>\n",
       "      <td>25</td>\n",
       "      <td>25</td>\n",
       "      <td>25</td>\n",
       "      <td>25</td>\n",
       "      <td>25</td>\n",
       "    </tr>\n",
       "    <tr>\n",
       "      <th>Cryptophyta</th>\n",
       "      <td>22</td>\n",
       "      <td>22</td>\n",
       "      <td>22</td>\n",
       "      <td>22</td>\n",
       "      <td>22</td>\n",
       "    </tr>\n",
       "  </tbody>\n",
       "</table>\n",
       "</div>"
      ],
      "text/plain": [
       "                 Input.Reads  Unique_kmers_assembly  mean_orf_percent.x  \\\n",
       "Phylum                                                                    \n",
       "Bacillariophyta          173                    173                 173   \n",
       "Dinophyta                111                    111                 111   \n",
       "Ochrophyta                73                     73                  73   \n",
       "Haptophyta                61                     61                  61   \n",
       "Unknown                   60                     60                  60   \n",
       "Chlorophyta               60                     60                  60   \n",
       "Ciliophora                25                     25                  25   \n",
       "Cryptophyta               22                     22                  22   \n",
       "\n",
       "                 score.x  Complete_eukaryotic_BUSCO_perc  \n",
       "Phylum                                                    \n",
       "Bacillariophyta      173                             173  \n",
       "Dinophyta            111                             111  \n",
       "Ochrophyta            73                              73  \n",
       "Haptophyta            61                              61  \n",
       "Unknown               60                              60  \n",
       "Chlorophyta           60                              60  \n",
       "Ciliophora            25                              25  \n",
       "Cryptophyta           22                              22  "
      ]
     },
<<<<<<< HEAD:notebooks/ASLO_talk_figures_Lisa.ipynb
     "execution_count": 26,
=======
     "execution_count": 4,
>>>>>>> e72529b23f716898b5d303b3d10eee8028fd6877:notebooks/ASLO_talk_figures.ipynb
     "metadata": {},
     "output_type": "execute_result"
    }
   ],
   "source": [
    "groups_of_interest_nums = reads_frame2.groupby('Phylum').count().sort_values(by='Input.Reads', \n",
    "                                                                      ascending=False).iloc[0:8]\n",
    "groups_of_interest_nums"
   ]
  },
  {
   "cell_type": "code",
<<<<<<< HEAD:notebooks/ASLO_talk_figures_Lisa.ipynb
   "execution_count": 19,
=======
   "execution_count": 5,
   "metadata": {
    "collapsed": false
   },
   "outputs": [],
   "source": [
    "crbb_df = pd.merge(data_table[['total_annotated_w_false_crbb']],false_crbb[['false_crbb_num_transcripts']],\n",
    "                   how='outer',left_index=True,right_index=True).dropna()"
   ]
  },
  {
   "cell_type": "code",
   "execution_count": 6,
>>>>>>> e72529b23f716898b5d303b3d10eee8028fd6877:notebooks/ASLO_talk_figures.ipynb
   "metadata": {
    "collapsed": false
   },
   "outputs": [
    {
     "data": {
      "text/html": [
       "<div>\n",
       "<table border=\"1\" class=\"dataframe\">\n",
       "  <thead>\n",
       "    <tr style=\"text-align: right;\">\n",
       "      <th></th>\n",
       "      <th>Phylum</th>\n",
       "      <th>Input.Reads</th>\n",
       "      <th>Unique_kmers_assembly</th>\n",
       "      <th>mean_orf_percent.x</th>\n",
       "      <th>score.x</th>\n",
       "      <th>Complete_eukaryotic_BUSCO_perc</th>\n",
       "    </tr>\n",
       "    <tr>\n",
       "      <th>SampleName</th>\n",
       "      <th></th>\n",
       "      <th></th>\n",
       "      <th></th>\n",
       "      <th></th>\n",
       "      <th></th>\n",
       "      <th></th>\n",
       "    </tr>\n",
       "  </thead>\n",
       "  <tbody>\n",
       "    <tr>\n",
       "      <th>MMETSP0004</th>\n",
       "      <td>Ochrophyta</td>\n",
       "      <td>24803955.0</td>\n",
       "      <td>19837761</td>\n",
       "      <td>81.26381</td>\n",
       "      <td>0.38093</td>\n",
       "      <td>0.693069</td>\n",
       "    </tr>\n",
       "    <tr>\n",
       "      <th>MMETSP0005</th>\n",
       "      <td>Ochrophyta</td>\n",
       "      <td>28100060.0</td>\n",
       "      <td>20350054</td>\n",
       "      <td>80.15649</td>\n",
       "      <td>0.38214</td>\n",
       "      <td>0.673267</td>\n",
       "    </tr>\n",
       "    <tr>\n",
       "      <th>MMETSP0006</th>\n",
       "      <td>Haptophyta</td>\n",
       "      <td>21466210.0</td>\n",
       "      <td>25286098</td>\n",
       "      <td>80.79508</td>\n",
       "      <td>0.38143</td>\n",
       "      <td>0.557756</td>\n",
       "    </tr>\n",
       "    <tr>\n",
       "      <th>MMETSP0007</th>\n",
       "      <td>Haptophyta</td>\n",
       "      <td>20174360.0</td>\n",
       "      <td>12496793</td>\n",
       "      <td>71.01950</td>\n",
       "      <td>0.27164</td>\n",
       "      <td>0.303630</td>\n",
       "    </tr>\n",
       "    <tr>\n",
<<<<<<< HEAD:notebooks/ASLO_talk_figures_Lisa.ipynb
       "      <th>MMETSP0009</th>\n",
       "      <td>Bacillariophyta</td>\n",
       "      <td>15820915.0</td>\n",
       "      <td>30074483</td>\n",
       "      <td>80.37076</td>\n",
       "      <td>0.25534</td>\n",
       "      <td>0.465347</td>\n",
=======
       "      <th>MMETSP0010</th>\n",
       "      <td>4022</td>\n",
       "      <td>21159.0</td>\n",
>>>>>>> e72529b23f716898b5d303b3d10eee8028fd6877:notebooks/ASLO_talk_figures.ipynb
       "    </tr>\n",
       "  </tbody>\n",
       "</table>\n",
       "</div>"
      ],
      "text/plain": [
<<<<<<< HEAD:notebooks/ASLO_talk_figures_Lisa.ipynb
       "                     Phylum  Input.Reads  Unique_kmers_assembly  \\\n",
       "SampleName                                                        \n",
       "MMETSP0004       Ochrophyta   24803955.0               19837761   \n",
       "MMETSP0005       Ochrophyta   28100060.0               20350054   \n",
       "MMETSP0006       Haptophyta   21466210.0               25286098   \n",
       "MMETSP0007       Haptophyta   20174360.0               12496793   \n",
       "MMETSP0009  Bacillariophyta   15820915.0               30074483   \n",
       "\n",
       "            mean_orf_percent.x  score.x  Complete_eukaryotic_BUSCO_perc  \n",
       "SampleName                                                               \n",
       "MMETSP0004            81.26381  0.38093                        0.693069  \n",
       "MMETSP0005            80.15649  0.38214                        0.673267  \n",
       "MMETSP0006            80.79508  0.38143                        0.557756  \n",
       "MMETSP0007            71.01950  0.27164                        0.303630  \n",
       "MMETSP0009            80.37076  0.25534                        0.465347  "
      ]
     },
     "execution_count": 19,
=======
       "            total_annotated_w_false_crbb  false_crbb_num_transcripts\n",
       "MMETSP0004                          2352                     12265.0\n",
       "MMETSP0005                          1833                      9950.0\n",
       "MMETSP0006                          4837                     22569.0\n",
       "MMETSP0007                          1448                      5599.0\n",
       "MMETSP0010                          4022                     21159.0"
      ]
     },
     "execution_count": 6,
>>>>>>> e72529b23f716898b5d303b3d10eee8028fd6877:notebooks/ASLO_talk_figures.ipynb
     "metadata": {},
     "output_type": "execute_result"
    }
   ],
   "source": [
    "reads_frame2.head()"
   ]
  },
  {
   "cell_type": "code",
   "execution_count": 4,
   "metadata": {
    "collapsed": true
   },
   "outputs": [],
   "source": [
    "false_crbb = pd.read_csv(\"../assembly_evaluation_data/false_crbb.csv\",index_col=0)"
   ]
  },
  {
   "cell_type": "code",
<<<<<<< HEAD:notebooks/ASLO_talk_figures_Lisa.ipynb
   "execution_count": 5,
=======
   "execution_count": 7,
>>>>>>> e72529b23f716898b5d303b3d10eee8028fd6877:notebooks/ASLO_talk_figures.ipynb
   "metadata": {
    "collapsed": false
   },
   "outputs": [
    {
     "data": {
      "text/html": [
       "<div>\n",
       "<table border=\"1\" class=\"dataframe\">\n",
       "  <thead>\n",
       "    <tr style=\"text-align: right;\">\n",
       "      <th></th>\n",
       "      <th>false_crbb_num_transcripts</th>\n",
       "    </tr>\n",
       "  </thead>\n",
       "  <tbody>\n",
       "    <tr>\n",
       "      <th>MMETSP1347</th>\n",
       "      <td>812</td>\n",
       "    </tr>\n",
       "    <tr>\n",
       "      <th>MMETSP0603</th>\n",
       "      <td>5341</td>\n",
       "    </tr>\n",
       "    <tr>\n",
       "      <th>MMETSP0469</th>\n",
       "      <td>101484</td>\n",
       "    </tr>\n",
       "    <tr>\n",
       "      <th>MMETSP1075</th>\n",
       "      <td>57113</td>\n",
       "    </tr>\n",
       "    <tr>\n",
       "      <th>MMETSP1369</th>\n",
       "      <td>46402</td>\n",
       "    </tr>\n",
       "  </tbody>\n",
       "</table>\n",
       "</div>"
      ],
      "text/plain": [
<<<<<<< HEAD:notebooks/ASLO_talk_figures_Lisa.ipynb
       "            false_crbb_num_transcripts\n",
       "MMETSP1347                         812\n",
       "MMETSP0603                        5341\n",
       "MMETSP0469                      101484\n",
       "MMETSP1075                       57113\n",
       "MMETSP1369                       46402"
      ]
     },
     "execution_count": 5,
=======
       "Index(['Unnamed: 0', 'n_seqs', 'total_annotation_names',\n",
       "       'total_annotated_contigs', 'unique_annotations', 'total_false_crbb',\n",
       "       'total_OrthoDB', 'unique_OrthoDB', 'false_crbb_OrthoDB', 'total_Pfam',\n",
       "       'unique_Pfam', 'false_crbb_Pfam', 'total_Rfam', 'unique_Rfam',\n",
       "       'false_crbb_Rfam', 'total_annotated_w_false_crbb'],\n",
       "      dtype='object')"
      ]
     },
     "execution_count": 7,
>>>>>>> e72529b23f716898b5d303b3d10eee8028fd6877:notebooks/ASLO_talk_figures.ipynb
     "metadata": {},
     "output_type": "execute_result"
    }
   ],
   "source": [
    "false_crbb.head()"
   ]
  },
  {
   "cell_type": "code",
<<<<<<< HEAD:notebooks/ASLO_talk_figures_Lisa.ipynb
   "execution_count": 6,
=======
   "execution_count": 8,
>>>>>>> e72529b23f716898b5d303b3d10eee8028fd6877:notebooks/ASLO_talk_figures.ipynb
   "metadata": {
    "collapsed": false
   },
   "outputs": [
    {
     "ename": "KeyError",
     "evalue": "\"['SampleName'] not in index\"",
     "output_type": "error",
     "traceback": [
      "\u001b[0;31m---------------------------------------------------------------------------\u001b[0m",
      "\u001b[0;31mKeyError\u001b[0m                                  Traceback (most recent call last)",
      "\u001b[0;32m<ipython-input-8-fa8e5143b47e>\u001b[0m in \u001b[0;36m<module>\u001b[0;34m()\u001b[0m\n\u001b[0;32m----> 1\u001b[0;31m \u001b[0mdata_table_false_crbb\u001b[0m \u001b[0;34m=\u001b[0m \u001b[0mdata_table\u001b[0m\u001b[0;34m[\u001b[0m\u001b[0;34m[\u001b[0m\u001b[0;34m'SampleName'\u001b[0m\u001b[0;34m,\u001b[0m\u001b[0;34m'total_false_crbb'\u001b[0m\u001b[0;34m,\u001b[0m\u001b[0;34m'total_annotated_w_false_crbb'\u001b[0m\u001b[0;34m]\u001b[0m\u001b[0;34m]\u001b[0m\u001b[0;34m.\u001b[0m\u001b[0mdropna\u001b[0m\u001b[0;34m(\u001b[0m\u001b[0;34m)\u001b[0m\u001b[0;34m\u001b[0m\u001b[0m\n\u001b[0m",
      "\u001b[0;32m//anaconda/lib/python3.5/site-packages/pandas/core/frame.py\u001b[0m in \u001b[0;36m__getitem__\u001b[0;34m(self, key)\u001b[0m\n\u001b[1;32m   2051\u001b[0m         \u001b[0;32mif\u001b[0m \u001b[0misinstance\u001b[0m\u001b[0;34m(\u001b[0m\u001b[0mkey\u001b[0m\u001b[0;34m,\u001b[0m \u001b[0;34m(\u001b[0m\u001b[0mSeries\u001b[0m\u001b[0;34m,\u001b[0m \u001b[0mnp\u001b[0m\u001b[0;34m.\u001b[0m\u001b[0mndarray\u001b[0m\u001b[0;34m,\u001b[0m \u001b[0mIndex\u001b[0m\u001b[0;34m,\u001b[0m \u001b[0mlist\u001b[0m\u001b[0;34m)\u001b[0m\u001b[0;34m)\u001b[0m\u001b[0;34m:\u001b[0m\u001b[0;34m\u001b[0m\u001b[0m\n\u001b[1;32m   2052\u001b[0m             \u001b[0;31m# either boolean or fancy integer index\u001b[0m\u001b[0;34m\u001b[0m\u001b[0;34m\u001b[0m\u001b[0m\n\u001b[0;32m-> 2053\u001b[0;31m             \u001b[0;32mreturn\u001b[0m \u001b[0mself\u001b[0m\u001b[0;34m.\u001b[0m\u001b[0m_getitem_array\u001b[0m\u001b[0;34m(\u001b[0m\u001b[0mkey\u001b[0m\u001b[0;34m)\u001b[0m\u001b[0;34m\u001b[0m\u001b[0m\n\u001b[0m\u001b[1;32m   2054\u001b[0m         \u001b[0;32melif\u001b[0m \u001b[0misinstance\u001b[0m\u001b[0;34m(\u001b[0m\u001b[0mkey\u001b[0m\u001b[0;34m,\u001b[0m \u001b[0mDataFrame\u001b[0m\u001b[0;34m)\u001b[0m\u001b[0;34m:\u001b[0m\u001b[0;34m\u001b[0m\u001b[0m\n\u001b[1;32m   2055\u001b[0m             \u001b[0;32mreturn\u001b[0m \u001b[0mself\u001b[0m\u001b[0;34m.\u001b[0m\u001b[0m_getitem_frame\u001b[0m\u001b[0;34m(\u001b[0m\u001b[0mkey\u001b[0m\u001b[0;34m)\u001b[0m\u001b[0;34m\u001b[0m\u001b[0m\n",
      "\u001b[0;32m//anaconda/lib/python3.5/site-packages/pandas/core/frame.py\u001b[0m in \u001b[0;36m_getitem_array\u001b[0;34m(self, key)\u001b[0m\n\u001b[1;32m   2095\u001b[0m             \u001b[0;32mreturn\u001b[0m \u001b[0mself\u001b[0m\u001b[0;34m.\u001b[0m\u001b[0mtake\u001b[0m\u001b[0;34m(\u001b[0m\u001b[0mindexer\u001b[0m\u001b[0;34m,\u001b[0m \u001b[0maxis\u001b[0m\u001b[0;34m=\u001b[0m\u001b[0;36m0\u001b[0m\u001b[0;34m,\u001b[0m \u001b[0mconvert\u001b[0m\u001b[0;34m=\u001b[0m\u001b[0;32mFalse\u001b[0m\u001b[0;34m)\u001b[0m\u001b[0;34m\u001b[0m\u001b[0m\n\u001b[1;32m   2096\u001b[0m         \u001b[0;32melse\u001b[0m\u001b[0;34m:\u001b[0m\u001b[0;34m\u001b[0m\u001b[0m\n\u001b[0;32m-> 2097\u001b[0;31m             \u001b[0mindexer\u001b[0m \u001b[0;34m=\u001b[0m \u001b[0mself\u001b[0m\u001b[0;34m.\u001b[0m\u001b[0mix\u001b[0m\u001b[0;34m.\u001b[0m\u001b[0m_convert_to_indexer\u001b[0m\u001b[0;34m(\u001b[0m\u001b[0mkey\u001b[0m\u001b[0;34m,\u001b[0m \u001b[0maxis\u001b[0m\u001b[0;34m=\u001b[0m\u001b[0;36m1\u001b[0m\u001b[0;34m)\u001b[0m\u001b[0;34m\u001b[0m\u001b[0m\n\u001b[0m\u001b[1;32m   2098\u001b[0m             \u001b[0;32mreturn\u001b[0m \u001b[0mself\u001b[0m\u001b[0;34m.\u001b[0m\u001b[0mtake\u001b[0m\u001b[0;34m(\u001b[0m\u001b[0mindexer\u001b[0m\u001b[0;34m,\u001b[0m \u001b[0maxis\u001b[0m\u001b[0;34m=\u001b[0m\u001b[0;36m1\u001b[0m\u001b[0;34m,\u001b[0m \u001b[0mconvert\u001b[0m\u001b[0;34m=\u001b[0m\u001b[0;32mTrue\u001b[0m\u001b[0;34m)\u001b[0m\u001b[0;34m\u001b[0m\u001b[0m\n\u001b[1;32m   2099\u001b[0m \u001b[0;34m\u001b[0m\u001b[0m\n",
      "\u001b[0;32m//anaconda/lib/python3.5/site-packages/pandas/core/indexing.py\u001b[0m in \u001b[0;36m_convert_to_indexer\u001b[0;34m(self, obj, axis, is_setter)\u001b[0m\n\u001b[1;32m   1228\u001b[0m                 \u001b[0mmask\u001b[0m \u001b[0;34m=\u001b[0m \u001b[0mcheck\u001b[0m \u001b[0;34m==\u001b[0m \u001b[0;34m-\u001b[0m\u001b[0;36m1\u001b[0m\u001b[0;34m\u001b[0m\u001b[0m\n\u001b[1;32m   1229\u001b[0m                 \u001b[0;32mif\u001b[0m \u001b[0mmask\u001b[0m\u001b[0;34m.\u001b[0m\u001b[0many\u001b[0m\u001b[0;34m(\u001b[0m\u001b[0;34m)\u001b[0m\u001b[0;34m:\u001b[0m\u001b[0;34m\u001b[0m\u001b[0m\n\u001b[0;32m-> 1230\u001b[0;31m                     \u001b[0;32mraise\u001b[0m \u001b[0mKeyError\u001b[0m\u001b[0;34m(\u001b[0m\u001b[0;34m'%s not in index'\u001b[0m \u001b[0;34m%\u001b[0m \u001b[0mobjarr\u001b[0m\u001b[0;34m[\u001b[0m\u001b[0mmask\u001b[0m\u001b[0;34m]\u001b[0m\u001b[0;34m)\u001b[0m\u001b[0;34m\u001b[0m\u001b[0m\n\u001b[0m\u001b[1;32m   1231\u001b[0m \u001b[0;34m\u001b[0m\u001b[0m\n\u001b[1;32m   1232\u001b[0m                 \u001b[0;32mreturn\u001b[0m \u001b[0m_values_from_object\u001b[0m\u001b[0;34m(\u001b[0m\u001b[0mindexer\u001b[0m\u001b[0;34m)\u001b[0m\u001b[0;34m\u001b[0m\u001b[0m\n",
      "\u001b[0;31mKeyError\u001b[0m: \"['SampleName'] not in index\""
     ]
    }
   ],
   "source": [
    "crbb_df = pd.merge(data_table[['total_annotated_w_false_crbb']],false_crbb[['false_crbb_num_transcripts']],\n",
    "                   how='outer',left_index=True,right_index=True).dropna()"
   ]
  },
  {
   "cell_type": "code",
<<<<<<< HEAD:notebooks/ASLO_talk_figures_Lisa.ipynb
   "execution_count": 7,
=======
   "execution_count": 9,
>>>>>>> e72529b23f716898b5d303b3d10eee8028fd6877:notebooks/ASLO_talk_figures.ipynb
   "metadata": {
    "collapsed": false
   },
   "outputs": [
    {
<<<<<<< HEAD:notebooks/ASLO_talk_figures_Lisa.ipynb
     "data": {
      "text/html": [
       "<div>\n",
       "<table border=\"1\" class=\"dataframe\">\n",
       "  <thead>\n",
       "    <tr style=\"text-align: right;\">\n",
       "      <th></th>\n",
       "      <th>total_annotated_w_false_crbb</th>\n",
       "      <th>false_crbb_num_transcripts</th>\n",
       "    </tr>\n",
       "  </thead>\n",
       "  <tbody>\n",
       "    <tr>\n",
       "      <th>MMETSP0004</th>\n",
       "      <td>2352</td>\n",
       "      <td>12265.0</td>\n",
       "    </tr>\n",
       "    <tr>\n",
       "      <th>MMETSP0005</th>\n",
       "      <td>1833</td>\n",
       "      <td>9950.0</td>\n",
       "    </tr>\n",
       "    <tr>\n",
       "      <th>MMETSP0006</th>\n",
       "      <td>4837</td>\n",
       "      <td>22569.0</td>\n",
       "    </tr>\n",
       "    <tr>\n",
       "      <th>MMETSP0007</th>\n",
       "      <td>1448</td>\n",
       "      <td>5599.0</td>\n",
       "    </tr>\n",
       "    <tr>\n",
       "      <th>MMETSP0010</th>\n",
       "      <td>4022</td>\n",
       "      <td>21159.0</td>\n",
       "    </tr>\n",
       "  </tbody>\n",
       "</table>\n",
       "</div>"
      ],
      "text/plain": [
       "            total_annotated_w_false_crbb  false_crbb_num_transcripts\n",
       "MMETSP0004                          2352                     12265.0\n",
       "MMETSP0005                          1833                      9950.0\n",
       "MMETSP0006                          4837                     22569.0\n",
       "MMETSP0007                          1448                      5599.0\n",
       "MMETSP0010                          4022                     21159.0"
      ]
     },
     "execution_count": 7,
     "metadata": {},
     "output_type": "execute_result"
    }
   ],
   "source": [
    "crbb_df.head()"
   ]
  },
  {
   "cell_type": "code",
   "execution_count": 8,
   "metadata": {
    "collapsed": false
   },
   "outputs": [
    {
     "data": {
      "text/plain": [
       "Index(['Unnamed: 0', 'n_seqs', 'total_annotation_names',\n",
       "       'total_annotated_contigs', 'unique_annotations', 'total_false_crbb',\n",
       "       'total_OrthoDB', 'unique_OrthoDB', 'false_crbb_OrthoDB', 'total_Pfam',\n",
       "       'unique_Pfam', 'false_crbb_Pfam', 'total_Rfam', 'unique_Rfam',\n",
       "       'false_crbb_Rfam', 'total_annotated_w_false_crbb'],\n",
       "      dtype='object')"
      ]
     },
     "execution_count": 8,
     "metadata": {},
     "output_type": "execute_result"
=======
     "ename": "NameError",
     "evalue": "name 'data_table_false_crbb' is not defined",
     "output_type": "error",
     "traceback": [
      "\u001b[0;31m---------------------------------------------------------------------------\u001b[0m",
      "\u001b[0;31mNameError\u001b[0m                                 Traceback (most recent call last)",
      "\u001b[0;32m<ipython-input-9-df21f9e53e50>\u001b[0m in \u001b[0;36m<module>\u001b[0;34m()\u001b[0m\n\u001b[0;32m----> 1\u001b[0;31m \u001b[0mdata_table_false_crbb\u001b[0m\u001b[0;34m.\u001b[0m\u001b[0mhead\u001b[0m\u001b[0;34m(\u001b[0m\u001b[0;34m)\u001b[0m\u001b[0;34m\u001b[0m\u001b[0m\n\u001b[0m",
      "\u001b[0;31mNameError\u001b[0m: name 'data_table_false_crbb' is not defined"
     ]
>>>>>>> e72529b23f716898b5d303b3d10eee8028fd6877:notebooks/ASLO_talk_figures.ipynb
    }
   ],
   "source": [
    "data_table.columns"
   ]
  },
  {
   "cell_type": "code",
   "execution_count": 11,
   "metadata": {
    "collapsed": false
   },
   "outputs": [
    {
     "data": {
      "text/plain": [
       "(0, 30000)"
      ]
     },
     "execution_count": 11,
     "metadata": {},
     "output_type": "execute_result"
    },
    {
     "data": {
      "image/png": "iVBORw0KGgoAAAANSUhEUgAAAhYAAAFYCAYAAAAP/bVSAAAABHNCSVQICAgIfAhkiAAAAAlwSFlz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\n",
      "text/plain": [
       "<matplotlib.figure.Figure at 0x115251208>"
      ]
     },
     "metadata": {},
     "output_type": "display_data"
    }
   ],
   "source": [
    "fig, ax = plt.subplots(1)\n",
    "X = range(len(crbb_df))\n",
    "Y1 = crbb_df[['false_crbb_num_transcripts']]\n",
    "Y2 = crbb_df[['total_annotated_w_false_crbb']]\n",
    "\n",
    "ax.scatter(X,Y1,color=\"red\")\n",
    "ax.scatter(X,Y2,color=\"blue\")\n",
    "ax.set_xticks([])\n",
    "ax.set_ylim([0,30000])"
   ]
  },
  {
   "cell_type": "code",
<<<<<<< HEAD:notebooks/ASLO_talk_figures_Lisa.ipynb
   "execution_count": 12,
=======
   "execution_count": 13,
   "metadata": {
    "collapsed": false
   },
   "outputs": [],
   "source": [
    "crbb_df['difference']=crbb_df.false_crbb_num_transcripts-crbb_df.total_annotated_w_false_crbb"
   ]
  },
  {
   "cell_type": "code",
   "execution_count": 21,
>>>>>>> e72529b23f716898b5d303b3d10eee8028fd6877:notebooks/ASLO_talk_figures.ipynb
   "metadata": {
    "collapsed": false
   },
   "outputs": [
    {
     "data": {
      "image/png": "iVBORw0KGgoAAAANSUhEUgAAAYIAAADyCAYAAABAr8L8AAAABHNCSVQICAgIfAhkiAAAAAlwSFlz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\nIpFIVjn/AzauEVicowtnAAAAAElFTkSuQmCC\n",
      "text/plain": [
<<<<<<< HEAD:notebooks/ASLO_talk_figures_Lisa.ipynb
       "<matplotlib.figure.Figure at 0x1176bbe80>"
=======
       "<matplotlib.figure.Figure at 0x116d801d0>"
>>>>>>> e72529b23f716898b5d303b3d10eee8028fd6877:notebooks/ASLO_talk_figures.ipynb
      ]
     },
     "metadata": {},
     "output_type": "display_data"
    }
   ],
   "source": [
    "import matplotlib.gridspec as gridspec\n",
    "def simpleaxis(ax):\n",
    "    ax.spines['top'].set_visible(False)\n",
    "    ax.spines['right'].set_visible(False)\n",
    "    ax.get_xaxis().tick_bottom()\n",
    "    ax.get_yaxis().tick_left()\n",
    "\n",
    "gs = gridspec.GridSpec(3, 3)\n",
    "ax = plt.subplot(gs[0,:])\n",
    "ax2 = plt.subplot(gs[1:,:])\n",
    "\n",
    "crbb_df.sort_values(by='false_crbb_num_transcripts', \n",
    "                    ascending=False)[[\"total_annotated_w_false_crbb\",\"difference\"]].plot(kind='area', \n",
    "                    color=[ '#68ad00','lightgrey'], lw=0, ax=ax)\n",
    "# alternative legend labels:\n",
    "# transcripts absent from NCGR\n",
    "# anntoated absent transcripts\n",
    "crbb_df.sort_values(by='false_crbb_num_transcripts', \n",
    "                    ascending=False)[['total_annotated_w_false_crbb','difference']].plot(kind='area', \n",
    "                    color=[ '#68ad00','lightgrey'], lw=0, ax=ax2, legend=False)\n",
    "ax.set_ylim([20000,130000])\n",
    "ax2.set_ylim([0,20000])\n",
    "simpleaxis(ax)\n",
    "simpleaxis(ax2)\n",
    "ax.spines['bottom'].set_visible(False)\n",
    "ax2.set_xticks([])\n",
    "ax.set_xticks([])\n",
    "ax.set_yticks(np.arange(40000,120001,40000))\n",
    "savefig('false_crbb.png')"
   ]
  },
  {
   "cell_type": "code",
<<<<<<< HEAD:notebooks/ASLO_talk_figures_Lisa.ipynb
   "execution_count": 24,
=======
   "execution_count": 18,
>>>>>>> e72529b23f716898b5d303b3d10eee8028fd6877:notebooks/ASLO_talk_figures.ipynb
   "metadata": {
    "collapsed": false
   },
   "outputs": [
    {
     "data": {
<<<<<<< HEAD:notebooks/ASLO_talk_figures_Lisa.ipynb
      "image/png": "iVBORw0KGgoAAAANSUhEUgAAAtcAAAItCAYAAADyh1YiAAAABHNCSVQICAgIfAhkiAAAAAlwSFlz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\n",
      "text/plain": [
       "<matplotlib.figure.Figure at 0x118023470>"
=======
      "text/html": [
       "<div>\n",
       "<table border=\"1\" class=\"dataframe\">\n",
       "  <thead>\n",
       "    <tr style=\"text-align: right;\">\n",
       "      <th></th>\n",
       "      <th>total_annotated_w_false_crbb</th>\n",
       "      <th>false_crbb_num_transcripts</th>\n",
       "      <th>difference</th>\n",
       "    </tr>\n",
       "  </thead>\n",
       "  <tbody>\n",
       "    <tr>\n",
       "      <th>MMETSP0384</th>\n",
       "      <td>27882</td>\n",
       "      <td>124330.0</td>\n",
       "      <td>96448.0</td>\n",
       "    </tr>\n",
       "    <tr>\n",
       "      <th>MMETSP0039</th>\n",
       "      <td>19581</td>\n",
       "      <td>117665.0</td>\n",
       "      <td>98084.0</td>\n",
       "    </tr>\n",
       "    <tr>\n",
       "      <th>MMETSP1377</th>\n",
       "      <td>25096</td>\n",
       "      <td>110954.0</td>\n",
       "      <td>85858.0</td>\n",
       "    </tr>\n",
       "    <tr>\n",
       "      <th>MMETSP0469</th>\n",
       "      <td>18359</td>\n",
       "      <td>101484.0</td>\n",
       "      <td>83125.0</td>\n",
       "    </tr>\n",
       "    <tr>\n",
       "      <th>MMETSP0201</th>\n",
       "      <td>15014</td>\n",
       "      <td>99473.0</td>\n",
       "      <td>84459.0</td>\n",
       "    </tr>\n",
       "    <tr>\n",
       "      <th>MMETSP0527</th>\n",
       "      <td>14826</td>\n",
       "      <td>96257.0</td>\n",
       "      <td>81431.0</td>\n",
       "    </tr>\n",
       "    <tr>\n",
       "      <th>MMETSP0472</th>\n",
       "      <td>21085</td>\n",
       "      <td>95901.0</td>\n",
       "      <td>74816.0</td>\n",
       "    </tr>\n",
       "    <tr>\n",
       "      <th>MMETSP0528</th>\n",
       "      <td>14473</td>\n",
       "      <td>94671.0</td>\n",
       "      <td>80198.0</td>\n",
       "    </tr>\n",
       "    <tr>\n",
       "      <th>MMETSP1436</th>\n",
       "      <td>17035</td>\n",
       "      <td>91310.0</td>\n",
       "      <td>74275.0</td>\n",
       "    </tr>\n",
       "    <tr>\n",
       "      <th>MMETSP0027</th>\n",
       "      <td>13055</td>\n",
       "      <td>86357.0</td>\n",
       "      <td>73302.0</td>\n",
       "    </tr>\n",
       "    <tr>\n",
       "      <th>MMETSP0117</th>\n",
       "      <td>18558</td>\n",
       "      <td>85814.0</td>\n",
       "      <td>67256.0</td>\n",
       "    </tr>\n",
       "    <tr>\n",
       "      <th>MMETSP0029</th>\n",
       "      <td>12650</td>\n",
       "      <td>83722.0</td>\n",
       "      <td>71072.0</td>\n",
       "    </tr>\n",
       "    <tr>\n",
       "      <th>MMETSP0031</th>\n",
       "      <td>12845</td>\n",
       "      <td>83289.0</td>\n",
       "      <td>70444.0</td>\n",
       "    </tr>\n",
       "    <tr>\n",
       "      <th>MMETSP0202</th>\n",
       "      <td>12959</td>\n",
       "      <td>80420.0</td>\n",
       "      <td>67461.0</td>\n",
       "    </tr>\n",
       "    <tr>\n",
       "      <th>MMETSP1037</th>\n",
       "      <td>12882</td>\n",
       "      <td>80304.0</td>\n",
       "      <td>67422.0</td>\n",
       "    </tr>\n",
       "    <tr>\n",
       "      <th>MMETSP1110</th>\n",
       "      <td>12732</td>\n",
       "      <td>79062.0</td>\n",
       "      <td>66330.0</td>\n",
       "    </tr>\n",
       "    <tr>\n",
       "      <th>MMETSP0467</th>\n",
       "      <td>16473</td>\n",
       "      <td>74893.0</td>\n",
       "      <td>58420.0</td>\n",
       "    </tr>\n",
       "    <tr>\n",
       "      <th>MMETSP0648</th>\n",
       "      <td>11493</td>\n",
       "      <td>74890.0</td>\n",
       "      <td>63397.0</td>\n",
       "    </tr>\n",
       "    <tr>\n",
       "      <th>MMETSP1036</th>\n",
       "      <td>11971</td>\n",
       "      <td>74682.0</td>\n",
       "      <td>62711.0</td>\n",
       "    </tr>\n",
       "    <tr>\n",
       "      <th>MMETSP0118</th>\n",
       "      <td>14366</td>\n",
       "      <td>74195.0</td>\n",
       "      <td>59829.0</td>\n",
       "    </tr>\n",
       "    <tr>\n",
       "      <th>MMETSP0790</th>\n",
       "      <td>13302</td>\n",
       "      <td>73682.0</td>\n",
       "      <td>60380.0</td>\n",
       "    </tr>\n",
       "    <tr>\n",
       "      <th>MMETSP0649</th>\n",
       "      <td>10706</td>\n",
       "      <td>70728.0</td>\n",
       "      <td>60022.0</td>\n",
       "    </tr>\n",
       "    <tr>\n",
       "      <th>MMETSP0271</th>\n",
       "      <td>11119</td>\n",
       "      <td>68567.0</td>\n",
       "      <td>57448.0</td>\n",
       "    </tr>\n",
       "    <tr>\n",
       "      <th>MMETSP0126</th>\n",
       "      <td>15108</td>\n",
       "      <td>67899.0</td>\n",
       "      <td>52791.0</td>\n",
       "    </tr>\n",
       "    <tr>\n",
       "      <th>MMETSP1015</th>\n",
       "      <td>10447</td>\n",
       "      <td>67129.0</td>\n",
       "      <td>56682.0</td>\n",
       "    </tr>\n",
       "    <tr>\n",
       "      <th>MMETSP1017</th>\n",
       "      <td>10530</td>\n",
       "      <td>67019.0</td>\n",
       "      <td>56489.0</td>\n",
       "    </tr>\n",
       "    <tr>\n",
       "      <th>MMETSP0272</th>\n",
       "      <td>10885</td>\n",
       "      <td>65673.0</td>\n",
       "      <td>54788.0</td>\n",
       "    </tr>\n",
       "    <tr>\n",
       "      <th>MMETSP1016</th>\n",
       "      <td>10127</td>\n",
       "      <td>64958.0</td>\n",
       "      <td>54831.0</td>\n",
       "    </tr>\n",
       "    <tr>\n",
       "      <th>MMETSP0057</th>\n",
       "      <td>13080</td>\n",
       "      <td>64893.0</td>\n",
       "      <td>51813.0</td>\n",
       "    </tr>\n",
       "    <tr>\n",
       "      <th>MMETSP0328</th>\n",
       "      <td>13080</td>\n",
       "      <td>62790.0</td>\n",
       "      <td>49710.0</td>\n",
       "    </tr>\n",
       "    <tr>\n",
       "      <th>...</th>\n",
       "      <td>...</td>\n",
       "      <td>...</td>\n",
       "      <td>...</td>\n",
       "    </tr>\n",
       "    <tr>\n",
       "      <th>MMETSP0975</th>\n",
       "      <td>41</td>\n",
       "      <td>290.0</td>\n",
       "      <td>249.0</td>\n",
       "    </tr>\n",
       "    <tr>\n",
       "      <th>MMETSP0044</th>\n",
       "      <td>72</td>\n",
       "      <td>277.0</td>\n",
       "      <td>205.0</td>\n",
       "    </tr>\n",
       "    <tr>\n",
       "      <th>MMETSP0972</th>\n",
       "      <td>41</td>\n",
       "      <td>261.0</td>\n",
       "      <td>220.0</td>\n",
       "    </tr>\n",
       "    <tr>\n",
       "      <th>MMETSP0802</th>\n",
       "      <td>50</td>\n",
       "      <td>252.0</td>\n",
       "      <td>202.0</td>\n",
       "    </tr>\n",
       "    <tr>\n",
       "      <th>MMETSP1386</th>\n",
       "      <td>54</td>\n",
       "      <td>246.0</td>\n",
       "      <td>192.0</td>\n",
       "    </tr>\n",
       "    <tr>\n",
       "      <th>MMETSP0878</th>\n",
       "      <td>47</td>\n",
       "      <td>239.0</td>\n",
       "      <td>192.0</td>\n",
       "    </tr>\n",
       "    <tr>\n",
       "      <th>MMETSP1010</th>\n",
       "      <td>32</td>\n",
       "      <td>227.0</td>\n",
       "      <td>195.0</td>\n",
       "    </tr>\n",
       "    <tr>\n",
       "      <th>MMETSP0142</th>\n",
       "      <td>30</td>\n",
       "      <td>216.0</td>\n",
       "      <td>186.0</td>\n",
       "    </tr>\n",
       "    <tr>\n",
       "      <th>MMETSP0912</th>\n",
       "      <td>49</td>\n",
       "      <td>213.0</td>\n",
       "      <td>164.0</td>\n",
       "    </tr>\n",
       "    <tr>\n",
       "      <th>MMETSP0880</th>\n",
       "      <td>29</td>\n",
       "      <td>211.0</td>\n",
       "      <td>182.0</td>\n",
       "    </tr>\n",
       "    <tr>\n",
       "      <th>MMETSP0113</th>\n",
       "      <td>45</td>\n",
       "      <td>191.0</td>\n",
       "      <td>146.0</td>\n",
       "    </tr>\n",
       "    <tr>\n",
       "      <th>MMETSP0789</th>\n",
       "      <td>38</td>\n",
       "      <td>188.0</td>\n",
       "      <td>150.0</td>\n",
       "    </tr>\n",
       "    <tr>\n",
       "      <th>MMETSP0329</th>\n",
       "      <td>33</td>\n",
       "      <td>167.0</td>\n",
       "      <td>134.0</td>\n",
       "    </tr>\n",
       "    <tr>\n",
       "      <th>MMETSP0785</th>\n",
       "      <td>18</td>\n",
       "      <td>163.0</td>\n",
       "      <td>145.0</td>\n",
       "    </tr>\n",
       "    <tr>\n",
       "      <th>MMETSP0139</th>\n",
       "      <td>20</td>\n",
       "      <td>160.0</td>\n",
       "      <td>140.0</td>\n",
       "    </tr>\n",
       "    <tr>\n",
       "      <th>MMETSP1130</th>\n",
       "      <td>34</td>\n",
       "      <td>154.0</td>\n",
       "      <td>120.0</td>\n",
       "    </tr>\n",
       "    <tr>\n",
       "      <th>MMETSP0439</th>\n",
       "      <td>59</td>\n",
       "      <td>145.0</td>\n",
       "      <td>86.0</td>\n",
       "    </tr>\n",
       "    <tr>\n",
       "      <th>MMETSP0229</th>\n",
       "      <td>22</td>\n",
       "      <td>144.0</td>\n",
       "      <td>122.0</td>\n",
       "    </tr>\n",
       "    <tr>\n",
       "      <th>MMETSP1418</th>\n",
       "      <td>31</td>\n",
       "      <td>140.0</td>\n",
       "      <td>109.0</td>\n",
       "    </tr>\n",
       "    <tr>\n",
       "      <th>MMETSP0937</th>\n",
       "      <td>26</td>\n",
       "      <td>124.0</td>\n",
       "      <td>98.0</td>\n",
       "    </tr>\n",
       "    <tr>\n",
       "      <th>MMETSP0200</th>\n",
       "      <td>23</td>\n",
       "      <td>103.0</td>\n",
       "      <td>80.0</td>\n",
       "    </tr>\n",
       "    <tr>\n",
       "      <th>MMETSP0232</th>\n",
       "      <td>52</td>\n",
       "      <td>90.0</td>\n",
       "      <td>38.0</td>\n",
       "    </tr>\n",
       "    <tr>\n",
       "      <th>MMETSP0961</th>\n",
       "      <td>18</td>\n",
       "      <td>83.0</td>\n",
       "      <td>65.0</td>\n",
       "    </tr>\n",
       "    <tr>\n",
       "      <th>MMETSP0319</th>\n",
       "      <td>8</td>\n",
       "      <td>82.0</td>\n",
       "      <td>74.0</td>\n",
       "    </tr>\n",
       "    <tr>\n",
       "      <th>MMETSP0751</th>\n",
       "      <td>20</td>\n",
       "      <td>79.0</td>\n",
       "      <td>59.0</td>\n",
       "    </tr>\n",
       "    <tr>\n",
       "      <th>MMETSP1057</th>\n",
       "      <td>12</td>\n",
       "      <td>63.0</td>\n",
       "      <td>51.0</td>\n",
       "    </tr>\n",
       "    <tr>\n",
       "      <th>MMETSP0933</th>\n",
       "      <td>11</td>\n",
       "      <td>37.0</td>\n",
       "      <td>26.0</td>\n",
       "    </tr>\n",
       "    <tr>\n",
       "      <th>MMETSP1126</th>\n",
       "      <td>3</td>\n",
       "      <td>30.0</td>\n",
       "      <td>27.0</td>\n",
       "    </tr>\n",
       "    <tr>\n",
       "      <th>MMETSP1390</th>\n",
       "      <td>1</td>\n",
       "      <td>10.0</td>\n",
       "      <td>9.0</td>\n",
       "    </tr>\n",
       "    <tr>\n",
       "      <th>MMETSP1412</th>\n",
       "      <td>2</td>\n",
       "      <td>8.0</td>\n",
       "      <td>6.0</td>\n",
       "    </tr>\n",
       "  </tbody>\n",
       "</table>\n",
       "<p>554 rows × 3 columns</p>\n",
       "</div>"
      ],
      "text/plain": [
       "            total_annotated_w_false_crbb  false_crbb_num_transcripts  \\\n",
       "MMETSP0384                         27882                    124330.0   \n",
       "MMETSP0039                         19581                    117665.0   \n",
       "MMETSP1377                         25096                    110954.0   \n",
       "MMETSP0469                         18359                    101484.0   \n",
       "MMETSP0201                         15014                     99473.0   \n",
       "MMETSP0527                         14826                     96257.0   \n",
       "MMETSP0472                         21085                     95901.0   \n",
       "MMETSP0528                         14473                     94671.0   \n",
       "MMETSP1436                         17035                     91310.0   \n",
       "MMETSP0027                         13055                     86357.0   \n",
       "MMETSP0117                         18558                     85814.0   \n",
       "MMETSP0029                         12650                     83722.0   \n",
       "MMETSP0031                         12845                     83289.0   \n",
       "MMETSP0202                         12959                     80420.0   \n",
       "MMETSP1037                         12882                     80304.0   \n",
       "MMETSP1110                         12732                     79062.0   \n",
       "MMETSP0467                         16473                     74893.0   \n",
       "MMETSP0648                         11493                     74890.0   \n",
       "MMETSP1036                         11971                     74682.0   \n",
       "MMETSP0118                         14366                     74195.0   \n",
       "MMETSP0790                         13302                     73682.0   \n",
       "MMETSP0649                         10706                     70728.0   \n",
       "MMETSP0271                         11119                     68567.0   \n",
       "MMETSP0126                         15108                     67899.0   \n",
       "MMETSP1015                         10447                     67129.0   \n",
       "MMETSP1017                         10530                     67019.0   \n",
       "MMETSP0272                         10885                     65673.0   \n",
       "MMETSP1016                         10127                     64958.0   \n",
       "MMETSP0057                         13080                     64893.0   \n",
       "MMETSP0328                         13080                     62790.0   \n",
       "...                                  ...                         ...   \n",
       "MMETSP0975                            41                       290.0   \n",
       "MMETSP0044                            72                       277.0   \n",
       "MMETSP0972                            41                       261.0   \n",
       "MMETSP0802                            50                       252.0   \n",
       "MMETSP1386                            54                       246.0   \n",
       "MMETSP0878                            47                       239.0   \n",
       "MMETSP1010                            32                       227.0   \n",
       "MMETSP0142                            30                       216.0   \n",
       "MMETSP0912                            49                       213.0   \n",
       "MMETSP0880                            29                       211.0   \n",
       "MMETSP0113                            45                       191.0   \n",
       "MMETSP0789                            38                       188.0   \n",
       "MMETSP0329                            33                       167.0   \n",
       "MMETSP0785                            18                       163.0   \n",
       "MMETSP0139                            20                       160.0   \n",
       "MMETSP1130                            34                       154.0   \n",
       "MMETSP0439                            59                       145.0   \n",
       "MMETSP0229                            22                       144.0   \n",
       "MMETSP1418                            31                       140.0   \n",
       "MMETSP0937                            26                       124.0   \n",
       "MMETSP0200                            23                       103.0   \n",
       "MMETSP0232                            52                        90.0   \n",
       "MMETSP0961                            18                        83.0   \n",
       "MMETSP0319                             8                        82.0   \n",
       "MMETSP0751                            20                        79.0   \n",
       "MMETSP1057                            12                        63.0   \n",
       "MMETSP0933                            11                        37.0   \n",
       "MMETSP1126                             3                        30.0   \n",
       "MMETSP1390                             1                        10.0   \n",
       "MMETSP1412                             2                         8.0   \n",
       "\n",
       "            difference  \n",
       "MMETSP0384     96448.0  \n",
       "MMETSP0039     98084.0  \n",
       "MMETSP1377     85858.0  \n",
       "MMETSP0469     83125.0  \n",
       "MMETSP0201     84459.0  \n",
       "MMETSP0527     81431.0  \n",
       "MMETSP0472     74816.0  \n",
       "MMETSP0528     80198.0  \n",
       "MMETSP1436     74275.0  \n",
       "MMETSP0027     73302.0  \n",
       "MMETSP0117     67256.0  \n",
       "MMETSP0029     71072.0  \n",
       "MMETSP0031     70444.0  \n",
       "MMETSP0202     67461.0  \n",
       "MMETSP1037     67422.0  \n",
       "MMETSP1110     66330.0  \n",
       "MMETSP0467     58420.0  \n",
       "MMETSP0648     63397.0  \n",
       "MMETSP1036     62711.0  \n",
       "MMETSP0118     59829.0  \n",
       "MMETSP0790     60380.0  \n",
       "MMETSP0649     60022.0  \n",
       "MMETSP0271     57448.0  \n",
       "MMETSP0126     52791.0  \n",
       "MMETSP1015     56682.0  \n",
       "MMETSP1017     56489.0  \n",
       "MMETSP0272     54788.0  \n",
       "MMETSP1016     54831.0  \n",
       "MMETSP0057     51813.0  \n",
       "MMETSP0328     49710.0  \n",
       "...                ...  \n",
       "MMETSP0975       249.0  \n",
       "MMETSP0044       205.0  \n",
       "MMETSP0972       220.0  \n",
       "MMETSP0802       202.0  \n",
       "MMETSP1386       192.0  \n",
       "MMETSP0878       192.0  \n",
       "MMETSP1010       195.0  \n",
       "MMETSP0142       186.0  \n",
       "MMETSP0912       164.0  \n",
       "MMETSP0880       182.0  \n",
       "MMETSP0113       146.0  \n",
       "MMETSP0789       150.0  \n",
       "MMETSP0329       134.0  \n",
       "MMETSP0785       145.0  \n",
       "MMETSP0139       140.0  \n",
       "MMETSP1130       120.0  \n",
       "MMETSP0439        86.0  \n",
       "MMETSP0229       122.0  \n",
       "MMETSP1418       109.0  \n",
       "MMETSP0937        98.0  \n",
       "MMETSP0200        80.0  \n",
       "MMETSP0232        38.0  \n",
       "MMETSP0961        65.0  \n",
       "MMETSP0319        74.0  \n",
       "MMETSP0751        59.0  \n",
       "MMETSP1057        51.0  \n",
       "MMETSP0933        26.0  \n",
       "MMETSP1126        27.0  \n",
       "MMETSP1390         9.0  \n",
       "MMETSP1412         6.0  \n",
       "\n",
       "[554 rows x 3 columns]"
      ]
     },
     "execution_count": 18,
     "metadata": {},
     "output_type": "execute_result"
    }
   ],
   "source": [
    "crbb_df.sort_values(by='false_crbb_num_transcripts', \n",
    "                    ascending=False)"
   ]
  },
  {
   "cell_type": "code",
   "execution_count": 91,
   "metadata": {
    "collapsed": false
   },
   "outputs": [
    {
     "data": {
      "text/plain": [
       "<matplotlib.axes._subplots.AxesSubplot at 0x124bd3048>"
      ]
     },
     "execution_count": 91,
     "metadata": {},
     "output_type": "execute_result"
    },
    {
     "data": {
      "image/png": "iVBORw0KGgoAAAANSUhEUgAAAhYAAAFkCAYAAAB8RXKEAAAABHNCSVQICAgIfAhkiAAAAAlwSFlz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\n4bcLAAAAAElFTkSuQmCC\n",
      "text/plain": [
       "<matplotlib.figure.Figure at 0x124bee4e0>"
>>>>>>> e72529b23f716898b5d303b3d10eee8028fd6877:notebooks/ASLO_talk_figures.ipynb
      ]
     },
     "metadata": {},
     "output_type": "display_data"
    }
   ],
   "source": [
    "def simpleaxis(ax):\n",
    "    ax.spines['top'].set_visible(False)\n",
    "    ax.spines['right'].set_visible(False)\n",
    "    ax.get_xaxis().tick_bottom()\n",
    "    ax.get_yaxis().tick_left()\n",
    "\n",
    "\n",
    "\n",
    "import palettable as pal\n",
    "\n",
    "reads_mean=reads_frame2.groupby('Phylum').mean().loc[groups_of_interest]\n",
    "reads_std=reads_frame2.groupby('Phylum').std().loc[groups_of_interest]\n",
    "\n",
    "X='Input.Reads'\n",
    "Y='Unique_kmers_assembly'\n",
    "\n",
    "t=range(len(reads_mean.index))\n",
    "fig,ax=plt.subplots(1)\n",
    "fig.set_size_inches(6,6)\n",
    "cmap=pal.colorbrewer.qualitative.Paired_9.hex_colors\n",
    "\n",
    "for n,i in enumerate(groups_of_interest):\n",
    "    ax.scatter(reads_mean.loc[i,X], reads_mean.loc[i,Y], color=cmap[n], label=i, s=100)\n",
    "    ax.errorbar(reads_mean.loc[i,X], reads_mean.loc[i,Y], xerr=reads_std.loc[i,X], yerr=reads_std.loc[i,Y], color=cmap[n])\n",
    "\n",
    "ax.set_xlabel('Input Reads', fontsize='x-large')\n",
    "ax.set_ylabel('Unique k-mers in assembly', fontsize='x-large')\n",
    "ax.legend(ncol=1, loc=[1.01,.65], scatterpoints=1)\n",
    "\n",
    "simpleaxis(ax)"
   ]
  },
  {
   "cell_type": "code",
   "execution_count": null,
   "metadata": {
    "collapsed": true
   },
   "outputs": [],
   "source": [
    "def simpleaxis(ax):\n",
    "    ax.spines['top'].set_visible(False)\n",
    "    ax.spines['right'].set_visible(False)\n",
    "    ax.get_xaxis().tick_bottom()\n",
    "    ax.get_yaxis().tick_left()\n",
    "\n",
    "\n",
    "\n",
    "import palettable as pal\n",
    "\n",
    "reads_mean=reads_frame2.groupby('Phylum').mean().loc[groups_of_interest]\n",
    "reads_std=reads_frame2.groupby('Phylum').std().loc[groups_of_interest]\n",
    "\n",
    "X='Input.Reads'\n",
    "Y='Unique_kmers_assembly'\n",
    "\n",
    "t=range(len(reads_mean.index))\n",
    "fig,ax=plt.subplots(1)\n",
    "fig.set_size_inches(6,6)\n",
    "cmap=pal.colorbrewer.qualitative.Paired_9.hex_colors\n",
    "\n",
    "for n,i in enumerate(groups_of_interest):\n",
    "    ax.scatter(reads_mean.loc[i,X], reads_mean.loc[i,Y], color=cmap[n], label=i, s=100)\n",
    "    ax.errorbar(reads_mean.loc[i,X], reads_mean.loc[i,Y], xerr=reads_std.loc[i,X], yerr=reads_std.loc[i,Y], color=cmap[n])\n",
    "\n",
    "ax.set_xlabel('Input Reads', fontsize='x-large')\n",
    "ax.set_ylabel('Unique k-mers in assembly', fontsize='x-large')\n",
    "ax.legend(ncol=1, loc=[1.01,.65], scatterpoints=1)\n",
    "\n",
    "simpleaxis(ax)"
   ]
  },
  {
   "cell_type": "code",
   "execution_count": null,
   "metadata": {
    "collapsed": true
   },
   "outputs": [],
   "source": []
  }
 ],
 "metadata": {
  "anaconda-cloud": {},
  "kernelspec": {
   "display_name": "Python 3",
   "language": "python",
   "name": "python3"
  },
  "language_info": {
   "codemirror_mode": {
    "name": "ipython",
    "version": 3
   },
   "file_extension": ".py",
   "mimetype": "text/x-python",
   "name": "python",
   "nbconvert_exporter": "python",
   "pygments_lexer": "ipython3",
   "version": "3.5.1"
  }
 },
 "nbformat": 4,
 "nbformat_minor": 1
}
