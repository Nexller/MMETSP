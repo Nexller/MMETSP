{
 "cells": [
  {
   "cell_type": "code",
   "execution_count": 12,
   "metadata": {
    "collapsed": false
   },
   "outputs": [
    {
     "name": "stdout",
     "output_type": "stream",
     "text": [
      "Populating the interactive namespace from numpy and matplotlib\n"
     ]
    }
   ],
   "source": [
    "%matplotlib inline\n",
    "%pylab inline\n",
    "import pandas as pd\n",
    "import pylab as pl\n",
    "import matplotlib.pyplot as plt\n",
    "import palettable as pal\n",
    "import seaborn as sns\n"
   ]
  },
  {
   "cell_type": "markdown",
   "metadata": {},
   "source": [
    "# Comparative Transrate metrics"
   ]
  },
  {
   "cell_type": "markdown",
   "metadata": {},
   "source": [
    "* Proportion of references with a CRB-BLAST hit \n",
    "* Reciprocal best hits where the top match in one direction is the same as the top match in the other direction. \n",
    "* Selects all alignments with e-values below the cutoff for each length as high-confidence predicted homologs\n",
    "* Metrics: http://hibberdlab.com/transrate/metrics.html"
   ]
  },
  {
   "cell_type": "markdown",
   "metadata": {},
   "source": [
    "### Linking MMETSP and SRR number \n",
    "- Enable cross comparison of the NCGR to Trinity assemblies"
   ]
  },
  {
   "cell_type": "code",
   "execution_count": 13,
   "metadata": {
    "collapsed": false
   },
   "outputs": [],
   "source": [
    "sra_run = pd.read_csv('../SraRunInfo.csv')\n",
    "sra_map = sra_run[['Run', 'SampleName']]\n"
   ]
  },
  {
   "cell_type": "code",
   "execution_count": 14,
   "metadata": {
    "collapsed": false
   },
   "outputs": [],
   "source": [
    "# reference-based transrate evaluation\n",
    "file_dib_v_ncgr = \"../assembly_evaluation_data/transrate_reference_scores_cds.csv\"\n",
    "file_ncgr_v_dib = \"../assembly_evaluation_data/transrate_reverse_scores_cds.csv\"\n",
    "\n",
    "#busco evaluation\n",
    "file_ncgr_busco = \"../assembly_evaluation_data/busco_scores_imicrobe.csv\"\n",
    "file_dib_busco = \"../assembly_evaluation_data/busco_scores_MMETSP.csv\"\n",
    "\n",
    "# transrate scores\n",
    "file_dib_transrate_scores = \"../assembly_evaluation_data/transrate_scores.csv\"\n",
    "file_ncgr_transrate_scores = \"../assembly_evaluation_data/transrate_imicrobe_scores.csv\"\n",
    "\n",
    "           "
   ]
  },
  {
   "cell_type": "code",
   "execution_count": 15,
   "metadata": {
    "collapsed": false
   },
   "outputs": [],
   "source": [
    "# Load in df and add the mmetsp/sra information\n",
    "dib_v_ncgr = pd.read_csv(file_dib_v_ncgr)\n",
    "dib_v_ncgr = pd.merge(sra_map, dib_v_ncgr, on='Run')\n",
    "ncgr_v_dib = pd.read_csv(file_ncgr_v_dib)\n",
    "ncgr_v_dib = pd.merge(sra_map, ncgr_v_dib, on='SampleName')\n",
    "\n",
    "ncgr_busco = pd.read_csv(file_ncgr_busco)\n",
    "ncgr_busco = pd.merge(sra_map,ncgr_busco,on=\"SampleName\")\n",
    "\n",
    "dib_busco = pd.read_csv(file_dib_busco)\n",
    "dib_busco = pd.merge(sra_map,dib_busco,on=\"Run\")\n",
    "\n",
    "ncgr_transrate = pd.read_csv(file_ncgr_transrate_scores)\n",
    "ncgr_transrate = pd.merge(sra_map,ncgr_transrate,on=\"SampleName\")\n",
    "\n",
    "dib_transrate = pd.read_csv(file_dib_transrate_scores)\n",
    "dib_transrate = pd.merge(sra_map,dib_transrate,on=\"Run\")"
   ]
  },
  {
   "cell_type": "code",
   "execution_count": 16,
   "metadata": {
    "collapsed": false
   },
   "outputs": [
    {
     "data": {
      "text/html": [
       "<div>\n",
       "<table border=\"1\" class=\"dataframe\">\n",
       "  <thead>\n",
       "    <tr style=\"text-align: right;\">\n",
       "      <th></th>\n",
       "      <th>Run</th>\n",
       "      <th>SampleName</th>\n",
       "      <th>Complete</th>\n",
       "      <th>Fragmented</th>\n",
       "      <th>Missing</th>\n",
       "      <th>Total</th>\n",
       "      <th>Complete_BUSCO_perc</th>\n",
       "    </tr>\n",
       "  </thead>\n",
       "  <tbody>\n",
       "    <tr>\n",
       "      <th>0</th>\n",
       "      <td>SRR1300443</td>\n",
       "      <td>MMETSP1353</td>\n",
       "      <td>141</td>\n",
       "      <td>42</td>\n",
       "      <td>246</td>\n",
       "      <td>429</td>\n",
       "      <td>0.328671</td>\n",
       "    </tr>\n",
       "    <tr>\n",
       "      <th>1</th>\n",
       "      <td>SRR1300444</td>\n",
       "      <td>MMETSP1354</td>\n",
       "      <td>95</td>\n",
       "      <td>51</td>\n",
       "      <td>283</td>\n",
       "      <td>429</td>\n",
       "      <td>0.221445</td>\n",
       "    </tr>\n",
       "    <tr>\n",
       "      <th>2</th>\n",
       "      <td>SRR1300445</td>\n",
       "      <td>MMETSP1345</td>\n",
       "      <td>180</td>\n",
       "      <td>39</td>\n",
       "      <td>210</td>\n",
       "      <td>429</td>\n",
       "      <td>0.419580</td>\n",
       "    </tr>\n",
       "    <tr>\n",
       "      <th>3</th>\n",
       "      <td>SRR1300446</td>\n",
       "      <td>MMETSP1322</td>\n",
       "      <td>179</td>\n",
       "      <td>56</td>\n",
       "      <td>194</td>\n",
       "      <td>429</td>\n",
       "      <td>0.417249</td>\n",
       "    </tr>\n",
       "    <tr>\n",
       "      <th>4</th>\n",
       "      <td>SRR1300447</td>\n",
       "      <td>MMETSP1174</td>\n",
       "      <td>231</td>\n",
       "      <td>56</td>\n",
       "      <td>142</td>\n",
       "      <td>429</td>\n",
       "      <td>0.538462</td>\n",
       "    </tr>\n",
       "  </tbody>\n",
       "</table>\n",
       "</div>"
      ],
      "text/plain": [
       "          Run  SampleName  Complete  Fragmented  Missing  Total  \\\n",
       "0  SRR1300443  MMETSP1353       141          42      246    429   \n",
       "1  SRR1300444  MMETSP1354        95          51      283    429   \n",
       "2  SRR1300445  MMETSP1345       180          39      210    429   \n",
       "3  SRR1300446  MMETSP1322       179          56      194    429   \n",
       "4  SRR1300447  MMETSP1174       231          56      142    429   \n",
       "\n",
       "   Complete_BUSCO_perc  \n",
       "0             0.328671  \n",
       "1             0.221445  \n",
       "2             0.419580  \n",
       "3             0.417249  \n",
       "4             0.538462  "
      ]
     },
     "execution_count": 16,
     "metadata": {},
     "output_type": "execute_result"
    }
   ],
   "source": [
    "ncgr_busco.head()"
   ]
  },
  {
   "cell_type": "code",
   "execution_count": 17,
   "metadata": {
    "collapsed": false
   },
   "outputs": [
    {
     "data": {
      "text/html": [
       "<div>\n",
       "<table border=\"1\" class=\"dataframe\">\n",
       "  <thead>\n",
       "    <tr style=\"text-align: right;\">\n",
       "      <th></th>\n",
       "      <th>Run</th>\n",
       "      <th>SampleName</th>\n",
       "      <th>Unnamed: 0</th>\n",
       "      <th>Complete</th>\n",
       "      <th>Fragmented</th>\n",
       "      <th>Missing</th>\n",
       "      <th>Total</th>\n",
       "      <th>Complete_BUSCO_perc</th>\n",
       "    </tr>\n",
       "  </thead>\n",
       "  <tbody>\n",
       "    <tr>\n",
       "      <th>0</th>\n",
       "      <td>SRR1300443</td>\n",
       "      <td>MMETSP1353</td>\n",
       "      <td>Erythrolobus_australicus_SRR1300443</td>\n",
       "      <td>161</td>\n",
       "      <td>72</td>\n",
       "      <td>196</td>\n",
       "      <td>429</td>\n",
       "      <td>0.375291</td>\n",
       "    </tr>\n",
       "    <tr>\n",
       "      <th>1</th>\n",
       "      <td>SRR1300444</td>\n",
       "      <td>MMETSP1354</td>\n",
       "      <td>Erythrolobus_madagascarensis_SRR1300444</td>\n",
       "      <td>135</td>\n",
       "      <td>70</td>\n",
       "      <td>224</td>\n",
       "      <td>429</td>\n",
       "      <td>0.314685</td>\n",
       "    </tr>\n",
       "    <tr>\n",
       "      <th>2</th>\n",
       "      <td>SRR1300445</td>\n",
       "      <td>MMETSP1345</td>\n",
       "      <td>Fabrea_salina_SRR1300445</td>\n",
       "      <td>283</td>\n",
       "      <td>34</td>\n",
       "      <td>112</td>\n",
       "      <td>429</td>\n",
       "      <td>0.659674</td>\n",
       "    </tr>\n",
       "    <tr>\n",
       "      <th>3</th>\n",
       "      <td>SRR1300446</td>\n",
       "      <td>MMETSP1322</td>\n",
       "      <td>Minutocellus_polymorphus_SRR1300446</td>\n",
       "      <td>191</td>\n",
       "      <td>69</td>\n",
       "      <td>169</td>\n",
       "      <td>429</td>\n",
       "      <td>0.445221</td>\n",
       "    </tr>\n",
       "    <tr>\n",
       "      <th>4</th>\n",
       "      <td>SRR1300447</td>\n",
       "      <td>MMETSP1174</td>\n",
       "      <td>Dictyocha_speculum_SRR1300447</td>\n",
       "      <td>225</td>\n",
       "      <td>73</td>\n",
       "      <td>131</td>\n",
       "      <td>429</td>\n",
       "      <td>0.524476</td>\n",
       "    </tr>\n",
       "  </tbody>\n",
       "</table>\n",
       "</div>"
      ],
      "text/plain": [
       "          Run  SampleName                               Unnamed: 0  Complete  \\\n",
       "0  SRR1300443  MMETSP1353      Erythrolobus_australicus_SRR1300443       161   \n",
       "1  SRR1300444  MMETSP1354  Erythrolobus_madagascarensis_SRR1300444       135   \n",
       "2  SRR1300445  MMETSP1345                 Fabrea_salina_SRR1300445       283   \n",
       "3  SRR1300446  MMETSP1322      Minutocellus_polymorphus_SRR1300446       191   \n",
       "4  SRR1300447  MMETSP1174            Dictyocha_speculum_SRR1300447       225   \n",
       "\n",
       "   Fragmented  Missing  Total  Complete_BUSCO_perc  \n",
       "0          72      196    429             0.375291  \n",
       "1          70      224    429             0.314685  \n",
       "2          34      112    429             0.659674  \n",
       "3          69      169    429             0.445221  \n",
       "4          73      131    429             0.524476  "
      ]
     },
     "execution_count": 17,
     "metadata": {},
     "output_type": "execute_result"
    }
   ],
   "source": [
    "dib_busco.head()"
   ]
  },
  {
   "cell_type": "code",
   "execution_count": 18,
   "metadata": {
    "collapsed": false
   },
   "outputs": [
    {
     "data": {
      "text/html": [
       "<div>\n",
       "<table border=\"1\" class=\"dataframe\">\n",
       "  <thead>\n",
       "    <tr style=\"text-align: right;\">\n",
       "      <th></th>\n",
       "      <th>Run</th>\n",
       "      <th>SampleName</th>\n",
       "      <th>assembly</th>\n",
       "      <th>n_seqs</th>\n",
       "      <th>smallest</th>\n",
       "      <th>largest</th>\n",
       "      <th>n_bases</th>\n",
       "      <th>mean_len</th>\n",
       "      <th>n_under_200</th>\n",
       "      <th>n_over_1k</th>\n",
       "      <th>...</th>\n",
       "      <th>p_contigs_uncovbase</th>\n",
       "      <th>contigs_uncovered</th>\n",
       "      <th>p_contigs_uncovered</th>\n",
       "      <th>contigs_lowcovered</th>\n",
       "      <th>p_contigs_lowcovered</th>\n",
       "      <th>contigs_segmented</th>\n",
       "      <th>p_contigs_segmented</th>\n",
       "      <th>score</th>\n",
       "      <th>optimal_score</th>\n",
       "      <th>cutoff</th>\n",
       "    </tr>\n",
       "  </thead>\n",
       "  <tbody>\n",
       "    <tr>\n",
       "      <th>0</th>\n",
       "      <td>SRR1300443</td>\n",
       "      <td>MMETSP1353</td>\n",
       "      <td>/mnt/research/ged/lisa/mmetsp/imicrobe/cds/MME...</td>\n",
       "      <td>7144</td>\n",
       "      <td>150</td>\n",
       "      <td>13611</td>\n",
       "      <td>7613157</td>\n",
       "      <td>1052.32643</td>\n",
       "      <td>549</td>\n",
       "      <td>3028</td>\n",
       "      <td>...</td>\n",
       "      <td>0.65496</td>\n",
       "      <td>15</td>\n",
       "      <td>0.00210</td>\n",
       "      <td>2820</td>\n",
       "      <td>0.39474</td>\n",
       "      <td>464</td>\n",
       "      <td>0.06495</td>\n",
       "      <td>0.28641</td>\n",
       "      <td>0.33978</td>\n",
       "      <td>0.32779</td>\n",
       "    </tr>\n",
       "    <tr>\n",
       "      <th>1</th>\n",
       "      <td>SRR1300444</td>\n",
       "      <td>MMETSP1354</td>\n",
       "      <td>/mnt/research/ged/lisa/mmetsp/imicrobe/cds/MME...</td>\n",
       "      <td>7230</td>\n",
       "      <td>150</td>\n",
       "      <td>9759</td>\n",
       "      <td>6945606</td>\n",
       "      <td>941.82531</td>\n",
       "      <td>783</td>\n",
       "      <td>2657</td>\n",
       "      <td>...</td>\n",
       "      <td>0.64716</td>\n",
       "      <td>13</td>\n",
       "      <td>0.00180</td>\n",
       "      <td>2237</td>\n",
       "      <td>0.30941</td>\n",
       "      <td>520</td>\n",
       "      <td>0.07192</td>\n",
       "      <td>0.22521</td>\n",
       "      <td>0.27521</td>\n",
       "      <td>0.35183</td>\n",
       "    </tr>\n",
       "    <tr>\n",
       "      <th>2</th>\n",
       "      <td>SRR1300445</td>\n",
       "      <td>MMETSP1345</td>\n",
       "      <td>/mnt/research/ged/lisa/mmetsp/imicrobe/cds/MME...</td>\n",
       "      <td>7765</td>\n",
       "      <td>150</td>\n",
       "      <td>13569</td>\n",
       "      <td>9565389</td>\n",
       "      <td>1226.15699</td>\n",
       "      <td>254</td>\n",
       "      <td>3939</td>\n",
       "      <td>...</td>\n",
       "      <td>0.56613</td>\n",
       "      <td>2</td>\n",
       "      <td>0.00026</td>\n",
       "      <td>746</td>\n",
       "      <td>0.09607</td>\n",
       "      <td>1106</td>\n",
       "      <td>0.14243</td>\n",
       "      <td>0.30437</td>\n",
       "      <td>0.31185</td>\n",
       "      <td>0.32558</td>\n",
       "    </tr>\n",
       "    <tr>\n",
       "      <th>3</th>\n",
       "      <td>SRR1300446</td>\n",
       "      <td>MMETSP1322</td>\n",
       "      <td>/mnt/research/ged/lisa/mmetsp/imicrobe/cds/MME...</td>\n",
       "      <td>14799</td>\n",
       "      <td>150</td>\n",
       "      <td>7647</td>\n",
       "      <td>13880697</td>\n",
       "      <td>918.65315</td>\n",
       "      <td>1643</td>\n",
       "      <td>5496</td>\n",
       "      <td>...</td>\n",
       "      <td>0.68890</td>\n",
       "      <td>48</td>\n",
       "      <td>0.00324</td>\n",
       "      <td>6127</td>\n",
       "      <td>0.41401</td>\n",
       "      <td>727</td>\n",
       "      <td>0.04912</td>\n",
       "      <td>0.26267</td>\n",
       "      <td>0.30848</td>\n",
       "      <td>0.38362</td>\n",
       "    </tr>\n",
       "    <tr>\n",
       "      <th>4</th>\n",
       "      <td>SRR1300447</td>\n",
       "      <td>MMETSP1174</td>\n",
       "      <td>/mnt/research/ged/lisa/mmetsp/imicrobe/cds/MME...</td>\n",
       "      <td>27278</td>\n",
       "      <td>150</td>\n",
       "      <td>9579</td>\n",
       "      <td>20416083</td>\n",
       "      <td>723.31520</td>\n",
       "      <td>3949</td>\n",
       "      <td>6734</td>\n",
       "      <td>...</td>\n",
       "      <td>0.71468</td>\n",
       "      <td>134</td>\n",
       "      <td>0.00491</td>\n",
       "      <td>11791</td>\n",
       "      <td>0.43225</td>\n",
       "      <td>2170</td>\n",
       "      <td>0.07955</td>\n",
       "      <td>0.12535</td>\n",
       "      <td>0.16331</td>\n",
       "      <td>0.27294</td>\n",
       "    </tr>\n",
       "  </tbody>\n",
       "</table>\n",
       "<p>5 rows × 45 columns</p>\n",
       "</div>"
      ],
      "text/plain": [
       "          Run  SampleName                                           assembly  \\\n",
       "0  SRR1300443  MMETSP1353  /mnt/research/ged/lisa/mmetsp/imicrobe/cds/MME...   \n",
       "1  SRR1300444  MMETSP1354  /mnt/research/ged/lisa/mmetsp/imicrobe/cds/MME...   \n",
       "2  SRR1300445  MMETSP1345  /mnt/research/ged/lisa/mmetsp/imicrobe/cds/MME...   \n",
       "3  SRR1300446  MMETSP1322  /mnt/research/ged/lisa/mmetsp/imicrobe/cds/MME...   \n",
       "4  SRR1300447  MMETSP1174  /mnt/research/ged/lisa/mmetsp/imicrobe/cds/MME...   \n",
       "\n",
       "   n_seqs  smallest  largest   n_bases    mean_len  n_under_200  n_over_1k  \\\n",
       "0    7144       150    13611   7613157  1052.32643          549       3028   \n",
       "1    7230       150     9759   6945606   941.82531          783       2657   \n",
       "2    7765       150    13569   9565389  1226.15699          254       3939   \n",
       "3   14799       150     7647  13880697   918.65315         1643       5496   \n",
       "4   27278       150     9579  20416083   723.31520         3949       6734   \n",
       "\n",
       "    ...     p_contigs_uncovbase  contigs_uncovered  p_contigs_uncovered  \\\n",
       "0   ...                 0.65496                 15              0.00210   \n",
       "1   ...                 0.64716                 13              0.00180   \n",
       "2   ...                 0.56613                  2              0.00026   \n",
       "3   ...                 0.68890                 48              0.00324   \n",
       "4   ...                 0.71468                134              0.00491   \n",
       "\n",
       "   contigs_lowcovered  p_contigs_lowcovered  contigs_segmented  \\\n",
       "0                2820               0.39474                464   \n",
       "1                2237               0.30941                520   \n",
       "2                 746               0.09607               1106   \n",
       "3                6127               0.41401                727   \n",
       "4               11791               0.43225               2170   \n",
       "\n",
       "   p_contigs_segmented    score  optimal_score   cutoff  \n",
       "0              0.06495  0.28641        0.33978  0.32779  \n",
       "1              0.07192  0.22521        0.27521  0.35183  \n",
       "2              0.14243  0.30437        0.31185  0.32558  \n",
       "3              0.04912  0.26267        0.30848  0.38362  \n",
       "4              0.07955  0.12535        0.16331  0.27294  \n",
       "\n",
       "[5 rows x 45 columns]"
      ]
     },
     "execution_count": 18,
     "metadata": {},
     "output_type": "execute_result"
    }
   ],
   "source": [
    "ncgr_transrate.head()"
   ]
  },
  {
   "cell_type": "code",
   "execution_count": 19,
   "metadata": {
    "collapsed": false
   },
   "outputs": [
    {
     "data": {
      "text/html": [
       "<div>\n",
       "<table border=\"1\" class=\"dataframe\">\n",
       "  <thead>\n",
       "    <tr style=\"text-align: right;\">\n",
       "      <th></th>\n",
       "      <th>Run</th>\n",
       "      <th>SampleName</th>\n",
       "      <th>assembly</th>\n",
       "      <th>n_seqs</th>\n",
       "      <th>smallest</th>\n",
       "      <th>largest</th>\n",
       "      <th>n_bases</th>\n",
       "      <th>mean_len</th>\n",
       "      <th>n_under_200</th>\n",
       "      <th>n_over_1k</th>\n",
       "      <th>...</th>\n",
       "      <th>p_contigs_uncovbase</th>\n",
       "      <th>contigs_uncovered</th>\n",
       "      <th>p_contigs_uncovered</th>\n",
       "      <th>contigs_lowcovered</th>\n",
       "      <th>p_contigs_lowcovered</th>\n",
       "      <th>contigs_segmented</th>\n",
       "      <th>p_contigs_segmented</th>\n",
       "      <th>score</th>\n",
       "      <th>optimal_score</th>\n",
       "      <th>cutoff</th>\n",
       "    </tr>\n",
       "  </thead>\n",
       "  <tbody>\n",
       "    <tr>\n",
       "      <th>0</th>\n",
       "      <td>SRR1300443</td>\n",
       "      <td>MMETSP1353</td>\n",
       "      <td>/mnt/scratch/ljcohen/mmetsp/Erythrolobus_austr...</td>\n",
       "      <td>14363</td>\n",
       "      <td>201</td>\n",
       "      <td>17808</td>\n",
       "      <td>12557848</td>\n",
       "      <td>874.31929</td>\n",
       "      <td>0</td>\n",
       "      <td>4455</td>\n",
       "      <td>...</td>\n",
       "      <td>0.31066</td>\n",
       "      <td>95</td>\n",
       "      <td>0.00661</td>\n",
       "      <td>9700</td>\n",
       "      <td>0.67535</td>\n",
       "      <td>814</td>\n",
       "      <td>0.05667</td>\n",
       "      <td>0.39229</td>\n",
       "      <td>0.40475</td>\n",
       "      <td>0.02722</td>\n",
       "    </tr>\n",
       "    <tr>\n",
       "      <th>1</th>\n",
       "      <td>SRR1300444</td>\n",
       "      <td>MMETSP1354</td>\n",
       "      <td>/mnt/scratch/ljcohen/mmetsp/Erythrolobus_madag...</td>\n",
       "      <td>13681</td>\n",
       "      <td>201</td>\n",
       "      <td>8496</td>\n",
       "      <td>12107327</td>\n",
       "      <td>884.97383</td>\n",
       "      <td>0</td>\n",
       "      <td>4146</td>\n",
       "      <td>...</td>\n",
       "      <td>0.30371</td>\n",
       "      <td>106</td>\n",
       "      <td>0.00775</td>\n",
       "      <td>8379</td>\n",
       "      <td>0.61246</td>\n",
       "      <td>901</td>\n",
       "      <td>0.06586</td>\n",
       "      <td>0.35189</td>\n",
       "      <td>0.36723</td>\n",
       "      <td>0.03236</td>\n",
       "    </tr>\n",
       "    <tr>\n",
       "      <th>2</th>\n",
       "      <td>SRR1300445</td>\n",
       "      <td>MMETSP1345</td>\n",
       "      <td>/mnt/scratch/ljcohen/mmetsp/Fabrea_salina/SRR1...</td>\n",
       "      <td>14472</td>\n",
       "      <td>201</td>\n",
       "      <td>13624</td>\n",
       "      <td>16143120</td>\n",
       "      <td>1115.47264</td>\n",
       "      <td>0</td>\n",
       "      <td>6035</td>\n",
       "      <td>...</td>\n",
       "      <td>0.27204</td>\n",
       "      <td>46</td>\n",
       "      <td>0.00318</td>\n",
       "      <td>4426</td>\n",
       "      <td>0.30583</td>\n",
       "      <td>1792</td>\n",
       "      <td>0.12383</td>\n",
       "      <td>0.43613</td>\n",
       "      <td>0.44711</td>\n",
       "      <td>0.02345</td>\n",
       "    </tr>\n",
       "    <tr>\n",
       "      <th>3</th>\n",
       "      <td>SRR1300446</td>\n",
       "      <td>MMETSP1322</td>\n",
       "      <td>/mnt/scratch/ljcohen/mmetsp/Minutocellus_polym...</td>\n",
       "      <td>26767</td>\n",
       "      <td>201</td>\n",
       "      <td>6638</td>\n",
       "      <td>21112210</td>\n",
       "      <td>788.74024</td>\n",
       "      <td>0</td>\n",
       "      <td>7106</td>\n",
       "      <td>...</td>\n",
       "      <td>0.31946</td>\n",
       "      <td>165</td>\n",
       "      <td>0.00616</td>\n",
       "      <td>17996</td>\n",
       "      <td>0.67232</td>\n",
       "      <td>941</td>\n",
       "      <td>0.03516</td>\n",
       "      <td>0.36034</td>\n",
       "      <td>0.43550</td>\n",
       "      <td>0.41542</td>\n",
       "    </tr>\n",
       "    <tr>\n",
       "      <th>4</th>\n",
       "      <td>SRR1300447</td>\n",
       "      <td>MMETSP1174</td>\n",
       "      <td>/mnt/scratch/ljcohen/mmetsp/Dictyocha_speculum...</td>\n",
       "      <td>58186</td>\n",
       "      <td>201</td>\n",
       "      <td>8804</td>\n",
       "      <td>37663791</td>\n",
       "      <td>647.29988</td>\n",
       "      <td>0</td>\n",
       "      <td>10892</td>\n",
       "      <td>...</td>\n",
       "      <td>0.33295</td>\n",
       "      <td>621</td>\n",
       "      <td>0.01067</td>\n",
       "      <td>39458</td>\n",
       "      <td>0.67814</td>\n",
       "      <td>2612</td>\n",
       "      <td>0.04489</td>\n",
       "      <td>0.25335</td>\n",
       "      <td>0.33796</td>\n",
       "      <td>0.41557</td>\n",
       "    </tr>\n",
       "  </tbody>\n",
       "</table>\n",
       "<p>5 rows × 45 columns</p>\n",
       "</div>"
      ],
      "text/plain": [
       "          Run  SampleName                                           assembly  \\\n",
       "0  SRR1300443  MMETSP1353  /mnt/scratch/ljcohen/mmetsp/Erythrolobus_austr...   \n",
       "1  SRR1300444  MMETSP1354  /mnt/scratch/ljcohen/mmetsp/Erythrolobus_madag...   \n",
       "2  SRR1300445  MMETSP1345  /mnt/scratch/ljcohen/mmetsp/Fabrea_salina/SRR1...   \n",
       "3  SRR1300446  MMETSP1322  /mnt/scratch/ljcohen/mmetsp/Minutocellus_polym...   \n",
       "4  SRR1300447  MMETSP1174  /mnt/scratch/ljcohen/mmetsp/Dictyocha_speculum...   \n",
       "\n",
       "   n_seqs  smallest  largest   n_bases    mean_len  n_under_200  n_over_1k  \\\n",
       "0   14363       201    17808  12557848   874.31929            0       4455   \n",
       "1   13681       201     8496  12107327   884.97383            0       4146   \n",
       "2   14472       201    13624  16143120  1115.47264            0       6035   \n",
       "3   26767       201     6638  21112210   788.74024            0       7106   \n",
       "4   58186       201     8804  37663791   647.29988            0      10892   \n",
       "\n",
       "    ...     p_contigs_uncovbase  contigs_uncovered  p_contigs_uncovered  \\\n",
       "0   ...                 0.31066                 95              0.00661   \n",
       "1   ...                 0.30371                106              0.00775   \n",
       "2   ...                 0.27204                 46              0.00318   \n",
       "3   ...                 0.31946                165              0.00616   \n",
       "4   ...                 0.33295                621              0.01067   \n",
       "\n",
       "   contigs_lowcovered  p_contigs_lowcovered  contigs_segmented  \\\n",
       "0                9700               0.67535                814   \n",
       "1                8379               0.61246                901   \n",
       "2                4426               0.30583               1792   \n",
       "3               17996               0.67232                941   \n",
       "4               39458               0.67814               2612   \n",
       "\n",
       "   p_contigs_segmented    score  optimal_score   cutoff  \n",
       "0              0.05667  0.39229        0.40475  0.02722  \n",
       "1              0.06586  0.35189        0.36723  0.03236  \n",
       "2              0.12383  0.43613        0.44711  0.02345  \n",
       "3              0.03516  0.36034        0.43550  0.41542  \n",
       "4              0.04489  0.25335        0.33796  0.41557  \n",
       "\n",
       "[5 rows x 45 columns]"
      ]
     },
     "execution_count": 19,
     "metadata": {},
     "output_type": "execute_result"
    }
   ],
   "source": [
    "dib_transrate.head()"
   ]
  },
  {
   "cell_type": "code",
   "execution_count": 20,
   "metadata": {
    "collapsed": false
   },
   "outputs": [],
   "source": [
    "#Set indexing value\n",
    "ncgr_v_dib = ncgr_v_dib.set_index('Run')\n",
    "dib_v_ncgr = dib_v_ncgr.set_index('Run')\n",
    "dib_busco = dib_busco.set_index('Run')\n",
    "ncgr_busco = ncgr_busco.set_index('Run')\n",
    "dib_transrate = dib_transrate.set_index('Run')\n",
    "ncgr_transrate = ncgr_transrate.set_index('Run')\n",
    "\n",
    "dib_v_ncgr = dib_v_ncgr.drop_duplicates()\n",
    "ncgr_v_dib = ncgr_v_dib.drop_duplicates()\n",
    "dib_busco = dib_busco.drop_duplicates()\n",
    "ncgr_busco = ncgr_busco.drop_duplicates()\n",
    "dib_transrate = dib_transrate.drop_duplicates()\n",
    "ncgr_transrate = ncgr_transrate.drop_duplicates()\n"
   ]
  },
  {
   "cell_type": "markdown",
   "metadata": {},
   "source": [
    "### Plotting functions \n"
   ]
  },
  {
   "cell_type": "code",
   "execution_count": 21,
   "metadata": {
    "collapsed": false
   },
   "outputs": [],
   "source": [
    "def scatter_diff(df1, df2, column, fig, ax, df1name = 'df1', df2name = 'df2', \n",
    "                 color1='#566573', color2='#F5B041', ymin=0, ymax=1, ypos=.95):\n",
    "    # plot scatter differences between two dfs with the same columns\n",
    "    # create new df for data comparison\n",
    "    newdf = pd.DataFrame()\n",
    "    newdf[df1name] = df1[column]\n",
    "    newdf[df2name] = df2[column]\n",
    "    newdf = newdf.dropna()\n",
    "    newdf = newdf.drop_duplicates()\n",
    "    # plot with different colors if df1 > or < then df2\n",
    "    newdf.loc[newdf[df1name] > newdf[df2name], [df1name, df2name]].T.plot(ax=ax, legend = False, \n",
    "                                                                          color = color1, lw=2)\n",
    "    newdf.loc[newdf[df1name] <= newdf[df2name], [df1name, df2name]].T.plot(ax=ax, legend = False, \n",
    "                                                                           color = color2, alpha = 0.5, lw=2)\n",
    "    ax.text(-.1, ypos, str(len(newdf.loc[newdf[df1name] > newdf[df2name]])), \n",
    "            color= color1, fontsize='x-large', fontweight='heavy')\n",
    "    ax.text(.95, ypos, str(len(newdf.loc[newdf[df1name] <= newdf[df2name]])), \n",
    "            color= color2, fontsize='x-large', fontweight='heavy')\n",
    "\n",
    "    # aesthetics \n",
    "    ax.set_xlim(-.15, 1.15)\n",
    "    ax.set_ylim(ymin, ymax)\n",
    "    ax.set_xticks([0,1])\n",
    "    ax.set_xticklabels([df1name, df2name], fontsize='large', fontweight='bold')\n",
    "#     ax.set_ylabel(column, fontsize='x-large')\n",
    "    return newdf, fig, ax\n",
    "    \n",
    "\n",
    "def violin_split(df, col1, col2, fig, ax, color2='#566573', color1='#F5B041', ymin=0, ymax=1):\n",
    "    #create split violine plots\n",
    "    v1 = ax.violinplot(df[col1],\n",
    "                   showmeans=False, showextrema=False, showmedians=False)\n",
    "    for b in v1['bodies']:\n",
    "        m = np.mean(b.get_paths()[0].vertices[:, 0])\n",
    "        b.get_paths()[0].vertices[:, 0] = np.clip(b.get_paths()[0].vertices[:, 0], -np.inf, m)\n",
    "        b.set_color(color2)\n",
    "        b.set_alpha(0.85)\n",
    "    v2 = ax.violinplot(df[col2],\n",
    "                   showmeans=False, showextrema=False, showmedians=False)\n",
    "    for b in v2['bodies']:\n",
    "        m = np.mean(b.get_paths()[0].vertices[:, 0])\n",
    "        b.get_paths()[0].vertices[:, 0] = np.clip(b.get_paths()[0].vertices[:, 0], m, np.inf)\n",
    "        b.set_color(color1)\n",
    "        b.set_alpha(0.85)\n",
    "    ax.set_xticks([])\n",
    "    ax.set_ylim([ymin, ymax])\n",
    "    \n",
    "def create_plots(df1, df2, column, col_title, df1name = 'NCGR', df2name = 'DIB', ymax = 1, ymin = 0, ypos = 0.95):\n",
    "    fig, axs = plt.subplots(1,2)\n",
    "    fig.set_size_inches(6,6)\n",
    "    outdf, fig, ax = scatter_diff(df1, df2, column = column, \n",
    "                 fig = fig, ax = axs[0], df1name = df1name, df2name = df2name, \n",
    "                                  ymax = ymax, ymin = ymin, ypos = ypos)\n",
    "    violin_split(outdf, df1name, df2name, fig, axs[1], ymin = ymin, ymax = ymax)\n",
    "    fig.suptitle(col_title, fontsize = 'x-large', fontweight = 'bold')\n",
    "    return outdf, fig, ax\n"
   ]
  },
  {
   "cell_type": "markdown",
   "metadata": {},
   "source": [
    "## Checking out different variables reported by transrate"
   ]
  },
  {
   "cell_type": "code",
   "execution_count": 22,
   "metadata": {
    "collapsed": false
   },
   "outputs": [
    {
     "ename": "TypeError",
     "evalue": "Empty 'DataFrame': no numeric data to plot",
     "output_type": "error",
     "traceback": [
      "\u001b[0;31m---------------------------------------------------------------------------\u001b[0m",
      "\u001b[0;31mTypeError\u001b[0m                                 Traceback (most recent call last)",
      "\u001b[0;32m<ipython-input-22-227c6840b705>\u001b[0m in \u001b[0;36m<module>\u001b[0;34m()\u001b[0m\n\u001b[0;32m----> 1\u001b[0;31m \u001b[0mp_refs_with_CRBB\u001b[0m\u001b[0;34m,\u001b[0m \u001b[0mfig\u001b[0m\u001b[0;34m,\u001b[0m \u001b[0max\u001b[0m \u001b[0;34m=\u001b[0m \u001b[0mcreate_plots\u001b[0m\u001b[0;34m(\u001b[0m\u001b[0mncgr_v_dib\u001b[0m\u001b[0;34m,\u001b[0m \u001b[0mdib_v_ncgr\u001b[0m\u001b[0;34m,\u001b[0m \u001b[0;34m'p_refs_with_CRBB'\u001b[0m\u001b[0;34m,\u001b[0m \u001b[0;34m'Proportion of contigs with CRB-BLAST'\u001b[0m\u001b[0;34m)\u001b[0m\u001b[0;34m\u001b[0m\u001b[0m\n\u001b[0m",
      "\u001b[0;32m<ipython-input-21-47f177b9f824>\u001b[0m in \u001b[0;36mcreate_plots\u001b[0;34m(df1, df2, column, col_title, df1name, df2name, ymax, ymin, ypos)\u001b[0m\n\u001b[1;32m     51\u001b[0m     outdf, fig, ax = scatter_diff(df1, df2, column = column, \n\u001b[1;32m     52\u001b[0m                  \u001b[0mfig\u001b[0m \u001b[0;34m=\u001b[0m \u001b[0mfig\u001b[0m\u001b[0;34m,\u001b[0m \u001b[0max\u001b[0m \u001b[0;34m=\u001b[0m \u001b[0maxs\u001b[0m\u001b[0;34m[\u001b[0m\u001b[0;36m0\u001b[0m\u001b[0;34m]\u001b[0m\u001b[0;34m,\u001b[0m \u001b[0mdf1name\u001b[0m \u001b[0;34m=\u001b[0m \u001b[0mdf1name\u001b[0m\u001b[0;34m,\u001b[0m \u001b[0mdf2name\u001b[0m \u001b[0;34m=\u001b[0m \u001b[0mdf2name\u001b[0m\u001b[0;34m,\u001b[0m\u001b[0;34m\u001b[0m\u001b[0m\n\u001b[0;32m---> 53\u001b[0;31m                                   ymax = ymax, ymin = ymin, ypos = ypos)\n\u001b[0m\u001b[1;32m     54\u001b[0m     \u001b[0mviolin_split\u001b[0m\u001b[0;34m(\u001b[0m\u001b[0moutdf\u001b[0m\u001b[0;34m,\u001b[0m \u001b[0mdf1name\u001b[0m\u001b[0;34m,\u001b[0m \u001b[0mdf2name\u001b[0m\u001b[0;34m,\u001b[0m \u001b[0mfig\u001b[0m\u001b[0;34m,\u001b[0m \u001b[0maxs\u001b[0m\u001b[0;34m[\u001b[0m\u001b[0;36m1\u001b[0m\u001b[0;34m]\u001b[0m\u001b[0;34m,\u001b[0m \u001b[0mymin\u001b[0m \u001b[0;34m=\u001b[0m \u001b[0mymin\u001b[0m\u001b[0;34m,\u001b[0m \u001b[0mymax\u001b[0m \u001b[0;34m=\u001b[0m \u001b[0mymax\u001b[0m\u001b[0;34m)\u001b[0m\u001b[0;34m\u001b[0m\u001b[0m\n\u001b[1;32m     55\u001b[0m     \u001b[0mfig\u001b[0m\u001b[0;34m.\u001b[0m\u001b[0msuptitle\u001b[0m\u001b[0;34m(\u001b[0m\u001b[0mcol_title\u001b[0m\u001b[0;34m,\u001b[0m \u001b[0mfontsize\u001b[0m \u001b[0;34m=\u001b[0m \u001b[0;34m'x-large'\u001b[0m\u001b[0;34m,\u001b[0m \u001b[0mfontweight\u001b[0m \u001b[0;34m=\u001b[0m \u001b[0;34m'bold'\u001b[0m\u001b[0;34m)\u001b[0m\u001b[0;34m\u001b[0m\u001b[0m\n",
      "\u001b[0;32m<ipython-input-21-47f177b9f824>\u001b[0m in \u001b[0;36mscatter_diff\u001b[0;34m(df1, df2, column, fig, ax, df1name, df2name, color1, color2, ymin, ymax, ypos)\u001b[0m\n\u001b[1;32m     10\u001b[0m     \u001b[0;31m# plot with different colors if df1 > or < then df2\u001b[0m\u001b[0;34m\u001b[0m\u001b[0;34m\u001b[0m\u001b[0m\n\u001b[1;32m     11\u001b[0m     newdf.loc[newdf[df1name] > newdf[df2name], [df1name, df2name]].T.plot(ax=ax, legend = False, \n\u001b[0;32m---> 12\u001b[0;31m                                                                           color = color1, lw=2)\n\u001b[0m\u001b[1;32m     13\u001b[0m     newdf.loc[newdf[df1name] <= newdf[df2name], [df1name, df2name]].T.plot(ax=ax, legend = False, \n\u001b[1;32m     14\u001b[0m                                                                            color = color2, alpha = 0.5, lw=2)\n",
      "\u001b[0;32m/Users/cohenl06/anaconda/envs/py35/lib/python3.5/site-packages/pandas/tools/plotting.py\u001b[0m in \u001b[0;36m__call__\u001b[0;34m(self, x, y, kind, ax, subplots, sharex, sharey, layout, figsize, use_index, title, grid, legend, style, logx, logy, loglog, xticks, yticks, xlim, ylim, rot, fontsize, colormap, table, yerr, xerr, secondary_y, sort_columns, **kwds)\u001b[0m\n\u001b[1;32m   3738\u001b[0m                           \u001b[0mfontsize\u001b[0m\u001b[0;34m=\u001b[0m\u001b[0mfontsize\u001b[0m\u001b[0;34m,\u001b[0m \u001b[0mcolormap\u001b[0m\u001b[0;34m=\u001b[0m\u001b[0mcolormap\u001b[0m\u001b[0;34m,\u001b[0m \u001b[0mtable\u001b[0m\u001b[0;34m=\u001b[0m\u001b[0mtable\u001b[0m\u001b[0;34m,\u001b[0m\u001b[0;34m\u001b[0m\u001b[0m\n\u001b[1;32m   3739\u001b[0m                           \u001b[0myerr\u001b[0m\u001b[0;34m=\u001b[0m\u001b[0myerr\u001b[0m\u001b[0;34m,\u001b[0m \u001b[0mxerr\u001b[0m\u001b[0;34m=\u001b[0m\u001b[0mxerr\u001b[0m\u001b[0;34m,\u001b[0m \u001b[0msecondary_y\u001b[0m\u001b[0;34m=\u001b[0m\u001b[0msecondary_y\u001b[0m\u001b[0;34m,\u001b[0m\u001b[0;34m\u001b[0m\u001b[0m\n\u001b[0;32m-> 3740\u001b[0;31m                           sort_columns=sort_columns, **kwds)\n\u001b[0m\u001b[1;32m   3741\u001b[0m     \u001b[0m__call__\u001b[0m\u001b[0;34m.\u001b[0m\u001b[0m__doc__\u001b[0m \u001b[0;34m=\u001b[0m \u001b[0mplot_frame\u001b[0m\u001b[0;34m.\u001b[0m\u001b[0m__doc__\u001b[0m\u001b[0;34m\u001b[0m\u001b[0m\n\u001b[1;32m   3742\u001b[0m \u001b[0;34m\u001b[0m\u001b[0m\n",
      "\u001b[0;32m/Users/cohenl06/anaconda/envs/py35/lib/python3.5/site-packages/pandas/tools/plotting.py\u001b[0m in \u001b[0;36mplot_frame\u001b[0;34m(data, x, y, kind, ax, subplots, sharex, sharey, layout, figsize, use_index, title, grid, legend, style, logx, logy, loglog, xticks, yticks, xlim, ylim, rot, fontsize, colormap, table, yerr, xerr, secondary_y, sort_columns, **kwds)\u001b[0m\n\u001b[1;32m   2612\u001b[0m                  \u001b[0myerr\u001b[0m\u001b[0;34m=\u001b[0m\u001b[0myerr\u001b[0m\u001b[0;34m,\u001b[0m \u001b[0mxerr\u001b[0m\u001b[0;34m=\u001b[0m\u001b[0mxerr\u001b[0m\u001b[0;34m,\u001b[0m\u001b[0;34m\u001b[0m\u001b[0m\n\u001b[1;32m   2613\u001b[0m                  \u001b[0msecondary_y\u001b[0m\u001b[0;34m=\u001b[0m\u001b[0msecondary_y\u001b[0m\u001b[0;34m,\u001b[0m \u001b[0msort_columns\u001b[0m\u001b[0;34m=\u001b[0m\u001b[0msort_columns\u001b[0m\u001b[0;34m,\u001b[0m\u001b[0;34m\u001b[0m\u001b[0m\n\u001b[0;32m-> 2614\u001b[0;31m                  **kwds)\n\u001b[0m\u001b[1;32m   2615\u001b[0m \u001b[0;34m\u001b[0m\u001b[0m\n\u001b[1;32m   2616\u001b[0m \u001b[0;34m\u001b[0m\u001b[0m\n",
      "\u001b[0;32m/Users/cohenl06/anaconda/envs/py35/lib/python3.5/site-packages/pandas/tools/plotting.py\u001b[0m in \u001b[0;36m_plot\u001b[0;34m(data, x, y, subplots, ax, kind, **kwds)\u001b[0m\n\u001b[1;32m   2439\u001b[0m         \u001b[0mplot_obj\u001b[0m \u001b[0;34m=\u001b[0m \u001b[0mklass\u001b[0m\u001b[0;34m(\u001b[0m\u001b[0mdata\u001b[0m\u001b[0;34m,\u001b[0m \u001b[0msubplots\u001b[0m\u001b[0;34m=\u001b[0m\u001b[0msubplots\u001b[0m\u001b[0;34m,\u001b[0m \u001b[0max\u001b[0m\u001b[0;34m=\u001b[0m\u001b[0max\u001b[0m\u001b[0;34m,\u001b[0m \u001b[0mkind\u001b[0m\u001b[0;34m=\u001b[0m\u001b[0mkind\u001b[0m\u001b[0;34m,\u001b[0m \u001b[0;34m**\u001b[0m\u001b[0mkwds\u001b[0m\u001b[0;34m)\u001b[0m\u001b[0;34m\u001b[0m\u001b[0m\n\u001b[1;32m   2440\u001b[0m \u001b[0;34m\u001b[0m\u001b[0m\n\u001b[0;32m-> 2441\u001b[0;31m     \u001b[0mplot_obj\u001b[0m\u001b[0;34m.\u001b[0m\u001b[0mgenerate\u001b[0m\u001b[0;34m(\u001b[0m\u001b[0;34m)\u001b[0m\u001b[0;34m\u001b[0m\u001b[0m\n\u001b[0m\u001b[1;32m   2442\u001b[0m     \u001b[0mplot_obj\u001b[0m\u001b[0;34m.\u001b[0m\u001b[0mdraw\u001b[0m\u001b[0;34m(\u001b[0m\u001b[0;34m)\u001b[0m\u001b[0;34m\u001b[0m\u001b[0m\n\u001b[1;32m   2443\u001b[0m     \u001b[0;32mreturn\u001b[0m \u001b[0mplot_obj\u001b[0m\u001b[0;34m.\u001b[0m\u001b[0mresult\u001b[0m\u001b[0;34m\u001b[0m\u001b[0m\n",
      "\u001b[0;32m/Users/cohenl06/anaconda/envs/py35/lib/python3.5/site-packages/pandas/tools/plotting.py\u001b[0m in \u001b[0;36mgenerate\u001b[0;34m(self)\u001b[0m\n\u001b[1;32m   1024\u001b[0m     \u001b[0;32mdef\u001b[0m \u001b[0mgenerate\u001b[0m\u001b[0;34m(\u001b[0m\u001b[0mself\u001b[0m\u001b[0;34m)\u001b[0m\u001b[0;34m:\u001b[0m\u001b[0;34m\u001b[0m\u001b[0m\n\u001b[1;32m   1025\u001b[0m         \u001b[0mself\u001b[0m\u001b[0;34m.\u001b[0m\u001b[0m_args_adjust\u001b[0m\u001b[0;34m(\u001b[0m\u001b[0;34m)\u001b[0m\u001b[0;34m\u001b[0m\u001b[0m\n\u001b[0;32m-> 1026\u001b[0;31m         \u001b[0mself\u001b[0m\u001b[0;34m.\u001b[0m\u001b[0m_compute_plot_data\u001b[0m\u001b[0;34m(\u001b[0m\u001b[0;34m)\u001b[0m\u001b[0;34m\u001b[0m\u001b[0m\n\u001b[0m\u001b[1;32m   1027\u001b[0m         \u001b[0mself\u001b[0m\u001b[0;34m.\u001b[0m\u001b[0m_setup_subplots\u001b[0m\u001b[0;34m(\u001b[0m\u001b[0;34m)\u001b[0m\u001b[0;34m\u001b[0m\u001b[0m\n\u001b[1;32m   1028\u001b[0m         \u001b[0mself\u001b[0m\u001b[0;34m.\u001b[0m\u001b[0m_make_plot\u001b[0m\u001b[0;34m(\u001b[0m\u001b[0;34m)\u001b[0m\u001b[0;34m\u001b[0m\u001b[0m\n",
      "\u001b[0;32m/Users/cohenl06/anaconda/envs/py35/lib/python3.5/site-packages/pandas/tools/plotting.py\u001b[0m in \u001b[0;36m_compute_plot_data\u001b[0;34m(self)\u001b[0m\n\u001b[1;32m   1133\u001b[0m         \u001b[0;32mif\u001b[0m \u001b[0mis_empty\u001b[0m\u001b[0;34m:\u001b[0m\u001b[0;34m\u001b[0m\u001b[0m\n\u001b[1;32m   1134\u001b[0m             raise TypeError('Empty {0!r}: no numeric data to '\n\u001b[0;32m-> 1135\u001b[0;31m                             'plot'.format(numeric_data.__class__.__name__))\n\u001b[0m\u001b[1;32m   1136\u001b[0m \u001b[0;34m\u001b[0m\u001b[0m\n\u001b[1;32m   1137\u001b[0m         \u001b[0mself\u001b[0m\u001b[0;34m.\u001b[0m\u001b[0mdata\u001b[0m \u001b[0;34m=\u001b[0m \u001b[0mnumeric_data\u001b[0m\u001b[0;34m\u001b[0m\u001b[0m\n",
      "\u001b[0;31mTypeError\u001b[0m: Empty 'DataFrame': no numeric data to plot"
     ]
    },
    {
     "data": {
      "image/png": "[encoded data removed]",
      "text/plain": [
       "<matplotlib.figure.Figure at 0x118e144a8>"
      ]
     },
     "metadata": {},
     "output_type": "display_data"
    }
   ],
   "source": [
    "p_refs_with_CRBB, fig, ax = create_plots(ncgr_v_dib, dib_v_ncgr, 'p_refs_with_CRBB', 'Proportion of contigs with CRB-BLAST')"
   ]
  },
  {
   "cell_type": "code",
   "execution_count": null,
   "metadata": {
    "collapsed": false
   },
   "outputs": [],
   "source": [
    "p_refs_with_CRBB.loc[p_refs_with_CRBB.DIB < p_refs_with_CRBB.NCGR]\n"
   ]
  },
  {
   "cell_type": "code",
   "execution_count": null,
   "metadata": {
    "collapsed": false
   },
   "outputs": [],
   "source": [
    "reference_coverage, fig, ax = create_plots(ncgr_v_dib, dib_v_ncgr, 'reference_coverage', 'Reference coverage'\n",
    "                                           , ymax = 0.6, ypos = 0.55)"
   ]
  },
  {
   "cell_type": "code",
   "execution_count": null,
   "metadata": {
    "collapsed": false
   },
   "outputs": [],
   "source": [
    "linguistic_complexity, fig, ax = create_plots(ncgr_v_dib, dib_v_ncgr, 'linguistic_complexity', 'Linguistic complexity', ymax=0.35, ypos=0.025)"
   ]
  },
  {
   "cell_type": "code",
   "execution_count": null,
   "metadata": {
    "collapsed": false
   },
   "outputs": [],
   "source": [
    "n50, fig, ax = create_plots(ncgr_v_dib, dib_v_ncgr, 'n50', 'n50', ymax=4000)"
   ]
  },
  {
   "cell_type": "code",
   "execution_count": null,
   "metadata": {
    "collapsed": false
   },
   "outputs": [],
   "source": [
    "mean_orf_percent, fig, ax = create_plots(ncgr_v_dib, dib_v_ncgr, 'mean_orf_percent', 'Mean ORF percent',ymax=100, ypos=0.5)"
   ]
  },
  {
   "cell_type": "code",
   "execution_count": null,
   "metadata": {
    "collapsed": false
   },
   "outputs": [],
   "source": [
    "n_seqs, fig, ax = create_plots(ncgr_v_dib, dib_v_ncgr, 'n_seqs', 'Number of contigs',ymax=200000, ypos=0.5)"
   ]
  },
  {
   "cell_type": "code",
   "execution_count": null,
   "metadata": {
    "collapsed": false
   },
   "outputs": [],
   "source": [
    "n_seqs.loc[n_seqs.DIB < 5000]"
   ]
  },
  {
   "cell_type": "markdown",
   "metadata": {
    "collapsed": true
   },
   "source": [
    "# Comparing BUSCO scores"
   ]
  },
  {
   "cell_type": "code",
   "execution_count": null,
   "metadata": {
    "collapsed": false
   },
   "outputs": [],
   "source": [
    "busco_scores, fig, ax = create_plots(ncgr_busco,dib_busco,'Complete_BUSCO_perc', 'BUSCO percentages',ymax=1.0, ypos=0.8)"
   ]
  },
  {
   "cell_type": "code",
   "execution_count": null,
   "metadata": {
    "collapsed": false
   },
   "outputs": [],
   "source": [
    "busco_scores.loc[busco_scores.DIB < 0.1]"
   ]
  },
  {
   "cell_type": "markdown",
   "metadata": {},
   "source": [
    "# Comparing Transrate scores"
   ]
  },
  {
   "cell_type": "code",
   "execution_count": null,
   "metadata": {
    "collapsed": false
   },
   "outputs": [],
   "source": [
    "score,fig, ax = create_plots(ncgr_transrate,dib_transrate, 'score', 'Transrate scores',ymax=.6, ypos=0.55)"
   ]
  },
  {
   "cell_type": "code",
   "execution_count": null,
   "metadata": {
    "collapsed": false
   },
   "outputs": [],
   "source": [
    "score.loc[score.DIB < 0.1]\n"
   ]
  },
  {
   "cell_type": "code",
   "execution_count": null,
   "metadata": {
    "collapsed": true
   },
   "outputs": [],
   "source": []
  }
 ],
 "metadata": {
  "anaconda-cloud": {},
  "kernelspec": {
   "display_name": "Python [py35]",
   "language": "python",
   "name": "Python [py35]"
  },
  "language_info": {
   "codemirror_mode": {
    "name": "ipython",
    "version": 3
   },
   "file_extension": ".py",
   "mimetype": "text/x-python",
   "name": "python",
   "nbconvert_exporter": "python",
   "pygments_lexer": "ipython3",
   "version": "3.5.2"
  }
 },
 "nbformat": 4,
 "nbformat_minor": 0
}
