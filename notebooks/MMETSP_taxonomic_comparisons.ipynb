{
 "cells": [
  {
   "cell_type": "markdown",
   "metadata": {},
   "source": [
    "# Figure 8"
   ]
  },
  {
   "cell_type": "code",
   "execution_count": 1,
   "metadata": {},
   "outputs": [
    {
     "name": "stderr",
     "output_type": "stream",
     "text": [
      "Warning message:\n",
      "“unable to access index for repository https://cran.r-project.org/src/contrib:\n",
      "  object 'wget' not found”Warning message:\n",
      "“packages ‘repr’, ‘pbdZMQ’, ‘devtools’ are not available (for R version 3.4.2)”"
     ]
    }
   ],
   "source": [
    "install.packages(c('repr', 'pbdZMQ', 'devtools'),method=wget)"
   ]
  },
  {
   "cell_type": "code",
   "execution_count": 10,
   "metadata": {},
   "outputs": [
    {
     "name": "stderr",
     "output_type": "stream",
     "text": [
      "also installing the dependencies ‘scatterplot3d’, ‘som’, ‘mlbench’, ‘e1071’\n",
      "\n",
      "Warning message in install.packages(\"klaR\", dependencies = TRUE):\n",
      "“installation of package ‘som’ had non-zero exit status”Warning message in install.packages(\"klaR\", dependencies = TRUE):\n",
      "“installation of package ‘mlbench’ had non-zero exit status”Warning message in install.packages(\"klaR\", dependencies = TRUE):\n",
      "“installation of package ‘e1071’ had non-zero exit status”Updating HTML index of packages in '.Library'\n",
      "Making 'packages.html' ... done\n",
      "also installing the dependencies ‘gtools’, ‘udunits2’, ‘gdata’, ‘units’, ‘dotCall64’, ‘irlba’, ‘e1071’, ‘sp’, ‘deldir’, ‘gmodels’, ‘expm’, ‘sf’, ‘spam’, ‘RANN’, ‘rgeos’, ‘maptools’, ‘igraph’, ‘rgdal’, ‘classInt’\n",
      "\n",
      "Warning message in install.packages(\"spdep\", dependencies = TRUE):\n",
      "“installation of package ‘gtools’ had non-zero exit status”Warning message in install.packages(\"spdep\", dependencies = TRUE):\n",
      "“installation of package ‘udunits2’ had non-zero exit status”Warning message in install.packages(\"spdep\", dependencies = TRUE):\n",
      "“installation of package ‘dotCall64’ had non-zero exit status”Warning message in install.packages(\"spdep\", dependencies = TRUE):\n",
      "“installation of package ‘irlba’ had non-zero exit status”Warning message in install.packages(\"spdep\", dependencies = TRUE):\n",
      "“installation of package ‘e1071’ had non-zero exit status”Warning message in install.packages(\"spdep\", dependencies = TRUE):\n",
      "“installation of package ‘sp’ had non-zero exit status”Warning message in install.packages(\"spdep\", dependencies = TRUE):\n",
      "“installation of package ‘deldir’ had non-zero exit status”Warning message in install.packages(\"spdep\", dependencies = TRUE):\n",
      "“installation of package ‘expm’ had non-zero exit status”Warning message in install.packages(\"spdep\", dependencies = TRUE):\n",
      "“installation of package ‘RANN’ had non-zero exit status”Warning message in install.packages(\"spdep\", dependencies = TRUE):\n",
      "“installation of package ‘gdata’ had non-zero exit status”Warning message in install.packages(\"spdep\", dependencies = TRUE):\n",
      "“installation of package ‘units’ had non-zero exit status”Warning message in install.packages(\"spdep\", dependencies = TRUE):\n",
      "“installation of package ‘spam’ had non-zero exit status”Warning message in install.packages(\"spdep\", dependencies = TRUE):\n",
      "“installation of package ‘rgeos’ had non-zero exit status”Warning message in install.packages(\"spdep\", dependencies = TRUE):\n",
      "“installation of package ‘maptools’ had non-zero exit status”Warning message in install.packages(\"spdep\", dependencies = TRUE):\n",
      "“installation of package ‘igraph’ had non-zero exit status”Warning message in install.packages(\"spdep\", dependencies = TRUE):\n",
      "“installation of package ‘rgdal’ had non-zero exit status”Warning message in install.packages(\"spdep\", dependencies = TRUE):\n",
      "“installation of package ‘classInt’ had non-zero exit status”Warning message in install.packages(\"spdep\", dependencies = TRUE):\n",
      "“installation of package ‘gmodels’ had non-zero exit status”Warning message in install.packages(\"spdep\", dependencies = TRUE):\n",
      "“installation of package ‘sf’ had non-zero exit status”Warning message in install.packages(\"spdep\", dependencies = TRUE):\n",
      "“installation of package ‘spdep’ had non-zero exit status”Updating HTML index of packages in '.Library'\n",
      "Making 'packages.html' ... done\n",
      "Warning message in install.packages(\"AlgDesign\", dependencies = TRUE):\n",
      "“installation of package ‘AlgDesign’ had non-zero exit status”Updating HTML index of packages in '.Library'\n",
      "Making 'packages.html' ... done\n",
      "also installing the dependencies ‘gtools’, ‘gdata’, ‘sp’, ‘deldir’, ‘gmodels’, ‘expm’, ‘spdep’, ‘AlgDesign’\n",
      "\n",
      "Warning message in install.packages(\"agricolae\", dependencies = TRUE):\n",
      "“installation of package ‘gtools’ had non-zero exit status”Warning message in install.packages(\"agricolae\", dependencies = TRUE):\n",
      "“installation of package ‘sp’ had non-zero exit status”Warning message in install.packages(\"agricolae\", dependencies = TRUE):\n",
      "“installation of package ‘deldir’ had non-zero exit status”Warning message in install.packages(\"agricolae\", dependencies = TRUE):\n",
      "“installation of package ‘expm’ had non-zero exit status”Warning message in install.packages(\"agricolae\", dependencies = TRUE):\n",
      "“installation of package ‘AlgDesign’ had non-zero exit status”Warning message in install.packages(\"agricolae\", dependencies = TRUE):\n",
      "“installation of package ‘gdata’ had non-zero exit status”Warning message in install.packages(\"agricolae\", dependencies = TRUE):\n",
      "“installation of package ‘gmodels’ had non-zero exit status”Warning message in install.packages(\"agricolae\", dependencies = TRUE):\n",
      "“installation of package ‘spdep’ had non-zero exit status”Warning message in install.packages(\"agricolae\", dependencies = TRUE):\n",
      "“installation of package ‘agricolae’ had non-zero exit status”Updating HTML index of packages in '.Library'\n",
      "Making 'packages.html' ... done\n",
      "also installing the dependencies ‘SparseM’, ‘MatrixModels’, ‘minqa’, ‘nloptr’, ‘RcppEigen’, ‘modeltools’, ‘pbkrtest’, ‘quantreg’, ‘bdsmatrix’, ‘mratios’, ‘mvtnorm’, ‘lme4’, ‘coin’, ‘car’, ‘lmtest’, ‘coxme’, ‘SimComp’, ‘ISwR’\n",
      "\n",
      "Warning message in install.packages(\"multcomp\", dependencies = TRUE):\n",
      "“installation of package ‘SparseM’ had non-zero exit status”Warning message in install.packages(\"multcomp\", dependencies = TRUE):\n",
      "“installation of package ‘minqa’ had non-zero exit status”Warning message in install.packages(\"multcomp\", dependencies = TRUE):\n",
      "“installation of package ‘nloptr’ had non-zero exit status”Warning message in install.packages(\"multcomp\", dependencies = TRUE):\n",
      "“installation of package ‘RcppEigen’ had non-zero exit status”Warning message in install.packages(\"multcomp\", dependencies = TRUE):\n",
      "“installation of package ‘bdsmatrix’ had non-zero exit status”Warning message in install.packages(\"multcomp\", dependencies = TRUE):\n",
      "“installation of package ‘mvtnorm’ had non-zero exit status”Warning message in install.packages(\"multcomp\", dependencies = TRUE):\n",
      "“installation of package ‘lmtest’ had non-zero exit status”Warning message in install.packages(\"multcomp\", dependencies = TRUE):\n",
      "“installation of package ‘quantreg’ had non-zero exit status”Warning message in install.packages(\"multcomp\", dependencies = TRUE):\n",
      "“installation of package ‘mratios’ had non-zero exit status”Warning message in install.packages(\"multcomp\", dependencies = TRUE):\n",
      "“installation of package ‘lme4’ had non-zero exit status”Warning message in install.packages(\"multcomp\", dependencies = TRUE):\n",
      "“installation of package ‘coxme’ had non-zero exit status”Warning message in install.packages(\"multcomp\", dependencies = TRUE):\n",
      "“installation of package ‘multcomp’ had non-zero exit status”Warning message in install.packages(\"multcomp\", dependencies = TRUE):\n",
      "“installation of package ‘pbkrtest’ had non-zero exit status”Warning message in install.packages(\"multcomp\", dependencies = TRUE):\n",
      "“installation of package ‘coin’ had non-zero exit status”Warning message in install.packages(\"multcomp\", dependencies = TRUE):\n",
      "“installation of package ‘SimComp’ had non-zero exit status”Warning message in install.packages(\"multcomp\", dependencies = TRUE):\n",
      "“installation of package ‘car’ had non-zero exit status”Updating HTML index of packages in '.Library'\n",
      "Making 'packages.html' ... done\n"
     ]
    }
   ],
   "source": [
    "install.packages(\"klaR\",dependencies=TRUE)\n",
    "install.packages(\"spdep\",dependencies=TRUE)\n",
    "install.packages(\"AlgDesign\",dependencies=TRUE)\n",
    "install.packages(\"agricolae\",dependencies=TRUE)\n",
    "install.packages(\"multcomp\",dependencies=TRUE)\n",
    "install.packages(\"repr\")"
   ]
  },
  {
   "cell_type": "code",
   "execution_count": 8,
   "metadata": {},
   "outputs": [
    {
     "ename": "ERROR",
     "evalue": "Error in library(agricolae): there is no package called ‘agricolae’\n",
     "output_type": "error",
     "traceback": [
      "Error in library(agricolae): there is no package called ‘agricolae’\nTraceback:\n",
      "1. library(agricolae)",
      "2. stop(txt, domain = NA)"
     ]
    }
   ],
   "source": [
    "library(agricolae)\n",
    "library(multcomp)\n",
    "library(repr)"
   ]
  },
  {
   "cell_type": "markdown",
   "metadata": {},
   "source": [
    "The following are MMETSP samples with multiple sequencing runs, each with separate re-assemblies (see [explanation](https://github.com/ljcohen/MMETSP/blob/master/notebooks/MMETSP_imicrobe_NCBI-SRA_sample_id_verification.ipynb)). These are excluded from all quality analyses: "
   ]
  },
  {
   "cell_type": "code",
   "execution_count": null,
   "metadata": {
    "collapsed": true
   },
   "outputs": [],
   "source": [
    "special_flowers = c(\"MMETSP0693\",\"MMETSP1019\",\"MMETSP0923\",\"MMETSP0008\",\"MMETSP1002\",\"MMETSP1325\",\"MMETSP1018\",\n",
    "                    \"MMETSP1346\",\"MMETSP0088\",\"MMETSP0092\",\"MMETSP0717\",\"MMETSP0223\",\"MMETSP0115\",\"MMETSP0196\",\n",
    "                    \"MMETSP0197\",\"MMETSP0398\",\"MMETSP0399\",\"MMETSP0922\")"
   ]
  },
  {
   "cell_type": "code",
   "execution_count": null,
   "metadata": {
    "collapsed": true
   },
   "outputs": [],
   "source": [
    "# Multiple comparisons: Tukey\n",
    "library(agricolae)\n",
    "tax_raw <- read.csv(\"~/Documents/UCDavis/dib/MMETSP/git/MMETSP/assembly_evaluation_data/MMETSP_all_evaluation_matrix.csv\")\n",
    "#head(tax_raw)"
   ]
  },
  {
   "cell_type": "code",
   "execution_count": null,
   "metadata": {
    "collapsed": true
   },
   "outputs": [],
   "source": [
    "tax_raw <- tax_raw[!tax_raw$SampleName %in% special_flowers,]\n",
    "phylum_data <-tax_raw[,c(2,34,64,61,49,114,41,45,54)]\n",
    "phylum <- phylum_data$Phylum\n",
    "# Restrict data to top 7 most common Phyla\n",
    "sub_phy<-c(\"Bacillariophyta\",\"Dinophyta\",\"Ochrophyta\",\"Haptophyta\",\"Ciliophora\",\"Chlorophyta\",\"Cryptophyta\")\n",
    "sub<-phylum_data[phylum_data$Phylum %in% sub_phy,]"
   ]
  },
  {
   "cell_type": "code",
   "execution_count": null,
   "metadata": {
    "collapsed": true
   },
   "outputs": [],
   "source": [
    "# Multiple comparisons: Tukey\n",
    "fit <- aov(Unique_kmers ~ Phylum,data=sub)\n",
    "a<-HSD.test(fit,\"Phylum\",group=TRUE)\n",
    "tuk<-glht(fit,linfct=mcp(Phylum=\"Tukey\"))\n",
    "summary(tuk)"
   ]
  },
  {
   "cell_type": "code",
   "execution_count": null,
   "metadata": {
    "collapsed": true
   },
   "outputs": [],
   "source": [
    "tuk.cld<-cld(tuk)\n",
    "opar<-par(mai=c(1,1,1.5,1))\n",
    "options(repr.plot.width=12, repr.plot.height=10)\n",
    "pdf(\"../paper/Figure8_tukey_taxa_unique_kmers.pdf\")\n",
    "plot(tuk.cld,col=rainbow(length(unique(sub$Phylum))))\n",
    "dev.off()\n",
    "plot(tuk.cld,col=rainbow(length(unique(sub$Phylum))))"
   ]
  },
  {
   "cell_type": "code",
   "execution_count": null,
   "metadata": {
    "collapsed": true
   },
   "outputs": [],
   "source": [
    "fit2 <- aov(mean_orf_percent.x ~ Phylum,data=sub)\n",
    "b<-TukeyHSD(fit2,\"Phylum\",conf.level=0.95)\n",
    "tuk<-glht(fit2,linfct=mcp(Phylum=\"Tukey\"))\n",
    "summary(tuk)"
   ]
  },
  {
   "cell_type": "code",
   "execution_count": null,
   "metadata": {
    "collapsed": true
   },
   "outputs": [],
   "source": [
    "tuk.cld<-cld(tuk)\n",
    "opar<-par(mai=c(1,1,1.5,1))\n",
    "options(repr.plot.width=12, repr.plot.height=10)\n",
    "pdf(\"../paper/Figure8_tukey_taxa_mean_orf.pdf\")\n",
    "plot(tuk.cld,col=rainbow(length(unique(sub$Phylum))))\n",
    "dev.off()\n",
    "plot(tuk.cld,col=rainbow(length(unique(sub$Phylum))))"
   ]
  }
 ],
 "metadata": {
  "anaconda-cloud": {},
  "kernelspec": {
   "display_name": "R",
   "language": "R",
   "name": "ir"
  },
  "language_info": {
   "codemirror_mode": "r",
   "file_extension": ".r",
   "mimetype": "text/x-r-source",
   "name": "R",
   "pygments_lexer": "r",
   "version": "3.4.2"
  }
 },
 "nbformat": 4,
 "nbformat_minor": 2
}
