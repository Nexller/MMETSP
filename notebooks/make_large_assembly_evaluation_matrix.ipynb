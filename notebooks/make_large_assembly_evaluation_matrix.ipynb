{
 "cells": [
  {
   "cell_type": "code",
   "execution_count": 42,
   "metadata": {
    "collapsed": true
   },
   "outputs": [],
   "source": [
    "setwd(\"../assembly_evaluation_data/\")"
   ]
  },
  {
   "cell_type": "code",
   "execution_count": 43,
   "metadata": {
    "collapsed": true
   },
   "outputs": [],
   "source": [
    "transrate_dib<-read.csv(\"transrate_scores_trinity-2.2.0.csv\")\n",
    "transrate_ncgr_cds<-read.csv(\"transrate_scores_imicrobe_cds.csv\")\n",
    "transrate_ncgr_nt<-read.csv(\"transrate_scores_imicrobe_nt.csv\")\n",
    "transrate_reference_forward<-read.csv(\"transrate_reference_trinity2.2.0_v_ncgr.nt.csv\")\n",
    "transrate_reference_reverse<-read.csv(\"transrate_reverse_ncgr.nt_v_trinity2.2.0.csv\")\n",
    "busco_scores_euk_DIB<-read.csv(\"busco_scores_MMETSP_eukaryota_trinity2.2.0.csv\")\n",
    "busco_scores_protist_DIB<-read.csv(\"busco_scores_MMETSP_protist_trinity2.2.0.csv\")\n",
    "busco_scores_euk_NCGR<-read.csv(\"busco_scores_imicrobe_eukaryota.csv\")\n",
    "busco_scores_protist_NCGR<-read.csv(\"busco_scores_imicrobe_protist.csv\")\n",
    "reads<-read.table(\"trimmomatic_reads_table.txt\",sep=\"\\t\",header=TRUE)\n",
    "unique_kmers_dib<-read.csv(\"unique_kmers.txt\",sep=\"\\t\",header=TRUE)\n",
    "unique_kmers_ncgr<-read.table(\"imicrobe_unique_kmers.txt\",sep=\"\\t\",header=TRUE)\n",
    "diginorm_stats<-read.csv(\"fp_rate_diginorm.csv\")\n",
    "MMETSP_ncbi<-read.csv(\"../SraRunInfo_719.csv\")\n",
    "mmetsp_id<-read.csv(\"../imicrobe/MMETSP_Table.csv\")\n",
    "imicrobe<-read.csv(\"../imicrobe/Callum_FINAL_biosample_ids.csv\")"
   ]
  },
  {
   "cell_type": "code",
   "execution_count": 44,
   "metadata": {
    "collapsed": true
   },
   "outputs": [],
   "source": [
    "# get updated re-do assembly metrics from March 2018\n",
    "transrate_March2018<-read.csv(\"transrate_scores_redoMarch2018.csv\")\n",
    "transrate_reference_forward_March2018<-read.csv(\"transrate_reverse_ncgr.nt_v_dibredoMarch2018.csv\")\n",
    "transrate_reference_reverse_March2018<-read.csv(\"transrate_reference_dibredoMarch2018_v_ncgr.nt.csv\")\n",
    "busco_euk_March2018<-read.csv(\"busco_scores_redoMarch2018_euk.csv\")\n",
    "busco_protista_March2018<-read.csv(\"busco_scores_redoMarch2018_protista.csv\")\n",
    "colnames(busco_euk_March2018)<-c(\"SampleName\",\"DIB.Complete_eukaryotic\",\"DIB.Fragmented_eukaryotic\",\"DIB.Missing_eukaryotic\",\"DIB.Total_eukaryotic\",\"DIB.Complete_eukaryotic_BUSCO_prop\")\n",
    "busco_euk_March2018$DIB.Complete_eukaryotic_BUSCO_perc<-busco_euk_March2018$DIB.Complete_eukaryotic_BUSCO_prop * 100\n",
    "colnames(busco_protista_March2018)<-c(\"SampleName\",\"DIB.Complete_protist\",\"DIB.Fragmented_protist\",\"DIB.Missing_protist\",\"DIB.Total_protist\",\"DIB.Complete_protist_BUSCO_prop\")"
   ]
  },
  {
   "cell_type": "code",
   "execution_count": 45,
   "metadata": {
    "collapsed": true
   },
   "outputs": [],
   "source": [
    "busco_scores_euk_NCGR$NCGR.Complete_eukaryotic_BUSCO_perc <- busco_scores_euk_NCGR$Complete_BUSCO_perc * 100"
   ]
  },
  {
   "cell_type": "code",
   "execution_count": 46,
   "metadata": {
    "collapsed": true
   },
   "outputs": [],
   "source": [
    "colnames(busco_scores_euk_DIB)<-c(\"SampleName\",\"DIB.Complete_eukaryotic\",\"DIB.Fragmented_eukaryotic\",\"DIB.Missing_eukaryotic\",\"DIB.Total_eukaryotic\",\"DIB.Complete_eukaryotic_BUSCO_prop\",\"DIB.Complete_eukaryotic_BUSCO_perc\")\n",
    "colnames(busco_scores_protist_DIB)<-c(\"SampleName\",\"DIB.Complete_protist\",\"DIB.Fragmented_protist\",\"DIB.Missing_protist\",\"DIB.Total_protist\",\"DIB.Complete_protist_BUSCO_prop\")\n",
    "colnames(busco_scores_euk_NCGR)<-c(\"SampleName\",\"NCGR.Complete_eukaryotic\",\"NCGR.Fragmented_eukaryotic\",\"NCGR.Missing_eukaryotic\",\"NCGR.Total_eukaryotic\",\"NCGR.Complete_eukaryotic_BUSCO_prop\",\"NCGR.Complete_eukaryotic_BUSCO_perc\")\n",
    "colnames(busco_scores_protist_NCGR)<-c(\"SampleName\",\"NCGR.Complete_protist\",\"NCGR.Fragmented_protist\",\"NCGR.Missing_protist\",\"NCGR.Total_protist\",\"NCGR.Complete_protist_BUSCO_prop\")\n",
    "colnames(unique_kmers_dib)<-c(\"SampleName\",\"dib_assembly_unique_kmers\")\n",
    "colnames(unique_kmers_ncgr)<-c(\"SampleName\",\"ncgr_assembly_unique_kmers\")\n",
    "colnames(diginorm_stats)<-c(\"SampleName\",\"num_reads_kept_diginorm\",\"total_reads_before_diginorm\",\"perc_kept_diginorm\",\"num_kmers_reads_diginorm\",\"fp_rate_diginorm\")"
   ]
  },
  {
   "cell_type": "code",
   "execution_count": 47,
   "metadata": {},
   "outputs": [
    {
     "data": {
      "text/html": [
       "<table>\n",
       "<thead><tr><th></th><th scope=col>SampleName</th><th scope=col>NCGR.Complete_eukaryotic</th><th scope=col>NCGR.Fragmented_eukaryotic</th><th scope=col>NCGR.Missing_eukaryotic</th><th scope=col>NCGR.Total_eukaryotic</th><th scope=col>NCGR.Complete_eukaryotic_BUSCO_prop</th><th scope=col>NCGR.Complete_eukaryotic_BUSCO_perc</th></tr></thead>\n",
       "<tbody>\n",
       "\t<tr><th scope=row>614</th><td>MMETSP0046</td><td>241       </td><td>20        </td><td> 42       </td><td>303       </td><td>0.7953795 </td><td>79.53795  </td></tr>\n",
       "\t<tr><th scope=row>151</th><td>MMETSP0326</td><td> 93       </td><td>56        </td><td>154       </td><td>303       </td><td>0.3069307 </td><td>30.69307  </td></tr>\n",
       "\t<tr><th scope=row>546</th><td>MMETSP0908</td><td>239       </td><td>22        </td><td> 42       </td><td>303       </td><td>0.7887789 </td><td>78.87789  </td></tr>\n",
       "\t<tr><th scope=row>438</th><td>MMETSP1102</td><td>216       </td><td>32        </td><td> 55       </td><td>303       </td><td>0.7128713 </td><td>71.28713  </td></tr>\n",
       "\t<tr><th scope=row>130</th><td>MMETSP0411</td><td>118       </td><td>66        </td><td>119       </td><td>303       </td><td>0.3894389 </td><td>38.94389  </td></tr>\n",
       "\t<tr><th scope=row>369</th><td>MMETSP1048</td><td>183       </td><td>22        </td><td> 98       </td><td>303       </td><td>0.6039604 </td><td>60.39604  </td></tr>\n",
       "</tbody>\n",
       "</table>\n"
      ],
      "text/latex": [
       "\\begin{tabular}{r|lllllll}\n",
       "  & SampleName & NCGR.Complete\\_eukaryotic & NCGR.Fragmented\\_eukaryotic & NCGR.Missing\\_eukaryotic & NCGR.Total\\_eukaryotic & NCGR.Complete\\_eukaryotic\\_BUSCO\\_prop & NCGR.Complete\\_eukaryotic\\_BUSCO\\_perc\\\\\n",
       "\\hline\n",
       "\t614 & MMETSP0046 & 241        & 20         &  42        & 303        & 0.7953795  & 79.53795  \\\\\n",
       "\t151 & MMETSP0326 &  93        & 56         & 154        & 303        & 0.3069307  & 30.69307  \\\\\n",
       "\t546 & MMETSP0908 & 239        & 22         &  42        & 303        & 0.7887789  & 78.87789  \\\\\n",
       "\t438 & MMETSP1102 & 216        & 32         &  55        & 303        & 0.7128713  & 71.28713  \\\\\n",
       "\t130 & MMETSP0411 & 118        & 66         & 119        & 303        & 0.3894389  & 38.94389  \\\\\n",
       "\t369 & MMETSP1048 & 183        & 22         &  98        & 303        & 0.6039604  & 60.39604  \\\\\n",
       "\\end{tabular}\n"
      ],
      "text/markdown": [
       "\n",
       "| <!--/--> | SampleName | NCGR.Complete_eukaryotic | NCGR.Fragmented_eukaryotic | NCGR.Missing_eukaryotic | NCGR.Total_eukaryotic | NCGR.Complete_eukaryotic_BUSCO_prop | NCGR.Complete_eukaryotic_BUSCO_perc | \n",
       "|---|---|---|---|---|---|\n",
       "| 614 | MMETSP0046 | 241        | 20         |  42        | 303        | 0.7953795  | 79.53795   | \n",
       "| 151 | MMETSP0326 |  93        | 56         | 154        | 303        | 0.3069307  | 30.69307   | \n",
       "| 546 | MMETSP0908 | 239        | 22         |  42        | 303        | 0.7887789  | 78.87789   | \n",
       "| 438 | MMETSP1102 | 216        | 32         |  55        | 303        | 0.7128713  | 71.28713   | \n",
       "| 130 | MMETSP0411 | 118        | 66         | 119        | 303        | 0.3894389  | 38.94389   | \n",
       "| 369 | MMETSP1048 | 183        | 22         |  98        | 303        | 0.6039604  | 60.39604   | \n",
       "\n",
       "\n"
      ],
      "text/plain": [
       "    SampleName NCGR.Complete_eukaryotic NCGR.Fragmented_eukaryotic\n",
       "614 MMETSP0046 241                      20                        \n",
       "151 MMETSP0326  93                      56                        \n",
       "546 MMETSP0908 239                      22                        \n",
       "438 MMETSP1102 216                      32                        \n",
       "130 MMETSP0411 118                      66                        \n",
       "369 MMETSP1048 183                      22                        \n",
       "    NCGR.Missing_eukaryotic NCGR.Total_eukaryotic\n",
       "614  42                     303                  \n",
       "151 154                     303                  \n",
       "546  42                     303                  \n",
       "438  55                     303                  \n",
       "130 119                     303                  \n",
       "369  98                     303                  \n",
       "    NCGR.Complete_eukaryotic_BUSCO_prop NCGR.Complete_eukaryotic_BUSCO_perc\n",
       "614 0.7953795                           79.53795                           \n",
       "151 0.3069307                           30.69307                           \n",
       "546 0.7887789                           78.87789                           \n",
       "438 0.7128713                           71.28713                           \n",
       "130 0.3894389                           38.94389                           \n",
       "369 0.6039604                           60.39604                           "
      ]
     },
     "metadata": {},
     "output_type": "display_data"
    },
    {
     "data": {
      "text/html": [
       "<ol class=list-inline>\n",
       "\t<li>677</li>\n",
       "\t<li>7</li>\n",
       "</ol>\n"
      ],
      "text/latex": [
       "\\begin{enumerate*}\n",
       "\\item 677\n",
       "\\item 7\n",
       "\\end{enumerate*}\n"
      ],
      "text/markdown": [
       "1. 677\n",
       "2. 7\n",
       "\n",
       "\n"
      ],
      "text/plain": [
       "[1] 677   7"
      ]
     },
     "metadata": {},
     "output_type": "display_data"
    },
    {
     "data": {
      "text/html": [
       "<table>\n",
       "<thead><tr><th></th><th scope=col>SampleName</th><th scope=col>NCGR.Complete_protist</th><th scope=col>NCGR.Fragmented_protist</th><th scope=col>NCGR.Missing_protist</th><th scope=col>NCGR.Total_protist</th><th scope=col>NCGR.Complete_protist_BUSCO_prop</th></tr></thead>\n",
       "<tbody>\n",
       "\t<tr><th scope=row>614</th><td>MMETSP0046</td><td>176       </td><td>20        </td><td> 38       </td><td>234       </td><td>0.7521368 </td></tr>\n",
       "\t<tr><th scope=row>151</th><td>MMETSP0326</td><td> 78       </td><td>25        </td><td>131       </td><td>234       </td><td>0.3333333 </td></tr>\n",
       "\t<tr><th scope=row>546</th><td>MMETSP0908</td><td>195       </td><td>17        </td><td> 22       </td><td>234       </td><td>0.8333333 </td></tr>\n",
       "\t<tr><th scope=row>438</th><td>MMETSP1102</td><td>169       </td><td>33        </td><td> 32       </td><td>234       </td><td>0.7222222 </td></tr>\n",
       "\t<tr><th scope=row>130</th><td>MMETSP0411</td><td> 94       </td><td>40        </td><td>100       </td><td>234       </td><td>0.4017094 </td></tr>\n",
       "\t<tr><th scope=row>369</th><td>MMETSP1048</td><td>130       </td><td>18        </td><td> 86       </td><td>234       </td><td>0.5555556 </td></tr>\n",
       "</tbody>\n",
       "</table>\n"
      ],
      "text/latex": [
       "\\begin{tabular}{r|llllll}\n",
       "  & SampleName & NCGR.Complete\\_protist & NCGR.Fragmented\\_protist & NCGR.Missing\\_protist & NCGR.Total\\_protist & NCGR.Complete\\_protist\\_BUSCO\\_prop\\\\\n",
       "\\hline\n",
       "\t614 & MMETSP0046 & 176        & 20         &  38        & 234        & 0.7521368 \\\\\n",
       "\t151 & MMETSP0326 &  78        & 25         & 131        & 234        & 0.3333333 \\\\\n",
       "\t546 & MMETSP0908 & 195        & 17         &  22        & 234        & 0.8333333 \\\\\n",
       "\t438 & MMETSP1102 & 169        & 33         &  32        & 234        & 0.7222222 \\\\\n",
       "\t130 & MMETSP0411 &  94        & 40         & 100        & 234        & 0.4017094 \\\\\n",
       "\t369 & MMETSP1048 & 130        & 18         &  86        & 234        & 0.5555556 \\\\\n",
       "\\end{tabular}\n"
      ],
      "text/markdown": [
       "\n",
       "| <!--/--> | SampleName | NCGR.Complete_protist | NCGR.Fragmented_protist | NCGR.Missing_protist | NCGR.Total_protist | NCGR.Complete_protist_BUSCO_prop | \n",
       "|---|---|---|---|---|---|\n",
       "| 614 | MMETSP0046 | 176        | 20         |  38        | 234        | 0.7521368  | \n",
       "| 151 | MMETSP0326 |  78        | 25         | 131        | 234        | 0.3333333  | \n",
       "| 546 | MMETSP0908 | 195        | 17         |  22        | 234        | 0.8333333  | \n",
       "| 438 | MMETSP1102 | 169        | 33         |  32        | 234        | 0.7222222  | \n",
       "| 130 | MMETSP0411 |  94        | 40         | 100        | 234        | 0.4017094  | \n",
       "| 369 | MMETSP1048 | 130        | 18         |  86        | 234        | 0.5555556  | \n",
       "\n",
       "\n"
      ],
      "text/plain": [
       "    SampleName NCGR.Complete_protist NCGR.Fragmented_protist\n",
       "614 MMETSP0046 176                   20                     \n",
       "151 MMETSP0326  78                   25                     \n",
       "546 MMETSP0908 195                   17                     \n",
       "438 MMETSP1102 169                   33                     \n",
       "130 MMETSP0411  94                   40                     \n",
       "369 MMETSP1048 130                   18                     \n",
       "    NCGR.Missing_protist NCGR.Total_protist NCGR.Complete_protist_BUSCO_prop\n",
       "614  38                  234                0.7521368                       \n",
       "151 131                  234                0.3333333                       \n",
       "546  22                  234                0.8333333                       \n",
       "438  32                  234                0.7222222                       \n",
       "130 100                  234                0.4017094                       \n",
       "369  86                  234                0.5555556                       "
      ]
     },
     "metadata": {},
     "output_type": "display_data"
    },
    {
     "data": {
      "text/html": [
       "<ol class=list-inline>\n",
       "\t<li>677</li>\n",
       "\t<li>6</li>\n",
       "</ol>\n"
      ],
      "text/latex": [
       "\\begin{enumerate*}\n",
       "\\item 677\n",
       "\\item 6\n",
       "\\end{enumerate*}\n"
      ],
      "text/markdown": [
       "1. 677\n",
       "2. 6\n",
       "\n",
       "\n"
      ],
      "text/plain": [
       "[1] 677   6"
      ]
     },
     "metadata": {},
     "output_type": "display_data"
    }
   ],
   "source": [
    "busco_scores_euk_NCGR <- busco_scores_euk_NCGR[unique(busco_scores_euk_NCGR$SampleName),]\n",
    "busco_scores_protist_NCGR <- busco_scores_protist_NCGR[unique(busco_scores_protist_NCGR$SampleName),]\n",
    "head(busco_scores_euk_NCGR)\n",
    "dim(busco_scores_euk_NCGR)\n",
    "head(busco_scores_protist_NCGR)\n",
    "dim(busco_scores_protist_NCGR)"
   ]
  },
  {
   "cell_type": "code",
   "execution_count": 48,
   "metadata": {},
   "outputs": [
    {
     "data": {
      "text/html": [
       "34"
      ],
      "text/latex": [
       "34"
      ],
      "text/markdown": [
       "34"
      ],
      "text/plain": [
       "[1] 34"
      ]
     },
     "metadata": {},
     "output_type": "display_data"
    },
    {
     "data": {
      "text/html": [
       "<ol class=list-inline>\n",
       "\t<li>653</li>\n",
       "\t<li>44</li>\n",
       "</ol>\n"
      ],
      "text/latex": [
       "\\begin{enumerate*}\n",
       "\\item 653\n",
       "\\item 44\n",
       "\\end{enumerate*}\n"
      ],
      "text/markdown": [
       "1. 653\n",
       "2. 44\n",
       "\n",
       "\n"
      ],
      "text/plain": [
       "[1] 653  44"
      ]
     },
     "metadata": {},
     "output_type": "display_data"
    },
    {
     "data": {
      "text/html": [
       "<ol class=list-inline>\n",
       "\t<li>619</li>\n",
       "\t<li>44</li>\n",
       "</ol>\n"
      ],
      "text/latex": [
       "\\begin{enumerate*}\n",
       "\\item 619\n",
       "\\item 44\n",
       "\\end{enumerate*}\n"
      ],
      "text/markdown": [
       "1. 619\n",
       "2. 44\n",
       "\n",
       "\n"
      ],
      "text/plain": [
       "[1] 619  44"
      ]
     },
     "metadata": {},
     "output_type": "display_data"
    },
    {
     "data": {
      "text/html": [
       "<ol class=list-inline>\n",
       "\t<li>651</li>\n",
       "\t<li>45</li>\n",
       "</ol>\n"
      ],
      "text/latex": [
       "\\begin{enumerate*}\n",
       "\\item 651\n",
       "\\item 45\n",
       "\\end{enumerate*}\n"
      ],
      "text/markdown": [
       "1. 651\n",
       "2. 45\n",
       "\n",
       "\n"
      ],
      "text/plain": [
       "[1] 651  45"
      ]
     },
     "metadata": {},
     "output_type": "display_data"
    },
    {
     "data": {
      "text/html": [
       "<ol class=list-inline>\n",
       "\t<li>617</li>\n",
       "\t<li>45</li>\n",
       "</ol>\n"
      ],
      "text/latex": [
       "\\begin{enumerate*}\n",
       "\\item 617\n",
       "\\item 45\n",
       "\\end{enumerate*}\n"
      ],
      "text/markdown": [
       "1. 617\n",
       "2. 45\n",
       "\n",
       "\n"
      ],
      "text/plain": [
       "[1] 617  45"
      ]
     },
     "metadata": {},
     "output_type": "display_data"
    },
    {
     "data": {
      "text/html": [
       "<ol class=list-inline>\n",
       "\t<li>651</li>\n",
       "\t<li>45</li>\n",
       "</ol>\n"
      ],
      "text/latex": [
       "\\begin{enumerate*}\n",
       "\\item 651\n",
       "\\item 45\n",
       "\\end{enumerate*}\n"
      ],
      "text/markdown": [
       "1. 651\n",
       "2. 45\n",
       "\n",
       "\n"
      ],
      "text/plain": [
       "[1] 651  45"
      ]
     },
     "metadata": {},
     "output_type": "display_data"
    },
    {
     "data": {
      "text/html": [
       "<ol class=list-inline>\n",
       "\t<li>617</li>\n",
       "\t<li>45</li>\n",
       "</ol>\n"
      ],
      "text/latex": [
       "\\begin{enumerate*}\n",
       "\\item 617\n",
       "\\item 45\n",
       "\\end{enumerate*}\n"
      ],
      "text/markdown": [
       "1. 617\n",
       "2. 45\n",
       "\n",
       "\n"
      ],
      "text/plain": [
       "[1] 617  45"
      ]
     },
     "metadata": {},
     "output_type": "display_data"
    },
    {
     "data": {
      "text/html": [
       "<ol class=list-inline>\n",
       "\t<li>675</li>\n",
       "\t<li>7</li>\n",
       "</ol>\n"
      ],
      "text/latex": [
       "\\begin{enumerate*}\n",
       "\\item 675\n",
       "\\item 7\n",
       "\\end{enumerate*}\n"
      ],
      "text/markdown": [
       "1. 675\n",
       "2. 7\n",
       "\n",
       "\n"
      ],
      "text/plain": [
       "[1] 675   7"
      ]
     },
     "metadata": {},
     "output_type": "display_data"
    },
    {
     "data": {
      "text/html": [
       "<ol class=list-inline>\n",
       "\t<li>641</li>\n",
       "\t<li>7</li>\n",
       "</ol>\n"
      ],
      "text/latex": [
       "\\begin{enumerate*}\n",
       "\\item 641\n",
       "\\item 7\n",
       "\\end{enumerate*}\n"
      ],
      "text/markdown": [
       "1. 641\n",
       "2. 7\n",
       "\n",
       "\n"
      ],
      "text/plain": [
       "[1] 641   7"
      ]
     },
     "metadata": {},
     "output_type": "display_data"
    },
    {
     "data": {
      "text/html": [
       "<ol class=list-inline>\n",
       "\t<li>675</li>\n",
       "\t<li>6</li>\n",
       "</ol>\n"
      ],
      "text/latex": [
       "\\begin{enumerate*}\n",
       "\\item 675\n",
       "\\item 6\n",
       "\\end{enumerate*}\n"
      ],
      "text/markdown": [
       "1. 675\n",
       "2. 6\n",
       "\n",
       "\n"
      ],
      "text/plain": [
       "[1] 675   6"
      ]
     },
     "metadata": {},
     "output_type": "display_data"
    },
    {
     "data": {
      "text/html": [
       "<ol class=list-inline>\n",
       "\t<li>641</li>\n",
       "\t<li>6</li>\n",
       "</ol>\n"
      ],
      "text/latex": [
       "\\begin{enumerate*}\n",
       "\\item 641\n",
       "\\item 6\n",
       "\\end{enumerate*}\n"
      ],
      "text/markdown": [
       "1. 641\n",
       "2. 6\n",
       "\n",
       "\n"
      ],
      "text/plain": [
       "[1] 641   6"
      ]
     },
     "metadata": {},
     "output_type": "display_data"
    }
   ],
   "source": [
    "redo_list <- c(\"MMETSP0044\", \"MMETSP0169\", \"MMETSP0200\", \"MMETSP0295\", \"MMETSP0319\", \"MMETSP0698\", \n",
    "               \"MMETSP0751\", \"MMETSP0753\", \"MMETSP0754\", \"MMETSP0789\", \"MMETSP0850\", \"MMETSP0880\", \"MMETSP0886\", \n",
    "               \"MMETSP0912\",\"MMETSP0920\", \"MMETSP0933\", \"MMETSP0937\", \"MMETSP0972\", \"MMETSP1010\", \"MMETSP1039\", \n",
    "               \"MMETSP1057\", \"MMETSP1080\", \n",
    "               \"MMETSP1082\", \"MMETSP1126\",\"MMETSP1130\", \"MMETSP1137\", \"MMETSP1165\", \"MMETSP1177\", \"MMETSP1329\", \"MMETSP1390\", \n",
    "               \"MMETSP1394\", \"MMETSP1409\", \"MMETSP1412\",\"MMETSP1418\")\n",
    "length(redo_list)\n",
    "\n",
    "# subset old list with MMETSP ID not in redo_list\n",
    "\n",
    "# transrate scores for DIB\n",
    "dim(transrate_dib)\n",
    "transrate_dib<-subset(transrate_dib,!(transrate_dib$SampleName %in% redo_list))\n",
    "dim(transrate_dib)\n",
    "\n",
    "# transrate reference forward for DIB v NCGR\n",
    "dim(transrate_reference_forward)\n",
    "transrate_reference_forward<-subset(transrate_reference_forward,!(transrate_reference_forward$SampleName %in% redo_list))\n",
    "dim(transrate_reference_forward)\n",
    "\n",
    "# transrate reference reverse for NCGR v DIB\n",
    "dim(transrate_reference_reverse)\n",
    "transrate_reference_reverse<-subset(transrate_reference_reverse,!(transrate_reference_reverse$SampleName %in% redo_list))\n",
    "dim(transrate_reference_reverse)\n",
    "\n",
    "# BUSCO euk\n",
    "dim(busco_scores_euk_DIB)\n",
    "busco_scores_euk_DIB<-subset(busco_scores_euk_DIB,!(busco_scores_euk_DIB$SampleName %in% redo_list))\n",
    "dim(busco_scores_euk_DIB)\n",
    "\n",
    "# BUSCO protista\n",
    "dim(busco_scores_protist_DIB)\n",
    "busco_scores_protist_DIB<-subset(busco_scores_protist_DIB,!(busco_scores_protist_DIB$SampleName %in% redo_list))\n",
    "dim(busco_scores_protist_DIB)"
   ]
  },
  {
   "cell_type": "code",
   "execution_count": 49,
   "metadata": {
    "collapsed": true
   },
   "outputs": [],
   "source": [
    "dib_busco_v3_euk = read.csv(\"busco_scores_v3_dib_eukaryota.csv\")\n",
    "dib_busco_v3_protist = read.csv(\"busco_scores_v3_dib_protist.csv\")\n",
    "ncgr_busco_v3_euk = read.csv(\"busco_scores_v3_imicrobe_eukaryota.csv\")\n",
    "ncgr_busco_v3_protist = read.csv(\"busco_scores_v3_imicrobe_protist.csv\")"
   ]
  },
  {
   "cell_type": "code",
   "execution_count": 50,
   "metadata": {},
   "outputs": [],
   "source": [
    "colnames(dib_busco_v3_euk) <- c('SampleName','DIB.Complete_euk_v3','DIB.Fragmented_euk_v3','DIB.Missing_euk_v3','DIB.Total_euk_v3','DIB.Complete_BUSCO_prop_euk_v3')\n",
    "colnames(dib_busco_v3_protist) <- c('SampleName','DIB.Complete_protist_v3','DIB.Fragmented_protist_v3','DIB.Missing_protist_v3','DIB.Total_protist_v3','DIB.Complete_BUSCO_prop_protist_v3')\n",
    "colnames(ncgr_busco_v3_euk) = c('SampleName','NCGR.Complete_euk_v3','NCGR.Fragmented_euk_v3','NCGR.Missing_euk_v3','NCGR.Total_euk_v3','NCGR.Complete_BUSCO_prop_euk_v3')\n",
    "colnames(ncgr_busco_v3_protist) <- c('SampleName','NCGR.Complete_protist_v3','NCGR.Fragmented_protist_v3','NCGR.Missing_protist_v3','NCGR.Total_protist_v3','NCGR.Complete_BUSCO_prop_protist_v3')\n",
    "dib_busco_v3_euk$DIB.Complete_BUSCO_perc_euk_v3 <- dib_busco_v3_euk$DIB.Complete_BUSCO_prop_euk_v3 * 100\n",
    "dib_busco_v3_protist$DIB.Complete_BUSCO_perc_protist_v3 <- dib_busco_v3_protist$DIB.Complete_BUSCO_prop_protist_v3 * 100\n",
    "ncgr_busco_v3_euk$NCGR.Complete_BUSCO_perc_euk_v3 <- ncgr_busco_v3_euk$NCGR.Complete_BUSCO_prop_euk_v3 * 100\n",
    "ncgr_busco_v3_protist$NCGR.Complete_BUSCO_perc_protist_v3 <- ncgr_busco_v3_protist$NCGR.Complete_BUSCO_prop_protist_v3 * 100"
   ]
  },
  {
   "cell_type": "code",
   "execution_count": 51,
   "metadata": {},
   "outputs": [
    {
     "data": {
      "text/html": [
       "<ol class=list-inline>\n",
       "\t<li>619</li>\n",
       "\t<li>44</li>\n",
       "</ol>\n"
      ],
      "text/latex": [
       "\\begin{enumerate*}\n",
       "\\item 619\n",
       "\\item 44\n",
       "\\end{enumerate*}\n"
      ],
      "text/markdown": [
       "1. 619\n",
       "2. 44\n",
       "\n",
       "\n"
      ],
      "text/plain": [
       "[1] 619  44"
      ]
     },
     "metadata": {},
     "output_type": "display_data"
    },
    {
     "data": {
      "text/html": [
       "<ol class=list-inline>\n",
       "\t<li>653</li>\n",
       "\t<li>44</li>\n",
       "</ol>\n"
      ],
      "text/latex": [
       "\\begin{enumerate*}\n",
       "\\item 653\n",
       "\\item 44\n",
       "\\end{enumerate*}\n"
      ],
      "text/markdown": [
       "1. 653\n",
       "2. 44\n",
       "\n",
       "\n"
      ],
      "text/plain": [
       "[1] 653  44"
      ]
     },
     "metadata": {},
     "output_type": "display_data"
    },
    {
     "data": {
      "text/html": [
       "<ol class=list-inline>\n",
       "\t<li>617</li>\n",
       "\t<li>45</li>\n",
       "</ol>\n"
      ],
      "text/latex": [
       "\\begin{enumerate*}\n",
       "\\item 617\n",
       "\\item 45\n",
       "\\end{enumerate*}\n"
      ],
      "text/markdown": [
       "1. 617\n",
       "2. 45\n",
       "\n",
       "\n"
      ],
      "text/plain": [
       "[1] 617  45"
      ]
     },
     "metadata": {},
     "output_type": "display_data"
    },
    {
     "data": {
      "text/html": [
       "<ol class=list-inline>\n",
       "\t<li>651</li>\n",
       "\t<li>45</li>\n",
       "</ol>\n"
      ],
      "text/latex": [
       "\\begin{enumerate*}\n",
       "\\item 651\n",
       "\\item 45\n",
       "\\end{enumerate*}\n"
      ],
      "text/markdown": [
       "1. 651\n",
       "2. 45\n",
       "\n",
       "\n"
      ],
      "text/plain": [
       "[1] 651  45"
      ]
     },
     "metadata": {},
     "output_type": "display_data"
    },
    {
     "data": {
      "text/html": [
       "<ol class=list-inline>\n",
       "\t<li>617</li>\n",
       "\t<li>45</li>\n",
       "</ol>\n"
      ],
      "text/latex": [
       "\\begin{enumerate*}\n",
       "\\item 617\n",
       "\\item 45\n",
       "\\end{enumerate*}\n"
      ],
      "text/markdown": [
       "1. 617\n",
       "2. 45\n",
       "\n",
       "\n"
      ],
      "text/plain": [
       "[1] 617  45"
      ]
     },
     "metadata": {},
     "output_type": "display_data"
    },
    {
     "data": {
      "text/html": [
       "<ol class=list-inline>\n",
       "\t<li>651</li>\n",
       "\t<li>45</li>\n",
       "</ol>\n"
      ],
      "text/latex": [
       "\\begin{enumerate*}\n",
       "\\item 651\n",
       "\\item 45\n",
       "\\end{enumerate*}\n"
      ],
      "text/markdown": [
       "1. 651\n",
       "2. 45\n",
       "\n",
       "\n"
      ],
      "text/plain": [
       "[1] 651  45"
      ]
     },
     "metadata": {},
     "output_type": "display_data"
    },
    {
     "data": {
      "text/html": [
       "<ol class=list-inline>\n",
       "\t<li>641</li>\n",
       "\t<li>7</li>\n",
       "</ol>\n"
      ],
      "text/latex": [
       "\\begin{enumerate*}\n",
       "\\item 641\n",
       "\\item 7\n",
       "\\end{enumerate*}\n"
      ],
      "text/markdown": [
       "1. 641\n",
       "2. 7\n",
       "\n",
       "\n"
      ],
      "text/plain": [
       "[1] 641   7"
      ]
     },
     "metadata": {},
     "output_type": "display_data"
    },
    {
     "data": {
      "text/html": [
       "<ol class=list-inline>\n",
       "\t<li>675</li>\n",
       "\t<li>7</li>\n",
       "</ol>\n"
      ],
      "text/latex": [
       "\\begin{enumerate*}\n",
       "\\item 675\n",
       "\\item 7\n",
       "\\end{enumerate*}\n"
      ],
      "text/markdown": [
       "1. 675\n",
       "2. 7\n",
       "\n",
       "\n"
      ],
      "text/plain": [
       "[1] 675   7"
      ]
     },
     "metadata": {},
     "output_type": "display_data"
    },
    {
     "data": {
      "text/html": [
       "<ol class=list-inline>\n",
       "\t<li>641</li>\n",
       "\t<li>6</li>\n",
       "</ol>\n"
      ],
      "text/latex": [
       "\\begin{enumerate*}\n",
       "\\item 641\n",
       "\\item 6\n",
       "\\end{enumerate*}\n"
      ],
      "text/markdown": [
       "1. 641\n",
       "2. 6\n",
       "\n",
       "\n"
      ],
      "text/plain": [
       "[1] 641   6"
      ]
     },
     "metadata": {},
     "output_type": "display_data"
    },
    {
     "data": {
      "text/html": [
       "<ol class=list-inline>\n",
       "\t<li>675</li>\n",
       "\t<li>6</li>\n",
       "</ol>\n"
      ],
      "text/latex": [
       "\\begin{enumerate*}\n",
       "\\item 675\n",
       "\\item 6\n",
       "\\end{enumerate*}\n"
      ],
      "text/markdown": [
       "1. 675\n",
       "2. 6\n",
       "\n",
       "\n"
      ],
      "text/plain": [
       "[1] 675   6"
      ]
     },
     "metadata": {},
     "output_type": "display_data"
    }
   ],
   "source": [
    "# merge redo with old\n",
    "\n",
    "# transrate scores for DIB\n",
    "dim(transrate_dib)\n",
    "transrate_dib<-rbind(transrate_dib,transrate_March2018)\n",
    "dim(transrate_dib)\n",
    "# transrate reference forward for DIB v NCGR\n",
    "dim(transrate_reference_forward)\n",
    "transrate_reference_forward<-rbind(transrate_reference_forward,transrate_reference_forward_March2018)\n",
    "dim(transrate_reference_forward)\n",
    "# transrate reference reverse for NCGR v DIB\n",
    "dim(transrate_reference_reverse)\n",
    "transrate_reference_reverse<-rbind(transrate_reference_reverse,transrate_reference_reverse_March2018)\n",
    "dim(transrate_reference_reverse)\n",
    "# BUSCO euk\n",
    "dim(busco_scores_euk_DIB)\n",
    "busco_scores_euk_DIB<-rbind(busco_scores_euk_DIB,busco_euk_March2018)\n",
    "dim(busco_scores_euk_DIB)\n",
    "# BUSCO protista\n",
    "dim(busco_scores_protist_DIB)\n",
    "busco_scores_protist_DIB<-rbind(busco_scores_protist_DIB,busco_protista_March2018)\n",
    "dim(busco_scores_protist_DIB)"
   ]
  },
  {
   "cell_type": "code",
   "execution_count": 52,
   "metadata": {},
   "outputs": [
    {
     "data": {
      "text/html": [
       "<ol class=list-inline>\n",
       "\t<li>719</li>\n",
       "\t<li>39</li>\n",
       "</ol>\n"
      ],
      "text/latex": [
       "\\begin{enumerate*}\n",
       "\\item 719\n",
       "\\item 39\n",
       "\\end{enumerate*}\n"
      ],
      "text/markdown": [
       "1. 719\n",
       "2. 39\n",
       "\n",
       "\n"
      ],
      "text/plain": [
       "[1] 719  39"
      ]
     },
     "metadata": {},
     "output_type": "display_data"
    },
    {
     "data": {
      "text/html": [
       "<table>\n",
       "<thead><tr><th scope=col>SampleName</th><th scope=col>Run</th><th scope=col>ReleaseDate</th><th scope=col>LoadDate</th><th scope=col>spots</th><th scope=col>bases</th><th scope=col>spots_with_mates</th><th scope=col>avgLength</th><th scope=col>size_MB</th><th scope=col>download_path</th><th scope=col>⋯</th><th scope=col>ReadHash</th><th scope=col>Investigator</th><th scope=col>HighLevelClassification</th><th scope=col>Phylum</th><th scope=col>Class</th><th scope=col>Order</th><th scope=col>Family</th><th scope=col>Genus</th><th scope=col>Species</th><th scope=col>Strain</th></tr></thead>\n",
       "<tbody>\n",
       "\t<tr><td>MMETSP0004                                            </td><td>SRR1296863                                            </td><td>7/22/15                                               </td><td>7/26/15                                               </td><td>24803955                                              </td><td>2480395500                                            </td><td>24803955                                              </td><td>100                                                   </td><td>1604                                                  </td><td>http://sra-download.ncbi.nlm.nih.gov/srapub/SRR1296863</td><td>⋯                                                     </td><td>BE7B899A61C3C5B642CBD90ABA78FDE2                      </td><td>DavidCaron                                            </td><td>Stramenopila(SAR,Chromalveolata)                      </td><td>Ochrophyta                                            </td><td>Synurophyceae                                         </td><td>Ochromonadales                                        </td><td>Ochromonadaceae                                       </td><td>Ochromonas                                            </td><td>sp.                                                   </td><td>CCMP1393                                              </td></tr>\n",
       "\t<tr><td>MMETSP0005                                            </td><td>SRR1296767                                            </td><td>7/22/15                                               </td><td>7/27/15                                               </td><td>28100060                                              </td><td>2810006000                                            </td><td>28100060                                              </td><td>100                                                   </td><td>1794                                                  </td><td>http://sra-download.ncbi.nlm.nih.gov/srapub/SRR1296767</td><td>⋯                                                     </td><td>0450A2DCF3E1C1A7806DC172B25C3820                      </td><td>DavidCaron                                            </td><td>Stramenopila(SAR,Chromalveolata)                      </td><td>Ochrophyta                                            </td><td>Synurophyceae                                         </td><td>Ochromonadales                                        </td><td>Ochromonadaceae                                       </td><td>Ochromonas                                            </td><td>sp.                                                   </td><td>CCMP1393                                              </td></tr>\n",
       "\t<tr><td>MMETSP0006                                            </td><td>SRR1296917                                            </td><td>7/22/15                                               </td><td>7/26/15                                               </td><td>21466210                                              </td><td>2146621000                                            </td><td>21466210                                              </td><td>100                                                   </td><td>1426                                                  </td><td>http://sra-download.ncbi.nlm.nih.gov/srapub/SRR1296917</td><td>⋯                                                     </td><td>BB3E9B7A3AD34ADFCBE578ED857B087C                      </td><td>DavidCaron                                            </td><td>Haptophyta(Hacrobia,Chromalveolata)                   </td><td>Haptophyta                                            </td><td>Prymnesiophyceae                                      </td><td>Prymensiales                                          </td><td>Prymenesiaceae                                        </td><td>Prymnesium                                            </td><td>parvum                                                </td><td>Texoma1                                               </td></tr>\n",
       "\t<tr><td>MMETSP0007                                            </td><td>SRR1296769                                            </td><td>7/22/15                                               </td><td>7/27/15                                               </td><td>20174360                                              </td><td>2017436000                                            </td><td>20174360                                              </td><td>100                                                   </td><td>1319                                                  </td><td>http://sra-download.ncbi.nlm.nih.gov/srapub/SRR1296769</td><td>⋯                                                     </td><td>2F070395CDE29249B9579E295711AAEE                      </td><td>DavidCaron                                            </td><td>Haptophyta(Hacrobia,Chromalveolata)                   </td><td>Haptophyta                                            </td><td>Prymnesiophyceae                                      </td><td>Prymensiales                                          </td><td>Prymenesiaceae                                        </td><td>Prymnesium                                            </td><td>parvum                                                </td><td>Texoma1                                               </td></tr>\n",
       "\t<tr><td>MMETSP0008                                            </td><td>SRR1294411                                            </td><td>7/22/15                                               </td><td>12/30/15                                              </td><td>22076599                                              </td><td>4415319800                                            </td><td>22076599                                              </td><td>200                                                   </td><td>2866                                                  </td><td>http://sra-download.ncbi.nlm.nih.gov/srapub/SRR1294411</td><td>⋯                                                     </td><td>E8DE36C2BBB99E78A1CCC6268C103D50                      </td><td>DavidCaron                                            </td><td>Haptophyta(Hacrobia,Chromalveolata)                   </td><td>Haptophyta                                            </td><td>Prymnesiophyceae                                      </td><td>Prymensiales                                          </td><td>Prymenesiaceae                                        </td><td>Prymnesium                                            </td><td>parvum                                                </td><td>Texoma1                                               </td></tr>\n",
       "\t<tr><td>MMETSP0008                                            </td><td>SRR1294412                                            </td><td>7/22/15                                               </td><td>12/30/15                                              </td><td>27052143                                              </td><td>2705214300                                            </td><td>27052143                                              </td><td>100                                                   </td><td>1723                                                  </td><td>http://sra-download.ncbi.nlm.nih.gov/srapub/SRR1294412</td><td>⋯                                                     </td><td>518DDFDAB09AA3C65FD442E6DF53FEFB                      </td><td>DavidCaron                                            </td><td>Haptophyta(Hacrobia,Chromalveolata)                   </td><td>Haptophyta                                            </td><td>Prymnesiophyceae                                      </td><td>Prymensiales                                          </td><td>Prymenesiaceae                                        </td><td>Prymnesium                                            </td><td>parvum                                                </td><td>Texoma1                                               </td></tr>\n",
       "</tbody>\n",
       "</table>\n"
      ],
      "text/latex": [
       "\\begin{tabular}{r|lllllllllllllllllllllllllllllllllllllll}\n",
       " SampleName & Run & ReleaseDate & LoadDate & spots & bases & spots\\_with\\_mates & avgLength & size\\_MB & download\\_path & ⋯ & ReadHash & Investigator & HighLevelClassification & Phylum & Class & Order & Family & Genus & Species & Strain\\\\\n",
       "\\hline\n",
       "\t MMETSP0004                                             & SRR1296863                                             & 7/22/15                                                & 7/26/15                                                & 24803955                                               & 2480395500                                             & 24803955                                               & 100                                                    & 1604                                                   & http://sra-download.ncbi.nlm.nih.gov/srapub/SRR1296863 & ⋯                                                      & BE7B899A61C3C5B642CBD90ABA78FDE2                       & DavidCaron                                             & Stramenopila(SAR,Chromalveolata)                       & Ochrophyta                                             & Synurophyceae                                          & Ochromonadales                                         & Ochromonadaceae                                        & Ochromonas                                             & sp.                                                    & CCMP1393                                              \\\\\n",
       "\t MMETSP0005                                             & SRR1296767                                             & 7/22/15                                                & 7/27/15                                                & 28100060                                               & 2810006000                                             & 28100060                                               & 100                                                    & 1794                                                   & http://sra-download.ncbi.nlm.nih.gov/srapub/SRR1296767 & ⋯                                                      & 0450A2DCF3E1C1A7806DC172B25C3820                       & DavidCaron                                             & Stramenopila(SAR,Chromalveolata)                       & Ochrophyta                                             & Synurophyceae                                          & Ochromonadales                                         & Ochromonadaceae                                        & Ochromonas                                             & sp.                                                    & CCMP1393                                              \\\\\n",
       "\t MMETSP0006                                             & SRR1296917                                             & 7/22/15                                                & 7/26/15                                                & 21466210                                               & 2146621000                                             & 21466210                                               & 100                                                    & 1426                                                   & http://sra-download.ncbi.nlm.nih.gov/srapub/SRR1296917 & ⋯                                                      & BB3E9B7A3AD34ADFCBE578ED857B087C                       & DavidCaron                                             & Haptophyta(Hacrobia,Chromalveolata)                    & Haptophyta                                             & Prymnesiophyceae                                       & Prymensiales                                           & Prymenesiaceae                                         & Prymnesium                                             & parvum                                                 & Texoma1                                               \\\\\n",
       "\t MMETSP0007                                             & SRR1296769                                             & 7/22/15                                                & 7/27/15                                                & 20174360                                               & 2017436000                                             & 20174360                                               & 100                                                    & 1319                                                   & http://sra-download.ncbi.nlm.nih.gov/srapub/SRR1296769 & ⋯                                                      & 2F070395CDE29249B9579E295711AAEE                       & DavidCaron                                             & Haptophyta(Hacrobia,Chromalveolata)                    & Haptophyta                                             & Prymnesiophyceae                                       & Prymensiales                                           & Prymenesiaceae                                         & Prymnesium                                             & parvum                                                 & Texoma1                                               \\\\\n",
       "\t MMETSP0008                                             & SRR1294411                                             & 7/22/15                                                & 12/30/15                                               & 22076599                                               & 4415319800                                             & 22076599                                               & 200                                                    & 2866                                                   & http://sra-download.ncbi.nlm.nih.gov/srapub/SRR1294411 & ⋯                                                      & E8DE36C2BBB99E78A1CCC6268C103D50                       & DavidCaron                                             & Haptophyta(Hacrobia,Chromalveolata)                    & Haptophyta                                             & Prymnesiophyceae                                       & Prymensiales                                           & Prymenesiaceae                                         & Prymnesium                                             & parvum                                                 & Texoma1                                               \\\\\n",
       "\t MMETSP0008                                             & SRR1294412                                             & 7/22/15                                                & 12/30/15                                               & 27052143                                               & 2705214300                                             & 27052143                                               & 100                                                    & 1723                                                   & http://sra-download.ncbi.nlm.nih.gov/srapub/SRR1294412 & ⋯                                                      & 518DDFDAB09AA3C65FD442E6DF53FEFB                       & DavidCaron                                             & Haptophyta(Hacrobia,Chromalveolata)                    & Haptophyta                                             & Prymnesiophyceae                                       & Prymensiales                                           & Prymenesiaceae                                         & Prymnesium                                             & parvum                                                 & Texoma1                                               \\\\\n",
       "\\end{tabular}\n"
      ],
      "text/markdown": [
       "\n",
       "SampleName | Run | ReleaseDate | LoadDate | spots | bases | spots_with_mates | avgLength | size_MB | download_path | ⋯ | ReadHash | Investigator | HighLevelClassification | Phylum | Class | Order | Family | Genus | Species | Strain | \n",
       "|---|---|---|---|---|---|\n",
       "| MMETSP0004                                             | SRR1296863                                             | 7/22/15                                                | 7/26/15                                                | 24803955                                               | 2480395500                                             | 24803955                                               | 100                                                    | 1604                                                   | http://sra-download.ncbi.nlm.nih.gov/srapub/SRR1296863 | ⋯                                                      | BE7B899A61C3C5B642CBD90ABA78FDE2                       | DavidCaron                                             | Stramenopila(SAR,Chromalveolata)                       | Ochrophyta                                             | Synurophyceae                                          | Ochromonadales                                         | Ochromonadaceae                                        | Ochromonas                                             | sp.                                                    | CCMP1393                                               | \n",
       "| MMETSP0005                                             | SRR1296767                                             | 7/22/15                                                | 7/27/15                                                | 28100060                                               | 2810006000                                             | 28100060                                               | 100                                                    | 1794                                                   | http://sra-download.ncbi.nlm.nih.gov/srapub/SRR1296767 | ⋯                                                      | 0450A2DCF3E1C1A7806DC172B25C3820                       | DavidCaron                                             | Stramenopila(SAR,Chromalveolata)                       | Ochrophyta                                             | Synurophyceae                                          | Ochromonadales                                         | Ochromonadaceae                                        | Ochromonas                                             | sp.                                                    | CCMP1393                                               | \n",
       "| MMETSP0006                                             | SRR1296917                                             | 7/22/15                                                | 7/26/15                                                | 21466210                                               | 2146621000                                             | 21466210                                               | 100                                                    | 1426                                                   | http://sra-download.ncbi.nlm.nih.gov/srapub/SRR1296917 | ⋯                                                      | BB3E9B7A3AD34ADFCBE578ED857B087C                       | DavidCaron                                             | Haptophyta(Hacrobia,Chromalveolata)                    | Haptophyta                                             | Prymnesiophyceae                                       | Prymensiales                                           | Prymenesiaceae                                         | Prymnesium                                             | parvum                                                 | Texoma1                                                | \n",
       "| MMETSP0007                                             | SRR1296769                                             | 7/22/15                                                | 7/27/15                                                | 20174360                                               | 2017436000                                             | 20174360                                               | 100                                                    | 1319                                                   | http://sra-download.ncbi.nlm.nih.gov/srapub/SRR1296769 | ⋯                                                      | 2F070395CDE29249B9579E295711AAEE                       | DavidCaron                                             | Haptophyta(Hacrobia,Chromalveolata)                    | Haptophyta                                             | Prymnesiophyceae                                       | Prymensiales                                           | Prymenesiaceae                                         | Prymnesium                                             | parvum                                                 | Texoma1                                                | \n",
       "| MMETSP0008                                             | SRR1294411                                             | 7/22/15                                                | 12/30/15                                               | 22076599                                               | 4415319800                                             | 22076599                                               | 200                                                    | 2866                                                   | http://sra-download.ncbi.nlm.nih.gov/srapub/SRR1294411 | ⋯                                                      | E8DE36C2BBB99E78A1CCC6268C103D50                       | DavidCaron                                             | Haptophyta(Hacrobia,Chromalveolata)                    | Haptophyta                                             | Prymnesiophyceae                                       | Prymensiales                                           | Prymenesiaceae                                         | Prymnesium                                             | parvum                                                 | Texoma1                                                | \n",
       "| MMETSP0008                                             | SRR1294412                                             | 7/22/15                                                | 12/30/15                                               | 27052143                                               | 2705214300                                             | 27052143                                               | 100                                                    | 1723                                                   | http://sra-download.ncbi.nlm.nih.gov/srapub/SRR1294412 | ⋯                                                      | 518DDFDAB09AA3C65FD442E6DF53FEFB                       | DavidCaron                                             | Haptophyta(Hacrobia,Chromalveolata)                    | Haptophyta                                             | Prymnesiophyceae                                       | Prymensiales                                           | Prymenesiaceae                                         | Prymnesium                                             | parvum                                                 | Texoma1                                                | \n",
       "\n",
       "\n"
      ],
      "text/plain": [
       "  SampleName Run        ReleaseDate LoadDate spots    bases     \n",
       "1 MMETSP0004 SRR1296863 7/22/15     7/26/15  24803955 2480395500\n",
       "2 MMETSP0005 SRR1296767 7/22/15     7/27/15  28100060 2810006000\n",
       "3 MMETSP0006 SRR1296917 7/22/15     7/26/15  21466210 2146621000\n",
       "4 MMETSP0007 SRR1296769 7/22/15     7/27/15  20174360 2017436000\n",
       "5 MMETSP0008 SRR1294411 7/22/15     12/30/15 22076599 4415319800\n",
       "6 MMETSP0008 SRR1294412 7/22/15     12/30/15 27052143 2705214300\n",
       "  spots_with_mates avgLength size_MB\n",
       "1 24803955         100       1604   \n",
       "2 28100060         100       1794   \n",
       "3 21466210         100       1426   \n",
       "4 20174360         100       1319   \n",
       "5 22076599         200       2866   \n",
       "6 27052143         100       1723   \n",
       "  download_path                                          ⋯\n",
       "1 http://sra-download.ncbi.nlm.nih.gov/srapub/SRR1296863 ⋯\n",
       "2 http://sra-download.ncbi.nlm.nih.gov/srapub/SRR1296767 ⋯\n",
       "3 http://sra-download.ncbi.nlm.nih.gov/srapub/SRR1296917 ⋯\n",
       "4 http://sra-download.ncbi.nlm.nih.gov/srapub/SRR1296769 ⋯\n",
       "5 http://sra-download.ncbi.nlm.nih.gov/srapub/SRR1294411 ⋯\n",
       "6 http://sra-download.ncbi.nlm.nih.gov/srapub/SRR1294412 ⋯\n",
       "  ReadHash                         Investigator\n",
       "1 BE7B899A61C3C5B642CBD90ABA78FDE2 DavidCaron  \n",
       "2 0450A2DCF3E1C1A7806DC172B25C3820 DavidCaron  \n",
       "3 BB3E9B7A3AD34ADFCBE578ED857B087C DavidCaron  \n",
       "4 2F070395CDE29249B9579E295711AAEE DavidCaron  \n",
       "5 E8DE36C2BBB99E78A1CCC6268C103D50 DavidCaron  \n",
       "6 518DDFDAB09AA3C65FD442E6DF53FEFB DavidCaron  \n",
       "  HighLevelClassification             Phylum     Class           \n",
       "1 Stramenopila(SAR,Chromalveolata)    Ochrophyta Synurophyceae   \n",
       "2 Stramenopila(SAR,Chromalveolata)    Ochrophyta Synurophyceae   \n",
       "3 Haptophyta(Hacrobia,Chromalveolata) Haptophyta Prymnesiophyceae\n",
       "4 Haptophyta(Hacrobia,Chromalveolata) Haptophyta Prymnesiophyceae\n",
       "5 Haptophyta(Hacrobia,Chromalveolata) Haptophyta Prymnesiophyceae\n",
       "6 Haptophyta(Hacrobia,Chromalveolata) Haptophyta Prymnesiophyceae\n",
       "  Order          Family          Genus      Species Strain  \n",
       "1 Ochromonadales Ochromonadaceae Ochromonas sp.     CCMP1393\n",
       "2 Ochromonadales Ochromonadaceae Ochromonas sp.     CCMP1393\n",
       "3 Prymensiales   Prymenesiaceae  Prymnesium parvum  Texoma1 \n",
       "4 Prymensiales   Prymenesiaceae  Prymnesium parvum  Texoma1 \n",
       "5 Prymensiales   Prymenesiaceae  Prymnesium parvum  Texoma1 \n",
       "6 Prymensiales   Prymenesiaceae  Prymnesium parvum  Texoma1 "
      ]
     },
     "metadata": {},
     "output_type": "display_data"
    }
   ],
   "source": [
    "MMETSP_ncbi_subset<-MMETSP_ncbi[,c(1:8,10,11,13:16,19:22,24:30,42,43,45:47)]\n",
    "names_matrix<-merge(MMETSP_ncbi_subset,mmetsp_id,by=\"SampleName\",all.y=TRUE)\n",
    "dim(names_matrix)\n",
    "head(names_matrix)\n",
    "#write.csv(names_matrix,\"imicrobe/MMETSP_ncbi_id.csv\")"
   ]
  },
  {
   "cell_type": "code",
   "execution_count": 53,
   "metadata": {},
   "outputs": [
    {
     "data": {
      "text/html": [
       "<table>\n",
       "<thead><tr><th></th><th scope=col>SampleName</th><th scope=col>NCGR.Complete_eukaryotic</th><th scope=col>NCGR.Fragmented_eukaryotic</th><th scope=col>NCGR.Missing_eukaryotic</th><th scope=col>NCGR.Total_eukaryotic</th><th scope=col>NCGR.Complete_eukaryotic_BUSCO_prop</th><th scope=col>NCGR.Complete_eukaryotic_BUSCO_perc</th></tr></thead>\n",
       "<tbody>\n",
       "\t<tr><th scope=row>614</th><td>MMETSP0046</td><td>241       </td><td>20        </td><td> 42       </td><td>303       </td><td>0.7953795 </td><td>79.53795  </td></tr>\n",
       "\t<tr><th scope=row>151</th><td>MMETSP0326</td><td> 93       </td><td>56        </td><td>154       </td><td>303       </td><td>0.3069307 </td><td>30.69307  </td></tr>\n",
       "\t<tr><th scope=row>546</th><td>MMETSP0908</td><td>239       </td><td>22        </td><td> 42       </td><td>303       </td><td>0.7887789 </td><td>78.87789  </td></tr>\n",
       "\t<tr><th scope=row>438</th><td>MMETSP1102</td><td>216       </td><td>32        </td><td> 55       </td><td>303       </td><td>0.7128713 </td><td>71.28713  </td></tr>\n",
       "\t<tr><th scope=row>130</th><td>MMETSP0411</td><td>118       </td><td>66        </td><td>119       </td><td>303       </td><td>0.3894389 </td><td>38.94389  </td></tr>\n",
       "\t<tr><th scope=row>369</th><td>MMETSP1048</td><td>183       </td><td>22        </td><td> 98       </td><td>303       </td><td>0.6039604 </td><td>60.39604  </td></tr>\n",
       "</tbody>\n",
       "</table>\n"
      ],
      "text/latex": [
       "\\begin{tabular}{r|lllllll}\n",
       "  & SampleName & NCGR.Complete\\_eukaryotic & NCGR.Fragmented\\_eukaryotic & NCGR.Missing\\_eukaryotic & NCGR.Total\\_eukaryotic & NCGR.Complete\\_eukaryotic\\_BUSCO\\_prop & NCGR.Complete\\_eukaryotic\\_BUSCO\\_perc\\\\\n",
       "\\hline\n",
       "\t614 & MMETSP0046 & 241        & 20         &  42        & 303        & 0.7953795  & 79.53795  \\\\\n",
       "\t151 & MMETSP0326 &  93        & 56         & 154        & 303        & 0.3069307  & 30.69307  \\\\\n",
       "\t546 & MMETSP0908 & 239        & 22         &  42        & 303        & 0.7887789  & 78.87789  \\\\\n",
       "\t438 & MMETSP1102 & 216        & 32         &  55        & 303        & 0.7128713  & 71.28713  \\\\\n",
       "\t130 & MMETSP0411 & 118        & 66         & 119        & 303        & 0.3894389  & 38.94389  \\\\\n",
       "\t369 & MMETSP1048 & 183        & 22         &  98        & 303        & 0.6039604  & 60.39604  \\\\\n",
       "\\end{tabular}\n"
      ],
      "text/markdown": [
       "\n",
       "| <!--/--> | SampleName | NCGR.Complete_eukaryotic | NCGR.Fragmented_eukaryotic | NCGR.Missing_eukaryotic | NCGR.Total_eukaryotic | NCGR.Complete_eukaryotic_BUSCO_prop | NCGR.Complete_eukaryotic_BUSCO_perc | \n",
       "|---|---|---|---|---|---|\n",
       "| 614 | MMETSP0046 | 241        | 20         |  42        | 303        | 0.7953795  | 79.53795   | \n",
       "| 151 | MMETSP0326 |  93        | 56         | 154        | 303        | 0.3069307  | 30.69307   | \n",
       "| 546 | MMETSP0908 | 239        | 22         |  42        | 303        | 0.7887789  | 78.87789   | \n",
       "| 438 | MMETSP1102 | 216        | 32         |  55        | 303        | 0.7128713  | 71.28713   | \n",
       "| 130 | MMETSP0411 | 118        | 66         | 119        | 303        | 0.3894389  | 38.94389   | \n",
       "| 369 | MMETSP1048 | 183        | 22         |  98        | 303        | 0.6039604  | 60.39604   | \n",
       "\n",
       "\n"
      ],
      "text/plain": [
       "    SampleName NCGR.Complete_eukaryotic NCGR.Fragmented_eukaryotic\n",
       "614 MMETSP0046 241                      20                        \n",
       "151 MMETSP0326  93                      56                        \n",
       "546 MMETSP0908 239                      22                        \n",
       "438 MMETSP1102 216                      32                        \n",
       "130 MMETSP0411 118                      66                        \n",
       "369 MMETSP1048 183                      22                        \n",
       "    NCGR.Missing_eukaryotic NCGR.Total_eukaryotic\n",
       "614  42                     303                  \n",
       "151 154                     303                  \n",
       "546  42                     303                  \n",
       "438  55                     303                  \n",
       "130 119                     303                  \n",
       "369  98                     303                  \n",
       "    NCGR.Complete_eukaryotic_BUSCO_prop NCGR.Complete_eukaryotic_BUSCO_perc\n",
       "614 0.7953795                           79.53795                           \n",
       "151 0.3069307                           30.69307                           \n",
       "546 0.7887789                           78.87789                           \n",
       "438 0.7128713                           71.28713                           \n",
       "130 0.3894389                           38.94389                           \n",
       "369 0.6039604                           60.39604                           "
      ]
     },
     "metadata": {},
     "output_type": "display_data"
    },
    {
     "data": {
      "text/html": [
       "<ol class=list-inline>\n",
       "\t<li>677</li>\n",
       "\t<li>7</li>\n",
       "</ol>\n"
      ],
      "text/latex": [
       "\\begin{enumerate*}\n",
       "\\item 677\n",
       "\\item 7\n",
       "\\end{enumerate*}\n"
      ],
      "text/markdown": [
       "1. 677\n",
       "2. 7\n",
       "\n",
       "\n"
      ],
      "text/plain": [
       "[1] 677   7"
      ]
     },
     "metadata": {},
     "output_type": "display_data"
    }
   ],
   "source": [
    "head(busco_scores_euk_NCGR)\n",
    "dim(busco_scores_euk_NCGR)"
   ]
  },
  {
   "cell_type": "code",
   "execution_count": 63,
   "metadata": {},
   "outputs": [
    {
     "data": {
      "text/html": [
       "<ol class=list-inline>\n",
       "\t<li>719</li>\n",
       "\t<li>42</li>\n",
       "</ol>\n"
      ],
      "text/latex": [
       "\\begin{enumerate*}\n",
       "\\item 719\n",
       "\\item 42\n",
       "\\end{enumerate*}\n"
      ],
      "text/markdown": [
       "1. 719\n",
       "2. 42\n",
       "\n",
       "\n"
      ],
      "text/plain": [
       "[1] 719  42"
      ]
     },
     "metadata": {},
     "output_type": "display_data"
    },
    {
     "data": {
      "text/html": [
       "<ol class=list-inline>\n",
       "\t<li>719</li>\n",
       "\t<li>85</li>\n",
       "</ol>\n"
      ],
      "text/latex": [
       "\\begin{enumerate*}\n",
       "\\item 719\n",
       "\\item 85\n",
       "\\end{enumerate*}\n"
      ],
      "text/markdown": [
       "1. 719\n",
       "2. 85\n",
       "\n",
       "\n"
      ],
      "text/plain": [
       "[1] 719  85"
      ]
     },
     "metadata": {},
     "output_type": "display_data"
    },
    {
     "data": {
      "text/html": [
       "<ol class=list-inline>\n",
       "\t<li>719</li>\n",
       "\t<li>128</li>\n",
       "</ol>\n"
      ],
      "text/latex": [
       "\\begin{enumerate*}\n",
       "\\item 719\n",
       "\\item 128\n",
       "\\end{enumerate*}\n"
      ],
      "text/markdown": [
       "1. 719\n",
       "2. 128\n",
       "\n",
       "\n"
      ],
      "text/plain": [
       "[1] 719 128"
      ]
     },
     "metadata": {},
     "output_type": "display_data"
    },
    {
     "data": {
      "text/html": [
       "<ol class=list-inline>\n",
       "\t<li>719</li>\n",
       "\t<li>171</li>\n",
       "</ol>\n"
      ],
      "text/latex": [
       "\\begin{enumerate*}\n",
       "\\item 719\n",
       "\\item 171\n",
       "\\end{enumerate*}\n"
      ],
      "text/markdown": [
       "1. 719\n",
       "2. 171\n",
       "\n",
       "\n"
      ],
      "text/plain": [
       "[1] 719 171"
      ]
     },
     "metadata": {},
     "output_type": "display_data"
    },
    {
     "name": "stderr",
     "output_type": "stream",
     "text": [
      "Warning message in merge.data.frame(evaluation_matrix_4, transrate_reference_forward, :\n",
      "“column names ‘assembly.x’, ‘n_seqs.x’, ‘smallest.x’, ‘largest.x’, ‘n_bases.x’, ‘mean_len.x’, ‘n_under_200.x’, ‘n_over_1k.x’, ‘n_over_10k.x’, ‘n_with_orf.x’, ‘mean_orf_percent.x’, ‘n90.x’, ‘n70.x’, ‘n50.x’, ‘n30.x’, ‘n10.x’, ‘gc.x’, ‘gc_skew.x’, ‘at_skew.x’, ‘cpg_ratio.x’, ‘bases_n.x’, ‘proportion_n.x’, ‘linguistic_complexity.x’, ‘score.x’, ‘optimal_score.x’, ‘cutoff.x’, ‘assembly.y’, ‘n_seqs.y’, ‘smallest.y’, ‘largest.y’, ‘n_bases.y’, ‘mean_len.y’, ‘n_under_200.y’, ‘n_over_1k.y’, ‘n_over_10k.y’, ‘n_with_orf.y’, ‘mean_orf_percent.y’, ‘n90.y’, ‘n70.y’, ‘n50.y’, ‘n30.y’, ‘n10.y’, ‘gc.y’, ‘gc_skew.y’, ‘at_skew.y’, ‘cpg_ratio.y’, ‘bases_n.y’, ‘proportion_n.y’, ‘linguistic_complexity.y’, ‘score.y’, ‘optimal_score.y’, ‘cutoff.y’ are duplicated in the result”"
     ]
    },
    {
     "data": {
      "text/html": [
       "<ol class=list-inline>\n",
       "\t<li>719</li>\n",
       "\t<li>215</li>\n",
       "</ol>\n"
      ],
      "text/latex": [
       "\\begin{enumerate*}\n",
       "\\item 719\n",
       "\\item 215\n",
       "\\end{enumerate*}\n"
      ],
      "text/markdown": [
       "1. 719\n",
       "2. 215\n",
       "\n",
       "\n"
      ],
      "text/plain": [
       "[1] 719 215"
      ]
     },
     "metadata": {},
     "output_type": "display_data"
    },
    {
     "name": "stderr",
     "output_type": "stream",
     "text": [
      "Warning message in merge.data.frame(evaluation_matrix_5, transrate_reference_reverse, :\n",
      "“column names ‘assembly.x’, ‘n_seqs.x’, ‘smallest.x’, ‘largest.x’, ‘n_bases.x’, ‘mean_len.x’, ‘n_under_200.x’, ‘n_over_1k.x’, ‘n_over_10k.x’, ‘n_with_orf.x’, ‘mean_orf_percent.x’, ‘n90.x’, ‘n70.x’, ‘n50.x’, ‘n30.x’, ‘n10.x’, ‘gc.x’, ‘gc_skew.x’, ‘at_skew.x’, ‘cpg_ratio.x’, ‘bases_n.x’, ‘proportion_n.x’, ‘linguistic_complexity.x’, ‘score.x’, ‘optimal_score.x’, ‘cutoff.x’, ‘assembly.y’, ‘n_seqs.y’, ‘smallest.y’, ‘largest.y’, ‘n_bases.y’, ‘mean_len.y’, ‘n_under_200.y’, ‘n_over_1k.y’, ‘n_over_10k.y’, ‘n_with_orf.y’, ‘mean_orf_percent.y’, ‘n90.y’, ‘n70.y’, ‘n50.y’, ‘n30.y’, ‘n10.y’, ‘gc.y’, ‘gc_skew.y’, ‘at_skew.y’, ‘cpg_ratio.y’, ‘bases_n.y’, ‘proportion_n.y’, ‘linguistic_complexity.y’, ‘score.y’, ‘optimal_score.y’, ‘cutoff.y’ are duplicated in the result”"
     ]
    },
    {
     "data": {
      "text/html": [
       "<ol class=list-inline>\n",
       "\t<li>719</li>\n",
       "\t<li>259</li>\n",
       "</ol>\n"
      ],
      "text/latex": [
       "\\begin{enumerate*}\n",
       "\\item 719\n",
       "\\item 259\n",
       "\\end{enumerate*}\n"
      ],
      "text/markdown": [
       "1. 719\n",
       "2. 259\n",
       "\n",
       "\n"
      ],
      "text/plain": [
       "[1] 719 259"
      ]
     },
     "metadata": {},
     "output_type": "display_data"
    },
    {
     "name": "stderr",
     "output_type": "stream",
     "text": [
      "Warning message in merge.data.frame(evaluation_matrix_6, busco_scores_euk_DIB, by = \"SampleName\", :\n",
      "“column names ‘assembly.x’, ‘n_seqs.x’, ‘smallest.x’, ‘largest.x’, ‘n_bases.x’, ‘mean_len.x’, ‘n_under_200.x’, ‘n_over_1k.x’, ‘n_over_10k.x’, ‘n_with_orf.x’, ‘mean_orf_percent.x’, ‘n90.x’, ‘n70.x’, ‘n50.x’, ‘n30.x’, ‘n10.x’, ‘gc.x’, ‘gc_skew.x’, ‘at_skew.x’, ‘cpg_ratio.x’, ‘bases_n.x’, ‘proportion_n.x’, ‘linguistic_complexity.x’, ‘score.x’, ‘optimal_score.x’, ‘cutoff.x’, ‘assembly.y’, ‘n_seqs.y’, ‘smallest.y’, ‘largest.y’, ‘n_bases.y’, ‘mean_len.y’, ‘n_under_200.y’, ‘n_over_1k.y’, ‘n_over_10k.y’, ‘n_with_orf.y’, ‘mean_orf_percent.y’, ‘n90.y’, ‘n70.y’, ‘n50.y’, ‘n30.y’, ‘n10.y’, ‘gc.y’, ‘gc_skew.y’, ‘at_skew.y’, ‘cpg_ratio.y’, ‘bases_n.y’, ‘proportion_n.y’, ‘linguistic_complexity.y’, ‘score.y’, ‘optimal_score.y’, ‘cutoff.y’ are duplicated in the result”"
     ]
    },
    {
     "data": {
      "text/html": [
       "<ol class=list-inline>\n",
       "\t<li>719</li>\n",
       "\t<li>265</li>\n",
       "</ol>\n"
      ],
      "text/latex": [
       "\\begin{enumerate*}\n",
       "\\item 719\n",
       "\\item 265\n",
       "\\end{enumerate*}\n"
      ],
      "text/markdown": [
       "1. 719\n",
       "2. 265\n",
       "\n",
       "\n"
      ],
      "text/plain": [
       "[1] 719 265"
      ]
     },
     "metadata": {},
     "output_type": "display_data"
    },
    {
     "name": "stderr",
     "output_type": "stream",
     "text": [
      "Warning message in merge.data.frame(evaluation_matrix_7, busco_scores_protist_DIB, :\n",
      "“column names ‘assembly.x’, ‘n_seqs.x’, ‘smallest.x’, ‘largest.x’, ‘n_bases.x’, ‘mean_len.x’, ‘n_under_200.x’, ‘n_over_1k.x’, ‘n_over_10k.x’, ‘n_with_orf.x’, ‘mean_orf_percent.x’, ‘n90.x’, ‘n70.x’, ‘n50.x’, ‘n30.x’, ‘n10.x’, ‘gc.x’, ‘gc_skew.x’, ‘at_skew.x’, ‘cpg_ratio.x’, ‘bases_n.x’, ‘proportion_n.x’, ‘linguistic_complexity.x’, ‘score.x’, ‘optimal_score.x’, ‘cutoff.x’, ‘assembly.y’, ‘n_seqs.y’, ‘smallest.y’, ‘largest.y’, ‘n_bases.y’, ‘mean_len.y’, ‘n_under_200.y’, ‘n_over_1k.y’, ‘n_over_10k.y’, ‘n_with_orf.y’, ‘mean_orf_percent.y’, ‘n90.y’, ‘n70.y’, ‘n50.y’, ‘n30.y’, ‘n10.y’, ‘gc.y’, ‘gc_skew.y’, ‘at_skew.y’, ‘cpg_ratio.y’, ‘bases_n.y’, ‘proportion_n.y’, ‘linguistic_complexity.y’, ‘score.y’, ‘optimal_score.y’, ‘cutoff.y’ are duplicated in the result”"
     ]
    },
    {
     "data": {
      "text/html": [
       "<ol class=list-inline>\n",
       "\t<li>719</li>\n",
       "\t<li>270</li>\n",
       "</ol>\n"
      ],
      "text/latex": [
       "\\begin{enumerate*}\n",
       "\\item 719\n",
       "\\item 270\n",
       "\\end{enumerate*}\n"
      ],
      "text/markdown": [
       "1. 719\n",
       "2. 270\n",
       "\n",
       "\n"
      ],
      "text/plain": [
       "[1] 719 270"
      ]
     },
     "metadata": {},
     "output_type": "display_data"
    },
    {
     "name": "stderr",
     "output_type": "stream",
     "text": [
      "Warning message in merge.data.frame(evaluation_matrix_8, busco_scores_euk_NCGR, :\n",
      "“column names ‘assembly.x’, ‘n_seqs.x’, ‘smallest.x’, ‘largest.x’, ‘n_bases.x’, ‘mean_len.x’, ‘n_under_200.x’, ‘n_over_1k.x’, ‘n_over_10k.x’, ‘n_with_orf.x’, ‘mean_orf_percent.x’, ‘n90.x’, ‘n70.x’, ‘n50.x’, ‘n30.x’, ‘n10.x’, ‘gc.x’, ‘gc_skew.x’, ‘at_skew.x’, ‘cpg_ratio.x’, ‘bases_n.x’, ‘proportion_n.x’, ‘linguistic_complexity.x’, ‘score.x’, ‘optimal_score.x’, ‘cutoff.x’, ‘assembly.y’, ‘n_seqs.y’, ‘smallest.y’, ‘largest.y’, ‘n_bases.y’, ‘mean_len.y’, ‘n_under_200.y’, ‘n_over_1k.y’, ‘n_over_10k.y’, ‘n_with_orf.y’, ‘mean_orf_percent.y’, ‘n90.y’, ‘n70.y’, ‘n50.y’, ‘n30.y’, ‘n10.y’, ‘gc.y’, ‘gc_skew.y’, ‘at_skew.y’, ‘cpg_ratio.y’, ‘bases_n.y’, ‘proportion_n.y’, ‘linguistic_complexity.y’, ‘score.y’, ‘optimal_score.y’, ‘cutoff.y’ are duplicated in the result”"
     ]
    },
    {
     "data": {
      "text/html": [
       "<ol class=list-inline>\n",
       "\t<li>719</li>\n",
       "\t<li>276</li>\n",
       "</ol>\n"
      ],
      "text/latex": [
       "\\begin{enumerate*}\n",
       "\\item 719\n",
       "\\item 276\n",
       "\\end{enumerate*}\n"
      ],
      "text/markdown": [
       "1. 719\n",
       "2. 276\n",
       "\n",
       "\n"
      ],
      "text/plain": [
       "[1] 719 276"
      ]
     },
     "metadata": {},
     "output_type": "display_data"
    },
    {
     "name": "stderr",
     "output_type": "stream",
     "text": [
      "Warning message in merge.data.frame(evaluation_matrix_9, busco_scores_protist_NCGR, :\n",
      "“column names ‘assembly.x’, ‘n_seqs.x’, ‘smallest.x’, ‘largest.x’, ‘n_bases.x’, ‘mean_len.x’, ‘n_under_200.x’, ‘n_over_1k.x’, ‘n_over_10k.x’, ‘n_with_orf.x’, ‘mean_orf_percent.x’, ‘n90.x’, ‘n70.x’, ‘n50.x’, ‘n30.x’, ‘n10.x’, ‘gc.x’, ‘gc_skew.x’, ‘at_skew.x’, ‘cpg_ratio.x’, ‘bases_n.x’, ‘proportion_n.x’, ‘linguistic_complexity.x’, ‘score.x’, ‘optimal_score.x’, ‘cutoff.x’, ‘assembly.y’, ‘n_seqs.y’, ‘smallest.y’, ‘largest.y’, ‘n_bases.y’, ‘mean_len.y’, ‘n_under_200.y’, ‘n_over_1k.y’, ‘n_over_10k.y’, ‘n_with_orf.y’, ‘mean_orf_percent.y’, ‘n90.y’, ‘n70.y’, ‘n50.y’, ‘n30.y’, ‘n10.y’, ‘gc.y’, ‘gc_skew.y’, ‘at_skew.y’, ‘cpg_ratio.y’, ‘bases_n.y’, ‘proportion_n.y’, ‘linguistic_complexity.y’, ‘score.y’, ‘optimal_score.y’, ‘cutoff.y’ are duplicated in the result”"
     ]
    },
    {
     "data": {
      "text/html": [
       "<ol class=list-inline>\n",
       "\t<li>719</li>\n",
       "\t<li>281</li>\n",
       "</ol>\n"
      ],
      "text/latex": [
       "\\begin{enumerate*}\n",
       "\\item 719\n",
       "\\item 281\n",
       "\\end{enumerate*}\n"
      ],
      "text/markdown": [
       "1. 719\n",
       "2. 281\n",
       "\n",
       "\n"
      ],
      "text/plain": [
       "[1] 719 281"
      ]
     },
     "metadata": {},
     "output_type": "display_data"
    },
    {
     "name": "stderr",
     "output_type": "stream",
     "text": [
      "Warning message in merge.data.frame(evaluation_matrix_10, unique_kmers_dib, by = \"SampleName\", :\n",
      "“column names ‘assembly.x’, ‘n_seqs.x’, ‘smallest.x’, ‘largest.x’, ‘n_bases.x’, ‘mean_len.x’, ‘n_under_200.x’, ‘n_over_1k.x’, ‘n_over_10k.x’, ‘n_with_orf.x’, ‘mean_orf_percent.x’, ‘n90.x’, ‘n70.x’, ‘n50.x’, ‘n30.x’, ‘n10.x’, ‘gc.x’, ‘gc_skew.x’, ‘at_skew.x’, ‘cpg_ratio.x’, ‘bases_n.x’, ‘proportion_n.x’, ‘linguistic_complexity.x’, ‘score.x’, ‘optimal_score.x’, ‘cutoff.x’, ‘assembly.y’, ‘n_seqs.y’, ‘smallest.y’, ‘largest.y’, ‘n_bases.y’, ‘mean_len.y’, ‘n_under_200.y’, ‘n_over_1k.y’, ‘n_over_10k.y’, ‘n_with_orf.y’, ‘mean_orf_percent.y’, ‘n90.y’, ‘n70.y’, ‘n50.y’, ‘n30.y’, ‘n10.y’, ‘gc.y’, ‘gc_skew.y’, ‘at_skew.y’, ‘cpg_ratio.y’, ‘bases_n.y’, ‘proportion_n.y’, ‘linguistic_complexity.y’, ‘score.y’, ‘optimal_score.y’, ‘cutoff.y’ are duplicated in the result”"
     ]
    },
    {
     "data": {
      "text/html": [
       "<ol class=list-inline>\n",
       "\t<li>719</li>\n",
       "\t<li>282</li>\n",
       "</ol>\n"
      ],
      "text/latex": [
       "\\begin{enumerate*}\n",
       "\\item 719\n",
       "\\item 282\n",
       "\\end{enumerate*}\n"
      ],
      "text/markdown": [
       "1. 719\n",
       "2. 282\n",
       "\n",
       "\n"
      ],
      "text/plain": [
       "[1] 719 282"
      ]
     },
     "metadata": {},
     "output_type": "display_data"
    },
    {
     "name": "stderr",
     "output_type": "stream",
     "text": [
      "Warning message in merge.data.frame(evaluation_matrix_11, unique_kmers_ncgr, by = \"SampleName\", :\n",
      "“column names ‘assembly.x’, ‘n_seqs.x’, ‘smallest.x’, ‘largest.x’, ‘n_bases.x’, ‘mean_len.x’, ‘n_under_200.x’, ‘n_over_1k.x’, ‘n_over_10k.x’, ‘n_with_orf.x’, ‘mean_orf_percent.x’, ‘n90.x’, ‘n70.x’, ‘n50.x’, ‘n30.x’, ‘n10.x’, ‘gc.x’, ‘gc_skew.x’, ‘at_skew.x’, ‘cpg_ratio.x’, ‘bases_n.x’, ‘proportion_n.x’, ‘linguistic_complexity.x’, ‘score.x’, ‘optimal_score.x’, ‘cutoff.x’, ‘assembly.y’, ‘n_seqs.y’, ‘smallest.y’, ‘largest.y’, ‘n_bases.y’, ‘mean_len.y’, ‘n_under_200.y’, ‘n_over_1k.y’, ‘n_over_10k.y’, ‘n_with_orf.y’, ‘mean_orf_percent.y’, ‘n90.y’, ‘n70.y’, ‘n50.y’, ‘n30.y’, ‘n10.y’, ‘gc.y’, ‘gc_skew.y’, ‘at_skew.y’, ‘cpg_ratio.y’, ‘bases_n.y’, ‘proportion_n.y’, ‘linguistic_complexity.y’, ‘score.y’, ‘optimal_score.y’, ‘cutoff.y’ are duplicated in the result”"
     ]
    },
    {
     "data": {
      "text/html": [
       "<ol class=list-inline>\n",
       "\t<li>719</li>\n",
       "\t<li>283</li>\n",
       "</ol>\n"
      ],
      "text/latex": [
       "\\begin{enumerate*}\n",
       "\\item 719\n",
       "\\item 283\n",
       "\\end{enumerate*}\n"
      ],
      "text/markdown": [
       "1. 719\n",
       "2. 283\n",
       "\n",
       "\n"
      ],
      "text/plain": [
       "[1] 719 283"
      ]
     },
     "metadata": {},
     "output_type": "display_data"
    },
    {
     "name": "stderr",
     "output_type": "stream",
     "text": [
      "Warning message in merge.data.frame(evaluation_matrix_12, diginorm_stats, by = \"SampleName\", :\n",
      "“column names ‘assembly.x’, ‘n_seqs.x’, ‘smallest.x’, ‘largest.x’, ‘n_bases.x’, ‘mean_len.x’, ‘n_under_200.x’, ‘n_over_1k.x’, ‘n_over_10k.x’, ‘n_with_orf.x’, ‘mean_orf_percent.x’, ‘n90.x’, ‘n70.x’, ‘n50.x’, ‘n30.x’, ‘n10.x’, ‘gc.x’, ‘gc_skew.x’, ‘at_skew.x’, ‘cpg_ratio.x’, ‘bases_n.x’, ‘proportion_n.x’, ‘linguistic_complexity.x’, ‘score.x’, ‘optimal_score.x’, ‘cutoff.x’, ‘assembly.y’, ‘n_seqs.y’, ‘smallest.y’, ‘largest.y’, ‘n_bases.y’, ‘mean_len.y’, ‘n_under_200.y’, ‘n_over_1k.y’, ‘n_over_10k.y’, ‘n_with_orf.y’, ‘mean_orf_percent.y’, ‘n90.y’, ‘n70.y’, ‘n50.y’, ‘n30.y’, ‘n10.y’, ‘gc.y’, ‘gc_skew.y’, ‘at_skew.y’, ‘cpg_ratio.y’, ‘bases_n.y’, ‘proportion_n.y’, ‘linguistic_complexity.y’, ‘score.y’, ‘optimal_score.y’, ‘cutoff.y’ are duplicated in the result”"
     ]
    },
    {
     "data": {
      "text/html": [
       "<ol class=list-inline>\n",
       "\t<li>719</li>\n",
       "\t<li>288</li>\n",
       "</ol>\n"
      ],
      "text/latex": [
       "\\begin{enumerate*}\n",
       "\\item 719\n",
       "\\item 288\n",
       "\\end{enumerate*}\n"
      ],
      "text/markdown": [
       "1. 719\n",
       "2. 288\n",
       "\n",
       "\n"
      ],
      "text/plain": [
       "[1] 719 288"
      ]
     },
     "metadata": {},
     "output_type": "display_data"
    },
    {
     "name": "stderr",
     "output_type": "stream",
     "text": [
      "Warning message in merge.data.frame(evaluation_matrix_13, dib_busco_v3_euk, by = \"SampleName\", :\n",
      "“column names ‘assembly.x’, ‘n_seqs.x’, ‘smallest.x’, ‘largest.x’, ‘n_bases.x’, ‘mean_len.x’, ‘n_under_200.x’, ‘n_over_1k.x’, ‘n_over_10k.x’, ‘n_with_orf.x’, ‘mean_orf_percent.x’, ‘n90.x’, ‘n70.x’, ‘n50.x’, ‘n30.x’, ‘n10.x’, ‘gc.x’, ‘gc_skew.x’, ‘at_skew.x’, ‘cpg_ratio.x’, ‘bases_n.x’, ‘proportion_n.x’, ‘linguistic_complexity.x’, ‘score.x’, ‘optimal_score.x’, ‘cutoff.x’, ‘assembly.y’, ‘n_seqs.y’, ‘smallest.y’, ‘largest.y’, ‘n_bases.y’, ‘mean_len.y’, ‘n_under_200.y’, ‘n_over_1k.y’, ‘n_over_10k.y’, ‘n_with_orf.y’, ‘mean_orf_percent.y’, ‘n90.y’, ‘n70.y’, ‘n50.y’, ‘n30.y’, ‘n10.y’, ‘gc.y’, ‘gc_skew.y’, ‘at_skew.y’, ‘cpg_ratio.y’, ‘bases_n.y’, ‘proportion_n.y’, ‘linguistic_complexity.y’, ‘score.y’, ‘optimal_score.y’, ‘cutoff.y’ are duplicated in the result”"
     ]
    },
    {
     "data": {
      "text/html": [
       "<ol class=list-inline>\n",
       "\t<li>719</li>\n",
       "\t<li>294</li>\n",
       "</ol>\n"
      ],
      "text/latex": [
       "\\begin{enumerate*}\n",
       "\\item 719\n",
       "\\item 294\n",
       "\\end{enumerate*}\n"
      ],
      "text/markdown": [
       "1. 719\n",
       "2. 294\n",
       "\n",
       "\n"
      ],
      "text/plain": [
       "[1] 719 294"
      ]
     },
     "metadata": {},
     "output_type": "display_data"
    },
    {
     "name": "stderr",
     "output_type": "stream",
     "text": [
      "Warning message in merge.data.frame(evaluation_matrix_14, dib_busco_v3_protist, :\n",
      "“column names ‘assembly.x’, ‘n_seqs.x’, ‘smallest.x’, ‘largest.x’, ‘n_bases.x’, ‘mean_len.x’, ‘n_under_200.x’, ‘n_over_1k.x’, ‘n_over_10k.x’, ‘n_with_orf.x’, ‘mean_orf_percent.x’, ‘n90.x’, ‘n70.x’, ‘n50.x’, ‘n30.x’, ‘n10.x’, ‘gc.x’, ‘gc_skew.x’, ‘at_skew.x’, ‘cpg_ratio.x’, ‘bases_n.x’, ‘proportion_n.x’, ‘linguistic_complexity.x’, ‘score.x’, ‘optimal_score.x’, ‘cutoff.x’, ‘assembly.y’, ‘n_seqs.y’, ‘smallest.y’, ‘largest.y’, ‘n_bases.y’, ‘mean_len.y’, ‘n_under_200.y’, ‘n_over_1k.y’, ‘n_over_10k.y’, ‘n_with_orf.y’, ‘mean_orf_percent.y’, ‘n90.y’, ‘n70.y’, ‘n50.y’, ‘n30.y’, ‘n10.y’, ‘gc.y’, ‘gc_skew.y’, ‘at_skew.y’, ‘cpg_ratio.y’, ‘bases_n.y’, ‘proportion_n.y’, ‘linguistic_complexity.y’, ‘score.y’, ‘optimal_score.y’, ‘cutoff.y’ are duplicated in the result”"
     ]
    },
    {
     "data": {
      "text/html": [
       "<ol class=list-inline>\n",
       "\t<li>719</li>\n",
       "\t<li>300</li>\n",
       "</ol>\n"
      ],
      "text/latex": [
       "\\begin{enumerate*}\n",
       "\\item 719\n",
       "\\item 300\n",
       "\\end{enumerate*}\n"
      ],
      "text/markdown": [
       "1. 719\n",
       "2. 300\n",
       "\n",
       "\n"
      ],
      "text/plain": [
       "[1] 719 300"
      ]
     },
     "metadata": {},
     "output_type": "display_data"
    },
    {
     "name": "stderr",
     "output_type": "stream",
     "text": [
      "Warning message in merge.data.frame(evaluation_matrix_15, ncgr_busco_v3_euk, by = \"SampleName\", :\n",
      "“column names ‘assembly.x’, ‘n_seqs.x’, ‘smallest.x’, ‘largest.x’, ‘n_bases.x’, ‘mean_len.x’, ‘n_under_200.x’, ‘n_over_1k.x’, ‘n_over_10k.x’, ‘n_with_orf.x’, ‘mean_orf_percent.x’, ‘n90.x’, ‘n70.x’, ‘n50.x’, ‘n30.x’, ‘n10.x’, ‘gc.x’, ‘gc_skew.x’, ‘at_skew.x’, ‘cpg_ratio.x’, ‘bases_n.x’, ‘proportion_n.x’, ‘linguistic_complexity.x’, ‘score.x’, ‘optimal_score.x’, ‘cutoff.x’, ‘assembly.y’, ‘n_seqs.y’, ‘smallest.y’, ‘largest.y’, ‘n_bases.y’, ‘mean_len.y’, ‘n_under_200.y’, ‘n_over_1k.y’, ‘n_over_10k.y’, ‘n_with_orf.y’, ‘mean_orf_percent.y’, ‘n90.y’, ‘n70.y’, ‘n50.y’, ‘n30.y’, ‘n10.y’, ‘gc.y’, ‘gc_skew.y’, ‘at_skew.y’, ‘cpg_ratio.y’, ‘bases_n.y’, ‘proportion_n.y’, ‘linguistic_complexity.y’, ‘score.y’, ‘optimal_score.y’, ‘cutoff.y’ are duplicated in the result”"
     ]
    },
    {
     "data": {
      "text/html": [
       "<ol class=list-inline>\n",
       "\t<li>719</li>\n",
       "\t<li>306</li>\n",
       "</ol>\n"
      ],
      "text/latex": [
       "\\begin{enumerate*}\n",
       "\\item 719\n",
       "\\item 306\n",
       "\\end{enumerate*}\n"
      ],
      "text/markdown": [
       "1. 719\n",
       "2. 306\n",
       "\n",
       "\n"
      ],
      "text/plain": [
       "[1] 719 306"
      ]
     },
     "metadata": {},
     "output_type": "display_data"
    },
    {
     "name": "stderr",
     "output_type": "stream",
     "text": [
      "Warning message in merge.data.frame(evaluation_matrix_16, ncgr_busco_v3_protist, :\n",
      "“column names ‘assembly.x’, ‘n_seqs.x’, ‘smallest.x’, ‘largest.x’, ‘n_bases.x’, ‘mean_len.x’, ‘n_under_200.x’, ‘n_over_1k.x’, ‘n_over_10k.x’, ‘n_with_orf.x’, ‘mean_orf_percent.x’, ‘n90.x’, ‘n70.x’, ‘n50.x’, ‘n30.x’, ‘n10.x’, ‘gc.x’, ‘gc_skew.x’, ‘at_skew.x’, ‘cpg_ratio.x’, ‘bases_n.x’, ‘proportion_n.x’, ‘linguistic_complexity.x’, ‘score.x’, ‘optimal_score.x’, ‘cutoff.x’, ‘assembly.y’, ‘n_seqs.y’, ‘smallest.y’, ‘largest.y’, ‘n_bases.y’, ‘mean_len.y’, ‘n_under_200.y’, ‘n_over_1k.y’, ‘n_over_10k.y’, ‘n_with_orf.y’, ‘mean_orf_percent.y’, ‘n90.y’, ‘n70.y’, ‘n50.y’, ‘n30.y’, ‘n10.y’, ‘gc.y’, ‘gc_skew.y’, ‘at_skew.y’, ‘cpg_ratio.y’, ‘bases_n.y’, ‘proportion_n.y’, ‘linguistic_complexity.y’, ‘score.y’, ‘optimal_score.y’, ‘cutoff.y’ are duplicated in the result”"
     ]
    },
    {
     "data": {
      "text/html": [
       "<ol class=list-inline>\n",
       "\t<li>719</li>\n",
       "\t<li>312</li>\n",
       "</ol>\n"
      ],
      "text/latex": [
       "\\begin{enumerate*}\n",
       "\\item 719\n",
       "\\item 312\n",
       "\\end{enumerate*}\n"
      ],
      "text/markdown": [
       "1. 719\n",
       "2. 312\n",
       "\n",
       "\n"
      ],
      "text/plain": [
       "[1] 719 312"
      ]
     },
     "metadata": {},
     "output_type": "display_data"
    },
    {
     "data": {
      "text/html": [
       "<ol class=list-inline>\n",
       "\t<li>'SampleName'</li>\n",
       "\t<li>'Run.x'</li>\n",
       "\t<li>'ReleaseDate'</li>\n",
       "\t<li>'LoadDate'</li>\n",
       "\t<li>'spots'</li>\n",
       "\t<li>'bases'</li>\n",
       "\t<li>'spots_with_mates'</li>\n",
       "\t<li>'avgLength'</li>\n",
       "\t<li>'size_MB'</li>\n",
       "\t<li>'download_path'</li>\n",
       "\t<li>'Experiment'</li>\n",
       "\t<li>'LibraryStrategy'</li>\n",
       "\t<li>'LibrarySelection'</li>\n",
       "\t<li>'LibrarySource'</li>\n",
       "\t<li>'LibraryLayout'</li>\n",
       "\t<li>'Platform'</li>\n",
       "\t<li>'Model'</li>\n",
       "\t<li>'SRAStudy'</li>\n",
       "\t<li>'BioProject'</li>\n",
       "\t<li>'ProjectID'</li>\n",
       "\t<li>'Sample'</li>\n",
       "\t<li>'BioSample'</li>\n",
       "\t<li>'SampleType'</li>\n",
       "\t<li>'TaxID'</li>\n",
       "\t<li>'ScientificName'</li>\n",
       "\t<li>'CenterName'</li>\n",
       "\t<li>'Submission'</li>\n",
       "\t<li>'Consent'</li>\n",
       "\t<li>'RunHash'</li>\n",
       "\t<li>'ReadHash'</li>\n",
       "\t<li>'Investigator'</li>\n",
       "\t<li>'HighLevelClassification'</li>\n",
       "\t<li>'Phylum'</li>\n",
       "\t<li>'Class'</li>\n",
       "\t<li>'Order'</li>\n",
       "\t<li>'Family'</li>\n",
       "\t<li>'Genus'</li>\n",
       "\t<li>'Species'</li>\n",
       "\t<li>'Strain'</li>\n",
       "\t<li>'Input.Reads'</li>\n",
       "\t<li>'Surviving.Reads'</li>\n",
       "\t<li>'Percent.Surviving'</li>\n",
       "\t<li>'assembly.x'</li>\n",
       "\t<li>'n_seqs.x'</li>\n",
       "\t<li>'smallest.x'</li>\n",
       "\t<li>'largest.x'</li>\n",
       "\t<li>'n_bases.x'</li>\n",
       "\t<li>'mean_len.x'</li>\n",
       "\t<li>'n_under_200.x'</li>\n",
       "\t<li>'n_over_1k.x'</li>\n",
       "\t<li>'n_over_10k.x'</li>\n",
       "\t<li>'n_with_orf.x'</li>\n",
       "\t<li>'mean_orf_percent.x'</li>\n",
       "\t<li>'n90.x'</li>\n",
       "\t<li>'n70.x'</li>\n",
       "\t<li>'n50.x'</li>\n",
       "\t<li>'n30.x'</li>\n",
       "\t<li>'n10.x'</li>\n",
       "\t<li>'gc.x'</li>\n",
       "\t<li>'gc_skew.x'</li>\n",
       "\t<li>'at_skew.x'</li>\n",
       "\t<li>'cpg_ratio.x'</li>\n",
       "\t<li>'bases_n.x'</li>\n",
       "\t<li>'proportion_n.x'</li>\n",
       "\t<li>'linguistic_complexity.x'</li>\n",
       "\t<li>'fragments.x'</li>\n",
       "\t<li>'fragments_mapped.x'</li>\n",
       "\t<li>'p_fragments_mapped.x'</li>\n",
       "\t<li>'good_mappings.x'</li>\n",
       "\t<li>'p_good_mapping.x'</li>\n",
       "\t<li>'bad_mappings.x'</li>\n",
       "\t<li>'potential_bridges.x'</li>\n",
       "\t<li>'bases_uncovered.x'</li>\n",
       "\t<li>'p_bases_uncovered.x'</li>\n",
       "\t<li>'contigs_uncovbase.x'</li>\n",
       "\t<li>'p_contigs_uncovbase.x'</li>\n",
       "\t<li>'contigs_uncovered.x'</li>\n",
       "\t<li>'p_contigs_uncovered.x'</li>\n",
       "\t<li>'contigs_lowcovered.x'</li>\n",
       "\t<li>'p_contigs_lowcovered.x'</li>\n",
       "\t<li>'contigs_segmented.x'</li>\n",
       "\t<li>'p_contigs_segmented.x'</li>\n",
       "\t<li>'score.x'</li>\n",
       "\t<li>'optimal_score.x'</li>\n",
       "\t<li>'cutoff.x'</li>\n",
       "\t<li>'assembly.y'</li>\n",
       "\t<li>'n_seqs.y'</li>\n",
       "\t<li>'smallest.y'</li>\n",
       "\t<li>'largest.y'</li>\n",
       "\t<li>'n_bases.y'</li>\n",
       "\t<li>'mean_len.y'</li>\n",
       "\t<li>'n_under_200.y'</li>\n",
       "\t<li>'n_over_1k.y'</li>\n",
       "\t<li>'n_over_10k.y'</li>\n",
       "\t<li>'n_with_orf.y'</li>\n",
       "\t<li>'mean_orf_percent.y'</li>\n",
       "\t<li>'n90.y'</li>\n",
       "\t<li>'n70.y'</li>\n",
       "\t<li>'n50.y'</li>\n",
       "\t<li>'n30.y'</li>\n",
       "\t<li>'n10.y'</li>\n",
       "\t<li>'gc.y'</li>\n",
       "\t<li>'gc_skew.y'</li>\n",
       "\t<li>'at_skew.y'</li>\n",
       "\t<li>'cpg_ratio.y'</li>\n",
       "\t<li>'bases_n.y'</li>\n",
       "\t<li>'proportion_n.y'</li>\n",
       "\t<li>'linguistic_complexity.y'</li>\n",
       "\t<li>'fragments.y'</li>\n",
       "\t<li>'fragments_mapped.y'</li>\n",
       "\t<li>'p_fragments_mapped.y'</li>\n",
       "\t<li>'good_mappings.y'</li>\n",
       "\t<li>'p_good_mapping.y'</li>\n",
       "\t<li>'bad_mappings.y'</li>\n",
       "\t<li>'potential_bridges.y'</li>\n",
       "\t<li>'bases_uncovered.y'</li>\n",
       "\t<li>'p_bases_uncovered.y'</li>\n",
       "\t<li>'contigs_uncovbase.y'</li>\n",
       "\t<li>'p_contigs_uncovbase.y'</li>\n",
       "\t<li>'contigs_uncovered.y'</li>\n",
       "\t<li>'p_contigs_uncovered.y'</li>\n",
       "\t<li>'contigs_lowcovered.y'</li>\n",
       "\t<li>'p_contigs_lowcovered.y'</li>\n",
       "\t<li>'contigs_segmented.y'</li>\n",
       "\t<li>'p_contigs_segmented.y'</li>\n",
       "\t<li>'score.y'</li>\n",
       "\t<li>'optimal_score.y'</li>\n",
       "\t<li>'cutoff.y'</li>\n",
       "\t<li>'assembly.x'</li>\n",
       "\t<li>'n_seqs.x'</li>\n",
       "\t<li>'smallest.x'</li>\n",
       "\t<li>'largest.x'</li>\n",
       "\t<li>'n_bases.x'</li>\n",
       "\t<li>'mean_len.x'</li>\n",
       "\t<li>'n_under_200.x'</li>\n",
       "\t<li>'n_over_1k.x'</li>\n",
       "\t<li>'n_over_10k.x'</li>\n",
       "\t<li>'n_with_orf.x'</li>\n",
       "\t<li>'mean_orf_percent.x'</li>\n",
       "\t<li>'n90.x'</li>\n",
       "\t<li>'n70.x'</li>\n",
       "\t<li>'n50.x'</li>\n",
       "\t<li>'n30.x'</li>\n",
       "\t<li>'n10.x'</li>\n",
       "\t<li>'gc.x'</li>\n",
       "\t<li>'gc_skew.x'</li>\n",
       "\t<li>'at_skew.x'</li>\n",
       "\t<li>'cpg_ratio.x'</li>\n",
       "\t<li>'bases_n.x'</li>\n",
       "\t<li>'proportion_n.x'</li>\n",
       "\t<li>'linguistic_complexity.x'</li>\n",
       "\t<li>'fragments'</li>\n",
       "\t<li>'fragments_mapped'</li>\n",
       "\t<li>'p_fragments_mapped'</li>\n",
       "\t<li>'good_mappings'</li>\n",
       "\t<li>'p_good_mapping'</li>\n",
       "\t<li>'bad_mappings'</li>\n",
       "\t<li>'potential_bridges'</li>\n",
       "\t<li>'bases_uncovered'</li>\n",
       "\t<li>'p_bases_uncovered'</li>\n",
       "\t<li>'contigs_uncovbase'</li>\n",
       "\t<li>'p_contigs_uncovbase'</li>\n",
       "\t<li>'contigs_uncovered'</li>\n",
       "\t<li>'p_contigs_uncovered'</li>\n",
       "\t<li>'contigs_lowcovered'</li>\n",
       "\t<li>'p_contigs_lowcovered'</li>\n",
       "\t<li>'contigs_segmented'</li>\n",
       "\t<li>'p_contigs_segmented'</li>\n",
       "\t<li>'score.x'</li>\n",
       "\t<li>'optimal_score.x'</li>\n",
       "\t<li>'cutoff.x'</li>\n",
       "\t<li>'assembly.y'</li>\n",
       "\t<li>'n_seqs.y'</li>\n",
       "\t<li>'smallest.y'</li>\n",
       "\t<li>'largest.y'</li>\n",
       "\t<li>'n_bases.y'</li>\n",
       "\t<li>'mean_len.y'</li>\n",
       "\t<li>'n_under_200.y'</li>\n",
       "\t<li>'n_over_1k.y'</li>\n",
       "\t<li>'n_over_10k.y'</li>\n",
       "\t<li>'n_with_orf.y'</li>\n",
       "\t<li>'mean_orf_percent.y'</li>\n",
       "\t<li>'n90.y'</li>\n",
       "\t<li>'n70.y'</li>\n",
       "\t<li>'n50.y'</li>\n",
       "\t<li>'n30.y'</li>\n",
       "\t<li>'n10.y'</li>\n",
       "\t<li>'gc.y'</li>\n",
       "\t<li>'gc_skew.y'</li>\n",
       "\t<li>'at_skew.y'</li>\n",
       "\t<li>'cpg_ratio.y'</li>\n",
       "\t<li>'bases_n.y'</li>\n",
       "\t<li>'proportion_n.y'</li>\n",
       "\t<li>'linguistic_complexity.y'</li>\n",
       "\t<li>'CRBB_hits.x'</li>\n",
       "\t<li>'n_contigs_with_CRBB.x'</li>\n",
       "\t<li>'p_contigs_with_CRBB.x'</li>\n",
       "\t<li>'rbh_per_reference.x'</li>\n",
       "\t<li>'n_refs_with_CRBB.x'</li>\n",
       "\t<li>'p_refs_with_CRBB.x'</li>\n",
       "\t<li>'cov25.x'</li>\n",
       "\t<li>'p_cov25.x'</li>\n",
       "\t<li>'cov50.x'</li>\n",
       "\t<li>'p_cov50.x'</li>\n",
       "\t<li>'cov75.x'</li>\n",
       "\t<li>'p_cov75.x'</li>\n",
       "\t<li>'cov85.x'</li>\n",
       "\t<li>'p_cov85.x'</li>\n",
       "\t<li>'cov95.x'</li>\n",
       "\t<li>'p_cov95.x'</li>\n",
       "\t<li>'reference_coverage.x'</li>\n",
       "\t<li>'score.y'</li>\n",
       "\t<li>'optimal_score.y'</li>\n",
       "\t<li>'cutoff.y'</li>\n",
       "\t<li>'Run.y'</li>\n",
       "\t<li>'assembly'</li>\n",
       "\t<li>'n_seqs'</li>\n",
       "\t<li>'smallest'</li>\n",
       "\t<li>'largest'</li>\n",
       "\t<li>'n_bases'</li>\n",
       "\t<li>'mean_len'</li>\n",
       "\t<li>'n_under_200'</li>\n",
       "\t<li>'n_over_1k'</li>\n",
       "\t<li>'n_over_10k'</li>\n",
       "\t<li>'n_with_orf'</li>\n",
       "\t<li>'mean_orf_percent'</li>\n",
       "\t<li>'n90'</li>\n",
       "\t<li>'n70'</li>\n",
       "\t<li>'n50'</li>\n",
       "\t<li>'n30'</li>\n",
       "\t<li>'n10'</li>\n",
       "\t<li>'gc'</li>\n",
       "\t<li>'gc_skew'</li>\n",
       "\t<li>'at_skew'</li>\n",
       "\t<li>'cpg_ratio'</li>\n",
       "\t<li>'bases_n'</li>\n",
       "\t<li>'proportion_n'</li>\n",
       "\t<li>'linguistic_complexity'</li>\n",
       "\t<li>'CRBB_hits.y'</li>\n",
       "\t<li>'n_contigs_with_CRBB.y'</li>\n",
       "\t<li>'p_contigs_with_CRBB.y'</li>\n",
       "\t<li>'rbh_per_reference.y'</li>\n",
       "\t<li>'n_refs_with_CRBB.y'</li>\n",
       "\t<li>'p_refs_with_CRBB.y'</li>\n",
       "\t<li>'cov25.y'</li>\n",
       "\t<li>'p_cov25.y'</li>\n",
       "\t<li>'cov50.y'</li>\n",
       "\t<li>'p_cov50.y'</li>\n",
       "\t<li>'cov75.y'</li>\n",
       "\t<li>'p_cov75.y'</li>\n",
       "\t<li>'cov85.y'</li>\n",
       "\t<li>'p_cov85.y'</li>\n",
       "\t<li>'cov95.y'</li>\n",
       "\t<li>'p_cov95.y'</li>\n",
       "\t<li>'reference_coverage.y'</li>\n",
       "\t<li>'score'</li>\n",
       "\t<li>'optimal_score'</li>\n",
       "\t<li>'cutoff'</li>\n",
       "\t<li>'Run'</li>\n",
       "\t<li>'DIB.Complete_eukaryotic'</li>\n",
       "\t<li>'DIB.Fragmented_eukaryotic'</li>\n",
       "\t<li>'DIB.Missing_eukaryotic'</li>\n",
       "\t<li>'DIB.Total_eukaryotic'</li>\n",
       "\t<li>'DIB.Complete_eukaryotic_BUSCO_prop'</li>\n",
       "\t<li>'DIB.Complete_eukaryotic_BUSCO_perc'</li>\n",
       "\t<li>'DIB.Complete_protist'</li>\n",
       "\t<li>'DIB.Fragmented_protist'</li>\n",
       "\t<li>'DIB.Missing_protist'</li>\n",
       "\t<li>'DIB.Total_protist'</li>\n",
       "\t<li>'DIB.Complete_protist_BUSCO_prop'</li>\n",
       "\t<li>'NCGR.Complete_eukaryotic'</li>\n",
       "\t<li>'NCGR.Fragmented_eukaryotic'</li>\n",
       "\t<li>'NCGR.Missing_eukaryotic'</li>\n",
       "\t<li>'NCGR.Total_eukaryotic'</li>\n",
       "\t<li>'NCGR.Complete_eukaryotic_BUSCO_prop'</li>\n",
       "\t<li>'NCGR.Complete_eukaryotic_BUSCO_perc'</li>\n",
       "\t<li>'NCGR.Complete_protist'</li>\n",
       "\t<li>'NCGR.Fragmented_protist'</li>\n",
       "\t<li>'NCGR.Missing_protist'</li>\n",
       "\t<li>'NCGR.Total_protist'</li>\n",
       "\t<li>'NCGR.Complete_protist_BUSCO_prop'</li>\n",
       "\t<li>'dib_assembly_unique_kmers'</li>\n",
       "\t<li>'ncgr_assembly_unique_kmers'</li>\n",
       "\t<li>'num_reads_kept_diginorm'</li>\n",
       "\t<li>'total_reads_before_diginorm'</li>\n",
       "\t<li>'perc_kept_diginorm'</li>\n",
       "\t<li>'num_kmers_reads_diginorm'</li>\n",
       "\t<li>'fp_rate_diginorm'</li>\n",
       "\t<li>'DIB.Complete_euk_v3'</li>\n",
       "\t<li>'DIB.Fragmented_euk_v3'</li>\n",
       "\t<li>'DIB.Missing_euk_v3'</li>\n",
       "\t<li>'DIB.Total_euk_v3'</li>\n",
       "\t<li>'DIB.Complete_BUSCO_prop_euk_v3'</li>\n",
       "\t<li>'DIB.Complete_BUSCO_perc_euk_v3'</li>\n",
       "\t<li>'DIB.Complete_protist_v3'</li>\n",
       "\t<li>'DIB.Fragmented_protist_v3'</li>\n",
       "\t<li>'DIB.Missing_protist_v3'</li>\n",
       "\t<li>'DIB.Total_protist_v3'</li>\n",
       "\t<li>'DIB.Complete_BUSCO_prop_protist_v3'</li>\n",
       "\t<li>'DIB.Complete_BUSCO_perc_protist_v3'</li>\n",
       "\t<li>'NCGR.Complete_euk_v3'</li>\n",
       "\t<li>'NCGR.Fragmented_euk_v3'</li>\n",
       "\t<li>'NCGR.Missing_euk_v3'</li>\n",
       "\t<li>'NCGR.Total_euk_v3'</li>\n",
       "\t<li>'NCGR.Complete_BUSCO_prop_euk_v3'</li>\n",
       "\t<li>'NCGR.Complete_BUSCO_perc_euk_v3'</li>\n",
       "\t<li>'NCGR.Complete_protist_v3'</li>\n",
       "\t<li>'NCGR.Fragmented_protist_v3'</li>\n",
       "\t<li>'NCGR.Missing_protist_v3'</li>\n",
       "\t<li>'NCGR.Total_protist_v3'</li>\n",
       "\t<li>'NCGR.Complete_BUSCO_prop_protist_v3'</li>\n",
       "\t<li>'NCGR.Complete_BUSCO_perc_protist_v3'</li>\n",
       "</ol>\n"
      ],
      "text/latex": [
       "\\begin{enumerate*}\n",
       "\\item 'SampleName'\n",
       "\\item 'Run.x'\n",
       "\\item 'ReleaseDate'\n",
       "\\item 'LoadDate'\n",
       "\\item 'spots'\n",
       "\\item 'bases'\n",
       "\\item 'spots\\_with\\_mates'\n",
       "\\item 'avgLength'\n",
       "\\item 'size\\_MB'\n",
       "\\item 'download\\_path'\n",
       "\\item 'Experiment'\n",
       "\\item 'LibraryStrategy'\n",
       "\\item 'LibrarySelection'\n",
       "\\item 'LibrarySource'\n",
       "\\item 'LibraryLayout'\n",
       "\\item 'Platform'\n",
       "\\item 'Model'\n",
       "\\item 'SRAStudy'\n",
       "\\item 'BioProject'\n",
       "\\item 'ProjectID'\n",
       "\\item 'Sample'\n",
       "\\item 'BioSample'\n",
       "\\item 'SampleType'\n",
       "\\item 'TaxID'\n",
       "\\item 'ScientificName'\n",
       "\\item 'CenterName'\n",
       "\\item 'Submission'\n",
       "\\item 'Consent'\n",
       "\\item 'RunHash'\n",
       "\\item 'ReadHash'\n",
       "\\item 'Investigator'\n",
       "\\item 'HighLevelClassification'\n",
       "\\item 'Phylum'\n",
       "\\item 'Class'\n",
       "\\item 'Order'\n",
       "\\item 'Family'\n",
       "\\item 'Genus'\n",
       "\\item 'Species'\n",
       "\\item 'Strain'\n",
       "\\item 'Input.Reads'\n",
       "\\item 'Surviving.Reads'\n",
       "\\item 'Percent.Surviving'\n",
       "\\item 'assembly.x'\n",
       "\\item 'n\\_seqs.x'\n",
       "\\item 'smallest.x'\n",
       "\\item 'largest.x'\n",
       "\\item 'n\\_bases.x'\n",
       "\\item 'mean\\_len.x'\n",
       "\\item 'n\\_under\\_200.x'\n",
       "\\item 'n\\_over\\_1k.x'\n",
       "\\item 'n\\_over\\_10k.x'\n",
       "\\item 'n\\_with\\_orf.x'\n",
       "\\item 'mean\\_orf\\_percent.x'\n",
       "\\item 'n90.x'\n",
       "\\item 'n70.x'\n",
       "\\item 'n50.x'\n",
       "\\item 'n30.x'\n",
       "\\item 'n10.x'\n",
       "\\item 'gc.x'\n",
       "\\item 'gc\\_skew.x'\n",
       "\\item 'at\\_skew.x'\n",
       "\\item 'cpg\\_ratio.x'\n",
       "\\item 'bases\\_n.x'\n",
       "\\item 'proportion\\_n.x'\n",
       "\\item 'linguistic\\_complexity.x'\n",
       "\\item 'fragments.x'\n",
       "\\item 'fragments\\_mapped.x'\n",
       "\\item 'p\\_fragments\\_mapped.x'\n",
       "\\item 'good\\_mappings.x'\n",
       "\\item 'p\\_good\\_mapping.x'\n",
       "\\item 'bad\\_mappings.x'\n",
       "\\item 'potential\\_bridges.x'\n",
       "\\item 'bases\\_uncovered.x'\n",
       "\\item 'p\\_bases\\_uncovered.x'\n",
       "\\item 'contigs\\_uncovbase.x'\n",
       "\\item 'p\\_contigs\\_uncovbase.x'\n",
       "\\item 'contigs\\_uncovered.x'\n",
       "\\item 'p\\_contigs\\_uncovered.x'\n",
       "\\item 'contigs\\_lowcovered.x'\n",
       "\\item 'p\\_contigs\\_lowcovered.x'\n",
       "\\item 'contigs\\_segmented.x'\n",
       "\\item 'p\\_contigs\\_segmented.x'\n",
       "\\item 'score.x'\n",
       "\\item 'optimal\\_score.x'\n",
       "\\item 'cutoff.x'\n",
       "\\item 'assembly.y'\n",
       "\\item 'n\\_seqs.y'\n",
       "\\item 'smallest.y'\n",
       "\\item 'largest.y'\n",
       "\\item 'n\\_bases.y'\n",
       "\\item 'mean\\_len.y'\n",
       "\\item 'n\\_under\\_200.y'\n",
       "\\item 'n\\_over\\_1k.y'\n",
       "\\item 'n\\_over\\_10k.y'\n",
       "\\item 'n\\_with\\_orf.y'\n",
       "\\item 'mean\\_orf\\_percent.y'\n",
       "\\item 'n90.y'\n",
       "\\item 'n70.y'\n",
       "\\item 'n50.y'\n",
       "\\item 'n30.y'\n",
       "\\item 'n10.y'\n",
       "\\item 'gc.y'\n",
       "\\item 'gc\\_skew.y'\n",
       "\\item 'at\\_skew.y'\n",
       "\\item 'cpg\\_ratio.y'\n",
       "\\item 'bases\\_n.y'\n",
       "\\item 'proportion\\_n.y'\n",
       "\\item 'linguistic\\_complexity.y'\n",
       "\\item 'fragments.y'\n",
       "\\item 'fragments\\_mapped.y'\n",
       "\\item 'p\\_fragments\\_mapped.y'\n",
       "\\item 'good\\_mappings.y'\n",
       "\\item 'p\\_good\\_mapping.y'\n",
       "\\item 'bad\\_mappings.y'\n",
       "\\item 'potential\\_bridges.y'\n",
       "\\item 'bases\\_uncovered.y'\n",
       "\\item 'p\\_bases\\_uncovered.y'\n",
       "\\item 'contigs\\_uncovbase.y'\n",
       "\\item 'p\\_contigs\\_uncovbase.y'\n",
       "\\item 'contigs\\_uncovered.y'\n",
       "\\item 'p\\_contigs\\_uncovered.y'\n",
       "\\item 'contigs\\_lowcovered.y'\n",
       "\\item 'p\\_contigs\\_lowcovered.y'\n",
       "\\item 'contigs\\_segmented.y'\n",
       "\\item 'p\\_contigs\\_segmented.y'\n",
       "\\item 'score.y'\n",
       "\\item 'optimal\\_score.y'\n",
       "\\item 'cutoff.y'\n",
       "\\item 'assembly.x'\n",
       "\\item 'n\\_seqs.x'\n",
       "\\item 'smallest.x'\n",
       "\\item 'largest.x'\n",
       "\\item 'n\\_bases.x'\n",
       "\\item 'mean\\_len.x'\n",
       "\\item 'n\\_under\\_200.x'\n",
       "\\item 'n\\_over\\_1k.x'\n",
       "\\item 'n\\_over\\_10k.x'\n",
       "\\item 'n\\_with\\_orf.x'\n",
       "\\item 'mean\\_orf\\_percent.x'\n",
       "\\item 'n90.x'\n",
       "\\item 'n70.x'\n",
       "\\item 'n50.x'\n",
       "\\item 'n30.x'\n",
       "\\item 'n10.x'\n",
       "\\item 'gc.x'\n",
       "\\item 'gc\\_skew.x'\n",
       "\\item 'at\\_skew.x'\n",
       "\\item 'cpg\\_ratio.x'\n",
       "\\item 'bases\\_n.x'\n",
       "\\item 'proportion\\_n.x'\n",
       "\\item 'linguistic\\_complexity.x'\n",
       "\\item 'fragments'\n",
       "\\item 'fragments\\_mapped'\n",
       "\\item 'p\\_fragments\\_mapped'\n",
       "\\item 'good\\_mappings'\n",
       "\\item 'p\\_good\\_mapping'\n",
       "\\item 'bad\\_mappings'\n",
       "\\item 'potential\\_bridges'\n",
       "\\item 'bases\\_uncovered'\n",
       "\\item 'p\\_bases\\_uncovered'\n",
       "\\item 'contigs\\_uncovbase'\n",
       "\\item 'p\\_contigs\\_uncovbase'\n",
       "\\item 'contigs\\_uncovered'\n",
       "\\item 'p\\_contigs\\_uncovered'\n",
       "\\item 'contigs\\_lowcovered'\n",
       "\\item 'p\\_contigs\\_lowcovered'\n",
       "\\item 'contigs\\_segmented'\n",
       "\\item 'p\\_contigs\\_segmented'\n",
       "\\item 'score.x'\n",
       "\\item 'optimal\\_score.x'\n",
       "\\item 'cutoff.x'\n",
       "\\item 'assembly.y'\n",
       "\\item 'n\\_seqs.y'\n",
       "\\item 'smallest.y'\n",
       "\\item 'largest.y'\n",
       "\\item 'n\\_bases.y'\n",
       "\\item 'mean\\_len.y'\n",
       "\\item 'n\\_under\\_200.y'\n",
       "\\item 'n\\_over\\_1k.y'\n",
       "\\item 'n\\_over\\_10k.y'\n",
       "\\item 'n\\_with\\_orf.y'\n",
       "\\item 'mean\\_orf\\_percent.y'\n",
       "\\item 'n90.y'\n",
       "\\item 'n70.y'\n",
       "\\item 'n50.y'\n",
       "\\item 'n30.y'\n",
       "\\item 'n10.y'\n",
       "\\item 'gc.y'\n",
       "\\item 'gc\\_skew.y'\n",
       "\\item 'at\\_skew.y'\n",
       "\\item 'cpg\\_ratio.y'\n",
       "\\item 'bases\\_n.y'\n",
       "\\item 'proportion\\_n.y'\n",
       "\\item 'linguistic\\_complexity.y'\n",
       "\\item 'CRBB\\_hits.x'\n",
       "\\item 'n\\_contigs\\_with\\_CRBB.x'\n",
       "\\item 'p\\_contigs\\_with\\_CRBB.x'\n",
       "\\item 'rbh\\_per\\_reference.x'\n",
       "\\item 'n\\_refs\\_with\\_CRBB.x'\n",
       "\\item 'p\\_refs\\_with\\_CRBB.x'\n",
       "\\item 'cov25.x'\n",
       "\\item 'p\\_cov25.x'\n",
       "\\item 'cov50.x'\n",
       "\\item 'p\\_cov50.x'\n",
       "\\item 'cov75.x'\n",
       "\\item 'p\\_cov75.x'\n",
       "\\item 'cov85.x'\n",
       "\\item 'p\\_cov85.x'\n",
       "\\item 'cov95.x'\n",
       "\\item 'p\\_cov95.x'\n",
       "\\item 'reference\\_coverage.x'\n",
       "\\item 'score.y'\n",
       "\\item 'optimal\\_score.y'\n",
       "\\item 'cutoff.y'\n",
       "\\item 'Run.y'\n",
       "\\item 'assembly'\n",
       "\\item 'n\\_seqs'\n",
       "\\item 'smallest'\n",
       "\\item 'largest'\n",
       "\\item 'n\\_bases'\n",
       "\\item 'mean\\_len'\n",
       "\\item 'n\\_under\\_200'\n",
       "\\item 'n\\_over\\_1k'\n",
       "\\item 'n\\_over\\_10k'\n",
       "\\item 'n\\_with\\_orf'\n",
       "\\item 'mean\\_orf\\_percent'\n",
       "\\item 'n90'\n",
       "\\item 'n70'\n",
       "\\item 'n50'\n",
       "\\item 'n30'\n",
       "\\item 'n10'\n",
       "\\item 'gc'\n",
       "\\item 'gc\\_skew'\n",
       "\\item 'at\\_skew'\n",
       "\\item 'cpg\\_ratio'\n",
       "\\item 'bases\\_n'\n",
       "\\item 'proportion\\_n'\n",
       "\\item 'linguistic\\_complexity'\n",
       "\\item 'CRBB\\_hits.y'\n",
       "\\item 'n\\_contigs\\_with\\_CRBB.y'\n",
       "\\item 'p\\_contigs\\_with\\_CRBB.y'\n",
       "\\item 'rbh\\_per\\_reference.y'\n",
       "\\item 'n\\_refs\\_with\\_CRBB.y'\n",
       "\\item 'p\\_refs\\_with\\_CRBB.y'\n",
       "\\item 'cov25.y'\n",
       "\\item 'p\\_cov25.y'\n",
       "\\item 'cov50.y'\n",
       "\\item 'p\\_cov50.y'\n",
       "\\item 'cov75.y'\n",
       "\\item 'p\\_cov75.y'\n",
       "\\item 'cov85.y'\n",
       "\\item 'p\\_cov85.y'\n",
       "\\item 'cov95.y'\n",
       "\\item 'p\\_cov95.y'\n",
       "\\item 'reference\\_coverage.y'\n",
       "\\item 'score'\n",
       "\\item 'optimal\\_score'\n",
       "\\item 'cutoff'\n",
       "\\item 'Run'\n",
       "\\item 'DIB.Complete\\_eukaryotic'\n",
       "\\item 'DIB.Fragmented\\_eukaryotic'\n",
       "\\item 'DIB.Missing\\_eukaryotic'\n",
       "\\item 'DIB.Total\\_eukaryotic'\n",
       "\\item 'DIB.Complete\\_eukaryotic\\_BUSCO\\_prop'\n",
       "\\item 'DIB.Complete\\_eukaryotic\\_BUSCO\\_perc'\n",
       "\\item 'DIB.Complete\\_protist'\n",
       "\\item 'DIB.Fragmented\\_protist'\n",
       "\\item 'DIB.Missing\\_protist'\n",
       "\\item 'DIB.Total\\_protist'\n",
       "\\item 'DIB.Complete\\_protist\\_BUSCO\\_prop'\n",
       "\\item 'NCGR.Complete\\_eukaryotic'\n",
       "\\item 'NCGR.Fragmented\\_eukaryotic'\n",
       "\\item 'NCGR.Missing\\_eukaryotic'\n",
       "\\item 'NCGR.Total\\_eukaryotic'\n",
       "\\item 'NCGR.Complete\\_eukaryotic\\_BUSCO\\_prop'\n",
       "\\item 'NCGR.Complete\\_eukaryotic\\_BUSCO\\_perc'\n",
       "\\item 'NCGR.Complete\\_protist'\n",
       "\\item 'NCGR.Fragmented\\_protist'\n",
       "\\item 'NCGR.Missing\\_protist'\n",
       "\\item 'NCGR.Total\\_protist'\n",
       "\\item 'NCGR.Complete\\_protist\\_BUSCO\\_prop'\n",
       "\\item 'dib\\_assembly\\_unique\\_kmers'\n",
       "\\item 'ncgr\\_assembly\\_unique\\_kmers'\n",
       "\\item 'num\\_reads\\_kept\\_diginorm'\n",
       "\\item 'total\\_reads\\_before\\_diginorm'\n",
       "\\item 'perc\\_kept\\_diginorm'\n",
       "\\item 'num\\_kmers\\_reads\\_diginorm'\n",
       "\\item 'fp\\_rate\\_diginorm'\n",
       "\\item 'DIB.Complete\\_euk\\_v3'\n",
       "\\item 'DIB.Fragmented\\_euk\\_v3'\n",
       "\\item 'DIB.Missing\\_euk\\_v3'\n",
       "\\item 'DIB.Total\\_euk\\_v3'\n",
       "\\item 'DIB.Complete\\_BUSCO\\_prop\\_euk\\_v3'\n",
       "\\item 'DIB.Complete\\_BUSCO\\_perc\\_euk\\_v3'\n",
       "\\item 'DIB.Complete\\_protist\\_v3'\n",
       "\\item 'DIB.Fragmented\\_protist\\_v3'\n",
       "\\item 'DIB.Missing\\_protist\\_v3'\n",
       "\\item 'DIB.Total\\_protist\\_v3'\n",
       "\\item 'DIB.Complete\\_BUSCO\\_prop\\_protist\\_v3'\n",
       "\\item 'DIB.Complete\\_BUSCO\\_perc\\_protist\\_v3'\n",
       "\\item 'NCGR.Complete\\_euk\\_v3'\n",
       "\\item 'NCGR.Fragmented\\_euk\\_v3'\n",
       "\\item 'NCGR.Missing\\_euk\\_v3'\n",
       "\\item 'NCGR.Total\\_euk\\_v3'\n",
       "\\item 'NCGR.Complete\\_BUSCO\\_prop\\_euk\\_v3'\n",
       "\\item 'NCGR.Complete\\_BUSCO\\_perc\\_euk\\_v3'\n",
       "\\item 'NCGR.Complete\\_protist\\_v3'\n",
       "\\item 'NCGR.Fragmented\\_protist\\_v3'\n",
       "\\item 'NCGR.Missing\\_protist\\_v3'\n",
       "\\item 'NCGR.Total\\_protist\\_v3'\n",
       "\\item 'NCGR.Complete\\_BUSCO\\_prop\\_protist\\_v3'\n",
       "\\item 'NCGR.Complete\\_BUSCO\\_perc\\_protist\\_v3'\n",
       "\\end{enumerate*}\n"
      ],
      "text/markdown": [
       "1. 'SampleName'\n",
       "2. 'Run.x'\n",
       "3. 'ReleaseDate'\n",
       "4. 'LoadDate'\n",
       "5. 'spots'\n",
       "6. 'bases'\n",
       "7. 'spots_with_mates'\n",
       "8. 'avgLength'\n",
       "9. 'size_MB'\n",
       "10. 'download_path'\n",
       "11. 'Experiment'\n",
       "12. 'LibraryStrategy'\n",
       "13. 'LibrarySelection'\n",
       "14. 'LibrarySource'\n",
       "15. 'LibraryLayout'\n",
       "16. 'Platform'\n",
       "17. 'Model'\n",
       "18. 'SRAStudy'\n",
       "19. 'BioProject'\n",
       "20. 'ProjectID'\n",
       "21. 'Sample'\n",
       "22. 'BioSample'\n",
       "23. 'SampleType'\n",
       "24. 'TaxID'\n",
       "25. 'ScientificName'\n",
       "26. 'CenterName'\n",
       "27. 'Submission'\n",
       "28. 'Consent'\n",
       "29. 'RunHash'\n",
       "30. 'ReadHash'\n",
       "31. 'Investigator'\n",
       "32. 'HighLevelClassification'\n",
       "33. 'Phylum'\n",
       "34. 'Class'\n",
       "35. 'Order'\n",
       "36. 'Family'\n",
       "37. 'Genus'\n",
       "38. 'Species'\n",
       "39. 'Strain'\n",
       "40. 'Input.Reads'\n",
       "41. 'Surviving.Reads'\n",
       "42. 'Percent.Surviving'\n",
       "43. 'assembly.x'\n",
       "44. 'n_seqs.x'\n",
       "45. 'smallest.x'\n",
       "46. 'largest.x'\n",
       "47. 'n_bases.x'\n",
       "48. 'mean_len.x'\n",
       "49. 'n_under_200.x'\n",
       "50. 'n_over_1k.x'\n",
       "51. 'n_over_10k.x'\n",
       "52. 'n_with_orf.x'\n",
       "53. 'mean_orf_percent.x'\n",
       "54. 'n90.x'\n",
       "55. 'n70.x'\n",
       "56. 'n50.x'\n",
       "57. 'n30.x'\n",
       "58. 'n10.x'\n",
       "59. 'gc.x'\n",
       "60. 'gc_skew.x'\n",
       "61. 'at_skew.x'\n",
       "62. 'cpg_ratio.x'\n",
       "63. 'bases_n.x'\n",
       "64. 'proportion_n.x'\n",
       "65. 'linguistic_complexity.x'\n",
       "66. 'fragments.x'\n",
       "67. 'fragments_mapped.x'\n",
       "68. 'p_fragments_mapped.x'\n",
       "69. 'good_mappings.x'\n",
       "70. 'p_good_mapping.x'\n",
       "71. 'bad_mappings.x'\n",
       "72. 'potential_bridges.x'\n",
       "73. 'bases_uncovered.x'\n",
       "74. 'p_bases_uncovered.x'\n",
       "75. 'contigs_uncovbase.x'\n",
       "76. 'p_contigs_uncovbase.x'\n",
       "77. 'contigs_uncovered.x'\n",
       "78. 'p_contigs_uncovered.x'\n",
       "79. 'contigs_lowcovered.x'\n",
       "80. 'p_contigs_lowcovered.x'\n",
       "81. 'contigs_segmented.x'\n",
       "82. 'p_contigs_segmented.x'\n",
       "83. 'score.x'\n",
       "84. 'optimal_score.x'\n",
       "85. 'cutoff.x'\n",
       "86. 'assembly.y'\n",
       "87. 'n_seqs.y'\n",
       "88. 'smallest.y'\n",
       "89. 'largest.y'\n",
       "90. 'n_bases.y'\n",
       "91. 'mean_len.y'\n",
       "92. 'n_under_200.y'\n",
       "93. 'n_over_1k.y'\n",
       "94. 'n_over_10k.y'\n",
       "95. 'n_with_orf.y'\n",
       "96. 'mean_orf_percent.y'\n",
       "97. 'n90.y'\n",
       "98. 'n70.y'\n",
       "99. 'n50.y'\n",
       "100. 'n30.y'\n",
       "101. 'n10.y'\n",
       "102. 'gc.y'\n",
       "103. 'gc_skew.y'\n",
       "104. 'at_skew.y'\n",
       "105. 'cpg_ratio.y'\n",
       "106. 'bases_n.y'\n",
       "107. 'proportion_n.y'\n",
       "108. 'linguistic_complexity.y'\n",
       "109. 'fragments.y'\n",
       "110. 'fragments_mapped.y'\n",
       "111. 'p_fragments_mapped.y'\n",
       "112. 'good_mappings.y'\n",
       "113. 'p_good_mapping.y'\n",
       "114. 'bad_mappings.y'\n",
       "115. 'potential_bridges.y'\n",
       "116. 'bases_uncovered.y'\n",
       "117. 'p_bases_uncovered.y'\n",
       "118. 'contigs_uncovbase.y'\n",
       "119. 'p_contigs_uncovbase.y'\n",
       "120. 'contigs_uncovered.y'\n",
       "121. 'p_contigs_uncovered.y'\n",
       "122. 'contigs_lowcovered.y'\n",
       "123. 'p_contigs_lowcovered.y'\n",
       "124. 'contigs_segmented.y'\n",
       "125. 'p_contigs_segmented.y'\n",
       "126. 'score.y'\n",
       "127. 'optimal_score.y'\n",
       "128. 'cutoff.y'\n",
       "129. 'assembly.x'\n",
       "130. 'n_seqs.x'\n",
       "131. 'smallest.x'\n",
       "132. 'largest.x'\n",
       "133. 'n_bases.x'\n",
       "134. 'mean_len.x'\n",
       "135. 'n_under_200.x'\n",
       "136. 'n_over_1k.x'\n",
       "137. 'n_over_10k.x'\n",
       "138. 'n_with_orf.x'\n",
       "139. 'mean_orf_percent.x'\n",
       "140. 'n90.x'\n",
       "141. 'n70.x'\n",
       "142. 'n50.x'\n",
       "143. 'n30.x'\n",
       "144. 'n10.x'\n",
       "145. 'gc.x'\n",
       "146. 'gc_skew.x'\n",
       "147. 'at_skew.x'\n",
       "148. 'cpg_ratio.x'\n",
       "149. 'bases_n.x'\n",
       "150. 'proportion_n.x'\n",
       "151. 'linguistic_complexity.x'\n",
       "152. 'fragments'\n",
       "153. 'fragments_mapped'\n",
       "154. 'p_fragments_mapped'\n",
       "155. 'good_mappings'\n",
       "156. 'p_good_mapping'\n",
       "157. 'bad_mappings'\n",
       "158. 'potential_bridges'\n",
       "159. 'bases_uncovered'\n",
       "160. 'p_bases_uncovered'\n",
       "161. 'contigs_uncovbase'\n",
       "162. 'p_contigs_uncovbase'\n",
       "163. 'contigs_uncovered'\n",
       "164. 'p_contigs_uncovered'\n",
       "165. 'contigs_lowcovered'\n",
       "166. 'p_contigs_lowcovered'\n",
       "167. 'contigs_segmented'\n",
       "168. 'p_contigs_segmented'\n",
       "169. 'score.x'\n",
       "170. 'optimal_score.x'\n",
       "171. 'cutoff.x'\n",
       "172. 'assembly.y'\n",
       "173. 'n_seqs.y'\n",
       "174. 'smallest.y'\n",
       "175. 'largest.y'\n",
       "176. 'n_bases.y'\n",
       "177. 'mean_len.y'\n",
       "178. 'n_under_200.y'\n",
       "179. 'n_over_1k.y'\n",
       "180. 'n_over_10k.y'\n",
       "181. 'n_with_orf.y'\n",
       "182. 'mean_orf_percent.y'\n",
       "183. 'n90.y'\n",
       "184. 'n70.y'\n",
       "185. 'n50.y'\n",
       "186. 'n30.y'\n",
       "187. 'n10.y'\n",
       "188. 'gc.y'\n",
       "189. 'gc_skew.y'\n",
       "190. 'at_skew.y'\n",
       "191. 'cpg_ratio.y'\n",
       "192. 'bases_n.y'\n",
       "193. 'proportion_n.y'\n",
       "194. 'linguistic_complexity.y'\n",
       "195. 'CRBB_hits.x'\n",
       "196. 'n_contigs_with_CRBB.x'\n",
       "197. 'p_contigs_with_CRBB.x'\n",
       "198. 'rbh_per_reference.x'\n",
       "199. 'n_refs_with_CRBB.x'\n",
       "200. 'p_refs_with_CRBB.x'\n",
       "201. 'cov25.x'\n",
       "202. 'p_cov25.x'\n",
       "203. 'cov50.x'\n",
       "204. 'p_cov50.x'\n",
       "205. 'cov75.x'\n",
       "206. 'p_cov75.x'\n",
       "207. 'cov85.x'\n",
       "208. 'p_cov85.x'\n",
       "209. 'cov95.x'\n",
       "210. 'p_cov95.x'\n",
       "211. 'reference_coverage.x'\n",
       "212. 'score.y'\n",
       "213. 'optimal_score.y'\n",
       "214. 'cutoff.y'\n",
       "215. 'Run.y'\n",
       "216. 'assembly'\n",
       "217. 'n_seqs'\n",
       "218. 'smallest'\n",
       "219. 'largest'\n",
       "220. 'n_bases'\n",
       "221. 'mean_len'\n",
       "222. 'n_under_200'\n",
       "223. 'n_over_1k'\n",
       "224. 'n_over_10k'\n",
       "225. 'n_with_orf'\n",
       "226. 'mean_orf_percent'\n",
       "227. 'n90'\n",
       "228. 'n70'\n",
       "229. 'n50'\n",
       "230. 'n30'\n",
       "231. 'n10'\n",
       "232. 'gc'\n",
       "233. 'gc_skew'\n",
       "234. 'at_skew'\n",
       "235. 'cpg_ratio'\n",
       "236. 'bases_n'\n",
       "237. 'proportion_n'\n",
       "238. 'linguistic_complexity'\n",
       "239. 'CRBB_hits.y'\n",
       "240. 'n_contigs_with_CRBB.y'\n",
       "241. 'p_contigs_with_CRBB.y'\n",
       "242. 'rbh_per_reference.y'\n",
       "243. 'n_refs_with_CRBB.y'\n",
       "244. 'p_refs_with_CRBB.y'\n",
       "245. 'cov25.y'\n",
       "246. 'p_cov25.y'\n",
       "247. 'cov50.y'\n",
       "248. 'p_cov50.y'\n",
       "249. 'cov75.y'\n",
       "250. 'p_cov75.y'\n",
       "251. 'cov85.y'\n",
       "252. 'p_cov85.y'\n",
       "253. 'cov95.y'\n",
       "254. 'p_cov95.y'\n",
       "255. 'reference_coverage.y'\n",
       "256. 'score'\n",
       "257. 'optimal_score'\n",
       "258. 'cutoff'\n",
       "259. 'Run'\n",
       "260. 'DIB.Complete_eukaryotic'\n",
       "261. 'DIB.Fragmented_eukaryotic'\n",
       "262. 'DIB.Missing_eukaryotic'\n",
       "263. 'DIB.Total_eukaryotic'\n",
       "264. 'DIB.Complete_eukaryotic_BUSCO_prop'\n",
       "265. 'DIB.Complete_eukaryotic_BUSCO_perc'\n",
       "266. 'DIB.Complete_protist'\n",
       "267. 'DIB.Fragmented_protist'\n",
       "268. 'DIB.Missing_protist'\n",
       "269. 'DIB.Total_protist'\n",
       "270. 'DIB.Complete_protist_BUSCO_prop'\n",
       "271. 'NCGR.Complete_eukaryotic'\n",
       "272. 'NCGR.Fragmented_eukaryotic'\n",
       "273. 'NCGR.Missing_eukaryotic'\n",
       "274. 'NCGR.Total_eukaryotic'\n",
       "275. 'NCGR.Complete_eukaryotic_BUSCO_prop'\n",
       "276. 'NCGR.Complete_eukaryotic_BUSCO_perc'\n",
       "277. 'NCGR.Complete_protist'\n",
       "278. 'NCGR.Fragmented_protist'\n",
       "279. 'NCGR.Missing_protist'\n",
       "280. 'NCGR.Total_protist'\n",
       "281. 'NCGR.Complete_protist_BUSCO_prop'\n",
       "282. 'dib_assembly_unique_kmers'\n",
       "283. 'ncgr_assembly_unique_kmers'\n",
       "284. 'num_reads_kept_diginorm'\n",
       "285. 'total_reads_before_diginorm'\n",
       "286. 'perc_kept_diginorm'\n",
       "287. 'num_kmers_reads_diginorm'\n",
       "288. 'fp_rate_diginorm'\n",
       "289. 'DIB.Complete_euk_v3'\n",
       "290. 'DIB.Fragmented_euk_v3'\n",
       "291. 'DIB.Missing_euk_v3'\n",
       "292. 'DIB.Total_euk_v3'\n",
       "293. 'DIB.Complete_BUSCO_prop_euk_v3'\n",
       "294. 'DIB.Complete_BUSCO_perc_euk_v3'\n",
       "295. 'DIB.Complete_protist_v3'\n",
       "296. 'DIB.Fragmented_protist_v3'\n",
       "297. 'DIB.Missing_protist_v3'\n",
       "298. 'DIB.Total_protist_v3'\n",
       "299. 'DIB.Complete_BUSCO_prop_protist_v3'\n",
       "300. 'DIB.Complete_BUSCO_perc_protist_v3'\n",
       "301. 'NCGR.Complete_euk_v3'\n",
       "302. 'NCGR.Fragmented_euk_v3'\n",
       "303. 'NCGR.Missing_euk_v3'\n",
       "304. 'NCGR.Total_euk_v3'\n",
       "305. 'NCGR.Complete_BUSCO_prop_euk_v3'\n",
       "306. 'NCGR.Complete_BUSCO_perc_euk_v3'\n",
       "307. 'NCGR.Complete_protist_v3'\n",
       "308. 'NCGR.Fragmented_protist_v3'\n",
       "309. 'NCGR.Missing_protist_v3'\n",
       "310. 'NCGR.Total_protist_v3'\n",
       "311. 'NCGR.Complete_BUSCO_prop_protist_v3'\n",
       "312. 'NCGR.Complete_BUSCO_perc_protist_v3'\n",
       "\n",
       "\n"
      ],
      "text/plain": [
       "  [1] \"SampleName\"                         \n",
       "  [2] \"Run.x\"                              \n",
       "  [3] \"ReleaseDate\"                        \n",
       "  [4] \"LoadDate\"                           \n",
       "  [5] \"spots\"                              \n",
       "  [6] \"bases\"                              \n",
       "  [7] \"spots_with_mates\"                   \n",
       "  [8] \"avgLength\"                          \n",
       "  [9] \"size_MB\"                            \n",
       " [10] \"download_path\"                      \n",
       " [11] \"Experiment\"                         \n",
       " [12] \"LibraryStrategy\"                    \n",
       " [13] \"LibrarySelection\"                   \n",
       " [14] \"LibrarySource\"                      \n",
       " [15] \"LibraryLayout\"                      \n",
       " [16] \"Platform\"                           \n",
       " [17] \"Model\"                              \n",
       " [18] \"SRAStudy\"                           \n",
       " [19] \"BioProject\"                         \n",
       " [20] \"ProjectID\"                          \n",
       " [21] \"Sample\"                             \n",
       " [22] \"BioSample\"                          \n",
       " [23] \"SampleType\"                         \n",
       " [24] \"TaxID\"                              \n",
       " [25] \"ScientificName\"                     \n",
       " [26] \"CenterName\"                         \n",
       " [27] \"Submission\"                         \n",
       " [28] \"Consent\"                            \n",
       " [29] \"RunHash\"                            \n",
       " [30] \"ReadHash\"                           \n",
       " [31] \"Investigator\"                       \n",
       " [32] \"HighLevelClassification\"            \n",
       " [33] \"Phylum\"                             \n",
       " [34] \"Class\"                              \n",
       " [35] \"Order\"                              \n",
       " [36] \"Family\"                             \n",
       " [37] \"Genus\"                              \n",
       " [38] \"Species\"                            \n",
       " [39] \"Strain\"                             \n",
       " [40] \"Input.Reads\"                        \n",
       " [41] \"Surviving.Reads\"                    \n",
       " [42] \"Percent.Surviving\"                  \n",
       " [43] \"assembly.x\"                         \n",
       " [44] \"n_seqs.x\"                           \n",
       " [45] \"smallest.x\"                         \n",
       " [46] \"largest.x\"                          \n",
       " [47] \"n_bases.x\"                          \n",
       " [48] \"mean_len.x\"                         \n",
       " [49] \"n_under_200.x\"                      \n",
       " [50] \"n_over_1k.x\"                        \n",
       " [51] \"n_over_10k.x\"                       \n",
       " [52] \"n_with_orf.x\"                       \n",
       " [53] \"mean_orf_percent.x\"                 \n",
       " [54] \"n90.x\"                              \n",
       " [55] \"n70.x\"                              \n",
       " [56] \"n50.x\"                              \n",
       " [57] \"n30.x\"                              \n",
       " [58] \"n10.x\"                              \n",
       " [59] \"gc.x\"                               \n",
       " [60] \"gc_skew.x\"                          \n",
       " [61] \"at_skew.x\"                          \n",
       " [62] \"cpg_ratio.x\"                        \n",
       " [63] \"bases_n.x\"                          \n",
       " [64] \"proportion_n.x\"                     \n",
       " [65] \"linguistic_complexity.x\"            \n",
       " [66] \"fragments.x\"                        \n",
       " [67] \"fragments_mapped.x\"                 \n",
       " [68] \"p_fragments_mapped.x\"               \n",
       " [69] \"good_mappings.x\"                    \n",
       " [70] \"p_good_mapping.x\"                   \n",
       " [71] \"bad_mappings.x\"                     \n",
       " [72] \"potential_bridges.x\"                \n",
       " [73] \"bases_uncovered.x\"                  \n",
       " [74] \"p_bases_uncovered.x\"                \n",
       " [75] \"contigs_uncovbase.x\"                \n",
       " [76] \"p_contigs_uncovbase.x\"              \n",
       " [77] \"contigs_uncovered.x\"                \n",
       " [78] \"p_contigs_uncovered.x\"              \n",
       " [79] \"contigs_lowcovered.x\"               \n",
       " [80] \"p_contigs_lowcovered.x\"             \n",
       " [81] \"contigs_segmented.x\"                \n",
       " [82] \"p_contigs_segmented.x\"              \n",
       " [83] \"score.x\"                            \n",
       " [84] \"optimal_score.x\"                    \n",
       " [85] \"cutoff.x\"                           \n",
       " [86] \"assembly.y\"                         \n",
       " [87] \"n_seqs.y\"                           \n",
       " [88] \"smallest.y\"                         \n",
       " [89] \"largest.y\"                          \n",
       " [90] \"n_bases.y\"                          \n",
       " [91] \"mean_len.y\"                         \n",
       " [92] \"n_under_200.y\"                      \n",
       " [93] \"n_over_1k.y\"                        \n",
       " [94] \"n_over_10k.y\"                       \n",
       " [95] \"n_with_orf.y\"                       \n",
       " [96] \"mean_orf_percent.y\"                 \n",
       " [97] \"n90.y\"                              \n",
       " [98] \"n70.y\"                              \n",
       " [99] \"n50.y\"                              \n",
       "[100] \"n30.y\"                              \n",
       "[101] \"n10.y\"                              \n",
       "[102] \"gc.y\"                               \n",
       "[103] \"gc_skew.y\"                          \n",
       "[104] \"at_skew.y\"                          \n",
       "[105] \"cpg_ratio.y\"                        \n",
       "[106] \"bases_n.y\"                          \n",
       "[107] \"proportion_n.y\"                     \n",
       "[108] \"linguistic_complexity.y\"            \n",
       "[109] \"fragments.y\"                        \n",
       "[110] \"fragments_mapped.y\"                 \n",
       "[111] \"p_fragments_mapped.y\"               \n",
       "[112] \"good_mappings.y\"                    \n",
       "[113] \"p_good_mapping.y\"                   \n",
       "[114] \"bad_mappings.y\"                     \n",
       "[115] \"potential_bridges.y\"                \n",
       "[116] \"bases_uncovered.y\"                  \n",
       "[117] \"p_bases_uncovered.y\"                \n",
       "[118] \"contigs_uncovbase.y\"                \n",
       "[119] \"p_contigs_uncovbase.y\"              \n",
       "[120] \"contigs_uncovered.y\"                \n",
       "[121] \"p_contigs_uncovered.y\"              \n",
       "[122] \"contigs_lowcovered.y\"               \n",
       "[123] \"p_contigs_lowcovered.y\"             \n",
       "[124] \"contigs_segmented.y\"                \n",
       "[125] \"p_contigs_segmented.y\"              \n",
       "[126] \"score.y\"                            \n",
       "[127] \"optimal_score.y\"                    \n",
       "[128] \"cutoff.y\"                           \n",
       "[129] \"assembly.x\"                         \n",
       "[130] \"n_seqs.x\"                           \n",
       "[131] \"smallest.x\"                         \n",
       "[132] \"largest.x\"                          \n",
       "[133] \"n_bases.x\"                          \n",
       "[134] \"mean_len.x\"                         \n",
       "[135] \"n_under_200.x\"                      \n",
       "[136] \"n_over_1k.x\"                        \n",
       "[137] \"n_over_10k.x\"                       \n",
       "[138] \"n_with_orf.x\"                       \n",
       "[139] \"mean_orf_percent.x\"                 \n",
       "[140] \"n90.x\"                              \n",
       "[141] \"n70.x\"                              \n",
       "[142] \"n50.x\"                              \n",
       "[143] \"n30.x\"                              \n",
       "[144] \"n10.x\"                              \n",
       "[145] \"gc.x\"                               \n",
       "[146] \"gc_skew.x\"                          \n",
       "[147] \"at_skew.x\"                          \n",
       "[148] \"cpg_ratio.x\"                        \n",
       "[149] \"bases_n.x\"                          \n",
       "[150] \"proportion_n.x\"                     \n",
       "[151] \"linguistic_complexity.x\"            \n",
       "[152] \"fragments\"                          \n",
       "[153] \"fragments_mapped\"                   \n",
       "[154] \"p_fragments_mapped\"                 \n",
       "[155] \"good_mappings\"                      \n",
       "[156] \"p_good_mapping\"                     \n",
       "[157] \"bad_mappings\"                       \n",
       "[158] \"potential_bridges\"                  \n",
       "[159] \"bases_uncovered\"                    \n",
       "[160] \"p_bases_uncovered\"                  \n",
       "[161] \"contigs_uncovbase\"                  \n",
       "[162] \"p_contigs_uncovbase\"                \n",
       "[163] \"contigs_uncovered\"                  \n",
       "[164] \"p_contigs_uncovered\"                \n",
       "[165] \"contigs_lowcovered\"                 \n",
       "[166] \"p_contigs_lowcovered\"               \n",
       "[167] \"contigs_segmented\"                  \n",
       "[168] \"p_contigs_segmented\"                \n",
       "[169] \"score.x\"                            \n",
       "[170] \"optimal_score.x\"                    \n",
       "[171] \"cutoff.x\"                           \n",
       "[172] \"assembly.y\"                         \n",
       "[173] \"n_seqs.y\"                           \n",
       "[174] \"smallest.y\"                         \n",
       "[175] \"largest.y\"                          \n",
       "[176] \"n_bases.y\"                          \n",
       "[177] \"mean_len.y\"                         \n",
       "[178] \"n_under_200.y\"                      \n",
       "[179] \"n_over_1k.y\"                        \n",
       "[180] \"n_over_10k.y\"                       \n",
       "[181] \"n_with_orf.y\"                       \n",
       "[182] \"mean_orf_percent.y\"                 \n",
       "[183] \"n90.y\"                              \n",
       "[184] \"n70.y\"                              \n",
       "[185] \"n50.y\"                              \n",
       "[186] \"n30.y\"                              \n",
       "[187] \"n10.y\"                              \n",
       "[188] \"gc.y\"                               \n",
       "[189] \"gc_skew.y\"                          \n",
       "[190] \"at_skew.y\"                          \n",
       "[191] \"cpg_ratio.y\"                        \n",
       "[192] \"bases_n.y\"                          \n",
       "[193] \"proportion_n.y\"                     \n",
       "[194] \"linguistic_complexity.y\"            \n",
       "[195] \"CRBB_hits.x\"                        \n",
       "[196] \"n_contigs_with_CRBB.x\"              \n",
       "[197] \"p_contigs_with_CRBB.x\"              \n",
       "[198] \"rbh_per_reference.x\"                \n",
       "[199] \"n_refs_with_CRBB.x\"                 \n",
       "[200] \"p_refs_with_CRBB.x\"                 \n",
       "[201] \"cov25.x\"                            \n",
       "[202] \"p_cov25.x\"                          \n",
       "[203] \"cov50.x\"                            \n",
       "[204] \"p_cov50.x\"                          \n",
       "[205] \"cov75.x\"                            \n",
       "[206] \"p_cov75.x\"                          \n",
       "[207] \"cov85.x\"                            \n",
       "[208] \"p_cov85.x\"                          \n",
       "[209] \"cov95.x\"                            \n",
       "[210] \"p_cov95.x\"                          \n",
       "[211] \"reference_coverage.x\"               \n",
       "[212] \"score.y\"                            \n",
       "[213] \"optimal_score.y\"                    \n",
       "[214] \"cutoff.y\"                           \n",
       "[215] \"Run.y\"                              \n",
       "[216] \"assembly\"                           \n",
       "[217] \"n_seqs\"                             \n",
       "[218] \"smallest\"                           \n",
       "[219] \"largest\"                            \n",
       "[220] \"n_bases\"                            \n",
       "[221] \"mean_len\"                           \n",
       "[222] \"n_under_200\"                        \n",
       "[223] \"n_over_1k\"                          \n",
       "[224] \"n_over_10k\"                         \n",
       "[225] \"n_with_orf\"                         \n",
       "[226] \"mean_orf_percent\"                   \n",
       "[227] \"n90\"                                \n",
       "[228] \"n70\"                                \n",
       "[229] \"n50\"                                \n",
       "[230] \"n30\"                                \n",
       "[231] \"n10\"                                \n",
       "[232] \"gc\"                                 \n",
       "[233] \"gc_skew\"                            \n",
       "[234] \"at_skew\"                            \n",
       "[235] \"cpg_ratio\"                          \n",
       "[236] \"bases_n\"                            \n",
       "[237] \"proportion_n\"                       \n",
       "[238] \"linguistic_complexity\"              \n",
       "[239] \"CRBB_hits.y\"                        \n",
       "[240] \"n_contigs_with_CRBB.y\"              \n",
       "[241] \"p_contigs_with_CRBB.y\"              \n",
       "[242] \"rbh_per_reference.y\"                \n",
       "[243] \"n_refs_with_CRBB.y\"                 \n",
       "[244] \"p_refs_with_CRBB.y\"                 \n",
       "[245] \"cov25.y\"                            \n",
       "[246] \"p_cov25.y\"                          \n",
       "[247] \"cov50.y\"                            \n",
       "[248] \"p_cov50.y\"                          \n",
       "[249] \"cov75.y\"                            \n",
       "[250] \"p_cov75.y\"                          \n",
       "[251] \"cov85.y\"                            \n",
       "[252] \"p_cov85.y\"                          \n",
       "[253] \"cov95.y\"                            \n",
       "[254] \"p_cov95.y\"                          \n",
       "[255] \"reference_coverage.y\"               \n",
       "[256] \"score\"                              \n",
       "[257] \"optimal_score\"                      \n",
       "[258] \"cutoff\"                             \n",
       "[259] \"Run\"                                \n",
       "[260] \"DIB.Complete_eukaryotic\"            \n",
       "[261] \"DIB.Fragmented_eukaryotic\"          \n",
       "[262] \"DIB.Missing_eukaryotic\"             \n",
       "[263] \"DIB.Total_eukaryotic\"               \n",
       "[264] \"DIB.Complete_eukaryotic_BUSCO_prop\" \n",
       "[265] \"DIB.Complete_eukaryotic_BUSCO_perc\" \n",
       "[266] \"DIB.Complete_protist\"               \n",
       "[267] \"DIB.Fragmented_protist\"             \n",
       "[268] \"DIB.Missing_protist\"                \n",
       "[269] \"DIB.Total_protist\"                  \n",
       "[270] \"DIB.Complete_protist_BUSCO_prop\"    \n",
       "[271] \"NCGR.Complete_eukaryotic\"           \n",
       "[272] \"NCGR.Fragmented_eukaryotic\"         \n",
       "[273] \"NCGR.Missing_eukaryotic\"            \n",
       "[274] \"NCGR.Total_eukaryotic\"              \n",
       "[275] \"NCGR.Complete_eukaryotic_BUSCO_prop\"\n",
       "[276] \"NCGR.Complete_eukaryotic_BUSCO_perc\"\n",
       "[277] \"NCGR.Complete_protist\"              \n",
       "[278] \"NCGR.Fragmented_protist\"            \n",
       "[279] \"NCGR.Missing_protist\"               \n",
       "[280] \"NCGR.Total_protist\"                 \n",
       "[281] \"NCGR.Complete_protist_BUSCO_prop\"   \n",
       "[282] \"dib_assembly_unique_kmers\"          \n",
       "[283] \"ncgr_assembly_unique_kmers\"         \n",
       "[284] \"num_reads_kept_diginorm\"            \n",
       "[285] \"total_reads_before_diginorm\"        \n",
       "[286] \"perc_kept_diginorm\"                 \n",
       "[287] \"num_kmers_reads_diginorm\"           \n",
       "[288] \"fp_rate_diginorm\"                   \n",
       "[289] \"DIB.Complete_euk_v3\"                \n",
       "[290] \"DIB.Fragmented_euk_v3\"              \n",
       "[291] \"DIB.Missing_euk_v3\"                 \n",
       "[292] \"DIB.Total_euk_v3\"                   \n",
       "[293] \"DIB.Complete_BUSCO_prop_euk_v3\"     \n",
       "[294] \"DIB.Complete_BUSCO_perc_euk_v3\"     \n",
       "[295] \"DIB.Complete_protist_v3\"            \n",
       "[296] \"DIB.Fragmented_protist_v3\"          \n",
       "[297] \"DIB.Missing_protist_v3\"             \n",
       "[298] \"DIB.Total_protist_v3\"               \n",
       "[299] \"DIB.Complete_BUSCO_prop_protist_v3\" \n",
       "[300] \"DIB.Complete_BUSCO_perc_protist_v3\" \n",
       "[301] \"NCGR.Complete_euk_v3\"               \n",
       "[302] \"NCGR.Fragmented_euk_v3\"             \n",
       "[303] \"NCGR.Missing_euk_v3\"                \n",
       "[304] \"NCGR.Total_euk_v3\"                  \n",
       "[305] \"NCGR.Complete_BUSCO_prop_euk_v3\"    \n",
       "[306] \"NCGR.Complete_BUSCO_perc_euk_v3\"    \n",
       "[307] \"NCGR.Complete_protist_v3\"           \n",
       "[308] \"NCGR.Fragmented_protist_v3\"         \n",
       "[309] \"NCGR.Missing_protist_v3\"            \n",
       "[310] \"NCGR.Total_protist_v3\"              \n",
       "[311] \"NCGR.Complete_BUSCO_prop_protist_v3\"\n",
       "[312] \"NCGR.Complete_BUSCO_perc_protist_v3\""
      ]
     },
     "metadata": {},
     "output_type": "display_data"
    }
   ],
   "source": [
    "evaluation_matrix_1<-merge(names_matrix,reads,by=\"Run\",all=TRUE)\n",
    "dim(evaluation_matrix_1)\n",
    "evaluation_matrix_2<-merge(evaluation_matrix_1,transrate_dib,by=\"SampleName\",all=TRUE)\n",
    "dim(evaluation_matrix_2)\n",
    "evaluation_matrix_3<-merge(evaluation_matrix_2,transrate_ncgr_cds,by=\"SampleName\",all=TRUE)\n",
    "dim(evaluation_matrix_3)\n",
    "evaluation_matrix_4<-merge(evaluation_matrix_3,transrate_ncgr_nt,by=\"SampleName\",all=TRUE)\n",
    "dim(evaluation_matrix_4)\n",
    "evaluation_matrix_5<-merge(evaluation_matrix_4,transrate_reference_forward,by=\"SampleName\",all=TRUE)\n",
    "dim(evaluation_matrix_5)\n",
    "evaluation_matrix_6<-merge(evaluation_matrix_5,transrate_reference_reverse,by=\"SampleName\",all=TRUE)\n",
    "dim(evaluation_matrix_6)\n",
    "evaluation_matrix_7<-merge(evaluation_matrix_6,busco_scores_euk_DIB,by=\"SampleName\",all=TRUE)\n",
    "dim(evaluation_matrix_7)\n",
    "evaluation_matrix_8<-merge(evaluation_matrix_7,busco_scores_protist_DIB,by=\"SampleName\",all=TRUE)\n",
    "dim(evaluation_matrix_8)\n",
    "evaluation_matrix_9<-merge(evaluation_matrix_8,busco_scores_euk_NCGR,by=\"SampleName\",all=TRUE)\n",
    "dim(evaluation_matrix_9)\n",
    "evaluation_matrix_10<-merge(evaluation_matrix_9,busco_scores_protist_NCGR,by=\"SampleName\",all=TRUE)\n",
    "dim(evaluation_matrix_10)\n",
    "evaluation_matrix_11<-merge(evaluation_matrix_10,unique_kmers_dib,by=\"SampleName\",all=TRUE)\n",
    "dim(evaluation_matrix_11)\n",
    "evaluation_matrix_12<-merge(evaluation_matrix_11,unique_kmers_ncgr,by=\"SampleName\",all=TRUE)\n",
    "dim(evaluation_matrix_12)\n",
    "evaluation_matrix_13<-merge(evaluation_matrix_12,diginorm_stats,by=\"SampleName\",all=TRUE)\n",
    "dim(evaluation_matrix_13)\n",
    "evaluation_matrix_14<-merge(evaluation_matrix_13,dib_busco_v3_euk,by=\"SampleName\",all=TRUE)\n",
    "dim(evaluation_matrix_14)\n",
    "evaluation_matrix_15<-merge(evaluation_matrix_14,dib_busco_v3_protist,by=\"SampleName\",all=TRUE)\n",
    "dim(evaluation_matrix_15)\n",
    "evaluation_matrix_16<-merge(evaluation_matrix_15,ncgr_busco_v3_euk,by=\"SampleName\",all=TRUE)\n",
    "dim(evaluation_matrix_16)\n",
    "evaluation_matrix_17<-merge(evaluation_matrix_16,ncgr_busco_v3_protist,by=\"SampleName\",all=TRUE)\n",
    "dim(evaluation_matrix_17)\n",
    "colnames(evaluation_matrix_17)\n",
    "write.csv(evaluation_matrix_17,\"MMETSP_all_evaluation_matrix_2.csv\")"
   ]
  },
  {
   "cell_type": "code",
   "execution_count": 57,
   "metadata": {},
   "outputs": [
    {
     "data": {
      "text/html": [
       "<ol class=list-inline>\n",
       "\t<li>719</li>\n",
       "\t<li>312</li>\n",
       "</ol>\n"
      ],
      "text/latex": [
       "\\begin{enumerate*}\n",
       "\\item 719\n",
       "\\item 312\n",
       "\\end{enumerate*}\n"
      ],
      "text/markdown": [
       "1. 719\n",
       "2. 312\n",
       "\n",
       "\n"
      ],
      "text/plain": [
       "[1] 719 312"
      ]
     },
     "metadata": {},
     "output_type": "display_data"
    },
    {
     "data": {
      "text/html": [
       "<table>\n",
       "<thead><tr><th scope=col>SampleName</th><th scope=col>Run.x</th><th scope=col>ReleaseDate</th><th scope=col>LoadDate</th><th scope=col>spots</th><th scope=col>bases</th><th scope=col>spots_with_mates</th><th scope=col>avgLength</th><th scope=col>size_MB</th><th scope=col>download_path</th><th scope=col>⋯</th><th scope=col>NCGR.Missing_euk_v3</th><th scope=col>NCGR.Total_euk_v3</th><th scope=col>NCGR.Complete_BUSCO_prop_euk_v3</th><th scope=col>NCGR.Complete_BUSCO_perc_euk_v3</th><th scope=col>DIB.Complete_protist_v3.y</th><th scope=col>DIB.Fragmented_protist_v3.y</th><th scope=col>DIB.Missing_protist_v3.y</th><th scope=col>DIB.Total_protist_v3.y</th><th scope=col>DIB.Complete_BUSCO_prop_protist_v3.y</th><th scope=col>DIB.Complete_BUSCO_perc_protist_v3.y</th></tr></thead>\n",
       "<tbody>\n",
       "\t<tr><td>MMETSP0004                                            </td><td>SRR1296863                                            </td><td>7/22/15                                               </td><td>7/26/15                                               </td><td>24803955                                              </td><td>2480395500                                            </td><td>24803955                                              </td><td>100                                                   </td><td>1604                                                  </td><td>http://sra-download.ncbi.nlm.nih.gov/srapub/SRR1296863</td><td>⋯                                                     </td><td> 60                                                   </td><td>303                                                   </td><td>0.7062706                                             </td><td>70.62706                                              </td><td>108                                                   </td><td>3                                                     </td><td>104                                                   </td><td>215                                                   </td><td>0.5023256                                             </td><td>50.23256                                              </td></tr>\n",
       "\t<tr><td>MMETSP0005                                            </td><td>SRR1296767                                            </td><td>7/22/15                                               </td><td>7/27/15                                               </td><td>28100060                                              </td><td>2810006000                                            </td><td>28100060                                              </td><td>100                                                   </td><td>1794                                                  </td><td>http://sra-download.ncbi.nlm.nih.gov/srapub/SRR1296767</td><td>⋯                                                     </td><td> 58                                                   </td><td>303                                                   </td><td>0.6963696                                             </td><td>69.63696                                              </td><td> 98                                                   </td><td>3                                                     </td><td>114                                                   </td><td>215                                                   </td><td>0.4558140                                             </td><td>45.58140                                              </td></tr>\n",
       "\t<tr><td>MMETSP0006                                            </td><td>SRR1296917                                            </td><td>7/22/15                                               </td><td>7/26/15                                               </td><td>21466210                                              </td><td>2146621000                                            </td><td>21466210                                              </td><td>100                                                   </td><td>1426                                                  </td><td>http://sra-download.ncbi.nlm.nih.gov/srapub/SRR1296917</td><td>⋯                                                     </td><td> 88                                                   </td><td>303                                                   </td><td>0.5973597                                             </td><td>59.73597                                              </td><td> 94                                                   </td><td>3                                                     </td><td>118                                                   </td><td>215                                                   </td><td>0.4372093                                             </td><td>43.72093                                              </td></tr>\n",
       "\t<tr><td>MMETSP0007                                            </td><td>SRR1296769                                            </td><td>7/22/15                                               </td><td>7/27/15                                               </td><td>20174360                                              </td><td>2017436000                                            </td><td>20174360                                              </td><td>100                                                   </td><td>1319                                                  </td><td>http://sra-download.ncbi.nlm.nih.gov/srapub/SRR1296769</td><td>⋯                                                     </td><td>159                                                   </td><td>303                                                   </td><td>0.3135314                                             </td><td>31.35314                                              </td><td> 51                                                   </td><td>3                                                     </td><td>161                                                   </td><td>215                                                   </td><td>0.2372093                                             </td><td>23.72093                                              </td></tr>\n",
       "\t<tr><td>MMETSP0008                                            </td><td>SRR1294411                                            </td><td>7/22/15                                               </td><td>12/30/15                                              </td><td>22076599                                              </td><td>4415319800                                            </td><td>22076599                                              </td><td>200                                                   </td><td>2866                                                  </td><td>http://sra-download.ncbi.nlm.nih.gov/srapub/SRR1294411</td><td>⋯                                                     </td><td> 64                                                   </td><td>303                                                   </td><td>0.7029703                                             </td><td>70.29703                                              </td><td> 87                                                   </td><td>3                                                     </td><td>125                                                   </td><td>215                                                   </td><td>0.4046512                                             </td><td>40.46512                                              </td></tr>\n",
       "\t<tr><td>MMETSP0008                                            </td><td>SRR1294412                                            </td><td>7/22/15                                               </td><td>12/30/15                                              </td><td>27052143                                              </td><td>2705214300                                            </td><td>27052143                                              </td><td>100                                                   </td><td>1723                                                  </td><td>http://sra-download.ncbi.nlm.nih.gov/srapub/SRR1294412</td><td>⋯                                                     </td><td> 64                                                   </td><td>303                                                   </td><td>0.7029703                                             </td><td>70.29703                                              </td><td> 87                                                   </td><td>3                                                     </td><td>125                                                   </td><td>215                                                   </td><td>0.4046512                                             </td><td>40.46512                                              </td></tr>\n",
       "</tbody>\n",
       "</table>\n"
      ],
      "text/latex": [
       "\\begin{tabular}{r|llllllllllllllllllllllllllllllllllllllllllllllllllllllllllllllllllllllllllllllllllllllllllllllllllllllllllllllllllllllllllllllllllllllllllllllllllllllllllllllllllllllllllllllllllllllllllllllllllllllllllllllllllllllllllllllllllllllllllllllllllllllllllllllllllllllllllllllllllllllllllllllllllllllllllllllllllllllll}\n",
       " SampleName & Run.x & ReleaseDate & LoadDate & spots & bases & spots\\_with\\_mates & avgLength & size\\_MB & download\\_path & ⋯ & NCGR.Missing\\_euk\\_v3 & NCGR.Total\\_euk\\_v3 & NCGR.Complete\\_BUSCO\\_prop\\_euk\\_v3 & NCGR.Complete\\_BUSCO\\_perc\\_euk\\_v3 & DIB.Complete\\_protist\\_v3.y & DIB.Fragmented\\_protist\\_v3.y & DIB.Missing\\_protist\\_v3.y & DIB.Total\\_protist\\_v3.y & DIB.Complete\\_BUSCO\\_prop\\_protist\\_v3.y & DIB.Complete\\_BUSCO\\_perc\\_protist\\_v3.y\\\\\n",
       "\\hline\n",
       "\t MMETSP0004                                             & SRR1296863                                             & 7/22/15                                                & 7/26/15                                                & 24803955                                               & 2480395500                                             & 24803955                                               & 100                                                    & 1604                                                   & http://sra-download.ncbi.nlm.nih.gov/srapub/SRR1296863 & ⋯                                                      &  60                                                    & 303                                                    & 0.7062706                                              & 70.62706                                               & 108                                                    & 3                                                      & 104                                                    & 215                                                    & 0.5023256                                              & 50.23256                                              \\\\\n",
       "\t MMETSP0005                                             & SRR1296767                                             & 7/22/15                                                & 7/27/15                                                & 28100060                                               & 2810006000                                             & 28100060                                               & 100                                                    & 1794                                                   & http://sra-download.ncbi.nlm.nih.gov/srapub/SRR1296767 & ⋯                                                      &  58                                                    & 303                                                    & 0.6963696                                              & 69.63696                                               &  98                                                    & 3                                                      & 114                                                    & 215                                                    & 0.4558140                                              & 45.58140                                              \\\\\n",
       "\t MMETSP0006                                             & SRR1296917                                             & 7/22/15                                                & 7/26/15                                                & 21466210                                               & 2146621000                                             & 21466210                                               & 100                                                    & 1426                                                   & http://sra-download.ncbi.nlm.nih.gov/srapub/SRR1296917 & ⋯                                                      &  88                                                    & 303                                                    & 0.5973597                                              & 59.73597                                               &  94                                                    & 3                                                      & 118                                                    & 215                                                    & 0.4372093                                              & 43.72093                                              \\\\\n",
       "\t MMETSP0007                                             & SRR1296769                                             & 7/22/15                                                & 7/27/15                                                & 20174360                                               & 2017436000                                             & 20174360                                               & 100                                                    & 1319                                                   & http://sra-download.ncbi.nlm.nih.gov/srapub/SRR1296769 & ⋯                                                      & 159                                                    & 303                                                    & 0.3135314                                              & 31.35314                                               &  51                                                    & 3                                                      & 161                                                    & 215                                                    & 0.2372093                                              & 23.72093                                              \\\\\n",
       "\t MMETSP0008                                             & SRR1294411                                             & 7/22/15                                                & 12/30/15                                               & 22076599                                               & 4415319800                                             & 22076599                                               & 200                                                    & 2866                                                   & http://sra-download.ncbi.nlm.nih.gov/srapub/SRR1294411 & ⋯                                                      &  64                                                    & 303                                                    & 0.7029703                                              & 70.29703                                               &  87                                                    & 3                                                      & 125                                                    & 215                                                    & 0.4046512                                              & 40.46512                                              \\\\\n",
       "\t MMETSP0008                                             & SRR1294412                                             & 7/22/15                                                & 12/30/15                                               & 27052143                                               & 2705214300                                             & 27052143                                               & 100                                                    & 1723                                                   & http://sra-download.ncbi.nlm.nih.gov/srapub/SRR1294412 & ⋯                                                      &  64                                                    & 303                                                    & 0.7029703                                              & 70.29703                                               &  87                                                    & 3                                                      & 125                                                    & 215                                                    & 0.4046512                                              & 40.46512                                              \\\\\n",
       "\\end{tabular}\n"
      ],
      "text/markdown": [
       "\n",
       "SampleName | Run.x | ReleaseDate | LoadDate | spots | bases | spots_with_mates | avgLength | size_MB | download_path | ⋯ | NCGR.Missing_euk_v3 | NCGR.Total_euk_v3 | NCGR.Complete_BUSCO_prop_euk_v3 | NCGR.Complete_BUSCO_perc_euk_v3 | DIB.Complete_protist_v3.y | DIB.Fragmented_protist_v3.y | DIB.Missing_protist_v3.y | DIB.Total_protist_v3.y | DIB.Complete_BUSCO_prop_protist_v3.y | DIB.Complete_BUSCO_perc_protist_v3.y | \n",
       "|---|---|---|---|---|---|\n",
       "| MMETSP0004                                             | SRR1296863                                             | 7/22/15                                                | 7/26/15                                                | 24803955                                               | 2480395500                                             | 24803955                                               | 100                                                    | 1604                                                   | http://sra-download.ncbi.nlm.nih.gov/srapub/SRR1296863 | ⋯                                                      |  60                                                    | 303                                                    | 0.7062706                                              | 70.62706                                               | 108                                                    | 3                                                      | 104                                                    | 215                                                    | 0.5023256                                              | 50.23256                                               | \n",
       "| MMETSP0005                                             | SRR1296767                                             | 7/22/15                                                | 7/27/15                                                | 28100060                                               | 2810006000                                             | 28100060                                               | 100                                                    | 1794                                                   | http://sra-download.ncbi.nlm.nih.gov/srapub/SRR1296767 | ⋯                                                      |  58                                                    | 303                                                    | 0.6963696                                              | 69.63696                                               |  98                                                    | 3                                                      | 114                                                    | 215                                                    | 0.4558140                                              | 45.58140                                               | \n",
       "| MMETSP0006                                             | SRR1296917                                             | 7/22/15                                                | 7/26/15                                                | 21466210                                               | 2146621000                                             | 21466210                                               | 100                                                    | 1426                                                   | http://sra-download.ncbi.nlm.nih.gov/srapub/SRR1296917 | ⋯                                                      |  88                                                    | 303                                                    | 0.5973597                                              | 59.73597                                               |  94                                                    | 3                                                      | 118                                                    | 215                                                    | 0.4372093                                              | 43.72093                                               | \n",
       "| MMETSP0007                                             | SRR1296769                                             | 7/22/15                                                | 7/27/15                                                | 20174360                                               | 2017436000                                             | 20174360                                               | 100                                                    | 1319                                                   | http://sra-download.ncbi.nlm.nih.gov/srapub/SRR1296769 | ⋯                                                      | 159                                                    | 303                                                    | 0.3135314                                              | 31.35314                                               |  51                                                    | 3                                                      | 161                                                    | 215                                                    | 0.2372093                                              | 23.72093                                               | \n",
       "| MMETSP0008                                             | SRR1294411                                             | 7/22/15                                                | 12/30/15                                               | 22076599                                               | 4415319800                                             | 22076599                                               | 200                                                    | 2866                                                   | http://sra-download.ncbi.nlm.nih.gov/srapub/SRR1294411 | ⋯                                                      |  64                                                    | 303                                                    | 0.7029703                                              | 70.29703                                               |  87                                                    | 3                                                      | 125                                                    | 215                                                    | 0.4046512                                              | 40.46512                                               | \n",
       "| MMETSP0008                                             | SRR1294412                                             | 7/22/15                                                | 12/30/15                                               | 27052143                                               | 2705214300                                             | 27052143                                               | 100                                                    | 1723                                                   | http://sra-download.ncbi.nlm.nih.gov/srapub/SRR1294412 | ⋯                                                      |  64                                                    | 303                                                    | 0.7029703                                              | 70.29703                                               |  87                                                    | 3                                                      | 125                                                    | 215                                                    | 0.4046512                                              | 40.46512                                               | \n",
       "\n",
       "\n"
      ],
      "text/plain": [
       "  SampleName Run.x      ReleaseDate LoadDate spots    bases     \n",
       "1 MMETSP0004 SRR1296863 7/22/15     7/26/15  24803955 2480395500\n",
       "2 MMETSP0005 SRR1296767 7/22/15     7/27/15  28100060 2810006000\n",
       "3 MMETSP0006 SRR1296917 7/22/15     7/26/15  21466210 2146621000\n",
       "4 MMETSP0007 SRR1296769 7/22/15     7/27/15  20174360 2017436000\n",
       "5 MMETSP0008 SRR1294411 7/22/15     12/30/15 22076599 4415319800\n",
       "6 MMETSP0008 SRR1294412 7/22/15     12/30/15 27052143 2705214300\n",
       "  spots_with_mates avgLength size_MB\n",
       "1 24803955         100       1604   \n",
       "2 28100060         100       1794   \n",
       "3 21466210         100       1426   \n",
       "4 20174360         100       1319   \n",
       "5 22076599         200       2866   \n",
       "6 27052143         100       1723   \n",
       "  download_path                                          ⋯ NCGR.Missing_euk_v3\n",
       "1 http://sra-download.ncbi.nlm.nih.gov/srapub/SRR1296863 ⋯  60                \n",
       "2 http://sra-download.ncbi.nlm.nih.gov/srapub/SRR1296767 ⋯  58                \n",
       "3 http://sra-download.ncbi.nlm.nih.gov/srapub/SRR1296917 ⋯  88                \n",
       "4 http://sra-download.ncbi.nlm.nih.gov/srapub/SRR1296769 ⋯ 159                \n",
       "5 http://sra-download.ncbi.nlm.nih.gov/srapub/SRR1294411 ⋯  64                \n",
       "6 http://sra-download.ncbi.nlm.nih.gov/srapub/SRR1294412 ⋯  64                \n",
       "  NCGR.Total_euk_v3 NCGR.Complete_BUSCO_prop_euk_v3\n",
       "1 303               0.7062706                      \n",
       "2 303               0.6963696                      \n",
       "3 303               0.5973597                      \n",
       "4 303               0.3135314                      \n",
       "5 303               0.7029703                      \n",
       "6 303               0.7029703                      \n",
       "  NCGR.Complete_BUSCO_perc_euk_v3 DIB.Complete_protist_v3.y\n",
       "1 70.62706                        108                      \n",
       "2 69.63696                         98                      \n",
       "3 59.73597                         94                      \n",
       "4 31.35314                         51                      \n",
       "5 70.29703                         87                      \n",
       "6 70.29703                         87                      \n",
       "  DIB.Fragmented_protist_v3.y DIB.Missing_protist_v3.y DIB.Total_protist_v3.y\n",
       "1 3                           104                      215                   \n",
       "2 3                           114                      215                   \n",
       "3 3                           118                      215                   \n",
       "4 3                           161                      215                   \n",
       "5 3                           125                      215                   \n",
       "6 3                           125                      215                   \n",
       "  DIB.Complete_BUSCO_prop_protist_v3.y DIB.Complete_BUSCO_perc_protist_v3.y\n",
       "1 0.5023256                            50.23256                            \n",
       "2 0.4558140                            45.58140                            \n",
       "3 0.4372093                            43.72093                            \n",
       "4 0.2372093                            23.72093                            \n",
       "5 0.4046512                            40.46512                            \n",
       "6 0.4046512                            40.46512                            "
      ]
     },
     "metadata": {},
     "output_type": "display_data"
    }
   ],
   "source": [
    "dim(evaluation_matrix_17)\n",
    "head(evaluation_matrix_17)"
   ]
  },
  {
   "cell_type": "code",
   "execution_count": 60,
   "metadata": {},
   "outputs": [
    {
     "data": {
      "text/html": [
       "312"
      ],
      "text/latex": [
       "312"
      ],
      "text/markdown": [
       "312"
      ],
      "text/plain": [
       "[1] 312"
      ]
     },
     "metadata": {},
     "output_type": "display_data"
    }
   ],
   "source": [
    "cols<-colnames(evaluation_matrix_17)\n",
    "length(cols)\n",
    "df <- data.frame(matrix(NA, nrow = length(cols), ncol = 1))\n",
    "df$metric_names<-cols"
   ]
  },
  {
   "cell_type": "code",
   "execution_count": 61,
   "metadata": {},
   "outputs": [
    {
     "data": {
      "text/html": [
       "<ol class=list-inline>\n",
       "\t<li>312</li>\n",
       "\t<li>2</li>\n",
       "</ol>\n"
      ],
      "text/latex": [
       "\\begin{enumerate*}\n",
       "\\item 312\n",
       "\\item 2\n",
       "\\end{enumerate*}\n"
      ],
      "text/markdown": [
       "1. 312\n",
       "2. 2\n",
       "\n",
       "\n"
      ],
      "text/plain": [
       "[1] 312   2"
      ]
     },
     "metadata": {},
     "output_type": "display_data"
    }
   ],
   "source": [
    "dim(df)\n",
    "df<-df[,c(2,1)]\n",
    "colnames(df)<-c('EvaluationMetric','Description')"
   ]
  },
  {
   "cell_type": "code",
   "execution_count": 62,
   "metadata": {},
   "outputs": [
    {
     "data": {
      "text/html": [
       "<table>\n",
       "<thead><tr><th scope=col>EvaluationMetric</th><th scope=col>Description</th></tr></thead>\n",
       "<tbody>\n",
       "\t<tr><td>SampleName </td><td>NA         </td></tr>\n",
       "\t<tr><td>Run.x      </td><td>NA         </td></tr>\n",
       "\t<tr><td>ReleaseDate</td><td>NA         </td></tr>\n",
       "\t<tr><td>LoadDate   </td><td>NA         </td></tr>\n",
       "\t<tr><td>spots      </td><td>NA         </td></tr>\n",
       "\t<tr><td>bases      </td><td>NA         </td></tr>\n",
       "</tbody>\n",
       "</table>\n"
      ],
      "text/latex": [
       "\\begin{tabular}{r|ll}\n",
       " EvaluationMetric & Description\\\\\n",
       "\\hline\n",
       "\t SampleName  & NA         \\\\\n",
       "\t Run.x       & NA         \\\\\n",
       "\t ReleaseDate & NA         \\\\\n",
       "\t LoadDate    & NA         \\\\\n",
       "\t spots       & NA         \\\\\n",
       "\t bases       & NA         \\\\\n",
       "\\end{tabular}\n"
      ],
      "text/markdown": [
       "\n",
       "EvaluationMetric | Description | \n",
       "|---|---|---|---|---|---|\n",
       "| SampleName  | NA          | \n",
       "| Run.x       | NA          | \n",
       "| ReleaseDate | NA          | \n",
       "| LoadDate    | NA          | \n",
       "| spots       | NA          | \n",
       "| bases       | NA          | \n",
       "\n",
       "\n"
      ],
      "text/plain": [
       "  EvaluationMetric Description\n",
       "1 SampleName       NA         \n",
       "2 Run.x            NA         \n",
       "3 ReleaseDate      NA         \n",
       "4 LoadDate         NA         \n",
       "5 spots            NA         \n",
       "6 bases            NA         "
      ]
     },
     "metadata": {},
     "output_type": "display_data"
    }
   ],
   "source": [
    "head(df)"
   ]
  },
  {
   "cell_type": "code",
   "execution_count": 92,
   "metadata": {
    "collapsed": true
   },
   "outputs": [],
   "source": [
    "#write.csv(df,\"MMETSP_all_evaluation_matrix_METADATA.csv\")"
   ]
  },
  {
   "cell_type": "code",
   "execution_count": null,
   "metadata": {
    "collapsed": true
   },
   "outputs": [],
   "source": []
  }
 ],
 "metadata": {
  "kernelspec": {
   "display_name": "R",
   "language": "R",
   "name": "ir"
  },
  "language_info": {
   "codemirror_mode": "r",
   "file_extension": ".r",
   "mimetype": "text/x-r-source",
   "name": "R",
   "pygments_lexer": "r",
   "version": "3.4.1"
  }
 },
 "nbformat": 4,
 "nbformat_minor": 2
}
