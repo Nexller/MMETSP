{
 "cells": [
  {
   "cell_type": "code",
   "execution_count": 9,
   "metadata": {
    "collapsed": true
   },
   "outputs": [],
   "source": [
    "setwd(\"../assembly_evaluation_data/\")"
   ]
  },
  {
   "cell_type": "code",
   "execution_count": 117,
   "metadata": {
    "collapsed": true
   },
   "outputs": [],
   "source": [
    "transrate_dib<-read.csv(\"transrate_scores_trinity-2.2.0.csv\")\n",
    "transrate_ncgr_cds<-read.csv(\"transrate_scores_imicrobe_cds.csv\")\n",
    "transrate_ncgr_nt<-read.csv(\"transrate_scores_imicrobe_nt.csv\")\n",
    "transrate_reference_forward<-read.csv(\"transrate_reference_trinity2.2.0_v_ncgr.nt.csv\")\n",
    "transrate_reference_reverse<-read.csv(\"transrate_reverse_ncgr.nt_v_trinity2.2.0.csv\")\n",
    "transrate_reference_forward_subset<-transrate_reference_forward[,c(24:42)]\n",
    "transrate_reference_reverse_subset<-transrate_reference_reverse[,c(24:42)]\n",
    "busco_scores_euk_DIB<-read.csv(\"busco_scores_MMETSP_eukaryota_trinity2.2.0.csv\")\n",
    "busco_scores_protist_DIB<-read.csv(\"busco_scores_MMETSP_protist_trinity2.2.0.csv\")\n",
    "busco_scores_euk_NCGR<-read.csv(\"busco_scores_imicrobe_eukaryota.csv\")\n",
    "busco_scores_protist_NCGR<-read.csv(\"busco_scores_imicrobe_protist.csv\")\n",
    "reads<-read.table(\"trimmomatic_reads_table.txt\",sep=\"\\t\",header=TRUE)\n",
    "unique_kmers_dib<-read.csv(\"unique_kmers.txt\",sep=\"\\t\",header=TRUE)\n",
    "unique_kmers_ncgr<-read.table(\"imicrobe_unique_kmers.txt\",sep=\"\\t\",header=TRUE)\n",
    "diginorm_stats<-read.csv(\"fp_rate_diginorm.csv\")\n",
    "MMETSP_ncbi<-read.csv(\"../SraRunInfo_719.csv\")\n",
    "mmetsp_id<-read.csv(\"../imicrobe/MMETSP_Table.csv\")\n",
    "imicrobe<-read.csv(\"../imicrobe/Callum_FINAL_biosample_ids.csv\")"
   ]
  },
  {
   "cell_type": "code",
   "execution_count": 125,
   "metadata": {},
   "outputs": [],
   "source": [
    "# get updated re-do assembly metrics from March 2018\n",
    "transrate_March2018<-read.csv(\"transrate_scores_redoMarch2018.csv\")\n",
    "transrate_reference_forward_March2018<-read.csv(\"transrate_reverse_ncgr.nt_v_dibredoMarch2018.csv\")\n",
    "transrate_reference_reverse_March2018<-read.csv(\"transrate_reference_dibredoMarch2018_v_ncgr.nt.csv\")\n",
    "busco_euk_March2018<-read.csv(\"busco_scores_redoMarch2018_euk.csv\")\n",
    "busco_protista_March2018<-read.csv(\"busco_scores_redoMarch2018_protista.csv\")\n",
    "colnames(busco_euk_March2018)<-c(\"SampleName\",\"Complete_eukaryotic\",\"Fragmented_eukaryotic\",\"Missing_eukaryotic\",\"Total_eukaryotic\",\"Complete_eukaryotic_BUSCO_prop\")\n",
    "busco_euk_March2018$Complete_eukaryotic_BUSCO_perc<-busco_euk_March2018$Complete_eukaryotic_BUSCO_prop * 100\n",
    "colnames(busco_protista_March2018)<-c(\"SampleName\",\"Complete_protist\",\"Fragmented_protist\",\"Missing_protist\",\"Total_protist\",\"Complete_protist_BUSCO_prop\")"
   ]
  },
  {
   "cell_type": "code",
   "execution_count": 126,
   "metadata": {
    "collapsed": true
   },
   "outputs": [],
   "source": [
    "colnames(busco_scores_euk_DIB)<-c(\"SampleName\",\"Complete_eukaryotic\",\"Fragmented_eukaryotic\",\"Missing_eukaryotic\",\"Total_eukaryotic\",\"Complete_eukaryotic_BUSCO_prop\",\"Complete_eukaryotic_BUSCO_perc\")\n",
    "colnames(busco_scores_protist_DIB)<-c(\"SampleName\",\"Complete_protist\",\"Fragmented_protist\",\"Missing_protist\",\"Total_protist\",\"Complete_protist_BUSCO_prop\")\n",
    "colnames(busco_scores_euk_NCGR)<-c(\"SampleName\",\"Complete_eukaryotic\",\"Fragmented_eukaryotic\",\"Missing_eukaryotic\",\"Total_eukaryotic\",\"Complete_eukaryotic_BUSCO_prop\",\"Complete_eukaryotic_BUSCO_perc\")\n",
    "colnames(busco_scores_protist_NCGR)<-c(\"SampleName\",\"Complete_protist\",\"Fragmented_protist\",\"Missing_protist\",\"Total_protist\",\"Complete_protist_BUSCO_prop\")\n",
    "colnames(unique_kmers_dib)<-c(\"SampleName\",\"dib_assembly_unique_kmers\")\n",
    "colnames(unique_kmers_ncgr)<-c(\"SampleName\",\"ncgr_assembly_unique_kmers\")\n",
    "colnames(diginorm_stats)<-c(\"SampleName\",\"num_reads_kept_diginorm\",\"total_reads_before_diginorm\",\"perc_kept_diginorm\",\"num_kmers_reads_diginorm\",\"fp_rate_diginorm\")"
   ]
  },
  {
   "cell_type": "code",
   "execution_count": 127,
   "metadata": {},
   "outputs": [
    {
     "data": {
      "text/html": [
       "34"
      ],
      "text/latex": [
       "34"
      ],
      "text/markdown": [
       "34"
      ],
      "text/plain": [
       "[1] 34"
      ]
     },
     "metadata": {},
     "output_type": "display_data"
    },
    {
     "data": {
      "text/html": [
       "<ol class=list-inline>\n",
       "\t<li>653</li>\n",
       "\t<li>44</li>\n",
       "</ol>\n"
      ],
      "text/latex": [
       "\\begin{enumerate*}\n",
       "\\item 653\n",
       "\\item 44\n",
       "\\end{enumerate*}\n"
      ],
      "text/markdown": [
       "1. 653\n",
       "2. 44\n",
       "\n",
       "\n"
      ],
      "text/plain": [
       "[1] 653  44"
      ]
     },
     "metadata": {},
     "output_type": "display_data"
    },
    {
     "data": {
      "text/html": [
       "<ol class=list-inline>\n",
       "\t<li>621</li>\n",
       "\t<li>44</li>\n",
       "</ol>\n"
      ],
      "text/latex": [
       "\\begin{enumerate*}\n",
       "\\item 621\n",
       "\\item 44\n",
       "\\end{enumerate*}\n"
      ],
      "text/markdown": [
       "1. 621\n",
       "2. 44\n",
       "\n",
       "\n"
      ],
      "text/plain": [
       "[1] 621  44"
      ]
     },
     "metadata": {},
     "output_type": "display_data"
    },
    {
     "data": {
      "text/html": [
       "<ol class=list-inline>\n",
       "\t<li>651</li>\n",
       "\t<li>45</li>\n",
       "</ol>\n"
      ],
      "text/latex": [
       "\\begin{enumerate*}\n",
       "\\item 651\n",
       "\\item 45\n",
       "\\end{enumerate*}\n"
      ],
      "text/markdown": [
       "1. 651\n",
       "2. 45\n",
       "\n",
       "\n"
      ],
      "text/plain": [
       "[1] 651  45"
      ]
     },
     "metadata": {},
     "output_type": "display_data"
    },
    {
     "data": {
      "text/html": [
       "<ol class=list-inline>\n",
       "\t<li>619</li>\n",
       "\t<li>45</li>\n",
       "</ol>\n"
      ],
      "text/latex": [
       "\\begin{enumerate*}\n",
       "\\item 619\n",
       "\\item 45\n",
       "\\end{enumerate*}\n"
      ],
      "text/markdown": [
       "1. 619\n",
       "2. 45\n",
       "\n",
       "\n"
      ],
      "text/plain": [
       "[1] 619  45"
      ]
     },
     "metadata": {},
     "output_type": "display_data"
    },
    {
     "data": {
      "text/html": [
       "<ol class=list-inline>\n",
       "\t<li>651</li>\n",
       "\t<li>45</li>\n",
       "</ol>\n"
      ],
      "text/latex": [
       "\\begin{enumerate*}\n",
       "\\item 651\n",
       "\\item 45\n",
       "\\end{enumerate*}\n"
      ],
      "text/markdown": [
       "1. 651\n",
       "2. 45\n",
       "\n",
       "\n"
      ],
      "text/plain": [
       "[1] 651  45"
      ]
     },
     "metadata": {},
     "output_type": "display_data"
    },
    {
     "data": {
      "text/html": [
       "<ol class=list-inline>\n",
       "\t<li>619</li>\n",
       "\t<li>45</li>\n",
       "</ol>\n"
      ],
      "text/latex": [
       "\\begin{enumerate*}\n",
       "\\item 619\n",
       "\\item 45\n",
       "\\end{enumerate*}\n"
      ],
      "text/markdown": [
       "1. 619\n",
       "2. 45\n",
       "\n",
       "\n"
      ],
      "text/plain": [
       "[1] 619  45"
      ]
     },
     "metadata": {},
     "output_type": "display_data"
    },
    {
     "data": {
      "text/html": [
       "<ol class=list-inline>\n",
       "\t<li>675</li>\n",
       "\t<li>7</li>\n",
       "</ol>\n"
      ],
      "text/latex": [
       "\\begin{enumerate*}\n",
       "\\item 675\n",
       "\\item 7\n",
       "\\end{enumerate*}\n"
      ],
      "text/markdown": [
       "1. 675\n",
       "2. 7\n",
       "\n",
       "\n"
      ],
      "text/plain": [
       "[1] 675   7"
      ]
     },
     "metadata": {},
     "output_type": "display_data"
    },
    {
     "data": {
      "text/html": [
       "<ol class=list-inline>\n",
       "\t<li>643</li>\n",
       "\t<li>7</li>\n",
       "</ol>\n"
      ],
      "text/latex": [
       "\\begin{enumerate*}\n",
       "\\item 643\n",
       "\\item 7\n",
       "\\end{enumerate*}\n"
      ],
      "text/markdown": [
       "1. 643\n",
       "2. 7\n",
       "\n",
       "\n"
      ],
      "text/plain": [
       "[1] 643   7"
      ]
     },
     "metadata": {},
     "output_type": "display_data"
    },
    {
     "data": {
      "text/html": [
       "<ol class=list-inline>\n",
       "\t<li>675</li>\n",
       "\t<li>6</li>\n",
       "</ol>\n"
      ],
      "text/latex": [
       "\\begin{enumerate*}\n",
       "\\item 675\n",
       "\\item 6\n",
       "\\end{enumerate*}\n"
      ],
      "text/markdown": [
       "1. 675\n",
       "2. 6\n",
       "\n",
       "\n"
      ],
      "text/plain": [
       "[1] 675   6"
      ]
     },
     "metadata": {},
     "output_type": "display_data"
    },
    {
     "data": {
      "text/html": [
       "<ol class=list-inline>\n",
       "\t<li>643</li>\n",
       "\t<li>6</li>\n",
       "</ol>\n"
      ],
      "text/latex": [
       "\\begin{enumerate*}\n",
       "\\item 643\n",
       "\\item 6\n",
       "\\end{enumerate*}\n"
      ],
      "text/markdown": [
       "1. 643\n",
       "2. 6\n",
       "\n",
       "\n"
      ],
      "text/plain": [
       "[1] 643   6"
      ]
     },
     "metadata": {},
     "output_type": "display_data"
    }
   ],
   "source": [
    "redo_list <- c(\"MMETSP0044\", \"MMETSP0169\", \"MMETSP0200\", \"MMETSP0295\", \"MMETSP0319\", \"MMETSP0698\", \n",
    "               \"MMETSP0751\", \"MMETSP0753\", \"MMETSP754\", \"MMETSP0789\", \"MMETSP0850\", \"MMETSP0880\", \"MMETSP0886\", \n",
    "               \"MMETSP912\",\"MMETSP0920\", \"MMETSP0933\", \"MMETSP0937\", \"MMETSP0972\", \"MMETSP1010\", \"MMETSP1039\", \n",
    "               \"MMETSP1057\", \"MMETSP1080\", \n",
    "               \"MMETSP1082\", \"MMETSP1126\",\"MMETSP1130\", \"MMETSP1137\", \"MMETSP1165\", \"MMETSP1177\", \"MMETSP1329\", \"MMETSP1390\", \n",
    "               \"MMETSP1394\", \"MMETSP1409\", \"MMETSP1412\",\"MMETSP1418\")\n",
    "length(redo_list)\n",
    "\n",
    "# subset old list with MMETSP ID not in redo_list\n",
    "\n",
    "# transrate scores for DIB\n",
    "dim(transrate_dib)\n",
    "transrate_dib<-subset(transrate_dib,!(transrate_dib$SampleName %in% redo_list))\n",
    "dim(transrate_dib)\n",
    "\n",
    "# transrate reference forward for DIB v NCGR\n",
    "dim(transrate_reference_forward)\n",
    "transrate_reference_forward<-subset(transrate_reference_forward,!(transrate_reference_forward$SampleName %in% redo_list))\n",
    "dim(transrate_reference_forward)\n",
    "\n",
    "# transrate reference reverse for NCGR v DIB\n",
    "dim(transrate_reference_reverse)\n",
    "transrate_reference_reverse<-subset(transrate_reference_reverse,!(transrate_reference_reverse$SampleName %in% redo_list))\n",
    "dim(transrate_reference_reverse)\n",
    "\n",
    "# BUSCO euk\n",
    "dim(busco_scores_euk_DIB)\n",
    "busco_scores_euk_DIB<-subset(busco_scores_euk_DIB,!(busco_scores_euk_DIB$SampleName %in% redo_list))\n",
    "dim(busco_scores_euk_DIB)\n",
    "\n",
    "# BUSCO protista\n",
    "dim(busco_scores_protist_DIB)\n",
    "busco_scores_protist_DIB<-subset(busco_scores_protist_DIB,!(busco_scores_protist_DIB$SampleName %in% redo_list))\n",
    "dim(busco_scores_protist_DIB)"
   ]
  },
  {
   "cell_type": "code",
   "execution_count": 128,
   "metadata": {},
   "outputs": [
    {
     "data": {
      "text/html": [
       "<ol class=list-inline>\n",
       "\t<li>621</li>\n",
       "\t<li>44</li>\n",
       "</ol>\n"
      ],
      "text/latex": [
       "\\begin{enumerate*}\n",
       "\\item 621\n",
       "\\item 44\n",
       "\\end{enumerate*}\n"
      ],
      "text/markdown": [
       "1. 621\n",
       "2. 44\n",
       "\n",
       "\n"
      ],
      "text/plain": [
       "[1] 621  44"
      ]
     },
     "metadata": {},
     "output_type": "display_data"
    },
    {
     "data": {
      "text/html": [
       "<ol class=list-inline>\n",
       "\t<li>655</li>\n",
       "\t<li>44</li>\n",
       "</ol>\n"
      ],
      "text/latex": [
       "\\begin{enumerate*}\n",
       "\\item 655\n",
       "\\item 44\n",
       "\\end{enumerate*}\n"
      ],
      "text/markdown": [
       "1. 655\n",
       "2. 44\n",
       "\n",
       "\n"
      ],
      "text/plain": [
       "[1] 655  44"
      ]
     },
     "metadata": {},
     "output_type": "display_data"
    },
    {
     "data": {
      "text/html": [
       "<ol class=list-inline>\n",
       "\t<li>619</li>\n",
       "\t<li>45</li>\n",
       "</ol>\n"
      ],
      "text/latex": [
       "\\begin{enumerate*}\n",
       "\\item 619\n",
       "\\item 45\n",
       "\\end{enumerate*}\n"
      ],
      "text/markdown": [
       "1. 619\n",
       "2. 45\n",
       "\n",
       "\n"
      ],
      "text/plain": [
       "[1] 619  45"
      ]
     },
     "metadata": {},
     "output_type": "display_data"
    },
    {
     "data": {
      "text/html": [
       "<ol class=list-inline>\n",
       "\t<li>653</li>\n",
       "\t<li>45</li>\n",
       "</ol>\n"
      ],
      "text/latex": [
       "\\begin{enumerate*}\n",
       "\\item 653\n",
       "\\item 45\n",
       "\\end{enumerate*}\n"
      ],
      "text/markdown": [
       "1. 653\n",
       "2. 45\n",
       "\n",
       "\n"
      ],
      "text/plain": [
       "[1] 653  45"
      ]
     },
     "metadata": {},
     "output_type": "display_data"
    },
    {
     "data": {
      "text/html": [
       "<ol class=list-inline>\n",
       "\t<li>619</li>\n",
       "\t<li>45</li>\n",
       "</ol>\n"
      ],
      "text/latex": [
       "\\begin{enumerate*}\n",
       "\\item 619\n",
       "\\item 45\n",
       "\\end{enumerate*}\n"
      ],
      "text/markdown": [
       "1. 619\n",
       "2. 45\n",
       "\n",
       "\n"
      ],
      "text/plain": [
       "[1] 619  45"
      ]
     },
     "metadata": {},
     "output_type": "display_data"
    },
    {
     "data": {
      "text/html": [
       "<ol class=list-inline>\n",
       "\t<li>653</li>\n",
       "\t<li>45</li>\n",
       "</ol>\n"
      ],
      "text/latex": [
       "\\begin{enumerate*}\n",
       "\\item 653\n",
       "\\item 45\n",
       "\\end{enumerate*}\n"
      ],
      "text/markdown": [
       "1. 653\n",
       "2. 45\n",
       "\n",
       "\n"
      ],
      "text/plain": [
       "[1] 653  45"
      ]
     },
     "metadata": {},
     "output_type": "display_data"
    },
    {
     "data": {
      "text/html": [
       "<ol class=list-inline>\n",
       "\t<li>643</li>\n",
       "\t<li>7</li>\n",
       "</ol>\n"
      ],
      "text/latex": [
       "\\begin{enumerate*}\n",
       "\\item 643\n",
       "\\item 7\n",
       "\\end{enumerate*}\n"
      ],
      "text/markdown": [
       "1. 643\n",
       "2. 7\n",
       "\n",
       "\n"
      ],
      "text/plain": [
       "[1] 643   7"
      ]
     },
     "metadata": {},
     "output_type": "display_data"
    },
    {
     "data": {
      "text/html": [
       "<ol class=list-inline>\n",
       "\t<li>677</li>\n",
       "\t<li>7</li>\n",
       "</ol>\n"
      ],
      "text/latex": [
       "\\begin{enumerate*}\n",
       "\\item 677\n",
       "\\item 7\n",
       "\\end{enumerate*}\n"
      ],
      "text/markdown": [
       "1. 677\n",
       "2. 7\n",
       "\n",
       "\n"
      ],
      "text/plain": [
       "[1] 677   7"
      ]
     },
     "metadata": {},
     "output_type": "display_data"
    },
    {
     "data": {
      "text/html": [
       "<ol class=list-inline>\n",
       "\t<li>643</li>\n",
       "\t<li>6</li>\n",
       "</ol>\n"
      ],
      "text/latex": [
       "\\begin{enumerate*}\n",
       "\\item 643\n",
       "\\item 6\n",
       "\\end{enumerate*}\n"
      ],
      "text/markdown": [
       "1. 643\n",
       "2. 6\n",
       "\n",
       "\n"
      ],
      "text/plain": [
       "[1] 643   6"
      ]
     },
     "metadata": {},
     "output_type": "display_data"
    },
    {
     "data": {
      "text/html": [
       "<ol class=list-inline>\n",
       "\t<li>677</li>\n",
       "\t<li>6</li>\n",
       "</ol>\n"
      ],
      "text/latex": [
       "\\begin{enumerate*}\n",
       "\\item 677\n",
       "\\item 6\n",
       "\\end{enumerate*}\n"
      ],
      "text/markdown": [
       "1. 677\n",
       "2. 6\n",
       "\n",
       "\n"
      ],
      "text/plain": [
       "[1] 677   6"
      ]
     },
     "metadata": {},
     "output_type": "display_data"
    }
   ],
   "source": [
    "# merge redo with old\n",
    "\n",
    "# transrate scores for DIB\n",
    "dim(transrate_dib)\n",
    "transrate_dib<-rbind(transrate_dib,transrate_March2018)\n",
    "dim(transrate_dib)\n",
    "# transrate reference forward for DIB v NCGR\n",
    "dim(transrate_reference_forward)\n",
    "transrate_reference_forward<-rbind(transrate_reference_forward,transrate_reference_forward_March2018)\n",
    "dim(transrate_reference_forward)\n",
    "# transrate reference reverse for NCGR v DIB\n",
    "dim(transrate_reference_reverse)\n",
    "transrate_reference_reverse<-rbind(transrate_reference_reverse,transrate_reference_reverse_March2018)\n",
    "dim(transrate_reference_reverse)\n",
    "# BUSCO euk\n",
    "dim(busco_scores_euk_DIB)\n",
    "busco_scores_euk_DIB<-rbind(busco_scores_euk_DIB,busco_euk_March2018)\n",
    "dim(busco_scores_euk_DIB)\n",
    "# BUSCO protista\n",
    "dim(busco_scores_protist_DIB)\n",
    "busco_scores_protist_DIB<-rbind(busco_scores_protist_DIB,busco_protista_March2018)\n",
    "dim(busco_scores_protist_DIB)"
   ]
  },
  {
   "cell_type": "code",
   "execution_count": 129,
   "metadata": {},
   "outputs": [
    {
     "data": {
      "text/html": [
       "<ol class=list-inline>\n",
       "\t<li>719</li>\n",
       "\t<li>39</li>\n",
       "</ol>\n"
      ],
      "text/latex": [
       "\\begin{enumerate*}\n",
       "\\item 719\n",
       "\\item 39\n",
       "\\end{enumerate*}\n"
      ],
      "text/markdown": [
       "1. 719\n",
       "2. 39\n",
       "\n",
       "\n"
      ],
      "text/plain": [
       "[1] 719  39"
      ]
     },
     "metadata": {},
     "output_type": "display_data"
    },
    {
     "data": {
      "text/html": [
       "<table>\n",
       "<thead><tr><th scope=col>SampleName</th><th scope=col>Run</th><th scope=col>ReleaseDate</th><th scope=col>LoadDate</th><th scope=col>spots</th><th scope=col>bases</th><th scope=col>spots_with_mates</th><th scope=col>avgLength</th><th scope=col>size_MB</th><th scope=col>download_path</th><th scope=col>⋯</th><th scope=col>ReadHash</th><th scope=col>Investigator</th><th scope=col>HighLevelClassification</th><th scope=col>Phylum</th><th scope=col>Class</th><th scope=col>Order</th><th scope=col>Family</th><th scope=col>Genus</th><th scope=col>Species</th><th scope=col>Strain</th></tr></thead>\n",
       "<tbody>\n",
       "\t<tr><td>MMETSP0004                                            </td><td>SRR1296863                                            </td><td>7/22/15                                               </td><td>7/26/15                                               </td><td>24803955                                              </td><td>2480395500                                            </td><td>24803955                                              </td><td>100                                                   </td><td>1604                                                  </td><td>http://sra-download.ncbi.nlm.nih.gov/srapub/SRR1296863</td><td>⋯                                                     </td><td>BE7B899A61C3C5B642CBD90ABA78FDE2                      </td><td>DavidCaron                                            </td><td>Stramenopila(SAR,Chromalveolata)                      </td><td>Ochrophyta                                            </td><td>Synurophyceae                                         </td><td>Ochromonadales                                        </td><td>Ochromonadaceae                                       </td><td>Ochromonas                                            </td><td>sp.                                                   </td><td>CCMP1393                                              </td></tr>\n",
       "\t<tr><td>MMETSP0005                                            </td><td>SRR1296767                                            </td><td>7/22/15                                               </td><td>7/27/15                                               </td><td>28100060                                              </td><td>2810006000                                            </td><td>28100060                                              </td><td>100                                                   </td><td>1794                                                  </td><td>http://sra-download.ncbi.nlm.nih.gov/srapub/SRR1296767</td><td>⋯                                                     </td><td>0450A2DCF3E1C1A7806DC172B25C3820                      </td><td>DavidCaron                                            </td><td>Stramenopila(SAR,Chromalveolata)                      </td><td>Ochrophyta                                            </td><td>Synurophyceae                                         </td><td>Ochromonadales                                        </td><td>Ochromonadaceae                                       </td><td>Ochromonas                                            </td><td>sp.                                                   </td><td>CCMP1393                                              </td></tr>\n",
       "\t<tr><td>MMETSP0006                                            </td><td>SRR1296917                                            </td><td>7/22/15                                               </td><td>7/26/15                                               </td><td>21466210                                              </td><td>2146621000                                            </td><td>21466210                                              </td><td>100                                                   </td><td>1426                                                  </td><td>http://sra-download.ncbi.nlm.nih.gov/srapub/SRR1296917</td><td>⋯                                                     </td><td>BB3E9B7A3AD34ADFCBE578ED857B087C                      </td><td>DavidCaron                                            </td><td>Haptophyta(Hacrobia,Chromalveolata)                   </td><td>Haptophyta                                            </td><td>Prymnesiophyceae                                      </td><td>Prymensiales                                          </td><td>Prymenesiaceae                                        </td><td>Prymnesium                                            </td><td>parvum                                                </td><td>Texoma1                                               </td></tr>\n",
       "\t<tr><td>MMETSP0007                                            </td><td>SRR1296769                                            </td><td>7/22/15                                               </td><td>7/27/15                                               </td><td>20174360                                              </td><td>2017436000                                            </td><td>20174360                                              </td><td>100                                                   </td><td>1319                                                  </td><td>http://sra-download.ncbi.nlm.nih.gov/srapub/SRR1296769</td><td>⋯                                                     </td><td>2F070395CDE29249B9579E295711AAEE                      </td><td>DavidCaron                                            </td><td>Haptophyta(Hacrobia,Chromalveolata)                   </td><td>Haptophyta                                            </td><td>Prymnesiophyceae                                      </td><td>Prymensiales                                          </td><td>Prymenesiaceae                                        </td><td>Prymnesium                                            </td><td>parvum                                                </td><td>Texoma1                                               </td></tr>\n",
       "\t<tr><td>MMETSP0008                                            </td><td>SRR1294411                                            </td><td>7/22/15                                               </td><td>12/30/15                                              </td><td>22076599                                              </td><td>4415319800                                            </td><td>22076599                                              </td><td>200                                                   </td><td>2866                                                  </td><td>http://sra-download.ncbi.nlm.nih.gov/srapub/SRR1294411</td><td>⋯                                                     </td><td>E8DE36C2BBB99E78A1CCC6268C103D50                      </td><td>DavidCaron                                            </td><td>Haptophyta(Hacrobia,Chromalveolata)                   </td><td>Haptophyta                                            </td><td>Prymnesiophyceae                                      </td><td>Prymensiales                                          </td><td>Prymenesiaceae                                        </td><td>Prymnesium                                            </td><td>parvum                                                </td><td>Texoma1                                               </td></tr>\n",
       "\t<tr><td>MMETSP0008                                            </td><td>SRR1294412                                            </td><td>7/22/15                                               </td><td>12/30/15                                              </td><td>27052143                                              </td><td>2705214300                                            </td><td>27052143                                              </td><td>100                                                   </td><td>1723                                                  </td><td>http://sra-download.ncbi.nlm.nih.gov/srapub/SRR1294412</td><td>⋯                                                     </td><td>518DDFDAB09AA3C65FD442E6DF53FEFB                      </td><td>DavidCaron                                            </td><td>Haptophyta(Hacrobia,Chromalveolata)                   </td><td>Haptophyta                                            </td><td>Prymnesiophyceae                                      </td><td>Prymensiales                                          </td><td>Prymenesiaceae                                        </td><td>Prymnesium                                            </td><td>parvum                                                </td><td>Texoma1                                               </td></tr>\n",
       "</tbody>\n",
       "</table>\n"
      ],
      "text/latex": [
       "\\begin{tabular}{r|lllllllllllllllllllllllllllllllllllllll}\n",
       " SampleName & Run & ReleaseDate & LoadDate & spots & bases & spots\\_with\\_mates & avgLength & size\\_MB & download\\_path & ⋯ & ReadHash & Investigator & HighLevelClassification & Phylum & Class & Order & Family & Genus & Species & Strain\\\\\n",
       "\\hline\n",
       "\t MMETSP0004                                             & SRR1296863                                             & 7/22/15                                                & 7/26/15                                                & 24803955                                               & 2480395500                                             & 24803955                                               & 100                                                    & 1604                                                   & http://sra-download.ncbi.nlm.nih.gov/srapub/SRR1296863 & ⋯                                                      & BE7B899A61C3C5B642CBD90ABA78FDE2                       & DavidCaron                                             & Stramenopila(SAR,Chromalveolata)                       & Ochrophyta                                             & Synurophyceae                                          & Ochromonadales                                         & Ochromonadaceae                                        & Ochromonas                                             & sp.                                                    & CCMP1393                                              \\\\\n",
       "\t MMETSP0005                                             & SRR1296767                                             & 7/22/15                                                & 7/27/15                                                & 28100060                                               & 2810006000                                             & 28100060                                               & 100                                                    & 1794                                                   & http://sra-download.ncbi.nlm.nih.gov/srapub/SRR1296767 & ⋯                                                      & 0450A2DCF3E1C1A7806DC172B25C3820                       & DavidCaron                                             & Stramenopila(SAR,Chromalveolata)                       & Ochrophyta                                             & Synurophyceae                                          & Ochromonadales                                         & Ochromonadaceae                                        & Ochromonas                                             & sp.                                                    & CCMP1393                                              \\\\\n",
       "\t MMETSP0006                                             & SRR1296917                                             & 7/22/15                                                & 7/26/15                                                & 21466210                                               & 2146621000                                             & 21466210                                               & 100                                                    & 1426                                                   & http://sra-download.ncbi.nlm.nih.gov/srapub/SRR1296917 & ⋯                                                      & BB3E9B7A3AD34ADFCBE578ED857B087C                       & DavidCaron                                             & Haptophyta(Hacrobia,Chromalveolata)                    & Haptophyta                                             & Prymnesiophyceae                                       & Prymensiales                                           & Prymenesiaceae                                         & Prymnesium                                             & parvum                                                 & Texoma1                                               \\\\\n",
       "\t MMETSP0007                                             & SRR1296769                                             & 7/22/15                                                & 7/27/15                                                & 20174360                                               & 2017436000                                             & 20174360                                               & 100                                                    & 1319                                                   & http://sra-download.ncbi.nlm.nih.gov/srapub/SRR1296769 & ⋯                                                      & 2F070395CDE29249B9579E295711AAEE                       & DavidCaron                                             & Haptophyta(Hacrobia,Chromalveolata)                    & Haptophyta                                             & Prymnesiophyceae                                       & Prymensiales                                           & Prymenesiaceae                                         & Prymnesium                                             & parvum                                                 & Texoma1                                               \\\\\n",
       "\t MMETSP0008                                             & SRR1294411                                             & 7/22/15                                                & 12/30/15                                               & 22076599                                               & 4415319800                                             & 22076599                                               & 200                                                    & 2866                                                   & http://sra-download.ncbi.nlm.nih.gov/srapub/SRR1294411 & ⋯                                                      & E8DE36C2BBB99E78A1CCC6268C103D50                       & DavidCaron                                             & Haptophyta(Hacrobia,Chromalveolata)                    & Haptophyta                                             & Prymnesiophyceae                                       & Prymensiales                                           & Prymenesiaceae                                         & Prymnesium                                             & parvum                                                 & Texoma1                                               \\\\\n",
       "\t MMETSP0008                                             & SRR1294412                                             & 7/22/15                                                & 12/30/15                                               & 27052143                                               & 2705214300                                             & 27052143                                               & 100                                                    & 1723                                                   & http://sra-download.ncbi.nlm.nih.gov/srapub/SRR1294412 & ⋯                                                      & 518DDFDAB09AA3C65FD442E6DF53FEFB                       & DavidCaron                                             & Haptophyta(Hacrobia,Chromalveolata)                    & Haptophyta                                             & Prymnesiophyceae                                       & Prymensiales                                           & Prymenesiaceae                                         & Prymnesium                                             & parvum                                                 & Texoma1                                               \\\\\n",
       "\\end{tabular}\n"
      ],
      "text/markdown": [
       "\n",
       "SampleName | Run | ReleaseDate | LoadDate | spots | bases | spots_with_mates | avgLength | size_MB | download_path | ⋯ | ReadHash | Investigator | HighLevelClassification | Phylum | Class | Order | Family | Genus | Species | Strain | \n",
       "|---|---|---|---|---|---|\n",
       "| MMETSP0004                                             | SRR1296863                                             | 7/22/15                                                | 7/26/15                                                | 24803955                                               | 2480395500                                             | 24803955                                               | 100                                                    | 1604                                                   | http://sra-download.ncbi.nlm.nih.gov/srapub/SRR1296863 | ⋯                                                      | BE7B899A61C3C5B642CBD90ABA78FDE2                       | DavidCaron                                             | Stramenopila(SAR,Chromalveolata)                       | Ochrophyta                                             | Synurophyceae                                          | Ochromonadales                                         | Ochromonadaceae                                        | Ochromonas                                             | sp.                                                    | CCMP1393                                               | \n",
       "| MMETSP0005                                             | SRR1296767                                             | 7/22/15                                                | 7/27/15                                                | 28100060                                               | 2810006000                                             | 28100060                                               | 100                                                    | 1794                                                   | http://sra-download.ncbi.nlm.nih.gov/srapub/SRR1296767 | ⋯                                                      | 0450A2DCF3E1C1A7806DC172B25C3820                       | DavidCaron                                             | Stramenopila(SAR,Chromalveolata)                       | Ochrophyta                                             | Synurophyceae                                          | Ochromonadales                                         | Ochromonadaceae                                        | Ochromonas                                             | sp.                                                    | CCMP1393                                               | \n",
       "| MMETSP0006                                             | SRR1296917                                             | 7/22/15                                                | 7/26/15                                                | 21466210                                               | 2146621000                                             | 21466210                                               | 100                                                    | 1426                                                   | http://sra-download.ncbi.nlm.nih.gov/srapub/SRR1296917 | ⋯                                                      | BB3E9B7A3AD34ADFCBE578ED857B087C                       | DavidCaron                                             | Haptophyta(Hacrobia,Chromalveolata)                    | Haptophyta                                             | Prymnesiophyceae                                       | Prymensiales                                           | Prymenesiaceae                                         | Prymnesium                                             | parvum                                                 | Texoma1                                                | \n",
       "| MMETSP0007                                             | SRR1296769                                             | 7/22/15                                                | 7/27/15                                                | 20174360                                               | 2017436000                                             | 20174360                                               | 100                                                    | 1319                                                   | http://sra-download.ncbi.nlm.nih.gov/srapub/SRR1296769 | ⋯                                                      | 2F070395CDE29249B9579E295711AAEE                       | DavidCaron                                             | Haptophyta(Hacrobia,Chromalveolata)                    | Haptophyta                                             | Prymnesiophyceae                                       | Prymensiales                                           | Prymenesiaceae                                         | Prymnesium                                             | parvum                                                 | Texoma1                                                | \n",
       "| MMETSP0008                                             | SRR1294411                                             | 7/22/15                                                | 12/30/15                                               | 22076599                                               | 4415319800                                             | 22076599                                               | 200                                                    | 2866                                                   | http://sra-download.ncbi.nlm.nih.gov/srapub/SRR1294411 | ⋯                                                      | E8DE36C2BBB99E78A1CCC6268C103D50                       | DavidCaron                                             | Haptophyta(Hacrobia,Chromalveolata)                    | Haptophyta                                             | Prymnesiophyceae                                       | Prymensiales                                           | Prymenesiaceae                                         | Prymnesium                                             | parvum                                                 | Texoma1                                                | \n",
       "| MMETSP0008                                             | SRR1294412                                             | 7/22/15                                                | 12/30/15                                               | 27052143                                               | 2705214300                                             | 27052143                                               | 100                                                    | 1723                                                   | http://sra-download.ncbi.nlm.nih.gov/srapub/SRR1294412 | ⋯                                                      | 518DDFDAB09AA3C65FD442E6DF53FEFB                       | DavidCaron                                             | Haptophyta(Hacrobia,Chromalveolata)                    | Haptophyta                                             | Prymnesiophyceae                                       | Prymensiales                                           | Prymenesiaceae                                         | Prymnesium                                             | parvum                                                 | Texoma1                                                | \n",
       "\n",
       "\n"
      ],
      "text/plain": [
       "  SampleName Run        ReleaseDate LoadDate spots    bases     \n",
       "1 MMETSP0004 SRR1296863 7/22/15     7/26/15  24803955 2480395500\n",
       "2 MMETSP0005 SRR1296767 7/22/15     7/27/15  28100060 2810006000\n",
       "3 MMETSP0006 SRR1296917 7/22/15     7/26/15  21466210 2146621000\n",
       "4 MMETSP0007 SRR1296769 7/22/15     7/27/15  20174360 2017436000\n",
       "5 MMETSP0008 SRR1294411 7/22/15     12/30/15 22076599 4415319800\n",
       "6 MMETSP0008 SRR1294412 7/22/15     12/30/15 27052143 2705214300\n",
       "  spots_with_mates avgLength size_MB\n",
       "1 24803955         100       1604   \n",
       "2 28100060         100       1794   \n",
       "3 21466210         100       1426   \n",
       "4 20174360         100       1319   \n",
       "5 22076599         200       2866   \n",
       "6 27052143         100       1723   \n",
       "  download_path                                          ⋯\n",
       "1 http://sra-download.ncbi.nlm.nih.gov/srapub/SRR1296863 ⋯\n",
       "2 http://sra-download.ncbi.nlm.nih.gov/srapub/SRR1296767 ⋯\n",
       "3 http://sra-download.ncbi.nlm.nih.gov/srapub/SRR1296917 ⋯\n",
       "4 http://sra-download.ncbi.nlm.nih.gov/srapub/SRR1296769 ⋯\n",
       "5 http://sra-download.ncbi.nlm.nih.gov/srapub/SRR1294411 ⋯\n",
       "6 http://sra-download.ncbi.nlm.nih.gov/srapub/SRR1294412 ⋯\n",
       "  ReadHash                         Investigator\n",
       "1 BE7B899A61C3C5B642CBD90ABA78FDE2 DavidCaron  \n",
       "2 0450A2DCF3E1C1A7806DC172B25C3820 DavidCaron  \n",
       "3 BB3E9B7A3AD34ADFCBE578ED857B087C DavidCaron  \n",
       "4 2F070395CDE29249B9579E295711AAEE DavidCaron  \n",
       "5 E8DE36C2BBB99E78A1CCC6268C103D50 DavidCaron  \n",
       "6 518DDFDAB09AA3C65FD442E6DF53FEFB DavidCaron  \n",
       "  HighLevelClassification             Phylum     Class           \n",
       "1 Stramenopila(SAR,Chromalveolata)    Ochrophyta Synurophyceae   \n",
       "2 Stramenopila(SAR,Chromalveolata)    Ochrophyta Synurophyceae   \n",
       "3 Haptophyta(Hacrobia,Chromalveolata) Haptophyta Prymnesiophyceae\n",
       "4 Haptophyta(Hacrobia,Chromalveolata) Haptophyta Prymnesiophyceae\n",
       "5 Haptophyta(Hacrobia,Chromalveolata) Haptophyta Prymnesiophyceae\n",
       "6 Haptophyta(Hacrobia,Chromalveolata) Haptophyta Prymnesiophyceae\n",
       "  Order          Family          Genus      Species Strain  \n",
       "1 Ochromonadales Ochromonadaceae Ochromonas sp.     CCMP1393\n",
       "2 Ochromonadales Ochromonadaceae Ochromonas sp.     CCMP1393\n",
       "3 Prymensiales   Prymenesiaceae  Prymnesium parvum  Texoma1 \n",
       "4 Prymensiales   Prymenesiaceae  Prymnesium parvum  Texoma1 \n",
       "5 Prymensiales   Prymenesiaceae  Prymnesium parvum  Texoma1 \n",
       "6 Prymensiales   Prymenesiaceae  Prymnesium parvum  Texoma1 "
      ]
     },
     "metadata": {},
     "output_type": "display_data"
    }
   ],
   "source": [
    "MMETSP_ncbi_subset<-MMETSP_ncbi[,c(1:8,10,11,13:16,19:22,24:30,42,43,45:47)]\n",
    "names_matrix<-merge(MMETSP_ncbi_subset,mmetsp_id,by=\"SampleName\",all.y=TRUE)\n",
    "dim(names_matrix)\n",
    "head(names_matrix)\n",
    "#write.csv(names_matrix,\"imicrobe/MMETSP_ncbi_id.csv\")"
   ]
  },
  {
   "cell_type": "code",
   "execution_count": 130,
   "metadata": {},
   "outputs": [
    {
     "data": {
      "text/html": [
       "<table>\n",
       "<thead><tr><th scope=col>assembly</th><th scope=col>n_seqs</th><th scope=col>smallest</th><th scope=col>largest</th><th scope=col>n_bases</th><th scope=col>mean_len</th><th scope=col>n_under_200</th><th scope=col>n_over_1k</th><th scope=col>n_over_10k</th><th scope=col>n_with_orf</th><th scope=col>⋯</th><th scope=col>contigs_uncovered</th><th scope=col>p_contigs_uncovered</th><th scope=col>contigs_lowcovered</th><th scope=col>p_contigs_lowcovered</th><th scope=col>contigs_segmented</th><th scope=col>p_contigs_segmented</th><th scope=col>score</th><th scope=col>optimal_score</th><th scope=col>cutoff</th><th scope=col>SampleName</th></tr></thead>\n",
       "<tbody>\n",
       "\t<tr><td>/mnt/home/ljcohen/mmetsp_assemblies_trinity2.2.0/MMETSP0321.trinity_out_2.2.0.Trinity.fasta</td><td> 34549                                                                                     </td><td>201                                                                                        </td><td>20215                                                                                      </td><td>28902999                                                                                   </td><td>836.5799                                                                                   </td><td>0                                                                                          </td><td> 9363                                                                                      </td><td>10                                                                                         </td><td>15905                                                                                      </td><td>⋯                                                                                          </td><td>2639                                                                                       </td><td>0.07638                                                                                    </td><td>13421                                                                                      </td><td>0.38846                                                                                    </td><td>2979                                                                                       </td><td>0.08623                                                                                    </td><td>0.28436                                                                                    </td><td>0.44191                                                                                    </td><td>0.35877                                                                                    </td><td>MMETSP0321                                                                                 </td></tr>\n",
       "\t<tr><td>/mnt/home/ljcohen/mmetsp_assemblies_trinity2.2.0/MMETSP0176.trinity_out_2.2.0.Trinity.fasta</td><td> 65912                                                                                     </td><td>201                                                                                        </td><td>13016                                                                                      </td><td>44715978                                                                                   </td><td>678.4194                                                                                   </td><td>0                                                                                          </td><td>13103                                                                                      </td><td> 3                                                                                         </td><td>24264                                                                                      </td><td>⋯                                                                                          </td><td>2946                                                                                       </td><td>0.04470                                                                                    </td><td>38536                                                                                      </td><td>0.58466                                                                                    </td><td>3226                                                                                       </td><td>0.04894                                                                                    </td><td>0.25457                                                                                    </td><td>0.41681                                                                                    </td><td>0.42742                                                                                    </td><td>MMETSP0176                                                                                 </td></tr>\n",
       "\t<tr><td>/mnt/home/ljcohen/mmetsp_assemblies_trinity2.2.0/MMETSP0707.trinity_out_2.2.0.Trinity.fasta</td><td> 31972                                                                                     </td><td>201                                                                                        </td><td>14540                                                                                      </td><td>28138287                                                                                   </td><td>880.0915                                                                                   </td><td>0                                                                                          </td><td>10079                                                                                      </td><td> 4                                                                                         </td><td>16768                                                                                      </td><td>⋯                                                                                          </td><td> 900                                                                                       </td><td>0.02815                                                                                    </td><td>18858                                                                                      </td><td>0.58983                                                                                    </td><td>2036                                                                                       </td><td>0.06368                                                                                    </td><td>0.41495                                                                                    </td><td>0.49459                                                                                    </td><td>0.34565                                                                                    </td><td>MMETSP0707                                                                                 </td></tr>\n",
       "\t<tr><td>/mnt/home/ljcohen/mmetsp_assemblies_trinity2.2.0/MMETSP1447.trinity_out_2.2.0.Trinity.fasta</td><td> 37747                                                                                     </td><td>201                                                                                        </td><td> 8750                                                                                      </td><td>24738347                                                                                   </td><td>655.3725                                                                                   </td><td>0                                                                                          </td><td> 7279                                                                                      </td><td> 0                                                                                         </td><td>14976                                                                                      </td><td>⋯                                                                                          </td><td>1540                                                                                       </td><td>0.04080                                                                                    </td><td>20612                                                                                      </td><td>0.54606                                                                                    </td><td>2764                                                                                       </td><td>0.07322                                                                                    </td><td>0.24861                                                                                    </td><td>0.37155                                                                                    </td><td>0.31983                                                                                    </td><td>MMETSP1447                                                                                 </td></tr>\n",
       "\t<tr><td>/mnt/home/ljcohen/mmetsp_assemblies_trinity2.2.0/MMETSP1374.trinity_out_2.2.0.Trinity.fasta</td><td> 75410                                                                                     </td><td>201                                                                                        </td><td> 6216                                                                                      </td><td>50603476                                                                                   </td><td>671.0446                                                                                   </td><td>0                                                                                          </td><td>16020                                                                                      </td><td> 0                                                                                         </td><td>34443                                                                                      </td><td>⋯                                                                                          </td><td>1378                                                                                       </td><td>0.01827                                                                                    </td><td>51595                                                                                      </td><td>0.68419                                                                                    </td><td>1669                                                                                       </td><td>0.02213                                                                                    </td><td>0.37305                                                                                    </td><td>0.50665                                                                                    </td><td>0.54700                                                                                    </td><td>MMETSP1374                                                                                 </td></tr>\n",
       "\t<tr><td>/mnt/home/ljcohen/mmetsp_assemblies_trinity2.2.0/MMETSP0093.trinity_out_2.2.0.Trinity.fasta</td><td>110519                                                                                     </td><td>201                                                                                        </td><td> 5970                                                                                      </td><td>70719010                                                                                   </td><td>639.8810                                                                                   </td><td>0                                                                                          </td><td>21128                                                                                      </td><td> 0                                                                                         </td><td>52863                                                                                      </td><td>⋯                                                                                          </td><td>2054                                                                                       </td><td>0.01859                                                                                    </td><td>73660                                                                                      </td><td>0.66649                                                                                    </td><td>3767                                                                                       </td><td>0.03408                                                                                    </td><td>0.32403                                                                                    </td><td>0.44564                                                                                    </td><td>0.45843                                                                                    </td><td>MMETSP0093                                                                                 </td></tr>\n",
       "</tbody>\n",
       "</table>\n"
      ],
      "text/latex": [
       "\\begin{tabular}{r|llllllllllllllllllllllllllllllllllllllllllll}\n",
       " assembly & n\\_seqs & smallest & largest & n\\_bases & mean\\_len & n\\_under\\_200 & n\\_over\\_1k & n\\_over\\_10k & n\\_with\\_orf & ⋯ & contigs\\_uncovered & p\\_contigs\\_uncovered & contigs\\_lowcovered & p\\_contigs\\_lowcovered & contigs\\_segmented & p\\_contigs\\_segmented & score & optimal\\_score & cutoff & SampleName\\\\\n",
       "\\hline\n",
       "\t /mnt/home/ljcohen/mmetsp\\_assemblies\\_trinity2.2.0/MMETSP0321.trinity\\_out\\_2.2.0.Trinity.fasta &  34549                                                                                              & 201                                                                                                 & 20215                                                                                               & 28902999                                                                                            & 836.5799                                                                                            & 0                                                                                                   &  9363                                                                                               & 10                                                                                                  & 15905                                                                                               & ⋯                                                                                                   & 2639                                                                                                & 0.07638                                                                                             & 13421                                                                                               & 0.38846                                                                                             & 2979                                                                                                & 0.08623                                                                                             & 0.28436                                                                                             & 0.44191                                                                                             & 0.35877                                                                                             & MMETSP0321                                                                                         \\\\\n",
       "\t /mnt/home/ljcohen/mmetsp\\_assemblies\\_trinity2.2.0/MMETSP0176.trinity\\_out\\_2.2.0.Trinity.fasta &  65912                                                                                              & 201                                                                                                 & 13016                                                                                               & 44715978                                                                                            & 678.4194                                                                                            & 0                                                                                                   & 13103                                                                                               &  3                                                                                                  & 24264                                                                                               & ⋯                                                                                                   & 2946                                                                                                & 0.04470                                                                                             & 38536                                                                                               & 0.58466                                                                                             & 3226                                                                                                & 0.04894                                                                                             & 0.25457                                                                                             & 0.41681                                                                                             & 0.42742                                                                                             & MMETSP0176                                                                                         \\\\\n",
       "\t /mnt/home/ljcohen/mmetsp\\_assemblies\\_trinity2.2.0/MMETSP0707.trinity\\_out\\_2.2.0.Trinity.fasta &  31972                                                                                              & 201                                                                                                 & 14540                                                                                               & 28138287                                                                                            & 880.0915                                                                                            & 0                                                                                                   & 10079                                                                                               &  4                                                                                                  & 16768                                                                                               & ⋯                                                                                                   &  900                                                                                                & 0.02815                                                                                             & 18858                                                                                               & 0.58983                                                                                             & 2036                                                                                                & 0.06368                                                                                             & 0.41495                                                                                             & 0.49459                                                                                             & 0.34565                                                                                             & MMETSP0707                                                                                         \\\\\n",
       "\t /mnt/home/ljcohen/mmetsp\\_assemblies\\_trinity2.2.0/MMETSP1447.trinity\\_out\\_2.2.0.Trinity.fasta &  37747                                                                                              & 201                                                                                                 &  8750                                                                                               & 24738347                                                                                            & 655.3725                                                                                            & 0                                                                                                   &  7279                                                                                               &  0                                                                                                  & 14976                                                                                               & ⋯                                                                                                   & 1540                                                                                                & 0.04080                                                                                             & 20612                                                                                               & 0.54606                                                                                             & 2764                                                                                                & 0.07322                                                                                             & 0.24861                                                                                             & 0.37155                                                                                             & 0.31983                                                                                             & MMETSP1447                                                                                         \\\\\n",
       "\t /mnt/home/ljcohen/mmetsp\\_assemblies\\_trinity2.2.0/MMETSP1374.trinity\\_out\\_2.2.0.Trinity.fasta &  75410                                                                                              & 201                                                                                                 &  6216                                                                                               & 50603476                                                                                            & 671.0446                                                                                            & 0                                                                                                   & 16020                                                                                               &  0                                                                                                  & 34443                                                                                               & ⋯                                                                                                   & 1378                                                                                                & 0.01827                                                                                             & 51595                                                                                               & 0.68419                                                                                             & 1669                                                                                                & 0.02213                                                                                             & 0.37305                                                                                             & 0.50665                                                                                             & 0.54700                                                                                             & MMETSP1374                                                                                         \\\\\n",
       "\t /mnt/home/ljcohen/mmetsp\\_assemblies\\_trinity2.2.0/MMETSP0093.trinity\\_out\\_2.2.0.Trinity.fasta & 110519                                                                                              & 201                                                                                                 &  5970                                                                                               & 70719010                                                                                            & 639.8810                                                                                            & 0                                                                                                   & 21128                                                                                               &  0                                                                                                  & 52863                                                                                               & ⋯                                                                                                   & 2054                                                                                                & 0.01859                                                                                             & 73660                                                                                               & 0.66649                                                                                             & 3767                                                                                                & 0.03408                                                                                             & 0.32403                                                                                             & 0.44564                                                                                             & 0.45843                                                                                             & MMETSP0093                                                                                         \\\\\n",
       "\\end{tabular}\n"
      ],
      "text/markdown": [
       "\n",
       "assembly | n_seqs | smallest | largest | n_bases | mean_len | n_under_200 | n_over_1k | n_over_10k | n_with_orf | ⋯ | contigs_uncovered | p_contigs_uncovered | contigs_lowcovered | p_contigs_lowcovered | contigs_segmented | p_contigs_segmented | score | optimal_score | cutoff | SampleName | \n",
       "|---|---|---|---|---|---|\n",
       "| /mnt/home/ljcohen/mmetsp_assemblies_trinity2.2.0/MMETSP0321.trinity_out_2.2.0.Trinity.fasta |  34549                                                                                      | 201                                                                                         | 20215                                                                                       | 28902999                                                                                    | 836.5799                                                                                    | 0                                                                                           |  9363                                                                                       | 10                                                                                          | 15905                                                                                       | ⋯                                                                                           | 2639                                                                                        | 0.07638                                                                                     | 13421                                                                                       | 0.38846                                                                                     | 2979                                                                                        | 0.08623                                                                                     | 0.28436                                                                                     | 0.44191                                                                                     | 0.35877                                                                                     | MMETSP0321                                                                                  | \n",
       "| /mnt/home/ljcohen/mmetsp_assemblies_trinity2.2.0/MMETSP0176.trinity_out_2.2.0.Trinity.fasta |  65912                                                                                      | 201                                                                                         | 13016                                                                                       | 44715978                                                                                    | 678.4194                                                                                    | 0                                                                                           | 13103                                                                                       |  3                                                                                          | 24264                                                                                       | ⋯                                                                                           | 2946                                                                                        | 0.04470                                                                                     | 38536                                                                                       | 0.58466                                                                                     | 3226                                                                                        | 0.04894                                                                                     | 0.25457                                                                                     | 0.41681                                                                                     | 0.42742                                                                                     | MMETSP0176                                                                                  | \n",
       "| /mnt/home/ljcohen/mmetsp_assemblies_trinity2.2.0/MMETSP0707.trinity_out_2.2.0.Trinity.fasta |  31972                                                                                      | 201                                                                                         | 14540                                                                                       | 28138287                                                                                    | 880.0915                                                                                    | 0                                                                                           | 10079                                                                                       |  4                                                                                          | 16768                                                                                       | ⋯                                                                                           |  900                                                                                        | 0.02815                                                                                     | 18858                                                                                       | 0.58983                                                                                     | 2036                                                                                        | 0.06368                                                                                     | 0.41495                                                                                     | 0.49459                                                                                     | 0.34565                                                                                     | MMETSP0707                                                                                  | \n",
       "| /mnt/home/ljcohen/mmetsp_assemblies_trinity2.2.0/MMETSP1447.trinity_out_2.2.0.Trinity.fasta |  37747                                                                                      | 201                                                                                         |  8750                                                                                       | 24738347                                                                                    | 655.3725                                                                                    | 0                                                                                           |  7279                                                                                       |  0                                                                                          | 14976                                                                                       | ⋯                                                                                           | 1540                                                                                        | 0.04080                                                                                     | 20612                                                                                       | 0.54606                                                                                     | 2764                                                                                        | 0.07322                                                                                     | 0.24861                                                                                     | 0.37155                                                                                     | 0.31983                                                                                     | MMETSP1447                                                                                  | \n",
       "| /mnt/home/ljcohen/mmetsp_assemblies_trinity2.2.0/MMETSP1374.trinity_out_2.2.0.Trinity.fasta |  75410                                                                                      | 201                                                                                         |  6216                                                                                       | 50603476                                                                                    | 671.0446                                                                                    | 0                                                                                           | 16020                                                                                       |  0                                                                                          | 34443                                                                                       | ⋯                                                                                           | 1378                                                                                        | 0.01827                                                                                     | 51595                                                                                       | 0.68419                                                                                     | 1669                                                                                        | 0.02213                                                                                     | 0.37305                                                                                     | 0.50665                                                                                     | 0.54700                                                                                     | MMETSP1374                                                                                  | \n",
       "| /mnt/home/ljcohen/mmetsp_assemblies_trinity2.2.0/MMETSP0093.trinity_out_2.2.0.Trinity.fasta | 110519                                                                                      | 201                                                                                         |  5970                                                                                       | 70719010                                                                                    | 639.8810                                                                                    | 0                                                                                           | 21128                                                                                       |  0                                                                                          | 52863                                                                                       | ⋯                                                                                           | 2054                                                                                        | 0.01859                                                                                     | 73660                                                                                       | 0.66649                                                                                     | 3767                                                                                        | 0.03408                                                                                     | 0.32403                                                                                     | 0.44564                                                                                     | 0.45843                                                                                     | MMETSP0093                                                                                  | \n",
       "\n",
       "\n"
      ],
      "text/plain": [
       "  assembly                                                                                   \n",
       "1 /mnt/home/ljcohen/mmetsp_assemblies_trinity2.2.0/MMETSP0321.trinity_out_2.2.0.Trinity.fasta\n",
       "2 /mnt/home/ljcohen/mmetsp_assemblies_trinity2.2.0/MMETSP0176.trinity_out_2.2.0.Trinity.fasta\n",
       "3 /mnt/home/ljcohen/mmetsp_assemblies_trinity2.2.0/MMETSP0707.trinity_out_2.2.0.Trinity.fasta\n",
       "4 /mnt/home/ljcohen/mmetsp_assemblies_trinity2.2.0/MMETSP1447.trinity_out_2.2.0.Trinity.fasta\n",
       "5 /mnt/home/ljcohen/mmetsp_assemblies_trinity2.2.0/MMETSP1374.trinity_out_2.2.0.Trinity.fasta\n",
       "6 /mnt/home/ljcohen/mmetsp_assemblies_trinity2.2.0/MMETSP0093.trinity_out_2.2.0.Trinity.fasta\n",
       "  n_seqs smallest largest n_bases  mean_len n_under_200 n_over_1k n_over_10k\n",
       "1  34549 201      20215   28902999 836.5799 0            9363     10        \n",
       "2  65912 201      13016   44715978 678.4194 0           13103      3        \n",
       "3  31972 201      14540   28138287 880.0915 0           10079      4        \n",
       "4  37747 201       8750   24738347 655.3725 0            7279      0        \n",
       "5  75410 201       6216   50603476 671.0446 0           16020      0        \n",
       "6 110519 201       5970   70719010 639.8810 0           21128      0        \n",
       "  n_with_orf ⋯ contigs_uncovered p_contigs_uncovered contigs_lowcovered\n",
       "1 15905      ⋯ 2639              0.07638             13421             \n",
       "2 24264      ⋯ 2946              0.04470             38536             \n",
       "3 16768      ⋯  900              0.02815             18858             \n",
       "4 14976      ⋯ 1540              0.04080             20612             \n",
       "5 34443      ⋯ 1378              0.01827             51595             \n",
       "6 52863      ⋯ 2054              0.01859             73660             \n",
       "  p_contigs_lowcovered contigs_segmented p_contigs_segmented score  \n",
       "1 0.38846              2979              0.08623             0.28436\n",
       "2 0.58466              3226              0.04894             0.25457\n",
       "3 0.58983              2036              0.06368             0.41495\n",
       "4 0.54606              2764              0.07322             0.24861\n",
       "5 0.68419              1669              0.02213             0.37305\n",
       "6 0.66649              3767              0.03408             0.32403\n",
       "  optimal_score cutoff  SampleName\n",
       "1 0.44191       0.35877 MMETSP0321\n",
       "2 0.41681       0.42742 MMETSP0176\n",
       "3 0.49459       0.34565 MMETSP0707\n",
       "4 0.37155       0.31983 MMETSP1447\n",
       "5 0.50665       0.54700 MMETSP1374\n",
       "6 0.44564       0.45843 MMETSP0093"
      ]
     },
     "metadata": {},
     "output_type": "display_data"
    },
    {
     "data": {
      "text/html": [
       "<ol class=list-inline>\n",
       "\t<li>'assembly'</li>\n",
       "\t<li>'n_seqs'</li>\n",
       "\t<li>'smallest'</li>\n",
       "\t<li>'largest'</li>\n",
       "\t<li>'n_bases'</li>\n",
       "\t<li>'mean_len'</li>\n",
       "\t<li>'n_under_200'</li>\n",
       "\t<li>'n_over_1k'</li>\n",
       "\t<li>'n_over_10k'</li>\n",
       "\t<li>'n_with_orf'</li>\n",
       "\t<li>'mean_orf_percent'</li>\n",
       "\t<li>'n90'</li>\n",
       "\t<li>'n70'</li>\n",
       "\t<li>'n50'</li>\n",
       "\t<li>'n30'</li>\n",
       "\t<li>'n10'</li>\n",
       "\t<li>'gc'</li>\n",
       "\t<li>'gc_skew'</li>\n",
       "\t<li>'at_skew'</li>\n",
       "\t<li>'cpg_ratio'</li>\n",
       "\t<li>'bases_n'</li>\n",
       "\t<li>'proportion_n'</li>\n",
       "\t<li>'linguistic_complexity'</li>\n",
       "\t<li>'fragments'</li>\n",
       "\t<li>'fragments_mapped'</li>\n",
       "\t<li>'p_fragments_mapped'</li>\n",
       "\t<li>'good_mappings'</li>\n",
       "\t<li>'p_good_mapping'</li>\n",
       "\t<li>'bad_mappings'</li>\n",
       "\t<li>'potential_bridges'</li>\n",
       "\t<li>'bases_uncovered'</li>\n",
       "\t<li>'p_bases_uncovered'</li>\n",
       "\t<li>'contigs_uncovbase'</li>\n",
       "\t<li>'p_contigs_uncovbase'</li>\n",
       "\t<li>'contigs_uncovered'</li>\n",
       "\t<li>'p_contigs_uncovered'</li>\n",
       "\t<li>'contigs_lowcovered'</li>\n",
       "\t<li>'p_contigs_lowcovered'</li>\n",
       "\t<li>'contigs_segmented'</li>\n",
       "\t<li>'p_contigs_segmented'</li>\n",
       "\t<li>'score'</li>\n",
       "\t<li>'optimal_score'</li>\n",
       "\t<li>'cutoff'</li>\n",
       "\t<li>'SampleName'</li>\n",
       "</ol>\n"
      ],
      "text/latex": [
       "\\begin{enumerate*}\n",
       "\\item 'assembly'\n",
       "\\item 'n\\_seqs'\n",
       "\\item 'smallest'\n",
       "\\item 'largest'\n",
       "\\item 'n\\_bases'\n",
       "\\item 'mean\\_len'\n",
       "\\item 'n\\_under\\_200'\n",
       "\\item 'n\\_over\\_1k'\n",
       "\\item 'n\\_over\\_10k'\n",
       "\\item 'n\\_with\\_orf'\n",
       "\\item 'mean\\_orf\\_percent'\n",
       "\\item 'n90'\n",
       "\\item 'n70'\n",
       "\\item 'n50'\n",
       "\\item 'n30'\n",
       "\\item 'n10'\n",
       "\\item 'gc'\n",
       "\\item 'gc\\_skew'\n",
       "\\item 'at\\_skew'\n",
       "\\item 'cpg\\_ratio'\n",
       "\\item 'bases\\_n'\n",
       "\\item 'proportion\\_n'\n",
       "\\item 'linguistic\\_complexity'\n",
       "\\item 'fragments'\n",
       "\\item 'fragments\\_mapped'\n",
       "\\item 'p\\_fragments\\_mapped'\n",
       "\\item 'good\\_mappings'\n",
       "\\item 'p\\_good\\_mapping'\n",
       "\\item 'bad\\_mappings'\n",
       "\\item 'potential\\_bridges'\n",
       "\\item 'bases\\_uncovered'\n",
       "\\item 'p\\_bases\\_uncovered'\n",
       "\\item 'contigs\\_uncovbase'\n",
       "\\item 'p\\_contigs\\_uncovbase'\n",
       "\\item 'contigs\\_uncovered'\n",
       "\\item 'p\\_contigs\\_uncovered'\n",
       "\\item 'contigs\\_lowcovered'\n",
       "\\item 'p\\_contigs\\_lowcovered'\n",
       "\\item 'contigs\\_segmented'\n",
       "\\item 'p\\_contigs\\_segmented'\n",
       "\\item 'score'\n",
       "\\item 'optimal\\_score'\n",
       "\\item 'cutoff'\n",
       "\\item 'SampleName'\n",
       "\\end{enumerate*}\n"
      ],
      "text/markdown": [
       "1. 'assembly'\n",
       "2. 'n_seqs'\n",
       "3. 'smallest'\n",
       "4. 'largest'\n",
       "5. 'n_bases'\n",
       "6. 'mean_len'\n",
       "7. 'n_under_200'\n",
       "8. 'n_over_1k'\n",
       "9. 'n_over_10k'\n",
       "10. 'n_with_orf'\n",
       "11. 'mean_orf_percent'\n",
       "12. 'n90'\n",
       "13. 'n70'\n",
       "14. 'n50'\n",
       "15. 'n30'\n",
       "16. 'n10'\n",
       "17. 'gc'\n",
       "18. 'gc_skew'\n",
       "19. 'at_skew'\n",
       "20. 'cpg_ratio'\n",
       "21. 'bases_n'\n",
       "22. 'proportion_n'\n",
       "23. 'linguistic_complexity'\n",
       "24. 'fragments'\n",
       "25. 'fragments_mapped'\n",
       "26. 'p_fragments_mapped'\n",
       "27. 'good_mappings'\n",
       "28. 'p_good_mapping'\n",
       "29. 'bad_mappings'\n",
       "30. 'potential_bridges'\n",
       "31. 'bases_uncovered'\n",
       "32. 'p_bases_uncovered'\n",
       "33. 'contigs_uncovbase'\n",
       "34. 'p_contigs_uncovbase'\n",
       "35. 'contigs_uncovered'\n",
       "36. 'p_contigs_uncovered'\n",
       "37. 'contigs_lowcovered'\n",
       "38. 'p_contigs_lowcovered'\n",
       "39. 'contigs_segmented'\n",
       "40. 'p_contigs_segmented'\n",
       "41. 'score'\n",
       "42. 'optimal_score'\n",
       "43. 'cutoff'\n",
       "44. 'SampleName'\n",
       "\n",
       "\n"
      ],
      "text/plain": [
       " [1] \"assembly\"              \"n_seqs\"                \"smallest\"             \n",
       " [4] \"largest\"               \"n_bases\"               \"mean_len\"             \n",
       " [7] \"n_under_200\"           \"n_over_1k\"             \"n_over_10k\"           \n",
       "[10] \"n_with_orf\"            \"mean_orf_percent\"      \"n90\"                  \n",
       "[13] \"n70\"                   \"n50\"                   \"n30\"                  \n",
       "[16] \"n10\"                   \"gc\"                    \"gc_skew\"              \n",
       "[19] \"at_skew\"               \"cpg_ratio\"             \"bases_n\"              \n",
       "[22] \"proportion_n\"          \"linguistic_complexity\" \"fragments\"            \n",
       "[25] \"fragments_mapped\"      \"p_fragments_mapped\"    \"good_mappings\"        \n",
       "[28] \"p_good_mapping\"        \"bad_mappings\"          \"potential_bridges\"    \n",
       "[31] \"bases_uncovered\"       \"p_bases_uncovered\"     \"contigs_uncovbase\"    \n",
       "[34] \"p_contigs_uncovbase\"   \"contigs_uncovered\"     \"p_contigs_uncovered\"  \n",
       "[37] \"contigs_lowcovered\"    \"p_contigs_lowcovered\"  \"contigs_segmented\"    \n",
       "[40] \"p_contigs_segmented\"   \"score\"                 \"optimal_score\"        \n",
       "[43] \"cutoff\"                \"SampleName\"           "
      ]
     },
     "metadata": {},
     "output_type": "display_data"
    },
    {
     "data": {
      "text/html": [
       "<ol class=list-inline>\n",
       "\t<li>655</li>\n",
       "\t<li>44</li>\n",
       "</ol>\n"
      ],
      "text/latex": [
       "\\begin{enumerate*}\n",
       "\\item 655\n",
       "\\item 44\n",
       "\\end{enumerate*}\n"
      ],
      "text/markdown": [
       "1. 655\n",
       "2. 44\n",
       "\n",
       "\n"
      ],
      "text/plain": [
       "[1] 655  44"
      ]
     },
     "metadata": {},
     "output_type": "display_data"
    },
    {
     "data": {
      "text/html": [
       "<table>\n",
       "<thead><tr><th scope=col>assembly</th><th scope=col>n_seqs</th><th scope=col>smallest</th><th scope=col>largest</th><th scope=col>n_bases</th><th scope=col>mean_len</th><th scope=col>n_under_200</th><th scope=col>n_over_1k</th><th scope=col>n_over_10k</th><th scope=col>n_with_orf</th><th scope=col>⋯</th><th scope=col>contigs_uncovered</th><th scope=col>p_contigs_uncovered</th><th scope=col>contigs_lowcovered</th><th scope=col>p_contigs_lowcovered</th><th scope=col>contigs_segmented</th><th scope=col>p_contigs_segmented</th><th scope=col>score</th><th scope=col>optimal_score</th><th scope=col>cutoff</th><th scope=col>SampleName</th></tr></thead>\n",
       "<tbody>\n",
       "\t<tr><td>/mnt/research/ged/lisa/mmetsp/imicrobe/cds/MMETSP0908.cds.fa.fixed.fa</td><td>19864                                                                </td><td>148                                                                  </td><td>15748                                                                </td><td>19004275                                                             </td><td> 931.2553                                                            </td><td>2931                                                                 </td><td>6804                                                                 </td><td> 7                                                                   </td><td>11149                                                                </td><td>⋯                                                                    </td><td>  91                                                                 </td><td>0.00458                                                              </td><td>5838                                                                 </td><td>0.29390                                                              </td><td> 530                                                                 </td><td>0.02668                                                              </td><td>0.21695                                                              </td><td>0.36033                                                              </td><td>0.50742                                                              </td><td>MMETSP0908                                                           </td></tr>\n",
       "\t<tr><td>/mnt/research/ged/lisa/mmetsp/imicrobe/cds/MMETSP1012.cds.fa.fixed.fa</td><td>22648                                                                </td><td>148                                                                  </td><td>10614                                                                </td><td>20357940                                                             </td><td> 881.8503                                                            </td><td>2223                                                                 </td><td>7239                                                                 </td><td> 1                                                                   </td><td>14035                                                                </td><td>⋯                                                                    </td><td> 201                                                                 </td><td>0.00887                                                              </td><td>7119                                                                 </td><td>0.31433                                                              </td><td>5606                                                                 </td><td>0.24753                                                              </td><td>0.20972                                                              </td><td>0.22651                                                              </td><td>0.04483                                                              </td><td>MMETSP1012                                                           </td></tr>\n",
       "\t<tr><td>/mnt/research/ged/lisa/mmetsp/imicrobe/cds/MMETSP0044.cds.fa.fixed.fa</td><td>  331                                                                </td><td>148                                                                  </td><td>  542                                                                </td><td>   66800                                                             </td><td> 100.1480                                                            </td><td> 198                                                                 </td><td>   0                                                                 </td><td> 0                                                                   </td><td>    2                                                                </td><td>⋯                                                                    </td><td>   0                                                                 </td><td>0.00000                                                              </td><td>   0                                                                 </td><td>0.00000                                                              </td><td> 124                                                                 </td><td>0.37462                                                              </td><td>0.00003                                                              </td><td>0.00008                                                              </td><td>0.12070                                                              </td><td>MMETSP0044                                                           </td></tr>\n",
       "\t<tr><td>/mnt/research/ged/lisa/mmetsp/imicrobe/cds/MMETSP0946.cds.fa.fixed.fa</td><td> 7080                                                                </td><td>150                                                                  </td><td> 7091                                                                </td><td> 7248528                                                             </td><td>1018.1732                                                            </td><td> 227                                                                 </td><td>2863                                                                 </td><td> 0                                                                   </td><td> 5583                                                                </td><td>⋯                                                                    </td><td> 633                                                                 </td><td>0.08941                                                              </td><td>3892                                                                 </td><td>0.54972                                                              </td><td>  64                                                                 </td><td>0.00904                                                              </td><td>0.05618                                                              </td><td>0.07841                                                              </td><td>0.40182                                                              </td><td>MMETSP0946                                                           </td></tr>\n",
       "\t<tr><td>/mnt/research/ged/lisa/mmetsp/imicrobe/cds/MMETSP1434.cds.fa.fixed.fa</td><td> 9658                                                                </td><td>148                                                                  </td><td> 6816                                                                </td><td> 5734139                                                             </td><td> 575.8925                                                            </td><td> 990                                                                 </td><td>1300                                                                 </td><td> 0                                                                   </td><td> 5161                                                                </td><td>⋯                                                                    </td><td>  16                                                                 </td><td>0.00166                                                              </td><td>2792                                                                 </td><td>0.28909                                                              </td><td>1776                                                                 </td><td>0.18389                                                              </td><td>0.12391                                                              </td><td>0.17191                                                              </td><td>0.26449                                                              </td><td>MMETSP1434                                                           </td></tr>\n",
       "\t<tr><td>/mnt/research/ged/lisa/mmetsp/imicrobe/cds/MMETSP0166.cds.fa.fixed.fa</td><td>14497                                                                </td><td>149                                                                  </td><td>23944                                                                </td><td>17072010                                                             </td><td>1172.0250                                                            </td><td> 464                                                                 </td><td>6875                                                                 </td><td>14                                                                   </td><td>11792                                                                </td><td>⋯                                                                    </td><td>2075                                                                 </td><td>0.14313                                                              </td><td>6157                                                                 </td><td>0.42471                                                              </td><td> 518                                                                 </td><td>0.03573                                                              </td><td>0.25879                                                              </td><td>0.40627                                                              </td><td>0.54017                                                              </td><td>MMETSP0166                                                           </td></tr>\n",
       "</tbody>\n",
       "</table>\n"
      ],
      "text/latex": [
       "\\begin{tabular}{r|llllllllllllllllllllllllllllllllllllllllllll}\n",
       " assembly & n\\_seqs & smallest & largest & n\\_bases & mean\\_len & n\\_under\\_200 & n\\_over\\_1k & n\\_over\\_10k & n\\_with\\_orf & ⋯ & contigs\\_uncovered & p\\_contigs\\_uncovered & contigs\\_lowcovered & p\\_contigs\\_lowcovered & contigs\\_segmented & p\\_contigs\\_segmented & score & optimal\\_score & cutoff & SampleName\\\\\n",
       "\\hline\n",
       "\t /mnt/research/ged/lisa/mmetsp/imicrobe/cds/MMETSP0908.cds.fa.fixed.fa & 19864                                                                 & 148                                                                   & 15748                                                                 & 19004275                                                              &  931.2553                                                             & 2931                                                                  & 6804                                                                  &  7                                                                    & 11149                                                                 & ⋯                                                                     &   91                                                                  & 0.00458                                                               & 5838                                                                  & 0.29390                                                               &  530                                                                  & 0.02668                                                               & 0.21695                                                               & 0.36033                                                               & 0.50742                                                               & MMETSP0908                                                           \\\\\n",
       "\t /mnt/research/ged/lisa/mmetsp/imicrobe/cds/MMETSP1012.cds.fa.fixed.fa & 22648                                                                 & 148                                                                   & 10614                                                                 & 20357940                                                              &  881.8503                                                             & 2223                                                                  & 7239                                                                  &  1                                                                    & 14035                                                                 & ⋯                                                                     &  201                                                                  & 0.00887                                                               & 7119                                                                  & 0.31433                                                               & 5606                                                                  & 0.24753                                                               & 0.20972                                                               & 0.22651                                                               & 0.04483                                                               & MMETSP1012                                                           \\\\\n",
       "\t /mnt/research/ged/lisa/mmetsp/imicrobe/cds/MMETSP0044.cds.fa.fixed.fa &   331                                                                 & 148                                                                   &   542                                                                 &    66800                                                              &  100.1480                                                             &  198                                                                  &    0                                                                  &  0                                                                    &     2                                                                 & ⋯                                                                     &    0                                                                  & 0.00000                                                               &    0                                                                  & 0.00000                                                               &  124                                                                  & 0.37462                                                               & 0.00003                                                               & 0.00008                                                               & 0.12070                                                               & MMETSP0044                                                           \\\\\n",
       "\t /mnt/research/ged/lisa/mmetsp/imicrobe/cds/MMETSP0946.cds.fa.fixed.fa &  7080                                                                 & 150                                                                   &  7091                                                                 &  7248528                                                              & 1018.1732                                                             &  227                                                                  & 2863                                                                  &  0                                                                    &  5583                                                                 & ⋯                                                                     &  633                                                                  & 0.08941                                                               & 3892                                                                  & 0.54972                                                               &   64                                                                  & 0.00904                                                               & 0.05618                                                               & 0.07841                                                               & 0.40182                                                               & MMETSP0946                                                           \\\\\n",
       "\t /mnt/research/ged/lisa/mmetsp/imicrobe/cds/MMETSP1434.cds.fa.fixed.fa &  9658                                                                 & 148                                                                   &  6816                                                                 &  5734139                                                              &  575.8925                                                             &  990                                                                  & 1300                                                                  &  0                                                                    &  5161                                                                 & ⋯                                                                     &   16                                                                  & 0.00166                                                               & 2792                                                                  & 0.28909                                                               & 1776                                                                  & 0.18389                                                               & 0.12391                                                               & 0.17191                                                               & 0.26449                                                               & MMETSP1434                                                           \\\\\n",
       "\t /mnt/research/ged/lisa/mmetsp/imicrobe/cds/MMETSP0166.cds.fa.fixed.fa & 14497                                                                 & 149                                                                   & 23944                                                                 & 17072010                                                              & 1172.0250                                                             &  464                                                                  & 6875                                                                  & 14                                                                    & 11792                                                                 & ⋯                                                                     & 2075                                                                  & 0.14313                                                               & 6157                                                                  & 0.42471                                                               &  518                                                                  & 0.03573                                                               & 0.25879                                                               & 0.40627                                                               & 0.54017                                                               & MMETSP0166                                                           \\\\\n",
       "\\end{tabular}\n"
      ],
      "text/markdown": [
       "\n",
       "assembly | n_seqs | smallest | largest | n_bases | mean_len | n_under_200 | n_over_1k | n_over_10k | n_with_orf | ⋯ | contigs_uncovered | p_contigs_uncovered | contigs_lowcovered | p_contigs_lowcovered | contigs_segmented | p_contigs_segmented | score | optimal_score | cutoff | SampleName | \n",
       "|---|---|---|---|---|---|\n",
       "| /mnt/research/ged/lisa/mmetsp/imicrobe/cds/MMETSP0908.cds.fa.fixed.fa | 19864                                                                 | 148                                                                   | 15748                                                                 | 19004275                                                              |  931.2553                                                             | 2931                                                                  | 6804                                                                  |  7                                                                    | 11149                                                                 | ⋯                                                                     |   91                                                                  | 0.00458                                                               | 5838                                                                  | 0.29390                                                               |  530                                                                  | 0.02668                                                               | 0.21695                                                               | 0.36033                                                               | 0.50742                                                               | MMETSP0908                                                            | \n",
       "| /mnt/research/ged/lisa/mmetsp/imicrobe/cds/MMETSP1012.cds.fa.fixed.fa | 22648                                                                 | 148                                                                   | 10614                                                                 | 20357940                                                              |  881.8503                                                             | 2223                                                                  | 7239                                                                  |  1                                                                    | 14035                                                                 | ⋯                                                                     |  201                                                                  | 0.00887                                                               | 7119                                                                  | 0.31433                                                               | 5606                                                                  | 0.24753                                                               | 0.20972                                                               | 0.22651                                                               | 0.04483                                                               | MMETSP1012                                                            | \n",
       "| /mnt/research/ged/lisa/mmetsp/imicrobe/cds/MMETSP0044.cds.fa.fixed.fa |   331                                                                 | 148                                                                   |   542                                                                 |    66800                                                              |  100.1480                                                             |  198                                                                  |    0                                                                  |  0                                                                    |     2                                                                 | ⋯                                                                     |    0                                                                  | 0.00000                                                               |    0                                                                  | 0.00000                                                               |  124                                                                  | 0.37462                                                               | 0.00003                                                               | 0.00008                                                               | 0.12070                                                               | MMETSP0044                                                            | \n",
       "| /mnt/research/ged/lisa/mmetsp/imicrobe/cds/MMETSP0946.cds.fa.fixed.fa |  7080                                                                 | 150                                                                   |  7091                                                                 |  7248528                                                              | 1018.1732                                                             |  227                                                                  | 2863                                                                  |  0                                                                    |  5583                                                                 | ⋯                                                                     |  633                                                                  | 0.08941                                                               | 3892                                                                  | 0.54972                                                               |   64                                                                  | 0.00904                                                               | 0.05618                                                               | 0.07841                                                               | 0.40182                                                               | MMETSP0946                                                            | \n",
       "| /mnt/research/ged/lisa/mmetsp/imicrobe/cds/MMETSP1434.cds.fa.fixed.fa |  9658                                                                 | 148                                                                   |  6816                                                                 |  5734139                                                              |  575.8925                                                             |  990                                                                  | 1300                                                                  |  0                                                                    |  5161                                                                 | ⋯                                                                     |   16                                                                  | 0.00166                                                               | 2792                                                                  | 0.28909                                                               | 1776                                                                  | 0.18389                                                               | 0.12391                                                               | 0.17191                                                               | 0.26449                                                               | MMETSP1434                                                            | \n",
       "| /mnt/research/ged/lisa/mmetsp/imicrobe/cds/MMETSP0166.cds.fa.fixed.fa | 14497                                                                 | 149                                                                   | 23944                                                                 | 17072010                                                              | 1172.0250                                                             |  464                                                                  | 6875                                                                  | 14                                                                    | 11792                                                                 | ⋯                                                                     | 2075                                                                  | 0.14313                                                               | 6157                                                                  | 0.42471                                                               |  518                                                                  | 0.03573                                                               | 0.25879                                                               | 0.40627                                                               | 0.54017                                                               | MMETSP0166                                                            | \n",
       "\n",
       "\n"
      ],
      "text/plain": [
       "  assembly                                                              n_seqs\n",
       "1 /mnt/research/ged/lisa/mmetsp/imicrobe/cds/MMETSP0908.cds.fa.fixed.fa 19864 \n",
       "2 /mnt/research/ged/lisa/mmetsp/imicrobe/cds/MMETSP1012.cds.fa.fixed.fa 22648 \n",
       "3 /mnt/research/ged/lisa/mmetsp/imicrobe/cds/MMETSP0044.cds.fa.fixed.fa   331 \n",
       "4 /mnt/research/ged/lisa/mmetsp/imicrobe/cds/MMETSP0946.cds.fa.fixed.fa  7080 \n",
       "5 /mnt/research/ged/lisa/mmetsp/imicrobe/cds/MMETSP1434.cds.fa.fixed.fa  9658 \n",
       "6 /mnt/research/ged/lisa/mmetsp/imicrobe/cds/MMETSP0166.cds.fa.fixed.fa 14497 \n",
       "  smallest largest n_bases  mean_len  n_under_200 n_over_1k n_over_10k\n",
       "1 148      15748   19004275  931.2553 2931        6804       7        \n",
       "2 148      10614   20357940  881.8503 2223        7239       1        \n",
       "3 148        542      66800  100.1480  198           0       0        \n",
       "4 150       7091    7248528 1018.1732  227        2863       0        \n",
       "5 148       6816    5734139  575.8925  990        1300       0        \n",
       "6 149      23944   17072010 1172.0250  464        6875      14        \n",
       "  n_with_orf ⋯ contigs_uncovered p_contigs_uncovered contigs_lowcovered\n",
       "1 11149      ⋯   91              0.00458             5838              \n",
       "2 14035      ⋯  201              0.00887             7119              \n",
       "3     2      ⋯    0              0.00000                0              \n",
       "4  5583      ⋯  633              0.08941             3892              \n",
       "5  5161      ⋯   16              0.00166             2792              \n",
       "6 11792      ⋯ 2075              0.14313             6157              \n",
       "  p_contigs_lowcovered contigs_segmented p_contigs_segmented score  \n",
       "1 0.29390               530              0.02668             0.21695\n",
       "2 0.31433              5606              0.24753             0.20972\n",
       "3 0.00000               124              0.37462             0.00003\n",
       "4 0.54972                64              0.00904             0.05618\n",
       "5 0.28909              1776              0.18389             0.12391\n",
       "6 0.42471               518              0.03573             0.25879\n",
       "  optimal_score cutoff  SampleName\n",
       "1 0.36033       0.50742 MMETSP0908\n",
       "2 0.22651       0.04483 MMETSP1012\n",
       "3 0.00008       0.12070 MMETSP0044\n",
       "4 0.07841       0.40182 MMETSP0946\n",
       "5 0.17191       0.26449 MMETSP1434\n",
       "6 0.40627       0.54017 MMETSP0166"
      ]
     },
     "metadata": {},
     "output_type": "display_data"
    },
    {
     "data": {
      "text/html": [
       "<ol class=list-inline>\n",
       "\t<li>'assembly'</li>\n",
       "\t<li>'n_seqs'</li>\n",
       "\t<li>'smallest'</li>\n",
       "\t<li>'largest'</li>\n",
       "\t<li>'n_bases'</li>\n",
       "\t<li>'mean_len'</li>\n",
       "\t<li>'n_under_200'</li>\n",
       "\t<li>'n_over_1k'</li>\n",
       "\t<li>'n_over_10k'</li>\n",
       "\t<li>'n_with_orf'</li>\n",
       "\t<li>'mean_orf_percent'</li>\n",
       "\t<li>'n90'</li>\n",
       "\t<li>'n70'</li>\n",
       "\t<li>'n50'</li>\n",
       "\t<li>'n30'</li>\n",
       "\t<li>'n10'</li>\n",
       "\t<li>'gc'</li>\n",
       "\t<li>'gc_skew'</li>\n",
       "\t<li>'at_skew'</li>\n",
       "\t<li>'cpg_ratio'</li>\n",
       "\t<li>'bases_n'</li>\n",
       "\t<li>'proportion_n'</li>\n",
       "\t<li>'linguistic_complexity'</li>\n",
       "\t<li>'fragments'</li>\n",
       "\t<li>'fragments_mapped'</li>\n",
       "\t<li>'p_fragments_mapped'</li>\n",
       "\t<li>'good_mappings'</li>\n",
       "\t<li>'p_good_mapping'</li>\n",
       "\t<li>'bad_mappings'</li>\n",
       "\t<li>'potential_bridges'</li>\n",
       "\t<li>'bases_uncovered'</li>\n",
       "\t<li>'p_bases_uncovered'</li>\n",
       "\t<li>'contigs_uncovbase'</li>\n",
       "\t<li>'p_contigs_uncovbase'</li>\n",
       "\t<li>'contigs_uncovered'</li>\n",
       "\t<li>'p_contigs_uncovered'</li>\n",
       "\t<li>'contigs_lowcovered'</li>\n",
       "\t<li>'p_contigs_lowcovered'</li>\n",
       "\t<li>'contigs_segmented'</li>\n",
       "\t<li>'p_contigs_segmented'</li>\n",
       "\t<li>'score'</li>\n",
       "\t<li>'optimal_score'</li>\n",
       "\t<li>'cutoff'</li>\n",
       "\t<li>'SampleName'</li>\n",
       "</ol>\n"
      ],
      "text/latex": [
       "\\begin{enumerate*}\n",
       "\\item 'assembly'\n",
       "\\item 'n\\_seqs'\n",
       "\\item 'smallest'\n",
       "\\item 'largest'\n",
       "\\item 'n\\_bases'\n",
       "\\item 'mean\\_len'\n",
       "\\item 'n\\_under\\_200'\n",
       "\\item 'n\\_over\\_1k'\n",
       "\\item 'n\\_over\\_10k'\n",
       "\\item 'n\\_with\\_orf'\n",
       "\\item 'mean\\_orf\\_percent'\n",
       "\\item 'n90'\n",
       "\\item 'n70'\n",
       "\\item 'n50'\n",
       "\\item 'n30'\n",
       "\\item 'n10'\n",
       "\\item 'gc'\n",
       "\\item 'gc\\_skew'\n",
       "\\item 'at\\_skew'\n",
       "\\item 'cpg\\_ratio'\n",
       "\\item 'bases\\_n'\n",
       "\\item 'proportion\\_n'\n",
       "\\item 'linguistic\\_complexity'\n",
       "\\item 'fragments'\n",
       "\\item 'fragments\\_mapped'\n",
       "\\item 'p\\_fragments\\_mapped'\n",
       "\\item 'good\\_mappings'\n",
       "\\item 'p\\_good\\_mapping'\n",
       "\\item 'bad\\_mappings'\n",
       "\\item 'potential\\_bridges'\n",
       "\\item 'bases\\_uncovered'\n",
       "\\item 'p\\_bases\\_uncovered'\n",
       "\\item 'contigs\\_uncovbase'\n",
       "\\item 'p\\_contigs\\_uncovbase'\n",
       "\\item 'contigs\\_uncovered'\n",
       "\\item 'p\\_contigs\\_uncovered'\n",
       "\\item 'contigs\\_lowcovered'\n",
       "\\item 'p\\_contigs\\_lowcovered'\n",
       "\\item 'contigs\\_segmented'\n",
       "\\item 'p\\_contigs\\_segmented'\n",
       "\\item 'score'\n",
       "\\item 'optimal\\_score'\n",
       "\\item 'cutoff'\n",
       "\\item 'SampleName'\n",
       "\\end{enumerate*}\n"
      ],
      "text/markdown": [
       "1. 'assembly'\n",
       "2. 'n_seqs'\n",
       "3. 'smallest'\n",
       "4. 'largest'\n",
       "5. 'n_bases'\n",
       "6. 'mean_len'\n",
       "7. 'n_under_200'\n",
       "8. 'n_over_1k'\n",
       "9. 'n_over_10k'\n",
       "10. 'n_with_orf'\n",
       "11. 'mean_orf_percent'\n",
       "12. 'n90'\n",
       "13. 'n70'\n",
       "14. 'n50'\n",
       "15. 'n30'\n",
       "16. 'n10'\n",
       "17. 'gc'\n",
       "18. 'gc_skew'\n",
       "19. 'at_skew'\n",
       "20. 'cpg_ratio'\n",
       "21. 'bases_n'\n",
       "22. 'proportion_n'\n",
       "23. 'linguistic_complexity'\n",
       "24. 'fragments'\n",
       "25. 'fragments_mapped'\n",
       "26. 'p_fragments_mapped'\n",
       "27. 'good_mappings'\n",
       "28. 'p_good_mapping'\n",
       "29. 'bad_mappings'\n",
       "30. 'potential_bridges'\n",
       "31. 'bases_uncovered'\n",
       "32. 'p_bases_uncovered'\n",
       "33. 'contigs_uncovbase'\n",
       "34. 'p_contigs_uncovbase'\n",
       "35. 'contigs_uncovered'\n",
       "36. 'p_contigs_uncovered'\n",
       "37. 'contigs_lowcovered'\n",
       "38. 'p_contigs_lowcovered'\n",
       "39. 'contigs_segmented'\n",
       "40. 'p_contigs_segmented'\n",
       "41. 'score'\n",
       "42. 'optimal_score'\n",
       "43. 'cutoff'\n",
       "44. 'SampleName'\n",
       "\n",
       "\n"
      ],
      "text/plain": [
       " [1] \"assembly\"              \"n_seqs\"                \"smallest\"             \n",
       " [4] \"largest\"               \"n_bases\"               \"mean_len\"             \n",
       " [7] \"n_under_200\"           \"n_over_1k\"             \"n_over_10k\"           \n",
       "[10] \"n_with_orf\"            \"mean_orf_percent\"      \"n90\"                  \n",
       "[13] \"n70\"                   \"n50\"                   \"n30\"                  \n",
       "[16] \"n10\"                   \"gc\"                    \"gc_skew\"              \n",
       "[19] \"at_skew\"               \"cpg_ratio\"             \"bases_n\"              \n",
       "[22] \"proportion_n\"          \"linguistic_complexity\" \"fragments\"            \n",
       "[25] \"fragments_mapped\"      \"p_fragments_mapped\"    \"good_mappings\"        \n",
       "[28] \"p_good_mapping\"        \"bad_mappings\"          \"potential_bridges\"    \n",
       "[31] \"bases_uncovered\"       \"p_bases_uncovered\"     \"contigs_uncovbase\"    \n",
       "[34] \"p_contigs_uncovbase\"   \"contigs_uncovered\"     \"p_contigs_uncovered\"  \n",
       "[37] \"contigs_lowcovered\"    \"p_contigs_lowcovered\"  \"contigs_segmented\"    \n",
       "[40] \"p_contigs_segmented\"   \"score\"                 \"optimal_score\"        \n",
       "[43] \"cutoff\"                \"SampleName\"           "
      ]
     },
     "metadata": {},
     "output_type": "display_data"
    },
    {
     "data": {
      "text/html": [
       "<table>\n",
       "<thead><tr><th scope=col>assembly</th><th scope=col>n_seqs</th><th scope=col>smallest</th><th scope=col>largest</th><th scope=col>n_bases</th><th scope=col>mean_len</th><th scope=col>n_under_200</th><th scope=col>n_over_1k</th><th scope=col>n_over_10k</th><th scope=col>n_with_orf</th><th scope=col>⋯</th><th scope=col>contigs_uncovered</th><th scope=col>p_contigs_uncovered</th><th scope=col>contigs_lowcovered</th><th scope=col>p_contigs_lowcovered</th><th scope=col>contigs_segmented</th><th scope=col>p_contigs_segmented</th><th scope=col>score</th><th scope=col>optimal_score</th><th scope=col>cutoff</th><th scope=col>SampleName</th></tr></thead>\n",
       "<tbody>\n",
       "\t<tr><td>/mnt/research/ged/lisa/mmetsp/imicrobe/nt/MMETSP1353.nt.fa.fixed.fa</td><td> 8149                                                              </td><td>150                                                                </td><td>13798                                                              </td><td> 9969953                                                           </td><td>1208.0264                                                          </td><td> 724                                                               </td><td> 4028                                                              </td><td> 1                                                                 </td><td> 5234                                                              </td><td>⋯                                                                  </td><td>  5                                                                </td><td>0.00061                                                            </td><td> 3582                                                              </td><td>0.43956                                                            </td><td> 761                                                               </td><td>0.09339                                                            </td><td>0.38528                                                            </td><td>0.39392                                                            </td><td>0.03537                                                            </td><td>MMETSP1353                                                         </td></tr>\n",
       "\t<tr><td>/mnt/research/ged/lisa/mmetsp/imicrobe/nt/MMETSP1354.nt.fa.fixed.fa</td><td> 8747                                                              </td><td>150                                                                </td><td> 9980                                                              </td><td> 9559776                                                           </td><td>1070.4576                                                          </td><td>1139                                                               </td><td> 3633                                                              </td><td> 0                                                                 </td><td> 4829                                                              </td><td>⋯                                                                  </td><td> 13                                                                </td><td>0.00149                                                            </td><td> 3230                                                              </td><td>0.36927                                                            </td><td> 759                                                               </td><td>0.08677                                                            </td><td>0.32611                                                            </td><td>0.34886                                                            </td><td>0.27184                                                            </td><td>MMETSP1354                                                         </td></tr>\n",
       "\t<tr><td>/mnt/research/ged/lisa/mmetsp/imicrobe/nt/MMETSP1345.nt.fa.fixed.fa</td><td>10034                                                              </td><td>150                                                                </td><td>17706                                                              </td><td>14154431                                                           </td><td>1399.7382                                                          </td><td> 631                                                               </td><td> 5324                                                              </td><td>12                                                                 </td><td> 7461                                                              </td><td>⋯                                                                  </td><td>  3                                                                </td><td>0.00030                                                            </td><td> 1484                                                              </td><td>0.14790                                                            </td><td>1758                                                               </td><td>0.17520                                                            </td><td>0.38915                                                            </td><td>0.39320                                                            </td><td>0.02851                                                            </td><td>MMETSP1345                                                         </td></tr>\n",
       "\t<tr><td>/mnt/research/ged/lisa/mmetsp/imicrobe/nt/MMETSP1322.nt.fa.fixed.fa</td><td>16157                                                              </td><td>150                                                                </td><td> 8116                                                              </td><td>16161476                                                           </td><td> 978.5576                                                          </td><td>2030                                                               </td><td> 6361                                                              </td><td> 0                                                                 </td><td> 9560                                                              </td><td>⋯                                                                  </td><td> 42                                                                </td><td>0.00260                                                            </td><td> 7243                                                              </td><td>0.44829                                                            </td><td> 773                                                               </td><td>0.04784                                                            </td><td>0.34963                                                            </td><td>0.41175                                                            </td><td>0.38239                                                            </td><td>MMETSP1322                                                         </td></tr>\n",
       "\t<tr><td>/mnt/research/ged/lisa/mmetsp/imicrobe/nt/MMETSP1174.nt.fa.fixed.fa</td><td>39890                                                              </td><td>150                                                                </td><td>10957                                                              </td><td>30725084                                                           </td><td> 738.1932                                                          </td><td>7428                                                               </td><td>11050                                                              </td><td> 3                                                                 </td><td>15506                                                              </td><td>⋯                                                                  </td><td>156                                                                </td><td>0.00391                                                            </td><td>20324                                                              </td><td>0.50950                                                            </td><td>2210                                                               </td><td>0.05540                                                            </td><td>0.25116                                                            </td><td>0.35272                                                            </td><td>0.39508                                                            </td><td>MMETSP1174                                                         </td></tr>\n",
       "\t<tr><td>/mnt/research/ged/lisa/mmetsp/imicrobe/nt/MMETSP1360.nt.fa.fixed.fa</td><td>25787                                                              </td><td>150                                                                </td><td>12193                                                              </td><td>21136667                                                           </td><td> 788.3761                                                          </td><td>4684                                                               </td><td> 7436                                                              </td><td> 5                                                                 </td><td>11361                                                              </td><td>⋯                                                                  </td><td> 77                                                                </td><td>0.00299                                                            </td><td>11021                                                              </td><td>0.42739                                                            </td><td>2349                                                               </td><td>0.09109                                                            </td><td>0.27368                                                            </td><td>0.32625                                                            </td><td>0.31088                                                            </td><td>MMETSP1360                                                         </td></tr>\n",
       "</tbody>\n",
       "</table>\n"
      ],
      "text/latex": [
       "\\begin{tabular}{r|llllllllllllllllllllllllllllllllllllllllllll}\n",
       " assembly & n\\_seqs & smallest & largest & n\\_bases & mean\\_len & n\\_under\\_200 & n\\_over\\_1k & n\\_over\\_10k & n\\_with\\_orf & ⋯ & contigs\\_uncovered & p\\_contigs\\_uncovered & contigs\\_lowcovered & p\\_contigs\\_lowcovered & contigs\\_segmented & p\\_contigs\\_segmented & score & optimal\\_score & cutoff & SampleName\\\\\n",
       "\\hline\n",
       "\t /mnt/research/ged/lisa/mmetsp/imicrobe/nt/MMETSP1353.nt.fa.fixed.fa &  8149                                                               & 150                                                                 & 13798                                                               &  9969953                                                            & 1208.0264                                                           &  724                                                                &  4028                                                               &  1                                                                  &  5234                                                               & ⋯                                                                   &   5                                                                 & 0.00061                                                             &  3582                                                               & 0.43956                                                             &  761                                                                & 0.09339                                                             & 0.38528                                                             & 0.39392                                                             & 0.03537                                                             & MMETSP1353                                                         \\\\\n",
       "\t /mnt/research/ged/lisa/mmetsp/imicrobe/nt/MMETSP1354.nt.fa.fixed.fa &  8747                                                               & 150                                                                 &  9980                                                               &  9559776                                                            & 1070.4576                                                           & 1139                                                                &  3633                                                               &  0                                                                  &  4829                                                               & ⋯                                                                   &  13                                                                 & 0.00149                                                             &  3230                                                               & 0.36927                                                             &  759                                                                & 0.08677                                                             & 0.32611                                                             & 0.34886                                                             & 0.27184                                                             & MMETSP1354                                                         \\\\\n",
       "\t /mnt/research/ged/lisa/mmetsp/imicrobe/nt/MMETSP1345.nt.fa.fixed.fa & 10034                                                               & 150                                                                 & 17706                                                               & 14154431                                                            & 1399.7382                                                           &  631                                                                &  5324                                                               & 12                                                                  &  7461                                                               & ⋯                                                                   &   3                                                                 & 0.00030                                                             &  1484                                                               & 0.14790                                                             & 1758                                                                & 0.17520                                                             & 0.38915                                                             & 0.39320                                                             & 0.02851                                                             & MMETSP1345                                                         \\\\\n",
       "\t /mnt/research/ged/lisa/mmetsp/imicrobe/nt/MMETSP1322.nt.fa.fixed.fa & 16157                                                               & 150                                                                 &  8116                                                               & 16161476                                                            &  978.5576                                                           & 2030                                                                &  6361                                                               &  0                                                                  &  9560                                                               & ⋯                                                                   &  42                                                                 & 0.00260                                                             &  7243                                                               & 0.44829                                                             &  773                                                                & 0.04784                                                             & 0.34963                                                             & 0.41175                                                             & 0.38239                                                             & MMETSP1322                                                         \\\\\n",
       "\t /mnt/research/ged/lisa/mmetsp/imicrobe/nt/MMETSP1174.nt.fa.fixed.fa & 39890                                                               & 150                                                                 & 10957                                                               & 30725084                                                            &  738.1932                                                           & 7428                                                                & 11050                                                               &  3                                                                  & 15506                                                               & ⋯                                                                   & 156                                                                 & 0.00391                                                             & 20324                                                               & 0.50950                                                             & 2210                                                                & 0.05540                                                             & 0.25116                                                             & 0.35272                                                             & 0.39508                                                             & MMETSP1174                                                         \\\\\n",
       "\t /mnt/research/ged/lisa/mmetsp/imicrobe/nt/MMETSP1360.nt.fa.fixed.fa & 25787                                                               & 150                                                                 & 12193                                                               & 21136667                                                            &  788.3761                                                           & 4684                                                                &  7436                                                               &  5                                                                  & 11361                                                               & ⋯                                                                   &  77                                                                 & 0.00299                                                             & 11021                                                               & 0.42739                                                             & 2349                                                                & 0.09109                                                             & 0.27368                                                             & 0.32625                                                             & 0.31088                                                             & MMETSP1360                                                         \\\\\n",
       "\\end{tabular}\n"
      ],
      "text/markdown": [
       "\n",
       "assembly | n_seqs | smallest | largest | n_bases | mean_len | n_under_200 | n_over_1k | n_over_10k | n_with_orf | ⋯ | contigs_uncovered | p_contigs_uncovered | contigs_lowcovered | p_contigs_lowcovered | contigs_segmented | p_contigs_segmented | score | optimal_score | cutoff | SampleName | \n",
       "|---|---|---|---|---|---|\n",
       "| /mnt/research/ged/lisa/mmetsp/imicrobe/nt/MMETSP1353.nt.fa.fixed.fa |  8149                                                               | 150                                                                 | 13798                                                               |  9969953                                                            | 1208.0264                                                           |  724                                                                |  4028                                                               |  1                                                                  |  5234                                                               | ⋯                                                                   |   5                                                                 | 0.00061                                                             |  3582                                                               | 0.43956                                                             |  761                                                                | 0.09339                                                             | 0.38528                                                             | 0.39392                                                             | 0.03537                                                             | MMETSP1353                                                          | \n",
       "| /mnt/research/ged/lisa/mmetsp/imicrobe/nt/MMETSP1354.nt.fa.fixed.fa |  8747                                                               | 150                                                                 |  9980                                                               |  9559776                                                            | 1070.4576                                                           | 1139                                                                |  3633                                                               |  0                                                                  |  4829                                                               | ⋯                                                                   |  13                                                                 | 0.00149                                                             |  3230                                                               | 0.36927                                                             |  759                                                                | 0.08677                                                             | 0.32611                                                             | 0.34886                                                             | 0.27184                                                             | MMETSP1354                                                          | \n",
       "| /mnt/research/ged/lisa/mmetsp/imicrobe/nt/MMETSP1345.nt.fa.fixed.fa | 10034                                                               | 150                                                                 | 17706                                                               | 14154431                                                            | 1399.7382                                                           |  631                                                                |  5324                                                               | 12                                                                  |  7461                                                               | ⋯                                                                   |   3                                                                 | 0.00030                                                             |  1484                                                               | 0.14790                                                             | 1758                                                                | 0.17520                                                             | 0.38915                                                             | 0.39320                                                             | 0.02851                                                             | MMETSP1345                                                          | \n",
       "| /mnt/research/ged/lisa/mmetsp/imicrobe/nt/MMETSP1322.nt.fa.fixed.fa | 16157                                                               | 150                                                                 |  8116                                                               | 16161476                                                            |  978.5576                                                           | 2030                                                                |  6361                                                               |  0                                                                  |  9560                                                               | ⋯                                                                   |  42                                                                 | 0.00260                                                             |  7243                                                               | 0.44829                                                             |  773                                                                | 0.04784                                                             | 0.34963                                                             | 0.41175                                                             | 0.38239                                                             | MMETSP1322                                                          | \n",
       "| /mnt/research/ged/lisa/mmetsp/imicrobe/nt/MMETSP1174.nt.fa.fixed.fa | 39890                                                               | 150                                                                 | 10957                                                               | 30725084                                                            |  738.1932                                                           | 7428                                                                | 11050                                                               |  3                                                                  | 15506                                                               | ⋯                                                                   | 156                                                                 | 0.00391                                                             | 20324                                                               | 0.50950                                                             | 2210                                                                | 0.05540                                                             | 0.25116                                                             | 0.35272                                                             | 0.39508                                                             | MMETSP1174                                                          | \n",
       "| /mnt/research/ged/lisa/mmetsp/imicrobe/nt/MMETSP1360.nt.fa.fixed.fa | 25787                                                               | 150                                                                 | 12193                                                               | 21136667                                                            |  788.3761                                                           | 4684                                                                |  7436                                                               |  5                                                                  | 11361                                                               | ⋯                                                                   |  77                                                                 | 0.00299                                                             | 11021                                                               | 0.42739                                                             | 2349                                                                | 0.09109                                                             | 0.27368                                                             | 0.32625                                                             | 0.31088                                                             | MMETSP1360                                                          | \n",
       "\n",
       "\n"
      ],
      "text/plain": [
       "  assembly                                                            n_seqs\n",
       "1 /mnt/research/ged/lisa/mmetsp/imicrobe/nt/MMETSP1353.nt.fa.fixed.fa  8149 \n",
       "2 /mnt/research/ged/lisa/mmetsp/imicrobe/nt/MMETSP1354.nt.fa.fixed.fa  8747 \n",
       "3 /mnt/research/ged/lisa/mmetsp/imicrobe/nt/MMETSP1345.nt.fa.fixed.fa 10034 \n",
       "4 /mnt/research/ged/lisa/mmetsp/imicrobe/nt/MMETSP1322.nt.fa.fixed.fa 16157 \n",
       "5 /mnt/research/ged/lisa/mmetsp/imicrobe/nt/MMETSP1174.nt.fa.fixed.fa 39890 \n",
       "6 /mnt/research/ged/lisa/mmetsp/imicrobe/nt/MMETSP1360.nt.fa.fixed.fa 25787 \n",
       "  smallest largest n_bases  mean_len  n_under_200 n_over_1k n_over_10k\n",
       "1 150      13798    9969953 1208.0264  724         4028      1        \n",
       "2 150       9980    9559776 1070.4576 1139         3633      0        \n",
       "3 150      17706   14154431 1399.7382  631         5324     12        \n",
       "4 150       8116   16161476  978.5576 2030         6361      0        \n",
       "5 150      10957   30725084  738.1932 7428        11050      3        \n",
       "6 150      12193   21136667  788.3761 4684         7436      5        \n",
       "  n_with_orf ⋯ contigs_uncovered p_contigs_uncovered contigs_lowcovered\n",
       "1  5234      ⋯   5               0.00061              3582             \n",
       "2  4829      ⋯  13               0.00149              3230             \n",
       "3  7461      ⋯   3               0.00030              1484             \n",
       "4  9560      ⋯  42               0.00260              7243             \n",
       "5 15506      ⋯ 156               0.00391             20324             \n",
       "6 11361      ⋯  77               0.00299             11021             \n",
       "  p_contigs_lowcovered contigs_segmented p_contigs_segmented score  \n",
       "1 0.43956               761              0.09339             0.38528\n",
       "2 0.36927               759              0.08677             0.32611\n",
       "3 0.14790              1758              0.17520             0.38915\n",
       "4 0.44829               773              0.04784             0.34963\n",
       "5 0.50950              2210              0.05540             0.25116\n",
       "6 0.42739              2349              0.09109             0.27368\n",
       "  optimal_score cutoff  SampleName\n",
       "1 0.39392       0.03537 MMETSP1353\n",
       "2 0.34886       0.27184 MMETSP1354\n",
       "3 0.39320       0.02851 MMETSP1345\n",
       "4 0.41175       0.38239 MMETSP1322\n",
       "5 0.35272       0.39508 MMETSP1174\n",
       "6 0.32625       0.31088 MMETSP1360"
      ]
     },
     "metadata": {},
     "output_type": "display_data"
    },
    {
     "data": {
      "text/html": [
       "<ol class=list-inline>\n",
       "\t<li>'assembly'</li>\n",
       "\t<li>'n_seqs'</li>\n",
       "\t<li>'smallest'</li>\n",
       "\t<li>'largest'</li>\n",
       "\t<li>'n_bases'</li>\n",
       "\t<li>'mean_len'</li>\n",
       "\t<li>'n_under_200'</li>\n",
       "\t<li>'n_over_1k'</li>\n",
       "\t<li>'n_over_10k'</li>\n",
       "\t<li>'n_with_orf'</li>\n",
       "\t<li>'mean_orf_percent'</li>\n",
       "\t<li>'n90'</li>\n",
       "\t<li>'n70'</li>\n",
       "\t<li>'n50'</li>\n",
       "\t<li>'n30'</li>\n",
       "\t<li>'n10'</li>\n",
       "\t<li>'gc'</li>\n",
       "\t<li>'gc_skew'</li>\n",
       "\t<li>'at_skew'</li>\n",
       "\t<li>'cpg_ratio'</li>\n",
       "\t<li>'bases_n'</li>\n",
       "\t<li>'proportion_n'</li>\n",
       "\t<li>'linguistic_complexity'</li>\n",
       "\t<li>'fragments'</li>\n",
       "\t<li>'fragments_mapped'</li>\n",
       "\t<li>'p_fragments_mapped'</li>\n",
       "\t<li>'good_mappings'</li>\n",
       "\t<li>'p_good_mapping'</li>\n",
       "\t<li>'bad_mappings'</li>\n",
       "\t<li>'potential_bridges'</li>\n",
       "\t<li>'bases_uncovered'</li>\n",
       "\t<li>'p_bases_uncovered'</li>\n",
       "\t<li>'contigs_uncovbase'</li>\n",
       "\t<li>'p_contigs_uncovbase'</li>\n",
       "\t<li>'contigs_uncovered'</li>\n",
       "\t<li>'p_contigs_uncovered'</li>\n",
       "\t<li>'contigs_lowcovered'</li>\n",
       "\t<li>'p_contigs_lowcovered'</li>\n",
       "\t<li>'contigs_segmented'</li>\n",
       "\t<li>'p_contigs_segmented'</li>\n",
       "\t<li>'score'</li>\n",
       "\t<li>'optimal_score'</li>\n",
       "\t<li>'cutoff'</li>\n",
       "\t<li>'SampleName'</li>\n",
       "</ol>\n"
      ],
      "text/latex": [
       "\\begin{enumerate*}\n",
       "\\item 'assembly'\n",
       "\\item 'n\\_seqs'\n",
       "\\item 'smallest'\n",
       "\\item 'largest'\n",
       "\\item 'n\\_bases'\n",
       "\\item 'mean\\_len'\n",
       "\\item 'n\\_under\\_200'\n",
       "\\item 'n\\_over\\_1k'\n",
       "\\item 'n\\_over\\_10k'\n",
       "\\item 'n\\_with\\_orf'\n",
       "\\item 'mean\\_orf\\_percent'\n",
       "\\item 'n90'\n",
       "\\item 'n70'\n",
       "\\item 'n50'\n",
       "\\item 'n30'\n",
       "\\item 'n10'\n",
       "\\item 'gc'\n",
       "\\item 'gc\\_skew'\n",
       "\\item 'at\\_skew'\n",
       "\\item 'cpg\\_ratio'\n",
       "\\item 'bases\\_n'\n",
       "\\item 'proportion\\_n'\n",
       "\\item 'linguistic\\_complexity'\n",
       "\\item 'fragments'\n",
       "\\item 'fragments\\_mapped'\n",
       "\\item 'p\\_fragments\\_mapped'\n",
       "\\item 'good\\_mappings'\n",
       "\\item 'p\\_good\\_mapping'\n",
       "\\item 'bad\\_mappings'\n",
       "\\item 'potential\\_bridges'\n",
       "\\item 'bases\\_uncovered'\n",
       "\\item 'p\\_bases\\_uncovered'\n",
       "\\item 'contigs\\_uncovbase'\n",
       "\\item 'p\\_contigs\\_uncovbase'\n",
       "\\item 'contigs\\_uncovered'\n",
       "\\item 'p\\_contigs\\_uncovered'\n",
       "\\item 'contigs\\_lowcovered'\n",
       "\\item 'p\\_contigs\\_lowcovered'\n",
       "\\item 'contigs\\_segmented'\n",
       "\\item 'p\\_contigs\\_segmented'\n",
       "\\item 'score'\n",
       "\\item 'optimal\\_score'\n",
       "\\item 'cutoff'\n",
       "\\item 'SampleName'\n",
       "\\end{enumerate*}\n"
      ],
      "text/markdown": [
       "1. 'assembly'\n",
       "2. 'n_seqs'\n",
       "3. 'smallest'\n",
       "4. 'largest'\n",
       "5. 'n_bases'\n",
       "6. 'mean_len'\n",
       "7. 'n_under_200'\n",
       "8. 'n_over_1k'\n",
       "9. 'n_over_10k'\n",
       "10. 'n_with_orf'\n",
       "11. 'mean_orf_percent'\n",
       "12. 'n90'\n",
       "13. 'n70'\n",
       "14. 'n50'\n",
       "15. 'n30'\n",
       "16. 'n10'\n",
       "17. 'gc'\n",
       "18. 'gc_skew'\n",
       "19. 'at_skew'\n",
       "20. 'cpg_ratio'\n",
       "21. 'bases_n'\n",
       "22. 'proportion_n'\n",
       "23. 'linguistic_complexity'\n",
       "24. 'fragments'\n",
       "25. 'fragments_mapped'\n",
       "26. 'p_fragments_mapped'\n",
       "27. 'good_mappings'\n",
       "28. 'p_good_mapping'\n",
       "29. 'bad_mappings'\n",
       "30. 'potential_bridges'\n",
       "31. 'bases_uncovered'\n",
       "32. 'p_bases_uncovered'\n",
       "33. 'contigs_uncovbase'\n",
       "34. 'p_contigs_uncovbase'\n",
       "35. 'contigs_uncovered'\n",
       "36. 'p_contigs_uncovered'\n",
       "37. 'contigs_lowcovered'\n",
       "38. 'p_contigs_lowcovered'\n",
       "39. 'contigs_segmented'\n",
       "40. 'p_contigs_segmented'\n",
       "41. 'score'\n",
       "42. 'optimal_score'\n",
       "43. 'cutoff'\n",
       "44. 'SampleName'\n",
       "\n",
       "\n"
      ],
      "text/plain": [
       " [1] \"assembly\"              \"n_seqs\"                \"smallest\"             \n",
       " [4] \"largest\"               \"n_bases\"               \"mean_len\"             \n",
       " [7] \"n_under_200\"           \"n_over_1k\"             \"n_over_10k\"           \n",
       "[10] \"n_with_orf\"            \"mean_orf_percent\"      \"n90\"                  \n",
       "[13] \"n70\"                   \"n50\"                   \"n30\"                  \n",
       "[16] \"n10\"                   \"gc\"                    \"gc_skew\"              \n",
       "[19] \"at_skew\"               \"cpg_ratio\"             \"bases_n\"              \n",
       "[22] \"proportion_n\"          \"linguistic_complexity\" \"fragments\"            \n",
       "[25] \"fragments_mapped\"      \"p_fragments_mapped\"    \"good_mappings\"        \n",
       "[28] \"p_good_mapping\"        \"bad_mappings\"          \"potential_bridges\"    \n",
       "[31] \"bases_uncovered\"       \"p_bases_uncovered\"     \"contigs_uncovbase\"    \n",
       "[34] \"p_contigs_uncovbase\"   \"contigs_uncovered\"     \"p_contigs_uncovered\"  \n",
       "[37] \"contigs_lowcovered\"    \"p_contigs_lowcovered\"  \"contigs_segmented\"    \n",
       "[40] \"p_contigs_segmented\"   \"score\"                 \"optimal_score\"        \n",
       "[43] \"cutoff\"                \"SampleName\"           "
      ]
     },
     "metadata": {},
     "output_type": "display_data"
    },
    {
     "ename": "ERROR",
     "evalue": "Error in eval(expr, envir, enclos): object 'transrate_ncgr' not found\n",
     "output_type": "error",
     "traceback": [
      "Error in eval(expr, envir, enclos): object 'transrate_ncgr' not found\nTraceback:\n"
     ]
    }
   ],
   "source": [
    "head(transrate_dib)\n",
    "colnames(transrate_dib)\n",
    "dim(transrate_dib)\n",
    "head(transrate_ncgr_cds)\n",
    "colnames(transrate_ncgr_cds)\n",
    "head(transrate_ncgr_nt)\n",
    "colnames(transrate_ncgr_nt)\n",
    "dim(transrate_ncgr)\n",
    "head(transrate_reference)\n",
    "colnames(transrate_reference)\n",
    "dim(transrate_reference)\n",
    "head(busco_scores_euk_DIB)\n",
    "dim(busco_scores_euk_DIB)\n",
    "head(busco_scores_protist_DIB)\n",
    "dim(busco_scores_protist_DIB)\n",
    "head(busco_scores_euk_NCGR)\n",
    "dim(busco_scores_euk_NCGR)\n",
    "head(busco_scores_protist_NCGR)\n",
    "dim(busco_scores_protist_NCGR)\n",
    "head(reads)\n",
    "dim(reads)\n",
    "head(unique_kmers_dib)\n",
    "dim(unique_kmers_dib)\n",
    "head(unique_kmers_ncgr)\n",
    "dim(unique_kmers_ncgr)\n",
    "head(mmetsp_id)\n",
    "dim(mmetsp_id)\n",
    "head(MMETSP_ncbi)\n",
    "dim(MMETSP_ncbi)\n",
    "head(diginorm_stats)\n",
    "dim(diginorm_stats)"
   ]
  },
  {
   "cell_type": "code",
   "execution_count": 139,
   "metadata": {},
   "outputs": [
    {
     "data": {
      "text/html": [
       "<ol class=list-inline>\n",
       "\t<li>719</li>\n",
       "\t<li>42</li>\n",
       "</ol>\n"
      ],
      "text/latex": [
       "\\begin{enumerate*}\n",
       "\\item 719\n",
       "\\item 42\n",
       "\\end{enumerate*}\n"
      ],
      "text/markdown": [
       "1. 719\n",
       "2. 42\n",
       "\n",
       "\n"
      ],
      "text/plain": [
       "[1] 719  42"
      ]
     },
     "metadata": {},
     "output_type": "display_data"
    },
    {
     "data": {
      "text/html": [
       "<ol class=list-inline>\n",
       "\t<li>721</li>\n",
       "\t<li>85</li>\n",
       "</ol>\n"
      ],
      "text/latex": [
       "\\begin{enumerate*}\n",
       "\\item 721\n",
       "\\item 85\n",
       "\\end{enumerate*}\n"
      ],
      "text/markdown": [
       "1. 721\n",
       "2. 85\n",
       "\n",
       "\n"
      ],
      "text/plain": [
       "[1] 721  85"
      ]
     },
     "metadata": {},
     "output_type": "display_data"
    },
    {
     "data": {
      "text/html": [
       "<ol class=list-inline>\n",
       "\t<li>721</li>\n",
       "\t<li>128</li>\n",
       "</ol>\n"
      ],
      "text/latex": [
       "\\begin{enumerate*}\n",
       "\\item 721\n",
       "\\item 128\n",
       "\\end{enumerate*}\n"
      ],
      "text/markdown": [
       "1. 721\n",
       "2. 128\n",
       "\n",
       "\n"
      ],
      "text/plain": [
       "[1] 721 128"
      ]
     },
     "metadata": {},
     "output_type": "display_data"
    },
    {
     "data": {
      "text/html": [
       "<ol class=list-inline>\n",
       "\t<li>721</li>\n",
       "\t<li>171</li>\n",
       "</ol>\n"
      ],
      "text/latex": [
       "\\begin{enumerate*}\n",
       "\\item 721\n",
       "\\item 171\n",
       "\\end{enumerate*}\n"
      ],
      "text/markdown": [
       "1. 721\n",
       "2. 171\n",
       "\n",
       "\n"
      ],
      "text/plain": [
       "[1] 721 171"
      ]
     },
     "metadata": {},
     "output_type": "display_data"
    },
    {
     "name": "stderr",
     "output_type": "stream",
     "text": [
      "Warning message in merge.data.frame(evaluation_matrix_4, transrate_reference_forward, :\n",
      "“column names ‘assembly.x’, ‘n_seqs.x’, ‘smallest.x’, ‘largest.x’, ‘n_bases.x’, ‘mean_len.x’, ‘n_under_200.x’, ‘n_over_1k.x’, ‘n_over_10k.x’, ‘n_with_orf.x’, ‘mean_orf_percent.x’, ‘n90.x’, ‘n70.x’, ‘n50.x’, ‘n30.x’, ‘n10.x’, ‘gc.x’, ‘gc_skew.x’, ‘at_skew.x’, ‘cpg_ratio.x’, ‘bases_n.x’, ‘proportion_n.x’, ‘linguistic_complexity.x’, ‘score.x’, ‘optimal_score.x’, ‘cutoff.x’, ‘assembly.y’, ‘n_seqs.y’, ‘smallest.y’, ‘largest.y’, ‘n_bases.y’, ‘mean_len.y’, ‘n_under_200.y’, ‘n_over_1k.y’, ‘n_over_10k.y’, ‘n_with_orf.y’, ‘mean_orf_percent.y’, ‘n90.y’, ‘n70.y’, ‘n50.y’, ‘n30.y’, ‘n10.y’, ‘gc.y’, ‘gc_skew.y’, ‘at_skew.y’, ‘cpg_ratio.y’, ‘bases_n.y’, ‘proportion_n.y’, ‘linguistic_complexity.y’, ‘score.y’, ‘optimal_score.y’, ‘cutoff.y’ are duplicated in the result”"
     ]
    },
    {
     "data": {
      "text/html": [
       "<ol class=list-inline>\n",
       "\t<li>725</li>\n",
       "\t<li>215</li>\n",
       "</ol>\n"
      ],
      "text/latex": [
       "\\begin{enumerate*}\n",
       "\\item 725\n",
       "\\item 215\n",
       "\\end{enumerate*}\n"
      ],
      "text/markdown": [
       "1. 725\n",
       "2. 215\n",
       "\n",
       "\n"
      ],
      "text/plain": [
       "[1] 725 215"
      ]
     },
     "metadata": {},
     "output_type": "display_data"
    },
    {
     "name": "stderr",
     "output_type": "stream",
     "text": [
      "Warning message in merge.data.frame(evaluation_matrix_5, transrate_reference_reverse, :\n",
      "“column names ‘assembly.x’, ‘n_seqs.x’, ‘smallest.x’, ‘largest.x’, ‘n_bases.x’, ‘mean_len.x’, ‘n_under_200.x’, ‘n_over_1k.x’, ‘n_over_10k.x’, ‘n_with_orf.x’, ‘mean_orf_percent.x’, ‘n90.x’, ‘n70.x’, ‘n50.x’, ‘n30.x’, ‘n10.x’, ‘gc.x’, ‘gc_skew.x’, ‘at_skew.x’, ‘cpg_ratio.x’, ‘bases_n.x’, ‘proportion_n.x’, ‘linguistic_complexity.x’, ‘score.x’, ‘optimal_score.x’, ‘cutoff.x’, ‘assembly.y’, ‘n_seqs.y’, ‘smallest.y’, ‘largest.y’, ‘n_bases.y’, ‘mean_len.y’, ‘n_under_200.y’, ‘n_over_1k.y’, ‘n_over_10k.y’, ‘n_with_orf.y’, ‘mean_orf_percent.y’, ‘n90.y’, ‘n70.y’, ‘n50.y’, ‘n30.y’, ‘n10.y’, ‘gc.y’, ‘gc_skew.y’, ‘at_skew.y’, ‘cpg_ratio.y’, ‘bases_n.y’, ‘proportion_n.y’, ‘linguistic_complexity.y’, ‘score.y’, ‘optimal_score.y’, ‘cutoff.y’ are duplicated in the result”"
     ]
    },
    {
     "data": {
      "text/html": [
       "<ol class=list-inline>\n",
       "\t<li>733</li>\n",
       "\t<li>259</li>\n",
       "</ol>\n"
      ],
      "text/latex": [
       "\\begin{enumerate*}\n",
       "\\item 733\n",
       "\\item 259\n",
       "\\end{enumerate*}\n"
      ],
      "text/markdown": [
       "1. 733\n",
       "2. 259\n",
       "\n",
       "\n"
      ],
      "text/plain": [
       "[1] 733 259"
      ]
     },
     "metadata": {},
     "output_type": "display_data"
    },
    {
     "name": "stderr",
     "output_type": "stream",
     "text": [
      "Warning message in merge.data.frame(evaluation_matrix_6, busco_scores_euk_DIB, by = \"SampleName\", :\n",
      "“column names ‘assembly.x’, ‘n_seqs.x’, ‘smallest.x’, ‘largest.x’, ‘n_bases.x’, ‘mean_len.x’, ‘n_under_200.x’, ‘n_over_1k.x’, ‘n_over_10k.x’, ‘n_with_orf.x’, ‘mean_orf_percent.x’, ‘n90.x’, ‘n70.x’, ‘n50.x’, ‘n30.x’, ‘n10.x’, ‘gc.x’, ‘gc_skew.x’, ‘at_skew.x’, ‘cpg_ratio.x’, ‘bases_n.x’, ‘proportion_n.x’, ‘linguistic_complexity.x’, ‘score.x’, ‘optimal_score.x’, ‘cutoff.x’, ‘assembly.y’, ‘n_seqs.y’, ‘smallest.y’, ‘largest.y’, ‘n_bases.y’, ‘mean_len.y’, ‘n_under_200.y’, ‘n_over_1k.y’, ‘n_over_10k.y’, ‘n_with_orf.y’, ‘mean_orf_percent.y’, ‘n90.y’, ‘n70.y’, ‘n50.y’, ‘n30.y’, ‘n10.y’, ‘gc.y’, ‘gc_skew.y’, ‘at_skew.y’, ‘cpg_ratio.y’, ‘bases_n.y’, ‘proportion_n.y’, ‘linguistic_complexity.y’, ‘score.y’, ‘optimal_score.y’, ‘cutoff.y’ are duplicated in the result”"
     ]
    },
    {
     "data": {
      "text/html": [
       "<ol class=list-inline>\n",
       "\t<li>749</li>\n",
       "\t<li>265</li>\n",
       "</ol>\n"
      ],
      "text/latex": [
       "\\begin{enumerate*}\n",
       "\\item 749\n",
       "\\item 265\n",
       "\\end{enumerate*}\n"
      ],
      "text/markdown": [
       "1. 749\n",
       "2. 265\n",
       "\n",
       "\n"
      ],
      "text/plain": [
       "[1] 749 265"
      ]
     },
     "metadata": {},
     "output_type": "display_data"
    },
    {
     "name": "stderr",
     "output_type": "stream",
     "text": [
      "Warning message in merge.data.frame(evaluation_matrix_7, busco_scores_protist_DIB, :\n",
      "“column names ‘assembly.x’, ‘n_seqs.x’, ‘smallest.x’, ‘largest.x’, ‘n_bases.x’, ‘mean_len.x’, ‘n_under_200.x’, ‘n_over_1k.x’, ‘n_over_10k.x’, ‘n_with_orf.x’, ‘mean_orf_percent.x’, ‘n90.x’, ‘n70.x’, ‘n50.x’, ‘n30.x’, ‘n10.x’, ‘gc.x’, ‘gc_skew.x’, ‘at_skew.x’, ‘cpg_ratio.x’, ‘bases_n.x’, ‘proportion_n.x’, ‘linguistic_complexity.x’, ‘score.x’, ‘optimal_score.x’, ‘cutoff.x’, ‘assembly.y’, ‘n_seqs.y’, ‘smallest.y’, ‘largest.y’, ‘n_bases.y’, ‘mean_len.y’, ‘n_under_200.y’, ‘n_over_1k.y’, ‘n_over_10k.y’, ‘n_with_orf.y’, ‘mean_orf_percent.y’, ‘n90.y’, ‘n70.y’, ‘n50.y’, ‘n30.y’, ‘n10.y’, ‘gc.y’, ‘gc_skew.y’, ‘at_skew.y’, ‘cpg_ratio.y’, ‘bases_n.y’, ‘proportion_n.y’, ‘linguistic_complexity.y’, ‘score.y’, ‘optimal_score.y’, ‘cutoff.y’ are duplicated in the result”"
     ]
    },
    {
     "data": {
      "text/html": [
       "<ol class=list-inline>\n",
       "\t<li>781</li>\n",
       "\t<li>270</li>\n",
       "</ol>\n"
      ],
      "text/latex": [
       "\\begin{enumerate*}\n",
       "\\item 781\n",
       "\\item 270\n",
       "\\end{enumerate*}\n"
      ],
      "text/markdown": [
       "1. 781\n",
       "2. 270\n",
       "\n",
       "\n"
      ],
      "text/plain": [
       "[1] 781 270"
      ]
     },
     "metadata": {},
     "output_type": "display_data"
    },
    {
     "name": "stderr",
     "output_type": "stream",
     "text": [
      "Warning message in merge.data.frame(evaluation_matrix_8, busco_scores_euk_NCGR, :\n",
      "“column names ‘assembly.x’, ‘n_seqs.x’, ‘smallest.x’, ‘largest.x’, ‘n_bases.x’, ‘mean_len.x’, ‘n_under_200.x’, ‘n_over_1k.x’, ‘n_over_10k.x’, ‘n_with_orf.x’, ‘mean_orf_percent.x’, ‘n90.x’, ‘n70.x’, ‘n50.x’, ‘n30.x’, ‘n10.x’, ‘gc.x’, ‘gc_skew.x’, ‘at_skew.x’, ‘cpg_ratio.x’, ‘bases_n.x’, ‘proportion_n.x’, ‘linguistic_complexity.x’, ‘score.x’, ‘optimal_score.x’, ‘cutoff.x’, ‘assembly.y’, ‘n_seqs.y’, ‘smallest.y’, ‘largest.y’, ‘n_bases.y’, ‘mean_len.y’, ‘n_under_200.y’, ‘n_over_1k.y’, ‘n_over_10k.y’, ‘n_with_orf.y’, ‘mean_orf_percent.y’, ‘n90.y’, ‘n70.y’, ‘n50.y’, ‘n30.y’, ‘n10.y’, ‘gc.y’, ‘gc_skew.y’, ‘at_skew.y’, ‘cpg_ratio.y’, ‘bases_n.y’, ‘proportion_n.y’, ‘linguistic_complexity.y’, ‘score.y’, ‘optimal_score.y’, ‘cutoff.y’ are duplicated in the result”"
     ]
    },
    {
     "data": {
      "text/html": [
       "<ol class=list-inline>\n",
       "\t<li>781</li>\n",
       "\t<li>276</li>\n",
       "</ol>\n"
      ],
      "text/latex": [
       "\\begin{enumerate*}\n",
       "\\item 781\n",
       "\\item 276\n",
       "\\end{enumerate*}\n"
      ],
      "text/markdown": [
       "1. 781\n",
       "2. 276\n",
       "\n",
       "\n"
      ],
      "text/plain": [
       "[1] 781 276"
      ]
     },
     "metadata": {},
     "output_type": "display_data"
    },
    {
     "name": "stderr",
     "output_type": "stream",
     "text": [
      "Warning message in merge.data.frame(evaluation_matrix_9, busco_scores_protist_NCGR, :\n",
      "“column names ‘assembly.x’, ‘n_seqs.x’, ‘smallest.x’, ‘largest.x’, ‘n_bases.x’, ‘mean_len.x’, ‘n_under_200.x’, ‘n_over_1k.x’, ‘n_over_10k.x’, ‘n_with_orf.x’, ‘mean_orf_percent.x’, ‘n90.x’, ‘n70.x’, ‘n50.x’, ‘n30.x’, ‘n10.x’, ‘gc.x’, ‘gc_skew.x’, ‘at_skew.x’, ‘cpg_ratio.x’, ‘bases_n.x’, ‘proportion_n.x’, ‘linguistic_complexity.x’, ‘score.x’, ‘optimal_score.x’, ‘cutoff.x’, ‘assembly.y’, ‘n_seqs.y’, ‘smallest.y’, ‘largest.y’, ‘n_bases.y’, ‘mean_len.y’, ‘n_under_200.y’, ‘n_over_1k.y’, ‘n_over_10k.y’, ‘n_with_orf.y’, ‘mean_orf_percent.y’, ‘n90.y’, ‘n70.y’, ‘n50.y’, ‘n30.y’, ‘n10.y’, ‘gc.y’, ‘gc_skew.y’, ‘at_skew.y’, ‘cpg_ratio.y’, ‘bases_n.y’, ‘proportion_n.y’, ‘linguistic_complexity.y’, ‘score.y’, ‘optimal_score.y’, ‘cutoff.y’ are duplicated in the result”"
     ]
    },
    {
     "data": {
      "text/html": [
       "<ol class=list-inline>\n",
       "\t<li>781</li>\n",
       "\t<li>281</li>\n",
       "</ol>\n"
      ],
      "text/latex": [
       "\\begin{enumerate*}\n",
       "\\item 781\n",
       "\\item 281\n",
       "\\end{enumerate*}\n"
      ],
      "text/markdown": [
       "1. 781\n",
       "2. 281\n",
       "\n",
       "\n"
      ],
      "text/plain": [
       "[1] 781 281"
      ]
     },
     "metadata": {},
     "output_type": "display_data"
    },
    {
     "name": "stderr",
     "output_type": "stream",
     "text": [
      "Warning message in merge.data.frame(evaluation_matrix_10, unique_kmers_dib, by = \"SampleName\", :\n",
      "“column names ‘assembly.x’, ‘n_seqs.x’, ‘smallest.x’, ‘largest.x’, ‘n_bases.x’, ‘mean_len.x’, ‘n_under_200.x’, ‘n_over_1k.x’, ‘n_over_10k.x’, ‘n_with_orf.x’, ‘mean_orf_percent.x’, ‘n90.x’, ‘n70.x’, ‘n50.x’, ‘n30.x’, ‘n10.x’, ‘gc.x’, ‘gc_skew.x’, ‘at_skew.x’, ‘cpg_ratio.x’, ‘bases_n.x’, ‘proportion_n.x’, ‘linguistic_complexity.x’, ‘score.x’, ‘optimal_score.x’, ‘cutoff.x’, ‘assembly.y’, ‘n_seqs.y’, ‘smallest.y’, ‘largest.y’, ‘n_bases.y’, ‘mean_len.y’, ‘n_under_200.y’, ‘n_over_1k.y’, ‘n_over_10k.y’, ‘n_with_orf.y’, ‘mean_orf_percent.y’, ‘n90.y’, ‘n70.y’, ‘n50.y’, ‘n30.y’, ‘n10.y’, ‘gc.y’, ‘gc_skew.y’, ‘at_skew.y’, ‘cpg_ratio.y’, ‘bases_n.y’, ‘proportion_n.y’, ‘linguistic_complexity.y’, ‘score.y’, ‘optimal_score.y’, ‘cutoff.y’ are duplicated in the result”"
     ]
    },
    {
     "data": {
      "text/html": [
       "<ol class=list-inline>\n",
       "\t<li>781</li>\n",
       "\t<li>282</li>\n",
       "</ol>\n"
      ],
      "text/latex": [
       "\\begin{enumerate*}\n",
       "\\item 781\n",
       "\\item 282\n",
       "\\end{enumerate*}\n"
      ],
      "text/markdown": [
       "1. 781\n",
       "2. 282\n",
       "\n",
       "\n"
      ],
      "text/plain": [
       "[1] 781 282"
      ]
     },
     "metadata": {},
     "output_type": "display_data"
    },
    {
     "name": "stderr",
     "output_type": "stream",
     "text": [
      "Warning message in merge.data.frame(evaluation_matrix_11, unique_kmers_ncgr, by = \"SampleName\", :\n",
      "“column names ‘assembly.x’, ‘n_seqs.x’, ‘smallest.x’, ‘largest.x’, ‘n_bases.x’, ‘mean_len.x’, ‘n_under_200.x’, ‘n_over_1k.x’, ‘n_over_10k.x’, ‘n_with_orf.x’, ‘mean_orf_percent.x’, ‘n90.x’, ‘n70.x’, ‘n50.x’, ‘n30.x’, ‘n10.x’, ‘gc.x’, ‘gc_skew.x’, ‘at_skew.x’, ‘cpg_ratio.x’, ‘bases_n.x’, ‘proportion_n.x’, ‘linguistic_complexity.x’, ‘score.x’, ‘optimal_score.x’, ‘cutoff.x’, ‘assembly.y’, ‘n_seqs.y’, ‘smallest.y’, ‘largest.y’, ‘n_bases.y’, ‘mean_len.y’, ‘n_under_200.y’, ‘n_over_1k.y’, ‘n_over_10k.y’, ‘n_with_orf.y’, ‘mean_orf_percent.y’, ‘n90.y’, ‘n70.y’, ‘n50.y’, ‘n30.y’, ‘n10.y’, ‘gc.y’, ‘gc_skew.y’, ‘at_skew.y’, ‘cpg_ratio.y’, ‘bases_n.y’, ‘proportion_n.y’, ‘linguistic_complexity.y’, ‘score.y’, ‘optimal_score.y’, ‘cutoff.y’ are duplicated in the result”"
     ]
    },
    {
     "data": {
      "text/html": [
       "<ol class=list-inline>\n",
       "\t<li>781</li>\n",
       "\t<li>283</li>\n",
       "</ol>\n"
      ],
      "text/latex": [
       "\\begin{enumerate*}\n",
       "\\item 781\n",
       "\\item 283\n",
       "\\end{enumerate*}\n"
      ],
      "text/markdown": [
       "1. 781\n",
       "2. 283\n",
       "\n",
       "\n"
      ],
      "text/plain": [
       "[1] 781 283"
      ]
     },
     "metadata": {},
     "output_type": "display_data"
    },
    {
     "name": "stderr",
     "output_type": "stream",
     "text": [
      "Warning message in merge.data.frame(evaluation_matrix_12, diginorm_stats, by = \"SampleName\", :\n",
      "“column names ‘assembly.x’, ‘n_seqs.x’, ‘smallest.x’, ‘largest.x’, ‘n_bases.x’, ‘mean_len.x’, ‘n_under_200.x’, ‘n_over_1k.x’, ‘n_over_10k.x’, ‘n_with_orf.x’, ‘mean_orf_percent.x’, ‘n90.x’, ‘n70.x’, ‘n50.x’, ‘n30.x’, ‘n10.x’, ‘gc.x’, ‘gc_skew.x’, ‘at_skew.x’, ‘cpg_ratio.x’, ‘bases_n.x’, ‘proportion_n.x’, ‘linguistic_complexity.x’, ‘score.x’, ‘optimal_score.x’, ‘cutoff.x’, ‘assembly.y’, ‘n_seqs.y’, ‘smallest.y’, ‘largest.y’, ‘n_bases.y’, ‘mean_len.y’, ‘n_under_200.y’, ‘n_over_1k.y’, ‘n_over_10k.y’, ‘n_with_orf.y’, ‘mean_orf_percent.y’, ‘n90.y’, ‘n70.y’, ‘n50.y’, ‘n30.y’, ‘n10.y’, ‘gc.y’, ‘gc_skew.y’, ‘at_skew.y’, ‘cpg_ratio.y’, ‘bases_n.y’, ‘proportion_n.y’, ‘linguistic_complexity.y’, ‘score.y’, ‘optimal_score.y’, ‘cutoff.y’ are duplicated in the result”"
     ]
    },
    {
     "data": {
      "text/html": [
       "<ol class=list-inline>\n",
       "\t<li>781</li>\n",
       "\t<li>288</li>\n",
       "</ol>\n"
      ],
      "text/latex": [
       "\\begin{enumerate*}\n",
       "\\item 781\n",
       "\\item 288\n",
       "\\end{enumerate*}\n"
      ],
      "text/markdown": [
       "1. 781\n",
       "2. 288\n",
       "\n",
       "\n"
      ],
      "text/plain": [
       "[1] 781 288"
      ]
     },
     "metadata": {},
     "output_type": "display_data"
    },
    {
     "data": {
      "text/html": [
       "<ol class=list-inline>\n",
       "\t<li>'SampleName'</li>\n",
       "\t<li>'Run.x'</li>\n",
       "\t<li>'ReleaseDate'</li>\n",
       "\t<li>'LoadDate'</li>\n",
       "\t<li>'spots'</li>\n",
       "\t<li>'bases'</li>\n",
       "\t<li>'spots_with_mates'</li>\n",
       "\t<li>'avgLength'</li>\n",
       "\t<li>'size_MB'</li>\n",
       "\t<li>'download_path'</li>\n",
       "\t<li>'Experiment'</li>\n",
       "\t<li>'LibraryStrategy'</li>\n",
       "\t<li>'LibrarySelection'</li>\n",
       "\t<li>'LibrarySource'</li>\n",
       "\t<li>'LibraryLayout'</li>\n",
       "\t<li>'Platform'</li>\n",
       "\t<li>'Model'</li>\n",
       "\t<li>'SRAStudy'</li>\n",
       "\t<li>'BioProject'</li>\n",
       "\t<li>'ProjectID'</li>\n",
       "\t<li>'Sample'</li>\n",
       "\t<li>'BioSample'</li>\n",
       "\t<li>'SampleType'</li>\n",
       "\t<li>'TaxID'</li>\n",
       "\t<li>'ScientificName'</li>\n",
       "\t<li>'CenterName'</li>\n",
       "\t<li>'Submission'</li>\n",
       "\t<li>'Consent'</li>\n",
       "\t<li>'RunHash'</li>\n",
       "\t<li>'ReadHash'</li>\n",
       "\t<li>'Investigator'</li>\n",
       "\t<li>'HighLevelClassification'</li>\n",
       "\t<li>'Phylum'</li>\n",
       "\t<li>'Class'</li>\n",
       "\t<li>'Order'</li>\n",
       "\t<li>'Family'</li>\n",
       "\t<li>'Genus'</li>\n",
       "\t<li>'Species'</li>\n",
       "\t<li>'Strain'</li>\n",
       "\t<li>'Input.Reads'</li>\n",
       "\t<li>'Surviving.Reads'</li>\n",
       "\t<li>'Percent.Surviving'</li>\n",
       "\t<li>'assembly.x'</li>\n",
       "\t<li>'n_seqs.x'</li>\n",
       "\t<li>'smallest.x'</li>\n",
       "\t<li>'largest.x'</li>\n",
       "\t<li>'n_bases.x'</li>\n",
       "\t<li>'mean_len.x'</li>\n",
       "\t<li>'n_under_200.x'</li>\n",
       "\t<li>'n_over_1k.x'</li>\n",
       "\t<li>'n_over_10k.x'</li>\n",
       "\t<li>'n_with_orf.x'</li>\n",
       "\t<li>'mean_orf_percent.x'</li>\n",
       "\t<li>'n90.x'</li>\n",
       "\t<li>'n70.x'</li>\n",
       "\t<li>'n50.x'</li>\n",
       "\t<li>'n30.x'</li>\n",
       "\t<li>'n10.x'</li>\n",
       "\t<li>'gc.x'</li>\n",
       "\t<li>'gc_skew.x'</li>\n",
       "\t<li>'at_skew.x'</li>\n",
       "\t<li>'cpg_ratio.x'</li>\n",
       "\t<li>'bases_n.x'</li>\n",
       "\t<li>'proportion_n.x'</li>\n",
       "\t<li>'linguistic_complexity.x'</li>\n",
       "\t<li>'fragments.x'</li>\n",
       "\t<li>'fragments_mapped.x'</li>\n",
       "\t<li>'p_fragments_mapped.x'</li>\n",
       "\t<li>'good_mappings.x'</li>\n",
       "\t<li>'p_good_mapping.x'</li>\n",
       "\t<li>'bad_mappings.x'</li>\n",
       "\t<li>'potential_bridges.x'</li>\n",
       "\t<li>'bases_uncovered.x'</li>\n",
       "\t<li>'p_bases_uncovered.x'</li>\n",
       "\t<li>'contigs_uncovbase.x'</li>\n",
       "\t<li>'p_contigs_uncovbase.x'</li>\n",
       "\t<li>'contigs_uncovered.x'</li>\n",
       "\t<li>'p_contigs_uncovered.x'</li>\n",
       "\t<li>'contigs_lowcovered.x'</li>\n",
       "\t<li>'p_contigs_lowcovered.x'</li>\n",
       "\t<li>'contigs_segmented.x'</li>\n",
       "\t<li>'p_contigs_segmented.x'</li>\n",
       "\t<li>'score.x'</li>\n",
       "\t<li>'optimal_score.x'</li>\n",
       "\t<li>'cutoff.x'</li>\n",
       "\t<li>'assembly.y'</li>\n",
       "\t<li>'n_seqs.y'</li>\n",
       "\t<li>'smallest.y'</li>\n",
       "\t<li>'largest.y'</li>\n",
       "\t<li>'n_bases.y'</li>\n",
       "\t<li>'mean_len.y'</li>\n",
       "\t<li>'n_under_200.y'</li>\n",
       "\t<li>'n_over_1k.y'</li>\n",
       "\t<li>'n_over_10k.y'</li>\n",
       "\t<li>'n_with_orf.y'</li>\n",
       "\t<li>'mean_orf_percent.y'</li>\n",
       "\t<li>'n90.y'</li>\n",
       "\t<li>'n70.y'</li>\n",
       "\t<li>'n50.y'</li>\n",
       "\t<li>'n30.y'</li>\n",
       "\t<li>'n10.y'</li>\n",
       "\t<li>'gc.y'</li>\n",
       "\t<li>'gc_skew.y'</li>\n",
       "\t<li>'at_skew.y'</li>\n",
       "\t<li>'cpg_ratio.y'</li>\n",
       "\t<li>'bases_n.y'</li>\n",
       "\t<li>'proportion_n.y'</li>\n",
       "\t<li>'linguistic_complexity.y'</li>\n",
       "\t<li>'fragments.y'</li>\n",
       "\t<li>'fragments_mapped.y'</li>\n",
       "\t<li>'p_fragments_mapped.y'</li>\n",
       "\t<li>'good_mappings.y'</li>\n",
       "\t<li>'p_good_mapping.y'</li>\n",
       "\t<li>'bad_mappings.y'</li>\n",
       "\t<li>'potential_bridges.y'</li>\n",
       "\t<li>'bases_uncovered.y'</li>\n",
       "\t<li>'p_bases_uncovered.y'</li>\n",
       "\t<li>'contigs_uncovbase.y'</li>\n",
       "\t<li>'p_contigs_uncovbase.y'</li>\n",
       "\t<li>'contigs_uncovered.y'</li>\n",
       "\t<li>'p_contigs_uncovered.y'</li>\n",
       "\t<li>'contigs_lowcovered.y'</li>\n",
       "\t<li>'p_contigs_lowcovered.y'</li>\n",
       "\t<li>'contigs_segmented.y'</li>\n",
       "\t<li>'p_contigs_segmented.y'</li>\n",
       "\t<li>'score.y'</li>\n",
       "\t<li>'optimal_score.y'</li>\n",
       "\t<li>'cutoff.y'</li>\n",
       "\t<li>'assembly.x'</li>\n",
       "\t<li>'n_seqs.x'</li>\n",
       "\t<li>'smallest.x'</li>\n",
       "\t<li>'largest.x'</li>\n",
       "\t<li>'n_bases.x'</li>\n",
       "\t<li>'mean_len.x'</li>\n",
       "\t<li>'n_under_200.x'</li>\n",
       "\t<li>'n_over_1k.x'</li>\n",
       "\t<li>'n_over_10k.x'</li>\n",
       "\t<li>'n_with_orf.x'</li>\n",
       "\t<li>'mean_orf_percent.x'</li>\n",
       "\t<li>'n90.x'</li>\n",
       "\t<li>'n70.x'</li>\n",
       "\t<li>'n50.x'</li>\n",
       "\t<li>'n30.x'</li>\n",
       "\t<li>'n10.x'</li>\n",
       "\t<li>'gc.x'</li>\n",
       "\t<li>'gc_skew.x'</li>\n",
       "\t<li>'at_skew.x'</li>\n",
       "\t<li>'cpg_ratio.x'</li>\n",
       "\t<li>'bases_n.x'</li>\n",
       "\t<li>'proportion_n.x'</li>\n",
       "\t<li>'linguistic_complexity.x'</li>\n",
       "\t<li>'fragments'</li>\n",
       "\t<li>'fragments_mapped'</li>\n",
       "\t<li>'p_fragments_mapped'</li>\n",
       "\t<li>'good_mappings'</li>\n",
       "\t<li>'p_good_mapping'</li>\n",
       "\t<li>'bad_mappings'</li>\n",
       "\t<li>'potential_bridges'</li>\n",
       "\t<li>'bases_uncovered'</li>\n",
       "\t<li>'p_bases_uncovered'</li>\n",
       "\t<li>'contigs_uncovbase'</li>\n",
       "\t<li>'p_contigs_uncovbase'</li>\n",
       "\t<li>'contigs_uncovered'</li>\n",
       "\t<li>'p_contigs_uncovered'</li>\n",
       "\t<li>'contigs_lowcovered'</li>\n",
       "\t<li>'p_contigs_lowcovered'</li>\n",
       "\t<li>'contigs_segmented'</li>\n",
       "\t<li>'p_contigs_segmented'</li>\n",
       "\t<li>'score.x'</li>\n",
       "\t<li>'optimal_score.x'</li>\n",
       "\t<li>'cutoff.x'</li>\n",
       "\t<li>'assembly.y'</li>\n",
       "\t<li>'n_seqs.y'</li>\n",
       "\t<li>'smallest.y'</li>\n",
       "\t<li>'largest.y'</li>\n",
       "\t<li>'n_bases.y'</li>\n",
       "\t<li>'mean_len.y'</li>\n",
       "\t<li>'n_under_200.y'</li>\n",
       "\t<li>'n_over_1k.y'</li>\n",
       "\t<li>'n_over_10k.y'</li>\n",
       "\t<li>'n_with_orf.y'</li>\n",
       "\t<li>'mean_orf_percent.y'</li>\n",
       "\t<li>'n90.y'</li>\n",
       "\t<li>'n70.y'</li>\n",
       "\t<li>'n50.y'</li>\n",
       "\t<li>'n30.y'</li>\n",
       "\t<li>'n10.y'</li>\n",
       "\t<li>'gc.y'</li>\n",
       "\t<li>'gc_skew.y'</li>\n",
       "\t<li>'at_skew.y'</li>\n",
       "\t<li>'cpg_ratio.y'</li>\n",
       "\t<li>'bases_n.y'</li>\n",
       "\t<li>'proportion_n.y'</li>\n",
       "\t<li>'linguistic_complexity.y'</li>\n",
       "\t<li>'CRBB_hits.x'</li>\n",
       "\t<li>'n_contigs_with_CRBB.x'</li>\n",
       "\t<li>'p_contigs_with_CRBB.x'</li>\n",
       "\t<li>'rbh_per_reference.x'</li>\n",
       "\t<li>'n_refs_with_CRBB.x'</li>\n",
       "\t<li>'p_refs_with_CRBB.x'</li>\n",
       "\t<li>'cov25.x'</li>\n",
       "\t<li>'p_cov25.x'</li>\n",
       "\t<li>'cov50.x'</li>\n",
       "\t<li>'p_cov50.x'</li>\n",
       "\t<li>'cov75.x'</li>\n",
       "\t<li>'p_cov75.x'</li>\n",
       "\t<li>'cov85.x'</li>\n",
       "\t<li>'p_cov85.x'</li>\n",
       "\t<li>'cov95.x'</li>\n",
       "\t<li>'p_cov95.x'</li>\n",
       "\t<li>'reference_coverage.x'</li>\n",
       "\t<li>'score.y'</li>\n",
       "\t<li>'optimal_score.y'</li>\n",
       "\t<li>'cutoff.y'</li>\n",
       "\t<li>'Run.y'</li>\n",
       "\t<li>'assembly'</li>\n",
       "\t<li>'n_seqs'</li>\n",
       "\t<li>'smallest'</li>\n",
       "\t<li>'largest'</li>\n",
       "\t<li>'n_bases'</li>\n",
       "\t<li>'mean_len'</li>\n",
       "\t<li>'n_under_200'</li>\n",
       "\t<li>'n_over_1k'</li>\n",
       "\t<li>'n_over_10k'</li>\n",
       "\t<li>'n_with_orf'</li>\n",
       "\t<li>'mean_orf_percent'</li>\n",
       "\t<li>'n90'</li>\n",
       "\t<li>'n70'</li>\n",
       "\t<li>'n50'</li>\n",
       "\t<li>'n30'</li>\n",
       "\t<li>'n10'</li>\n",
       "\t<li>'gc'</li>\n",
       "\t<li>'gc_skew'</li>\n",
       "\t<li>'at_skew'</li>\n",
       "\t<li>'cpg_ratio'</li>\n",
       "\t<li>'bases_n'</li>\n",
       "\t<li>'proportion_n'</li>\n",
       "\t<li>'linguistic_complexity'</li>\n",
       "\t<li>'CRBB_hits.y'</li>\n",
       "\t<li>'n_contigs_with_CRBB.y'</li>\n",
       "\t<li>'p_contigs_with_CRBB.y'</li>\n",
       "\t<li>'rbh_per_reference.y'</li>\n",
       "\t<li>'n_refs_with_CRBB.y'</li>\n",
       "\t<li>'p_refs_with_CRBB.y'</li>\n",
       "\t<li>'cov25.y'</li>\n",
       "\t<li>'p_cov25.y'</li>\n",
       "\t<li>'cov50.y'</li>\n",
       "\t<li>'p_cov50.y'</li>\n",
       "\t<li>'cov75.y'</li>\n",
       "\t<li>'p_cov75.y'</li>\n",
       "\t<li>'cov85.y'</li>\n",
       "\t<li>'p_cov85.y'</li>\n",
       "\t<li>'cov95.y'</li>\n",
       "\t<li>'p_cov95.y'</li>\n",
       "\t<li>'reference_coverage.y'</li>\n",
       "\t<li>'score'</li>\n",
       "\t<li>'optimal_score'</li>\n",
       "\t<li>'cutoff'</li>\n",
       "\t<li>'Run'</li>\n",
       "\t<li>'Complete_eukaryotic.x'</li>\n",
       "\t<li>'Fragmented_eukaryotic.x'</li>\n",
       "\t<li>'Missing_eukaryotic.x'</li>\n",
       "\t<li>'Total_eukaryotic.x'</li>\n",
       "\t<li>'Complete_eukaryotic_BUSCO_prop.x'</li>\n",
       "\t<li>'Complete_eukaryotic_BUSCO_perc.x'</li>\n",
       "\t<li>'Complete_protist.x'</li>\n",
       "\t<li>'Fragmented_protist.x'</li>\n",
       "\t<li>'Missing_protist.x'</li>\n",
       "\t<li>'Total_protist.x'</li>\n",
       "\t<li>'Complete_protist_BUSCO_prop.x'</li>\n",
       "\t<li>'Complete_eukaryotic.y'</li>\n",
       "\t<li>'Fragmented_eukaryotic.y'</li>\n",
       "\t<li>'Missing_eukaryotic.y'</li>\n",
       "\t<li>'Total_eukaryotic.y'</li>\n",
       "\t<li>'Complete_eukaryotic_BUSCO_prop.y'</li>\n",
       "\t<li>'Complete_eukaryotic_BUSCO_perc.y'</li>\n",
       "\t<li>'Complete_protist.y'</li>\n",
       "\t<li>'Fragmented_protist.y'</li>\n",
       "\t<li>'Missing_protist.y'</li>\n",
       "\t<li>'Total_protist.y'</li>\n",
       "\t<li>'Complete_protist_BUSCO_prop.y'</li>\n",
       "\t<li>'dib_assembly_unique_kmers'</li>\n",
       "\t<li>'ncgr_assembly_unique_kmers'</li>\n",
       "\t<li>'num_reads_kept_diginorm'</li>\n",
       "\t<li>'total_reads_before_diginorm'</li>\n",
       "\t<li>'perc_kept_diginorm'</li>\n",
       "\t<li>'num_kmers_reads_diginorm'</li>\n",
       "\t<li>'fp_rate_diginorm'</li>\n",
       "</ol>\n"
      ],
      "text/latex": [
       "\\begin{enumerate*}\n",
       "\\item 'SampleName'\n",
       "\\item 'Run.x'\n",
       "\\item 'ReleaseDate'\n",
       "\\item 'LoadDate'\n",
       "\\item 'spots'\n",
       "\\item 'bases'\n",
       "\\item 'spots\\_with\\_mates'\n",
       "\\item 'avgLength'\n",
       "\\item 'size\\_MB'\n",
       "\\item 'download\\_path'\n",
       "\\item 'Experiment'\n",
       "\\item 'LibraryStrategy'\n",
       "\\item 'LibrarySelection'\n",
       "\\item 'LibrarySource'\n",
       "\\item 'LibraryLayout'\n",
       "\\item 'Platform'\n",
       "\\item 'Model'\n",
       "\\item 'SRAStudy'\n",
       "\\item 'BioProject'\n",
       "\\item 'ProjectID'\n",
       "\\item 'Sample'\n",
       "\\item 'BioSample'\n",
       "\\item 'SampleType'\n",
       "\\item 'TaxID'\n",
       "\\item 'ScientificName'\n",
       "\\item 'CenterName'\n",
       "\\item 'Submission'\n",
       "\\item 'Consent'\n",
       "\\item 'RunHash'\n",
       "\\item 'ReadHash'\n",
       "\\item 'Investigator'\n",
       "\\item 'HighLevelClassification'\n",
       "\\item 'Phylum'\n",
       "\\item 'Class'\n",
       "\\item 'Order'\n",
       "\\item 'Family'\n",
       "\\item 'Genus'\n",
       "\\item 'Species'\n",
       "\\item 'Strain'\n",
       "\\item 'Input.Reads'\n",
       "\\item 'Surviving.Reads'\n",
       "\\item 'Percent.Surviving'\n",
       "\\item 'assembly.x'\n",
       "\\item 'n\\_seqs.x'\n",
       "\\item 'smallest.x'\n",
       "\\item 'largest.x'\n",
       "\\item 'n\\_bases.x'\n",
       "\\item 'mean\\_len.x'\n",
       "\\item 'n\\_under\\_200.x'\n",
       "\\item 'n\\_over\\_1k.x'\n",
       "\\item 'n\\_over\\_10k.x'\n",
       "\\item 'n\\_with\\_orf.x'\n",
       "\\item 'mean\\_orf\\_percent.x'\n",
       "\\item 'n90.x'\n",
       "\\item 'n70.x'\n",
       "\\item 'n50.x'\n",
       "\\item 'n30.x'\n",
       "\\item 'n10.x'\n",
       "\\item 'gc.x'\n",
       "\\item 'gc\\_skew.x'\n",
       "\\item 'at\\_skew.x'\n",
       "\\item 'cpg\\_ratio.x'\n",
       "\\item 'bases\\_n.x'\n",
       "\\item 'proportion\\_n.x'\n",
       "\\item 'linguistic\\_complexity.x'\n",
       "\\item 'fragments.x'\n",
       "\\item 'fragments\\_mapped.x'\n",
       "\\item 'p\\_fragments\\_mapped.x'\n",
       "\\item 'good\\_mappings.x'\n",
       "\\item 'p\\_good\\_mapping.x'\n",
       "\\item 'bad\\_mappings.x'\n",
       "\\item 'potential\\_bridges.x'\n",
       "\\item 'bases\\_uncovered.x'\n",
       "\\item 'p\\_bases\\_uncovered.x'\n",
       "\\item 'contigs\\_uncovbase.x'\n",
       "\\item 'p\\_contigs\\_uncovbase.x'\n",
       "\\item 'contigs\\_uncovered.x'\n",
       "\\item 'p\\_contigs\\_uncovered.x'\n",
       "\\item 'contigs\\_lowcovered.x'\n",
       "\\item 'p\\_contigs\\_lowcovered.x'\n",
       "\\item 'contigs\\_segmented.x'\n",
       "\\item 'p\\_contigs\\_segmented.x'\n",
       "\\item 'score.x'\n",
       "\\item 'optimal\\_score.x'\n",
       "\\item 'cutoff.x'\n",
       "\\item 'assembly.y'\n",
       "\\item 'n\\_seqs.y'\n",
       "\\item 'smallest.y'\n",
       "\\item 'largest.y'\n",
       "\\item 'n\\_bases.y'\n",
       "\\item 'mean\\_len.y'\n",
       "\\item 'n\\_under\\_200.y'\n",
       "\\item 'n\\_over\\_1k.y'\n",
       "\\item 'n\\_over\\_10k.y'\n",
       "\\item 'n\\_with\\_orf.y'\n",
       "\\item 'mean\\_orf\\_percent.y'\n",
       "\\item 'n90.y'\n",
       "\\item 'n70.y'\n",
       "\\item 'n50.y'\n",
       "\\item 'n30.y'\n",
       "\\item 'n10.y'\n",
       "\\item 'gc.y'\n",
       "\\item 'gc\\_skew.y'\n",
       "\\item 'at\\_skew.y'\n",
       "\\item 'cpg\\_ratio.y'\n",
       "\\item 'bases\\_n.y'\n",
       "\\item 'proportion\\_n.y'\n",
       "\\item 'linguistic\\_complexity.y'\n",
       "\\item 'fragments.y'\n",
       "\\item 'fragments\\_mapped.y'\n",
       "\\item 'p\\_fragments\\_mapped.y'\n",
       "\\item 'good\\_mappings.y'\n",
       "\\item 'p\\_good\\_mapping.y'\n",
       "\\item 'bad\\_mappings.y'\n",
       "\\item 'potential\\_bridges.y'\n",
       "\\item 'bases\\_uncovered.y'\n",
       "\\item 'p\\_bases\\_uncovered.y'\n",
       "\\item 'contigs\\_uncovbase.y'\n",
       "\\item 'p\\_contigs\\_uncovbase.y'\n",
       "\\item 'contigs\\_uncovered.y'\n",
       "\\item 'p\\_contigs\\_uncovered.y'\n",
       "\\item 'contigs\\_lowcovered.y'\n",
       "\\item 'p\\_contigs\\_lowcovered.y'\n",
       "\\item 'contigs\\_segmented.y'\n",
       "\\item 'p\\_contigs\\_segmented.y'\n",
       "\\item 'score.y'\n",
       "\\item 'optimal\\_score.y'\n",
       "\\item 'cutoff.y'\n",
       "\\item 'assembly.x'\n",
       "\\item 'n\\_seqs.x'\n",
       "\\item 'smallest.x'\n",
       "\\item 'largest.x'\n",
       "\\item 'n\\_bases.x'\n",
       "\\item 'mean\\_len.x'\n",
       "\\item 'n\\_under\\_200.x'\n",
       "\\item 'n\\_over\\_1k.x'\n",
       "\\item 'n\\_over\\_10k.x'\n",
       "\\item 'n\\_with\\_orf.x'\n",
       "\\item 'mean\\_orf\\_percent.x'\n",
       "\\item 'n90.x'\n",
       "\\item 'n70.x'\n",
       "\\item 'n50.x'\n",
       "\\item 'n30.x'\n",
       "\\item 'n10.x'\n",
       "\\item 'gc.x'\n",
       "\\item 'gc\\_skew.x'\n",
       "\\item 'at\\_skew.x'\n",
       "\\item 'cpg\\_ratio.x'\n",
       "\\item 'bases\\_n.x'\n",
       "\\item 'proportion\\_n.x'\n",
       "\\item 'linguistic\\_complexity.x'\n",
       "\\item 'fragments'\n",
       "\\item 'fragments\\_mapped'\n",
       "\\item 'p\\_fragments\\_mapped'\n",
       "\\item 'good\\_mappings'\n",
       "\\item 'p\\_good\\_mapping'\n",
       "\\item 'bad\\_mappings'\n",
       "\\item 'potential\\_bridges'\n",
       "\\item 'bases\\_uncovered'\n",
       "\\item 'p\\_bases\\_uncovered'\n",
       "\\item 'contigs\\_uncovbase'\n",
       "\\item 'p\\_contigs\\_uncovbase'\n",
       "\\item 'contigs\\_uncovered'\n",
       "\\item 'p\\_contigs\\_uncovered'\n",
       "\\item 'contigs\\_lowcovered'\n",
       "\\item 'p\\_contigs\\_lowcovered'\n",
       "\\item 'contigs\\_segmented'\n",
       "\\item 'p\\_contigs\\_segmented'\n",
       "\\item 'score.x'\n",
       "\\item 'optimal\\_score.x'\n",
       "\\item 'cutoff.x'\n",
       "\\item 'assembly.y'\n",
       "\\item 'n\\_seqs.y'\n",
       "\\item 'smallest.y'\n",
       "\\item 'largest.y'\n",
       "\\item 'n\\_bases.y'\n",
       "\\item 'mean\\_len.y'\n",
       "\\item 'n\\_under\\_200.y'\n",
       "\\item 'n\\_over\\_1k.y'\n",
       "\\item 'n\\_over\\_10k.y'\n",
       "\\item 'n\\_with\\_orf.y'\n",
       "\\item 'mean\\_orf\\_percent.y'\n",
       "\\item 'n90.y'\n",
       "\\item 'n70.y'\n",
       "\\item 'n50.y'\n",
       "\\item 'n30.y'\n",
       "\\item 'n10.y'\n",
       "\\item 'gc.y'\n",
       "\\item 'gc\\_skew.y'\n",
       "\\item 'at\\_skew.y'\n",
       "\\item 'cpg\\_ratio.y'\n",
       "\\item 'bases\\_n.y'\n",
       "\\item 'proportion\\_n.y'\n",
       "\\item 'linguistic\\_complexity.y'\n",
       "\\item 'CRBB\\_hits.x'\n",
       "\\item 'n\\_contigs\\_with\\_CRBB.x'\n",
       "\\item 'p\\_contigs\\_with\\_CRBB.x'\n",
       "\\item 'rbh\\_per\\_reference.x'\n",
       "\\item 'n\\_refs\\_with\\_CRBB.x'\n",
       "\\item 'p\\_refs\\_with\\_CRBB.x'\n",
       "\\item 'cov25.x'\n",
       "\\item 'p\\_cov25.x'\n",
       "\\item 'cov50.x'\n",
       "\\item 'p\\_cov50.x'\n",
       "\\item 'cov75.x'\n",
       "\\item 'p\\_cov75.x'\n",
       "\\item 'cov85.x'\n",
       "\\item 'p\\_cov85.x'\n",
       "\\item 'cov95.x'\n",
       "\\item 'p\\_cov95.x'\n",
       "\\item 'reference\\_coverage.x'\n",
       "\\item 'score.y'\n",
       "\\item 'optimal\\_score.y'\n",
       "\\item 'cutoff.y'\n",
       "\\item 'Run.y'\n",
       "\\item 'assembly'\n",
       "\\item 'n\\_seqs'\n",
       "\\item 'smallest'\n",
       "\\item 'largest'\n",
       "\\item 'n\\_bases'\n",
       "\\item 'mean\\_len'\n",
       "\\item 'n\\_under\\_200'\n",
       "\\item 'n\\_over\\_1k'\n",
       "\\item 'n\\_over\\_10k'\n",
       "\\item 'n\\_with\\_orf'\n",
       "\\item 'mean\\_orf\\_percent'\n",
       "\\item 'n90'\n",
       "\\item 'n70'\n",
       "\\item 'n50'\n",
       "\\item 'n30'\n",
       "\\item 'n10'\n",
       "\\item 'gc'\n",
       "\\item 'gc\\_skew'\n",
       "\\item 'at\\_skew'\n",
       "\\item 'cpg\\_ratio'\n",
       "\\item 'bases\\_n'\n",
       "\\item 'proportion\\_n'\n",
       "\\item 'linguistic\\_complexity'\n",
       "\\item 'CRBB\\_hits.y'\n",
       "\\item 'n\\_contigs\\_with\\_CRBB.y'\n",
       "\\item 'p\\_contigs\\_with\\_CRBB.y'\n",
       "\\item 'rbh\\_per\\_reference.y'\n",
       "\\item 'n\\_refs\\_with\\_CRBB.y'\n",
       "\\item 'p\\_refs\\_with\\_CRBB.y'\n",
       "\\item 'cov25.y'\n",
       "\\item 'p\\_cov25.y'\n",
       "\\item 'cov50.y'\n",
       "\\item 'p\\_cov50.y'\n",
       "\\item 'cov75.y'\n",
       "\\item 'p\\_cov75.y'\n",
       "\\item 'cov85.y'\n",
       "\\item 'p\\_cov85.y'\n",
       "\\item 'cov95.y'\n",
       "\\item 'p\\_cov95.y'\n",
       "\\item 'reference\\_coverage.y'\n",
       "\\item 'score'\n",
       "\\item 'optimal\\_score'\n",
       "\\item 'cutoff'\n",
       "\\item 'Run'\n",
       "\\item 'Complete\\_eukaryotic.x'\n",
       "\\item 'Fragmented\\_eukaryotic.x'\n",
       "\\item 'Missing\\_eukaryotic.x'\n",
       "\\item 'Total\\_eukaryotic.x'\n",
       "\\item 'Complete\\_eukaryotic\\_BUSCO\\_prop.x'\n",
       "\\item 'Complete\\_eukaryotic\\_BUSCO\\_perc.x'\n",
       "\\item 'Complete\\_protist.x'\n",
       "\\item 'Fragmented\\_protist.x'\n",
       "\\item 'Missing\\_protist.x'\n",
       "\\item 'Total\\_protist.x'\n",
       "\\item 'Complete\\_protist\\_BUSCO\\_prop.x'\n",
       "\\item 'Complete\\_eukaryotic.y'\n",
       "\\item 'Fragmented\\_eukaryotic.y'\n",
       "\\item 'Missing\\_eukaryotic.y'\n",
       "\\item 'Total\\_eukaryotic.y'\n",
       "\\item 'Complete\\_eukaryotic\\_BUSCO\\_prop.y'\n",
       "\\item 'Complete\\_eukaryotic\\_BUSCO\\_perc.y'\n",
       "\\item 'Complete\\_protist.y'\n",
       "\\item 'Fragmented\\_protist.y'\n",
       "\\item 'Missing\\_protist.y'\n",
       "\\item 'Total\\_protist.y'\n",
       "\\item 'Complete\\_protist\\_BUSCO\\_prop.y'\n",
       "\\item 'dib\\_assembly\\_unique\\_kmers'\n",
       "\\item 'ncgr\\_assembly\\_unique\\_kmers'\n",
       "\\item 'num\\_reads\\_kept\\_diginorm'\n",
       "\\item 'total\\_reads\\_before\\_diginorm'\n",
       "\\item 'perc\\_kept\\_diginorm'\n",
       "\\item 'num\\_kmers\\_reads\\_diginorm'\n",
       "\\item 'fp\\_rate\\_diginorm'\n",
       "\\end{enumerate*}\n"
      ],
      "text/markdown": [
       "1. 'SampleName'\n",
       "2. 'Run.x'\n",
       "3. 'ReleaseDate'\n",
       "4. 'LoadDate'\n",
       "5. 'spots'\n",
       "6. 'bases'\n",
       "7. 'spots_with_mates'\n",
       "8. 'avgLength'\n",
       "9. 'size_MB'\n",
       "10. 'download_path'\n",
       "11. 'Experiment'\n",
       "12. 'LibraryStrategy'\n",
       "13. 'LibrarySelection'\n",
       "14. 'LibrarySource'\n",
       "15. 'LibraryLayout'\n",
       "16. 'Platform'\n",
       "17. 'Model'\n",
       "18. 'SRAStudy'\n",
       "19. 'BioProject'\n",
       "20. 'ProjectID'\n",
       "21. 'Sample'\n",
       "22. 'BioSample'\n",
       "23. 'SampleType'\n",
       "24. 'TaxID'\n",
       "25. 'ScientificName'\n",
       "26. 'CenterName'\n",
       "27. 'Submission'\n",
       "28. 'Consent'\n",
       "29. 'RunHash'\n",
       "30. 'ReadHash'\n",
       "31. 'Investigator'\n",
       "32. 'HighLevelClassification'\n",
       "33. 'Phylum'\n",
       "34. 'Class'\n",
       "35. 'Order'\n",
       "36. 'Family'\n",
       "37. 'Genus'\n",
       "38. 'Species'\n",
       "39. 'Strain'\n",
       "40. 'Input.Reads'\n",
       "41. 'Surviving.Reads'\n",
       "42. 'Percent.Surviving'\n",
       "43. 'assembly.x'\n",
       "44. 'n_seqs.x'\n",
       "45. 'smallest.x'\n",
       "46. 'largest.x'\n",
       "47. 'n_bases.x'\n",
       "48. 'mean_len.x'\n",
       "49. 'n_under_200.x'\n",
       "50. 'n_over_1k.x'\n",
       "51. 'n_over_10k.x'\n",
       "52. 'n_with_orf.x'\n",
       "53. 'mean_orf_percent.x'\n",
       "54. 'n90.x'\n",
       "55. 'n70.x'\n",
       "56. 'n50.x'\n",
       "57. 'n30.x'\n",
       "58. 'n10.x'\n",
       "59. 'gc.x'\n",
       "60. 'gc_skew.x'\n",
       "61. 'at_skew.x'\n",
       "62. 'cpg_ratio.x'\n",
       "63. 'bases_n.x'\n",
       "64. 'proportion_n.x'\n",
       "65. 'linguistic_complexity.x'\n",
       "66. 'fragments.x'\n",
       "67. 'fragments_mapped.x'\n",
       "68. 'p_fragments_mapped.x'\n",
       "69. 'good_mappings.x'\n",
       "70. 'p_good_mapping.x'\n",
       "71. 'bad_mappings.x'\n",
       "72. 'potential_bridges.x'\n",
       "73. 'bases_uncovered.x'\n",
       "74. 'p_bases_uncovered.x'\n",
       "75. 'contigs_uncovbase.x'\n",
       "76. 'p_contigs_uncovbase.x'\n",
       "77. 'contigs_uncovered.x'\n",
       "78. 'p_contigs_uncovered.x'\n",
       "79. 'contigs_lowcovered.x'\n",
       "80. 'p_contigs_lowcovered.x'\n",
       "81. 'contigs_segmented.x'\n",
       "82. 'p_contigs_segmented.x'\n",
       "83. 'score.x'\n",
       "84. 'optimal_score.x'\n",
       "85. 'cutoff.x'\n",
       "86. 'assembly.y'\n",
       "87. 'n_seqs.y'\n",
       "88. 'smallest.y'\n",
       "89. 'largest.y'\n",
       "90. 'n_bases.y'\n",
       "91. 'mean_len.y'\n",
       "92. 'n_under_200.y'\n",
       "93. 'n_over_1k.y'\n",
       "94. 'n_over_10k.y'\n",
       "95. 'n_with_orf.y'\n",
       "96. 'mean_orf_percent.y'\n",
       "97. 'n90.y'\n",
       "98. 'n70.y'\n",
       "99. 'n50.y'\n",
       "100. 'n30.y'\n",
       "101. 'n10.y'\n",
       "102. 'gc.y'\n",
       "103. 'gc_skew.y'\n",
       "104. 'at_skew.y'\n",
       "105. 'cpg_ratio.y'\n",
       "106. 'bases_n.y'\n",
       "107. 'proportion_n.y'\n",
       "108. 'linguistic_complexity.y'\n",
       "109. 'fragments.y'\n",
       "110. 'fragments_mapped.y'\n",
       "111. 'p_fragments_mapped.y'\n",
       "112. 'good_mappings.y'\n",
       "113. 'p_good_mapping.y'\n",
       "114. 'bad_mappings.y'\n",
       "115. 'potential_bridges.y'\n",
       "116. 'bases_uncovered.y'\n",
       "117. 'p_bases_uncovered.y'\n",
       "118. 'contigs_uncovbase.y'\n",
       "119. 'p_contigs_uncovbase.y'\n",
       "120. 'contigs_uncovered.y'\n",
       "121. 'p_contigs_uncovered.y'\n",
       "122. 'contigs_lowcovered.y'\n",
       "123. 'p_contigs_lowcovered.y'\n",
       "124. 'contigs_segmented.y'\n",
       "125. 'p_contigs_segmented.y'\n",
       "126. 'score.y'\n",
       "127. 'optimal_score.y'\n",
       "128. 'cutoff.y'\n",
       "129. 'assembly.x'\n",
       "130. 'n_seqs.x'\n",
       "131. 'smallest.x'\n",
       "132. 'largest.x'\n",
       "133. 'n_bases.x'\n",
       "134. 'mean_len.x'\n",
       "135. 'n_under_200.x'\n",
       "136. 'n_over_1k.x'\n",
       "137. 'n_over_10k.x'\n",
       "138. 'n_with_orf.x'\n",
       "139. 'mean_orf_percent.x'\n",
       "140. 'n90.x'\n",
       "141. 'n70.x'\n",
       "142. 'n50.x'\n",
       "143. 'n30.x'\n",
       "144. 'n10.x'\n",
       "145. 'gc.x'\n",
       "146. 'gc_skew.x'\n",
       "147. 'at_skew.x'\n",
       "148. 'cpg_ratio.x'\n",
       "149. 'bases_n.x'\n",
       "150. 'proportion_n.x'\n",
       "151. 'linguistic_complexity.x'\n",
       "152. 'fragments'\n",
       "153. 'fragments_mapped'\n",
       "154. 'p_fragments_mapped'\n",
       "155. 'good_mappings'\n",
       "156. 'p_good_mapping'\n",
       "157. 'bad_mappings'\n",
       "158. 'potential_bridges'\n",
       "159. 'bases_uncovered'\n",
       "160. 'p_bases_uncovered'\n",
       "161. 'contigs_uncovbase'\n",
       "162. 'p_contigs_uncovbase'\n",
       "163. 'contigs_uncovered'\n",
       "164. 'p_contigs_uncovered'\n",
       "165. 'contigs_lowcovered'\n",
       "166. 'p_contigs_lowcovered'\n",
       "167. 'contigs_segmented'\n",
       "168. 'p_contigs_segmented'\n",
       "169. 'score.x'\n",
       "170. 'optimal_score.x'\n",
       "171. 'cutoff.x'\n",
       "172. 'assembly.y'\n",
       "173. 'n_seqs.y'\n",
       "174. 'smallest.y'\n",
       "175. 'largest.y'\n",
       "176. 'n_bases.y'\n",
       "177. 'mean_len.y'\n",
       "178. 'n_under_200.y'\n",
       "179. 'n_over_1k.y'\n",
       "180. 'n_over_10k.y'\n",
       "181. 'n_with_orf.y'\n",
       "182. 'mean_orf_percent.y'\n",
       "183. 'n90.y'\n",
       "184. 'n70.y'\n",
       "185. 'n50.y'\n",
       "186. 'n30.y'\n",
       "187. 'n10.y'\n",
       "188. 'gc.y'\n",
       "189. 'gc_skew.y'\n",
       "190. 'at_skew.y'\n",
       "191. 'cpg_ratio.y'\n",
       "192. 'bases_n.y'\n",
       "193. 'proportion_n.y'\n",
       "194. 'linguistic_complexity.y'\n",
       "195. 'CRBB_hits.x'\n",
       "196. 'n_contigs_with_CRBB.x'\n",
       "197. 'p_contigs_with_CRBB.x'\n",
       "198. 'rbh_per_reference.x'\n",
       "199. 'n_refs_with_CRBB.x'\n",
       "200. 'p_refs_with_CRBB.x'\n",
       "201. 'cov25.x'\n",
       "202. 'p_cov25.x'\n",
       "203. 'cov50.x'\n",
       "204. 'p_cov50.x'\n",
       "205. 'cov75.x'\n",
       "206. 'p_cov75.x'\n",
       "207. 'cov85.x'\n",
       "208. 'p_cov85.x'\n",
       "209. 'cov95.x'\n",
       "210. 'p_cov95.x'\n",
       "211. 'reference_coverage.x'\n",
       "212. 'score.y'\n",
       "213. 'optimal_score.y'\n",
       "214. 'cutoff.y'\n",
       "215. 'Run.y'\n",
       "216. 'assembly'\n",
       "217. 'n_seqs'\n",
       "218. 'smallest'\n",
       "219. 'largest'\n",
       "220. 'n_bases'\n",
       "221. 'mean_len'\n",
       "222. 'n_under_200'\n",
       "223. 'n_over_1k'\n",
       "224. 'n_over_10k'\n",
       "225. 'n_with_orf'\n",
       "226. 'mean_orf_percent'\n",
       "227. 'n90'\n",
       "228. 'n70'\n",
       "229. 'n50'\n",
       "230. 'n30'\n",
       "231. 'n10'\n",
       "232. 'gc'\n",
       "233. 'gc_skew'\n",
       "234. 'at_skew'\n",
       "235. 'cpg_ratio'\n",
       "236. 'bases_n'\n",
       "237. 'proportion_n'\n",
       "238. 'linguistic_complexity'\n",
       "239. 'CRBB_hits.y'\n",
       "240. 'n_contigs_with_CRBB.y'\n",
       "241. 'p_contigs_with_CRBB.y'\n",
       "242. 'rbh_per_reference.y'\n",
       "243. 'n_refs_with_CRBB.y'\n",
       "244. 'p_refs_with_CRBB.y'\n",
       "245. 'cov25.y'\n",
       "246. 'p_cov25.y'\n",
       "247. 'cov50.y'\n",
       "248. 'p_cov50.y'\n",
       "249. 'cov75.y'\n",
       "250. 'p_cov75.y'\n",
       "251. 'cov85.y'\n",
       "252. 'p_cov85.y'\n",
       "253. 'cov95.y'\n",
       "254. 'p_cov95.y'\n",
       "255. 'reference_coverage.y'\n",
       "256. 'score'\n",
       "257. 'optimal_score'\n",
       "258. 'cutoff'\n",
       "259. 'Run'\n",
       "260. 'Complete_eukaryotic.x'\n",
       "261. 'Fragmented_eukaryotic.x'\n",
       "262. 'Missing_eukaryotic.x'\n",
       "263. 'Total_eukaryotic.x'\n",
       "264. 'Complete_eukaryotic_BUSCO_prop.x'\n",
       "265. 'Complete_eukaryotic_BUSCO_perc.x'\n",
       "266. 'Complete_protist.x'\n",
       "267. 'Fragmented_protist.x'\n",
       "268. 'Missing_protist.x'\n",
       "269. 'Total_protist.x'\n",
       "270. 'Complete_protist_BUSCO_prop.x'\n",
       "271. 'Complete_eukaryotic.y'\n",
       "272. 'Fragmented_eukaryotic.y'\n",
       "273. 'Missing_eukaryotic.y'\n",
       "274. 'Total_eukaryotic.y'\n",
       "275. 'Complete_eukaryotic_BUSCO_prop.y'\n",
       "276. 'Complete_eukaryotic_BUSCO_perc.y'\n",
       "277. 'Complete_protist.y'\n",
       "278. 'Fragmented_protist.y'\n",
       "279. 'Missing_protist.y'\n",
       "280. 'Total_protist.y'\n",
       "281. 'Complete_protist_BUSCO_prop.y'\n",
       "282. 'dib_assembly_unique_kmers'\n",
       "283. 'ncgr_assembly_unique_kmers'\n",
       "284. 'num_reads_kept_diginorm'\n",
       "285. 'total_reads_before_diginorm'\n",
       "286. 'perc_kept_diginorm'\n",
       "287. 'num_kmers_reads_diginorm'\n",
       "288. 'fp_rate_diginorm'\n",
       "\n",
       "\n"
      ],
      "text/plain": [
       "  [1] \"SampleName\"                       \"Run.x\"                           \n",
       "  [3] \"ReleaseDate\"                      \"LoadDate\"                        \n",
       "  [5] \"spots\"                            \"bases\"                           \n",
       "  [7] \"spots_with_mates\"                 \"avgLength\"                       \n",
       "  [9] \"size_MB\"                          \"download_path\"                   \n",
       " [11] \"Experiment\"                       \"LibraryStrategy\"                 \n",
       " [13] \"LibrarySelection\"                 \"LibrarySource\"                   \n",
       " [15] \"LibraryLayout\"                    \"Platform\"                        \n",
       " [17] \"Model\"                            \"SRAStudy\"                        \n",
       " [19] \"BioProject\"                       \"ProjectID\"                       \n",
       " [21] \"Sample\"                           \"BioSample\"                       \n",
       " [23] \"SampleType\"                       \"TaxID\"                           \n",
       " [25] \"ScientificName\"                   \"CenterName\"                      \n",
       " [27] \"Submission\"                       \"Consent\"                         \n",
       " [29] \"RunHash\"                          \"ReadHash\"                        \n",
       " [31] \"Investigator\"                     \"HighLevelClassification\"         \n",
       " [33] \"Phylum\"                           \"Class\"                           \n",
       " [35] \"Order\"                            \"Family\"                          \n",
       " [37] \"Genus\"                            \"Species\"                         \n",
       " [39] \"Strain\"                           \"Input.Reads\"                     \n",
       " [41] \"Surviving.Reads\"                  \"Percent.Surviving\"               \n",
       " [43] \"assembly.x\"                       \"n_seqs.x\"                        \n",
       " [45] \"smallest.x\"                       \"largest.x\"                       \n",
       " [47] \"n_bases.x\"                        \"mean_len.x\"                      \n",
       " [49] \"n_under_200.x\"                    \"n_over_1k.x\"                     \n",
       " [51] \"n_over_10k.x\"                     \"n_with_orf.x\"                    \n",
       " [53] \"mean_orf_percent.x\"               \"n90.x\"                           \n",
       " [55] \"n70.x\"                            \"n50.x\"                           \n",
       " [57] \"n30.x\"                            \"n10.x\"                           \n",
       " [59] \"gc.x\"                             \"gc_skew.x\"                       \n",
       " [61] \"at_skew.x\"                        \"cpg_ratio.x\"                     \n",
       " [63] \"bases_n.x\"                        \"proportion_n.x\"                  \n",
       " [65] \"linguistic_complexity.x\"          \"fragments.x\"                     \n",
       " [67] \"fragments_mapped.x\"               \"p_fragments_mapped.x\"            \n",
       " [69] \"good_mappings.x\"                  \"p_good_mapping.x\"                \n",
       " [71] \"bad_mappings.x\"                   \"potential_bridges.x\"             \n",
       " [73] \"bases_uncovered.x\"                \"p_bases_uncovered.x\"             \n",
       " [75] \"contigs_uncovbase.x\"              \"p_contigs_uncovbase.x\"           \n",
       " [77] \"contigs_uncovered.x\"              \"p_contigs_uncovered.x\"           \n",
       " [79] \"contigs_lowcovered.x\"             \"p_contigs_lowcovered.x\"          \n",
       " [81] \"contigs_segmented.x\"              \"p_contigs_segmented.x\"           \n",
       " [83] \"score.x\"                          \"optimal_score.x\"                 \n",
       " [85] \"cutoff.x\"                         \"assembly.y\"                      \n",
       " [87] \"n_seqs.y\"                         \"smallest.y\"                      \n",
       " [89] \"largest.y\"                        \"n_bases.y\"                       \n",
       " [91] \"mean_len.y\"                       \"n_under_200.y\"                   \n",
       " [93] \"n_over_1k.y\"                      \"n_over_10k.y\"                    \n",
       " [95] \"n_with_orf.y\"                     \"mean_orf_percent.y\"              \n",
       " [97] \"n90.y\"                            \"n70.y\"                           \n",
       " [99] \"n50.y\"                            \"n30.y\"                           \n",
       "[101] \"n10.y\"                            \"gc.y\"                            \n",
       "[103] \"gc_skew.y\"                        \"at_skew.y\"                       \n",
       "[105] \"cpg_ratio.y\"                      \"bases_n.y\"                       \n",
       "[107] \"proportion_n.y\"                   \"linguistic_complexity.y\"         \n",
       "[109] \"fragments.y\"                      \"fragments_mapped.y\"              \n",
       "[111] \"p_fragments_mapped.y\"             \"good_mappings.y\"                 \n",
       "[113] \"p_good_mapping.y\"                 \"bad_mappings.y\"                  \n",
       "[115] \"potential_bridges.y\"              \"bases_uncovered.y\"               \n",
       "[117] \"p_bases_uncovered.y\"              \"contigs_uncovbase.y\"             \n",
       "[119] \"p_contigs_uncovbase.y\"            \"contigs_uncovered.y\"             \n",
       "[121] \"p_contigs_uncovered.y\"            \"contigs_lowcovered.y\"            \n",
       "[123] \"p_contigs_lowcovered.y\"           \"contigs_segmented.y\"             \n",
       "[125] \"p_contigs_segmented.y\"            \"score.y\"                         \n",
       "[127] \"optimal_score.y\"                  \"cutoff.y\"                        \n",
       "[129] \"assembly.x\"                       \"n_seqs.x\"                        \n",
       "[131] \"smallest.x\"                       \"largest.x\"                       \n",
       "[133] \"n_bases.x\"                        \"mean_len.x\"                      \n",
       "[135] \"n_under_200.x\"                    \"n_over_1k.x\"                     \n",
       "[137] \"n_over_10k.x\"                     \"n_with_orf.x\"                    \n",
       "[139] \"mean_orf_percent.x\"               \"n90.x\"                           \n",
       "[141] \"n70.x\"                            \"n50.x\"                           \n",
       "[143] \"n30.x\"                            \"n10.x\"                           \n",
       "[145] \"gc.x\"                             \"gc_skew.x\"                       \n",
       "[147] \"at_skew.x\"                        \"cpg_ratio.x\"                     \n",
       "[149] \"bases_n.x\"                        \"proportion_n.x\"                  \n",
       "[151] \"linguistic_complexity.x\"          \"fragments\"                       \n",
       "[153] \"fragments_mapped\"                 \"p_fragments_mapped\"              \n",
       "[155] \"good_mappings\"                    \"p_good_mapping\"                  \n",
       "[157] \"bad_mappings\"                     \"potential_bridges\"               \n",
       "[159] \"bases_uncovered\"                  \"p_bases_uncovered\"               \n",
       "[161] \"contigs_uncovbase\"                \"p_contigs_uncovbase\"             \n",
       "[163] \"contigs_uncovered\"                \"p_contigs_uncovered\"             \n",
       "[165] \"contigs_lowcovered\"               \"p_contigs_lowcovered\"            \n",
       "[167] \"contigs_segmented\"                \"p_contigs_segmented\"             \n",
       "[169] \"score.x\"                          \"optimal_score.x\"                 \n",
       "[171] \"cutoff.x\"                         \"assembly.y\"                      \n",
       "[173] \"n_seqs.y\"                         \"smallest.y\"                      \n",
       "[175] \"largest.y\"                        \"n_bases.y\"                       \n",
       "[177] \"mean_len.y\"                       \"n_under_200.y\"                   \n",
       "[179] \"n_over_1k.y\"                      \"n_over_10k.y\"                    \n",
       "[181] \"n_with_orf.y\"                     \"mean_orf_percent.y\"              \n",
       "[183] \"n90.y\"                            \"n70.y\"                           \n",
       "[185] \"n50.y\"                            \"n30.y\"                           \n",
       "[187] \"n10.y\"                            \"gc.y\"                            \n",
       "[189] \"gc_skew.y\"                        \"at_skew.y\"                       \n",
       "[191] \"cpg_ratio.y\"                      \"bases_n.y\"                       \n",
       "[193] \"proportion_n.y\"                   \"linguistic_complexity.y\"         \n",
       "[195] \"CRBB_hits.x\"                      \"n_contigs_with_CRBB.x\"           \n",
       "[197] \"p_contigs_with_CRBB.x\"            \"rbh_per_reference.x\"             \n",
       "[199] \"n_refs_with_CRBB.x\"               \"p_refs_with_CRBB.x\"              \n",
       "[201] \"cov25.x\"                          \"p_cov25.x\"                       \n",
       "[203] \"cov50.x\"                          \"p_cov50.x\"                       \n",
       "[205] \"cov75.x\"                          \"p_cov75.x\"                       \n",
       "[207] \"cov85.x\"                          \"p_cov85.x\"                       \n",
       "[209] \"cov95.x\"                          \"p_cov95.x\"                       \n",
       "[211] \"reference_coverage.x\"             \"score.y\"                         \n",
       "[213] \"optimal_score.y\"                  \"cutoff.y\"                        \n",
       "[215] \"Run.y\"                            \"assembly\"                        \n",
       "[217] \"n_seqs\"                           \"smallest\"                        \n",
       "[219] \"largest\"                          \"n_bases\"                         \n",
       "[221] \"mean_len\"                         \"n_under_200\"                     \n",
       "[223] \"n_over_1k\"                        \"n_over_10k\"                      \n",
       "[225] \"n_with_orf\"                       \"mean_orf_percent\"                \n",
       "[227] \"n90\"                              \"n70\"                             \n",
       "[229] \"n50\"                              \"n30\"                             \n",
       "[231] \"n10\"                              \"gc\"                              \n",
       "[233] \"gc_skew\"                          \"at_skew\"                         \n",
       "[235] \"cpg_ratio\"                        \"bases_n\"                         \n",
       "[237] \"proportion_n\"                     \"linguistic_complexity\"           \n",
       "[239] \"CRBB_hits.y\"                      \"n_contigs_with_CRBB.y\"           \n",
       "[241] \"p_contigs_with_CRBB.y\"            \"rbh_per_reference.y\"             \n",
       "[243] \"n_refs_with_CRBB.y\"               \"p_refs_with_CRBB.y\"              \n",
       "[245] \"cov25.y\"                          \"p_cov25.y\"                       \n",
       "[247] \"cov50.y\"                          \"p_cov50.y\"                       \n",
       "[249] \"cov75.y\"                          \"p_cov75.y\"                       \n",
       "[251] \"cov85.y\"                          \"p_cov85.y\"                       \n",
       "[253] \"cov95.y\"                          \"p_cov95.y\"                       \n",
       "[255] \"reference_coverage.y\"             \"score\"                           \n",
       "[257] \"optimal_score\"                    \"cutoff\"                          \n",
       "[259] \"Run\"                              \"Complete_eukaryotic.x\"           \n",
       "[261] \"Fragmented_eukaryotic.x\"          \"Missing_eukaryotic.x\"            \n",
       "[263] \"Total_eukaryotic.x\"               \"Complete_eukaryotic_BUSCO_prop.x\"\n",
       "[265] \"Complete_eukaryotic_BUSCO_perc.x\" \"Complete_protist.x\"              \n",
       "[267] \"Fragmented_protist.x\"             \"Missing_protist.x\"               \n",
       "[269] \"Total_protist.x\"                  \"Complete_protist_BUSCO_prop.x\"   \n",
       "[271] \"Complete_eukaryotic.y\"            \"Fragmented_eukaryotic.y\"         \n",
       "[273] \"Missing_eukaryotic.y\"             \"Total_eukaryotic.y\"              \n",
       "[275] \"Complete_eukaryotic_BUSCO_prop.y\" \"Complete_eukaryotic_BUSCO_perc.y\"\n",
       "[277] \"Complete_protist.y\"               \"Fragmented_protist.y\"            \n",
       "[279] \"Missing_protist.y\"                \"Total_protist.y\"                 \n",
       "[281] \"Complete_protist_BUSCO_prop.y\"    \"dib_assembly_unique_kmers\"       \n",
       "[283] \"ncgr_assembly_unique_kmers\"       \"num_reads_kept_diginorm\"         \n",
       "[285] \"total_reads_before_diginorm\"      \"perc_kept_diginorm\"              \n",
       "[287] \"num_kmers_reads_diginorm\"         \"fp_rate_diginorm\"                "
      ]
     },
     "metadata": {},
     "output_type": "display_data"
    }
   ],
   "source": [
    "evaluation_matrix_1<-merge(names_matrix,reads,by=\"Run\",all=TRUE)\n",
    "dim(evaluation_matrix_1)\n",
    "evaluation_matrix_2<-merge(evaluation_matrix_1,transrate_dib,by=\"SampleName\",all=TRUE)\n",
    "dim(evaluation_matrix_2)\n",
    "evaluation_matrix_3<-merge(evaluation_matrix_2,transrate_ncgr_cds,by=\"SampleName\",all=TRUE)\n",
    "dim(evaluation_matrix_3)\n",
    "evaluation_matrix_4<-merge(evaluation_matrix_3,transrate_ncgr_nt,by=\"SampleName\",all=TRUE)\n",
    "dim(evaluation_matrix_4)\n",
    "evaluation_matrix_5<-merge(evaluation_matrix_4,transrate_reference_forward,by=\"SampleName\",all=TRUE)\n",
    "dim(evaluation_matrix_5)\n",
    "evaluation_matrix_6<-merge(evaluation_matrix_5,transrate_reference_reverse,by=\"SampleName\",all=TRUE)\n",
    "dim(evaluation_matrix_6)\n",
    "evaluation_matrix_7<-merge(evaluation_matrix_6,busco_scores_euk_DIB,by=\"SampleName\",all=TRUE)\n",
    "dim(evaluation_matrix_7)\n",
    "evaluation_matrix_8<-merge(evaluation_matrix_7,busco_scores_protist_DIB,by=\"SampleName\",all=TRUE)\n",
    "dim(evaluation_matrix_8)\n",
    "evaluation_matrix_9<-merge(evaluation_matrix_8,busco_scores_euk_NCGR,by=\"SampleName\",all=TRUE)\n",
    "dim(evaluation_matrix_9)\n",
    "evaluation_matrix_10<-merge(evaluation_matrix_9,busco_scores_protist_NCGR,by=\"SampleName\",all=TRUE)\n",
    "dim(evaluation_matrix_10)\n",
    "evaluation_matrix_11<-merge(evaluation_matrix_10,unique_kmers_dib,by=\"SampleName\",all=TRUE)\n",
    "dim(evaluation_matrix_11)\n",
    "evaluation_matrix_12<-merge(evaluation_matrix_11,unique_kmers_ncgr,by=\"SampleName\",all=TRUE)\n",
    "dim(evaluation_matrix_12)\n",
    "evaluation_matrix_13<-merge(evaluation_matrix_12,diginorm_stats,by=\"SampleName\",all=TRUE)\n",
    "dim(evaluation_matrix_13)\n",
    "colnames(evaluation_matrix_13)\n",
    "write.csv(evaluation_matrix_13,\"MMETSP_all_evaluation_matrix.csv\")"
   ]
  },
  {
   "cell_type": "code",
   "execution_count": 140,
   "metadata": {},
   "outputs": [
    {
     "data": {
      "text/html": [
       "<ol class=list-inline>\n",
       "\t<li>781</li>\n",
       "\t<li>288</li>\n",
       "</ol>\n"
      ],
      "text/latex": [
       "\\begin{enumerate*}\n",
       "\\item 781\n",
       "\\item 288\n",
       "\\end{enumerate*}\n"
      ],
      "text/markdown": [
       "1. 781\n",
       "2. 288\n",
       "\n",
       "\n"
      ],
      "text/plain": [
       "[1] 781 288"
      ]
     },
     "metadata": {},
     "output_type": "display_data"
    },
    {
     "data": {
      "text/html": [
       "<table>\n",
       "<thead><tr><th scope=col>SampleName</th><th scope=col>Run.x</th><th scope=col>ReleaseDate</th><th scope=col>LoadDate</th><th scope=col>spots</th><th scope=col>bases</th><th scope=col>spots_with_mates</th><th scope=col>avgLength</th><th scope=col>size_MB</th><th scope=col>download_path</th><th scope=col>⋯</th><th scope=col>Missing_protist.y</th><th scope=col>Total_protist.y</th><th scope=col>Complete_protist_BUSCO_prop.y</th><th scope=col>dib_assembly_unique_kmers</th><th scope=col>ncgr_assembly_unique_kmers</th><th scope=col>num_reads_kept_diginorm</th><th scope=col>total_reads_before_diginorm</th><th scope=col>perc_kept_diginorm</th><th scope=col>num_kmers_reads_diginorm</th><th scope=col>fp_rate_diginorm</th></tr></thead>\n",
       "<tbody>\n",
       "\t<tr><td>MMETSP0004                                            </td><td>SRR1296863                                            </td><td>7/22/15                                               </td><td>7/26/15                                               </td><td>24803955                                              </td><td>2480395500                                            </td><td>24803955                                              </td><td>100                                                   </td><td>1604                                                  </td><td>http://sra-download.ncbi.nlm.nih.gov/srapub/SRR1296863</td><td>⋯                                                     </td><td> 86                                                   </td><td>303                                                   </td><td>0.6006601                                             </td><td>19837761                                              </td><td> 9187479                                              </td><td>16287761                                              </td><td>49504503                                              </td><td>32.9%                                                 </td><td>68379508                                              </td><td> 0                                                    </td></tr>\n",
       "\t<tr><td>MMETSP0005                                            </td><td>SRR1296767                                            </td><td>7/22/15                                               </td><td>7/27/15                                               </td><td>28100060                                              </td><td>2810006000                                            </td><td>28100060                                              </td><td>100                                                   </td><td>1794                                                  </td><td>http://sra-download.ncbi.nlm.nih.gov/srapub/SRR1296767</td><td>⋯                                                     </td><td> 91                                                   </td><td>303                                                   </td><td>0.5940594                                             </td><td>20350054                                              </td><td> 8874387                                              </td><td>17691329                                              </td><td>56153336                                              </td><td>31.5%                                                 </td><td>79131023                                              </td><td> 0                                                    </td></tr>\n",
       "\t<tr><td>MMETSP0006                                            </td><td>SRR1296917                                            </td><td>7/22/15                                               </td><td>7/26/15                                               </td><td>21466210                                              </td><td>2146621000                                            </td><td>21466210                                              </td><td>100                                                   </td><td>1426                                                  </td><td>http://sra-download.ncbi.nlm.nih.gov/srapub/SRR1296917</td><td>⋯                                                     </td><td> 44                                                   </td><td>234                                                   </td><td>0.6880342                                             </td><td>25286098                                              </td><td> 9558658                                              </td><td>18575869                                              </td><td>42843795                                              </td><td>43.4%                                                 </td><td>93740474                                              </td><td> 0                                                    </td></tr>\n",
       "\t<tr><td>MMETSP0007                                            </td><td>SRR1296769                                            </td><td>7/22/15                                               </td><td>7/27/15                                               </td><td>20174360                                              </td><td>2017436000                                            </td><td>20174360                                              </td><td>100                                                   </td><td>1319                                                  </td><td>http://sra-download.ncbi.nlm.nih.gov/srapub/SRR1296769</td><td>⋯                                                     </td><td>113                                                   </td><td>234                                                   </td><td>0.4145299                                             </td><td>12496793                                              </td><td> 6672958                                              </td><td>12104182                                              </td><td>40343316                                              </td><td>30.0%                                                 </td><td>65289000                                              </td><td> 0                                                    </td></tr>\n",
       "\t<tr><td>MMETSP0008                                            </td><td>SRR1294412                                            </td><td>7/22/15                                               </td><td>12/30/15                                              </td><td>27052143                                              </td><td>2705214300                                            </td><td>27052143                                              </td><td>100                                                   </td><td>1723                                                  </td><td>http://sra-download.ncbi.nlm.nih.gov/srapub/SRR1294412</td><td>⋯                                                     </td><td> 29                                                   </td><td>234                                                   </td><td>0.7820513                                             </td><td>24682952                                              </td><td>11925639                                              </td><td>      NA                                              </td><td>      NA                                              </td><td>NA                                                    </td><td>      NA                                              </td><td>NA                                                    </td></tr>\n",
       "\t<tr><td>MMETSP0008                                            </td><td>SRR1294411                                            </td><td>7/22/15                                               </td><td>12/30/15                                              </td><td>22076599                                              </td><td>4415319800                                            </td><td>22076599                                              </td><td>200                                                   </td><td>2866                                                  </td><td>http://sra-download.ncbi.nlm.nih.gov/srapub/SRR1294411</td><td>⋯                                                     </td><td> 29                                                   </td><td>234                                                   </td><td>0.7820513                                             </td><td>24682952                                              </td><td>11925639                                              </td><td>      NA                                              </td><td>      NA                                              </td><td>NA                                                    </td><td>      NA                                              </td><td>NA                                                    </td></tr>\n",
       "</tbody>\n",
       "</table>\n"
      ],
      "text/latex": [
       "\\begin{tabular}{r|llllllllllllllllllllllllllllllllllllllllllllllllllllllllllllllllllllllllllllllllllllllllllllllllllllllllllllllllllllllllllllllllllllllllllllllllllllllllllllllllllllllllllllllllllllllllllllllllllllllllllllllllllllllllllllllllllllllllllllllllllllllllllllllllllllllllllllllllllllllllllllllll}\n",
       " SampleName & Run.x & ReleaseDate & LoadDate & spots & bases & spots\\_with\\_mates & avgLength & size\\_MB & download\\_path & ⋯ & Missing\\_protist.y & Total\\_protist.y & Complete\\_protist\\_BUSCO\\_prop.y & dib\\_assembly\\_unique\\_kmers & ncgr\\_assembly\\_unique\\_kmers & num\\_reads\\_kept\\_diginorm & total\\_reads\\_before\\_diginorm & perc\\_kept\\_diginorm & num\\_kmers\\_reads\\_diginorm & fp\\_rate\\_diginorm\\\\\n",
       "\\hline\n",
       "\t MMETSP0004                                             & SRR1296863                                             & 7/22/15                                                & 7/26/15                                                & 24803955                                               & 2480395500                                             & 24803955                                               & 100                                                    & 1604                                                   & http://sra-download.ncbi.nlm.nih.gov/srapub/SRR1296863 & ⋯                                                      &  86                                                    & 303                                                    & 0.6006601                                              & 19837761                                               &  9187479                                               & 16287761                                               & 49504503                                               & 32.9\\%                                                & 68379508                                               &  0                                                    \\\\\n",
       "\t MMETSP0005                                             & SRR1296767                                             & 7/22/15                                                & 7/27/15                                                & 28100060                                               & 2810006000                                             & 28100060                                               & 100                                                    & 1794                                                   & http://sra-download.ncbi.nlm.nih.gov/srapub/SRR1296767 & ⋯                                                      &  91                                                    & 303                                                    & 0.5940594                                              & 20350054                                               &  8874387                                               & 17691329                                               & 56153336                                               & 31.5\\%                                                & 79131023                                               &  0                                                    \\\\\n",
       "\t MMETSP0006                                             & SRR1296917                                             & 7/22/15                                                & 7/26/15                                                & 21466210                                               & 2146621000                                             & 21466210                                               & 100                                                    & 1426                                                   & http://sra-download.ncbi.nlm.nih.gov/srapub/SRR1296917 & ⋯                                                      &  44                                                    & 234                                                    & 0.6880342                                              & 25286098                                               &  9558658                                               & 18575869                                               & 42843795                                               & 43.4\\%                                                & 93740474                                               &  0                                                    \\\\\n",
       "\t MMETSP0007                                             & SRR1296769                                             & 7/22/15                                                & 7/27/15                                                & 20174360                                               & 2017436000                                             & 20174360                                               & 100                                                    & 1319                                                   & http://sra-download.ncbi.nlm.nih.gov/srapub/SRR1296769 & ⋯                                                      & 113                                                    & 234                                                    & 0.4145299                                              & 12496793                                               &  6672958                                               & 12104182                                               & 40343316                                               & 30.0\\%                                                & 65289000                                               &  0                                                    \\\\\n",
       "\t MMETSP0008                                             & SRR1294412                                             & 7/22/15                                                & 12/30/15                                               & 27052143                                               & 2705214300                                             & 27052143                                               & 100                                                    & 1723                                                   & http://sra-download.ncbi.nlm.nih.gov/srapub/SRR1294412 & ⋯                                                      &  29                                                    & 234                                                    & 0.7820513                                              & 24682952                                               & 11925639                                               &       NA                                               &       NA                                               & NA                                                     &       NA                                               & NA                                                    \\\\\n",
       "\t MMETSP0008                                             & SRR1294411                                             & 7/22/15                                                & 12/30/15                                               & 22076599                                               & 4415319800                                             & 22076599                                               & 200                                                    & 2866                                                   & http://sra-download.ncbi.nlm.nih.gov/srapub/SRR1294411 & ⋯                                                      &  29                                                    & 234                                                    & 0.7820513                                              & 24682952                                               & 11925639                                               &       NA                                               &       NA                                               & NA                                                     &       NA                                               & NA                                                    \\\\\n",
       "\\end{tabular}\n"
      ],
      "text/markdown": [
       "\n",
       "SampleName | Run.x | ReleaseDate | LoadDate | spots | bases | spots_with_mates | avgLength | size_MB | download_path | ⋯ | Missing_protist.y | Total_protist.y | Complete_protist_BUSCO_prop.y | dib_assembly_unique_kmers | ncgr_assembly_unique_kmers | num_reads_kept_diginorm | total_reads_before_diginorm | perc_kept_diginorm | num_kmers_reads_diginorm | fp_rate_diginorm | \n",
       "|---|---|---|---|---|---|\n",
       "| MMETSP0004                                             | SRR1296863                                             | 7/22/15                                                | 7/26/15                                                | 24803955                                               | 2480395500                                             | 24803955                                               | 100                                                    | 1604                                                   | http://sra-download.ncbi.nlm.nih.gov/srapub/SRR1296863 | ⋯                                                      |  86                                                    | 303                                                    | 0.6006601                                              | 19837761                                               |  9187479                                               | 16287761                                               | 49504503                                               | 32.9%                                                  | 68379508                                               |  0                                                     | \n",
       "| MMETSP0005                                             | SRR1296767                                             | 7/22/15                                                | 7/27/15                                                | 28100060                                               | 2810006000                                             | 28100060                                               | 100                                                    | 1794                                                   | http://sra-download.ncbi.nlm.nih.gov/srapub/SRR1296767 | ⋯                                                      |  91                                                    | 303                                                    | 0.5940594                                              | 20350054                                               |  8874387                                               | 17691329                                               | 56153336                                               | 31.5%                                                  | 79131023                                               |  0                                                     | \n",
       "| MMETSP0006                                             | SRR1296917                                             | 7/22/15                                                | 7/26/15                                                | 21466210                                               | 2146621000                                             | 21466210                                               | 100                                                    | 1426                                                   | http://sra-download.ncbi.nlm.nih.gov/srapub/SRR1296917 | ⋯                                                      |  44                                                    | 234                                                    | 0.6880342                                              | 25286098                                               |  9558658                                               | 18575869                                               | 42843795                                               | 43.4%                                                  | 93740474                                               |  0                                                     | \n",
       "| MMETSP0007                                             | SRR1296769                                             | 7/22/15                                                | 7/27/15                                                | 20174360                                               | 2017436000                                             | 20174360                                               | 100                                                    | 1319                                                   | http://sra-download.ncbi.nlm.nih.gov/srapub/SRR1296769 | ⋯                                                      | 113                                                    | 234                                                    | 0.4145299                                              | 12496793                                               |  6672958                                               | 12104182                                               | 40343316                                               | 30.0%                                                  | 65289000                                               |  0                                                     | \n",
       "| MMETSP0008                                             | SRR1294412                                             | 7/22/15                                                | 12/30/15                                               | 27052143                                               | 2705214300                                             | 27052143                                               | 100                                                    | 1723                                                   | http://sra-download.ncbi.nlm.nih.gov/srapub/SRR1294412 | ⋯                                                      |  29                                                    | 234                                                    | 0.7820513                                              | 24682952                                               | 11925639                                               |       NA                                               |       NA                                               | NA                                                     |       NA                                               | NA                                                     | \n",
       "| MMETSP0008                                             | SRR1294411                                             | 7/22/15                                                | 12/30/15                                               | 22076599                                               | 4415319800                                             | 22076599                                               | 200                                                    | 2866                                                   | http://sra-download.ncbi.nlm.nih.gov/srapub/SRR1294411 | ⋯                                                      |  29                                                    | 234                                                    | 0.7820513                                              | 24682952                                               | 11925639                                               |       NA                                               |       NA                                               | NA                                                     |       NA                                               | NA                                                     | \n",
       "\n",
       "\n"
      ],
      "text/plain": [
       "  SampleName Run.x      ReleaseDate LoadDate spots    bases     \n",
       "1 MMETSP0004 SRR1296863 7/22/15     7/26/15  24803955 2480395500\n",
       "2 MMETSP0005 SRR1296767 7/22/15     7/27/15  28100060 2810006000\n",
       "3 MMETSP0006 SRR1296917 7/22/15     7/26/15  21466210 2146621000\n",
       "4 MMETSP0007 SRR1296769 7/22/15     7/27/15  20174360 2017436000\n",
       "5 MMETSP0008 SRR1294412 7/22/15     12/30/15 27052143 2705214300\n",
       "6 MMETSP0008 SRR1294411 7/22/15     12/30/15 22076599 4415319800\n",
       "  spots_with_mates avgLength size_MB\n",
       "1 24803955         100       1604   \n",
       "2 28100060         100       1794   \n",
       "3 21466210         100       1426   \n",
       "4 20174360         100       1319   \n",
       "5 27052143         100       1723   \n",
       "6 22076599         200       2866   \n",
       "  download_path                                          ⋯ Missing_protist.y\n",
       "1 http://sra-download.ncbi.nlm.nih.gov/srapub/SRR1296863 ⋯  86              \n",
       "2 http://sra-download.ncbi.nlm.nih.gov/srapub/SRR1296767 ⋯  91              \n",
       "3 http://sra-download.ncbi.nlm.nih.gov/srapub/SRR1296917 ⋯  44              \n",
       "4 http://sra-download.ncbi.nlm.nih.gov/srapub/SRR1296769 ⋯ 113              \n",
       "5 http://sra-download.ncbi.nlm.nih.gov/srapub/SRR1294412 ⋯  29              \n",
       "6 http://sra-download.ncbi.nlm.nih.gov/srapub/SRR1294411 ⋯  29              \n",
       "  Total_protist.y Complete_protist_BUSCO_prop.y dib_assembly_unique_kmers\n",
       "1 303             0.6006601                     19837761                 \n",
       "2 303             0.5940594                     20350054                 \n",
       "3 234             0.6880342                     25286098                 \n",
       "4 234             0.4145299                     12496793                 \n",
       "5 234             0.7820513                     24682952                 \n",
       "6 234             0.7820513                     24682952                 \n",
       "  ncgr_assembly_unique_kmers num_reads_kept_diginorm\n",
       "1  9187479                   16287761               \n",
       "2  8874387                   17691329               \n",
       "3  9558658                   18575869               \n",
       "4  6672958                   12104182               \n",
       "5 11925639                         NA               \n",
       "6 11925639                         NA               \n",
       "  total_reads_before_diginorm perc_kept_diginorm num_kmers_reads_diginorm\n",
       "1 49504503                    32.9%              68379508                \n",
       "2 56153336                    31.5%              79131023                \n",
       "3 42843795                    43.4%              93740474                \n",
       "4 40343316                    30.0%              65289000                \n",
       "5       NA                    NA                       NA                \n",
       "6       NA                    NA                       NA                \n",
       "  fp_rate_diginorm\n",
       "1  0              \n",
       "2  0              \n",
       "3  0              \n",
       "4  0              \n",
       "5 NA              \n",
       "6 NA              "
      ]
     },
     "metadata": {},
     "output_type": "display_data"
    }
   ],
   "source": [
    "dim(evaluation_matrix_13)\n",
    "head(evaluation_matrix_13)"
   ]
  },
  {
   "cell_type": "code",
   "execution_count": 141,
   "metadata": {},
   "outputs": [
    {
     "data": {
      "text/html": [
       "288"
      ],
      "text/latex": [
       "288"
      ],
      "text/markdown": [
       "288"
      ],
      "text/plain": [
       "[1] 288"
      ]
     },
     "metadata": {},
     "output_type": "display_data"
    }
   ],
   "source": [
    "cols<-colnames(evaluation_matrix_13)\n",
    "length(cols)\n",
    "df <- data.frame(matrix(NA, nrow = length(cols), ncol = 1))\n",
    "df$metric_names<-cols"
   ]
  },
  {
   "cell_type": "code",
   "execution_count": 142,
   "metadata": {},
   "outputs": [
    {
     "data": {
      "text/html": [
       "<ol class=list-inline>\n",
       "\t<li>288</li>\n",
       "\t<li>2</li>\n",
       "</ol>\n"
      ],
      "text/latex": [
       "\\begin{enumerate*}\n",
       "\\item 288\n",
       "\\item 2\n",
       "\\end{enumerate*}\n"
      ],
      "text/markdown": [
       "1. 288\n",
       "2. 2\n",
       "\n",
       "\n"
      ],
      "text/plain": [
       "[1] 288   2"
      ]
     },
     "metadata": {},
     "output_type": "display_data"
    }
   ],
   "source": [
    "dim(df)\n",
    "df<-df[,c(2,1)]\n",
    "colnames(df)<-c('EvaluationMetric','Description')"
   ]
  },
  {
   "cell_type": "code",
   "execution_count": 143,
   "metadata": {},
   "outputs": [
    {
     "data": {
      "text/html": [
       "<table>\n",
       "<thead><tr><th scope=col>EvaluationMetric</th><th scope=col>Description</th></tr></thead>\n",
       "<tbody>\n",
       "\t<tr><td>SampleName </td><td>NA         </td></tr>\n",
       "\t<tr><td>Run.x      </td><td>NA         </td></tr>\n",
       "\t<tr><td>ReleaseDate</td><td>NA         </td></tr>\n",
       "\t<tr><td>LoadDate   </td><td>NA         </td></tr>\n",
       "\t<tr><td>spots      </td><td>NA         </td></tr>\n",
       "\t<tr><td>bases      </td><td>NA         </td></tr>\n",
       "</tbody>\n",
       "</table>\n"
      ],
      "text/latex": [
       "\\begin{tabular}{r|ll}\n",
       " EvaluationMetric & Description\\\\\n",
       "\\hline\n",
       "\t SampleName  & NA         \\\\\n",
       "\t Run.x       & NA         \\\\\n",
       "\t ReleaseDate & NA         \\\\\n",
       "\t LoadDate    & NA         \\\\\n",
       "\t spots       & NA         \\\\\n",
       "\t bases       & NA         \\\\\n",
       "\\end{tabular}\n"
      ],
      "text/markdown": [
       "\n",
       "EvaluationMetric | Description | \n",
       "|---|---|---|---|---|---|\n",
       "| SampleName  | NA          | \n",
       "| Run.x       | NA          | \n",
       "| ReleaseDate | NA          | \n",
       "| LoadDate    | NA          | \n",
       "| spots       | NA          | \n",
       "| bases       | NA          | \n",
       "\n",
       "\n"
      ],
      "text/plain": [
       "  EvaluationMetric Description\n",
       "1 SampleName       NA         \n",
       "2 Run.x            NA         \n",
       "3 ReleaseDate      NA         \n",
       "4 LoadDate         NA         \n",
       "5 spots            NA         \n",
       "6 bases            NA         "
      ]
     },
     "metadata": {},
     "output_type": "display_data"
    }
   ],
   "source": [
    "head(df)"
   ]
  },
  {
   "cell_type": "code",
   "execution_count": 123,
   "metadata": {
    "collapsed": true
   },
   "outputs": [],
   "source": [
    "#write.csv(df,\"MMETSP_all_evaluation_matrix_METADATA.csv\")"
   ]
  },
  {
   "cell_type": "code",
   "execution_count": null,
   "metadata": {
    "collapsed": true
   },
   "outputs": [],
   "source": []
  }
 ],
 "metadata": {
  "kernelspec": {
   "display_name": "R",
   "language": "R",
   "name": "ir"
  },
  "language_info": {
   "codemirror_mode": "r",
   "file_extension": ".r",
   "mimetype": "text/x-r-source",
   "name": "R",
   "pygments_lexer": "r",
   "version": "3.4.1"
  }
 },
 "nbformat": 4,
 "nbformat_minor": 2
}
