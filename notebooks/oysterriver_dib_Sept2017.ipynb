{
 "cells": [
  {
   "cell_type": "code",
   "execution_count": 1,
   "metadata": {
    "collapsed": false
   },
   "outputs": [
    {
     "name": "stdout",
     "output_type": "stream",
     "text": [
      "Populating the interactive namespace from numpy and matplotlib\n"
     ]
    }
   ],
   "source": [
    "%matplotlib inline\n",
    "%pylab inline\n",
    "import matplotlib\n",
    "import pandas as pd\n",
    "import pylab as pl\n",
    "import matplotlib.pyplot as plt\n",
    "import palettable as pal"
   ]
  },
  {
   "cell_type": "code",
   "execution_count": 4,
   "metadata": {
    "collapsed": false
   },
   "outputs": [],
   "source": [
    "# transrate scores\n",
    "file_orp_transrate_scores = \"~/Downloads/transrate_scores_macmanes.csv\"\n",
    "file_dib_transrate_scores = \"~/Downloads/transrate_scores_dib.csv\"\n",
    "orp_transrate_score = pd.read_csv(file_orp_transrate_scores, index_col='SampleName')\n",
    "dib_transrate_score = pd.read_csv(file_dib_transrate_scores, index_col='SampleName')"
   ]
  },
  {
   "cell_type": "code",
   "execution_count": 5,
   "metadata": {
    "collapsed": false
   },
   "outputs": [],
   "source": [
    "# reference transrate metrics\n",
    "file_dib_v_orp_transrate = \"~/Downloads/transrate_reference_dib_v_macmanes.csv\"\n",
    "file_orp_v_dib_transrate = \"~/Downloads/transrate_reverse_ref_macmanes_v_dib.csv\"\n",
    "dib_transrate = pd.read_csv(file_dib_v_orp_transrate, index_col='SampleName')\n",
    "orp_transrate = pd.read_csv(file_orp_v_dib_transrate, index_col='SampleName')"
   ]
  },
  {
   "cell_type": "code",
   "execution_count": 6,
   "metadata": {
    "collapsed": true
   },
   "outputs": [],
   "source": [
    "dib_transrate_score = dib_transrate_score.drop_duplicates()\n",
    "orp_transrate_score = orp_transrate_score.drop_duplicates()"
   ]
  },
  {
   "cell_type": "code",
   "execution_count": 7,
   "metadata": {
    "collapsed": false
   },
   "outputs": [
    {
     "name": "stdout",
     "output_type": "stream",
     "text": [
      "Index([u'DRR053698', u'ERR489297', u'DRR030368', u'DRR031870', u'DRR046632',\n",
      "       u'DRR069093', u'ERR058009', u'ERR1016675', u'SRR2086412',\n",
      "       u'SRR1789336'],\n",
      "      dtype='object', name=u'SampleName')\n"
     ]
    }
   ],
   "source": [
    "print(dib_transrate_score.index)"
   ]
  },
  {
   "cell_type": "code",
   "execution_count": 8,
   "metadata": {
    "collapsed": false
   },
   "outputs": [
    {
     "name": "stdout",
     "output_type": "stream",
     "text": [
      "Index([u'DRR053698', u'DRR082659', u'ERR489297', u'DRR031870', u'DRR046632',\n",
      "       u'DRR069093', u'ERR058009', u'ERR1016675', u'SRR2086412', u'SRR3499127',\n",
      "       u'SRR1789336', u'SRR2016923', u'ERR1674585'],\n",
      "      dtype='object', name=u'SampleName')\n"
     ]
    }
   ],
   "source": [
    "print(orp_transrate_score.index)"
   ]
  },
  {
   "cell_type": "code",
   "execution_count": 9,
   "metadata": {
    "collapsed": false
   },
   "outputs": [
    {
     "data": {
      "text/plain": [
       "9"
      ]
     },
     "execution_count": 9,
     "metadata": {},
     "output_type": "execute_result"
    }
   ],
   "source": [
    "#checking the comparison of the two sets. \n",
    "ddd=set(dib_transrate_score.index)\n",
    "ncnc=set(macmanes_transrate_score.index)\n",
    "len(ddd.intersection(ncnc))"
   ]
  },
  {
   "cell_type": "code",
   "execution_count": 11,
   "metadata": {
    "collapsed": false
   },
   "outputs": [
    {
     "data": {
      "text/plain": [
       "11"
      ]
     },
     "execution_count": 11,
     "metadata": {},
     "output_type": "execute_result"
    }
   ],
   "source": [
    "#checking the comparison of the two sets. \n",
    "ddd=set(dib_transrate.index)\n",
    "ncnc=set(orp_transrate.index)\n",
    "len(ddd.intersection(ncnc))"
   ]
  },
  {
   "cell_type": "code",
   "execution_count": 23,
   "metadata": {
    "collapsed": false
   },
   "outputs": [],
   "source": [
    "def scatter_diff(df1, df2, column, fig, ax, df1name = 'df1', df2name = 'df2', \n",
    "                 color1='gray', color2='blue', ymin=0, ymax=1, ypos=.95):\n",
    "    # plot scatter differences between two dfs with the same columns\n",
    "    # create new df for data comparison\n",
    "    \n",
    "    combined_df = pd.merge(df1, df2, left_index=True, right_index=True)\n",
    "    newdf=pd.DataFrame(index=combined_df.index)\n",
    "    newdf[df1name]=combined_df[column+'_x']\n",
    "    newdf[df2name]=combined_df[column+'_y']\n",
    "\n",
    "    # plot with different colors if df1 > or < then df2\n",
    "    \n",
    "    newdf.loc[newdf[df1name] > newdf[df2name], [df1name, df2name]].T.plot(ax=ax, legend = False, \n",
    "                                                                          color = color1, lw=2)\n",
    "    newdf.loc[newdf[df1name] <= newdf[df2name], [df1name, df2name]].T.plot(ax=ax, legend = False, \n",
    "                                                                           color = color2, alpha = 0.5, lw=2)\n",
    "    ax.text(-.1, ypos, str(len(newdf.loc[newdf[df1name] > newdf[df2name]])), \n",
    "            color= color1, fontsize='x-large', fontweight='heavy')\n",
    "    ax.text(.80, ypos, str(len(newdf.loc[newdf[df1name] <= newdf[df2name]])), \n",
    "            color= color2, fontsize='x-large', fontweight='heavy')\n",
    "\n",
    "    # aesthetics \n",
    "    ax.set_xlim(-.15, 1.15)\n",
    "    ax.set_ylim(ymin, ymax)\n",
    "    ax.set_xticks([0,1])\n",
    "    ax.set_xticklabels([df1name, df2name], fontsize='large', fontweight='bold')\n",
    "    ax.set_axis_bgcolor('white')\n",
    "    ax.spines['top'].set_visible(False)\n",
    "    ax.spines['right'].set_visible(False)\n",
    "    ax.tick_params(labelsize='x-large')\n",
    "    return newdf, fig, ax\n",
    "\n",
    "def violin_split(df, col1, col2, fig, ax, color2='gray', color1='blue', ymin=0, ymax=1):\n",
    "    #create split violine plots\n",
    "    v1 = ax.violinplot(df[col1],\n",
    "                   showmeans=False, showextrema=False, showmedians=False)\n",
    "    for b in v1['bodies']:\n",
    "        m = np.mean(b.get_paths()[0].vertices[:, 0])\n",
    "        b.get_paths()[0].vertices[:, 0] = np.clip(b.get_paths()[0].vertices[:, 0], -np.inf, m)\n",
    "        b.set_color(color2)\n",
    "        b.set_alpha(0.85)\n",
    "    v2 = ax.violinplot(df[col2],\n",
    "                   showmeans=False, showextrema=False, showmedians=False)\n",
    "    for b in v2['bodies']:\n",
    "        m = np.mean(b.get_paths()[0].vertices[:, 0])\n",
    "        b.get_paths()[0].vertices[:, 0] = np.clip(b.get_paths()[0].vertices[:, 0], m, np.inf)\n",
    "        b.set_color(color1)\n",
    "        b.set_alpha(0.85)\n",
    "    ax.set_xticks([])\n",
    "    ax.set_ylim([ymin, ymax])\n",
    "    ax.spines['top'].set_visible(False)\n",
    "    ax.spines['right'].set_visible(False)\n",
    "    ax.tick_params(axis= 'both',labelsize='x-large')\n",
    "    ax.set_axis_bgcolor('white')\n",
    "    \n",
    "def create_plots(df1, df2, column, col_title, df1name = 'orp', df2name = 'dib', ymax = 1, ymin = 0, ypos = 0.95):\n",
    "    fig, axs = plt.subplots(1,2)\n",
    "    fig.set_size_inches(8,8)\n",
    "    outdf, fig, ax = scatter_diff(df1, df2, column = column, \n",
    "                 fig = fig, ax = axs[0], df1name = df1name, df2name = df2name, \n",
    "                                  ymax = ymax, ymin = ymin, ypos = ypos)\n",
    "    violin_split(outdf, df1name, df2name, fig, axs[1], ymin = ymin, ymax = ymax)\n",
    "    fig.suptitle(col_title, fontsize = 'x-large', fontweight = 'bold')\n",
    "    return outdf, fig, ax"
   ]
  },
  {
   "cell_type": "code",
   "execution_count": 24,
   "metadata": {
    "collapsed": false
   },
   "outputs": [
    {
     "name": "stderr",
     "output_type": "stream",
     "text": [
      "/Users/cohenl06/anaconda3/envs/py27/lib/python2.7/site-packages/ipykernel/__main__.py:27: MatplotlibDeprecationWarning: The set_axis_bgcolor function was deprecated in version 2.0. Use set_facecolor instead.\n",
      "/Users/cohenl06/anaconda3/envs/py27/lib/python2.7/site-packages/ipykernel/__main__.py:54: MatplotlibDeprecationWarning: The set_axis_bgcolor function was deprecated in version 2.0. Use set_facecolor instead.\n"
     ]
    },
    {
     "data": {
      "image/png": "[encoded data removed]",
      "text/plain": [
       "<matplotlib.figure.Figure at 0x117b6d2d0>"
      ]
     },
     "metadata": {},
     "output_type": "display_data"
    }
   ],
   "source": [
    "score,fig, ax = create_plots(orp_transrate_score,dib_transrate_score, 'n_seqs', '',ymax=250000, ypos=190000)"
   ]
  },
  {
   "cell_type": "code",
   "execution_count": 25,
   "metadata": {
    "collapsed": false
   },
   "outputs": [
    {
     "data": {
      "text/plain": [
       "111007.5"
      ]
     },
     "execution_count": 25,
     "metadata": {},
     "output_type": "execute_result"
    }
   ],
   "source": [
    "dib_transrate_score[\"n_seqs\"].mean()"
   ]
  },
  {
   "cell_type": "code",
   "execution_count": 26,
   "metadata": {
    "collapsed": false
   },
   "outputs": [
    {
     "data": {
      "text/plain": [
       "206011.07692307694"
      ]
     },
     "execution_count": 26,
     "metadata": {},
     "output_type": "execute_result"
    }
   ],
   "source": [
    "orp_transrate_score[\"n_seqs\"].mean()"
   ]
  },
  {
   "cell_type": "code",
   "execution_count": 27,
   "metadata": {
    "collapsed": false
   },
   "outputs": [
    {
     "data": {
      "text/plain": [
       "Index([u'assembly', u'n_seqs', u'smallest', u'largest', u'n_bases',\n",
       "       u'mean_len', u'n_under_200', u'n_over_1k', u'n_over_10k', u'n_with_orf',\n",
       "       u'mean_orf_percent', u'n90', u'n70', u'n50', u'n30', u'n10', u'gc',\n",
       "       u'gc_skew', u'at_skew', u'cpg_ratio', u'bases_n', u'proportion_n',\n",
       "       u'linguistic_complexity', u'fragments', u'fragments_mapped',\n",
       "       u'p_fragments_mapped', u'good_mappings', u'p_good_mapping',\n",
       "       u'bad_mappings', u'potential_bridges', u'bases_uncovered',\n",
       "       u'p_bases_uncovered', u'contigs_uncovbase', u'p_contigs_uncovbase',\n",
       "       u'contigs_uncovered', u'p_contigs_uncovered', u'contigs_lowcovered',\n",
       "       u'p_contigs_lowcovered', u'contigs_segmented', u'p_contigs_segmented',\n",
       "       u'score', u'optimal_score', u'cutoff'],\n",
       "      dtype='object')"
      ]
     },
     "execution_count": 27,
     "metadata": {},
     "output_type": "execute_result"
    }
   ],
   "source": [
    "dib_transrate_score.columns"
   ]
  },
  {
   "cell_type": "code",
   "execution_count": 28,
   "metadata": {
    "collapsed": false
   },
   "outputs": [
    {
     "data": {
      "text/plain": [
       "Index([u'assembly', u'n_seqs', u'smallest', u'largest', u'n_bases',\n",
       "       u'mean_len', u'n_under_200', u'n_over_1k', u'n_over_10k', u'n_with_orf',\n",
       "       u'mean_orf_percent', u'n90', u'n70', u'n50', u'n30', u'n10', u'gc',\n",
       "       u'gc_skew', u'at_skew', u'cpg_ratio', u'bases_n', u'proportion_n',\n",
       "       u'linguistic_complexity', u'CRBB_hits', u'n_contigs_with_CRBB',\n",
       "       u'p_contigs_with_CRBB', u'rbh_per_reference', u'n_refs_with_CRBB',\n",
       "       u'p_refs_with_CRBB', u'cov25', u'p_cov25', u'cov50', u'p_cov50',\n",
       "       u'cov75', u'p_cov75', u'cov85', u'p_cov85', u'cov95', u'p_cov95',\n",
       "       u'reference_coverage', u'score', u'optimal_score', u'cutoff', u'Run'],\n",
       "      dtype='object')"
      ]
     },
     "execution_count": 28,
     "metadata": {},
     "output_type": "execute_result"
    }
   ],
   "source": [
    "orp_transrate.columns"
   ]
  },
  {
   "cell_type": "code",
   "execution_count": 29,
   "metadata": {
    "collapsed": false
   },
   "outputs": [
    {
     "data": {
      "text/plain": [
       "Index([u'assembly', u'n_seqs', u'smallest', u'largest', u'n_bases',\n",
       "       u'mean_len', u'n_under_200', u'n_over_1k', u'n_over_10k', u'n_with_orf',\n",
       "       u'mean_orf_percent', u'n90', u'n70', u'n50', u'n30', u'n10', u'gc',\n",
       "       u'gc_skew', u'at_skew', u'cpg_ratio', u'bases_n', u'proportion_n',\n",
       "       u'linguistic_complexity', u'CRBB_hits', u'n_contigs_with_CRBB',\n",
       "       u'p_contigs_with_CRBB', u'rbh_per_reference', u'n_refs_with_CRBB',\n",
       "       u'p_refs_with_CRBB', u'cov25', u'p_cov25', u'cov50', u'p_cov50',\n",
       "       u'cov75', u'p_cov75', u'cov85', u'p_cov85', u'cov95', u'p_cov95',\n",
       "       u'reference_coverage', u'score', u'optimal_score', u'cutoff', u'Run'],\n",
       "      dtype='object')"
      ]
     },
     "execution_count": 29,
     "metadata": {},
     "output_type": "execute_result"
    }
   ],
   "source": [
    "dib_transrate.columns"
   ]
  },
  {
   "cell_type": "code",
   "execution_count": 30,
   "metadata": {
    "collapsed": false
   },
   "outputs": [
    {
     "name": "stderr",
     "output_type": "stream",
     "text": [
      "/Users/cohenl06/anaconda3/envs/py27/lib/python2.7/site-packages/ipykernel/__main__.py:27: MatplotlibDeprecationWarning: The set_axis_bgcolor function was deprecated in version 2.0. Use set_facecolor instead.\n",
      "/Users/cohenl06/anaconda3/envs/py27/lib/python2.7/site-packages/ipykernel/__main__.py:54: MatplotlibDeprecationWarning: The set_axis_bgcolor function was deprecated in version 2.0. Use set_facecolor instead.\n"
     ]
    },
    {
     "data": {
      "image/png": "[encoded data removed]",
      "text/plain": [
       "<matplotlib.figure.Figure at 0x1185b6ad0>"
      ]
     },
     "metadata": {},
     "output_type": "display_data"
    }
   ],
   "source": [
    "score,fig, ax = create_plots(orp_transrate_score,dib_transrate_score, 'score', 'Transrate scores',ymax=0.6, ypos=0.55)"
   ]
  },
  {
   "cell_type": "code",
   "execution_count": 31,
   "metadata": {
    "collapsed": false
   },
   "outputs": [
    {
     "data": {
      "text/html": [
       "<div>\n",
       "<table border=\"1\" class=\"dataframe\">\n",
       "  <thead>\n",
       "    <tr style=\"text-align: right;\">\n",
       "      <th></th>\n",
       "      <th>orp</th>\n",
       "      <th>dib</th>\n",
       "    </tr>\n",
       "    <tr>\n",
       "      <th>SampleName</th>\n",
       "      <th></th>\n",
       "      <th></th>\n",
       "    </tr>\n",
       "  </thead>\n",
       "  <tbody>\n",
       "    <tr>\n",
       "      <th>SRR2086412</th>\n",
       "      <td>0.28712</td>\n",
       "      <td>0.36789</td>\n",
       "    </tr>\n",
       "    <tr>\n",
       "      <th>SRR1789336</th>\n",
       "      <td>0.29000</td>\n",
       "      <td>0.30709</td>\n",
       "    </tr>\n",
       "  </tbody>\n",
       "</table>\n",
       "</div>"
      ],
      "text/plain": [
       "                orp      dib\n",
       "SampleName                  \n",
       "SRR2086412  0.28712  0.36789\n",
       "SRR1789336  0.29000  0.30709"
      ]
     },
     "execution_count": 31,
     "metadata": {},
     "output_type": "execute_result"
    }
   ],
   "source": [
    "score[score['orp']<score['dib']]"
   ]
  },
  {
   "cell_type": "code",
   "execution_count": 32,
   "metadata": {
    "collapsed": false
   },
   "outputs": [
    {
     "data": {
      "text/html": [
       "<div>\n",
       "<table border=\"1\" class=\"dataframe\">\n",
       "  <thead>\n",
       "    <tr style=\"text-align: right;\">\n",
       "      <th></th>\n",
       "      <th>orp</th>\n",
       "      <th>dib</th>\n",
       "    </tr>\n",
       "    <tr>\n",
       "      <th>SampleName</th>\n",
       "      <th></th>\n",
       "      <th></th>\n",
       "    </tr>\n",
       "  </thead>\n",
       "  <tbody>\n",
       "    <tr>\n",
       "      <th>DRR053698</th>\n",
       "      <td>0.36526</td>\n",
       "      <td>0.20354</td>\n",
       "    </tr>\n",
       "    <tr>\n",
       "      <th>ERR489297</th>\n",
       "      <td>0.30244</td>\n",
       "      <td>0.18458</td>\n",
       "    </tr>\n",
       "    <tr>\n",
       "      <th>DRR031870</th>\n",
       "      <td>0.33101</td>\n",
       "      <td>0.18805</td>\n",
       "    </tr>\n",
       "    <tr>\n",
       "      <th>DRR046632</th>\n",
       "      <td>0.29762</td>\n",
       "      <td>0.14917</td>\n",
       "    </tr>\n",
       "    <tr>\n",
       "      <th>DRR069093</th>\n",
       "      <td>0.20294</td>\n",
       "      <td>0.11658</td>\n",
       "    </tr>\n",
       "    <tr>\n",
       "      <th>ERR058009</th>\n",
       "      <td>0.35955</td>\n",
       "      <td>0.16107</td>\n",
       "    </tr>\n",
       "    <tr>\n",
       "      <th>ERR1016675</th>\n",
       "      <td>0.41138</td>\n",
       "      <td>0.21540</td>\n",
       "    </tr>\n",
       "    <tr>\n",
       "      <th>SRR2086412</th>\n",
       "      <td>0.28712</td>\n",
       "      <td>0.36789</td>\n",
       "    </tr>\n",
       "    <tr>\n",
       "      <th>SRR1789336</th>\n",
       "      <td>0.29000</td>\n",
       "      <td>0.30709</td>\n",
       "    </tr>\n",
       "  </tbody>\n",
       "</table>\n",
       "</div>"
      ],
      "text/plain": [
       "                orp      dib\n",
       "SampleName                  \n",
       "DRR053698   0.36526  0.20354\n",
       "ERR489297   0.30244  0.18458\n",
       "DRR031870   0.33101  0.18805\n",
       "DRR046632   0.29762  0.14917\n",
       "DRR069093   0.20294  0.11658\n",
       "ERR058009   0.35955  0.16107\n",
       "ERR1016675  0.41138  0.21540\n",
       "SRR2086412  0.28712  0.36789\n",
       "SRR1789336  0.29000  0.30709"
      ]
     },
     "execution_count": 32,
     "metadata": {},
     "output_type": "execute_result"
    }
   ],
   "source": [
    "score"
   ]
  },
  {
   "cell_type": "code",
   "execution_count": 36,
   "metadata": {
    "collapsed": false
   },
   "outputs": [
    {
     "name": "stderr",
     "output_type": "stream",
     "text": [
      "/Users/cohenl06/anaconda3/envs/py27/lib/python2.7/site-packages/ipykernel/__main__.py:27: MatplotlibDeprecationWarning: The set_axis_bgcolor function was deprecated in version 2.0. Use set_facecolor instead.\n",
      "/Users/cohenl06/anaconda3/envs/py27/lib/python2.7/site-packages/ipykernel/__main__.py:54: MatplotlibDeprecationWarning: The set_axis_bgcolor function was deprecated in version 2.0. Use set_facecolor instead.\n"
     ]
    },
    {
     "data": {
      "image/png": "[encoded data removed]",
      "text/plain": [
       "<matplotlib.figure.Figure at 0x118ac3c90>"
      ]
     },
     "metadata": {},
     "output_type": "display_data"
    }
   ],
   "source": [
    "p_refs,fig, ax = create_plots(orp_transrate,dib_transrate, 'p_refs_with_CRBB', 'Proportion of refs with CRB-BLAST with reference',ymax=1, ypos=1)"
   ]
  },
  {
   "cell_type": "code",
   "execution_count": 107,
   "metadata": {
    "collapsed": false
   },
   "outputs": [
    {
     "data": {
      "text/plain": [
       "SampleName\n",
       "DRR053698     0.20354\n",
       "ERR489297     0.18458\n",
       "DRR030368     0.16011\n",
       "DRR031870     0.18805\n",
       "DRR046632     0.14917\n",
       "DRR069093     0.11658\n",
       "ERR058009     0.16107\n",
       "ERR1016675    0.21540\n",
       "SRR2086412    0.36789\n",
       "SRR1789336    0.30709\n",
       "Name: score, dtype: float64"
      ]
     },
     "execution_count": 107,
     "metadata": {},
     "output_type": "execute_result"
    }
   ],
   "source": [
    "dib_transrate_score.score"
   ]
  },
  {
   "cell_type": "code",
   "execution_count": 35,
   "metadata": {
    "collapsed": false
   },
   "outputs": [
    {
     "data": {
      "text/plain": [
       "SampleName\n",
       "DRR053698     0.36526\n",
       "DRR082659     0.29540\n",
       "ERR489297     0.30244\n",
       "DRR031870     0.33101\n",
       "DRR046632     0.29762\n",
       "DRR069093     0.20294\n",
       "ERR058009     0.35955\n",
       "ERR1016675    0.41138\n",
       "SRR2086412    0.28712\n",
       "SRR3499127    0.12390\n",
       "SRR1789336    0.29000\n",
       "SRR2016923    0.12782\n",
       "ERR1674585    0.27591\n",
       "Name: score, dtype: float64"
      ]
     },
     "execution_count": 35,
     "metadata": {},
     "output_type": "execute_result"
    }
   ],
   "source": [
    "orp_transrate_score.score"
   ]
  },
  {
   "cell_type": "code",
   "execution_count": 109,
   "metadata": {
    "collapsed": false
   },
   "outputs": [
    {
     "data": {
      "text/plain": [
       "SampleName\n",
       "DRR053698     55.00986\n",
       "ERR489297     51.82306\n",
       "DRR030368     56.81875\n",
       "DRR031870     62.52451\n",
       "DRR046632     59.13064\n",
       "DRR069093     61.14864\n",
       "ERR058009     71.86366\n",
       "ERR1016675    55.35279\n",
       "SRR2086412    42.62858\n",
       "SRR1789336    57.88362\n",
       "Name: mean_orf_percent, dtype: float64"
      ]
     },
     "execution_count": 109,
     "metadata": {},
     "output_type": "execute_result"
    }
   ],
   "source": [
    "dib_transrate_score.mean_orf_percent"
   ]
  },
  {
   "cell_type": "code",
   "execution_count": 34,
   "metadata": {
    "collapsed": false
   },
   "outputs": [
    {
     "data": {
      "text/plain": [
       "SampleName\n",
       "DRR053698     58.70080\n",
       "DRR082659     59.23221\n",
       "ERR489297     55.46774\n",
       "DRR031870     66.63618\n",
       "DRR046632     60.94481\n",
       "DRR069093     63.25495\n",
       "ERR058009     77.43386\n",
       "ERR1016675    69.88026\n",
       "SRR2086412    46.30276\n",
       "SRR3499127    53.33971\n",
       "SRR1789336    61.90091\n",
       "SRR2016923    57.40076\n",
       "ERR1674585    51.02618\n",
       "Name: mean_orf_percent, dtype: float64"
      ]
     },
     "execution_count": 34,
     "metadata": {},
     "output_type": "execute_result"
    }
   ],
   "source": [
    "orp_transrate_score.mean_orf_percent"
   ]
  },
  {
   "cell_type": "code",
   "execution_count": null,
   "metadata": {
    "collapsed": true
   },
   "outputs": [],
   "source": []
  }
 ],
 "metadata": {
  "anaconda-cloud": {},
  "kernelspec": {
   "display_name": "Python [conda env:py27]",
   "language": "python",
   "name": "conda-env-py27-py"
  },
  "language_info": {
   "codemirror_mode": {
    "name": "ipython",
    "version": 2
   },
   "file_extension": ".py",
   "mimetype": "text/x-python",
   "name": "python",
   "nbconvert_exporter": "python",
   "pygments_lexer": "ipython2",
   "version": "2.7.13"
  }
 },
 "nbformat": 4,
 "nbformat_minor": 1
}
