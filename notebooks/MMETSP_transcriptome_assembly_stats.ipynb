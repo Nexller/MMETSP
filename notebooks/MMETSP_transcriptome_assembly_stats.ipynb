{
 "cells": [
  {
   "cell_type": "markdown",
   "metadata": {},
   "source": [
    "# MMETSP transcriptome assembly metrics"
   ]
  },
  {
   "cell_type": "code",
   "execution_count": 14,
   "metadata": {},
   "outputs": [],
   "source": [
    "special_flowers = c('MMETSP0693', 'MMETSP1019', 'MMETSP0923', 'MMETSP0008', 'MMETSP1002', 'MMETSP1325', 'MMETSP1018', \n",
    "                   'MMETSP1346', 'MMETSP0088', 'MMETSP0092', 'MMETSP0717', 'MMETSP0223', 'MMETSP0115', 'MMETSP0196', \n",
    "                   'MMETSP0197', 'MMETSP0398', 'MMETSP0399', 'MMETSP0922')"
   ]
  },
  {
   "cell_type": "code",
   "execution_count": 71,
   "metadata": {},
   "outputs": [],
   "source": [
    "# metrics files\n",
    "#dib_v_ncgr <- read.csv(\"../assembly_evaluation_data/transrate_reference_trinity2.2.0_v_ncgr.cds.csv\")\n",
    "#ncgr_v_dib <- read.csv(\"../assembly_evaluation_data/transrate_reverse_ncgr.nt_v_trinity2.2.0.csv\")\n",
    "#score_ncgr <- read.csv(\"../assembly_evaluation_data/transrate_scores_imicrobe_cds.csv\")\n",
    "#score_dib <- read.csv(\"../assembly_evaluation_data/transrate_scores_trinity-2.2.0.csv\")\n",
    "#BUSCO_dib_data <- read.csv(\"../assembly_evaluation_data/busco_scores_MMETSP_protist_trinity2.2.0.csv\")\n",
    "#BUSCO_ncgr_data <- read.csv(\"../assembly_evaluation_data/busco_scores_imicrobe_protist.csv\")\n",
    "giant_matrix = \"../assembly_evaluation_data/MMETSP_all_evaluation_matrix.csv\"\n",
    "all_metrics = read.csv(giant_matrix)\n",
    "#all_metrics.columns.values\n",
    "# transrate score metrics\n",
    "\n",
    "#BUSCO_dib_data\n",
    "#BUSCO_ncgr_data\n",
    "\n",
    "all_metrics <- all_metrics[!all_metrics$SampleName %in% special_flowers,]\n",
    "score_ncgr_cds <- all_metrics[,c('SampleName', 'score.y')]\n",
    "score_ncgr_nt <- all_metrics[,c('SampleName','score.x')]\n",
    "score_dib  <- all_metrics[,c('SampleName','score')]\n",
    "colnames(score_ncgr_nt) <- c('SampleName','score')\n",
    "colnames(score_ncgr_cds) <- c('SampleName','score')\n",
    "#transrate reference metrics\n",
    "ncgr_v_dib <- all_metrics[,c('SampleName','p_refs_with_CRBB.y','n_seqs.x','mean_orf_percent.x')]\n",
    "dib_v_ncgr <- all_metrics[,c('SampleName','p_refs_with_CRBB','n_seqs','mean_orf_percent')]\n",
    "colnames(ncgr_v_dib) <- c('SampleName','p_refs_with_CRBB','n_seqs','mean_orf_percent')\n",
    "# BUSCO eukaryotic\n",
    "BUSCO_ncgr_data <- all_metrics[,c('SampleName','Complete_eukaryotic_BUSCO_prop.y')]\n",
    "colnames(BUSCO_ncgr_data) <- c('SampleName','Complete_eukaryotic_BUSCO_prop')\n",
    "BUSCO_ncgr_data <- na.omit(BUSCO_ncgr_data)\n",
    "BUSCO_dib_data <- all_metrics[,c('SampleName','Complete_eukaryotic_BUSCO_prop.x')]\n",
    "colnames(BUSCO_dib_data) <- c('SampleName','Complete_eukaryotic_BUSCO_prop')\n",
    "BUSCO_dib_data <- na.omit(BUSCO_dib_data)\n",
    "# BUSCO protist\n",
    "BUSCO_ncgr_data_prot <- all_metrics[,c('SampleName','Complete_protist_BUSCO_prop.y')]\n",
    "colnames(BUSCO_ncgr_data_prot) <- c('SampleName','Complete_protist_BUSCO_prop')\n",
    "BUSCO_ncgr_data_prot <- na.omit(BUSCO_ncgr_data_prot)\n",
    "BUSCO_dib_data_prot <- all_metrics[,c('SampleName','Complete_protist_BUSCO_prop.x')]\n",
    "colnames(BUSCO_dib_data_prot) <- c('SampleName','Complete_protist_BUSCO_prop')\n",
    "BUSCO_dib_data_prot <- na.omit(BUSCO_dib_data_prot)"
   ]
  },
  {
   "cell_type": "markdown",
   "metadata": {},
   "source": [
    "## 1. Size of table with [Transrate](http://hibberdlab.com/transrate/metrics.html) comparative metrics"
   ]
  },
  {
   "cell_type": "markdown",
   "metadata": {},
   "source": [
    "(comparing DIB re-assemblies to NCGR assemblies and vice versa)"
   ]
  },
  {
   "cell_type": "markdown",
   "metadata": {},
   "source": [
    "### dib_v_ncgr (rows x columns)"
   ]
  },
  {
   "cell_type": "code",
   "execution_count": 72,
   "metadata": {},
   "outputs": [
    {
     "data": {
      "text/html": [
       "<ol class=list-inline>\n",
       "\t<li>660</li>\n",
       "\t<li>4</li>\n",
       "</ol>\n"
      ],
      "text/latex": [
       "\\begin{enumerate*}\n",
       "\\item 660\n",
       "\\item 4\n",
       "\\end{enumerate*}\n"
      ],
      "text/markdown": [
       "1. 660\n",
       "2. 4\n",
       "\n",
       "\n"
      ],
      "text/plain": [
       "[1] 660   4"
      ]
     },
     "metadata": {},
     "output_type": "display_data"
    }
   ],
   "source": [
    "dim(dib_v_ncgr)"
   ]
  },
  {
   "cell_type": "markdown",
   "metadata": {},
   "source": [
    "### ncgr_v_dib (rows x columns)"
   ]
  },
  {
   "cell_type": "code",
   "execution_count": 73,
   "metadata": {},
   "outputs": [
    {
     "data": {
      "text/html": [
       "<ol class=list-inline>\n",
       "\t<li>660</li>\n",
       "\t<li>4</li>\n",
       "</ol>\n"
      ],
      "text/latex": [
       "\\begin{enumerate*}\n",
       "\\item 660\n",
       "\\item 4\n",
       "\\end{enumerate*}\n"
      ],
      "text/markdown": [
       "1. 660\n",
       "2. 4\n",
       "\n",
       "\n"
      ],
      "text/plain": [
       "[1] 660   4"
      ]
     },
     "metadata": {},
     "output_type": "display_data"
    }
   ],
   "source": [
    "\n",
    "dim(ncgr_v_dib)"
   ]
  },
  {
   "cell_type": "markdown",
   "metadata": {},
   "source": [
    "## Size of table with [Transrate](http://hibberdlab.com/transrate/metrics.html) score  metrics  "
   ]
  },
  {
   "cell_type": "markdown",
   "metadata": {},
   "source": [
    "#### NCGR, \"cds\""
   ]
  },
  {
   "cell_type": "code",
   "execution_count": 74,
   "metadata": {},
   "outputs": [
    {
     "data": {
      "text/html": [
       "<ol class=list-inline>\n",
       "\t<li>660</li>\n",
       "\t<li>2</li>\n",
       "</ol>\n"
      ],
      "text/latex": [
       "\\begin{enumerate*}\n",
       "\\item 660\n",
       "\\item 2\n",
       "\\end{enumerate*}\n"
      ],
      "text/markdown": [
       "1. 660\n",
       "2. 2\n",
       "\n",
       "\n"
      ],
      "text/plain": [
       "[1] 660   2"
      ]
     },
     "metadata": {},
     "output_type": "display_data"
    }
   ],
   "source": [
    "dim(score_ncgr_cds)"
   ]
  },
  {
   "cell_type": "markdown",
   "metadata": {},
   "source": [
    "#### NCGR, \"nt\" "
   ]
  },
  {
   "cell_type": "code",
   "execution_count": 75,
   "metadata": {},
   "outputs": [
    {
     "data": {
      "text/html": [
       "<ol class=list-inline>\n",
       "\t<li>660</li>\n",
       "\t<li>2</li>\n",
       "</ol>\n"
      ],
      "text/latex": [
       "\\begin{enumerate*}\n",
       "\\item 660\n",
       "\\item 2\n",
       "\\end{enumerate*}\n"
      ],
      "text/markdown": [
       "1. 660\n",
       "2. 2\n",
       "\n",
       "\n"
      ],
      "text/plain": [
       "[1] 660   2"
      ]
     },
     "metadata": {},
     "output_type": "display_data"
    }
   ],
   "source": [
    "dim(score_ncgr_nt)"
   ]
  },
  {
   "cell_type": "markdown",
   "metadata": {},
   "source": [
    "#### DIB\n"
   ]
  },
  {
   "cell_type": "code",
   "execution_count": 76,
   "metadata": {},
   "outputs": [
    {
     "data": {
      "text/html": [
       "<ol class=list-inline>\n",
       "\t<li>660</li>\n",
       "\t<li>2</li>\n",
       "</ol>\n"
      ],
      "text/latex": [
       "\\begin{enumerate*}\n",
       "\\item 660\n",
       "\\item 2\n",
       "\\end{enumerate*}\n"
      ],
      "text/markdown": [
       "1. 660\n",
       "2. 2\n",
       "\n",
       "\n"
      ],
      "text/plain": [
       "[1] 660   2"
      ]
     },
     "metadata": {},
     "output_type": "display_data"
    }
   ],
   "source": [
    "dim(score_dib)"
   ]
  },
  {
   "cell_type": "markdown",
   "metadata": {},
   "source": [
    "## 2. Number of contigs in transcriptome (mean ± std)"
   ]
  },
  {
   "cell_type": "markdown",
   "metadata": {},
   "source": [
    "### DIB re-assemblies"
   ]
  },
  {
   "cell_type": "code",
   "execution_count": 77,
   "metadata": {},
   "outputs": [
    {
     "data": {
      "text/html": [
       "48361.3537519142"
      ],
      "text/latex": [
       "48361.3537519142"
      ],
      "text/markdown": [
       "48361.3537519142"
      ],
      "text/plain": [
       "[1] 48361.35"
      ]
     },
     "metadata": {},
     "output_type": "display_data"
    },
    {
     "data": {
      "text/html": [
       "35703.5271739569"
      ],
      "text/latex": [
       "35703.5271739569"
      ],
      "text/markdown": [
       "35703.5271739569"
      ],
      "text/plain": [
       "[1] 35703.53"
      ]
     },
     "metadata": {},
     "output_type": "display_data"
    }
   ],
   "source": [
    "contigs_dib_v_ncgr <- dib_v_ncgr$n_seqs\n",
    "\n",
    "#length(contigs_dib_v_ncgr)\n",
    "\n",
    "mean(contigs_dib_v_ncgr,na.rm=TRUE)\n",
    "\n",
    "sd(contigs_dib_v_ncgr,na.rm=TRUE)\n"
   ]
  },
  {
   "cell_type": "markdown",
   "metadata": {},
   "source": [
    "### NCGR assemblies from [imicrobe](https://imicrobe.us/?#/projects/104)"
   ]
  },
  {
   "cell_type": "code",
   "execution_count": 78,
   "metadata": {},
   "outputs": [
    {
     "data": {
      "text/html": [
       "30532.6056338028"
      ],
      "text/latex": [
       "30532.6056338028"
      ],
      "text/markdown": [
       "30532.6056338028"
      ],
      "text/plain": [
       "[1] 30532.61"
      ]
     },
     "metadata": {},
     "output_type": "display_data"
    },
    {
     "data": {
      "text/html": [
       "21353.3801889334"
      ],
      "text/latex": [
       "21353.3801889334"
      ],
      "text/markdown": [
       "21353.3801889334"
      ],
      "text/plain": [
       "[1] 21353.38"
      ]
     },
     "metadata": {},
     "output_type": "display_data"
    }
   ],
   "source": [
    "contigs_ncgr_v_dib <- ncgr_v_dib$n_seqs\n",
    "#length(contigs_ncgr_v_dib)\n",
    "mean(contigs_ncgr_v_dib,na.rm=TRUE)\n",
    "sd(contigs_ncgr_v_dib,na.rm=TRUE)"
   ]
  },
  {
   "cell_type": "markdown",
   "metadata": {},
   "source": [
    "### Kolmogorov–Smirnov test comparing distributions of DIB vs. NCGR num contigs"
   ]
  },
  {
   "cell_type": "code",
   "execution_count": 79,
   "metadata": {},
   "outputs": [
    {
     "name": "stderr",
     "output_type": "stream",
     "text": [
      "Warning message in ks.test(contigs_dib_v_ncgr, contigs_ncgr_v_dib):\n",
      "“p-value will be approximate in the presence of ties”"
     ]
    },
    {
     "data": {
      "text/plain": [
       "\n",
       "\tTwo-sample Kolmogorov-Smirnov test\n",
       "\n",
       "data:  contigs_dib_v_ncgr and contigs_ncgr_v_dib\n",
       "D = 0.35715, p-value < 2.2e-16\n",
       "alternative hypothesis: two-sided\n"
      ]
     },
     "metadata": {},
     "output_type": "display_data"
    }
   ],
   "source": [
    "ks.test(contigs_dib_v_ncgr,contigs_ncgr_v_dib)"
   ]
  },
  {
   "cell_type": "markdown",
   "metadata": {},
   "source": [
    "## 3. [BUSCO](http://busco.ezlab.org/v2/) v2 content, [Protists database](http://busco.ezlab.org/frame_protists.html)"
   ]
  },
  {
   "cell_type": "markdown",
   "metadata": {},
   "source": [
    "### DIB (mean ± std)"
   ]
  },
  {
   "cell_type": "code",
   "execution_count": 80,
   "metadata": {},
   "outputs": [
    {
     "data": {
      "text/html": [
       "0.631835658431611"
      ],
      "text/latex": [
       "0.631835658431611"
      ],
      "text/markdown": [
       "0.631835658431611"
      ],
      "text/plain": [
       "[1] 0.6318357"
      ]
     },
     "metadata": {},
     "output_type": "display_data"
    },
    {
     "data": {
      "text/html": [
       "0.180995639938693"
      ],
      "text/latex": [
       "0.180995639938693"
      ],
      "text/markdown": [
       "0.180995639938693"
      ],
      "text/plain": [
       "[1] 0.1809956"
      ]
     },
     "metadata": {},
     "output_type": "display_data"
    }
   ],
   "source": [
    "BUSCO_dib_prot <- BUSCO_dib_data_prot$Complete_protist_BUSCO_prop\n",
    "#length(BUSCO_dib)\n",
    "mean(BUSCO_dib_prot,na.rm=TRUE)\n",
    "sd(BUSCO_dib_prot,na.rm=TRUE)"
   ]
  },
  {
   "cell_type": "markdown",
   "metadata": {},
   "source": [
    "#### NCGR (mean ± std)"
   ]
  },
  {
   "cell_type": "code",
   "execution_count": 81,
   "metadata": {},
   "outputs": [
    {
     "data": {
      "text/html": [
       "0.612641136911811"
      ],
      "text/latex": [
       "0.612641136911811"
      ],
      "text/markdown": [
       "0.612641136911811"
      ],
      "text/plain": [
       "[1] 0.6126411"
      ]
     },
     "metadata": {},
     "output_type": "display_data"
    },
    {
     "data": {
      "text/html": [
       "0.181724200900087"
      ],
      "text/latex": [
       "0.181724200900087"
      ],
      "text/markdown": [
       "0.181724200900087"
      ],
      "text/plain": [
       "[1] 0.1817242"
      ]
     },
     "metadata": {},
     "output_type": "display_data"
    }
   ],
   "source": [
    "BUSCO_ncgr_prot <- BUSCO_ncgr_data_prot$Complete_protist_BUSCO_prop\n",
    "#length(BUSCO_ncgr)\n",
    "mean(BUSCO_ncgr_prot,na.rm=TRUE)\n",
    "sd(BUSCO_ncgr_prot,na.rm=TRUE)"
   ]
  },
  {
   "cell_type": "markdown",
   "metadata": {},
   "source": [
    "### Kolmogorov–Smirnov test comparing BUSCO content distributions DIB vs. NCGR"
   ]
  },
  {
   "cell_type": "code",
   "execution_count": 82,
   "metadata": {},
   "outputs": [
    {
     "name": "stderr",
     "output_type": "stream",
     "text": [
      "Warning message in ks.test(BUSCO_dib_prot, BUSCO_ncgr_prot):\n",
      "“p-value will be approximate in the presence of ties”"
     ]
    },
    {
     "data": {
      "text/plain": [
       "\n",
       "\tTwo-sample Kolmogorov-Smirnov test\n",
       "\n",
       "data:  BUSCO_dib_prot and BUSCO_ncgr_prot\n",
       "D = 0.066309, p-value = 0.1166\n",
       "alternative hypothesis: two-sided\n"
      ]
     },
     "metadata": {},
     "output_type": "display_data"
    }
   ],
   "source": [
    "ks.test(BUSCO_dib_prot,BUSCO_ncgr_prot)"
   ]
  },
  {
   "cell_type": "markdown",
   "metadata": {},
   "source": [
    "## [BUSCO](http://busco.ezlab.org/v2/) v2 content, [Eukaryotic database](http://busco.ezlab.org/frame_euka.html)"
   ]
  },
  {
   "cell_type": "markdown",
   "metadata": {},
   "source": [
    "#### DIB (mean ± std)"
   ]
  },
  {
   "cell_type": "code",
   "execution_count": 83,
   "metadata": {},
   "outputs": [
    {
     "data": {
      "text/html": [
       "0.630267738044073"
      ],
      "text/latex": [
       "0.630267738044073"
      ],
      "text/markdown": [
       "0.630267738044073"
      ],
      "text/plain": [
       "[1] 0.6302677"
      ]
     },
     "metadata": {},
     "output_type": "display_data"
    },
    {
     "data": {
      "text/html": [
       "0.185827144031621"
      ],
      "text/latex": [
       "0.185827144031621"
      ],
      "text/markdown": [
       "0.185827144031621"
      ],
      "text/plain": [
       "[1] 0.1858271"
      ]
     },
     "metadata": {},
     "output_type": "display_data"
    }
   ],
   "source": [
    "BUSCO_dib <- BUSCO_dib_data$Complete_eukaryotic_BUSCO_prop\n",
    "#length(BUSCO_dib)\n",
    "mean(BUSCO_dib,na.rm=TRUE)\n",
    "sd(BUSCO_dib,na.rm=TRUE)"
   ]
  },
  {
   "cell_type": "markdown",
   "metadata": {},
   "source": [
    "#### NCGR (mean ± std)"
   ]
  },
  {
   "cell_type": "code",
   "execution_count": 84,
   "metadata": {},
   "outputs": [
    {
     "data": {
      "text/html": [
       "0.612641136911811"
      ],
      "text/latex": [
       "0.612641136911811"
      ],
      "text/markdown": [
       "0.612641136911811"
      ],
      "text/plain": [
       "[1] 0.6126411"
      ]
     },
     "metadata": {},
     "output_type": "display_data"
    },
    {
     "data": {
      "text/html": [
       "0.181724200900087"
      ],
      "text/latex": [
       "0.181724200900087"
      ],
      "text/markdown": [
       "0.181724200900087"
      ],
      "text/plain": [
       "[1] 0.1817242"
      ]
     },
     "metadata": {},
     "output_type": "display_data"
    }
   ],
   "source": [
    "BUSCO_ncgr <- BUSCO_ncgr_data$Complete_eukaryotic_BUSCO_prop\n",
    "#length(BUSCO_ncgr)\n",
    "mean(BUSCO_ncgr,na.rm=TRUE)\n",
    "sd(BUSCO_ncgr,na.rm=TRUE)"
   ]
  },
  {
   "cell_type": "markdown",
   "metadata": {},
   "source": [
    "#### Kolmogorov–Smirnov test comparing BUSCO content distributions DIB vs. NCGR"
   ]
  },
  {
   "cell_type": "code",
   "execution_count": 85,
   "metadata": {},
   "outputs": [
    {
     "name": "stderr",
     "output_type": "stream",
     "text": [
      "Warning message in ks.test(BUSCO_dib, BUSCO_ncgr):\n",
      "“p-value will be approximate in the presence of ties”"
     ]
    },
    {
     "data": {
      "text/plain": [
       "\n",
       "\tTwo-sample Kolmogorov-Smirnov test\n",
       "\n",
       "data:  BUSCO_dib and BUSCO_ncgr\n",
       "D = 0.06467, p-value = 0.134\n",
       "alternative hypothesis: two-sided\n"
      ]
     },
     "metadata": {},
     "output_type": "display_data"
    }
   ],
   "source": [
    "ks.test(BUSCO_dib,BUSCO_ncgr)"
   ]
  },
  {
   "cell_type": "markdown",
   "metadata": {},
   "source": [
    "## 4. [Transrate score](http://hibberdlab.com/transrate/metrics.html)"
   ]
  },
  {
   "cell_type": "markdown",
   "metadata": {},
   "source": [
    "### DIB (mean ± std)"
   ]
  },
  {
   "cell_type": "code",
   "execution_count": 203,
   "metadata": {},
   "outputs": [
    {
     "data": {
      "text/html": [
       "0.311569709035222"
      ],
      "text/latex": [
       "0.311569709035222"
      ],
      "text/markdown": [
       "0.311569709035222"
      ],
      "text/plain": [
       "[1] 0.3115697"
      ]
     },
     "metadata": {},
     "output_type": "display_data"
    },
    {
     "data": {
      "text/html": [
       "0.0994047607567743"
      ],
      "text/latex": [
       "0.0994047607567743"
      ],
      "text/markdown": [
       "0.0994047607567743"
      ],
      "text/plain": [
       "[1] 0.09940476"
      ]
     },
     "metadata": {},
     "output_type": "display_data"
    }
   ],
   "source": [
    "transrate_score_dib <- score_dib$score\n",
    "#length(transrate_score_dib)\n",
    "mean(transrate_score_dib)\n",
    "sd(transrate_score_dib)"
   ]
  },
  {
   "cell_type": "markdown",
   "metadata": {},
   "source": [
    "### NCGR (mean ± std)"
   ]
  },
  {
   "cell_type": "code",
   "execution_count": 204,
   "metadata": {},
   "outputs": [
    {
     "data": {
      "text/html": [
       "0.222366126984127"
      ],
      "text/latex": [
       "0.222366126984127"
      ],
      "text/markdown": [
       "0.222366126984127"
      ],
      "text/plain": [
       "[1] 0.2223661"
      ]
     },
     "metadata": {},
     "output_type": "display_data"
    },
    {
     "data": {
      "text/html": [
       "0.0873353349996833"
      ],
      "text/latex": [
       "0.0873353349996833"
      ],
      "text/markdown": [
       "0.0873353349996833"
      ],
      "text/plain": [
       "[1] 0.08733533"
      ]
     },
     "metadata": {},
     "output_type": "display_data"
    }
   ],
   "source": [
    "transrate_score_ncgr <- score_ncgr$score\n",
    "#length(transrate_score_ncgr)\n",
    "mean(transrate_score_ncgr)\n",
    "sd(transrate_score_ncgr)"
   ]
  },
  {
   "cell_type": "markdown",
   "metadata": {},
   "source": [
    "### Kolmogorov–Smirnov test for Transrate score"
   ]
  },
  {
   "cell_type": "code",
   "execution_count": 205,
   "metadata": {},
   "outputs": [
    {
     "name": "stderr",
     "output_type": "stream",
     "text": [
      "Warning message in ks.test(transrate_score_dib, transrate_score_ncgr):\n",
      "“p-value will be approximate in the presence of ties”"
     ]
    },
    {
     "data": {
      "text/plain": [
       "\n",
       "\tTwo-sample Kolmogorov-Smirnov test\n",
       "\n",
       "data:  transrate_score_dib and transrate_score_ncgr\n",
       "D = 0.48827, p-value < 2.2e-16\n",
       "alternative hypothesis: two-sided\n"
      ]
     },
     "metadata": {},
     "output_type": "display_data"
    }
   ],
   "source": [
    "ks.test(transrate_score_dib,transrate_score_ncgr)"
   ]
  },
  {
   "cell_type": "markdown",
   "metadata": {},
   "source": [
    "## 5. Conditional Recriprocal Best Blast (CRBB) (described in [Aubry et al. 2014](http://journals.plos.org/plosgenetics/article?id=10.1371/journal.pgen.1004365))"
   ]
  },
  {
   "cell_type": "markdown",
   "metadata": {},
   "source": [
    "### DIB (mean ± std)"
   ]
  },
  {
   "cell_type": "code",
   "execution_count": 206,
   "metadata": {},
   "outputs": [
    {
     "data": {
      "text/html": [
       "0.701925244094488"
      ],
      "text/latex": [
       "0.701925244094488"
      ],
      "text/markdown": [
       "0.701925244094488"
      ],
      "text/plain": [
       "[1] 0.7019252"
      ]
     },
     "metadata": {},
     "output_type": "display_data"
    },
    {
     "data": {
      "text/html": [
       "0.275169429574969"
      ],
      "text/latex": [
       "0.275169429574969"
      ],
      "text/markdown": [
       "0.275169429574969"
      ],
      "text/plain": [
       "[1] 0.2751694"
      ]
     },
     "metadata": {},
     "output_type": "display_data"
    }
   ],
   "source": [
    "CRBB_dib_v_ncgr <- dib_v_ncgr$p_refs_with_CRBB\n",
    "#length(CRBB_dib_v_ncgr)\n",
    "mean(CRBB_dib_v_ncgr)\n",
    "sd(CRBB_dib_v_ncgr)"
   ]
  },
  {
   "cell_type": "markdown",
   "metadata": {},
   "source": [
    "### NCGR (mean ± std)"
   ]
  },
  {
   "cell_type": "code",
   "execution_count": 207,
   "metadata": {},
   "outputs": [
    {
     "data": {
      "text/html": [
       "0.487730046082949"
      ],
      "text/latex": [
       "0.487730046082949"
      ],
      "text/markdown": [
       "0.487730046082949"
      ],
      "text/plain": [
       "[1] 0.48773"
      ]
     },
     "metadata": {},
     "output_type": "display_data"
    },
    {
     "data": {
      "text/html": [
       "0.0887760147726904"
      ],
      "text/latex": [
       "0.0887760147726904"
      ],
      "text/markdown": [
       "0.0887760147726904"
      ],
      "text/plain": [
       "[1] 0.08877601"
      ]
     },
     "metadata": {},
     "output_type": "display_data"
    }
   ],
   "source": [
    "CRBB_ncgr_v_dib <- ncgr_v_dib$p_refs_with_CRBB\n",
    "#length(CRBB_ncgr_v_dib)\n",
    "mean(CRBB_ncgr_v_dib)\n",
    "sd(CRBB_ncgr_v_dib)"
   ]
  },
  {
   "cell_type": "markdown",
   "metadata": {},
   "source": [
    "### Kolmogorov–Smirnov test for Transrate score"
   ]
  },
  {
   "cell_type": "code",
   "execution_count": 208,
   "metadata": {},
   "outputs": [
    {
     "name": "stderr",
     "output_type": "stream",
     "text": [
      "Warning message in ks.test(CRBB_dib_v_ncgr, CRBB_ncgr_v_dib):\n",
      "“p-value will be approximate in the presence of ties”"
     ]
    },
    {
     "data": {
      "text/plain": [
       "\n",
       "\tTwo-sample Kolmogorov-Smirnov test\n",
       "\n",
       "data:  CRBB_dib_v_ncgr and CRBB_ncgr_v_dib\n",
       "D = 0.7616, p-value < 2.2e-16\n",
       "alternative hypothesis: two-sided\n"
      ]
     },
     "metadata": {},
     "output_type": "display_data"
    }
   ],
   "source": [
    "ks.test(CRBB_dib_v_ncgr,CRBB_ncgr_v_dib)"
   ]
  },
  {
   "cell_type": "markdown",
   "metadata": {},
   "source": [
    "## 6. Open Reading Frame (ORF) content"
   ]
  },
  {
   "cell_type": "markdown",
   "metadata": {},
   "source": [
    "[According to the Transrate documentation](https://github.com/blahah/transrate/blob/cc873b8247165d1651b60dde5eab51fc55170f02/ext/transrate/transrate.c): An ORF is defined as the number of bases between either the start of the sequence or a start codon and either the end of the sequence or a stop codon"
   ]
  },
  {
   "cell_type": "markdown",
   "metadata": {},
   "source": [
    "### DIB (mean ± std)"
   ]
  },
  {
   "cell_type": "code",
   "execution_count": 209,
   "metadata": {},
   "outputs": [
    {
     "data": {
      "text/html": [
       "81.9049597795276"
      ],
      "text/latex": [
       "81.9049597795276"
      ],
      "text/markdown": [
       "81.9049597795276"
      ],
      "text/plain": [
       "[1] 81.90496"
      ]
     },
     "metadata": {},
     "output_type": "display_data"
    },
    {
     "data": {
      "text/html": [
       "9.67785439567841"
      ],
      "text/latex": [
       "9.67785439567841"
      ],
      "text/markdown": [
       "9.67785439567841"
      ],
      "text/plain": [
       "[1] 9.677854"
      ]
     },
     "metadata": {},
     "output_type": "display_data"
    }
   ],
   "source": [
    "ORF_dib <- dib_v_ncgr$mean_orf_percent\n",
    "#length(ORF_dib)\n",
    "mean(ORF_dib)\n",
    "sd(ORF_dib)"
   ]
  },
  {
   "cell_type": "markdown",
   "metadata": {},
   "source": [
    "### NCGR (mean ± std)"
   ]
  },
  {
   "cell_type": "code",
   "execution_count": 210,
   "metadata": {},
   "outputs": [
    {
     "data": {
      "text/html": [
       "76.7865667741935"
      ],
      "text/latex": [
       "76.7865667741935"
      ],
      "text/markdown": [
       "76.7865667741935"
      ],
      "text/plain": [
       "[1] 76.78657"
      ]
     },
     "metadata": {},
     "output_type": "display_data"
    },
    {
     "data": {
      "text/html": [
       "10.1741926379729"
      ],
      "text/latex": [
       "10.1741926379729"
      ],
      "text/markdown": [
       "10.1741926379729"
      ],
      "text/plain": [
       "[1] 10.17419"
      ]
     },
     "metadata": {},
     "output_type": "display_data"
    }
   ],
   "source": [
    "ORF_ncgr <- ncgr_v_dib$mean_orf_percent\n",
    "#length(ORF_ncgr)\n",
    "mean(ORF_ncgr)\n",
    "sd(ORF_ncgr)"
   ]
  },
  {
   "cell_type": "markdown",
   "metadata": {},
   "source": [
    "### Kolmogorov–Smirnov test for ORF"
   ]
  },
  {
   "cell_type": "code",
   "execution_count": 211,
   "metadata": {},
   "outputs": [
    {
     "name": "stderr",
     "output_type": "stream",
     "text": [
      "Warning message in ks.test(ORF_dib, ORF_ncgr):\n",
      "“p-value will be approximate in the presence of ties”"
     ]
    },
    {
     "data": {
      "text/plain": [
       "\n",
       "\tTwo-sample Kolmogorov-Smirnov test\n",
       "\n",
       "data:  ORF_dib and ORF_ncgr\n",
       "D = 0.27863, p-value < 2.2e-16\n",
       "alternative hypothesis: two-sided\n"
      ]
     },
     "metadata": {},
     "output_type": "display_data"
    }
   ],
   "source": [
    "ks.test(ORF_dib,ORF_ncgr)"
   ]
  },
  {
   "cell_type": "markdown",
   "metadata": {},
   "source": [
    "# Combine assembly metrics and visualize with PCA"
   ]
  },
  {
   "cell_type": "code",
   "execution_count": 6,
   "metadata": {},
   "outputs": [
    {
     "data": {
      "text/html": [
       "<ol class=list-inline>\n",
       "\t<li>'SampleName'</li>\n",
       "\t<li>'Phylum'</li>\n",
       "\t<li>'n_seqs.x'</li>\n",
       "\t<li>'largest.x'</li>\n",
       "\t<li>'n_bases.x'</li>\n",
       "\t<li>'mean_len.x'</li>\n",
       "\t<li>'n_under_200.x'</li>\n",
       "\t<li>'n_over_1k.x'</li>\n",
       "\t<li>'n_over_10k.x'</li>\n",
       "\t<li>'n_with_orf.x'</li>\n",
       "\t<li>'gc.x'</li>\n",
       "\t<li>'gc_skew.x'</li>\n",
       "\t<li>'cpg_ratio.x'</li>\n",
       "\t<li>'linguistic_complexity.x'</li>\n",
       "\t<li>'fragments'</li>\n",
       "\t<li>'fragments_mapped'</li>\n",
       "\t<li>'p_fragments_mapped'</li>\n",
       "\t<li>'good_mappings'</li>\n",
       "\t<li>'p_good_mapping'</li>\n",
       "\t<li>'bad_mappings'</li>\n",
       "\t<li>'potential_bridges'</li>\n",
       "\t<li>'bases_uncovered'</li>\n",
       "\t<li>'p_bases_uncovered'</li>\n",
       "\t<li>'contigs_uncovbase'</li>\n",
       "\t<li>'p_contigs_uncovbase'</li>\n",
       "\t<li>'contigs_uncovered'</li>\n",
       "\t<li>'p_contigs_uncovered'</li>\n",
       "\t<li>'contigs_lowcovered'</li>\n",
       "\t<li>'p_contigs_lowcovered'</li>\n",
       "\t<li>'contigs_segmented'</li>\n",
       "\t<li>'p_contigs_segmented'</li>\n",
       "\t<li>'score.x'</li>\n",
       "\t<li>'optimal_score.x'</li>\n",
       "\t<li>'cutoff.x'</li>\n",
       "\t<li>'n_seqs.y'</li>\n",
       "\t<li>'CRBB_hits'</li>\n",
       "\t<li>'n_contigs_with_CRBB'</li>\n",
       "\t<li>'p_contigs_with_CRBB'</li>\n",
       "\t<li>'rbh_per_reference'</li>\n",
       "\t<li>'n_refs_with_CRBB'</li>\n",
       "\t<li>'p_refs_with_CRBB'</li>\n",
       "\t<li>'cov25'</li>\n",
       "\t<li>'p_cov25'</li>\n",
       "\t<li>'cov50'</li>\n",
       "\t<li>'p_cov50'</li>\n",
       "\t<li>'cov75'</li>\n",
       "\t<li>'p_cov75'</li>\n",
       "\t<li>'cov85'</li>\n",
       "\t<li>'p_cov85'</li>\n",
       "\t<li>'cov95'</li>\n",
       "\t<li>'p_cov95'</li>\n",
       "\t<li>'reference_coverage'</li>\n",
       "\t<li>'Complete_eukaryotic'</li>\n",
       "\t<li>'Fragmented_eukaryotic'</li>\n",
       "\t<li>'Missing_eukaryotic'</li>\n",
       "\t<li>'Total_eukaryotic'</li>\n",
       "\t<li>'Complete_eukaryotic_BUSCO_perc'</li>\n",
       "\t<li>'Complete_protist'</li>\n",
       "\t<li>'Fragmented_protist'</li>\n",
       "\t<li>'Missing_protist'</li>\n",
       "\t<li>'Total_protist'</li>\n",
       "\t<li>'Complete_protist_BUSCO_perc'</li>\n",
       "\t<li>'Unique_kmers'</li>\n",
       "\t<li>'num_reads_kept_diginorm'</li>\n",
       "\t<li>'total_reads_before_diginorm'</li>\n",
       "\t<li>'num_kmers_reads_diginorm'</li>\n",
       "</ol>\n"
      ],
      "text/latex": [
       "\\begin{enumerate*}\n",
       "\\item 'SampleName'\n",
       "\\item 'Phylum'\n",
       "\\item 'n\\_seqs.x'\n",
       "\\item 'largest.x'\n",
       "\\item 'n\\_bases.x'\n",
       "\\item 'mean\\_len.x'\n",
       "\\item 'n\\_under\\_200.x'\n",
       "\\item 'n\\_over\\_1k.x'\n",
       "\\item 'n\\_over\\_10k.x'\n",
       "\\item 'n\\_with\\_orf.x'\n",
       "\\item 'gc.x'\n",
       "\\item 'gc\\_skew.x'\n",
       "\\item 'cpg\\_ratio.x'\n",
       "\\item 'linguistic\\_complexity.x'\n",
       "\\item 'fragments'\n",
       "\\item 'fragments\\_mapped'\n",
       "\\item 'p\\_fragments\\_mapped'\n",
       "\\item 'good\\_mappings'\n",
       "\\item 'p\\_good\\_mapping'\n",
       "\\item 'bad\\_mappings'\n",
       "\\item 'potential\\_bridges'\n",
       "\\item 'bases\\_uncovered'\n",
       "\\item 'p\\_bases\\_uncovered'\n",
       "\\item 'contigs\\_uncovbase'\n",
       "\\item 'p\\_contigs\\_uncovbase'\n",
       "\\item 'contigs\\_uncovered'\n",
       "\\item 'p\\_contigs\\_uncovered'\n",
       "\\item 'contigs\\_lowcovered'\n",
       "\\item 'p\\_contigs\\_lowcovered'\n",
       "\\item 'contigs\\_segmented'\n",
       "\\item 'p\\_contigs\\_segmented'\n",
       "\\item 'score.x'\n",
       "\\item 'optimal\\_score.x'\n",
       "\\item 'cutoff.x'\n",
       "\\item 'n\\_seqs.y'\n",
       "\\item 'CRBB\\_hits'\n",
       "\\item 'n\\_contigs\\_with\\_CRBB'\n",
       "\\item 'p\\_contigs\\_with\\_CRBB'\n",
       "\\item 'rbh\\_per\\_reference'\n",
       "\\item 'n\\_refs\\_with\\_CRBB'\n",
       "\\item 'p\\_refs\\_with\\_CRBB'\n",
       "\\item 'cov25'\n",
       "\\item 'p\\_cov25'\n",
       "\\item 'cov50'\n",
       "\\item 'p\\_cov50'\n",
       "\\item 'cov75'\n",
       "\\item 'p\\_cov75'\n",
       "\\item 'cov85'\n",
       "\\item 'p\\_cov85'\n",
       "\\item 'cov95'\n",
       "\\item 'p\\_cov95'\n",
       "\\item 'reference\\_coverage'\n",
       "\\item 'Complete\\_eukaryotic'\n",
       "\\item 'Fragmented\\_eukaryotic'\n",
       "\\item 'Missing\\_eukaryotic'\n",
       "\\item 'Total\\_eukaryotic'\n",
       "\\item 'Complete\\_eukaryotic\\_BUSCO\\_perc'\n",
       "\\item 'Complete\\_protist'\n",
       "\\item 'Fragmented\\_protist'\n",
       "\\item 'Missing\\_protist'\n",
       "\\item 'Total\\_protist'\n",
       "\\item 'Complete\\_protist\\_BUSCO\\_perc'\n",
       "\\item 'Unique\\_kmers'\n",
       "\\item 'num\\_reads\\_kept\\_diginorm'\n",
       "\\item 'total\\_reads\\_before\\_diginorm'\n",
       "\\item 'num\\_kmers\\_reads\\_diginorm'\n",
       "\\end{enumerate*}\n"
      ],
      "text/markdown": [
       "1. 'SampleName'\n",
       "2. 'Phylum'\n",
       "3. 'n_seqs.x'\n",
       "4. 'largest.x'\n",
       "5. 'n_bases.x'\n",
       "6. 'mean_len.x'\n",
       "7. 'n_under_200.x'\n",
       "8. 'n_over_1k.x'\n",
       "9. 'n_over_10k.x'\n",
       "10. 'n_with_orf.x'\n",
       "11. 'gc.x'\n",
       "12. 'gc_skew.x'\n",
       "13. 'cpg_ratio.x'\n",
       "14. 'linguistic_complexity.x'\n",
       "15. 'fragments'\n",
       "16. 'fragments_mapped'\n",
       "17. 'p_fragments_mapped'\n",
       "18. 'good_mappings'\n",
       "19. 'p_good_mapping'\n",
       "20. 'bad_mappings'\n",
       "21. 'potential_bridges'\n",
       "22. 'bases_uncovered'\n",
       "23. 'p_bases_uncovered'\n",
       "24. 'contigs_uncovbase'\n",
       "25. 'p_contigs_uncovbase'\n",
       "26. 'contigs_uncovered'\n",
       "27. 'p_contigs_uncovered'\n",
       "28. 'contigs_lowcovered'\n",
       "29. 'p_contigs_lowcovered'\n",
       "30. 'contigs_segmented'\n",
       "31. 'p_contigs_segmented'\n",
       "32. 'score.x'\n",
       "33. 'optimal_score.x'\n",
       "34. 'cutoff.x'\n",
       "35. 'n_seqs.y'\n",
       "36. 'CRBB_hits'\n",
       "37. 'n_contigs_with_CRBB'\n",
       "38. 'p_contigs_with_CRBB'\n",
       "39. 'rbh_per_reference'\n",
       "40. 'n_refs_with_CRBB'\n",
       "41. 'p_refs_with_CRBB'\n",
       "42. 'cov25'\n",
       "43. 'p_cov25'\n",
       "44. 'cov50'\n",
       "45. 'p_cov50'\n",
       "46. 'cov75'\n",
       "47. 'p_cov75'\n",
       "48. 'cov85'\n",
       "49. 'p_cov85'\n",
       "50. 'cov95'\n",
       "51. 'p_cov95'\n",
       "52. 'reference_coverage'\n",
       "53. 'Complete_eukaryotic'\n",
       "54. 'Fragmented_eukaryotic'\n",
       "55. 'Missing_eukaryotic'\n",
       "56. 'Total_eukaryotic'\n",
       "57. 'Complete_eukaryotic_BUSCO_perc'\n",
       "58. 'Complete_protist'\n",
       "59. 'Fragmented_protist'\n",
       "60. 'Missing_protist'\n",
       "61. 'Total_protist'\n",
       "62. 'Complete_protist_BUSCO_perc'\n",
       "63. 'Unique_kmers'\n",
       "64. 'num_reads_kept_diginorm'\n",
       "65. 'total_reads_before_diginorm'\n",
       "66. 'num_kmers_reads_diginorm'\n",
       "\n",
       "\n"
      ],
      "text/plain": [
       " [1] \"SampleName\"                     \"Phylum\"                        \n",
       " [3] \"n_seqs.x\"                       \"largest.x\"                     \n",
       " [5] \"n_bases.x\"                      \"mean_len.x\"                    \n",
       " [7] \"n_under_200.x\"                  \"n_over_1k.x\"                   \n",
       " [9] \"n_over_10k.x\"                   \"n_with_orf.x\"                  \n",
       "[11] \"gc.x\"                           \"gc_skew.x\"                     \n",
       "[13] \"cpg_ratio.x\"                    \"linguistic_complexity.x\"       \n",
       "[15] \"fragments\"                      \"fragments_mapped\"              \n",
       "[17] \"p_fragments_mapped\"             \"good_mappings\"                 \n",
       "[19] \"p_good_mapping\"                 \"bad_mappings\"                  \n",
       "[21] \"potential_bridges\"              \"bases_uncovered\"               \n",
       "[23] \"p_bases_uncovered\"              \"contigs_uncovbase\"             \n",
       "[25] \"p_contigs_uncovbase\"            \"contigs_uncovered\"             \n",
       "[27] \"p_contigs_uncovered\"            \"contigs_lowcovered\"            \n",
       "[29] \"p_contigs_lowcovered\"           \"contigs_segmented\"             \n",
       "[31] \"p_contigs_segmented\"            \"score.x\"                       \n",
       "[33] \"optimal_score.x\"                \"cutoff.x\"                      \n",
       "[35] \"n_seqs.y\"                       \"CRBB_hits\"                     \n",
       "[37] \"n_contigs_with_CRBB\"            \"p_contigs_with_CRBB\"           \n",
       "[39] \"rbh_per_reference\"              \"n_refs_with_CRBB\"              \n",
       "[41] \"p_refs_with_CRBB\"               \"cov25\"                         \n",
       "[43] \"p_cov25\"                        \"cov50\"                         \n",
       "[45] \"p_cov50\"                        \"cov75\"                         \n",
       "[47] \"p_cov75\"                        \"cov85\"                         \n",
       "[49] \"p_cov85\"                        \"cov95\"                         \n",
       "[51] \"p_cov95\"                        \"reference_coverage\"            \n",
       "[53] \"Complete_eukaryotic\"            \"Fragmented_eukaryotic\"         \n",
       "[55] \"Missing_eukaryotic\"             \"Total_eukaryotic\"              \n",
       "[57] \"Complete_eukaryotic_BUSCO_perc\" \"Complete_protist\"              \n",
       "[59] \"Fragmented_protist\"             \"Missing_protist\"               \n",
       "[61] \"Total_protist\"                  \"Complete_protist_BUSCO_perc\"   \n",
       "[63] \"Unique_kmers\"                   \"num_reads_kept_diginorm\"       \n",
       "[65] \"total_reads_before_diginorm\"    \"num_kmers_reads_diginorm\"      "
      ]
     },
     "metadata": {},
     "output_type": "display_data"
    },
    {
     "data": {
      "text/html": [
       "<table>\n",
       "<thead><tr><th></th><th scope=col>n_seqs.x</th><th scope=col>largest.x</th><th scope=col>n_bases.x</th><th scope=col>mean_len.x</th><th scope=col>n_under_200.x</th><th scope=col>n_over_1k.x</th><th scope=col>n_over_10k.x</th><th scope=col>n_with_orf.x</th><th scope=col>gc.x</th><th scope=col>gc_skew.x</th><th scope=col>⋯</th><th scope=col>Complete_eukaryotic_BUSCO_perc</th><th scope=col>Complete_protist</th><th scope=col>Fragmented_protist</th><th scope=col>Missing_protist</th><th scope=col>Total_protist</th><th scope=col>Complete_protist_BUSCO_perc</th><th scope=col>Unique_kmers</th><th scope=col>num_reads_kept_diginorm</th><th scope=col>total_reads_before_diginorm</th><th scope=col>num_kmers_reads_diginorm</th></tr></thead>\n",
       "<tbody>\n",
       "\t<tr><th scope=row>MMETSP0004</th><td>33559            </td><td>17276            </td><td>27919170         </td><td>831.94285        </td><td>0                </td><td>9448             </td><td>3                </td><td>16820            </td><td>0.47964          </td><td>0.01147          </td><td>⋯                </td><td>0.693069306931   </td><td>168              </td><td>31               </td><td>35               </td><td>234              </td><td>0.717948717948718</td><td>19837761         </td><td>16287761         </td><td>49504503         </td><td>68379508         </td></tr>\n",
       "\t<tr><th scope=row>MMETSP0005</th><td>32824            </td><td>11058            </td><td>27684811         </td><td>843.43197        </td><td>0                </td><td>9573             </td><td>2                </td><td>16407            </td><td>0.478            </td><td>0.01152          </td><td>⋯                </td><td>0.673267326733   </td><td>161              </td><td>33               </td><td>40               </td><td>234              </td><td>0.688034188034188</td><td>20350054         </td><td>17691329         </td><td>56153336         </td><td>79131023         </td></tr>\n",
       "\t<tr><th scope=row>MMETSP0006</th><td>47463            </td><td>15370            </td><td>33886777         </td><td>713.96197        </td><td>0                </td><td>10216            </td><td>2                </td><td>20242            </td><td>0.58919          </td><td>0.01182          </td><td>⋯                </td><td>0.557755775578   </td><td>151              </td><td>40               </td><td>43               </td><td>234              </td><td>0.645299145299145</td><td>25286098         </td><td>18575869         </td><td>42843795         </td><td>93740474         </td></tr>\n",
       "\t<tr><th scope=row>MMETSP0007</th><td>30922            </td><td>6567             </td><td>16617786         </td><td>537.40981        </td><td>0                </td><td>3245             </td><td>0                </td><td>7980             </td><td>0.56437          </td><td>0.00932          </td><td>⋯                </td><td>0.303630363036   </td><td>93               </td><td>27               </td><td>114              </td><td>234              </td><td>0.397435897435897</td><td>12496793         </td><td>12104182         </td><td>40343316         </td><td>65289000         </td></tr>\n",
       "\t<tr><th scope=row>MMETSP0010</th><td>43375            </td><td>13866            </td><td>52360772         </td><td>1207.16477       </td><td>0                </td><td>20418            </td><td>25               </td><td>25589            </td><td>0.45756          </td><td>0.00607          </td><td>⋯                </td><td>0.73597359736    </td><td>176              </td><td>32               </td><td>26               </td><td>234              </td><td>0.752136752136752</td><td>24840436         </td><td>6857204          </td><td>23018992         </td><td>93465267         </td></tr>\n",
       "\t<tr><th scope=row>MMETSP0013</th><td>38251            </td><td>17601            </td><td>48371657         </td><td>1264.58542       </td><td>0                </td><td>17110            </td><td>24               </td><td>23110            </td><td>0.45474          </td><td>0.00815          </td><td>⋯                </td><td>0.838283828383   </td><td>217              </td><td>10               </td><td>7                </td><td>234              </td><td>0.927350427350427</td><td>33217106         </td><td>10050139         </td><td>36527735         </td><td>128035793        </td></tr>\n",
       "</tbody>\n",
       "</table>\n"
      ],
      "text/latex": [
       "\\begin{tabular}{r|llllllllllllllllllllllllllllllllllllllllllllllllllllllllllllllll}\n",
       "  & n\\_seqs.x & largest.x & n\\_bases.x & mean\\_len.x & n\\_under\\_200.x & n\\_over\\_1k.x & n\\_over\\_10k.x & n\\_with\\_orf.x & gc.x & gc\\_skew.x & ⋯ & Complete\\_eukaryotic\\_BUSCO\\_perc & Complete\\_protist & Fragmented\\_protist & Missing\\_protist & Total\\_protist & Complete\\_protist\\_BUSCO\\_perc & Unique\\_kmers & num\\_reads\\_kept\\_diginorm & total\\_reads\\_before\\_diginorm & num\\_kmers\\_reads\\_diginorm\\\\\n",
       "\\hline\n",
       "\tMMETSP0004 & 33559             & 17276             & 27919170          & 831.94285         & 0                 & 9448              & 3                 & 16820             & 0.47964           & 0.01147           & ⋯                 & 0.693069306931    & 168               & 31                & 35                & 234               & 0.717948717948718 & 19837761          & 16287761          & 49504503          & 68379508         \\\\\n",
       "\tMMETSP0005 & 32824             & 11058             & 27684811          & 843.43197         & 0                 & 9573              & 2                 & 16407             & 0.478             & 0.01152           & ⋯                 & 0.673267326733    & 161               & 33                & 40                & 234               & 0.688034188034188 & 20350054          & 17691329          & 56153336          & 79131023         \\\\\n",
       "\tMMETSP0006 & 47463             & 15370             & 33886777          & 713.96197         & 0                 & 10216             & 2                 & 20242             & 0.58919           & 0.01182           & ⋯                 & 0.557755775578    & 151               & 40                & 43                & 234               & 0.645299145299145 & 25286098          & 18575869          & 42843795          & 93740474         \\\\\n",
       "\tMMETSP0007 & 30922             & 6567              & 16617786          & 537.40981         & 0                 & 3245              & 0                 & 7980              & 0.56437           & 0.00932           & ⋯                 & 0.303630363036    & 93                & 27                & 114               & 234               & 0.397435897435897 & 12496793          & 12104182          & 40343316          & 65289000         \\\\\n",
       "\tMMETSP0010 & 43375             & 13866             & 52360772          & 1207.16477        & 0                 & 20418             & 25                & 25589             & 0.45756           & 0.00607           & ⋯                 & 0.73597359736     & 176               & 32                & 26                & 234               & 0.752136752136752 & 24840436          & 6857204           & 23018992          & 93465267         \\\\\n",
       "\tMMETSP0013 & 38251             & 17601             & 48371657          & 1264.58542        & 0                 & 17110             & 24                & 23110             & 0.45474           & 0.00815           & ⋯                 & 0.838283828383    & 217               & 10                & 7                 & 234               & 0.927350427350427 & 33217106          & 10050139          & 36527735          & 128035793        \\\\\n",
       "\\end{tabular}\n"
      ],
      "text/markdown": [
       "1. 33559\n",
       "2. 32824\n",
       "3. 47463\n",
       "4. 30922\n",
       "5. 43375\n",
       "6. 38251\n",
       "7. 17276\n",
       "8. 11058\n",
       "9. 15370\n",
       "10. 6567\n",
       "11. 13866\n",
       "12. 17601\n",
       "13. 27919170\n",
       "14. 27684811\n",
       "15. 33886777\n",
       "16. 16617786\n",
       "17. 52360772\n",
       "18. 48371657\n",
       "19. 831.94285\n",
       "20. 843.43197\n",
       "21. 713.96197\n",
       "22. 537.40981\n",
       "23. 1207.16477\n",
       "24. 1264.58542\n",
       "25. 0\n",
       "26. 0\n",
       "27. 0\n",
       "28. 0\n",
       "29. 0\n",
       "30. 0\n",
       "31. 9448\n",
       "32. 9573\n",
       "33. 10216\n",
       "34. 3245\n",
       "35. 20418\n",
       "36. 17110\n",
       "37. 3\n",
       "38. 2\n",
       "39. 2\n",
       "40. 0\n",
       "41. 25\n",
       "42. 24\n",
       "43. 16820\n",
       "44. 16407\n",
       "45. 20242\n",
       "46. 7980\n",
       "47. 25589\n",
       "48. 23110\n",
       "49. 0.47964\n",
       "50. 0.478\n",
       "51. 0.58919\n",
       "52. 0.56437\n",
       "53. 0.45756\n",
       "54. 0.45474\n",
       "55. 0.01147\n",
       "56. 0.01152\n",
       "57. 0.01182\n",
       "58. 0.00932\n",
       "59. 0.00607\n",
       "60. 0.00815\n",
       "61. 2.01124\n",
       "62. 2.01424\n",
       "63. 2.23626\n",
       "64. 2.20076\n",
       "65. 1.96431\n",
       "66. 1.80212\n",
       "67. 0.15919\n",
       "68. 0.16132\n",
       "69. 0.13729\n",
       "70. 0.11257\n",
       "71. 0.21122\n",
       "72. 0.21659\n",
       "73. 24700588\n",
       "74. 28054262\n",
       "75. 21377723\n",
       "76. 20169675\n",
       "77. 11427243\n",
       "78. 18131726\n",
       "79. 23318105\n",
       "80. 26448367\n",
       "81. 19821580\n",
       "82. 18532100\n",
       "83. 10683479\n",
       "84. 17246647\n",
       "85. 0.94403\n",
       "86. 0.94276\n",
       "87. 0.92721\n",
       "88. 0.91881\n",
       "89. 0.93491\n",
       "90. 0.95119\n",
       "91. 21079542\n",
       "92. 24055068\n",
       "93. 17545564\n",
       "94. 16820090\n",
       "95. 9868447\n",
       "96. 16119430\n",
       "97. 0.8534\n",
       "98. 0.85745\n",
       "99. 0.82074\n",
       "100. 0.83393\n",
       "101. 0.86359\n",
       "102. 0.88902\n",
       "103. 2238563\n",
       "104. 2393299\n",
       "105. 2276016\n",
       "106. 1712010\n",
       "107. 815032\n",
       "108. 1127217\n",
       "109. 23176\n",
       "110. 21238\n",
       "111. 24858\n",
       "112. 14807\n",
       "113. 10662\n",
       "114. 15807\n",
       "115. 829586\n",
       "116. 1048788\n",
       "117. 928073\n",
       "118. 774702\n",
       "119. 8850810\n",
       "120. 4583113\n",
       "121. 0.02971\n",
       "122. 0.03788\n",
       "123. 0.02739\n",
       "124. 0.04662\n",
       "125. 0.16904\n",
       "126. 0.09475\n",
       "127. 11990\n",
       "128. 11615\n",
       "129. 13489\n",
       "130. 9752\n",
       "131. 26389\n",
       "132. 22613\n",
       "133. 0.35728\n",
       "134. 0.35386\n",
       "135. 0.2842\n",
       "136. 0.31537\n",
       "137. 0.60839\n",
       "138. 0.59117\n",
       "139. 1021\n",
       "140. 1351\n",
       "141. 1286\n",
       "142. 1987\n",
       "143. 7981\n",
       "144. 4864\n",
       "145. 0.03042\n",
       "146. 0.04116\n",
       "147. 0.02709\n",
       "148. 0.06426\n",
       "149. 0.184\n",
       "150. 0.12716\n",
       "151. 19756\n",
       "152. 17943\n",
       "153. 31515\n",
       "154. 16773\n",
       "155. 32573\n",
       "156. 22909\n",
       "157. 0.58869\n",
       "158. 0.54664\n",
       "159. 0.66399\n",
       "160. 0.54243\n",
       "161. 0.75096\n",
       "162. 0.59891\n",
       "163. 1807\n",
       "164. 2106\n",
       "165. 2069\n",
       "166. 3401\n",
       "167. 2841\n",
       "168. 2958\n",
       "169. 0.05385\n",
       "170. 0.06416\n",
       "171. 0.04359\n",
       "172. 0.10999\n",
       "173. 0.0655\n",
       "174. 0.07733\n",
       "175. 0.38093\n",
       "176. 0.38214\n",
       "177. 0.38143\n",
       "178. 0.27164\n",
       "179. 0.2509\n",
       "180. 0.27803\n",
       "181. 0.49164\n",
       "182. 0.48691\n",
       "183. 0.48273\n",
       "184. 0.40947\n",
       "185. 0.52124\n",
       "186. 0.54385\n",
       "187. 0.52275\n",
       "188. 0.46347\n",
       "189. 0.4516\n",
       "190. 0.21245\n",
       "191. 0.19415\n",
       "192. 0.40044\n",
       "193. 33559\n",
       "194. 32824\n",
       "195. 47463\n",
       "196. 30922\n",
       "197. 43375\n",
       "198. 38251\n",
       "199. 22915\n",
       "200. 23686\n",
       "201. 29555\n",
       "202. 23494\n",
       "203. 28187\n",
       "204. 26811\n",
       "205. 22915\n",
       "206. 23686\n",
       "207. 29555\n",
       "208. 23494\n",
       "209. 28187\n",
       "210. 26811\n",
       "211. 0.68283\n",
       "212. 0.72161\n",
       "213. 0.6227\n",
       "214. 0.75978\n",
       "215. 0.64984\n",
       "216. 0.70092\n",
       "217. 0.94196\n",
       "218. 0.94619\n",
       "219. 0.95382\n",
       "220. 1.10472\n",
       "221. 1.2546\n",
       "222. 0.69769\n",
       "223. 16105\n",
       "224. 16389\n",
       "225. 22367\n",
       "226. 18401\n",
       "227. 15575\n",
       "228. 16876\n",
       "229. 0.66202\n",
       "230. 0.6547\n",
       "231. 0.72184\n",
       "232. 0.86524\n",
       "233. 0.69324\n",
       "234. 0.43916\n",
       "235. 7972\n",
       "236. 8228\n",
       "237. 11303\n",
       "238. 9230\n",
       "239. 7955\n",
       "240. 8483\n",
       "241. 0.3277\n",
       "242. 0.32869\n",
       "243. 0.36478\n",
       "244. 0.43401\n",
       "245. 0.35407\n",
       "246. 0.22075\n",
       "247. 6665\n",
       "248. 6929\n",
       "249. 10284\n",
       "250. 8827\n",
       "251. 7606\n",
       "252. 7689\n",
       "253. 0.27398\n",
       "254. 0.27679\n",
       "255. 0.33189\n",
       "256. 0.41506\n",
       "257. 0.33854\n",
       "258. 0.20009\n",
       "259. 5382\n",
       "260. 5631\n",
       "261. 8940\n",
       "262. 7893\n",
       "263. 7106\n",
       "264. 6848\n",
       "265. 0.22124\n",
       "266. 0.22494\n",
       "267. 0.28852\n",
       "268. 0.37114\n",
       "269. 0.31629\n",
       "270. 0.1782\n",
       "271. 4811\n",
       "272. 5042\n",
       "273. 8188\n",
       "274. 7411\n",
       "275. 6857\n",
       "276. 6458\n",
       "277. 0.19776\n",
       "278. 0.20141\n",
       "279. 0.26425\n",
       "280. 0.34847\n",
       "281. 0.3052\n",
       "282. 0.16805\n",
       "283. 4121\n",
       "284. 4229\n",
       "285. 7149\n",
       "286. 6689\n",
       "287. 6513\n",
       "288. 5942\n",
       "289. 0.1694\n",
       "290. 0.16894\n",
       "291. 0.23072\n",
       "292. 0.31452\n",
       "293. 0.28989\n",
       "294. 0.15463\n",
       "295. 0.25967\n",
       "296. 0.26011\n",
       "297. 0.3069\n",
       "298. 0.43664\n",
       "299. 0.37943\n",
       "300. 0.23095\n",
       "301. 210\n",
       "302. 204\n",
       "303. 169\n",
       "304. 92\n",
       "305. 223\n",
       "306. 254\n",
       "307. 48\n",
       "308. 47\n",
       "309. 77\n",
       "310. 63\n",
       "311. 42\n",
       "312. 19\n",
       "313. 45\n",
       "314. 52\n",
       "315. 57\n",
       "316. 148\n",
       "317. 38\n",
       "318. 30\n",
       "319. 303\n",
       "320. 303\n",
       "321. 303\n",
       "322. 303\n",
       "323. 303\n",
       "324. 303\n",
       "325. 0.693069306931\n",
       "326. 0.673267326733\n",
       "327. 0.557755775578\n",
       "328. 0.303630363036\n",
       "329. 0.73597359736\n",
       "330. 0.838283828383\n",
       "331. 168\n",
       "332. 161\n",
       "333. 151\n",
       "334. 93\n",
       "335. 176\n",
       "336. 217\n",
       "337. 31\n",
       "338. 33\n",
       "339. 40\n",
       "340. 27\n",
       "341. 32\n",
       "342. 10\n",
       "343. 35\n",
       "344. 40\n",
       "345. 43\n",
       "346. 114\n",
       "347. 26\n",
       "348. 7\n",
       "349. 234\n",
       "350. 234\n",
       "351. 234\n",
       "352. 234\n",
       "353. 234\n",
       "354. 234\n",
       "355. 0.717948717948718\n",
       "356. 0.688034188034188\n",
       "357. 0.645299145299145\n",
       "358. 0.397435897435897\n",
       "359. 0.752136752136752\n",
       "360. 0.927350427350427\n",
       "361. 19837761\n",
       "362. 20350054\n",
       "363. 25286098\n",
       "364. 12496793\n",
       "365. 24840436\n",
       "366. 33217106\n",
       "367. 16287761\n",
       "368. 17691329\n",
       "369. 18575869\n",
       "370. 12104182\n",
       "371. 6857204\n",
       "372. 10050139\n",
       "373. 49504503\n",
       "374. 56153336\n",
       "375. 42843795\n",
       "376. 40343316\n",
       "377. 23018992\n",
       "378. 36527735\n",
       "379. 68379508\n",
       "380. 79131023\n",
       "381. 93740474\n",
       "382. 65289000\n",
       "383. 93465267\n",
       "384. 128035793\n",
       "\n",
       "\n"
      ],
      "text/plain": [
       "           n_seqs.x largest.x n_bases.x  mean_len.x   n_under_200.x n_over_1k.x\n",
       "MMETSP0004 \"33559\"  \"17276\"   \"27919170\" \"831.94285\"  \"0\"           \"9448\"     \n",
       "MMETSP0005 \"32824\"  \"11058\"   \"27684811\" \"843.43197\"  \"0\"           \"9573\"     \n",
       "MMETSP0006 \"47463\"  \"15370\"   \"33886777\" \"713.96197\"  \"0\"           \"10216\"    \n",
       "MMETSP0007 \"30922\"  \"6567\"    \"16617786\" \"537.40981\"  \"0\"           \"3245\"     \n",
       "MMETSP0010 \"43375\"  \"13866\"   \"52360772\" \"1207.16477\" \"0\"           \"20418\"    \n",
       "MMETSP0013 \"38251\"  \"17601\"   \"48371657\" \"1264.58542\" \"0\"           \"17110\"    \n",
       "           n_over_10k.x n_with_orf.x gc.x      gc_skew.x ⋯  \n",
       "MMETSP0004 \"3\"          \"16820\"      \"0.47964\" \"0.01147\" \"⋯\"\n",
       "MMETSP0005 \"2\"          \"16407\"      \"0.478\"   \"0.01152\" \"⋯\"\n",
       "MMETSP0006 \"2\"          \"20242\"      \"0.58919\" \"0.01182\" \"⋯\"\n",
       "MMETSP0007 \"0\"          \"7980\"       \"0.56437\" \"0.00932\" \"⋯\"\n",
       "MMETSP0010 \"25\"         \"25589\"      \"0.45756\" \"0.00607\" \"⋯\"\n",
       "MMETSP0013 \"24\"         \"23110\"      \"0.45474\" \"0.00815\" \"⋯\"\n",
       "           Complete_eukaryotic_BUSCO_perc Complete_protist Fragmented_protist\n",
       "MMETSP0004 \"0.693069306931\"               \"168\"            \"31\"              \n",
       "MMETSP0005 \"0.673267326733\"               \"161\"            \"33\"              \n",
       "MMETSP0006 \"0.557755775578\"               \"151\"            \"40\"              \n",
       "MMETSP0007 \"0.303630363036\"               \"93\"             \"27\"              \n",
       "MMETSP0010 \"0.73597359736\"                \"176\"            \"32\"              \n",
       "MMETSP0013 \"0.838283828383\"               \"217\"            \"10\"              \n",
       "           Missing_protist Total_protist Complete_protist_BUSCO_perc\n",
       "MMETSP0004 \"35\"            \"234\"         \"0.717948717948718\"        \n",
       "MMETSP0005 \"40\"            \"234\"         \"0.688034188034188\"        \n",
       "MMETSP0006 \"43\"            \"234\"         \"0.645299145299145\"        \n",
       "MMETSP0007 \"114\"           \"234\"         \"0.397435897435897\"        \n",
       "MMETSP0010 \"26\"            \"234\"         \"0.752136752136752\"        \n",
       "MMETSP0013 \"7\"             \"234\"         \"0.927350427350427\"        \n",
       "           Unique_kmers num_reads_kept_diginorm total_reads_before_diginorm\n",
       "MMETSP0004 \"19837761\"   \"16287761\"              \"49504503\"                 \n",
       "MMETSP0005 \"20350054\"   \"17691329\"              \"56153336\"                 \n",
       "MMETSP0006 \"25286098\"   \"18575869\"              \"42843795\"                 \n",
       "MMETSP0007 \"12496793\"   \"12104182\"              \"40343316\"                 \n",
       "MMETSP0010 \"24840436\"   \"6857204\"               \"23018992\"                 \n",
       "MMETSP0013 \"33217106\"   \"10050139\"              \"36527735\"                 \n",
       "           num_kmers_reads_diginorm\n",
       "MMETSP0004 \"68379508\"              \n",
       "MMETSP0005 \"79131023\"              \n",
       "MMETSP0006 \"93740474\"              \n",
       "MMETSP0007 \"65289000\"              \n",
       "MMETSP0010 \"93465267\"              \n",
       "MMETSP0013 \"128035793\"             "
      ]
     },
     "metadata": {},
     "output_type": "display_data"
    },
    {
     "data": {
      "text/html": [
       "<ol class=list-inline>\n",
       "\t<li>493</li>\n",
       "\t<li>64</li>\n",
       "</ol>\n"
      ],
      "text/latex": [
       "\\begin{enumerate*}\n",
       "\\item 493\n",
       "\\item 64\n",
       "\\end{enumerate*}\n"
      ],
      "text/markdown": [
       "1. 493\n",
       "2. 64\n",
       "\n",
       "\n"
      ],
      "text/plain": [
       "[1] 493  64"
      ]
     },
     "metadata": {},
     "output_type": "display_data"
    },
    {
     "data": {
      "image/png": "[encoded data removed]",
      "text/plain": [
       "plot without title"
      ]
     },
     "metadata": {},
     "output_type": "display_data"
    }
   ],
   "source": [
    "tax_raw <- read.csv(\"~/Documents/UCDavis/dib/MMETSP/git/MMETSP/assembly_evaluation_data/MMETSP_all_evaluation_matrix.csv\")\n",
    "special_flowers = c(\"MMETSP0693\",\"MMETSP1019\",\"MMETSP0923\",\"MMETSP0008\",\"MMETSP1002\",\"MMETSP1325\",\"MMETSP1018\",\"MMETSP1346\",\"MMETSP0088\",\"MMETSP0092\",\"MMETSP0717\",\"MMETSP0223\",\"MMETSP0115\",\"MMETSP0196\",\"MMETSP0197\",\"MMETSP0398\",\"MMETSP0399\",\"MMETSP0922\")\n",
    "tax_raw <- tax_raw[!tax_raw$SampleName %in% special_flowers,]\n",
    "#colnames(tax_raw)\n",
    "# combine assembly metrics\n",
    "x<-tax_raw[,c(2,34,45,47,48,49,50,51,52,53,60,61,63,64,65,66,67,68,69,70,71,72,73,74,75,76,77:84,86:116,118)]\n",
    "#dim(x)\n",
    "# only top 7 taxa\n",
    "sub_phy<-c(\"Bacillariophyta\",\"Dinophyta\",\"Ochrophyta\",\"Haptophyta\",\"Ciliophora\",\"Chlorophyta\",\"Cryptophyta\")\n",
    "sub<-x[x$Phylum %in% sub_phy,]\n",
    "sub$Phylum <- factor(sub$Phylum)\n",
    "#dim(sub)\n",
    "#length(levels(sub$Phylum))\n",
    "# These are the assembly metrics used to generate the PCA\n",
    "colnames(sub)\n",
    "rownames(sub)<-sub$SampleName\n",
    "sub<-na.omit(sub)\n",
    "x<-sub[,c(3:66)]\n",
    "x<-as.matrix(x)\n",
    "head(x)\n",
    "x_plus<- x + 1\n",
    "x_log <-log10(x_plus)\n",
    "#dim(x_log)\n",
    "x_log <- na.omit(x_log)\n",
    "dim(x_log)\n",
    "pca = prcomp(x_log)\n",
    "names = rownames(x)\n",
    "fac= names\n",
    "plot(pca$x[,1:2], col=Cols(sub$Phylum), pch=19,\n",
    "     xlab=\"PC1\",ylab=\"PC2\")\n",
    "legend(-20,0.75,legend=unique(as.character(sub$Phylum)),col=rainbow(length(unique(sub$Phylum))),cex=0.8, pch=19)"
   ]
  },
  {
   "cell_type": "code",
   "execution_count": null,
   "metadata": {
    "collapsed": true
   },
   "outputs": [],
   "source": []
  }
 ],
 "metadata": {
  "anaconda-cloud": {},
  "kernelspec": {
   "display_name": "R",
   "language": "R",
   "name": "ir"
  },
  "language_info": {
   "codemirror_mode": "r",
   "file_extension": ".r",
   "mimetype": "text/x-r-source",
   "name": "R",
   "pygments_lexer": "r",
   "version": "3.4.1"
  }
 },
 "nbformat": 4,
 "nbformat_minor": 2
}
