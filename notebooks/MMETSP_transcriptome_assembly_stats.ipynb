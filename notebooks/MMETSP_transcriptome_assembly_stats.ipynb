{
 "cells": [
  {
   "cell_type": "markdown",
   "metadata": {},
   "source": [
    "# MMETSP transcriptome assembly metrics"
   ]
  },
  {
   "cell_type": "code",
   "execution_count": 1,
   "metadata": {
    "collapsed": true
   },
   "outputs": [],
   "source": [
    "special_flowers = c('MMETSP0693', 'MMETSP1019', 'MMETSP0923', 'MMETSP0008', 'MMETSP1002', 'MMETSP1325', 'MMETSP1018', \n",
    "                   'MMETSP1346', 'MMETSP0088', 'MMETSP0092', 'MMETSP0717', 'MMETSP0223', 'MMETSP0115', 'MMETSP0196', \n",
    "                   'MMETSP0197', 'MMETSP0398', 'MMETSP0399', 'MMETSP0922')"
   ]
  },
  {
   "cell_type": "code",
   "execution_count": 2,
   "metadata": {
    "collapsed": true
   },
   "outputs": [],
   "source": [
    "# metrics files\n",
    "#dib_v_ncgr <- read.csv(\"../assembly_evaluation_data/transrate_reference_trinity2.2.0_v_ncgr.cds.csv\")\n",
    "#ncgr_v_dib <- read.csv(\"../assembly_evaluation_data/transrate_reverse_ncgr.nt_v_trinity2.2.0.csv\")\n",
    "#score_ncgr <- read.csv(\"../assembly_evaluation_data/transrate_scores_imicrobe_cds.csv\")\n",
    "#score_dib <- read.csv(\"../assembly_evaluation_data/transrate_scores_trinity-2.2.0.csv\")\n",
    "#BUSCO_dib_data <- read.csv(\"../assembly_evaluation_data/busco_scores_MMETSP_protist_trinity2.2.0.csv\")\n",
    "#BUSCO_ncgr_data <- read.csv(\"../assembly_evaluation_data/busco_scores_imicrobe_protist.csv\")\n",
    "giant_matrix = \"../assembly_evaluation_data/MMETSP_all_evaluation_matrix.csv\"\n",
    "all_metrics = read.csv(giant_matrix)\n",
    "#all_metrics.columns.values\n",
    "# transrate score metrics\n",
    "\n",
    "#BUSCO_dib_data\n",
    "#BUSCO_ncgr_data\n",
    "\n",
    "all_metrics <- all_metrics[!all_metrics$SampleName %in% special_flowers,]\n",
    "score_ncgr_cds <- all_metrics[,c('SampleName', 'score.y')]\n",
    "score_ncgr_nt <- all_metrics[,c('SampleName','score.x')]\n",
    "score_dib  <- all_metrics[,c('SampleName','score')]\n",
    "colnames(score_ncgr_nt) <- c('SampleName','score')\n",
    "colnames(score_ncgr_cds) <- c('SampleName','score')\n",
    "#transrate reference metrics\n",
    "# \n",
    "ncgr_v_dib <- all_metrics[,c('SampleName','p_refs_with_CRBB.y','n_seqs.x','mean_orf_percent.x')]\n",
    "dib_v_ncgr <- all_metrics[,c('SampleName','p_refs_with_CRBB','n_seqs','mean_orf_percent')]\n",
    "colnames(ncgr_v_dib) <- c('SampleName','p_refs_with_CRBB','n_seqs','mean_orf_percent')\n",
    "# BUSCO eukaryotic\n",
    "BUSCO_ncgr_data <- all_metrics[,c('SampleName','NCGR.Complete_eukaryotic_BUSCO_perc')]\n",
    "colnames(BUSCO_ncgr_data) <- c('SampleName','Complete_eukaryotic_BUSCO_perc')\n",
    "BUSCO_ncgr_data <- na.omit(BUSCO_ncgr_data)\n",
    "BUSCO_dib_data <- all_metrics[,c('SampleName','DIB.Complete_eukaryotic_BUSCO_perc')]\n",
    "colnames(BUSCO_dib_data) <- c('SampleName','Complete_eukaryotic_BUSCO_perc')\n",
    "BUSCO_dib_data <- na.omit(BUSCO_dib_data)\n",
    "# BUSCO protist\n",
    "BUSCO_ncgr_data_prot <- all_metrics[,c('SampleName','NCGR.Complete_protist_BUSCO_prop')]\n",
    "colnames(BUSCO_ncgr_data_prot) <- c('SampleName','Complete_protist_BUSCO_prop')\n",
    "BUSCO_ncgr_data_prot <- na.omit(BUSCO_ncgr_data_prot)\n",
    "BUSCO_dib_data_prot <- all_metrics[,c('SampleName','DIB.Complete_protist_BUSCO_prop')]\n",
    "colnames(BUSCO_dib_data_prot) <- c('SampleName','Complete_protist_BUSCO_prop')\n",
    "BUSCO_dib_data_prot <- na.omit(BUSCO_dib_data_prot)"
   ]
  },
  {
   "cell_type": "markdown",
   "metadata": {},
   "source": [
    "## 1. Size of table with [Transrate](http://hibberdlab.com/transrate/metrics.html) comparative metrics"
   ]
  },
  {
   "cell_type": "markdown",
   "metadata": {},
   "source": [
    "(comparing DIB re-assemblies to NCGR assemblies and vice versa)"
   ]
  },
  {
   "cell_type": "markdown",
   "metadata": {},
   "source": [
    "### dib_v_ncgr (rows x columns)"
   ]
  },
  {
   "cell_type": "code",
   "execution_count": 3,
   "metadata": {},
   "outputs": [
    {
     "data": {
      "text/html": [
       "<ol class=list-inline>\n",
       "\t<li>660</li>\n",
       "\t<li>4</li>\n",
       "</ol>\n"
      ],
      "text/latex": [
       "\\begin{enumerate*}\n",
       "\\item 660\n",
       "\\item 4\n",
       "\\end{enumerate*}\n"
      ],
      "text/markdown": [
       "1. 660\n",
       "2. 4\n",
       "\n",
       "\n"
      ],
      "text/plain": [
       "[1] 660   4"
      ]
     },
     "metadata": {},
     "output_type": "display_data"
    }
   ],
   "source": [
    "dim(dib_v_ncgr)"
   ]
  },
  {
   "cell_type": "markdown",
   "metadata": {},
   "source": [
    "### ncgr_v_dib (rows x columns)"
   ]
  },
  {
   "cell_type": "code",
   "execution_count": 4,
   "metadata": {},
   "outputs": [
    {
     "data": {
      "text/html": [
       "<ol class=list-inline>\n",
       "\t<li>660</li>\n",
       "\t<li>4</li>\n",
       "</ol>\n"
      ],
      "text/latex": [
       "\\begin{enumerate*}\n",
       "\\item 660\n",
       "\\item 4\n",
       "\\end{enumerate*}\n"
      ],
      "text/markdown": [
       "1. 660\n",
       "2. 4\n",
       "\n",
       "\n"
      ],
      "text/plain": [
       "[1] 660   4"
      ]
     },
     "metadata": {},
     "output_type": "display_data"
    }
   ],
   "source": [
    "\n",
    "dim(ncgr_v_dib)"
   ]
  },
  {
   "cell_type": "markdown",
   "metadata": {},
   "source": [
    "## Size of table with [Transrate](http://hibberdlab.com/transrate/metrics.html) score  metrics  "
   ]
  },
  {
   "cell_type": "markdown",
   "metadata": {},
   "source": [
    "#### NCGR, \"cds\""
   ]
  },
  {
   "cell_type": "code",
   "execution_count": 5,
   "metadata": {},
   "outputs": [
    {
     "data": {
      "text/html": [
       "<ol class=list-inline>\n",
       "\t<li>660</li>\n",
       "\t<li>2</li>\n",
       "</ol>\n"
      ],
      "text/latex": [
       "\\begin{enumerate*}\n",
       "\\item 660\n",
       "\\item 2\n",
       "\\end{enumerate*}\n"
      ],
      "text/markdown": [
       "1. 660\n",
       "2. 2\n",
       "\n",
       "\n"
      ],
      "text/plain": [
       "[1] 660   2"
      ]
     },
     "metadata": {},
     "output_type": "display_data"
    }
   ],
   "source": [
    "dim(score_ncgr_cds)"
   ]
  },
  {
   "cell_type": "markdown",
   "metadata": {},
   "source": [
    "#### NCGR, \"nt\" "
   ]
  },
  {
   "cell_type": "code",
   "execution_count": 6,
   "metadata": {},
   "outputs": [
    {
     "data": {
      "text/html": [
       "<ol class=list-inline>\n",
       "\t<li>660</li>\n",
       "\t<li>2</li>\n",
       "</ol>\n"
      ],
      "text/latex": [
       "\\begin{enumerate*}\n",
       "\\item 660\n",
       "\\item 2\n",
       "\\end{enumerate*}\n"
      ],
      "text/markdown": [
       "1. 660\n",
       "2. 2\n",
       "\n",
       "\n"
      ],
      "text/plain": [
       "[1] 660   2"
      ]
     },
     "metadata": {},
     "output_type": "display_data"
    }
   ],
   "source": [
    "dim(score_ncgr_nt)"
   ]
  },
  {
   "cell_type": "markdown",
   "metadata": {},
   "source": [
    "#### DIB\n"
   ]
  },
  {
   "cell_type": "code",
   "execution_count": 7,
   "metadata": {},
   "outputs": [
    {
     "data": {
      "text/html": [
       "<ol class=list-inline>\n",
       "\t<li>660</li>\n",
       "\t<li>2</li>\n",
       "</ol>\n"
      ],
      "text/latex": [
       "\\begin{enumerate*}\n",
       "\\item 660\n",
       "\\item 2\n",
       "\\end{enumerate*}\n"
      ],
      "text/markdown": [
       "1. 660\n",
       "2. 2\n",
       "\n",
       "\n"
      ],
      "text/plain": [
       "[1] 660   2"
      ]
     },
     "metadata": {},
     "output_type": "display_data"
    }
   ],
   "source": [
    "dim(score_dib)"
   ]
  },
  {
   "cell_type": "markdown",
   "metadata": {},
   "source": [
    "## 2. Number of contigs in transcriptome (mean ± std)"
   ]
  },
  {
   "cell_type": "markdown",
   "metadata": {},
   "source": [
    "### DIB re-assemblies"
   ]
  },
  {
   "cell_type": "code",
   "execution_count": 8,
   "metadata": {},
   "outputs": [
    {
     "data": {
      "text/html": [
       "48361.3537519142"
      ],
      "text/latex": [
       "48361.3537519142"
      ],
      "text/markdown": [
       "48361.3537519142"
      ],
      "text/plain": [
       "[1] 48361.35"
      ]
     },
     "metadata": {},
     "output_type": "display_data"
    },
    {
     "data": {
      "text/html": [
       "35703.5271739569"
      ],
      "text/latex": [
       "35703.5271739569"
      ],
      "text/markdown": [
       "35703.5271739569"
      ],
      "text/plain": [
       "[1] 35703.53"
      ]
     },
     "metadata": {},
     "output_type": "display_data"
    }
   ],
   "source": [
    "contigs_dib_v_ncgr <- dib_v_ncgr$n_seqs\n",
    "\n",
    "#length(contigs_dib_v_ncgr)\n",
    "\n",
    "mean(contigs_dib_v_ncgr,na.rm=TRUE)\n",
    "\n",
    "sd(contigs_dib_v_ncgr,na.rm=TRUE)\n"
   ]
  },
  {
   "cell_type": "markdown",
   "metadata": {},
   "source": [
    "### NCGR assemblies from [imicrobe](https://imicrobe.us/?#/projects/104)"
   ]
  },
  {
   "cell_type": "code",
   "execution_count": 9,
   "metadata": {},
   "outputs": [
    {
     "data": {
      "text/html": [
       "30532.6056338028"
      ],
      "text/latex": [
       "30532.6056338028"
      ],
      "text/markdown": [
       "30532.6056338028"
      ],
      "text/plain": [
       "[1] 30532.61"
      ]
     },
     "metadata": {},
     "output_type": "display_data"
    },
    {
     "data": {
      "text/html": [
       "21353.3801889334"
      ],
      "text/latex": [
       "21353.3801889334"
      ],
      "text/markdown": [
       "21353.3801889334"
      ],
      "text/plain": [
       "[1] 21353.38"
      ]
     },
     "metadata": {},
     "output_type": "display_data"
    }
   ],
   "source": [
    "contigs_ncgr_v_dib <- ncgr_v_dib$n_seqs\n",
    "#length(contigs_ncgr_v_dib)\n",
    "mean(contigs_ncgr_v_dib,na.rm=TRUE)\n",
    "sd(contigs_ncgr_v_dib,na.rm=TRUE)"
   ]
  },
  {
   "cell_type": "markdown",
   "metadata": {},
   "source": [
    "### Kolmogorov–Smirnov test comparing distributions of DIB vs. NCGR num contigs"
   ]
  },
  {
   "cell_type": "code",
   "execution_count": 10,
   "metadata": {},
   "outputs": [
    {
     "name": "stderr",
     "output_type": "stream",
     "text": [
      "Warning message in ks.test(contigs_dib_v_ncgr, contigs_ncgr_v_dib):\n",
      "“p-value will be approximate in the presence of ties”"
     ]
    },
    {
     "data": {
      "text/plain": [
       "\n",
       "\tTwo-sample Kolmogorov-Smirnov test\n",
       "\n",
       "data:  contigs_dib_v_ncgr and contigs_ncgr_v_dib\n",
       "D = 0.35715, p-value < 2.2e-16\n",
       "alternative hypothesis: two-sided\n"
      ]
     },
     "metadata": {},
     "output_type": "display_data"
    }
   ],
   "source": [
    "ks.test(contigs_dib_v_ncgr,contigs_ncgr_v_dib)"
   ]
  },
  {
   "cell_type": "markdown",
   "metadata": {},
   "source": [
    "## 3. [BUSCO](http://busco.ezlab.org/v2/) v2 content, [Protists database](http://busco.ezlab.org/frame_protists.html)"
   ]
  },
  {
   "cell_type": "markdown",
   "metadata": {},
   "source": [
    "### DIB (mean ± std)"
   ]
  },
  {
   "cell_type": "code",
   "execution_count": 11,
   "metadata": {},
   "outputs": [
    {
     "data": {
      "text/html": [
       "0.631835658431611"
      ],
      "text/latex": [
       "0.631835658431611"
      ],
      "text/markdown": [
       "0.631835658431611"
      ],
      "text/plain": [
       "[1] 0.6318357"
      ]
     },
     "metadata": {},
     "output_type": "display_data"
    },
    {
     "data": {
      "text/html": [
       "0.180995639938693"
      ],
      "text/latex": [
       "0.180995639938693"
      ],
      "text/markdown": [
       "0.180995639938693"
      ],
      "text/plain": [
       "[1] 0.1809956"
      ]
     },
     "metadata": {},
     "output_type": "display_data"
    }
   ],
   "source": [
    "BUSCO_dib_prot <- BUSCO_dib_data_prot$Complete_protist_BUSCO_prop\n",
    "#length(BUSCO_dib)\n",
    "mean(BUSCO_dib_prot,na.rm=TRUE)\n",
    "sd(BUSCO_dib_prot,na.rm=TRUE)"
   ]
  },
  {
   "cell_type": "markdown",
   "metadata": {},
   "source": [
    "#### NCGR (mean ± std)"
   ]
  },
  {
   "cell_type": "code",
   "execution_count": 12,
   "metadata": {},
   "outputs": [
    {
     "data": {
      "text/html": [
       "0.673573012722307"
      ],
      "text/latex": [
       "0.673573012722307"
      ],
      "text/markdown": [
       "0.673573012722307"
      ],
      "text/plain": [
       "[1] 0.673573"
      ]
     },
     "metadata": {},
     "output_type": "display_data"
    },
    {
     "data": {
      "text/html": [
       "0.194183580547039"
      ],
      "text/latex": [
       "0.194183580547039"
      ],
      "text/markdown": [
       "0.194183580547039"
      ],
      "text/plain": [
       "[1] 0.1941836"
      ]
     },
     "metadata": {},
     "output_type": "display_data"
    }
   ],
   "source": [
    "BUSCO_ncgr_prot <- BUSCO_ncgr_data_prot$Complete_protist_BUSCO_prop\n",
    "#length(BUSCO_ncgr)\n",
    "mean(BUSCO_ncgr_prot,na.rm=TRUE)\n",
    "sd(BUSCO_ncgr_prot,na.rm=TRUE)"
   ]
  },
  {
   "cell_type": "markdown",
   "metadata": {},
   "source": [
    "### Kolmogorov–Smirnov test comparing BUSCO content distributions DIB vs. NCGR"
   ]
  },
  {
   "cell_type": "code",
   "execution_count": 13,
   "metadata": {},
   "outputs": [
    {
     "name": "stderr",
     "output_type": "stream",
     "text": [
      "Warning message in ks.test(BUSCO_dib_prot, BUSCO_ncgr_prot):\n",
      "“p-value will be approximate in the presence of ties”"
     ]
    },
    {
     "data": {
      "text/plain": [
       "\n",
       "\tTwo-sample Kolmogorov-Smirnov test\n",
       "\n",
       "data:  BUSCO_dib_prot and BUSCO_ncgr_prot\n",
       "D = 0.16343, p-value = 4.6e-08\n",
       "alternative hypothesis: two-sided\n"
      ]
     },
     "metadata": {},
     "output_type": "display_data"
    }
   ],
   "source": [
    "ks.test(BUSCO_dib_prot,BUSCO_ncgr_prot)"
   ]
  },
  {
   "cell_type": "markdown",
   "metadata": {},
   "source": [
    "## [BUSCO](http://busco.ezlab.org/v2/) v2 content, [Eukaryotic database](http://busco.ezlab.org/frame_euka.html)"
   ]
  },
  {
   "cell_type": "markdown",
   "metadata": {},
   "source": [
    "#### DIB (mean ± std)"
   ]
  },
  {
   "cell_type": "code",
   "execution_count": 14,
   "metadata": {},
   "outputs": [
    {
     "data": {
      "text/html": [
       "63.0267738021307"
      ],
      "text/latex": [
       "63.0267738021307"
      ],
      "text/markdown": [
       "63.0267738021307"
      ],
      "text/plain": [
       "[1] 63.02677"
      ]
     },
     "metadata": {},
     "output_type": "display_data"
    },
    {
     "data": {
      "text/html": [
       "18.5827144022013"
      ],
      "text/latex": [
       "18.5827144022013"
      ],
      "text/markdown": [
       "18.5827144022013"
      ],
      "text/plain": [
       "[1] 18.58271"
      ]
     },
     "metadata": {},
     "output_type": "display_data"
    }
   ],
   "source": [
    "BUSCO_dib <- BUSCO_dib_data$Complete_eukaryotic_BUSCO_perc\n",
    "#length(BUSCO_dib)\n",
    "mean(BUSCO_dib,na.rm=TRUE)\n",
    "sd(BUSCO_dib,na.rm=TRUE)"
   ]
  },
  {
   "cell_type": "markdown",
   "metadata": {},
   "source": [
    "#### NCGR (mean ± std)"
   ]
  },
  {
   "cell_type": "code",
   "execution_count": 15,
   "metadata": {},
   "outputs": [
    {
     "data": {
      "text/html": [
       "64.8692638613111"
      ],
      "text/latex": [
       "64.8692638613111"
      ],
      "text/markdown": [
       "64.8692638613111"
      ],
      "text/plain": [
       "[1] 64.86926"
      ]
     },
     "metadata": {},
     "output_type": "display_data"
    },
    {
     "data": {
      "text/html": [
       "19.1490335936549"
      ],
      "text/latex": [
       "19.1490335936549"
      ],
      "text/markdown": [
       "19.1490335936549"
      ],
      "text/plain": [
       "[1] 19.14903"
      ]
     },
     "metadata": {},
     "output_type": "display_data"
    }
   ],
   "source": [
    "BUSCO_ncgr <- BUSCO_ncgr_data$Complete_eukaryotic_BUSCO_perc\n",
    "#length(BUSCO_ncgr)\n",
    "mean(BUSCO_ncgr,na.rm=TRUE)\n",
    "sd(BUSCO_ncgr,na.rm=TRUE)"
   ]
  },
  {
   "cell_type": "markdown",
   "metadata": {},
   "source": [
    "#### Kolmogorov–Smirnov test comparing BUSCO content distributions DIB vs. NCGR"
   ]
  },
  {
   "cell_type": "code",
   "execution_count": 16,
   "metadata": {},
   "outputs": [
    {
     "name": "stderr",
     "output_type": "stream",
     "text": [
      "Warning message in ks.test(BUSCO_dib, BUSCO_ncgr):\n",
      "“p-value will be approximate in the presence of ties”"
     ]
    },
    {
     "data": {
      "text/plain": [
       "\n",
       "\tTwo-sample Kolmogorov-Smirnov test\n",
       "\n",
       "data:  BUSCO_dib and BUSCO_ncgr\n",
       "D = 0.10291, p-value = 0.001873\n",
       "alternative hypothesis: two-sided\n"
      ]
     },
     "metadata": {},
     "output_type": "display_data"
    }
   ],
   "source": [
    "ks.test(BUSCO_dib,BUSCO_ncgr)"
   ]
  },
  {
   "cell_type": "markdown",
   "metadata": {},
   "source": [
    "## 4. [Transrate score](http://hibberdlab.com/transrate/metrics.html)"
   ]
  },
  {
   "cell_type": "markdown",
   "metadata": {},
   "source": [
    "### DIB (mean ± std)"
   ]
  },
  {
   "cell_type": "code",
   "execution_count": 17,
   "metadata": {},
   "outputs": [
    {
     "data": {
      "text/html": [
       "0.316232542113323"
      ],
      "text/latex": [
       "0.316232542113323"
      ],
      "text/markdown": [
       "0.316232542113323"
      ],
      "text/plain": [
       "[1] 0.3162325"
      ]
     },
     "metadata": {},
     "output_type": "display_data"
    },
    {
     "data": {
      "text/html": [
       "0.0930604957420756"
      ],
      "text/latex": [
       "0.0930604957420756"
      ],
      "text/markdown": [
       "0.0930604957420756"
      ],
      "text/plain": [
       "[1] 0.0930605"
      ]
     },
     "metadata": {},
     "output_type": "display_data"
    }
   ],
   "source": [
    "transrate_score_dib <- score_dib$score\n",
    "#length(transrate_score_dib)\n",
    "mean(transrate_score_dib,na.rm=TRUE)\n",
    "sd(transrate_score_dib,na.rm=TRUE)"
   ]
  },
  {
   "cell_type": "markdown",
   "metadata": {},
   "source": [
    "### NCGR (mean ± std)"
   ]
  },
  {
   "cell_type": "code",
   "execution_count": 18,
   "metadata": {},
   "outputs": [
    {
     "data": {
      "text/html": [
       "0.222366126984127"
      ],
      "text/latex": [
       "0.222366126984127"
      ],
      "text/markdown": [
       "0.222366126984127"
      ],
      "text/plain": [
       "[1] 0.2223661"
      ]
     },
     "metadata": {},
     "output_type": "display_data"
    },
    {
     "data": {
      "text/html": [
       "0.0873353349996833"
      ],
      "text/latex": [
       "0.0873353349996833"
      ],
      "text/markdown": [
       "0.0873353349996833"
      ],
      "text/plain": [
       "[1] 0.08733533"
      ]
     },
     "metadata": {},
     "output_type": "display_data"
    }
   ],
   "source": [
    "transrate_score_ncgr_cds <- score_ncgr_cds$score\n",
    "#length(transrate_score_ncgr)\n",
    "mean(transrate_score_ncgr_cds,na.rm=TRUE)\n",
    "sd(transrate_score_ncgr_cds,na.rm=TRUE)"
   ]
  },
  {
   "cell_type": "code",
   "execution_count": 19,
   "metadata": {},
   "outputs": [
    {
     "data": {
      "text/html": [
       "0.353559342723005"
      ],
      "text/latex": [
       "0.353559342723005"
      ],
      "text/markdown": [
       "0.353559342723005"
      ],
      "text/plain": [
       "[1] 0.3535593"
      ]
     },
     "metadata": {},
     "output_type": "display_data"
    },
    {
     "data": {
      "text/html": [
       "0.0855883474267455"
      ],
      "text/latex": [
       "0.0855883474267455"
      ],
      "text/markdown": [
       "0.0855883474267455"
      ],
      "text/plain": [
       "[1] 0.08558835"
      ]
     },
     "metadata": {},
     "output_type": "display_data"
    }
   ],
   "source": [
    "transrate_score_ncgr_nt <- score_ncgr_nt$score\n",
    "#length(transrate_score_ncgr)\n",
    "mean(transrate_score_ncgr_nt,na.rm=TRUE)\n",
    "sd(transrate_score_ncgr_nt,na.rm=TRUE)"
   ]
  },
  {
   "cell_type": "markdown",
   "metadata": {},
   "source": [
    "### Kolmogorov–Smirnov test for Transrate score, cds"
   ]
  },
  {
   "cell_type": "code",
   "execution_count": 20,
   "metadata": {},
   "outputs": [
    {
     "name": "stderr",
     "output_type": "stream",
     "text": [
      "Warning message in ks.test(transrate_score_dib, transrate_score_ncgr_cds):\n",
      "“p-value will be approximate in the presence of ties”"
     ]
    },
    {
     "data": {
      "text/plain": [
       "\n",
       "\tTwo-sample Kolmogorov-Smirnov test\n",
       "\n",
       "data:  transrate_score_dib and transrate_score_ncgr_cds\n",
       "D = 0.49899, p-value < 2.2e-16\n",
       "alternative hypothesis: two-sided\n"
      ]
     },
     "metadata": {},
     "output_type": "display_data"
    }
   ],
   "source": [
    "ks.test(transrate_score_dib,transrate_score_ncgr_cds)"
   ]
  },
  {
   "cell_type": "markdown",
   "metadata": {},
   "source": [
    "### Kolmogorov–Smirnov test for Transrate score, nt"
   ]
  },
  {
   "cell_type": "code",
   "execution_count": 21,
   "metadata": {},
   "outputs": [
    {
     "name": "stderr",
     "output_type": "stream",
     "text": [
      "Warning message in ks.test(transrate_score_dib, transrate_score_ncgr_nt):\n",
      "“p-value will be approximate in the presence of ties”"
     ]
    },
    {
     "data": {
      "text/plain": [
       "\n",
       "\tTwo-sample Kolmogorov-Smirnov test\n",
       "\n",
       "data:  transrate_score_dib and transrate_score_ncgr_nt\n",
       "D = 0.22475, p-value = 1.354e-14\n",
       "alternative hypothesis: two-sided\n"
      ]
     },
     "metadata": {},
     "output_type": "display_data"
    }
   ],
   "source": [
    "ks.test(transrate_score_dib,transrate_score_ncgr_nt)"
   ]
  },
  {
   "cell_type": "markdown",
   "metadata": {},
   "source": [
    "## 5. Conditional Recriprocal Best Blast (CRBB) (described in [Aubry et al. 2014](http://journals.plos.org/plosgenetics/article?id=10.1371/journal.pgen.1004365))"
   ]
  },
  {
   "cell_type": "markdown",
   "metadata": {},
   "source": [
    "### DIB (mean ± std)"
   ]
  },
  {
   "cell_type": "code",
   "execution_count": 22,
   "metadata": {},
   "outputs": [
    {
     "data": {
      "text/html": [
       "0.696661321044547"
      ],
      "text/latex": [
       "0.696661321044547"
      ],
      "text/markdown": [
       "0.696661321044547"
      ],
      "text/plain": [
       "[1] 0.6966613"
      ]
     },
     "metadata": {},
     "output_type": "display_data"
    },
    {
     "data": {
      "text/html": [
       "0.219511851462999"
      ],
      "text/latex": [
       "0.219511851462999"
      ],
      "text/markdown": [
       "0.219511851462999"
      ],
      "text/plain": [
       "[1] 0.2195119"
      ]
     },
     "metadata": {},
     "output_type": "display_data"
    }
   ],
   "source": [
    "CRBB_dib_v_ncgr <- dib_v_ncgr$p_refs_with_CRBB\n",
    "#length(CRBB_dib_v_ncgr)\n",
    "mean(CRBB_dib_v_ncgr,na.rm=TRUE)\n",
    "sd(CRBB_dib_v_ncgr,na.rm=TRUE)"
   ]
  },
  {
   "cell_type": "markdown",
   "metadata": {},
   "source": [
    "### NCGR (mean ± std)"
   ]
  },
  {
   "cell_type": "code",
   "execution_count": 23,
   "metadata": {},
   "outputs": [
    {
     "data": {
      "text/html": [
       "0.499728894009217"
      ],
      "text/latex": [
       "0.499728894009217"
      ],
      "text/markdown": [
       "0.499728894009217"
      ],
      "text/plain": [
       "[1] 0.4997289"
      ]
     },
     "metadata": {},
     "output_type": "display_data"
    },
    {
     "data": {
      "text/html": [
       "0.104306198917519"
      ],
      "text/latex": [
       "0.104306198917519"
      ],
      "text/markdown": [
       "0.104306198917519"
      ],
      "text/plain": [
       "[1] 0.1043062"
      ]
     },
     "metadata": {},
     "output_type": "display_data"
    }
   ],
   "source": [
    "CRBB_ncgr_v_dib <- ncgr_v_dib$p_refs_with_CRBB\n",
    "#length(CRBB_ncgr_v_dib)\n",
    "mean(CRBB_ncgr_v_dib,na.rm=TRUE)\n",
    "sd(CRBB_ncgr_v_dib,na.rm=TRUE)"
   ]
  },
  {
   "cell_type": "markdown",
   "metadata": {},
   "source": [
    "### Kolmogorov–Smirnov test for Transrate score"
   ]
  },
  {
   "cell_type": "code",
   "execution_count": 24,
   "metadata": {},
   "outputs": [
    {
     "name": "stderr",
     "output_type": "stream",
     "text": [
      "Warning message in ks.test(CRBB_dib_v_ncgr, CRBB_ncgr_v_dib):\n",
      "“p-value will be approximate in the presence of ties”"
     ]
    },
    {
     "data": {
      "text/plain": [
       "\n",
       "\tTwo-sample Kolmogorov-Smirnov test\n",
       "\n",
       "data:  CRBB_dib_v_ncgr and CRBB_ncgr_v_dib\n",
       "D = 0.71121, p-value < 2.2e-16\n",
       "alternative hypothesis: two-sided\n"
      ]
     },
     "metadata": {},
     "output_type": "display_data"
    }
   ],
   "source": [
    "ks.test(CRBB_dib_v_ncgr,CRBB_ncgr_v_dib)"
   ]
  },
  {
   "cell_type": "markdown",
   "metadata": {},
   "source": [
    "## 6. Open Reading Frame (ORF) content"
   ]
  },
  {
   "cell_type": "markdown",
   "metadata": {},
   "source": [
    "[According to the Transrate documentation](https://github.com/blahah/transrate/blob/cc873b8247165d1651b60dde5eab51fc55170f02/ext/transrate/transrate.c): An ORF is defined as the number of bases between either the start of the sequence or a start codon and either the end of the sequence or a stop codon"
   ]
  },
  {
   "cell_type": "markdown",
   "metadata": {},
   "source": [
    "### DIB (mean ± std)"
   ]
  },
  {
   "cell_type": "code",
   "execution_count": 25,
   "metadata": {},
   "outputs": [
    {
     "data": {
      "text/html": [
       "81.7180869372129"
      ],
      "text/latex": [
       "81.7180869372129"
      ],
      "text/markdown": [
       "81.7180869372129"
      ],
      "text/plain": [
       "[1] 81.71809"
      ]
     },
     "metadata": {},
     "output_type": "display_data"
    },
    {
     "data": {
      "text/html": [
       "9.94214364701156"
      ],
      "text/latex": [
       "9.94214364701156"
      ],
      "text/markdown": [
       "9.94214364701156"
      ],
      "text/plain": [
       "[1] 9.942144"
      ]
     },
     "metadata": {},
     "output_type": "display_data"
    }
   ],
   "source": [
    "ORF_dib <- dib_v_ncgr$mean_orf_percent\n",
    "#length(ORF_dib)\n",
    "mean(ORF_dib,na.rm=TRUE)\n",
    "sd(ORF_dib,na.rm=TRUE)"
   ]
  },
  {
   "cell_type": "markdown",
   "metadata": {},
   "source": [
    "### NCGR (mean ± std)"
   ]
  },
  {
   "cell_type": "code",
   "execution_count": 26,
   "metadata": {},
   "outputs": [
    {
     "data": {
      "text/html": [
       "76.76447228482"
      ],
      "text/latex": [
       "76.76447228482"
      ],
      "text/markdown": [
       "76.76447228482"
      ],
      "text/plain": [
       "[1] 76.76447"
      ]
     },
     "metadata": {},
     "output_type": "display_data"
    },
    {
     "data": {
      "text/html": [
       "10.1428371095302"
      ],
      "text/latex": [
       "10.1428371095302"
      ],
      "text/markdown": [
       "10.1428371095302"
      ],
      "text/plain": [
       "[1] 10.14284"
      ]
     },
     "metadata": {},
     "output_type": "display_data"
    }
   ],
   "source": [
    "ORF_ncgr <- ncgr_v_dib$mean_orf_percent\n",
    "#length(ORF_ncgr)\n",
    "mean(ORF_ncgr,na.rm=TRUE)\n",
    "sd(ORF_ncgr,na.rm=TRUE)"
   ]
  },
  {
   "cell_type": "markdown",
   "metadata": {},
   "source": [
    "### Kolmogorov–Smirnov test for ORF"
   ]
  },
  {
   "cell_type": "code",
   "execution_count": 27,
   "metadata": {},
   "outputs": [
    {
     "name": "stderr",
     "output_type": "stream",
     "text": [
      "Warning message in ks.test(ORF_dib, ORF_ncgr):\n",
      "“p-value will be approximate in the presence of ties”"
     ]
    },
    {
     "data": {
      "text/plain": [
       "\n",
       "\tTwo-sample Kolmogorov-Smirnov test\n",
       "\n",
       "data:  ORF_dib and ORF_ncgr\n",
       "D = 0.2681, p-value < 2.2e-16\n",
       "alternative hypothesis: two-sided\n"
      ]
     },
     "metadata": {},
     "output_type": "display_data"
    }
   ],
   "source": [
    "ks.test(ORF_dib,ORF_ncgr)"
   ]
  },
  {
   "cell_type": "markdown",
   "metadata": {},
   "source": [
    "# Combine assembly metrics and visualize with PCA"
   ]
  },
  {
   "cell_type": "code",
   "execution_count": 28,
   "metadata": {},
   "outputs": [
    {
     "data": {
      "text/html": [
       "<ol class=list-inline>\n",
       "\t<li>'SampleName'</li>\n",
       "\t<li>'Phylum'</li>\n",
       "\t<li>'n_seqs'</li>\n",
       "\t<li>'largest.x'</li>\n",
       "\t<li>'n_bases.x'</li>\n",
       "\t<li>'mean_len.x'</li>\n",
       "\t<li>'n_under_200.x'</li>\n",
       "\t<li>'n_over_1k.x'</li>\n",
       "\t<li>'n_over_10k.x'</li>\n",
       "\t<li>'n_with_orf.x'</li>\n",
       "\t<li>'gc.x'</li>\n",
       "\t<li>'gc_skew.x'</li>\n",
       "\t<li>'cpg_ratio.x'</li>\n",
       "\t<li>'bases_n.x'</li>\n",
       "\t<li>'proportion_n.x'</li>\n",
       "\t<li>'linguistic_complexity.x'</li>\n",
       "\t<li>'fragments.x'</li>\n",
       "\t<li>'fragments_mapped.x'</li>\n",
       "\t<li>'p_fragments_mapped.x'</li>\n",
       "\t<li>'good_mappings.x'</li>\n",
       "\t<li>'p_good_mapping.x'</li>\n",
       "\t<li>'bad_mappings.x'</li>\n",
       "\t<li>'potential_bridges.x'</li>\n",
       "\t<li>'bases_uncovered.x'</li>\n",
       "\t<li>'p_bases_uncovered.x'</li>\n",
       "\t<li>'contigs_uncovbase.x'</li>\n",
       "\t<li>'p_contigs_uncovbase.x'</li>\n",
       "\t<li>'contigs_uncovered.x'</li>\n",
       "\t<li>'p_contigs_uncovered.x'</li>\n",
       "\t<li>'contigs_lowcovered.x'</li>\n",
       "\t<li>'p_contigs_lowcovered.x'</li>\n",
       "\t<li>'contigs_segmented.x'</li>\n",
       "\t<li>'p_contigs_segmented.x'</li>\n",
       "\t<li>'score'</li>\n",
       "\t<li>'cutoff.x'</li>\n",
       "\t<li>'assembly.y'</li>\n",
       "\t<li>'n_seqs.y'</li>\n",
       "\t<li>'smallest.y'</li>\n",
       "\t<li>'largest.y'</li>\n",
       "\t<li>'n_bases.y'</li>\n",
       "\t<li>'mean_len.y'</li>\n",
       "\t<li>'n_under_200.y'</li>\n",
       "\t<li>'n_over_1k.y'</li>\n",
       "\t<li>'n_over_10k.y'</li>\n",
       "\t<li>'n_with_orf.y'</li>\n",
       "\t<li>'mean_orf_percent.y'</li>\n",
       "\t<li>'n90.y'</li>\n",
       "\t<li>'n70.y'</li>\n",
       "\t<li>'n50.y'</li>\n",
       "\t<li>'n30.y'</li>\n",
       "\t<li>'n10.y'</li>\n",
       "\t<li>'gc.y'</li>\n",
       "\t<li>'gc_skew.y'</li>\n",
       "\t<li>'at_skew.y'</li>\n",
       "\t<li>'cpg_ratio.y'</li>\n",
       "\t<li>'bases_n.y'</li>\n",
       "\t<li>'proportion_n.y'</li>\n",
       "\t<li>'linguistic_complexity.y'</li>\n",
       "\t<li>'fragments.y'</li>\n",
       "\t<li>'fragments_mapped.y'</li>\n",
       "\t<li>'p_fragments_mapped.y'</li>\n",
       "\t<li>'good_mappings.y'</li>\n",
       "\t<li>'p_good_mapping.y'</li>\n",
       "\t<li>'bad_mappings.y'</li>\n",
       "\t<li>'potential_bridges.y'</li>\n",
       "\t<li>'p_bases_uncovered.y'</li>\n",
       "</ol>\n"
      ],
      "text/latex": [
       "\\begin{enumerate*}\n",
       "\\item 'SampleName'\n",
       "\\item 'Phylum'\n",
       "\\item 'n\\_seqs'\n",
       "\\item 'largest.x'\n",
       "\\item 'n\\_bases.x'\n",
       "\\item 'mean\\_len.x'\n",
       "\\item 'n\\_under\\_200.x'\n",
       "\\item 'n\\_over\\_1k.x'\n",
       "\\item 'n\\_over\\_10k.x'\n",
       "\\item 'n\\_with\\_orf.x'\n",
       "\\item 'gc.x'\n",
       "\\item 'gc\\_skew.x'\n",
       "\\item 'cpg\\_ratio.x'\n",
       "\\item 'bases\\_n.x'\n",
       "\\item 'proportion\\_n.x'\n",
       "\\item 'linguistic\\_complexity.x'\n",
       "\\item 'fragments.x'\n",
       "\\item 'fragments\\_mapped.x'\n",
       "\\item 'p\\_fragments\\_mapped.x'\n",
       "\\item 'good\\_mappings.x'\n",
       "\\item 'p\\_good\\_mapping.x'\n",
       "\\item 'bad\\_mappings.x'\n",
       "\\item 'potential\\_bridges.x'\n",
       "\\item 'bases\\_uncovered.x'\n",
       "\\item 'p\\_bases\\_uncovered.x'\n",
       "\\item 'contigs\\_uncovbase.x'\n",
       "\\item 'p\\_contigs\\_uncovbase.x'\n",
       "\\item 'contigs\\_uncovered.x'\n",
       "\\item 'p\\_contigs\\_uncovered.x'\n",
       "\\item 'contigs\\_lowcovered.x'\n",
       "\\item 'p\\_contigs\\_lowcovered.x'\n",
       "\\item 'contigs\\_segmented.x'\n",
       "\\item 'p\\_contigs\\_segmented.x'\n",
       "\\item 'score'\n",
       "\\item 'cutoff.x'\n",
       "\\item 'assembly.y'\n",
       "\\item 'n\\_seqs.y'\n",
       "\\item 'smallest.y'\n",
       "\\item 'largest.y'\n",
       "\\item 'n\\_bases.y'\n",
       "\\item 'mean\\_len.y'\n",
       "\\item 'n\\_under\\_200.y'\n",
       "\\item 'n\\_over\\_1k.y'\n",
       "\\item 'n\\_over\\_10k.y'\n",
       "\\item 'n\\_with\\_orf.y'\n",
       "\\item 'mean\\_orf\\_percent.y'\n",
       "\\item 'n90.y'\n",
       "\\item 'n70.y'\n",
       "\\item 'n50.y'\n",
       "\\item 'n30.y'\n",
       "\\item 'n10.y'\n",
       "\\item 'gc.y'\n",
       "\\item 'gc\\_skew.y'\n",
       "\\item 'at\\_skew.y'\n",
       "\\item 'cpg\\_ratio.y'\n",
       "\\item 'bases\\_n.y'\n",
       "\\item 'proportion\\_n.y'\n",
       "\\item 'linguistic\\_complexity.y'\n",
       "\\item 'fragments.y'\n",
       "\\item 'fragments\\_mapped.y'\n",
       "\\item 'p\\_fragments\\_mapped.y'\n",
       "\\item 'good\\_mappings.y'\n",
       "\\item 'p\\_good\\_mapping.y'\n",
       "\\item 'bad\\_mappings.y'\n",
       "\\item 'potential\\_bridges.y'\n",
       "\\item 'p\\_bases\\_uncovered.y'\n",
       "\\end{enumerate*}\n"
      ],
      "text/markdown": [
       "1. 'SampleName'\n",
       "2. 'Phylum'\n",
       "3. 'n_seqs'\n",
       "4. 'largest.x'\n",
       "5. 'n_bases.x'\n",
       "6. 'mean_len.x'\n",
       "7. 'n_under_200.x'\n",
       "8. 'n_over_1k.x'\n",
       "9. 'n_over_10k.x'\n",
       "10. 'n_with_orf.x'\n",
       "11. 'gc.x'\n",
       "12. 'gc_skew.x'\n",
       "13. 'cpg_ratio.x'\n",
       "14. 'bases_n.x'\n",
       "15. 'proportion_n.x'\n",
       "16. 'linguistic_complexity.x'\n",
       "17. 'fragments.x'\n",
       "18. 'fragments_mapped.x'\n",
       "19. 'p_fragments_mapped.x'\n",
       "20. 'good_mappings.x'\n",
       "21. 'p_good_mapping.x'\n",
       "22. 'bad_mappings.x'\n",
       "23. 'potential_bridges.x'\n",
       "24. 'bases_uncovered.x'\n",
       "25. 'p_bases_uncovered.x'\n",
       "26. 'contigs_uncovbase.x'\n",
       "27. 'p_contigs_uncovbase.x'\n",
       "28. 'contigs_uncovered.x'\n",
       "29. 'p_contigs_uncovered.x'\n",
       "30. 'contigs_lowcovered.x'\n",
       "31. 'p_contigs_lowcovered.x'\n",
       "32. 'contigs_segmented.x'\n",
       "33. 'p_contigs_segmented.x'\n",
       "34. 'score'\n",
       "35. 'cutoff.x'\n",
       "36. 'assembly.y'\n",
       "37. 'n_seqs.y'\n",
       "38. 'smallest.y'\n",
       "39. 'largest.y'\n",
       "40. 'n_bases.y'\n",
       "41. 'mean_len.y'\n",
       "42. 'n_under_200.y'\n",
       "43. 'n_over_1k.y'\n",
       "44. 'n_over_10k.y'\n",
       "45. 'n_with_orf.y'\n",
       "46. 'mean_orf_percent.y'\n",
       "47. 'n90.y'\n",
       "48. 'n70.y'\n",
       "49. 'n50.y'\n",
       "50. 'n30.y'\n",
       "51. 'n10.y'\n",
       "52. 'gc.y'\n",
       "53. 'gc_skew.y'\n",
       "54. 'at_skew.y'\n",
       "55. 'cpg_ratio.y'\n",
       "56. 'bases_n.y'\n",
       "57. 'proportion_n.y'\n",
       "58. 'linguistic_complexity.y'\n",
       "59. 'fragments.y'\n",
       "60. 'fragments_mapped.y'\n",
       "61. 'p_fragments_mapped.y'\n",
       "62. 'good_mappings.y'\n",
       "63. 'p_good_mapping.y'\n",
       "64. 'bad_mappings.y'\n",
       "65. 'potential_bridges.y'\n",
       "66. 'p_bases_uncovered.y'\n",
       "\n",
       "\n"
      ],
      "text/plain": [
       " [1] \"SampleName\"              \"Phylum\"                 \n",
       " [3] \"n_seqs\"                  \"largest.x\"              \n",
       " [5] \"n_bases.x\"               \"mean_len.x\"             \n",
       " [7] \"n_under_200.x\"           \"n_over_1k.x\"            \n",
       " [9] \"n_over_10k.x\"            \"n_with_orf.x\"           \n",
       "[11] \"gc.x\"                    \"gc_skew.x\"              \n",
       "[13] \"cpg_ratio.x\"             \"bases_n.x\"              \n",
       "[15] \"proportion_n.x\"          \"linguistic_complexity.x\"\n",
       "[17] \"fragments.x\"             \"fragments_mapped.x\"     \n",
       "[19] \"p_fragments_mapped.x\"    \"good_mappings.x\"        \n",
       "[21] \"p_good_mapping.x\"        \"bad_mappings.x\"         \n",
       "[23] \"potential_bridges.x\"     \"bases_uncovered.x\"      \n",
       "[25] \"p_bases_uncovered.x\"     \"contigs_uncovbase.x\"    \n",
       "[27] \"p_contigs_uncovbase.x\"   \"contigs_uncovered.x\"    \n",
       "[29] \"p_contigs_uncovered.x\"   \"contigs_lowcovered.x\"   \n",
       "[31] \"p_contigs_lowcovered.x\"  \"contigs_segmented.x\"    \n",
       "[33] \"p_contigs_segmented.x\"   \"score\"                  \n",
       "[35] \"cutoff.x\"                \"assembly.y\"             \n",
       "[37] \"n_seqs.y\"                \"smallest.y\"             \n",
       "[39] \"largest.y\"               \"n_bases.y\"              \n",
       "[41] \"mean_len.y\"              \"n_under_200.y\"          \n",
       "[43] \"n_over_1k.y\"             \"n_over_10k.y\"           \n",
       "[45] \"n_with_orf.y\"            \"mean_orf_percent.y\"     \n",
       "[47] \"n90.y\"                   \"n70.y\"                  \n",
       "[49] \"n50.y\"                   \"n30.y\"                  \n",
       "[51] \"n10.y\"                   \"gc.y\"                   \n",
       "[53] \"gc_skew.y\"               \"at_skew.y\"              \n",
       "[55] \"cpg_ratio.y\"             \"bases_n.y\"              \n",
       "[57] \"proportion_n.y\"          \"linguistic_complexity.y\"\n",
       "[59] \"fragments.y\"             \"fragments_mapped.y\"     \n",
       "[61] \"p_fragments_mapped.y\"    \"good_mappings.y\"        \n",
       "[63] \"p_good_mapping.y\"        \"bad_mappings.y\"         \n",
       "[65] \"potential_bridges.y\"     \"p_bases_uncovered.y\"    "
      ]
     },
     "metadata": {},
     "output_type": "display_data"
    },
    {
     "data": {
      "text/html": [
       "<table>\n",
       "<thead><tr><th></th><th scope=col>n_seqs</th><th scope=col>largest.x</th><th scope=col>n_bases.x</th><th scope=col>mean_len.x</th><th scope=col>n_under_200.x</th><th scope=col>n_over_1k.x</th><th scope=col>n_over_10k.x</th><th scope=col>n_with_orf.x</th><th scope=col>gc.x</th><th scope=col>gc_skew.x</th><th scope=col>⋯</th><th scope=col>proportion_n.y</th><th scope=col>linguistic_complexity.y</th><th scope=col>fragments.y</th><th scope=col>fragments_mapped.y</th><th scope=col>p_fragments_mapped.y</th><th scope=col>good_mappings.y</th><th scope=col>p_good_mapping.y</th><th scope=col>bad_mappings.y</th><th scope=col>potential_bridges.y</th><th scope=col>p_bases_uncovered.y</th></tr></thead>\n",
       "<tbody>\n",
       "\t<tr><th scope=row>MMETSP0004</th><td> 33559   </td><td>17276    </td><td> 27919170</td><td> 831.9429</td><td>0        </td><td> 9448    </td><td>  3      </td><td>16820    </td><td>0.47964  </td><td> 0.01147 </td><td>⋯        </td><td>0.00143  </td><td>0.23382  </td><td>24700588 </td><td>17483756 </td><td>0.70783  </td><td>14000582 </td><td>0.56681  </td><td> 3483174 </td><td> 6275    </td><td>0.14471  </td></tr>\n",
       "\t<tr><th scope=row>MMETSP0005</th><td> 32824   </td><td>11058    </td><td> 27684811</td><td> 843.4320</td><td>0        </td><td> 9573    </td><td>  2      </td><td>16407    </td><td>0.47800  </td><td> 0.01152 </td><td>⋯        </td><td>0.00155  </td><td>0.23123  </td><td>28054262 </td><td>19555538 </td><td>0.69706  </td><td>16011104 </td><td>0.57072  </td><td> 3544434 </td><td> 5659    </td><td>0.14175  </td></tr>\n",
       "\t<tr><th scope=row>MMETSP0006</th><td> 47463   </td><td>15370    </td><td> 33886777</td><td> 713.9620</td><td>0        </td><td>10216    </td><td>  2      </td><td>20242    </td><td>0.58919  </td><td> 0.01182 </td><td>⋯        </td><td>0.00163  </td><td>0.17758  </td><td>21377723 </td><td>15291846 </td><td>0.71532  </td><td>11940030 </td><td>0.55853  </td><td> 3351816 </td><td> 4603    </td><td>0.13049  </td></tr>\n",
       "\t<tr><th scope=row>MMETSP0007</th><td> 30922   </td><td> 6567    </td><td> 16617786</td><td> 537.4098</td><td>0        </td><td> 3245    </td><td>  0      </td><td> 7980    </td><td>0.56437  </td><td> 0.00932 </td><td>⋯        </td><td>0.00317  </td><td>0.10356  </td><td>20169675 </td><td> 8892781 </td><td>0.44090  </td><td> 5852043 </td><td>0.29014  </td><td> 3040738 </td><td> 2278    </td><td>0.00653  </td></tr>\n",
       "\t<tr><th scope=row>MMETSP0009</th><td> 54275   </td><td>10587    </td><td> 35069494</td><td> 646.1445</td><td>0        </td><td> 9649    </td><td>  1      </td><td>18643    </td><td>0.49247  </td><td> 0.01043 </td><td>⋯        </td><td>0.00356  </td><td>0.15553  </td><td>15804295 </td><td>11455756 </td><td>0.72485  </td><td> 8522056 </td><td>0.53922  </td><td> 2933700 </td><td> 7827    </td><td>0.00669  </td></tr>\n",
       "\t<tr><th scope=row>MMETSP0010</th><td> 43375   </td><td>13866    </td><td> 52360772</td><td>1207.1648</td><td>0        </td><td>20418    </td><td> 25      </td><td>25589    </td><td>0.45756  </td><td> 0.00607 </td><td>⋯        </td><td>0.00092  </td><td>0.18906  </td><td>11427243 </td><td> 8342075 </td><td>0.73002  </td><td> 6395406 </td><td>0.55966  </td><td> 1946669 </td><td> 1676    </td><td>0.09112  </td></tr>\n",
       "</tbody>\n",
       "</table>\n"
      ],
      "text/latex": [
       "\\begin{tabular}{r|llllllllllllllllllllllllllllllllllllllllllllllllllllllllllllllll}\n",
       "  & n\\_seqs & largest.x & n\\_bases.x & mean\\_len.x & n\\_under\\_200.x & n\\_over\\_1k.x & n\\_over\\_10k.x & n\\_with\\_orf.x & gc.x & gc\\_skew.x & ⋯ & proportion\\_n.y & linguistic\\_complexity.y & fragments.y & fragments\\_mapped.y & p\\_fragments\\_mapped.y & good\\_mappings.y & p\\_good\\_mapping.y & bad\\_mappings.y & potential\\_bridges.y & p\\_bases\\_uncovered.y\\\\\n",
       "\\hline\n",
       "\tMMETSP0004 &  33559    & 17276     &  27919170 &  831.9429 & 0         &  9448     &   3       & 16820     & 0.47964   &  0.01147  & ⋯         & 0.00143   & 0.23382   & 24700588  & 17483756  & 0.70783   & 14000582  & 0.56681   &  3483174  &  6275     & 0.14471  \\\\\n",
       "\tMMETSP0005 &  32824    & 11058     &  27684811 &  843.4320 & 0         &  9573     &   2       & 16407     & 0.47800   &  0.01152  & ⋯         & 0.00155   & 0.23123   & 28054262  & 19555538  & 0.69706   & 16011104  & 0.57072   &  3544434  &  5659     & 0.14175  \\\\\n",
       "\tMMETSP0006 &  47463    & 15370     &  33886777 &  713.9620 & 0         & 10216     &   2       & 20242     & 0.58919   &  0.01182  & ⋯         & 0.00163   & 0.17758   & 21377723  & 15291846  & 0.71532   & 11940030  & 0.55853   &  3351816  &  4603     & 0.13049  \\\\\n",
       "\tMMETSP0007 &  30922    &  6567     &  16617786 &  537.4098 & 0         &  3245     &   0       &  7980     & 0.56437   &  0.00932  & ⋯         & 0.00317   & 0.10356   & 20169675  &  8892781  & 0.44090   &  5852043  & 0.29014   &  3040738  &  2278     & 0.00653  \\\\\n",
       "\tMMETSP0009 &  54275    & 10587     &  35069494 &  646.1445 & 0         &  9649     &   1       & 18643     & 0.49247   &  0.01043  & ⋯         & 0.00356   & 0.15553   & 15804295  & 11455756  & 0.72485   &  8522056  & 0.53922   &  2933700  &  7827     & 0.00669  \\\\\n",
       "\tMMETSP0010 &  43375    & 13866     &  52360772 & 1207.1648 & 0         & 20418     &  25       & 25589     & 0.45756   &  0.00607  & ⋯         & 0.00092   & 0.18906   & 11427243  &  8342075  & 0.73002   &  6395406  & 0.55966   &  1946669  &  1676     & 0.09112  \\\\\n",
       "\\end{tabular}\n"
      ],
      "text/markdown": [
       "\n",
       "| <!--/--> | n_seqs | largest.x | n_bases.x | mean_len.x | n_under_200.x | n_over_1k.x | n_over_10k.x | n_with_orf.x | gc.x | gc_skew.x | ⋯ | proportion_n.y | linguistic_complexity.y | fragments.y | fragments_mapped.y | p_fragments_mapped.y | good_mappings.y | p_good_mapping.y | bad_mappings.y | potential_bridges.y | p_bases_uncovered.y | \n",
       "|---|---|---|---|---|---|\n",
       "| MMETSP0004 |  33559    | 17276     |  27919170 |  831.9429 | 0         |  9448     |   3       | 16820     | 0.47964   |  0.01147  | ⋯         | 0.00143   | 0.23382   | 24700588  | 17483756  | 0.70783   | 14000582  | 0.56681   |  3483174  |  6275     | 0.14471   | \n",
       "| MMETSP0005 |  32824    | 11058     |  27684811 |  843.4320 | 0         |  9573     |   2       | 16407     | 0.47800   |  0.01152  | ⋯         | 0.00155   | 0.23123   | 28054262  | 19555538  | 0.69706   | 16011104  | 0.57072   |  3544434  |  5659     | 0.14175   | \n",
       "| MMETSP0006 |  47463    | 15370     |  33886777 |  713.9620 | 0         | 10216     |   2       | 20242     | 0.58919   |  0.01182  | ⋯         | 0.00163   | 0.17758   | 21377723  | 15291846  | 0.71532   | 11940030  | 0.55853   |  3351816  |  4603     | 0.13049   | \n",
       "| MMETSP0007 |  30922    |  6567     |  16617786 |  537.4098 | 0         |  3245     |   0       |  7980     | 0.56437   |  0.00932  | ⋯         | 0.00317   | 0.10356   | 20169675  |  8892781  | 0.44090   |  5852043  | 0.29014   |  3040738  |  2278     | 0.00653   | \n",
       "| MMETSP0009 |  54275    | 10587     |  35069494 |  646.1445 | 0         |  9649     |   1       | 18643     | 0.49247   |  0.01043  | ⋯         | 0.00356   | 0.15553   | 15804295  | 11455756  | 0.72485   |  8522056  | 0.53922   |  2933700  |  7827     | 0.00669   | \n",
       "| MMETSP0010 |  43375    | 13866     |  52360772 | 1207.1648 | 0         | 20418     |  25       | 25589     | 0.45756   |  0.00607  | ⋯         | 0.00092   | 0.18906   | 11427243  |  8342075  | 0.73002   |  6395406  | 0.55966   |  1946669  |  1676     | 0.09112   | \n",
       "\n",
       "\n"
      ],
      "text/plain": [
       "           n_seqs largest.x n_bases.x mean_len.x n_under_200.x n_over_1k.x\n",
       "MMETSP0004  33559 17276      27919170  831.9429  0              9448      \n",
       "MMETSP0005  32824 11058      27684811  843.4320  0              9573      \n",
       "MMETSP0006  47463 15370      33886777  713.9620  0             10216      \n",
       "MMETSP0007  30922  6567      16617786  537.4098  0              3245      \n",
       "MMETSP0009  54275 10587      35069494  646.1445  0              9649      \n",
       "MMETSP0010  43375 13866      52360772 1207.1648  0             20418      \n",
       "           n_over_10k.x n_with_orf.x gc.x    gc_skew.x ⋯ proportion_n.y\n",
       "MMETSP0004   3          16820        0.47964  0.01147  ⋯ 0.00143       \n",
       "MMETSP0005   2          16407        0.47800  0.01152  ⋯ 0.00155       \n",
       "MMETSP0006   2          20242        0.58919  0.01182  ⋯ 0.00163       \n",
       "MMETSP0007   0           7980        0.56437  0.00932  ⋯ 0.00317       \n",
       "MMETSP0009   1          18643        0.49247  0.01043  ⋯ 0.00356       \n",
       "MMETSP0010  25          25589        0.45756  0.00607  ⋯ 0.00092       \n",
       "           linguistic_complexity.y fragments.y fragments_mapped.y\n",
       "MMETSP0004 0.23382                 24700588    17483756          \n",
       "MMETSP0005 0.23123                 28054262    19555538          \n",
       "MMETSP0006 0.17758                 21377723    15291846          \n",
       "MMETSP0007 0.10356                 20169675     8892781          \n",
       "MMETSP0009 0.15553                 15804295    11455756          \n",
       "MMETSP0010 0.18906                 11427243     8342075          \n",
       "           p_fragments_mapped.y good_mappings.y p_good_mapping.y bad_mappings.y\n",
       "MMETSP0004 0.70783              14000582        0.56681           3483174      \n",
       "MMETSP0005 0.69706              16011104        0.57072           3544434      \n",
       "MMETSP0006 0.71532              11940030        0.55853           3351816      \n",
       "MMETSP0007 0.44090               5852043        0.29014           3040738      \n",
       "MMETSP0009 0.72485               8522056        0.53922           2933700      \n",
       "MMETSP0010 0.73002               6395406        0.55966           1946669      \n",
       "           potential_bridges.y p_bases_uncovered.y\n",
       "MMETSP0004  6275               0.14471            \n",
       "MMETSP0005  5659               0.14175            \n",
       "MMETSP0006  4603               0.13049            \n",
       "MMETSP0007  2278               0.00653            \n",
       "MMETSP0009  7827               0.00669            \n",
       "MMETSP0010  1676               0.09112            "
      ]
     },
     "metadata": {},
     "output_type": "display_data"
    },
    {
     "ename": "ERROR",
     "evalue": "Error in x + 1: non-numeric argument to binary operator\n",
     "output_type": "error",
     "traceback": [
      "Error in x + 1: non-numeric argument to binary operator\nTraceback:\n"
     ]
    }
   ],
   "source": [
    "tax_raw <- read.csv(\"../assembly_evaluation_data/MMETSP_all_evaluation_matrix.csv\")\n",
    "special_flowers = c(\"MMETSP0693\",\"MMETSP1019\",\"MMETSP0923\",\"MMETSP0008\",\"MMETSP1002\",\"MMETSP1325\",\"MMETSP1018\",\"MMETSP1346\",\"MMETSP0088\",\"MMETSP0092\",\"MMETSP0717\",\"MMETSP0223\",\"MMETSP0115\",\"MMETSP0196\",\"MMETSP0197\",\"MMETSP0398\",\"MMETSP0399\",\"MMETSP0922\")\n",
    "tax_raw <- tax_raw[!tax_raw$SampleName %in% special_flowers,]\n",
    "#colnames(tax_raw)\n",
    "# combine assembly metrics\n",
    "x<-tax_raw[,c(2,34,45,47,48,49,50,51,52,53,60,61,63,64,65,66,67,68,69,70,71,72,73,74,75,76,77:84,86:116,118)]\n",
    "#dim(x)\n",
    "# only top 7 taxa\n",
    "sub_phy<-c(\"Bacillariophyta\",\"Dinophyta\",\"Ochrophyta\",\"Haptophyta\",\"Ciliophora\",\"Chlorophyta\",\"Cryptophyta\")\n",
    "sub<-x[x$Phylum %in% sub_phy,]\n",
    "sub$Phylum <- factor(sub$Phylum)\n",
    "#dim(sub)\n",
    "#length(levels(sub$Phylum))\n",
    "# These are the assembly metrics used to generate the PCA\n",
    "colnames(sub)\n",
    "rownames(sub)<-sub$SampleName\n",
    "sub<-na.omit(sub)\n",
    "x<-sub[,c(3:66)]\n",
    "x<-as.matrix(x)\n",
    "head(x)\n",
    "x_plus<- x + 1\n",
    "x_log <-log10(x_plus)\n",
    "#dim(x_log)\n",
    "x_log <- na.omit(x_log)\n",
    "dim(x_log)\n",
    "pca = prcomp(x_log)\n",
    "names = rownames(x)\n",
    "fac= names\n",
    "plot(pca$x[,1:2], col=Cols(sub$Phylum), pch=19,\n",
    "     xlab=\"PC1\",ylab=\"PC2\")\n",
    "legend(-20,0.75,legend=unique(as.character(sub$Phylum)),col=rainbow(length(unique(sub$Phylum))),cex=0.8, pch=19)"
   ]
  },
  {
   "cell_type": "code",
   "execution_count": null,
   "metadata": {
    "collapsed": true
   },
   "outputs": [],
   "source": []
  }
 ],
 "metadata": {
  "anaconda-cloud": {},
  "kernelspec": {
   "display_name": "R",
   "language": "R",
   "name": "ir"
  },
  "language_info": {
   "codemirror_mode": "r",
   "file_extension": ".r",
   "mimetype": "text/x-r-source",
   "name": "R",
   "pygments_lexer": "r",
   "version": "3.4.1"
  }
 },
 "nbformat": 4,
 "nbformat_minor": 2
}
